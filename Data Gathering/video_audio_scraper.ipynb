{
 "cells": [
  {
   "cell_type": "code",
   "execution_count": 1,
   "id": "f4ada479",
   "metadata": {
    "scrolled": true
   },
   "outputs": [
    {
     "name": "stdout",
     "output_type": "stream",
     "text": [
      "Requirement already satisfied: matplotlib in ./miniconda3/lib/python3.8/site-packages (3.6.2)\n",
      "Requirement already satisfied: numpy>=1.19 in ./miniconda3/lib/python3.8/site-packages (from matplotlib) (1.23.4)\n",
      "Requirement already satisfied: cycler>=0.10 in ./miniconda3/lib/python3.8/site-packages (from matplotlib) (0.11.0)\n",
      "Requirement already satisfied: kiwisolver>=1.0.1 in ./miniconda3/lib/python3.8/site-packages (from matplotlib) (1.4.4)\n",
      "Requirement already satisfied: packaging>=20.0 in ./miniconda3/lib/python3.8/site-packages (from matplotlib) (21.3)\n",
      "Requirement already satisfied: python-dateutil>=2.7 in ./miniconda3/lib/python3.8/site-packages (from matplotlib) (2.8.2)\n",
      "Requirement already satisfied: pillow>=6.2.0 in ./miniconda3/lib/python3.8/site-packages (from matplotlib) (9.3.0)\n",
      "Requirement already satisfied: contourpy>=1.0.1 in ./miniconda3/lib/python3.8/site-packages (from matplotlib) (1.0.6)\n",
      "Requirement already satisfied: pyparsing>=2.2.1 in ./miniconda3/lib/python3.8/site-packages (from matplotlib) (3.0.9)\n",
      "Requirement already satisfied: fonttools>=4.22.0 in ./miniconda3/lib/python3.8/site-packages (from matplotlib) (4.38.0)\n",
      "Requirement already satisfied: six>=1.5 in ./miniconda3/lib/python3.8/site-packages (from python-dateutil>=2.7->matplotlib) (1.16.0)\n",
      "Requirement already satisfied: yt-dlp in ./miniconda3/lib/python3.8/site-packages (2022.11.11)\n",
      "Requirement already satisfied: certifi in ./miniconda3/lib/python3.8/site-packages (from yt-dlp) (2022.9.24)\n",
      "Requirement already satisfied: brotli in ./miniconda3/lib/python3.8/site-packages (from yt-dlp) (1.0.9)\n",
      "Requirement already satisfied: pycryptodomex in ./miniconda3/lib/python3.8/site-packages (from yt-dlp) (3.15.0)\n",
      "Requirement already satisfied: websockets in ./miniconda3/lib/python3.8/site-packages (from yt-dlp) (10.4)\n",
      "Requirement already satisfied: mutagen in ./miniconda3/lib/python3.8/site-packages (from yt-dlp) (1.46.0)\n",
      "Requirement already satisfied: ffmpeg-python in ./miniconda3/lib/python3.8/site-packages (0.2.0)\n",
      "Requirement already satisfied: future in ./miniconda3/lib/python3.8/site-packages (from ffmpeg-python) (0.18.2)\n"
     ]
    }
   ],
   "source": [
    "import yt_dlp\n",
    "import matplotlib\n",
    "from yt_dlp import YoutubeDL"
   ]
  },
  {
   "cell_type": "code",
   "execution_count": null,
   "id": "303342d0",
   "metadata": {},
   "outputs": [],
   "source": [
    "# load clean links from file"
   ]
  },
  {
   "cell_type": "code",
   "execution_count": null,
   "id": "df0e1939",
   "metadata": {},
   "outputs": [],
   "source": [
    "# for every link: [use YT-DLP script to donwload video at correct resolution adn ffmpeg to scale] []\n"
   ]
  }
 ],
 "metadata": {
  "kernelspec": {
   "display_name": "Python 3 (ipykernel)",
   "language": "python",
   "name": "python3"
  },
  "language_info": {
   "codemirror_mode": {
    "name": "ipython",
    "version": 3
   },
   "file_extension": ".py",
   "mimetype": "text/x-python",
   "name": "python",
   "nbconvert_exporter": "python",
   "pygments_lexer": "ipython3",
   "version": "3.8.13"
  },
  "vscode": {
   "interpreter": {
    "hash": "bf4fd4bcaaf3587b6a95c3ea7f143f558baf7c566ac751c622d37adb5d851f0f"
   }
  }
 },
 "nbformat": 4,
 "nbformat_minor": 5
}
