{
 "cells": [
  {
   "cell_type": "code",
   "execution_count": null,
   "id": "928bec0e",
   "metadata": {},
   "outputs": [],
   "source": [
    "if True:\n",
    "    !pip install yt_dlp\n",
    "    #!pip uninstall torch\n",
    "    # os.system('c: && cd ProgramData/Anaconda3 && python -m pip install --force-reinstall torch torchvision torchaudio --extra-index-url https://download.pytorch.org/whl/cu117')\n",
    "    #!pip uninstall torchvision\n",
    "    #!pip uninstall torchaudio\n",
    "    !pip install --force-reinstall torch torchvision torchaudio --extra-index-url https://download.pytorch.org/whl/cu117\n",
    "    !pip install ftfy regex tqdm\n",
    "    !pip install https://github.com/aboSamoor/pycld2/zipball/e3ac86ed4d4902e912691c1531d0c5645382a726\n",
    "    !pip install git+https://github.com/openai/CLIP.git\n",
    "    !pip install transformers\n",
    "    !pip install sacremoses\n",
    "    !pip install textblob\n",
    "    !pip install pickle\n",
    "    !pip install matplotlib\n",
    "    \n",
    "\n",
    "import yt_dlp\n",
    "import matplotlib\n",
    "import torch as th\n",
    "import cv2\n",
    "import os\n",
    "import pickle\n",
    "import pycld2\n",
    "import clip\n",
    "from PIL import Image\n",
    "from sklearn import svm\n",
    "import numpy as np\n",
    "\n",
    "\n"
   ]
  },
  {
   "cell_type": "code",
   "execution_count": 2,
   "id": "ce3a7f7f",
   "metadata": {},
   "outputs": [],
   "source": [
    "############################################################################################### The point of the following code is to get a bunch of links to clean Minecraft videos. get the initial links from YT search and manual selection. account for whats already been seen before adding something."
   ]
  },
  {
   "cell_type": "code",
   "execution_count": 3,
   "id": "ca8053a0",
   "metadata": {},
   "outputs": [],
   "source": [
    "all_links_seen = []\n",
    "spam_links=[]\n",
    "ham_links=[]\n",
    "downloaded_videos=[]"
   ]
  },
  {
   "cell_type": "code",
   "execution_count": 4,
   "id": "9b70bbda",
   "metadata": {},
   "outputs": [],
   "source": [
    "# check which links are already  HAM and SPAM classified\n",
    "# get all downloaded video (720 20 hz 10 mins)\n",
    "\n",
    "with open('DATASET/all/ham_video.txt','r') as ham_videos:\n",
    "    ham_videos = ham_videos.read().split('\\n')\n",
    "with open('DATASET/all/ham_transcript.txt','r') as ham_transcript:\n",
    "    ham_transcript = ham_transcript.read().split('\\n')\n",
    "with open('DATASET/all/ham_metadata.txt','r') as ham_metadata:\n",
    "    ham_metadata = ham_metadata.read().split('\\n')\n",
    "\n",
    "ham_links = list(set(ham_videos).union(set(ham_transcript)))\n",
    "for link in ham_links:\n",
    "    if not link in all_links_seen:\n",
    "        all_links_seen.append(link)\n",
    "\n",
    "\n",
    "# gt list of already dientifited spam\n",
    "with open('DATASET/all/spam_video.txt', 'r') as file:\n",
    "    spam_video = file.read().split('\\n')\n",
    "with open('DATASET/all/spam_transcript.txt', 'r') as file:\n",
    "    spam_transcript = file.read().split('\\n')\n",
    "with open('DATASET/all/spam_metadata.txt','r') as spam_metadata:\n",
    "    spam_metadata = spam_metadata.read().split('\\n')\n",
    "\n",
    "spam_links = list(set(spam_transcript).union(set(spam_video)).union(set(spam_metadata)))\n",
    "for link in spam_links:\n",
    "    if not link in all_links_seen:\n",
    "        all_links_seen.append(link)"
   ]
  },
  {
   "cell_type": "code",
   "execution_count": 5,
   "id": "b743cca5",
   "metadata": {
    "scrolled": true
   },
   "outputs": [
    {
     "data": {
      "text/plain": [
       "\"# LOAD VIDEO DETAILS FROM FILE\\nimport pickle\\n#pickle.dump(all_videos_to_search, open('manual_metad','wb'))\\nall_videos_to_search = pickle.load(open('manual_metad','rb'))\""
      ]
     },
     "execution_count": 5,
     "metadata": {},
     "output_type": "execute_result"
    }
   ],
   "source": [
    "# MANUAL LINKS IMPORT\n",
    "# get the list of manually added links to check, get video data, add to video list\n",
    "with open('spamham_samples/manual_clean_ids.txt', 'r') as file:\n",
    "    manual_links = file.read().split('\\n')\n",
    "\n",
    "# add manually selected links to list of links to check for download\n",
    "# if this manual link to add was already added by all seen links, done add it again\n",
    "for link in manual_links:\n",
    "    if not link in all_links_seen:\n",
    "        all_links_seen.append(link)\n",
    "\n",
    "\n",
    "\"\"\"# LOAD VIDEO DETAILS FROM FILE\n",
    "import pickle\n",
    "#pickle.dump(all_videos_to_search, open('manual_metad','wb'))\n",
    "all_videos_to_search = pickle.load(open('manual_metad','rb'))\"\"\""
   ]
  },
  {
   "cell_type": "code",
   "execution_count": 6,
   "metadata": {},
   "outputs": [],
   "source": [
    "\n",
    "# DEFINE SEARCH & REGEX TERMS\n",
    "# Search terms\n",
    "search_queries = [\n",
    "    \"minecraft tutorial survival vanilla new world lets play\",\n",
    "    \"minecraft tutorial hardcore new world lets play 1.16\",\n",
    "    \"minecraft how to survival vanilla new world lets play 1.16\",\n",
    "    \"minecraft tutorial first start survival lets play 1.16\",\n",
    "    \"minecraft lets play tutorial survival new world 1.16\",\n",
    "    \"minecraft lets play tutorial hardcore new world\",\n",
    "    \"minecraft guide walkthrough survival new world 1.16\",\n",
    "    \"minecraft how to first night playthrough\",\n",
    "    \"minecraft tutorial lets play no webcam 1.16\",\n",
    "    \"minecraft survival hardcore tutorial how to guide learn basics beginner lets play walkthrough gameplay new world first night first day 1.16\",\n",
    "    \"minecraft survival vanilla guide let's play\",\n",
    "    \"minecraft vanilla survival let's play\",\n",
    "    \"minecraft vanilla hardcore let's play\",\n",
    "    \"minecraft early game lets play vanilla\"\n",
    "]\n",
    "\n",
    "# Title/tags\n",
    "exclusion_terms = [\n",
    "    'mods',\n",
    "    'modded',\n",
    "    'modding',\n",
    "    '-mod',\n",
    "    'ps3',\n",
    "    'ps4',\n",
    "    'ps5',\n",
    "    'xbox',\n",
    "    'bedrock',\n",
    "    'pocket',\n",
    "    'bed rock',\n",
    "    'no commentary',\n",
    "    'creative',\n",
    "    'multiplayer',\n",
    "    'server',\n",
    "    'playstation',\n",
    "    'timelapse',\n",
    "    'animation',\n",
    "    'minecraft pe',\n",
    "    'pocket edition',\n",
    "    'bedrock edition',\n",
    "    'skyblock',\n",
    "    'realistic',\n",
    "    'shader',\n",
    "    'how to install',\n",
    "    'how to download',\n",
    "    'realmcraft',\n",
    "    'realms',\n",
    "    'animation',\n",
    "    'animatic',\n",
    "    'music video',\n",
    "    'movie',\n",
    "    'friend',\n",
    "    'parody',\n",
    "    'island',\n",
    "    'skyblock',\n",
    "    'squad',\n",
    "    'hack',\n",
    "    'hacked',\n",
    "    'hacking',\n",
    "    'battle',\n",
    "    'minecraft but',\n",
    "    'minecraft, but',\n",
    "\n",
    "    ' we ',  # dont want multiplayer\n",
    "    ' smp ',\n",
    "    'rtx',\n",
    "    'feature',\n",
    "    'lucky block',\n",
    "    'bedrock',\n",
    "    'pocket',\n",
    "    ' pe ',\n",
    "    'unturned',\n",
    "    'roblox',\n",
    "    'dimension',\n",
    "    ' top ',\n",
    "\n",
    "    'broken', #dont want hacks or glitches\n",
    "    'broke',\n",
    "    'glitch',\n",
    "    'texturepack',\n",
    "    'texture pack',\n",
    "    'resourcepack',\n",
    "    'resource pack',\n",
    "    \n",
    "\n",
    "    ' end', # dont want late game\n",
    "    'nether',\n",
    "    'dimension',\n",
    "    'dragon',\n",
    "    'wither',\n",
    "\n",
    "    'no commentary', # filters to ensure useful langauge input\n",
    "    'silent',\n",
    "    'asmr',\n",
    "    'no talking',\n",
    "    'silent',\n",
    "    'silence'\n",
    "]\n",
    "\n",
    "title_inclusion_terms = [\n",
    "    ['minecraft'],\n",
    "#    ['surviv', 'hardcore'],\n",
    "#    ['guide', 'tutorial', 'how to', 'surviv', 'learn', 'basic','noob','dummies'],\n",
    "    [\"let's play\", \"lets play\",'walkthrough','playthrough', 'walk through', 'play through', 'gameplay'],\n",
    "#    ['first','begin','start','fresh','new'],\n",
    "    ['world','game','play','day','night']\n",
    "] \n"
   ]
  },
  {
   "cell_type": "code",
   "execution_count": 7,
   "id": "d3dd13d9",
   "metadata": {},
   "outputs": [],
   "source": [
    "# SEARCH YOUTUBE WITH SEACH TERMS AND GET RESULTS\n",
    "# just collect lots of potential videos, whittle down in next step\n",
    "if False:\n",
    "\n",
    "\n",
    "    YDL_OPTIONS = {'noplaylist':True, 'download':False, 'ignoreerrors':True, 'list_subs':True, 'external-downloader':'aria2c', 'extract_flat':True, }\n",
    "\n",
    "    with yt_dlp.YoutubeDL(YDL_OPTIONS) as ydl:\n",
    "        for search_query in search_queries:\n",
    "            # get top search results for query, add results to top_MC_videos[]\n",
    "            search_results = ydl.extract_info(f\"ytsearchall:{search_query}\", download=False)\n",
    "            for result in search_results['entries']:\n",
    "                link = result['id']\n",
    "                if not (link in all_links_seen):\n",
    "                    all_links_seen.append(link)"
   ]
  },
  {
   "cell_type": "code",
   "execution_count": 8,
   "id": "d58a1516",
   "metadata": {},
   "outputs": [],
   "source": [
    "# SNOWBALL FROM FOUND HAM VIDEOS\n",
    "if False:\n",
    "    ## ONLY DO THIS AFTER INITIAL SWEEP ON SEARCHES AND ALL ARE CLASSIFIED\n",
    "    MC_channels = []\n",
    "\n",
    "    # get channels from ham links found so far\n",
    "    with yt_dlp.YoutubeDL(YDL_OPTIONS) as ydl:\n",
    "        for link in ham_links:\n",
    "            video = ydl.extract_info(link, download=False)\n",
    "            channel = video['channel']\n",
    "            if not (channel in MC_channels):\n",
    "                MC_channels.append(channel)\n",
    "\n",
    "    # get all videos from ham channels\n",
    "    with yt_dlp.YoutubeDL(YDL_OPTIONS) as ydl:\n",
    "        # get videos from collected channels, check if minecraft related and save\n",
    "        for channel in MC_channels:\n",
    "            channel_videos = ydl.extract_info(f'https://www.youtube.com/channel/{channel}/videos')\n",
    "            for video in channel_videos:\n",
    "                if not (video['id'] in ham_links) and not (video['id'] in spam_links):\n",
    "                    all_links_seen.append(video)"
   ]
  },
  {
   "cell_type": "code",
   "execution_count": 9,
   "id": "4cb5679e",
   "metadata": {},
   "outputs": [],
   "source": [
    "# UPDATE TEXT FILE OF ALL LINKS SEEN\n",
    "with open('DATASET/all/all_seen_links.txt', 'r') as file:\n",
    "    all_seen_links_file = file.read().split('\\n')\n",
    "    for link in all_seen_links_file:\n",
    "        if not link in all_links_seen:\n",
    "            all_links_seen.append(link)\n",
    "\n",
    "while '' in all_links_seen:\n",
    "    all_links_seen.remove('')\n",
    "\n",
    "with open('DATASET/all/all_seen_links.txt', 'w') as file:\n",
    "    for link in all_links_seen:\n",
    "        file.write(link+'\\n')\n",
    "\n",
    "############################################################################################################################################ finish gettings links worth checking. write link to file\n"
   ]
  },
  {
   "cell_type": "code",
   "execution_count": 10,
   "id": "f49e4339",
   "metadata": {},
   "outputs": [
    {
     "data": {
      "text/plain": [
       "5907"
      ]
     },
     "execution_count": 10,
     "metadata": {},
     "output_type": "execute_result"
    }
   ],
   "source": [
    "len(all_links_seen)"
   ]
  },
  {
   "cell_type": "code",
   "execution_count": 11,
   "id": "248dfea7",
   "metadata": {},
   "outputs": [
    {
     "name": "stderr",
     "output_type": "stream",
     "text": [
      "100%|█████████████████████████████████████| 1.26G/1.26G [03:37<00:00, 6.23MiB/s]\n"
     ]
    }
   ],
   "source": [
    "### LOAD FRAME SPAM/HAM CALSSIFIER\n",
    "# load CLIP\n",
    "device = \"cuda\" if th.cuda.is_available() else \"cpu\"\n",
    "CLIP, preprocess = clip.load(\"RN50x64\", device=device)\n",
    "\n",
    "# LOAD SVM\n",
    "svm = pickle.load(open('SVM4', 'rb'))\n",
    "\n",
    "def frames_to_class(frames):\n",
    "    with th.no_grad():\n",
    "        # pass images as torch array to CLIP image encoder\n",
    "        image_features = CLIP.encode_image(frames).cpu().numpy()\n",
    "\n",
    "        # pass CLIP image features to SVM to predict label\n",
    "        estimations = svm.predict(image_features).astype(np.int8)\n",
    "        label = np.median(estimations, axis=0)\n",
    "        return int(label)\n",
    "\n",
    "\n",
    "### FOR CHECKING VIDEO SPAM HAM.\n",
    "\n",
    "import time\n",
    "\n",
    "def elapsedTime(start):\n",
    "    now = time.time()\n",
    "    print('['+str(now-start)+']')\n",
    "    return now\n",
    "\n",
    "# https://pypi.org/project/yt-dlp/#usage-and-options\n",
    "def longer_than_10_mins(info, *, incomplete):\n",
    "    \"\"\"Download only videos longer than 10 minutes\"\"\"\n",
    "    duration = info.get('duration')\n",
    "    if duration and duration < 600:\n",
    "        return 'The video is too short'\n",
    "ydl_opts={'match_filter':longer_than_10_mins, 'download':False, 'fps':60}"
   ]
  },
  {
   "cell_type": "code",
   "execution_count": 12,
   "id": "9473082b",
   "metadata": {},
   "outputs": [],
   "source": [
    "# RE-CHECK SPAM HAM IN FILES\n",
    "with open('DATASET/all/ham_video.txt','r') as ham_videos:\n",
    "    ham_videos = ham_videos.read().split('\\n')\n",
    "with open('DATASET/all/ham_transcript.txt','r') as ham_transcript:\n",
    "    ham_transcript = ham_transcript.read().split('\\n')\n",
    "with open('DATASET/all/ham_metadata.txt','r') as ham_metadata:\n",
    "    ham_metadata = ham_metadata.read().split('\\n')\n",
    "\n",
    "ham_links = list(set(ham_videos).intersection(set(ham_transcript)).intersection(set(ham_metadata)))\n",
    "\n",
    "\n",
    "\n",
    "# gt list of already dientifited spam\n",
    "with open('DATASET/all/spam_video.txt', 'r') as file:\n",
    "    spam_video = file.read().split('\\n')\n",
    "with open('DATASET/all/spam_transcript.txt', 'r') as file:\n",
    "    spam_transcript = file.read().split('\\n')\n",
    "with open('DATASET/all/spam_metadata.txt','r') as spam_metadata:\n",
    "    spam_metadata = spam_metadata.read().split('\\n')\n",
    "\n",
    "spam_links = list(set(spam_transcript).union(set(spam_video)).union(set(spam_metadata)))\n"
   ]
  },
  {
   "cell_type": "code",
   "execution_count": 13,
   "id": "16096cf0",
   "metadata": {},
   "outputs": [
    {
     "data": {
      "text/plain": [
       "4044"
      ]
     },
     "execution_count": 13,
     "metadata": {},
     "output_type": "execute_result"
    }
   ],
   "source": [
    "############################################################################################################################################  from seen links that have not been classified, one at a time, get yt_search metadata for it online, check it for spam/ham, classify, and send to appropriate file.\n",
    "\n",
    "# from seen links and spam/ham so far, get list of links that need to be classified\n",
    "import random\n",
    "links_to_check = list(   set(all_links_seen) - set(spam_links).union(set(ham_links))   ) \n",
    "random.shuffle(links_to_check)\n",
    "\n",
    "\n",
    "len(links_to_check)"
   ]
  },
  {
   "cell_type": "code",
   "execution_count": 14,
   "id": "7f6f5f61",
   "metadata": {
    "scrolled": true
   },
   "outputs": [
    {
     "name": "stdout",
     "output_type": "stream",
     "text": [
      "xbox titlespamex=\n",
      "no commentary titlespamex=\n",
      "no commentary titlespamex=\n",
      "[\"let's play\", 'lets play', 'walkthrough', 'playthrough', 'walk through', 'play through', 'gameplay'] titlespaminc=\n",
      "['world', 'game', 'play', 'day', 'night'] titlespaminc=\n",
      "episode spam NUMBER, 1 HOUR of Minecraft: Xbox 360 Edition (Survival Mode) - No Commentary\n",
      "xbox descriptionspam\n",
      "no commentary descriptionspam\n",
      "friend descriptionspam\n",
      "no commentary descriptionspam\n",
      "xbox tagspam=\n",
      "!!!!!!!!!!!METADATASPAM\n"
     ]
    },
    {
     "name": "stderr",
     "output_type": "stream",
     "text": [
      "WARNING: [youtube] 4HTYh2Cr5uU: nsig extraction failed: You may experience throttling for some formats\n",
      "         Install PhantomJS to workaround the issue. Please download it from https://phantomjs.org/download.html\n",
      "         n = Q_GUSsHR1UGdVGD ; player = https://www.youtube.com/s/player/1cbba2b4/player_ias.vflset/en_US/base.js\n"
     ]
    },
    {
     "name": "stdout",
     "output_type": "stream",
     "text": [
      "durationspam=\n",
      "bedrock titlespamex=\n",
      "bedrock titlespamex=\n",
      "[\"let's play\", 'lets play', 'walkthrough', 'playthrough', 'walk through', 'play through', 'gameplay'] titlespaminc=\n",
      "['world', 'game', 'play', 'day', 'night'] titlespaminc=\n",
      "bedrock descriptionspam\n",
      "bedrock descriptionspam\n",
      "nether descriptionspam\n",
      "bedrock tagspam=\n",
      "bedrock tagspam=\n",
      "nether tagspam=\n",
      "!!!!!!!!!!!METADATASPAM\n"
     ]
    },
    {
     "name": "stderr",
     "output_type": "stream",
     "text": [
      "WARNING: [youtube] eq1FWs69ejk: nsig extraction failed: You may experience throttling for some formats\n",
      "         Install PhantomJS to workaround the issue. Please download it from https://phantomjs.org/download.html\n",
      "         n = M6Ua6sm2JDoqvUy ; player = https://www.youtube.com/s/player/1cbba2b4/player_ias.vflset/en_US/base.js\n"
     ]
    },
    {
     "name": "stdout",
     "output_type": "stream",
     "text": [
      "episode spam NUMBER, Item Transport Pipes! ▫ The Minecraft Survival Guide (Tutorial Lets Play) [Part 172]\n",
      "realistic descriptionspam\n",
      "!!!!!!!!!!!METADATASPAM\n"
     ]
    },
    {
     "name": "stderr",
     "output_type": "stream",
     "text": [
      "WARNING: [youtube] ULG6TMDfiMI: nsig extraction failed: You may experience throttling for some formats\n",
      "         Install PhantomJS to workaround the issue. Please download it from https://phantomjs.org/download.html\n",
      "         n = 8qkLG0wZkFHQdLb ; player = https://www.youtube.com/s/player/1cbba2b4/player_ias.vflset/en_US/base.js\n"
     ]
    },
    {
     "name": "stdout",
     "output_type": "stream",
     "text": [
      "nether titlespamex=\n",
      "nether descriptionspam\n",
      "!!!!!!!!!!!METADATASPAM\n"
     ]
    },
    {
     "name": "stderr",
     "output_type": "stream",
     "text": [
      "WARNING: [youtube] lm4p-55pl9o: nsig extraction failed: You may experience throttling for some formats\n",
      "         Install PhantomJS to workaround the issue. Please download it from https://phantomjs.org/download.html\n",
      "         n = MF5HfDGS0SpGpL9 ; player = https://www.youtube.com/s/player/1cbba2b4/player_ias.vflset/en_US/base.js\n"
     ]
    },
    {
     "name": "stdout",
     "output_type": "stream",
     "text": [
      "[\"let's play\", 'lets play', 'walkthrough', 'playthrough', 'walk through', 'play through', 'gameplay'] titlespaminc=\n",
      "['world', 'game', 'play', 'day', 'night'] titlespaminc=\n",
      "!!!!!!!!!!!METADATASPAM\n"
     ]
    },
    {
     "name": "stderr",
     "output_type": "stream",
     "text": [
      "WARNING: [youtube] RS9uTArtUxA: nsig extraction failed: You may experience throttling for some formats\n",
      "         Install PhantomJS to workaround the issue. Please download it from https://phantomjs.org/download.html\n",
      "         n = AuwyKtT1vImJRBq ; player = https://www.youtube.com/s/player/1cbba2b4/player_ias.vflset/en_US/base.js\n"
     ]
    },
    {
     "name": "stdout",
     "output_type": "stream",
     "text": [
      "dragon titlespamex=\n",
      "[\"let's play\", 'lets play', 'walkthrough', 'playthrough', 'walk through', 'play through', 'gameplay'] titlespaminc=\n",
      "episode spam NUMBER, 100 DAYS in a WORLD OF DRAGONS in Minecraft Hardcore\n",
      "dragon descriptionspam\n",
      "!!!!!!!!!!!METADATASPAM\n"
     ]
    },
    {
     "name": "stderr",
     "output_type": "stream",
     "text": [
      "WARNING: [youtube] oXBWqNR22RI: nsig extraction failed: You may experience throttling for some formats\n",
      "         Install PhantomJS to workaround the issue. Please download it from https://phantomjs.org/download.html\n",
      "         n = sgzVNKCHJOQb--p ; player = https://www.youtube.com/s/player/1cbba2b4/player_ias.vflset/en_US/base.js\n"
     ]
    },
    {
     "name": "stdout",
     "output_type": "stream",
     "text": [
      "episode spam NUMBER, MINING EXPLORATIONS! EP.59 (Vanilla Minecraft Single Player Lets Play) Minecraft Lets Play\n",
      "!!!!!!!!!!!METADATASPAM\n",
      "description spam language ('Unknown', 'un', 0, 0.0)\n",
      "!!!!!!!!!!!METADATASPAM\n",
      "durationspam=\n",
      "[\"let's play\", 'lets play', 'walkthrough', 'playthrough', 'walk through', 'play through', 'gameplay'] titlespaminc=\n",
      "['world', 'game', 'play', 'day', 'night'] titlespaminc=\n",
      "mods descriptionspam\n",
      "bedrock descriptionspam\n",
      "server descriptionspam\n",
      "animation descriptionspam\n",
      "animation descriptionspam\n",
      "friend descriptionspam\n",
      "battle descriptionspam\n",
      "minecraft but descriptionspam\n",
      "bedrock descriptionspam\n",
      "roblox descriptionspam\n",
      "texturepack descriptionspam\n",
      "wither descriptionspam\n",
      "!!!!!!!!!!!METADATASPAM\n"
     ]
    },
    {
     "name": "stderr",
     "output_type": "stream",
     "text": [
      "WARNING: [youtube] 9A2I3DfEGw8: nsig extraction failed: You may experience throttling for some formats\n",
      "         Install PhantomJS to workaround the issue. Please download it from https://phantomjs.org/download.html\n",
      "         n = 6Bl_jcqHRURlYPk ; player = https://www.youtube.com/s/player/1cbba2b4/player_ias.vflset/en_US/base.js\n"
     ]
    },
    {
     "name": "stdout",
     "output_type": "stream",
     "text": [
      "friend descriptionspam\n",
      "!!!!!!!!!!!METADATASPAM\n",
      "no commentary titlespamex=\n",
      "no commentary titlespamex=\n",
      "[\"let's play\", 'lets play', 'walkthrough', 'playthrough', 'walk through', 'play through', 'gameplay'] titlespaminc=\n",
      "!!!!!!!!!!!METADATASPAM\n",
      "durationspam=\n",
      "['minecraft'] titlespaminc=\n",
      "[\"let's play\", 'lets play', 'walkthrough', 'playthrough', 'walk through', 'play through', 'gameplay'] titlespaminc=\n",
      "['world', 'game', 'play', 'day', 'night'] titlespaminc=\n",
      "episode spam NUMBER, Easy Sheep Farm Tutorial | 1.16.4 | Java | Jan 2021 | #Shorts\n",
      "!!!!!!!!!!!METADATASPAM\n"
     ]
    },
    {
     "name": "stderr",
     "output_type": "stream",
     "text": [
      "WARNING: [youtube] CaaGJ0p8KAg: nsig extraction failed: You may experience throttling for some formats\n",
      "         Install PhantomJS to workaround the issue. Please download it from https://phantomjs.org/download.html\n",
      "         n = IkXoZwe6nFq43hf ; player = https://www.youtube.com/s/player/1cbba2b4/player_ias.vflset/en_US/base.js\n"
     ]
    },
    {
     "name": "stdout",
     "output_type": "stream",
     "text": [
      "durationspam=\n",
      "[\"let's play\", 'lets play', 'walkthrough', 'playthrough', 'walk through', 'play through', 'gameplay'] titlespaminc=\n",
      "mods descriptionspam\n",
      "-mod descriptionspam\n",
      "creative descriptionspam\n",
      "skyblock descriptionspam\n",
      "friend descriptionspam\n",
      "skyblock descriptionspam\n",
      " top  descriptionspam\n",
      "dragon descriptionspam\n",
      "!!!!!!!!!!!METADATASPAM\n",
      "no commentary titlespamex=\n",
      "no commentary titlespamex=\n",
      "no commentary tagspam=\n",
      "no commentary tagspam=\n",
      "!!!!!!!!!!!METADATASPAM\n"
     ]
    },
    {
     "name": "stderr",
     "output_type": "stream",
     "text": [
      "WARNING: [youtube] 1Z9Z8x6eKiY: nsig extraction failed: You may experience throttling for some formats\n",
      "         Install PhantomJS to workaround the issue. Please download it from https://phantomjs.org/download.html\n",
      "         n = nvEYpORI-lHMMLW ; player = https://www.youtube.com/s/player/1cbba2b4/player_ias.vflset/en_US/base.js\n"
     ]
    },
    {
     "name": "stdout",
     "output_type": "stream",
     "text": [
      "episode spam NUMBER, Preparing For The Big Update! ▫ The Minecraft Survival Guide (Tutorial Lets Play) [Part 124]\n",
      "!!!!!!!!!!!METADATASPAM\n",
      "minecraft but tagspam=\n",
      "!!!!!!!!!!!METADATASPAM\n"
     ]
    },
    {
     "name": "stderr",
     "output_type": "stream",
     "text": [
      "WARNING: [youtube] qJu4o2Dy6ko: nsig extraction failed: You may experience throttling for some formats\n",
      "         Install PhantomJS to workaround the issue. Please download it from https://phantomjs.org/download.html\n",
      "         n = XbsdECdcl_IcmVE ; player = https://www.youtube.com/s/player/1cbba2b4/player_ias.vflset/en_US/base.js\n"
     ]
    },
    {
     "name": "stdout",
     "output_type": "stream",
     "text": [
      "[\"let's play\", 'lets play', 'walkthrough', 'playthrough', 'walk through', 'play through', 'gameplay'] titlespaminc=\n",
      "episode spam NUMBER, We Survived 100 Days in Minecraft Hardcore... AGAIN!\n",
      "friend descriptionspam\n",
      "feature descriptionspam\n",
      "!!!!!!!!!!!METADATASPAM\n",
      "ps4 titlespamex=\n",
      "!!!!!!!!!!!METADATASPAM\n"
     ]
    },
    {
     "name": "stderr",
     "output_type": "stream",
     "text": [
      "WARNING: [youtube] WvJJb9ioLqc: nsig extraction failed: You may experience throttling for some formats\n",
      "         Install PhantomJS to workaround the issue. Please download it from https://phantomjs.org/download.html\n",
      "         n = oUtd6qkk1II-WCi ; player = https://www.youtube.com/s/player/1cbba2b4/player_ias.vflset/en_US/base.js\n"
     ]
    },
    {
     "name": "stdout",
     "output_type": "stream",
     "text": [
      "server descriptionspam\n",
      "!!!!!!!!!!!METADATASPAM\n"
     ]
    },
    {
     "name": "stderr",
     "output_type": "stream",
     "text": [
      "WARNING: [youtube] 75GUE5rIr1k: nsig extraction failed: You may experience throttling for some formats\n",
      "         Install PhantomJS to workaround the issue. Please download it from https://phantomjs.org/download.html\n",
      "         n = 3oKRyzkfPBEuQKj ; player = https://www.youtube.com/s/player/1cbba2b4/player_ias.vflset/en_US/base.js\n"
     ]
    },
    {
     "name": "stdout",
     "output_type": "stream",
     "text": [
      "durationspam=\n",
      "['minecraft'] titlespaminc=\n",
      "[\"let's play\", 'lets play', 'walkthrough', 'playthrough', 'walk through', 'play through', 'gameplay'] titlespaminc=\n",
      "['world', 'game', 'play', 'day', 'night'] titlespaminc=\n",
      "!!!!!!!!!!!METADATASPAM\n"
     ]
    },
    {
     "name": "stderr",
     "output_type": "stream",
     "text": [
      "WARNING: [youtube] eoJqqaq1r04: nsig extraction failed: You may experience throttling for some formats\n",
      "         Install PhantomJS to workaround the issue. Please download it from https://phantomjs.org/download.html\n",
      "         n = uueE1-sy7dayzY9 ; player = https://www.youtube.com/s/player/1cbba2b4/player_ias.vflset/en_US/base.js\n"
     ]
    },
    {
     "name": "stdout",
     "output_type": "stream",
     "text": [
      "episode spam NUMBER, Let's Play Minecraft Episode 113\n",
      "!!!!!!!!!!!METADATASPAM\n",
      "[\"let's play\", 'lets play', 'walkthrough', 'playthrough', 'walk through', 'play through', 'gameplay'] titlespaminc=\n",
      "['world', 'game', 'play', 'day', 'night'] titlespaminc=\n",
      "!!!!!!!!!!!METADATASPAM\n",
      "!!!!!!METADATA HAM\n",
      "downloading new video...\n",
      "[youtube] Extracting URL: https://youtu.be/GNVvvdoIv80\n",
      "[youtube] GNVvvdoIv80: Downloading webpage\n",
      "[youtube] GNVvvdoIv80: Downloading android player API JSON\n",
      "[youtube] GNVvvdoIv80: Downloading MPD manifest\n",
      "[info] GNVvvdoIv80: Downloading 1 format(s): 302+251\n",
      "[dashsegments] Total fragments: 687\n",
      "[download] Destination: DATASET\\all\\videos\\GNVvvdoIv80.f302.webm\n",
      "[download] 100% of  607.71MiB in 00:11:55 at 869.79KiB/s                  \n",
      "[download] Destination: DATASET\\all\\videos\\GNVvvdoIv80.f251.webm\n",
      "[download] 100% of   47.04MiB in 00:00:04 at 10.72MiB/s  \n",
      "[Merger] Merging formats into \"DATASET\\all\\videos\\GNVvvdoIv80.webm\"\n",
      "Deleting original file DATASET\\all\\videos\\GNVvvdoIv80.f251.webm (pass -k to keep)\n",
      "Deleting original file DATASET\\all\\videos\\GNVvvdoIv80.f302.webm (pass -k to keep)\n",
      "[youtube] Extracting URL: https://youtu.be/GNVvvdoIv80\n",
      "[youtube] GNVvvdoIv80: Downloading webpage\n",
      "[youtube] GNVvvdoIv80: Downloading android player API JSON\n",
      "[youtube] GNVvvdoIv80: Downloading MPD manifest\n",
      "[info] GNVvvdoIv80: Downloading 1 format(s): 244+251\n",
      "[download] DATASET\\all\\videos\\GNVvvdoIv80.webm has already been downloaded\n",
      "|2233SPAM VIDEO!\n"
     ]
    },
    {
     "name": "stderr",
     "output_type": "stream",
     "text": [
      "WARNING: [youtube] M-LVm5qgSjY: nsig extraction failed: You may experience throttling for some formats\n",
      "         Install PhantomJS to workaround the issue. Please download it from https://phantomjs.org/download.html\n",
      "         n = XS8wp-PKuKq64QB ; player = https://www.youtube.com/s/player/1cbba2b4/player_ias.vflset/en_US/base.js\n"
     ]
    },
    {
     "name": "stdout",
     "output_type": "stream",
     "text": [
      "!!!!!!METADATA HAM\n",
      "downloading new video...\n",
      "[youtube] Extracting URL: https://youtu.be/M-LVm5qgSjY\n",
      "[youtube] M-LVm5qgSjY: Downloading webpage\n",
      "[youtube] M-LVm5qgSjY: Downloading android player API JSON\n"
     ]
    },
    {
     "name": "stderr",
     "output_type": "stream",
     "text": [
      "WARNING: [youtube] M-LVm5qgSjY: nsig extraction failed: You may experience throttling for some formats\n",
      "         Install PhantomJS to workaround the issue. Please download it from https://phantomjs.org/download.html\n",
      "         n = CuD7KpxMPjp82F_ ; player = https://www.youtube.com/s/player/1cbba2b4/player_ias.vflset/en_US/base.js\n"
     ]
    },
    {
     "name": "stdout",
     "output_type": "stream",
     "text": [
      "[info] M-LVm5qgSjY: Downloading 1 format(s): 302+251\n",
      "[download] Destination: DATASET\\all\\videos\\M-LVm5qgSjY.f302.webm\n",
      "[download] 100% of  343.88MiB in 00:01:55 at 2.98MiB/s     \n",
      "[download] Destination: DATASET\\all\\videos\\M-LVm5qgSjY.f251.webm\n",
      "[download] 100% of   21.77MiB in 00:00:06 at 3.40MiB/s   \n",
      "[Merger] Merging formats into \"DATASET\\all\\videos\\M-LVm5qgSjY.webm\"\n",
      "Deleting original file DATASET\\all\\videos\\M-LVm5qgSjY.f302.webm (pass -k to keep)\n",
      "Deleting original file DATASET\\all\\videos\\M-LVm5qgSjY.f251.webm (pass -k to keep)\n",
      "[youtube] Extracting URL: https://youtu.be/M-LVm5qgSjY\n",
      "[youtube] M-LVm5qgSjY: Downloading webpage\n",
      "[youtube] M-LVm5qgSjY: Downloading android player API JSON\n"
     ]
    },
    {
     "name": "stderr",
     "output_type": "stream",
     "text": [
      "WARNING: [youtube] M-LVm5qgSjY: nsig extraction failed: You may experience throttling for some formats\n",
      "         Install PhantomJS to workaround the issue. Please download it from https://phantomjs.org/download.html\n",
      "         n = i9OQ1GCc2fFxgso ; player = https://www.youtube.com/s/player/1cbba2b4/player_ias.vflset/en_US/base.js\n"
     ]
    },
    {
     "name": "stdout",
     "output_type": "stream",
     "text": [
      "[info] M-LVm5qgSjY: Downloading 1 format(s): 244+251\n",
      "[download] DATASET\\all\\videos\\M-LVm5qgSjY.webm has already been downloaded\n",
      "|2221SPAM VIDEO!\n"
     ]
    },
    {
     "name": "stderr",
     "output_type": "stream",
     "text": [
      "WARNING: [youtube] 2HyNVGTUu1I: nsig extraction failed: You may experience throttling for some formats\n",
      "         Install PhantomJS to workaround the issue. Please download it from https://phantomjs.org/download.html\n",
      "         n = QnIadGMLuJ_cKnu ; player = https://www.youtube.com/s/player/1cbba2b4/player_ias.vflset/en_US/base.js\n"
     ]
    },
    {
     "name": "stdout",
     "output_type": "stream",
     "text": [
      "[\"let's play\", 'lets play', 'walkthrough', 'playthrough', 'walk through', 'play through', 'gameplay'] titlespaminc=\n",
      "['world', 'game', 'play', 'day', 'night'] titlespaminc=\n",
      "episode spam NUMBER, I Built The NEW MOBS in 1.19 Minecraft Hardcore (#59)\n",
      "!!!!!!!!!!!METADATASPAM\n",
      "!!!!!!METADATA HAM\n",
      "downloading new video...\n",
      "[youtube] Extracting URL: https://youtu.be/bPC8TyYvuWY\n",
      "[youtube] bPC8TyYvuWY: Downloading webpage\n",
      "[youtube] bPC8TyYvuWY: Downloading android player API JSON\n"
     ]
    },
    {
     "name": "stderr",
     "output_type": "stream",
     "text": [
      "WARNING: [youtube] bPC8TyYvuWY: nsig extraction failed: You may experience throttling for some formats\n",
      "         Install PhantomJS to workaround the issue. Please download it from https://phantomjs.org/download.html\n",
      "         n = k6WlQb55cLNST20 ; player = https://www.youtube.com/s/player/1cbba2b4/player_ias.vflset/en_US/base.js\n"
     ]
    },
    {
     "name": "stdout",
     "output_type": "stream",
     "text": [
      "[youtube] bPC8TyYvuWY: Downloading MPD manifest\n",
      "[info] bPC8TyYvuWY: Downloading 1 format(s): 302+251\n",
      "[dashsegments] Total fragments: 696\n",
      "[download] Destination: DATASET\\all\\videos\\bPC8TyYvuWY.f302.webm\n",
      "[download] 100% of  648.35MiB in 00:15:30 at 713.17KiB/s                  \n",
      "[download] Destination: DATASET\\all\\videos\\bPC8TyYvuWY.f251.webm\n",
      "[download] 100% of   43.78MiB in 00:00:09 at 4.38MiB/s   \n",
      "[Merger] Merging formats into \"DATASET\\all\\videos\\bPC8TyYvuWY.webm\"\n",
      "Deleting original file DATASET\\all\\videos\\bPC8TyYvuWY.f302.webm (pass -k to keep)\n",
      "Deleting original file DATASET\\all\\videos\\bPC8TyYvuWY.f251.webm (pass -k to keep)\n",
      "[youtube] Extracting URL: https://youtu.be/bPC8TyYvuWY\n",
      "[youtube] bPC8TyYvuWY: Downloading webpage\n",
      "[youtube] bPC8TyYvuWY: Downloading android player API JSON\n"
     ]
    },
    {
     "name": "stderr",
     "output_type": "stream",
     "text": [
      "WARNING: [youtube] bPC8TyYvuWY: nsig extraction failed: You may experience throttling for some formats\n",
      "         Install PhantomJS to workaround the issue. Please download it from https://phantomjs.org/download.html\n",
      "         n = SnGjtTTH0dr-NNt ; player = https://www.youtube.com/s/player/1cbba2b4/player_ias.vflset/en_US/base.js\n"
     ]
    },
    {
     "name": "stdout",
     "output_type": "stream",
     "text": [
      "[youtube] bPC8TyYvuWY: Downloading MPD manifest\n",
      "[info] bPC8TyYvuWY: Downloading 1 format(s): 244+251\n",
      "[download] DATASET\\all\\videos\\bPC8TyYvuWY.webm has already been downloaded\n",
      "|3233SPAM VIDEO!\n",
      "creative descriptionspam\n",
      "multiplayer tagspam=\n",
      "server tagspam=\n",
      "!!!!!!!!!!!METADATASPAM\n"
     ]
    },
    {
     "name": "stderr",
     "output_type": "stream",
     "text": [
      "WARNING: [youtube] mLHdbWOktRw: nsig extraction failed: You may experience throttling for some formats\n",
      "         Install PhantomJS to workaround the issue. Please download it from https://phantomjs.org/download.html\n",
      "         n = iNkJD3qJNQJtGOB ; player = https://www.youtube.com/s/player/1cbba2b4/player_ias.vflset/en_US/base.js\n"
     ]
    },
    {
     "name": "stdout",
     "output_type": "stream",
     "text": [
      "[\"let's play\", 'lets play', 'walkthrough', 'playthrough', 'walk through', 'play through', 'gameplay'] titlespaminc=\n",
      "episode spam NUMBER, I Survived 100 Days in Better Minecraft Hardcore… Here’s What Happened\n",
      "feature descriptionspam\n",
      "modded tagspam=\n",
      "!!!!!!!!!!!METADATASPAM\n"
     ]
    },
    {
     "name": "stderr",
     "output_type": "stream",
     "text": [
      "WARNING: [youtube] AdwAYVVHU8w: nsig extraction failed: You may experience throttling for some formats\n",
      "         Install PhantomJS to workaround the issue. Please download it from https://phantomjs.org/download.html\n",
      "         n = kZEM7FHbYkhNCLH ; player = https://www.youtube.com/s/player/1cbba2b4/player_ias.vflset/en_US/base.js\n"
     ]
    },
    {
     "name": "stdout",
     "output_type": "stream",
     "text": [
      "dragon titlespamex=\n",
      "episode spam NUMBER, How To Farm Dragon's Breath! ▫ The Minecraft Survival Guide (Tutorial Lets Play) [Part 331]\n",
      "server descriptionspam\n",
      " end descriptionspam\n",
      "dragon descriptionspam\n",
      "!!!!!!!!!!!METADATASPAM\n"
     ]
    },
    {
     "name": "stderr",
     "output_type": "stream",
     "text": [
      "WARNING: [youtube] BGzgOUCPVCY: nsig extraction failed: You may experience throttling for some formats\n",
      "         Install PhantomJS to workaround the issue. Please download it from https://phantomjs.org/download.html\n",
      "         n = LQ0UgJvm5NetRi8 ; player = https://www.youtube.com/s/player/1cbba2b4/player_ias.vflset/en_US/base.js\n"
     ]
    },
    {
     "name": "stdout",
     "output_type": "stream",
     "text": [
      "episode spam NUMBER, Build With Blocks You Hate! ▫ The Minecraft Survival Guide (Tutorial Lets Play) [Part 85]\n",
      "shader descriptionspam\n",
      "!!!!!!!!!!!METADATASPAM\n"
     ]
    },
    {
     "name": "stderr",
     "output_type": "stream",
     "text": [
      "WARNING: [youtube] 0no7xWTq8F8: nsig extraction failed: You may experience throttling for some formats\n",
      "         Install PhantomJS to workaround the issue. Please download it from https://phantomjs.org/download.html\n",
      "         n = eTjBM5VE8cNvvVJ ; player = https://www.youtube.com/s/player/1cbba2b4/player_ias.vflset/en_US/base.js\n"
     ]
    },
    {
     "name": "stdout",
     "output_type": "stream",
     "text": [
      "description spam language ('Unknown', 'un', 0, 0.0)\n",
      "!!!!!!!!!!!METADATASPAM\n",
      " smp  titlespamex=\n",
      "multiplayer descriptionspam\n",
      "server descriptionspam\n",
      " smp  descriptionspam\n",
      "!!!!!!!!!!!METADATASPAM\n",
      "durationspam=\n",
      "glitch titlespamex=\n",
      "[\"let's play\", 'lets play', 'walkthrough', 'playthrough', 'walk through', 'play through', 'gameplay'] titlespaminc=\n",
      "['world', 'game', 'play', 'day', 'night'] titlespaminc=\n",
      "!!!!!!!!!!!METADATASPAM\n"
     ]
    },
    {
     "name": "stderr",
     "output_type": "stream",
     "text": [
      "WARNING: [youtube] Aw7Gx-zMAcs: nsig extraction failed: You may experience throttling for some formats\n",
      "         Install PhantomJS to workaround the issue. Please download it from https://phantomjs.org/download.html\n",
      "         n = ETa2b012UAqDUCG ; player = https://www.youtube.com/s/player/1cbba2b4/player_ias.vflset/en_US/base.js\n"
     ]
    },
    {
     "name": "stdout",
     "output_type": "stream",
     "text": [
      "[\"let's play\", 'lets play', 'walkthrough', 'playthrough', 'walk through', 'play through', 'gameplay'] titlespaminc=\n",
      "bedrock descriptionspam\n",
      "bedrock descriptionspam\n",
      "description spam language ('Unknown', 'un', 0, 0.0)\n",
      "!!!!!!!!!!!METADATASPAM\n"
     ]
    },
    {
     "name": "stderr",
     "output_type": "stream",
     "text": [
      "WARNING: [youtube] 4FaX4oFBank: nsig extraction failed: You may experience throttling for some formats\n",
      "         Install PhantomJS to workaround the issue. Please download it from https://phantomjs.org/download.html\n",
      "         n = T-wic-xjQiftcz- ; player = https://www.youtube.com/s/player/1cbba2b4/player_ias.vflset/en_US/base.js\n"
     ]
    },
    {
     "name": "stdout",
     "output_type": "stream",
     "text": [
      "['minecraft'] titlespaminc=\n",
      "[\"let's play\", 'lets play', 'walkthrough', 'playthrough', 'walk through', 'play through', 'gameplay'] titlespaminc=\n",
      "['world', 'game', 'play', 'day', 'night'] titlespaminc=\n",
      "lang spam title ('Unknown', 'un', 0, 0.0)\n",
      "!!!!!!!!!!!METADATASPAM\n",
      "durationspam=\n",
      "how to install titlespamex=\n",
      "['minecraft'] titlespaminc=\n",
      "[\"let's play\", 'lets play', 'walkthrough', 'playthrough', 'walk through', 'play through', 'gameplay'] titlespaminc=\n",
      "['world', 'game', 'play', 'day', 'night'] titlespaminc=\n",
      "mods descriptionspam\n",
      "modding descriptionspam\n",
      "-mod descriptionspam\n",
      "how to install descriptionspam\n",
      "!!!!!!!!!!!METADATASPAM\n",
      "['minecraft'] titlespaminc=\n",
      "[\"let's play\", 'lets play', 'walkthrough', 'playthrough', 'walk through', 'play through', 'gameplay'] titlespaminc=\n",
      "['world', 'game', 'play', 'day', 'night'] titlespaminc=\n",
      " end descriptionspam\n",
      "!!!!!!!!!!!METADATASPAM\n",
      "[\"let's play\", 'lets play', 'walkthrough', 'playthrough', 'walk through', 'play through', 'gameplay'] titlespaminc=\n",
      "['world', 'game', 'play', 'day', 'night'] titlespaminc=\n",
      "creative descriptionspam\n",
      "!!!!!!!!!!!METADATASPAM\n",
      "[\"let's play\", 'lets play', 'walkthrough', 'playthrough', 'walk through', 'play through', 'gameplay'] titlespaminc=\n",
      "!!!!!!!!!!!METADATASPAM\n",
      "['minecraft'] titlespaminc=\n",
      "server descriptionspam\n",
      "server tagspam=\n",
      "!!!!!!!!!!!METADATASPAM\n"
     ]
    },
    {
     "name": "stderr",
     "output_type": "stream",
     "text": [
      "WARNING: [youtube] wkjogafmQrI: nsig extraction failed: You may experience throttling for some formats\n",
      "         Install PhantomJS to workaround the issue. Please download it from https://phantomjs.org/download.html\n",
      "         n = koO6wWCeQlrT4ni ; player = https://www.youtube.com/s/player/1cbba2b4/player_ias.vflset/en_US/base.js\n"
     ]
    },
    {
     "name": "stdout",
     "output_type": "stream",
     "text": [
      "[\"let's play\", 'lets play', 'walkthrough', 'playthrough', 'walk through', 'play through', 'gameplay'] titlespaminc=\n",
      "['world', 'game', 'play', 'day', 'night'] titlespaminc=\n",
      "episode spam NUMBER, Minecraft: How to Build a Wooden House | Easy Survival House Tutorial #123\n",
      "shader descriptionspam\n",
      "resource pack descriptionspam\n",
      "animation tagspam=\n",
      "animation tagspam=\n",
      "!!!!!!!!!!!METADATASPAM\n",
      "durationspam=\n",
      "nether titlespamex=\n",
      "feature descriptionspam\n",
      "!!!!!!!!!!!METADATASPAM\n"
     ]
    },
    {
     "name": "stderr",
     "output_type": "stream",
     "text": [
      "WARNING: [youtube] WTLt1KwknW8: nsig extraction failed: You may experience throttling for some formats\n",
      "         Install PhantomJS to workaround the issue. Please download it from https://phantomjs.org/download.html\n",
      "         n = 8mXz3oI5UJJgtTz ; player = https://www.youtube.com/s/player/1cbba2b4/player_ias.vflset/en_US/base.js\n"
     ]
    },
    {
     "name": "stdout",
     "output_type": "stream",
     "text": [
      "!!!!!!METADATA HAM\n",
      "downloading new video...\n",
      "[youtube] Extracting URL: https://youtu.be/WTLt1KwknW8\n",
      "[youtube] WTLt1KwknW8: Downloading webpage\n",
      "[youtube] WTLt1KwknW8: Downloading android player API JSON\n"
     ]
    },
    {
     "name": "stderr",
     "output_type": "stream",
     "text": [
      "WARNING: [youtube] WTLt1KwknW8: nsig extraction failed: You may experience throttling for some formats\n",
      "         Install PhantomJS to workaround the issue. Please download it from https://phantomjs.org/download.html\n",
      "         n = J19471AhMqJEm7b ; player = https://www.youtube.com/s/player/1cbba2b4/player_ias.vflset/en_US/base.js\n"
     ]
    },
    {
     "name": "stdout",
     "output_type": "stream",
     "text": [
      "[youtube] WTLt1KwknW8: Downloading MPD manifest\n",
      "[info] WTLt1KwknW8: Downloading 1 format(s): 302+251\n",
      "[dashsegments] Total fragments: 720\n",
      "[download] Destination: DATASET\\all\\videos\\WTLt1KwknW8.f302.webm\n",
      "[download] 100% of  940.85MiB in 00:16:38 at 965.26KiB/s                  \n",
      "[download] Destination: DATASET\\all\\videos\\WTLt1KwknW8.f251.webm\n",
      "[download] 100% of   49.40MiB in 00:00:11 at 4.15MiB/s   \n",
      "[Merger] Merging formats into \"DATASET\\all\\videos\\WTLt1KwknW8.webm\"\n",
      "Deleting original file DATASET\\all\\videos\\WTLt1KwknW8.f302.webm (pass -k to keep)\n",
      "Deleting original file DATASET\\all\\videos\\WTLt1KwknW8.f251.webm (pass -k to keep)\n",
      "[youtube] Extracting URL: https://youtu.be/WTLt1KwknW8\n",
      "[youtube] WTLt1KwknW8: Downloading webpage\n",
      "[youtube] WTLt1KwknW8: Downloading android player API JSON\n"
     ]
    },
    {
     "name": "stderr",
     "output_type": "stream",
     "text": [
      "WARNING: [youtube] WTLt1KwknW8: nsig extraction failed: You may experience throttling for some formats\n",
      "         Install PhantomJS to workaround the issue. Please download it from https://phantomjs.org/download.html\n",
      "         n = rDyqk9OI9Xjj3r- ; player = https://www.youtube.com/s/player/1cbba2b4/player_ias.vflset/en_US/base.js\n"
     ]
    },
    {
     "name": "stdout",
     "output_type": "stream",
     "text": [
      "[youtube] WTLt1KwknW8: Downloading MPD manifest\n",
      "[info] WTLt1KwknW8: Downloading 1 format(s): 244+251\n",
      "[download] DATASET\\all\\videos\\WTLt1KwknW8.webm has already been downloaded\n",
      "|3322SPAM VIDEO!\n"
     ]
    },
    {
     "name": "stderr",
     "output_type": "stream",
     "text": [
      "WARNING: [youtube] qtSBN_DvRW4: nsig extraction failed: You may experience throttling for some formats\n",
      "         Install PhantomJS to workaround the issue. Please download it from https://phantomjs.org/download.html\n",
      "         n = e9Jr-LsyjL0mCno ; player = https://www.youtube.com/s/player/1cbba2b4/player_ias.vflset/en_US/base.js\n"
     ]
    },
    {
     "name": "stdout",
     "output_type": "stream",
     "text": [
      " smp  titlespamex=\n",
      "!!!!!!!!!!!METADATASPAM\n"
     ]
    },
    {
     "name": "stderr",
     "output_type": "stream",
     "text": [
      "WARNING: [youtube] gheZ3yTBTJA: nsig extraction failed: You may experience throttling for some formats\n",
      "         Install PhantomJS to workaround the issue. Please download it from https://phantomjs.org/download.html\n",
      "         n = rcYQvOfG_dc1DhU ; player = https://www.youtube.com/s/player/1cbba2b4/player_ias.vflset/en_US/base.js\n"
     ]
    },
    {
     "name": "stdout",
     "output_type": "stream",
     "text": [
      "durationspam=\n",
      "nether titlespamex=\n",
      "[\"let's play\", 'lets play', 'walkthrough', 'playthrough', 'walk through', 'play through', 'gameplay'] titlespaminc=\n",
      "['world', 'game', 'play', 'day', 'night'] titlespaminc=\n",
      "realistic descriptionspam\n",
      " smp  descriptionspam\n",
      " end descriptionspam\n",
      "nether descriptionspam\n",
      "timelapse tagspam=\n",
      "!!!!!!!!!!!METADATASPAM\n"
     ]
    },
    {
     "name": "stderr",
     "output_type": "stream",
     "text": [
      "WARNING: [youtube] 5j1pDCxpxHk: nsig extraction failed: You may experience throttling for some formats\n",
      "         Install PhantomJS to workaround the issue. Please download it from https://phantomjs.org/download.html\n",
      "         n = G-5QZF0xL4X1ziI ; player = https://www.youtube.com/s/player/1cbba2b4/player_ias.vflset/en_US/base.js\n"
     ]
    },
    {
     "name": "stdout",
     "output_type": "stream",
     "text": [
      "mods descriptionspam\n",
      "modding descriptionspam\n",
      "-mod descriptionspam\n",
      "shader descriptionspam\n",
      "texturepack descriptionspam\n",
      "!!!!!!!!!!!METADATASPAM\n",
      "[\"let's play\", 'lets play', 'walkthrough', 'playthrough', 'walk through', 'play through', 'gameplay'] titlespaminc=\n",
      "!!!!!!!!!!!METADATASPAM\n",
      "durationspam=\n",
      "['minecraft'] titlespaminc=\n",
      "[\"let's play\", 'lets play', 'walkthrough', 'playthrough', 'walk through', 'play through', 'gameplay'] titlespaminc=\n",
      "mods descriptionspam\n",
      "-mod descriptionspam\n",
      "!!!!!!!!!!!METADATASPAM\n"
     ]
    },
    {
     "name": "stderr",
     "output_type": "stream",
     "text": [
      "WARNING: [youtube] m5FHzOmGFHk: nsig extraction failed: You may experience throttling for some formats\n",
      "         Install PhantomJS to workaround the issue. Please download it from https://phantomjs.org/download.html\n",
      "         n = C3RWDyEVuszqayr ; player = https://www.youtube.com/s/player/1cbba2b4/player_ias.vflset/en_US/base.js\n"
     ]
    },
    {
     "name": "stdout",
     "output_type": "stream",
     "text": [
      "['minecraft'] titlespaminc=\n",
      "[\"let's play\", 'lets play', 'walkthrough', 'playthrough', 'walk through', 'play through', 'gameplay'] titlespaminc=\n",
      "['world', 'game', 'play', 'day', 'night'] titlespaminc=\n",
      "!!!!!!!!!!!METADATASPAM\n",
      "!!!!!!METADATA HAM\n",
      "downloading new video...\n",
      "[youtube] Extracting URL: https://youtu.be/jjAXyMjsji4\n",
      "[youtube] jjAXyMjsji4: Downloading webpage\n",
      "[youtube] jjAXyMjsji4: Downloading android player API JSON\n",
      "[youtube] jjAXyMjsji4: Downloading MPD manifest\n",
      "[info] jjAXyMjsji4: Downloading 1 format(s): 248+251\n",
      "[dashsegments] Total fragments: 792\n",
      "[download] Destination: DATASET\\all\\videos\\jjAXyMjsji4.f248.webm\n",
      "[download] 100% of  872.36MiB in 00:13:51 at 1.05MiB/s                    \n",
      "[download] Destination: DATASET\\all\\videos\\jjAXyMjsji4.f251.webm\n",
      "[download] 100% of   55.11MiB in 00:00:04 at 13.61MiB/s  \n",
      "[Merger] Merging formats into \"DATASET\\all\\videos\\jjAXyMjsji4.webm\"\n",
      "Deleting original file DATASET\\all\\videos\\jjAXyMjsji4.f251.webm (pass -k to keep)\n",
      "Deleting original file DATASET\\all\\videos\\jjAXyMjsji4.f248.webm (pass -k to keep)\n",
      "[youtube] Extracting URL: https://youtu.be/jjAXyMjsji4\n",
      "[youtube] jjAXyMjsji4: Downloading webpage\n",
      "[youtube] jjAXyMjsji4: Downloading android player API JSON\n",
      "[youtube] jjAXyMjsji4: Downloading MPD manifest\n",
      "[info] jjAXyMjsji4: Downloading 1 format(s): 244+251\n",
      "[download] DATASET\\all\\videos\\jjAXyMjsji4.webm has already been downloaded\n",
      "|2223SPAM VIDEO!\n",
      "durationspam=\n",
      "music video titlespamex=\n",
      "[\"let's play\", 'lets play', 'walkthrough', 'playthrough', 'walk through', 'play through', 'gameplay'] titlespaminc=\n",
      "['world', 'game', 'play', 'day', 'night'] titlespaminc=\n",
      "music video descriptionspam\n",
      "animation tagspam=\n",
      "animation tagspam=\n",
      "music video tagspam=\n",
      "!!!!!!!!!!!METADATASPAM\n"
     ]
    },
    {
     "name": "stderr",
     "output_type": "stream",
     "text": [
      "WARNING: [youtube] -vhhQh-D6HA: nsig extraction failed: You may experience throttling for some formats\n",
      "         Install PhantomJS to workaround the issue. Please download it from https://phantomjs.org/download.html\n",
      "         n = 6g_jc2ZrtdFwkfB ; player = https://www.youtube.com/s/player/1cbba2b4/player_ias.vflset/en_US/base.js\n"
     ]
    },
    {
     "name": "stdout",
     "output_type": "stream",
     "text": [
      "durationspam=\n",
      "[\"let's play\", 'lets play', 'walkthrough', 'playthrough', 'walk through', 'play through', 'gameplay'] titlespaminc=\n",
      "['world', 'game', 'play', 'day', 'night'] titlespaminc=\n",
      "!!!!!!!!!!!METADATASPAM\n",
      "modded titlespamex=\n",
      "[\"let's play\", 'lets play', 'walkthrough', 'playthrough', 'walk through', 'play through', 'gameplay'] titlespaminc=\n",
      "!!!!!!!!!!!METADATASPAM\n",
      "movie titlespamex=\n",
      "[\"let's play\", 'lets play', 'walkthrough', 'playthrough', 'walk through', 'play through', 'gameplay'] titlespaminc=\n",
      "['world', 'game', 'play', 'day', 'night'] titlespaminc=\n",
      "movie descriptionspam\n",
      " end descriptionspam\n",
      "!!!!!!!!!!!METADATASPAM\n"
     ]
    },
    {
     "name": "stderr",
     "output_type": "stream",
     "text": [
      "WARNING: [youtube] FMNHvnFA1go: nsig extraction failed: You may experience throttling for some formats\n",
      "         Install PhantomJS to workaround the issue. Please download it from https://phantomjs.org/download.html\n",
      "         n = 1nWPvxts_rEkCbz ; player = https://www.youtube.com/s/player/1cbba2b4/player_ias.vflset/en_US/base.js\n"
     ]
    },
    {
     "name": "stdout",
     "output_type": "stream",
     "text": [
      "texture pack tagspam=\n",
      "!!!!!!!!!!!METADATASPAM\n"
     ]
    },
    {
     "name": "stderr",
     "output_type": "stream",
     "text": [
      "WARNING: [youtube] 0vtXleQLFLs: nsig extraction failed: You may experience throttling for some formats\n",
      "         Install PhantomJS to workaround the issue. Please download it from https://phantomjs.org/download.html\n",
      "         n = -6q8AJpUekAEEhh ; player = https://www.youtube.com/s/player/1cbba2b4/player_ias.vflset/en_US/base.js\n"
     ]
    },
    {
     "name": "stdout",
     "output_type": "stream",
     "text": [
      "episode spam NUMBER, Getting Advanced for 1.19! ▫ Minecraft Survival Guide (Tutorial Lets Play) [S2 E103]\n",
      "!!!!!!!!!!!METADATASPAM\n"
     ]
    },
    {
     "name": "stderr",
     "output_type": "stream",
     "text": [
      "WARNING: [youtube] FjWUNQ7SR30: nsig extraction failed: You may experience throttling for some formats\n",
      "         Install PhantomJS to workaround the issue. Please download it from https://phantomjs.org/download.html\n",
      "         n = SnIMQz0sbqIA3dM ; player = https://www.youtube.com/s/player/1cbba2b4/player_ias.vflset/en_US/base.js\n"
     ]
    },
    {
     "name": "stdout",
     "output_type": "stream",
     "text": [
      "durationspam=\n",
      "['minecraft'] titlespaminc=\n",
      "[\"let's play\", 'lets play', 'walkthrough', 'playthrough', 'walk through', 'play through', 'gameplay'] titlespaminc=\n",
      "episode spam NUMBER, Gta 5 Mini World 5 seeds of village for mini world 2020\n",
      "!!!!!!!!!!!METADATASPAM\n",
      "no commentary titlespamex=\n",
      "no commentary titlespamex=\n",
      "shader descriptionspam\n",
      "no commentary tagspam=\n",
      "no commentary tagspam=\n",
      "!!!!!!!!!!!METADATASPAM\n",
      "durationspam=\n",
      "!!!!!!!!!!!METADATASPAM\n"
     ]
    },
    {
     "name": "stderr",
     "output_type": "stream",
     "text": [
      "WARNING: [youtube] kU8zOeC9A4A: nsig extraction failed: You may experience throttling for some formats\n",
      "         Install PhantomJS to workaround the issue. Please download it from https://phantomjs.org/download.html\n",
      "         n = fu2uoswo_ZSLxKw ; player = https://www.youtube.com/s/player/1cbba2b4/player_ias.vflset/en_US/base.js\n"
     ]
    },
    {
     "name": "stdout",
     "output_type": "stream",
     "text": [
      "durationspam=\n",
      "episode spam NUMBER, Minecraft Java 1.19 Vanilla Survival Let's Play Ep. 0060\n",
      "!!!!!!!!!!!METADATASPAM\n"
     ]
    },
    {
     "name": "stderr",
     "output_type": "stream",
     "text": [
      "WARNING: [youtube] NYVubHLc5Yc: nsig extraction failed: You may experience throttling for some formats\n",
      "         Install PhantomJS to workaround the issue. Please download it from https://phantomjs.org/download.html\n",
      "         n = nVPOBANyxamt37P ; player = https://www.youtube.com/s/player/1cbba2b4/player_ias.vflset/en_US/base.js\n"
     ]
    },
    {
     "name": "stdout",
     "output_type": "stream",
     "text": [
      "bedrock titlespamex=\n",
      "bedrock edition titlespamex=\n",
      "bedrock titlespamex=\n",
      "[\"let's play\", 'lets play', 'walkthrough', 'playthrough', 'walk through', 'play through', 'gameplay'] titlespaminc=\n",
      "['world', 'game', 'play', 'day', 'night'] titlespaminc=\n",
      "bedrock descriptionspam\n",
      "bedrock edition descriptionspam\n",
      "bedrock descriptionspam\n",
      " top  descriptionspam\n",
      "bedrock tagspam=\n",
      "pocket edition tagspam=\n",
      "bedrock edition tagspam=\n",
      "bedrock tagspam=\n",
      "!!!!!!!!!!!METADATASPAM\n"
     ]
    },
    {
     "name": "stderr",
     "output_type": "stream",
     "text": [
      "WARNING: [youtube] OvxoNNASjDw: nsig extraction failed: You may experience throttling for some formats\n",
      "         Install PhantomJS to workaround the issue. Please download it from https://phantomjs.org/download.html\n",
      "         n = hrsaFDfk--_HGZN ; player = https://www.youtube.com/s/player/1cbba2b4/player_ias.vflset/en_US/base.js\n"
     ]
    },
    {
     "name": "stdout",
     "output_type": "stream",
     "text": [
      "!!!!!!METADATA HAM\n",
      "downloading new video...\n",
      "[youtube] Extracting URL: https://youtu.be/OvxoNNASjDw\n",
      "[youtube] OvxoNNASjDw: Downloading webpage\n",
      "[youtube] OvxoNNASjDw: Downloading android player API JSON\n"
     ]
    },
    {
     "name": "stderr",
     "output_type": "stream",
     "text": [
      "WARNING: [youtube] OvxoNNASjDw: nsig extraction failed: You may experience throttling for some formats\n",
      "         Install PhantomJS to workaround the issue. Please download it from https://phantomjs.org/download.html\n",
      "         n = Qb-anOp0rYJ1xMk ; player = https://www.youtube.com/s/player/1cbba2b4/player_ias.vflset/en_US/base.js\n"
     ]
    },
    {
     "name": "stdout",
     "output_type": "stream",
     "text": [
      "[info] OvxoNNASjDw: Downloading 1 format(s): 302+251\n",
      "[youtube] Extracting URL: https://youtu.be/OvxoNNASjDw\n",
      "[youtube] OvxoNNASjDw: Downloading webpage\n",
      "[youtube] OvxoNNASjDw: Downloading android player API JSON\n"
     ]
    },
    {
     "name": "stderr",
     "output_type": "stream",
     "text": [
      "WARNING: [youtube] OvxoNNASjDw: nsig extraction failed: You may experience throttling for some formats\n",
      "         Install PhantomJS to workaround the issue. Please download it from https://phantomjs.org/download.html\n",
      "         n = No2u1k-mmUDkSxb ; player = https://www.youtube.com/s/player/1cbba2b4/player_ias.vflset/en_US/base.js\n"
     ]
    },
    {
     "name": "stdout",
     "output_type": "stream",
     "text": [
      "[info] OvxoNNASjDw: Downloading 1 format(s): 302+251\n",
      "[download] Destination: DATASET\\all\\videos\\OvxoNNASjDw.f302.webm\n",
      "[download]  55.2% of  268.61MiB at    6.04MiB/s ETA 00:19"
     ]
    }
   ],
   "source": [
    "# CHECK HAM/SPAM ON EMTADATA, THEN VIDEO, THEN AUDIO\n",
    "\n",
    "\n",
    "# load target LM's tokenizer for checking WPM as tokens/ms  --- note: not implemented in the end\n",
    "import pycld2 as cld2\n",
    "from transformers import TransfoXLTokenizer\n",
    "import re\n",
    "tokenizer = TransfoXLTokenizer.from_pretrained(\"transfo-xl-wt103\")\n",
    "YDL_OPTIONS = {'noplaylist':True, 'download':False, 'ignoreerrors':True, 'externaldownloader':'aria2c', 'quiet':True, 'downloader':'aria2c' } #'list_subs':True,\n",
    "\n",
    "\n",
    "for link in links_to_check: # do not check links which have already had vidfeo approved. ones disapproved dont reach this stage.\n",
    "\n",
    "\n",
    "    is_spam=False\n",
    "    if (link in ham_videos) or (link in spam_links): # dont re-check already classified videos.\n",
    "        continue\n",
    "\n",
    "\n",
    "\n",
    "    ## from link, fetch metaadata\n",
    "    with yt_dlp.YoutubeDL(YDL_OPTIONS) as ydl:\n",
    "        video = ydl.extract_info(link, download=False)\n",
    "\n",
    "    if video == None:\n",
    "        print(\"VIDEO NONE NULL\")\n",
    "        continue\n",
    "\n",
    "\n",
    "\n",
    "\n",
    "\n",
    "\n",
    "\n",
    "\n",
    "    ################## CHECK LINK METADATA FOR SPAM/HAM (title, tags, transcript...)\n",
    "    if not is_spam:\n",
    "\n",
    "        # check video duration\n",
    "        if video['duration'] < 600:\n",
    "            is_spam=True\n",
    "            print('durationspam=')\n",
    "\n",
    "            \n",
    "        # CHECK TITLE AGAINST REGEX\n",
    "        title = video['title']\n",
    "        for term in exclusion_terms:\n",
    "            if term.lower() in title.lower():\n",
    "                is_spam = True\n",
    "                print(term.lower(), 'titlespamex=')\n",
    "        for term in title_inclusion_terms:\n",
    "            includes_subterm=False\n",
    "            for subterm in term:\n",
    "                if subterm.lower() in title.lower():\n",
    "                    includes_subterm = True\n",
    "            if not includes_subterm:\n",
    "                is_spam=True\n",
    "                print(term, 'titlespaminc=')\n",
    "        # Check for multiplayer in title [... with H..] e.g. \"playing minecraft with Harry\"\n",
    "        if 'with' in title:\n",
    "            char_after_with = title[title.lower().find('with') + 5]\n",
    "            if char_after_with.lower() != char_after_with:\n",
    "                is_spam = True\n",
    "                print(title, 'titlespam: \"with\"')\n",
    "        #check for episode number in title and make sure it is small\n",
    "        nums = re.findall(r'\\d+', title) #https://stackoverflow.com/questions/17007257/python-3-finding-the-last-number-in-a-string\n",
    "        if len(nums)>0:\n",
    "            if int(nums[len(nums)-1]) > 30:\n",
    "                is_spam=True\n",
    "                print('episode spam NUMBER,', title)    \n",
    "        \n",
    "        \n",
    "        # CHECK DESCRIPTION AGAINST REGEX\n",
    "        # cut description or referring to a buch of different youtube videos\n",
    "        description = video['description'].lower()\n",
    "\n",
    "        if 'youtube.' in description:\n",
    "            description = description.split('youtube.')[0]\n",
    "        if '//youtu.be' in description:\n",
    "            description = description.split('//youtu.be')[0]\n",
    "\n",
    "        for term in exclusion_terms:\n",
    "            if term in [' we ']: # these words are check for in title but not description becuase description is too likely to have them while being good\n",
    "                continue\n",
    "            if term in description and (not (term=='creative' and ('survival' in description or 'hardcore' in description))) and ( not (term=='server' and ('discord server' in description) )):\n",
    "                is_spam=True\n",
    "                print(term, 'descriptionspam')\n",
    "\n",
    "                \n",
    "        # CHECK TAGS AGAINST SPAM TAGS (remove ps3/xbox/console/bedrock/ps4/ps5/xbox series...\n",
    "        tags = video['tags']\n",
    "        for term in exclusion_terms:\n",
    "            if term in tags:\n",
    "                is_spam=True\n",
    "                print(term, 'tagspam=')\n",
    "\n",
    "                \n",
    "        # CHECK LANGUAGE (title, description)\n",
    "        _,_,details=cld2.detect(description)\n",
    "        if details[0][0]!= 'ENGLISH':         # get only English videos\n",
    "            is_spam=True\n",
    "            print('description spam language',details[0])\n",
    "        _,_,details=cld2.detect(title)\n",
    "        if details[0][0]!= 'ENGLISH':         # get only English videos\n",
    "            is_spam=True\n",
    "            print('lang spam title', details[0])\n",
    "    if is_spam:\n",
    "        print('!!!!!!!!!!!METADATASPAM')\n",
    "        with open('DATASET/all/spam_metadata.txt', 'a') as file:\n",
    "            file.write(link+'\\n')\n",
    "\n",
    "    else:\n",
    "        print('!!!!!!METADATA HAM')\n",
    "        with open('DATASET/all/ham_metadata.txt', 'a') as file:\n",
    "            file.write(link+'\\n')\n",
    "\n",
    "\n",
    "\n",
    "\n",
    "\n",
    "\n",
    "\n",
    "\n",
    "\n",
    "\n",
    "\n",
    "\n",
    "\n",
    "\n",
    "\n",
    "\n",
    "\n",
    "\n",
    "\n",
    "\n",
    "\n",
    "        \n",
    "    \n",
    "    ######################## CHECK VIDEO SPAM/HAM\n",
    "    ##############\n",
    "    \n",
    "    if (not is_spam) and not (link in ham_videos):\n",
    "        formats = video['formats']\n",
    "        duration = video['duration']\n",
    "\n",
    "        # get video @ 3Hz    #https://stackoverflow.com/questions/66272740/extract-specific-frames-of-youtube-video-without-downloading-video\n",
    "        print(\"downloading new video...\")\n",
    "        #fps = format['fps']\n",
    "        #print(fps)\n",
    "        #url = format['url']\n",
    "        #print('got format',link,url)\n",
    "        #num_frames = (fps*duration) #cut off last second due to possible variation in fps.\n",
    "        \n",
    "        # pre-download whole video\n",
    "        videos_folder = 'DATASET/all/videos/'\n",
    "        reduced_videos_folder = 'DATASET/all/clean_videos/'\n",
    "        output_filename = videos_folder+link\n",
    "        \n",
    "        try:\n",
    "            ydl_dwnld_opts={'match_filter':longer_than_10_mins, \n",
    "                            'download':True, \n",
    "                            'outtmpl':output_filename, \n",
    "                            \"format\":\"(bestvideo[height=720][fps=60]/bestvideo)+bestaudio/best\",\n",
    "                            'downloader':'aria2c',\n",
    "                            'external_downloader':'aria2c',\n",
    "                            'externaldownloader':'aria2c',\n",
    "                            }\n",
    "            with yt_dlp.YoutubeDL(ydl_dwnld_opts) as ydl:\n",
    "                full_link = 'https://youtu.be/'+link\n",
    "                ydl.download(full_link)\n",
    "\n",
    "        except:\n",
    "            ydl_dwnld_opts={'match_filter':longer_than_10_mins, \n",
    "                            'download':True, \n",
    "                            'outtmpl':output_filename, \n",
    "                            \"format\":\"(bestvideo[height=720]/bestvideo)+bestaudio/best\",\n",
    "                            'downloader':'aria2c',\n",
    "                            'external_downloader':'aria2c',\n",
    "                            'externaldownloader':'aria2c',\n",
    "                            }\n",
    "            with yt_dlp.YoutubeDL(ydl_dwnld_opts) as ydl:\n",
    "                full_link = 'https://youtu.be/'+link\n",
    "                ydl.download(full_link)\n",
    "\n",
    "        finally:\n",
    "            ydl_dwnld_opts={'match_filter':longer_than_10_mins, \n",
    "                            'download':True, \n",
    "                            'outtmpl':output_filename,\n",
    "                            \"format\":\"(bestvideo[height=480]/bestvideo)+bestaudio/best\",\n",
    "                            'downloader':'aria2c',\n",
    "                            'external_downloader':'aria2c',\n",
    "                            'externaldownloader':'aria2c',\n",
    "                            }\n",
    "            with yt_dlp.YoutubeDL(ydl_dwnld_opts) as ydl:\n",
    "                full_link = 'https://youtu.be/'+link\n",
    "                ydl.download(full_link)\n",
    "\n",
    "        filenames = os.listdir(videos_folder)\n",
    "        for filename in filenames:\n",
    "            if filename.split('.')[0] == link:\n",
    "                output_filename = videos_folder+filename\n",
    "                break\n",
    "        cap = cv2.VideoCapture(output_filename)\n",
    "        fps = cap.get(cv2.CAP_PROP_FPS)\n",
    "\n",
    "        \n",
    "        ###\n",
    "        #frame_index=fps*1*60 # skip into start of video. REMEMBER DURING ACTUAL VIDEO EXTRACTION TO CUT TO ACTUAL CLEAN GAMEPLAY # go at least 2 minutes into video. if still mostly spam, stop classifying - it is probably spam\n",
    "        #cap.set(1, round(frame_index))\n",
    "        frame_index=0 # skip into start of video. REMEMBER DURING ACTUAL VIDEO EXTRACTION TO CUT TO ACTUAL CLEAN GAMEPLAY # go at least 2 minutes into video. if still mostly spam, stop classifying - it is probably spam\n",
    "        ###\n",
    "\n",
    "        is_spam=False\n",
    "        frames=[]\n",
    "        spamham_labels=[]\n",
    "        # get next frame\n",
    "        \n",
    "        print('|',end='')\n",
    "        ret=True\n",
    "        while ret and (not is_spam):\n",
    "            now = time.time()\n",
    "\n",
    "            #get frame\n",
    "            ret, frame = cap.read()\n",
    "            if not ret:\n",
    "                print('NOT RET')\n",
    "                break\n",
    "            #convert\n",
    "            frame = Image.fromarray(frame)\n",
    "\n",
    "            with th.no_grad():\n",
    "                frame = preprocess(frame).unsqueeze(0).to(device) # preprocess each frame as they come in so we dont reprocess each frame each new window slide\n",
    "            # add to list of current frames (we are doing sliding widow of size 7 across video at 3Hz)\n",
    "            frames.append(frame)\n",
    "            \n",
    "\n",
    "            ##### NOT ENOUGH COMPUTE: we will check eery 10 seconds of video for spam/ham. damaging types of spam ham are consistent: creative, multiplayer, sever, mods, texturepacks, shaders. skyblock, console version, unrelated, nether, etc... probably fine to check this inrequently\n",
    "            # skip enough frames to get 3Hz\n",
    "            frame_index += fps*10\n",
    "            cap.set(cv2.CAP_PROP_POS_FRAMES, round(frame_index))\n",
    "            # keep frames[] as 7-wide window across episode\n",
    "            if len(frames) == 8:\n",
    "                frames.pop(0)\n",
    "                frames.pop(0)\n",
    "\n",
    "            \n",
    "\n",
    "            # use median filter of kernel_size=7 across vidoe to classify clean frames, as described in paper\n",
    "            if len(frames) == 7:\n",
    "                classification_window_frames = th.cat(frames)\n",
    "                label = frames_to_class(classification_window_frames)\n",
    "                print(label,end='')\n",
    "                spamham_labels.append(label)\n",
    "\n",
    "                if frame_index/fps >= 120: # dont make jusdgement on if video is spam/ham until 2 mins in. if mostly spam, the video is marked as spam           # REMMEBER: up to 1 minute of video may now be dirty. when loading dataset use the casifier and crop these areas of video to save on resources\n",
    "                    # if the median of all frames is\n",
    "\n",
    "                    num_clean = np.count_nonzero(np.asarray(spamham_labels)==1)\n",
    "                    total = len(spamham_labels)\n",
    "                    clean_fraction = float(num_clean)/float(total)\n",
    "                    #print('{'+str(clean_fraction)+'}', end='')\n",
    "                    if (clean_fraction) < 0.7:\n",
    "                        print('SPAM VIDEO!')\n",
    "                        is_spam=True\n",
    "                        with open('DATASET/all/spam_video.txt', 'a') as file:\n",
    "                            file.write(link+'\\n')\n",
    "                        break\n",
    "\n",
    "        \n",
    "        # if stopped classifying frames, its because either because spam or ham\n",
    "        cap.release()\n",
    "        if not is_spam:\n",
    "            print('VIDEO HAM!!!')\n",
    "            # write that this video is ham video\n",
    "            with open('DATASET/all/ham_video.txt', 'a') as file:\n",
    "                file.write(link+'\\n')\n",
    "            command = \"del \"+output_filename\n",
    "            # since the video is ham is shuold be stored permanently: it needs to be downscaled to 360p as in VPT and sampled at 20Hz\n",
    "            reduced_output_filename = reduced_videos_folder+filename\n",
    "            command = \"ffmpeg -i \"+output_filename+' -vf \"fps=20,scale=640:360,format=yuv420p\" vcodec h265 -preset medium -crf 30 '+output_filename+\" && del \"+output_filename\n",
    "            os.system(command)\n",
    "\n",
    "\n",
    "\n",
    "\n",
    "\n",
    "\n",
    "\n",
    "\n",
    "\n",
    "\n",
    "\n",
    "\n",
    "\n",
    "\n",
    "\n",
    "\n",
    "\n",
    "\n",
    "\n",
    "\n",
    "\n",
    "\n",
    "\n",
    "        ########################\n",
    "        #########################  CHECK TRANSCRIPT SPAM/HAM DURING VIDEO\n",
    "\n",
    "       \n",
    "        # https://superuser.com/questions/927523/how-to-download-only-subtitles-of-videos-using-youtube-dl\n",
    "        # check subtitles LANGAUGE and WPM\n",
    "        if False: #(not is_spam) and not (link in ham_transcript):\n",
    "            pass\n",
    "            \"\"\"\n",
    "            # FIRST CHECK FOR EXISTING SUBTITLES:\n",
    "            try write-sub --sub-lang en --skip-download URL \n",
    "             else:\n",
    "              write-auto-sub --sub-lang en --skip-download URL \n",
    "            # check if subtitiles are available in English\n",
    "                subtitles = video.get('subtitles')\n",
    "            if not subtitles:\n",
    "                subtitles = video.get('automatic_captions')\n",
    "            # if subtitiles are available, check if english is available, if not, this video is not english\n",
    "            if subtitles and not subtitles.get('en'):\n",
    "                is_spam=True\n",
    "            print(video['subtitles'], 'spam=',is_spam)\n",
    "            \n",
    "            # Check WPM. we dont want video with too high a WPM. LM can only fit so many words and we dont watn to use up all the context for a single minute of video. lower WPM also means we can use large D which lets LM see farther back in time. High WPM also may indicate multiplayer which is a very noisy langauge signal, especially since other person wont be seeing what is shown in the video, their langauge will be about something completely different.\n",
    "            if subtitles:\n",
    "                transcript = subtitles\n",
    "                num_tokens = len(tokenizer(' '.join(transcript)))\n",
    "                video_mins = video['duration']/60\n",
    "                WPM = num_tokens/video_mins     # WARNING: variable is called WPM as simplification, its actually tokens per minute\n",
    "                if WPM<180 or WPM>280:\n",
    "                    is_spam = True\n",
    "                    print('WPm spam')\n",
    "\n",
    "\n",
    "            # if no subtitles exist, check subtitles with OpenAI Whisper tiny - we only need to measure wpm and check language\n",
    "        \n",
    "            if is_spam:\n",
    "                with open('DATASET/all/spam_transcript.txt', 'a') as file:\n",
    "                    file.write(video['id']+'\\n')\n",
    "            else:\n",
    "                with open('DATASET/all/ham_transcript.txt','a') as file:\n",
    "                    file.write(video['id']+'\\n')\n",
    "\n",
    "\n",
    "            ############ CHECK LANGUAGE HAM/SPAM\n",
    "            ############\n",
    "\n",
    "            ### LOAD AUDIO TRANSCRIBER\n",
    "            #from stable_whisper import load_model\n",
    "            #from stable_whisper import stabilize_timestamps\n",
    "            #model = load_model('base')\n",
    "\n",
    "\n",
    "            # want to download slowly to not get banned by google - dont use multiple workers\n",
    "            for video in len(all_videos_to_search):\n",
    "                is_spam=False\n",
    "                link = video['id']\n",
    "                formats = video['formats']\n",
    "                duration = video['duration']\n",
    "\n",
    "                # skip if video is already downloaded.\n",
    "                if (link in ham_links) or (link in spam_links):\n",
    "                    continue\n",
    "\n",
    "\n",
    "                ############## CHECK LANGUAGE/TRANSCRIPT SPAM/HAM\n",
    "                ##############\n",
    "\n",
    "                # get audio sample & check spamham\n",
    "                if not is_spam:\n",
    "                    ydl.getaudio(link, 00:00-00:20, download=audiofile)\n",
    "                    # check langauge, WPM\n",
    "                    language = model.detectlanguage(audiofile)\n",
    "                    if language != 'english':\n",
    "                        is_spam=True\n",
    "                        continue\n",
    "\n",
    "                # if clean, save link to file\n",
    "                with open('ham_language.txt','a') as clean_links_file:\n",
    "                    clean_links_file.write(video['id'])\n",
    "\n",
    "                # download video and scale to 128\n",
    "                #os.system(dlp download video.link -ouput link.mp4)\n",
    "                #ffmpeg()\n",
    "            \"\"\"\n",
    "\n",
    "\n"
   ]
  }
 ],
 "metadata": {
  "kernelspec": {
   "display_name": "Python 3.9.12 ('base')",
   "language": "python",
   "name": "python3"
  },
  "language_info": {
   "codemirror_mode": {
    "name": "ipython",
    "version": 3
   },
   "file_extension": ".py",
   "mimetype": "text/x-python",
   "name": "python",
   "nbconvert_exporter": "python",
   "pygments_lexer": "ipython3",
   "version": "3.9.12"
  },
  "vscode": {
   "interpreter": {
    "hash": "ad2bdc8ecc057115af97d19610ffacc2b4e99fae6737bb82f5d7fb13d2f2c186"
   }
  }
 },
 "nbformat": 4,
 "nbformat_minor": 5
}
