{
 "cells": [
  {
   "cell_type": "code",
   "execution_count": null,
   "metadata": {},
   "outputs": [],
   "source": [
    "\n",
    "# create GUI window to show an image\n",
    "\n",
    "import matplotlib\n",
    "matplotlib.use(\"Qt5agg\")\n",
    "\n",
    "def get_response(img):\n",
    "    fig = plt.figure()\n",
    "    fig.imshow(img)\n",
    "    \n",
    "    label = input('is this ham? enter for yes, anything else for no')\n",
    "    if label == '':\n",
    "        label = True\n",
    "    else:\n",
    "        label= False\n",
    "\n",
    "    return label"
   ]
  }
 ],
 "metadata": {
  "language_info": {
   "name": "python"
  },
  "orig_nbformat": 4
 },
 "nbformat": 4,
 "nbformat_minor": 2
}
