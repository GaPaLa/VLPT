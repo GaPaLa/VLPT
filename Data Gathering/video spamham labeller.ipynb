{
 "cells": [
  {
   "cell_type": "code",
   "execution_count": null,
   "metadata": {},
   "outputs": [],
   "source": [
    "\n",
    "# create GUI window to show an image\n",
    "\n",
    "import matplotlib\n",
    "matplotlib.use(\"Qt5agg\")\n",
    "\n",
    "def get_response(img):\n",
    "    fig = plt.figure()\n",
    "    fig.imshow(img)\n",
    "    \n",
    "    label = input('is this ham? enter for yes, anything else for no')\n",
    "    if label == '':\n",
    "        label = True\n",
    "    else:\n",
    "        label= False\n",
    "\n",
    "    return label"
   ]
  }
 ],
 "metadata": {
  "kernelspec": {
   "display_name": "minerl",
   "language": "python",
   "name": "python3"
  },
  "language_info": {
   "name": "python",
   "version": "3.8.15 (default, Nov 24 2022, 15:19:38) \n[GCC 11.2.0]"
  },
  "orig_nbformat": 4,
  "vscode": {
   "interpreter": {
    "hash": "44f58b348a4d2991bb9cc32651780e86abd4fe788463c217caf1a9850410ed63"
   }
  }
 },
 "nbformat": 4,
 "nbformat_minor": 2
}
