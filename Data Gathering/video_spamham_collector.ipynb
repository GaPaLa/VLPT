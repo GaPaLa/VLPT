{
 "cells": [
  {
   "cell_type": "code",
   "execution_count": 1,
   "id": "1a33226f",
   "metadata": {},
   "outputs": [
    {
     "name": "stderr",
     "output_type": "stream",
     "text": [
      "Duplicate key in file PosixPath('/home/idmi/miniconda3/envs/minerl/lib/python3.8/site-packages/matplotlib/mpl-data/matplotlibrc'), line 603 ('image.interpolation:\\tnone')\n"
     ]
    }
   ],
   "source": [
    "# inspired by VPT cleaning process, use model, preprocess = clip.load('RN50x64', device, jit=True)\n",
    "#!pip install matplotlib\n",
    "#!pip install -U yt-dlp\n",
    "#!pip install ffmpeg-python\n",
    "\n",
    "import yt_dlp\n",
    "import matplotlib\n",
    "from yt_dlp import YoutubeDL\n",
    "import random\n",
    "import os\n",
    "\n",
    "\n",
    "def s_to_HHmmss(secs):\n",
    "    mins = (secs - secs%60) / 60\n",
    "    secs = secs%60\n",
    "    hours = (mins - mins%60) / 60\n",
    "    mins = mins%60\n",
    "    \n",
    "    if hours>0:\n",
    "        HHmmss = \":\".join([str(int(hours)),str(int(mins)),str(secs)])\n",
    "    elif mins>0:\n",
    "        HHmmss = \":\".join([str(int(mins)),str(secs)])\n",
    "    else:\n",
    "        HHmmss = str(secs)\n",
    "            \n",
    "    return HHmmss"
   ]
  },
  {
   "cell_type": "code",
   "execution_count": 2,
   "id": "7f6f5f61",
   "metadata": {},
   "outputs": [],
   "source": [
    "# OPEN VIDEO FILE HEADER, READ SEEN LINKS/CHANNELS\n",
    "header_file = open(\"spamham_samples/header.txt\", \"r\")\n",
    "header_text = header_file.readlines()\n",
    "header_file.close()\n",
    "\n",
    "all_links = []\n",
    "all_channels = []\n",
    "\n",
    "# https://pypi.org/project/yt-dlp/#usage-and-options\n",
    "def longer_than_a_minute(info, *, incomplete):\n",
    "    \"\"\"Download only videos longer than 10 minutes\"\"\"\n",
    "    duration = info.get('duration')\n",
    "    if duration and duration < 600:\n",
    "        return 'The video is too short'\n",
    "YDL_OPTIONS = {'noplaylist':True, 'Download':False, 'match_filter':longer_than_a_minute, 'ignoreerrors':True}\n",
    "\n",
    "for line in header_text:\n",
    "    link = line\n",
    "    if (not (link in all_links)) and (link!=''):\n",
    "        all_links.append(link)"
   ]
  },
  {
   "cell_type": "code",
   "execution_count": null,
   "id": "83d7dbb1",
   "metadata": {},
   "outputs": [],
   "source": [
    "search_queries = [\n",
    "#    \"minecraft fresh start new world creative\",\n",
    "#    \"minecraft new world modded\",\n",
    "#    \"minecraft guide\",\n",
    "#    \"minecraft speedrun\",\n",
    "#    \"minecraft how to redstone\",\n",
    "#    \"minecraft new world tutorial\",\n",
    "#    \"minecraft creative guide\",\n",
    "#    \"minecraft tutorial how to survival vanilla new world lets play\",\n",
    "#    \"minecraft basics\",\n",
    "#    \"minecraft for beginners\",\n",
    "#    \"minecraft how to hardcore guide\",\n",
    "#    \"minecraft how to survival 1.16 guide\",\n",
    "\n",
    "    'minecraft \"vanilla\" \"new world\" \"survival\" \"gameplay\" -rtx -feature -mod -dragon -lucky -bedrock -pocket -unturned -roblox -fps -shader -server -smp -dimension -\"how to\" -top',\n",
    "    'minecraft \"vanilla\" \"new world\" \"survival\"',\n",
    "    'minecraft \"vanilla\" \"new world\" \"survival\" \"lets play\"',\n",
    "    'minecraft \"vanilla\" \"new world\" \"survival\" \"lets play\" \"tutorial\"',\n",
    "    'minecraft \"vanilla\" \"new world\" \"survival\" \"gameplay\" -rtx -feature -mod -dragon -lucky -bedrock -pocket -unturned -roblox -fps -shader -server -smp -dimension -\"how to\" -top vod',\n",
    "    'minecraft longplay',\n",
    "    ''\n",
    "\n",
    "#    \"minecraft stream\",\n",
    "#    \"minecraft lets play\",\n",
    "#    \"minecraft gameplay survival\",\n",
    "#    \"minecraft gameplay hardcore\",\n",
    "#    \"minecraft lets play\",\n",
    "#    \"minecraft tutorial\",\n",
    "#    \"minecraft new world survival\",\n",
    "#    \"minecraft hardcore\",\n",
    "#    \"minecraft gameplay surival\",\n",
    "#    \"minecraft longplay\",\n",
    "    ]\n",
    "\n",
    "for query in search_queries:\n",
    "\n",
    "    search_query = query\n",
    "    \n",
    "    #\"minecraft tutorial how to hardcore vanilla new world lets play\"\n",
    "    # minecraft vanilla lets play stream\n",
    "    #\"minecraft guide walkthrough survival new world 1.16\"\n",
    "    #\"minecraft survival hardcore tutorial how to guide learn basics beginner lets play walkthrough gameplay new world first night first day 1.16\"\n",
    "    #\"minecraft new world creative vanilla\"\n",
    "    #\"minecraft creative mode how to\"\n",
    "    # \"minecraft shaders\"\n",
    "    #\"minecraft console edition pocket edition ps3 ps4 ps5 xbox bedrock\"\n",
    "    #\"playing minecraft with multiplayer server\"\n",
    "    # minecraft creative 1.16\n",
    "    # minecraft creative\n",
    "    # minecraft lets play stream mod\n",
    "    # minecraft mod technic\n",
    "    # minecraft mod\n",
    "\n",
    "    with yt_dlp.YoutubeDL(YDL_OPTIONS) as ydl:\n",
    "        search_results = ydl.extract_info(f\"ytsearchall:{search_query}\", download=False)['entries']\n",
    "\n",
    "    # DOWNLOAD RANDOM FRAMES FROM EACH LINK\n",
    "    #https://pypi.org/project/yt-dlp/\n",
    "\n",
    "\n",
    "\n",
    "    # dont re-download frames from videos which have already hadframes downloaded\n",
    "    with open(\"spamham_samples/header.txt\",\"r\") as used_links:\n",
    "        used_links = used_links.readlines()\n",
    "        for i in range(len(used_links)):\n",
    "            used_links[i] = used_links[i].split('\\n')[0]\n",
    "\n",
    "\n",
    "\n",
    "    # for every link:\n",
    "    for i in range(len(search_results)):\n",
    "\n",
    "        \n",
    "        # separate out video info\n",
    "        video = search_results[i]\n",
    "        try:\n",
    "            video['duration']\n",
    "        except:\n",
    "            continue\n",
    "\n",
    "        if video['duration']>300 and not(video['id'] in used_links):      ############################# PRE-FILTERING FILTERING:\n",
    "\n",
    "            video_link = video['id']\n",
    "            video_name = video['title']\n",
    "            video_channel = video['channel']\n",
    "            filename = video_link\n",
    "\n",
    "            print(\"getting new video!\")\n",
    "            # SELECT RANDOM FRAME\n",
    "            duration = video['duration']\n",
    "            random_sec = min(random.randint(0, 10*60), duration-2)\n",
    "            random_sec_formatted = \"*\"+random_sec+\"-\"+random_sec+1\n",
    "\n",
    "\n",
    "            # DOWNLOAD SHORT VIDEO SECTION\n",
    "            full_link = str(\"https://www.youtube.com/watch?v=%s\"%video_link)\n",
    "            print(full_link)\n",
    "            print(random_sec_formatted)\n",
    "\n",
    "            filename_ext = filename+'.mp4'\n",
    "            command_download_frames = str(\"yt-dlp -S res:720,ext:mp4,fps:24 -c --recode mp4 --download-sections %s %s --output spamham_samples/%s.mp4\" %(random_sec_formatted, full_link, filename))\n",
    "            #command_get_1_frame = str('ffmpeg -i spamham_samples/%s -vcodec png -ss 0 -vframes 1 -an -f rawvideo spamham_samples/frames/%s.png -y' %(filename_ext, filename) )\n",
    "            command_get_1_frame = str('ffmpeg -i spamham_samples/%s -r 1 -vframes 1 -f image2 -q:v 1 spamham_samples/frames/%s.jpeg -y' %(filename_ext, filename) )\n",
    "            command_del_video = str('rm spamham_samples/%s.mp4' %filename)\n",
    "            command_all_in_1 = command_download_frames +' && ' + command_get_1_frame +' && ' + command_del_video\n",
    "            os.system(command_all_in_1)\n",
    "\n",
    "            # CROP VIDEO SECTION TO FIRST FRAME\n",
    "            #\"https://www.youtube.com/watch?v={sID}\".format(sID=video_link)\n",
    "            #label = get_response(filename+\".jpg\")\n",
    "            line = str(filename+\"\\n\")\n",
    "\n",
    "            header_file = open(\"spamham_samples/header.txt\",\"a\")\n",
    "            sources_file = open(\"spamham_samples/sources.txt\",\"a\")\n",
    "            header_file.write(line)\n",
    "            sources_file.write(video_channel+\",\"+full_link+\"\\n\")\n",
    "            header_file.close()\n",
    "            sources_file.close()"
   ]
  },
  {
   "cell_type": "code",
   "execution_count": 25,
   "id": "110c788a",
   "metadata": {},
   "outputs": [
    {
     "name": "stdout",
     "output_type": "stream",
     "text": [
      "|UousROBIBT4|\n",
      "get vid info\n",
      "[youtube] Extracting URL: https://www.youtube.com/watch?v=UousROBIBT4\n",
      "[youtube] UousROBIBT4: Downloading webpage\n",
      "[youtube] UousROBIBT4: Downloading android player API JSON\n",
      "[youtube] UousROBIBT4: Downloading MPD manifest\n",
      "get random frame\n",
      "*922-923\n",
      "UousROBIBT4\n",
      "yt-dlp -S res:720,ext:mp4,fps:24 -c --recode mp4 --download-sections *922-923 https://www.youtube.com/watch?v=UousROBIBT4 --output spamham_samples/UousROBIBT4.mp4 --retries infinite --fragment-retries infinite && ffmpeg -i spamham_samples/UousROBIBT4.mp4 -r 1 -vframes 1 -f image2 -q:v 1 spamham_samples/frames/UousROBIBT4.%03d.jpeg -y && del spamham_samples\\UousROBIBT4.mp4\n",
      "running donwload, extract, delete cmd...0\n",
      "add file to sources\n",
      "label frame\n",
      "|UgEzkgti_eY|\n",
      "get vid info\n",
      "[youtube] Extracting URL: https://www.youtube.com/watch?v=UgEzkgti_eY\n",
      "[youtube] UgEzkgti_eY: Downloading webpage\n",
      "[youtube] UgEzkgti_eY: Downloading android player API JSON\n",
      "[youtube] UgEzkgti_eY: Downloading MPD manifest\n",
      "get random frame\n",
      "*339-340\n",
      "UgEzkgti_eY\n",
      "yt-dlp -S res:720,ext:mp4,fps:24 -c --recode mp4 --download-sections *339-340 https://www.youtube.com/watch?v=UgEzkgti_eY --output spamham_samples/UgEzkgti_eY.mp4 --retries infinite --fragment-retries infinite && ffmpeg -i spamham_samples/UgEzkgti_eY.mp4 -r 1 -vframes 1 -f image2 -q:v 1 spamham_samples/frames/UgEzkgti_eY.%03d.jpeg -y && del spamham_samples\\UgEzkgti_eY.mp4\n",
      "running donwload, extract, delete cmd...1\n",
      "add file to sources\n",
      "label frame\n",
      "|Z9x8AHP4uUc|\n",
      "get vid info\n",
      "[youtube] Extracting URL: https://www.youtube.com/watch?v=Z9x8AHP4uUc\n",
      "[youtube] Z9x8AHP4uUc: Downloading webpage\n",
      "[youtube] Z9x8AHP4uUc: Downloading android player API JSON\n",
      "[youtube] Z9x8AHP4uUc: Downloading MPD manifest\n",
      "get random frame\n",
      "*278-279\n",
      "Z9x8AHP4uUc\n",
      "yt-dlp -S res:720,ext:mp4,fps:24 -c --recode mp4 --download-sections *278-279 https://www.youtube.com/watch?v=Z9x8AHP4uUc --output spamham_samples/Z9x8AHP4uUc.mp4 --retries infinite --fragment-retries infinite && ffmpeg -i spamham_samples/Z9x8AHP4uUc.mp4 -r 1 -vframes 1 -f image2 -q:v 1 spamham_samples/frames/Z9x8AHP4uUc.%03d.jpeg -y && del spamham_samples\\Z9x8AHP4uUc.mp4\n",
      "running donwload, extract, delete cmd...1\n",
      "add file to sources\n",
      "label frame\n",
      "|yM_itqpxlIQ|\n",
      "get vid info\n",
      "[youtube] Extracting URL: https://www.youtube.com/watch?v=yM_itqpxlIQ\n",
      "[youtube] yM_itqpxlIQ: Downloading webpage\n",
      "[youtube] yM_itqpxlIQ: Downloading android player API JSON\n",
      "[youtube] yM_itqpxlIQ: Downloading MPD manifest\n",
      "get random frame\n",
      "*219-220\n",
      "yM_itqpxlIQ\n",
      "yt-dlp -S res:720,ext:mp4,fps:24 -c --recode mp4 --download-sections *219-220 https://www.youtube.com/watch?v=yM_itqpxlIQ --output spamham_samples/yM_itqpxlIQ.mp4 --retries infinite --fragment-retries infinite && ffmpeg -i spamham_samples/yM_itqpxlIQ.mp4 -r 1 -vframes 1 -f image2 -q:v 1 spamham_samples/frames/yM_itqpxlIQ.%03d.jpeg -y && del spamham_samples\\yM_itqpxlIQ.mp4\n",
      "running donwload, extract, delete cmd...1\n",
      "add file to sources\n",
      "label frame\n",
      "|D-HMponN2Nk|\n",
      "get vid info\n",
      "[youtube] Extracting URL: https://www.youtube.com/watch?v=D-HMponN2Nk\n",
      "[youtube] D-HMponN2Nk: Downloading webpage\n",
      "[youtube] D-HMponN2Nk: Downloading android player API JSON\n",
      "[youtube] D-HMponN2Nk: Downloading MPD manifest\n",
      "get random frame\n",
      "*151-152\n",
      "D-HMponN2Nk\n",
      "yt-dlp -S res:720,ext:mp4,fps:24 -c --recode mp4 --download-sections *151-152 https://www.youtube.com/watch?v=D-HMponN2Nk --output spamham_samples/D-HMponN2Nk.mp4 --retries infinite --fragment-retries infinite && ffmpeg -i spamham_samples/D-HMponN2Nk.mp4 -r 1 -vframes 1 -f image2 -q:v 1 spamham_samples/frames/D-HMponN2Nk.%03d.jpeg -y && del spamham_samples\\D-HMponN2Nk.mp4\n",
      "running donwload, extract, delete cmd...1\n",
      "add file to sources\n",
      "label frame\n",
      "|TwiJgTNr7Yk|\n",
      "get vid info\n",
      "[youtube] Extracting URL: https://www.youtube.com/watch?v=TwiJgTNr7Yk\n",
      "[youtube] TwiJgTNr7Yk: Downloading webpage\n",
      "[youtube] TwiJgTNr7Yk: Downloading android player API JSON\n",
      "[youtube] TwiJgTNr7Yk: Downloading MPD manifest\n",
      "get random frame\n",
      "*347-348\n",
      "TwiJgTNr7Yk\n",
      "yt-dlp -S res:720,ext:mp4,fps:24 -c --recode mp4 --download-sections *347-348 https://www.youtube.com/watch?v=TwiJgTNr7Yk --output spamham_samples/TwiJgTNr7Yk.mp4 --retries infinite --fragment-retries infinite && ffmpeg -i spamham_samples/TwiJgTNr7Yk.mp4 -r 1 -vframes 1 -f image2 -q:v 1 spamham_samples/frames/TwiJgTNr7Yk.%03d.jpeg -y && del spamham_samples\\TwiJgTNr7Yk.mp4\n",
      "running donwload, extract, delete cmd...1\n",
      "add file to sources\n",
      "label frame\n",
      "|y8AYNaiCQHk|\n",
      "get vid info\n",
      "[youtube] Extracting URL: https://www.youtube.com/watch?v=y8AYNaiCQHk\n",
      "[youtube] y8AYNaiCQHk: Downloading webpage\n",
      "[youtube] y8AYNaiCQHk: Downloading android player API JSON\n",
      "get random frame\n",
      "*1373-1374\n",
      "y8AYNaiCQHk\n",
      "yt-dlp -S res:720,ext:mp4,fps:24 -c --recode mp4 --download-sections *1373-1374 https://www.youtube.com/watch?v=y8AYNaiCQHk --output spamham_samples/y8AYNaiCQHk.mp4 --retries infinite --fragment-retries infinite && ffmpeg -i spamham_samples/y8AYNaiCQHk.mp4 -r 1 -vframes 1 -f image2 -q:v 1 spamham_samples/frames/y8AYNaiCQHk.%03d.jpeg -y && del spamham_samples\\y8AYNaiCQHk.mp4\n",
      "running donwload, extract, delete cmd...0\n",
      "add file to sources\n",
      "label frame\n",
      "|oE89D7Z0iY4|\n",
      "get vid info\n",
      "[youtube] Extracting URL: https://www.youtube.com/watch?v=oE89D7Z0iY4\n",
      "[youtube] oE89D7Z0iY4: Downloading webpage\n",
      "[youtube] oE89D7Z0iY4: Downloading android player API JSON\n",
      "get random frame\n",
      "*78-79\n",
      "oE89D7Z0iY4\n",
      "yt-dlp -S res:720,ext:mp4,fps:24 -c --recode mp4 --download-sections *78-79 https://www.youtube.com/watch?v=oE89D7Z0iY4 --output spamham_samples/oE89D7Z0iY4.mp4 --retries infinite --fragment-retries infinite && ffmpeg -i spamham_samples/oE89D7Z0iY4.mp4 -r 1 -vframes 1 -f image2 -q:v 1 spamham_samples/frames/oE89D7Z0iY4.%03d.jpeg -y && del spamham_samples\\oE89D7Z0iY4.mp4\n",
      "running donwload, extract, delete cmd...0\n",
      "add file to sources\n",
      "label frame\n",
      "|i-JUyqYPoSA|\n",
      "get vid info\n",
      "[youtube] Extracting URL: https://www.youtube.com/watch?v=i-JUyqYPoSA\n",
      "[youtube] i-JUyqYPoSA: Downloading webpage\n",
      "[youtube] i-JUyqYPoSA: Downloading android player API JSON\n"
     ]
    },
    {
     "name": "stderr",
     "output_type": "stream",
     "text": [
      "WARNING: [youtube] i-JUyqYPoSA: nsig extraction failed: You may experience throttling for some formats\n",
      "         Install PhantomJS to workaround the issue. Please download it from https://phantomjs.org/download.html\n",
      "         n = f16kHG1UoVmfd9 ; player = https://www.youtube.com/s/player/97ea7458/player_ias.vflset/en_US/base.js\n"
     ]
    },
    {
     "name": "stdout",
     "output_type": "stream",
     "text": [
      "get random frame\n",
      "*144-145\n",
      "i-JUyqYPoSA\n",
      "yt-dlp -S res:720,ext:mp4,fps:24 -c --recode mp4 --download-sections *144-145 https://www.youtube.com/watch?v=i-JUyqYPoSA --output spamham_samples/i-JUyqYPoSA.mp4 --retries infinite --fragment-retries infinite && ffmpeg -i spamham_samples/i-JUyqYPoSA.mp4 -r 1 -vframes 1 -f image2 -q:v 1 spamham_samples/frames/i-JUyqYPoSA.%03d.jpeg -y && del spamham_samples\\i-JUyqYPoSA.mp4\n",
      "running donwload, extract, delete cmd...0\n",
      "add file to sources\n",
      "label frame\n",
      "|G3kCWi-eax0|\n",
      "get vid info\n",
      "[youtube] Extracting URL: https://www.youtube.com/watch?v=G3kCWi-eax0\n",
      "[youtube] G3kCWi-eax0: Downloading webpage\n",
      "[youtube] G3kCWi-eax0: Downloading android player API JSON\n",
      "[youtube] G3kCWi-eax0: Downloading MPD manifest\n",
      "get random frame\n",
      "*61-62\n",
      "G3kCWi-eax0\n",
      "yt-dlp -S res:720,ext:mp4,fps:24 -c --recode mp4 --download-sections *61-62 https://www.youtube.com/watch?v=G3kCWi-eax0 --output spamham_samples/G3kCWi-eax0.mp4 --retries infinite --fragment-retries infinite && ffmpeg -i spamham_samples/G3kCWi-eax0.mp4 -r 1 -vframes 1 -f image2 -q:v 1 spamham_samples/frames/G3kCWi-eax0.%03d.jpeg -y && del spamham_samples\\G3kCWi-eax0.mp4\n",
      "running donwload, extract, delete cmd...1\n",
      "add file to sources\n",
      "label frame\n",
      "|GfzbFKIy7D4|\n",
      "get vid info\n",
      "[youtube] Extracting URL: https://www.youtube.com/watch?v=GfzbFKIy7D4\n",
      "[youtube] GfzbFKIy7D4: Downloading webpage\n",
      "[youtube] GfzbFKIy7D4: Downloading android player API JSON\n"
     ]
    },
    {
     "name": "stderr",
     "output_type": "stream",
     "text": [
      "WARNING: [youtube] GfzbFKIy7D4: nsig extraction failed: You may experience throttling for some formats\n",
      "         Install PhantomJS to workaround the issue. Please download it from https://phantomjs.org/download.html\n",
      "         n = gXuOfFwu8DgA89 ; player = https://www.youtube.com/s/player/97ea7458/player_ias.vflset/en_US/base.js\n"
     ]
    },
    {
     "name": "stdout",
     "output_type": "stream",
     "text": [
      "get random frame\n",
      "*85-86\n",
      "GfzbFKIy7D4\n",
      "yt-dlp -S res:720,ext:mp4,fps:24 -c --recode mp4 --download-sections *85-86 https://www.youtube.com/watch?v=GfzbFKIy7D4 --output spamham_samples/GfzbFKIy7D4.mp4 --retries infinite --fragment-retries infinite && ffmpeg -i spamham_samples/GfzbFKIy7D4.mp4 -r 1 -vframes 1 -f image2 -q:v 1 spamham_samples/frames/GfzbFKIy7D4.%03d.jpeg -y && del spamham_samples\\GfzbFKIy7D4.mp4\n",
      "running donwload, extract, delete cmd...0\n",
      "add file to sources\n",
      "label frame\n",
      "|zbvJlAKTiQo|\n",
      "get vid info\n",
      "[youtube] Extracting URL: https://www.youtube.com/watch?v=zbvJlAKTiQo\n",
      "[youtube] zbvJlAKTiQo: Downloading webpage\n",
      "[youtube] zbvJlAKTiQo: Downloading android player API JSON\n",
      "[youtube] zbvJlAKTiQo: Downloading MPD manifest\n",
      "get random frame\n",
      "*704-705\n",
      "zbvJlAKTiQo\n",
      "yt-dlp -S res:720,ext:mp4,fps:24 -c --recode mp4 --download-sections *704-705 https://www.youtube.com/watch?v=zbvJlAKTiQo --output spamham_samples/zbvJlAKTiQo.mp4 --retries infinite --fragment-retries infinite && ffmpeg -i spamham_samples/zbvJlAKTiQo.mp4 -r 1 -vframes 1 -f image2 -q:v 1 spamham_samples/frames/zbvJlAKTiQo.%03d.jpeg -y && del spamham_samples\\zbvJlAKTiQo.mp4\n",
      "running donwload, extract, delete cmd...1\n",
      "add file to sources\n",
      "label frame\n",
      "|2SXaeNVtFdg|\n",
      "get vid info\n",
      "[youtube] Extracting URL: https://www.youtube.com/watch?v=2SXaeNVtFdg\n",
      "[youtube] 2SXaeNVtFdg: Downloading webpage\n",
      "[youtube] 2SXaeNVtFdg: Downloading android player API JSON\n",
      "[youtube] 2SXaeNVtFdg: Downloading MPD manifest\n",
      "get random frame\n",
      "*391-392\n",
      "2SXaeNVtFdg\n",
      "yt-dlp -S res:720,ext:mp4,fps:24 -c --recode mp4 --download-sections *391-392 https://www.youtube.com/watch?v=2SXaeNVtFdg --output spamham_samples/2SXaeNVtFdg.mp4 --retries infinite --fragment-retries infinite && ffmpeg -i spamham_samples/2SXaeNVtFdg.mp4 -r 1 -vframes 1 -f image2 -q:v 1 spamham_samples/frames/2SXaeNVtFdg.%03d.jpeg -y && del spamham_samples\\2SXaeNVtFdg.mp4\n",
      "running donwload, extract, delete cmd...1\n",
      "add file to sources\n",
      "label frame\n",
      "|D4HSL2rfpF8|\n",
      "get vid info\n",
      "[youtube] Extracting URL: https://www.youtube.com/watch?v=D4HSL2rfpF8\n",
      "[youtube] D4HSL2rfpF8: Downloading webpage\n",
      "[youtube] D4HSL2rfpF8: Downloading android player API JSON\n"
     ]
    },
    {
     "name": "stderr",
     "output_type": "stream",
     "text": [
      "WARNING: [youtube] D4HSL2rfpF8: nsig extraction failed: You may experience throttling for some formats\n",
      "         Install PhantomJS to workaround the issue. Please download it from https://phantomjs.org/download.html\n",
      "         n = C2osB3De9owiyL ; player = https://www.youtube.com/s/player/97ea7458/player_ias.vflset/en_US/base.js\n"
     ]
    },
    {
     "name": "stdout",
     "output_type": "stream",
     "text": [
      "get random frame\n",
      "*538-539\n",
      "D4HSL2rfpF8\n",
      "yt-dlp -S res:720,ext:mp4,fps:24 -c --recode mp4 --download-sections *538-539 https://www.youtube.com/watch?v=D4HSL2rfpF8 --output spamham_samples/D4HSL2rfpF8.mp4 --retries infinite --fragment-retries infinite && ffmpeg -i spamham_samples/D4HSL2rfpF8.mp4 -r 1 -vframes 1 -f image2 -q:v 1 spamham_samples/frames/D4HSL2rfpF8.%03d.jpeg -y && del spamham_samples\\D4HSL2rfpF8.mp4\n",
      "running donwload, extract, delete cmd...0\n",
      "add file to sources\n",
      "label frame\n",
      "|_6kRvAaZRf4|\n",
      "get vid info\n",
      "[youtube] Extracting URL: https://www.youtube.com/watch?v=_6kRvAaZRf4\n",
      "[youtube] _6kRvAaZRf4: Downloading webpage\n",
      "[youtube] _6kRvAaZRf4: Downloading android player API JSON\n",
      "[youtube] _6kRvAaZRf4: Downloading MPD manifest\n",
      "get random frame\n",
      "*249-250\n",
      "_6kRvAaZRf4\n",
      "yt-dlp -S res:720,ext:mp4,fps:24 -c --recode mp4 --download-sections *249-250 https://www.youtube.com/watch?v=_6kRvAaZRf4 --output spamham_samples/_6kRvAaZRf4.mp4 --retries infinite --fragment-retries infinite && ffmpeg -i spamham_samples/_6kRvAaZRf4.mp4 -r 1 -vframes 1 -f image2 -q:v 1 spamham_samples/frames/_6kRvAaZRf4.%03d.jpeg -y && del spamham_samples\\_6kRvAaZRf4.mp4\n",
      "running donwload, extract, delete cmd...1\n",
      "add file to sources\n",
      "label frame\n",
      "|HEqtzYGpwxk|\n",
      "get vid info\n",
      "[youtube] Extracting URL: https://www.youtube.com/watch?v=HEqtzYGpwxk\n",
      "[youtube] HEqtzYGpwxk: Downloading webpage\n",
      "[youtube] HEqtzYGpwxk: Downloading android player API JSON\n"
     ]
    },
    {
     "name": "stderr",
     "output_type": "stream",
     "text": [
      "WARNING: [youtube] HEqtzYGpwxk: nsig extraction failed: You may experience throttling for some formats\n",
      "         Install PhantomJS to workaround the issue. Please download it from https://phantomjs.org/download.html\n",
      "         n = dVSAn-KGYdNdFH ; player = https://www.youtube.com/s/player/97ea7458/player_ias.vflset/en_US/base.js\n"
     ]
    },
    {
     "name": "stdout",
     "output_type": "stream",
     "text": [
      "get random frame\n",
      "*744-745\n",
      "HEqtzYGpwxk\n",
      "yt-dlp -S res:720,ext:mp4,fps:24 -c --recode mp4 --download-sections *744-745 https://www.youtube.com/watch?v=HEqtzYGpwxk --output spamham_samples/HEqtzYGpwxk.mp4 --retries infinite --fragment-retries infinite && ffmpeg -i spamham_samples/HEqtzYGpwxk.mp4 -r 1 -vframes 1 -f image2 -q:v 1 spamham_samples/frames/HEqtzYGpwxk.%03d.jpeg -y && del spamham_samples\\HEqtzYGpwxk.mp4\n",
      "running donwload, extract, delete cmd...0\n",
      "add file to sources\n",
      "label frame\n",
      "|sbbApZF2Q6I|\n",
      "get vid info\n",
      "[youtube] Extracting URL: https://www.youtube.com/watch?v=sbbApZF2Q6I\n",
      "[youtube] sbbApZF2Q6I: Downloading webpage\n",
      "[youtube] sbbApZF2Q6I: Downloading android player API JSON\n",
      "[youtube] sbbApZF2Q6I: Downloading MPD manifest\n",
      "get random frame\n",
      "*58-59\n",
      "sbbApZF2Q6I\n",
      "yt-dlp -S res:720,ext:mp4,fps:24 -c --recode mp4 --download-sections *58-59 https://www.youtube.com/watch?v=sbbApZF2Q6I --output spamham_samples/sbbApZF2Q6I.mp4 --retries infinite --fragment-retries infinite && ffmpeg -i spamham_samples/sbbApZF2Q6I.mp4 -r 1 -vframes 1 -f image2 -q:v 1 spamham_samples/frames/sbbApZF2Q6I.%03d.jpeg -y && del spamham_samples\\sbbApZF2Q6I.mp4\n",
      "running donwload, extract, delete cmd...1\n",
      "add file to sources\n",
      "label frame\n",
      "|xWqDAUcUcWo|\n",
      "get vid info\n",
      "[youtube] Extracting URL: https://www.youtube.com/watch?v=xWqDAUcUcWo\n",
      "[youtube] xWqDAUcUcWo: Downloading webpage\n",
      "[youtube] xWqDAUcUcWo: Downloading android player API JSON\n"
     ]
    },
    {
     "name": "stderr",
     "output_type": "stream",
     "text": [
      "WARNING: [youtube] xWqDAUcUcWo: nsig extraction failed: You may experience throttling for some formats\n",
      "         Install PhantomJS to workaround the issue. Please download it from https://phantomjs.org/download.html\n",
      "         n = qyqlOIo2va96E- ; player = https://www.youtube.com/s/player/97ea7458/player_ias.vflset/en_US/base.js\n"
     ]
    },
    {
     "name": "stdout",
     "output_type": "stream",
     "text": [
      "get random frame\n",
      "*1717-1718\n",
      "xWqDAUcUcWo\n",
      "yt-dlp -S res:720,ext:mp4,fps:24 -c --recode mp4 --download-sections *1717-1718 https://www.youtube.com/watch?v=xWqDAUcUcWo --output spamham_samples/xWqDAUcUcWo.mp4 --retries infinite --fragment-retries infinite && ffmpeg -i spamham_samples/xWqDAUcUcWo.mp4 -r 1 -vframes 1 -f image2 -q:v 1 spamham_samples/frames/xWqDAUcUcWo.%03d.jpeg -y && del spamham_samples\\xWqDAUcUcWo.mp4\n",
      "running donwload, extract, delete cmd...0\n",
      "add file to sources\n",
      "label frame\n",
      "|tAYh8Tgx438|\n",
      "get vid info\n",
      "[youtube] Extracting URL: https://www.youtube.com/watch?v=tAYh8Tgx438\n",
      "[youtube] tAYh8Tgx438: Downloading webpage\n",
      "[youtube] tAYh8Tgx438: Downloading android player API JSON\n",
      "[youtube] tAYh8Tgx438: Downloading MPD manifest\n",
      "get random frame\n",
      "*330-331\n",
      "tAYh8Tgx438\n",
      "yt-dlp -S res:720,ext:mp4,fps:24 -c --recode mp4 --download-sections *330-331 https://www.youtube.com/watch?v=tAYh8Tgx438 --output spamham_samples/tAYh8Tgx438.mp4 --retries infinite --fragment-retries infinite && ffmpeg -i spamham_samples/tAYh8Tgx438.mp4 -r 1 -vframes 1 -f image2 -q:v 1 spamham_samples/frames/tAYh8Tgx438.%03d.jpeg -y && del spamham_samples\\tAYh8Tgx438.mp4\n",
      "running donwload, extract, delete cmd...1\n",
      "add file to sources\n",
      "label frame\n",
      "|geUnu5fR-wk|\n",
      "get vid info\n",
      "[youtube] Extracting URL: https://www.youtube.com/watch?v=geUnu5fR-wk\n",
      "[youtube] geUnu5fR-wk: Downloading webpage\n",
      "[youtube] geUnu5fR-wk: Downloading android player API JSON\n",
      "[youtube] geUnu5fR-wk: Downloading MPD manifest\n",
      "get random frame\n",
      "*45-46\n",
      "geUnu5fR-wk\n",
      "yt-dlp -S res:720,ext:mp4,fps:24 -c --recode mp4 --download-sections *45-46 https://www.youtube.com/watch?v=geUnu5fR-wk --output spamham_samples/geUnu5fR-wk.mp4 --retries infinite --fragment-retries infinite && ffmpeg -i spamham_samples/geUnu5fR-wk.mp4 -r 1 -vframes 1 -f image2 -q:v 1 spamham_samples/frames/geUnu5fR-wk.%03d.jpeg -y && del spamham_samples\\geUnu5fR-wk.mp4\n",
      "running donwload, extract, delete cmd...0\n",
      "add file to sources\n",
      "label frame\n",
      "|bWsyqPZ6wTs|\n",
      "get vid info\n",
      "[youtube] Extracting URL: https://www.youtube.com/watch?v=bWsyqPZ6wTs\n",
      "[youtube] bWsyqPZ6wTs: Downloading webpage\n",
      "[youtube] bWsyqPZ6wTs: Downloading android player API JSON\n",
      "[youtube] bWsyqPZ6wTs: Downloading MPD manifest\n",
      "get random frame\n",
      "*158-159\n",
      "bWsyqPZ6wTs\n",
      "yt-dlp -S res:720,ext:mp4,fps:24 -c --recode mp4 --download-sections *158-159 https://www.youtube.com/watch?v=bWsyqPZ6wTs --output spamham_samples/bWsyqPZ6wTs.mp4 --retries infinite --fragment-retries infinite && ffmpeg -i spamham_samples/bWsyqPZ6wTs.mp4 -r 1 -vframes 1 -f image2 -q:v 1 spamham_samples/frames/bWsyqPZ6wTs.%03d.jpeg -y && del spamham_samples\\bWsyqPZ6wTs.mp4\n",
      "running donwload, extract, delete cmd...1\n",
      "add file to sources\n",
      "label frame\n",
      "|szSR8jkecVI|\n",
      "get vid info\n",
      "[youtube] Extracting URL: https://www.youtube.com/watch?v=szSR8jkecVI\n",
      "[youtube] szSR8jkecVI: Downloading webpage\n",
      "[youtube] szSR8jkecVI: Downloading android player API JSON\n",
      "[youtube] szSR8jkecVI: Downloading MPD manifest\n",
      "get random frame\n",
      "*281-282\n",
      "szSR8jkecVI\n",
      "yt-dlp -S res:720,ext:mp4,fps:24 -c --recode mp4 --download-sections *281-282 https://www.youtube.com/watch?v=szSR8jkecVI --output spamham_samples/szSR8jkecVI.mp4 --retries infinite --fragment-retries infinite && ffmpeg -i spamham_samples/szSR8jkecVI.mp4 -r 1 -vframes 1 -f image2 -q:v 1 spamham_samples/frames/szSR8jkecVI.%03d.jpeg -y && del spamham_samples\\szSR8jkecVI.mp4\n",
      "running donwload, extract, delete cmd...1\n",
      "add file to sources\n",
      "label frame\n",
      "|6glppCYMguA|\n",
      "get vid info\n",
      "[youtube] Extracting URL: https://www.youtube.com/watch?v=6glppCYMguA\n",
      "[youtube] 6glppCYMguA: Downloading webpage\n",
      "[youtube] 6glppCYMguA: Downloading android player API JSON\n"
     ]
    },
    {
     "name": "stderr",
     "output_type": "stream",
     "text": [
      "WARNING: [youtube] 6glppCYMguA: nsig extraction failed: You may experience throttling for some formats\n",
      "         Install PhantomJS to workaround the issue. Please download it from https://phantomjs.org/download.html\n",
      "         n = 2whe3FQ7HX_mzE ; player = https://www.youtube.com/s/player/97ea7458/player_ias.vflset/en_US/base.js\n"
     ]
    },
    {
     "name": "stdout",
     "output_type": "stream",
     "text": [
      "get random frame\n",
      "*345-346\n",
      "6glppCYMguA\n",
      "yt-dlp -S res:720,ext:mp4,fps:24 -c --recode mp4 --download-sections *345-346 https://www.youtube.com/watch?v=6glppCYMguA --output spamham_samples/6glppCYMguA.mp4 --retries infinite --fragment-retries infinite && ffmpeg -i spamham_samples/6glppCYMguA.mp4 -r 1 -vframes 1 -f image2 -q:v 1 spamham_samples/frames/6glppCYMguA.%03d.jpeg -y && del spamham_samples\\6glppCYMguA.mp4\n",
      "running donwload, extract, delete cmd...0\n",
      "add file to sources\n",
      "label frame\n",
      "|snGThVYaz0A|\n",
      "get vid info\n",
      "[youtube] Extracting URL: https://www.youtube.com/watch?v=snGThVYaz0A\n",
      "[youtube] snGThVYaz0A: Downloading webpage\n",
      "[youtube] snGThVYaz0A: Downloading android player API JSON\n",
      "[youtube] snGThVYaz0A: Downloading MPD manifest\n",
      "get random frame\n",
      "*363-364\n",
      "snGThVYaz0A\n",
      "yt-dlp -S res:720,ext:mp4,fps:24 -c --recode mp4 --download-sections *363-364 https://www.youtube.com/watch?v=snGThVYaz0A --output spamham_samples/snGThVYaz0A.mp4 --retries infinite --fragment-retries infinite && ffmpeg -i spamham_samples/snGThVYaz0A.mp4 -r 1 -vframes 1 -f image2 -q:v 1 spamham_samples/frames/snGThVYaz0A.%03d.jpeg -y && del spamham_samples\\snGThVYaz0A.mp4\n",
      "running donwload, extract, delete cmd...1\n",
      "add file to sources\n",
      "label frame\n",
      "|tDYiBdl6hu0|\n",
      "get vid info\n",
      "[youtube] Extracting URL: https://www.youtube.com/watch?v=tDYiBdl6hu0\n",
      "[youtube] tDYiBdl6hu0: Downloading webpage\n",
      "[youtube] tDYiBdl6hu0: Downloading android player API JSON\n"
     ]
    },
    {
     "name": "stderr",
     "output_type": "stream",
     "text": [
      "WARNING: [youtube] tDYiBdl6hu0: nsig extraction failed: You may experience throttling for some formats\n",
      "         Install PhantomJS to workaround the issue. Please download it from https://phantomjs.org/download.html\n",
      "         n = 98s6zsPCe5Gtkt ; player = https://www.youtube.com/s/player/97ea7458/player_ias.vflset/en_US/base.js\n"
     ]
    },
    {
     "name": "stdout",
     "output_type": "stream",
     "text": [
      "get random frame\n",
      "*596-597\n",
      "tDYiBdl6hu0\n",
      "yt-dlp -S res:720,ext:mp4,fps:24 -c --recode mp4 --download-sections *596-597 https://www.youtube.com/watch?v=tDYiBdl6hu0 --output spamham_samples/tDYiBdl6hu0.mp4 --retries infinite --fragment-retries infinite && ffmpeg -i spamham_samples/tDYiBdl6hu0.mp4 -r 1 -vframes 1 -f image2 -q:v 1 spamham_samples/frames/tDYiBdl6hu0.%03d.jpeg -y && del spamham_samples\\tDYiBdl6hu0.mp4\n",
      "running donwload, extract, delete cmd...0\n",
      "add file to sources\n",
      "label frame\n",
      "|J3RsNWg4Sxg|\n",
      "get vid info\n",
      "[youtube] Extracting URL: https://www.youtube.com/watch?v=J3RsNWg4Sxg\n",
      "[youtube] J3RsNWg4Sxg: Downloading webpage\n",
      "[youtube] J3RsNWg4Sxg: Downloading android player API JSON\n"
     ]
    },
    {
     "name": "stderr",
     "output_type": "stream",
     "text": [
      "WARNING: [youtube] J3RsNWg4Sxg: nsig extraction failed: You may experience throttling for some formats\n",
      "         Install PhantomJS to workaround the issue. Please download it from https://phantomjs.org/download.html\n",
      "         n = SbOTebE3HTSy_F ; player = https://www.youtube.com/s/player/97ea7458/player_ias.vflset/en_US/base.js\n"
     ]
    },
    {
     "name": "stdout",
     "output_type": "stream",
     "text": [
      "get random frame\n",
      "*57-58\n",
      "J3RsNWg4Sxg\n",
      "yt-dlp -S res:720,ext:mp4,fps:24 -c --recode mp4 --download-sections *57-58 https://www.youtube.com/watch?v=J3RsNWg4Sxg --output spamham_samples/J3RsNWg4Sxg.mp4 --retries infinite --fragment-retries infinite && ffmpeg -i spamham_samples/J3RsNWg4Sxg.mp4 -r 1 -vframes 1 -f image2 -q:v 1 spamham_samples/frames/J3RsNWg4Sxg.%03d.jpeg -y && del spamham_samples\\J3RsNWg4Sxg.mp4\n",
      "running donwload, extract, delete cmd...0\n",
      "add file to sources\n",
      "label frame\n",
      "|D3-O5kiSw8E|\n",
      "get vid info\n",
      "[youtube] Extracting URL: https://www.youtube.com/watch?v=D3-O5kiSw8E\n",
      "[youtube] D3-O5kiSw8E: Downloading webpage\n",
      "[youtube] D3-O5kiSw8E: Downloading android player API JSON\n",
      "[youtube] D3-O5kiSw8E: Downloading MPD manifest\n",
      "get random frame\n",
      "*658-659\n",
      "D3-O5kiSw8E\n",
      "yt-dlp -S res:720,ext:mp4,fps:24 -c --recode mp4 --download-sections *658-659 https://www.youtube.com/watch?v=D3-O5kiSw8E --output spamham_samples/D3-O5kiSw8E.mp4 --retries infinite --fragment-retries infinite && ffmpeg -i spamham_samples/D3-O5kiSw8E.mp4 -r 1 -vframes 1 -f image2 -q:v 1 spamham_samples/frames/D3-O5kiSw8E.%03d.jpeg -y && del spamham_samples\\D3-O5kiSw8E.mp4\n",
      "running donwload, extract, delete cmd...1\n",
      "add file to sources\n",
      "label frame\n",
      "|-9-mEmxflLE|\n",
      "get vid info\n",
      "[youtube] Extracting URL: https://www.youtube.com/watch?v=-9-mEmxflLE\n",
      "[youtube] -9-mEmxflLE: Downloading webpage\n",
      "[youtube] -9-mEmxflLE: Downloading android player API JSON\n"
     ]
    },
    {
     "name": "stderr",
     "output_type": "stream",
     "text": [
      "WARNING: [youtube] -9-mEmxflLE: nsig extraction failed: You may experience throttling for some formats\n",
      "         Install PhantomJS to workaround the issue. Please download it from https://phantomjs.org/download.html\n",
      "         n = NX3RW5hD90PdyG ; player = https://www.youtube.com/s/player/97ea7458/player_ias.vflset/en_US/base.js\n"
     ]
    },
    {
     "name": "stdout",
     "output_type": "stream",
     "text": [
      "get random frame\n",
      "*1066-1067\n",
      "-9-mEmxflLE\n",
      "yt-dlp -S res:720,ext:mp4,fps:24 -c --recode mp4 --download-sections *1066-1067 https://www.youtube.com/watch?v=-9-mEmxflLE --output spamham_samples/-9-mEmxflLE.mp4 --retries infinite --fragment-retries infinite && ffmpeg -i spamham_samples/-9-mEmxflLE.mp4 -r 1 -vframes 1 -f image2 -q:v 1 spamham_samples/frames/-9-mEmxflLE.%03d.jpeg -y && del spamham_samples\\-9-mEmxflLE.mp4\n",
      "running donwload, extract, delete cmd...0\n",
      "add file to sources\n",
      "label frame\n",
      "|pGohrChdQj8|\n",
      "get vid info\n",
      "[youtube] Extracting URL: https://www.youtube.com/watch?v=pGohrChdQj8\n",
      "[youtube] pGohrChdQj8: Downloading webpage\n",
      "[youtube] pGohrChdQj8: Downloading android player API JSON\n",
      "[youtube] pGohrChdQj8: Downloading MPD manifest\n",
      "get random frame\n",
      "*299-300\n",
      "pGohrChdQj8\n",
      "yt-dlp -S res:720,ext:mp4,fps:24 -c --recode mp4 --download-sections *299-300 https://www.youtube.com/watch?v=pGohrChdQj8 --output spamham_samples/pGohrChdQj8.mp4 --retries infinite --fragment-retries infinite && ffmpeg -i spamham_samples/pGohrChdQj8.mp4 -r 1 -vframes 1 -f image2 -q:v 1 spamham_samples/frames/pGohrChdQj8.%03d.jpeg -y && del spamham_samples\\pGohrChdQj8.mp4\n",
      "running donwload, extract, delete cmd...1\n",
      "add file to sources\n",
      "label frame\n",
      "|_Q7rlIqCN6o|\n",
      "get vid info\n",
      "[youtube] Extracting URL: https://www.youtube.com/watch?v=_Q7rlIqCN6o\n",
      "[youtube] _Q7rlIqCN6o: Downloading webpage\n",
      "[youtube] _Q7rlIqCN6o: Downloading android player API JSON\n"
     ]
    },
    {
     "name": "stderr",
     "output_type": "stream",
     "text": [
      "WARNING: [youtube] _Q7rlIqCN6o: nsig extraction failed: You may experience throttling for some formats\n",
      "         Install PhantomJS to workaround the issue. Please download it from https://phantomjs.org/download.html\n",
      "         n = J5JUpeEW7qjpOy ; player = https://www.youtube.com/s/player/97ea7458/player_ias.vflset/en_US/base.js\n"
     ]
    },
    {
     "name": "stdout",
     "output_type": "stream",
     "text": [
      "get random frame\n",
      "*171-172\n",
      "_Q7rlIqCN6o\n",
      "yt-dlp -S res:720,ext:mp4,fps:24 -c --recode mp4 --download-sections *171-172 https://www.youtube.com/watch?v=_Q7rlIqCN6o --output spamham_samples/_Q7rlIqCN6o.mp4 --retries infinite --fragment-retries infinite && ffmpeg -i spamham_samples/_Q7rlIqCN6o.mp4 -r 1 -vframes 1 -f image2 -q:v 1 spamham_samples/frames/_Q7rlIqCN6o.%03d.jpeg -y && del spamham_samples\\_Q7rlIqCN6o.mp4\n",
      "running donwload, extract, delete cmd...0\n",
      "add file to sources\n",
      "label frame\n",
      "|gg6JasXZf68|\n",
      "get vid info\n",
      "[youtube] Extracting URL: https://www.youtube.com/watch?v=gg6JasXZf68\n",
      "[youtube] gg6JasXZf68: Downloading webpage\n",
      "[youtube] gg6JasXZf68: Downloading android player API JSON\n",
      "[youtube] gg6JasXZf68: Downloading MPD manifest\n",
      "get random frame\n",
      "*814-815\n",
      "gg6JasXZf68\n",
      "yt-dlp -S res:720,ext:mp4,fps:24 -c --recode mp4 --download-sections *814-815 https://www.youtube.com/watch?v=gg6JasXZf68 --output spamham_samples/gg6JasXZf68.mp4 --retries infinite --fragment-retries infinite && ffmpeg -i spamham_samples/gg6JasXZf68.mp4 -r 1 -vframes 1 -f image2 -q:v 1 spamham_samples/frames/gg6JasXZf68.%03d.jpeg -y && del spamham_samples\\gg6JasXZf68.mp4\n",
      "running donwload, extract, delete cmd...1\n",
      "add file to sources\n",
      "label frame\n",
      "|BZpzIpqYHZQ|\n",
      "get vid info\n",
      "[youtube] Extracting URL: https://www.youtube.com/watch?v=BZpzIpqYHZQ\n",
      "[youtube] BZpzIpqYHZQ: Downloading webpage\n",
      "[youtube] BZpzIpqYHZQ: Downloading android player API JSON\n"
     ]
    },
    {
     "name": "stderr",
     "output_type": "stream",
     "text": [
      "WARNING: [youtube] BZpzIpqYHZQ: nsig extraction failed: You may experience throttling for some formats\n",
      "         Install PhantomJS to workaround the issue. Please download it from https://phantomjs.org/download.html\n",
      "         n = JGIsPs_br1XZSf ; player = https://www.youtube.com/s/player/97ea7458/player_ias.vflset/en_US/base.js\n"
     ]
    },
    {
     "name": "stdout",
     "output_type": "stream",
     "text": [
      "get random frame\n",
      "*537-538\n",
      "BZpzIpqYHZQ\n",
      "yt-dlp -S res:720,ext:mp4,fps:24 -c --recode mp4 --download-sections *537-538 https://www.youtube.com/watch?v=BZpzIpqYHZQ --output spamham_samples/BZpzIpqYHZQ.mp4 --retries infinite --fragment-retries infinite && ffmpeg -i spamham_samples/BZpzIpqYHZQ.mp4 -r 1 -vframes 1 -f image2 -q:v 1 spamham_samples/frames/BZpzIpqYHZQ.%03d.jpeg -y && del spamham_samples\\BZpzIpqYHZQ.mp4\n",
      "running donwload, extract, delete cmd...0\n",
      "add file to sources\n",
      "label frame\n",
      "|WeO_5dMCSkA|\n",
      "get vid info\n",
      "[youtube] Extracting URL: https://www.youtube.com/watch?v=WeO_5dMCSkA\n",
      "[youtube] WeO_5dMCSkA: Downloading webpage\n",
      "[youtube] WeO_5dMCSkA: Downloading android player API JSON\n"
     ]
    },
    {
     "name": "stderr",
     "output_type": "stream",
     "text": [
      "WARNING: [youtube] WeO_5dMCSkA: nsig extraction failed: You may experience throttling for some formats\n",
      "         Install PhantomJS to workaround the issue. Please download it from https://phantomjs.org/download.html\n",
      "         n = N5xRTYxc_2Rdas ; player = https://www.youtube.com/s/player/97ea7458/player_ias.vflset/en_US/base.js\n"
     ]
    },
    {
     "name": "stdout",
     "output_type": "stream",
     "text": [
      "get random frame\n",
      "*1156-1157\n",
      "WeO_5dMCSkA\n",
      "yt-dlp -S res:720,ext:mp4,fps:24 -c --recode mp4 --download-sections *1156-1157 https://www.youtube.com/watch?v=WeO_5dMCSkA --output spamham_samples/WeO_5dMCSkA.mp4 --retries infinite --fragment-retries infinite && ffmpeg -i spamham_samples/WeO_5dMCSkA.mp4 -r 1 -vframes 1 -f image2 -q:v 1 spamham_samples/frames/WeO_5dMCSkA.%03d.jpeg -y && del spamham_samples\\WeO_5dMCSkA.mp4\n",
      "running donwload, extract, delete cmd...0\n",
      "add file to sources\n",
      "label frame\n",
      "|iIpKQhU1Q0U|\n",
      "get vid info\n",
      "[youtube] Extracting URL: https://www.youtube.com/watch?v=iIpKQhU1Q0U\n",
      "[youtube] iIpKQhU1Q0U: Downloading webpage\n",
      "[youtube] iIpKQhU1Q0U: Downloading android player API JSON\n"
     ]
    },
    {
     "name": "stderr",
     "output_type": "stream",
     "text": [
      "WARNING: [youtube] iIpKQhU1Q0U: nsig extraction failed: You may experience throttling for some formats\n",
      "         Install PhantomJS to workaround the issue. Please download it from https://phantomjs.org/download.html\n",
      "         n = sp5iJReH2Dv8JI ; player = https://www.youtube.com/s/player/97ea7458/player_ias.vflset/en_US/base.js\n"
     ]
    },
    {
     "name": "stdout",
     "output_type": "stream",
     "text": [
      "get random frame\n",
      "*963-964\n",
      "iIpKQhU1Q0U\n",
      "yt-dlp -S res:720,ext:mp4,fps:24 -c --recode mp4 --download-sections *963-964 https://www.youtube.com/watch?v=iIpKQhU1Q0U --output spamham_samples/iIpKQhU1Q0U.mp4 --retries infinite --fragment-retries infinite && ffmpeg -i spamham_samples/iIpKQhU1Q0U.mp4 -r 1 -vframes 1 -f image2 -q:v 1 spamham_samples/frames/iIpKQhU1Q0U.%03d.jpeg -y && del spamham_samples\\iIpKQhU1Q0U.mp4\n",
      "running donwload, extract, delete cmd...0\n",
      "add file to sources\n",
      "label frame\n",
      "|pnyLGbI3OLM|\n",
      "get vid info\n",
      "[youtube] Extracting URL: https://www.youtube.com/watch?v=pnyLGbI3OLM\n",
      "[youtube] pnyLGbI3OLM: Downloading webpage\n",
      "[youtube] pnyLGbI3OLM: Downloading android player API JSON\n"
     ]
    },
    {
     "name": "stderr",
     "output_type": "stream",
     "text": [
      "WARNING: [youtube] pnyLGbI3OLM: nsig extraction failed: You may experience throttling for some formats\n",
      "         Install PhantomJS to workaround the issue. Please download it from https://phantomjs.org/download.html\n",
      "         n = L_HybVzpnw6btB ; player = https://www.youtube.com/s/player/97ea7458/player_ias.vflset/en_US/base.js\n"
     ]
    },
    {
     "name": "stdout",
     "output_type": "stream",
     "text": [
      "get random frame\n",
      "*7-8\n",
      "pnyLGbI3OLM\n",
      "yt-dlp -S res:720,ext:mp4,fps:24 -c --recode mp4 --download-sections *7-8 https://www.youtube.com/watch?v=pnyLGbI3OLM --output spamham_samples/pnyLGbI3OLM.mp4 --retries infinite --fragment-retries infinite && ffmpeg -i spamham_samples/pnyLGbI3OLM.mp4 -r 1 -vframes 1 -f image2 -q:v 1 spamham_samples/frames/pnyLGbI3OLM.%03d.jpeg -y && del spamham_samples\\pnyLGbI3OLM.mp4\n",
      "running donwload, extract, delete cmd...0\n",
      "add file to sources\n",
      "label frame\n",
      "|Zo_rUI2g6Lo|\n",
      "get vid info\n",
      "[youtube] Extracting URL: https://www.youtube.com/watch?v=Zo_rUI2g6Lo\n",
      "[youtube] Zo_rUI2g6Lo: Downloading webpage\n",
      "[youtube] Zo_rUI2g6Lo: Downloading android player API JSON\n"
     ]
    },
    {
     "name": "stderr",
     "output_type": "stream",
     "text": [
      "WARNING: [youtube] Zo_rUI2g6Lo: nsig extraction failed: You may experience throttling for some formats\n",
      "         Install PhantomJS to workaround the issue. Please download it from https://phantomjs.org/download.html\n",
      "         n = thef_JdIt00NlQ ; player = https://www.youtube.com/s/player/97ea7458/player_ias.vflset/en_US/base.js\n"
     ]
    },
    {
     "name": "stdout",
     "output_type": "stream",
     "text": [
      "get random frame\n",
      "*123-124\n",
      "Zo_rUI2g6Lo\n",
      "yt-dlp -S res:720,ext:mp4,fps:24 -c --recode mp4 --download-sections *123-124 https://www.youtube.com/watch?v=Zo_rUI2g6Lo --output spamham_samples/Zo_rUI2g6Lo.mp4 --retries infinite --fragment-retries infinite && ffmpeg -i spamham_samples/Zo_rUI2g6Lo.mp4 -r 1 -vframes 1 -f image2 -q:v 1 spamham_samples/frames/Zo_rUI2g6Lo.%03d.jpeg -y && del spamham_samples\\Zo_rUI2g6Lo.mp4\n",
      "running donwload, extract, delete cmd...0\n",
      "add file to sources\n",
      "label frame\n",
      "|aX4GqpQlOvk|\n",
      "get vid info\n",
      "[youtube] Extracting URL: https://www.youtube.com/watch?v=aX4GqpQlOvk\n",
      "[youtube] aX4GqpQlOvk: Downloading webpage\n",
      "[youtube] aX4GqpQlOvk: Downloading android player API JSON\n",
      "[youtube] aX4GqpQlOvk: Downloading MPD manifest\n",
      "get random frame\n",
      "*149-150\n",
      "aX4GqpQlOvk\n",
      "yt-dlp -S res:720,ext:mp4,fps:24 -c --recode mp4 --download-sections *149-150 https://www.youtube.com/watch?v=aX4GqpQlOvk --output spamham_samples/aX4GqpQlOvk.mp4 --retries infinite --fragment-retries infinite && ffmpeg -i spamham_samples/aX4GqpQlOvk.mp4 -r 1 -vframes 1 -f image2 -q:v 1 spamham_samples/frames/aX4GqpQlOvk.%03d.jpeg -y && del spamham_samples\\aX4GqpQlOvk.mp4\n",
      "running donwload, extract, delete cmd...1\n",
      "add file to sources\n",
      "label frame\n",
      "|nJm8PO9H3aU|\n",
      "get vid info\n",
      "[youtube] Extracting URL: https://www.youtube.com/watch?v=nJm8PO9H3aU\n",
      "[youtube] nJm8PO9H3aU: Downloading webpage\n",
      "[youtube] nJm8PO9H3aU: Downloading android player API JSON\n"
     ]
    },
    {
     "name": "stderr",
     "output_type": "stream",
     "text": [
      "WARNING: [youtube] nJm8PO9H3aU: nsig extraction failed: You may experience throttling for some formats\n",
      "         Install PhantomJS to workaround the issue. Please download it from https://phantomjs.org/download.html\n",
      "         n = jmVwbK_Qqzhz_s ; player = https://www.youtube.com/s/player/97ea7458/player_ias.vflset/en_US/base.js\n"
     ]
    },
    {
     "name": "stdout",
     "output_type": "stream",
     "text": [
      "get random frame\n",
      "*1090-1091\n",
      "nJm8PO9H3aU\n",
      "yt-dlp -S res:720,ext:mp4,fps:24 -c --recode mp4 --download-sections *1090-1091 https://www.youtube.com/watch?v=nJm8PO9H3aU --output spamham_samples/nJm8PO9H3aU.mp4 --retries infinite --fragment-retries infinite && ffmpeg -i spamham_samples/nJm8PO9H3aU.mp4 -r 1 -vframes 1 -f image2 -q:v 1 spamham_samples/frames/nJm8PO9H3aU.%03d.jpeg -y && del spamham_samples\\nJm8PO9H3aU.mp4\n",
      "running donwload, extract, delete cmd...0\n",
      "add file to sources\n",
      "label frame\n",
      "|2FKmrYIFgDo|\n",
      "get vid info\n",
      "[youtube] Extracting URL: https://www.youtube.com/watch?v=2FKmrYIFgDo\n",
      "[youtube] 2FKmrYIFgDo: Downloading webpage\n",
      "[youtube] 2FKmrYIFgDo: Downloading android player API JSON\n"
     ]
    },
    {
     "name": "stderr",
     "output_type": "stream",
     "text": [
      "WARNING: [youtube] 2FKmrYIFgDo: nsig extraction failed: You may experience throttling for some formats\n",
      "         Install PhantomJS to workaround the issue. Please download it from https://phantomjs.org/download.html\n",
      "         n = moZl71WTjuDmKg ; player = https://www.youtube.com/s/player/97ea7458/player_ias.vflset/en_US/base.js\n"
     ]
    },
    {
     "name": "stdout",
     "output_type": "stream",
     "text": [
      "get random frame\n",
      "*99-100\n",
      "2FKmrYIFgDo\n",
      "yt-dlp -S res:720,ext:mp4,fps:24 -c --recode mp4 --download-sections *99-100 https://www.youtube.com/watch?v=2FKmrYIFgDo --output spamham_samples/2FKmrYIFgDo.mp4 --retries infinite --fragment-retries infinite && ffmpeg -i spamham_samples/2FKmrYIFgDo.mp4 -r 1 -vframes 1 -f image2 -q:v 1 spamham_samples/frames/2FKmrYIFgDo.%03d.jpeg -y && del spamham_samples\\2FKmrYIFgDo.mp4\n",
      "running donwload, extract, delete cmd...0\n",
      "add file to sources\n",
      "label frame\n",
      "|JyyPAXkvdW0|\n",
      "get vid info\n",
      "[youtube] Extracting URL: https://www.youtube.com/watch?v=JyyPAXkvdW0\n",
      "[youtube] JyyPAXkvdW0: Downloading webpage\n",
      "[youtube] JyyPAXkvdW0: Downloading android player API JSON\n"
     ]
    },
    {
     "name": "stderr",
     "output_type": "stream",
     "text": [
      "WARNING: [youtube] JyyPAXkvdW0: nsig extraction failed: You may experience throttling for some formats\n",
      "         Install PhantomJS to workaround the issue. Please download it from https://phantomjs.org/download.html\n",
      "         n = DtbSupwErk7jtR ; player = https://www.youtube.com/s/player/97ea7458/player_ias.vflset/en_US/base.js\n"
     ]
    },
    {
     "name": "stdout",
     "output_type": "stream",
     "text": [
      "get random frame\n",
      "*1395-1396\n",
      "JyyPAXkvdW0\n",
      "yt-dlp -S res:720,ext:mp4,fps:24 -c --recode mp4 --download-sections *1395-1396 https://www.youtube.com/watch?v=JyyPAXkvdW0 --output spamham_samples/JyyPAXkvdW0.mp4 --retries infinite --fragment-retries infinite && ffmpeg -i spamham_samples/JyyPAXkvdW0.mp4 -r 1 -vframes 1 -f image2 -q:v 1 spamham_samples/frames/JyyPAXkvdW0.%03d.jpeg -y && del spamham_samples\\JyyPAXkvdW0.mp4\n",
      "running donwload, extract, delete cmd...0\n",
      "add file to sources\n",
      "label frame\n",
      "|EDt_UFkUHH0|\n",
      "get vid info\n",
      "[youtube] Extracting URL: https://www.youtube.com/watch?v=EDt_UFkUHH0\n",
      "[youtube] EDt_UFkUHH0: Downloading webpage\n",
      "[youtube] EDt_UFkUHH0: Downloading android player API JSON\n"
     ]
    },
    {
     "name": "stderr",
     "output_type": "stream",
     "text": [
      "WARNING: [youtube] EDt_UFkUHH0: nsig extraction failed: You may experience throttling for some formats\n",
      "         Install PhantomJS to workaround the issue. Please download it from https://phantomjs.org/download.html\n",
      "         n = tJH7j2hiEM69nB ; player = https://www.youtube.com/s/player/97ea7458/player_ias.vflset/en_US/base.js\n"
     ]
    },
    {
     "name": "stdout",
     "output_type": "stream",
     "text": [
      "get random frame\n",
      "*469-470\n",
      "EDt_UFkUHH0\n",
      "yt-dlp -S res:720,ext:mp4,fps:24 -c --recode mp4 --download-sections *469-470 https://www.youtube.com/watch?v=EDt_UFkUHH0 --output spamham_samples/EDt_UFkUHH0.mp4 --retries infinite --fragment-retries infinite && ffmpeg -i spamham_samples/EDt_UFkUHH0.mp4 -r 1 -vframes 1 -f image2 -q:v 1 spamham_samples/frames/EDt_UFkUHH0.%03d.jpeg -y && del spamham_samples\\EDt_UFkUHH0.mp4\n",
      "running donwload, extract, delete cmd...0\n",
      "add file to sources\n",
      "label frame\n",
      "|oY36GkgO21w|\n",
      "get vid info\n",
      "[youtube] Extracting URL: https://www.youtube.com/watch?v=oY36GkgO21w\n",
      "[youtube] oY36GkgO21w: Downloading webpage\n",
      "[youtube] oY36GkgO21w: Downloading android player API JSON\n"
     ]
    },
    {
     "name": "stderr",
     "output_type": "stream",
     "text": [
      "WARNING: [youtube] oY36GkgO21w: nsig extraction failed: You may experience throttling for some formats\n",
      "         Install PhantomJS to workaround the issue. Please download it from https://phantomjs.org/download.html\n",
      "         n = aMNW4YWu0w-q1N ; player = https://www.youtube.com/s/player/97ea7458/player_ias.vflset/en_US/base.js\n"
     ]
    },
    {
     "name": "stdout",
     "output_type": "stream",
     "text": [
      "get random frame\n",
      "*254-255\n",
      "oY36GkgO21w\n",
      "yt-dlp -S res:720,ext:mp4,fps:24 -c --recode mp4 --download-sections *254-255 https://www.youtube.com/watch?v=oY36GkgO21w --output spamham_samples/oY36GkgO21w.mp4 --retries infinite --fragment-retries infinite && ffmpeg -i spamham_samples/oY36GkgO21w.mp4 -r 1 -vframes 1 -f image2 -q:v 1 spamham_samples/frames/oY36GkgO21w.%03d.jpeg -y && del spamham_samples\\oY36GkgO21w.mp4\n",
      "running donwload, extract, delete cmd...0\n",
      "add file to sources\n",
      "label frame\n",
      "|me7j5sZJ4U0|\n",
      "get vid info\n",
      "[youtube] Extracting URL: https://www.youtube.com/watch?v=me7j5sZJ4U0\n",
      "[youtube] me7j5sZJ4U0: Downloading webpage\n",
      "[youtube] me7j5sZJ4U0: Downloading android player API JSON\n"
     ]
    },
    {
     "name": "stderr",
     "output_type": "stream",
     "text": [
      "WARNING: [youtube] me7j5sZJ4U0: nsig extraction failed: You may experience throttling for some formats\n",
      "         Install PhantomJS to workaround the issue. Please download it from https://phantomjs.org/download.html\n",
      "         n = mmCFc_cNCM6mN2 ; player = https://www.youtube.com/s/player/97ea7458/player_ias.vflset/en_US/base.js\n"
     ]
    },
    {
     "name": "stdout",
     "output_type": "stream",
     "text": [
      "get random frame\n",
      "*1389-1390\n",
      "me7j5sZJ4U0\n",
      "yt-dlp -S res:720,ext:mp4,fps:24 -c --recode mp4 --download-sections *1389-1390 https://www.youtube.com/watch?v=me7j5sZJ4U0 --output spamham_samples/me7j5sZJ4U0.mp4 --retries infinite --fragment-retries infinite && ffmpeg -i spamham_samples/me7j5sZJ4U0.mp4 -r 1 -vframes 1 -f image2 -q:v 1 spamham_samples/frames/me7j5sZJ4U0.%03d.jpeg -y && del spamham_samples\\me7j5sZJ4U0.mp4\n",
      "running donwload, extract, delete cmd...0\n",
      "add file to sources\n",
      "label frame\n",
      "|49U3R1lSaLA|\n",
      "get vid info\n",
      "[youtube] Extracting URL: https://www.youtube.com/watch?v=49U3R1lSaLA\n",
      "[youtube] 49U3R1lSaLA: Downloading webpage\n",
      "[youtube] 49U3R1lSaLA: Downloading android player API JSON\n"
     ]
    },
    {
     "name": "stderr",
     "output_type": "stream",
     "text": [
      "WARNING: [youtube] 49U3R1lSaLA: nsig extraction failed: You may experience throttling for some formats\n",
      "         Install PhantomJS to workaround the issue. Please download it from https://phantomjs.org/download.html\n",
      "         n = areF8-Y-sq86nW ; player = https://www.youtube.com/s/player/97ea7458/player_ias.vflset/en_US/base.js\n"
     ]
    },
    {
     "name": "stdout",
     "output_type": "stream",
     "text": [
      "get random frame\n",
      "*1185-1186\n",
      "49U3R1lSaLA\n",
      "yt-dlp -S res:720,ext:mp4,fps:24 -c --recode mp4 --download-sections *1185-1186 https://www.youtube.com/watch?v=49U3R1lSaLA --output spamham_samples/49U3R1lSaLA.mp4 --retries infinite --fragment-retries infinite && ffmpeg -i spamham_samples/49U3R1lSaLA.mp4 -r 1 -vframes 1 -f image2 -q:v 1 spamham_samples/frames/49U3R1lSaLA.%03d.jpeg -y && del spamham_samples\\49U3R1lSaLA.mp4\n",
      "running donwload, extract, delete cmd...1\n",
      "add file to sources\n",
      "label frame\n",
      "|93jSGw2Wjxg|\n",
      "get vid info\n",
      "[youtube] Extracting URL: https://www.youtube.com/watch?v=93jSGw2Wjxg\n",
      "[youtube] 93jSGw2Wjxg: Downloading webpage\n",
      "[youtube] 93jSGw2Wjxg: Downloading android player API JSON\n"
     ]
    },
    {
     "name": "stderr",
     "output_type": "stream",
     "text": [
      "WARNING: [youtube] 93jSGw2Wjxg: nsig extraction failed: You may experience throttling for some formats\n",
      "         Install PhantomJS to workaround the issue. Please download it from https://phantomjs.org/download.html\n",
      "         n = eeccXKt02GDeCf ; player = https://www.youtube.com/s/player/97ea7458/player_ias.vflset/en_US/base.js\n"
     ]
    },
    {
     "name": "stdout",
     "output_type": "stream",
     "text": [
      "get random frame\n",
      "*41-42\n",
      "93jSGw2Wjxg\n",
      "yt-dlp -S res:720,ext:mp4,fps:24 -c --recode mp4 --download-sections *41-42 https://www.youtube.com/watch?v=93jSGw2Wjxg --output spamham_samples/93jSGw2Wjxg.mp4 --retries infinite --fragment-retries infinite && ffmpeg -i spamham_samples/93jSGw2Wjxg.mp4 -r 1 -vframes 1 -f image2 -q:v 1 spamham_samples/frames/93jSGw2Wjxg.%03d.jpeg -y && del spamham_samples\\93jSGw2Wjxg.mp4\n",
      "running donwload, extract, delete cmd...0\n",
      "add file to sources\n",
      "label frame\n",
      "|U0UuNHAaQeA|\n",
      "get vid info\n",
      "[youtube] Extracting URL: https://www.youtube.com/watch?v=U0UuNHAaQeA\n",
      "[youtube] U0UuNHAaQeA: Downloading webpage\n",
      "[youtube] U0UuNHAaQeA: Downloading android player API JSON\n"
     ]
    },
    {
     "name": "stderr",
     "output_type": "stream",
     "text": [
      "WARNING: [youtube] U0UuNHAaQeA: nsig extraction failed: You may experience throttling for some formats\n",
      "         Install PhantomJS to workaround the issue. Please download it from https://phantomjs.org/download.html\n",
      "         n = ly8GwVYDgs6lQ9 ; player = https://www.youtube.com/s/player/97ea7458/player_ias.vflset/en_US/base.js\n"
     ]
    },
    {
     "name": "stdout",
     "output_type": "stream",
     "text": [
      "get random frame\n",
      "*1758-1759\n",
      "U0UuNHAaQeA\n",
      "yt-dlp -S res:720,ext:mp4,fps:24 -c --recode mp4 --download-sections *1758-1759 https://www.youtube.com/watch?v=U0UuNHAaQeA --output spamham_samples/U0UuNHAaQeA.mp4 --retries infinite --fragment-retries infinite && ffmpeg -i spamham_samples/U0UuNHAaQeA.mp4 -r 1 -vframes 1 -f image2 -q:v 1 spamham_samples/frames/U0UuNHAaQeA.%03d.jpeg -y && del spamham_samples\\U0UuNHAaQeA.mp4\n",
      "running donwload, extract, delete cmd...0\n",
      "add file to sources\n",
      "label frame\n",
      "|z9X4FX0Y534|\n",
      "get vid info\n",
      "[youtube] Extracting URL: https://www.youtube.com/watch?v=z9X4FX0Y534\n",
      "[youtube] z9X4FX0Y534: Downloading webpage\n",
      "[youtube] z9X4FX0Y534: Downloading android player API JSON\n"
     ]
    },
    {
     "name": "stderr",
     "output_type": "stream",
     "text": [
      "WARNING: [youtube] z9X4FX0Y534: nsig extraction failed: You may experience throttling for some formats\n",
      "         Install PhantomJS to workaround the issue. Please download it from https://phantomjs.org/download.html\n",
      "         n = bAZHk6kPKdCr2g ; player = https://www.youtube.com/s/player/97ea7458/player_ias.vflset/en_US/base.js\n"
     ]
    },
    {
     "name": "stdout",
     "output_type": "stream",
     "text": [
      "get random frame\n",
      "*34-35\n",
      "z9X4FX0Y534\n",
      "yt-dlp -S res:720,ext:mp4,fps:24 -c --recode mp4 --download-sections *34-35 https://www.youtube.com/watch?v=z9X4FX0Y534 --output spamham_samples/z9X4FX0Y534.mp4 --retries infinite --fragment-retries infinite && ffmpeg -i spamham_samples/z9X4FX0Y534.mp4 -r 1 -vframes 1 -f image2 -q:v 1 spamham_samples/frames/z9X4FX0Y534.%03d.jpeg -y && del spamham_samples\\z9X4FX0Y534.mp4\n",
      "running donwload, extract, delete cmd...0\n",
      "add file to sources\n",
      "label frame\n",
      "|dajhx-QCVzE|\n",
      "get vid info\n",
      "[youtube] Extracting URL: https://www.youtube.com/watch?v=dajhx-QCVzE\n",
      "[youtube] dajhx-QCVzE: Downloading webpage\n",
      "[youtube] dajhx-QCVzE: Downloading android player API JSON\n"
     ]
    },
    {
     "name": "stderr",
     "output_type": "stream",
     "text": [
      "WARNING: [youtube] dajhx-QCVzE: nsig extraction failed: You may experience throttling for some formats\n",
      "         Install PhantomJS to workaround the issue. Please download it from https://phantomjs.org/download.html\n",
      "         n = MaPe6Xmr0myc_1 ; player = https://www.youtube.com/s/player/97ea7458/player_ias.vflset/en_US/base.js\n"
     ]
    },
    {
     "name": "stdout",
     "output_type": "stream",
     "text": [
      "get random frame\n",
      "*298-299\n",
      "dajhx-QCVzE\n",
      "yt-dlp -S res:720,ext:mp4,fps:24 -c --recode mp4 --download-sections *298-299 https://www.youtube.com/watch?v=dajhx-QCVzE --output spamham_samples/dajhx-QCVzE.mp4 --retries infinite --fragment-retries infinite && ffmpeg -i spamham_samples/dajhx-QCVzE.mp4 -r 1 -vframes 1 -f image2 -q:v 1 spamham_samples/frames/dajhx-QCVzE.%03d.jpeg -y && del spamham_samples\\dajhx-QCVzE.mp4\n",
      "running donwload, extract, delete cmd...0\n",
      "add file to sources\n",
      "label frame\n",
      "|qYfFTa7zDpg|\n",
      "get vid info\n",
      "[youtube] Extracting URL: https://www.youtube.com/watch?v=qYfFTa7zDpg\n",
      "[youtube] qYfFTa7zDpg: Downloading webpage\n",
      "[youtube] qYfFTa7zDpg: Downloading android player API JSON\n"
     ]
    },
    {
     "name": "stderr",
     "output_type": "stream",
     "text": [
      "WARNING: [youtube] qYfFTa7zDpg: nsig extraction failed: You may experience throttling for some formats\n",
      "         Install PhantomJS to workaround the issue. Please download it from https://phantomjs.org/download.html\n",
      "         n = iT04YOoF_GeC9S ; player = https://www.youtube.com/s/player/97ea7458/player_ias.vflset/en_US/base.js\n"
     ]
    },
    {
     "name": "stdout",
     "output_type": "stream",
     "text": [
      "get random frame\n",
      "*628-629\n",
      "qYfFTa7zDpg\n",
      "yt-dlp -S res:720,ext:mp4,fps:24 -c --recode mp4 --download-sections *628-629 https://www.youtube.com/watch?v=qYfFTa7zDpg --output spamham_samples/qYfFTa7zDpg.mp4 --retries infinite --fragment-retries infinite && ffmpeg -i spamham_samples/qYfFTa7zDpg.mp4 -r 1 -vframes 1 -f image2 -q:v 1 spamham_samples/frames/qYfFTa7zDpg.%03d.jpeg -y && del spamham_samples\\qYfFTa7zDpg.mp4\n",
      "running donwload, extract, delete cmd...0\n",
      "add file to sources\n",
      "label frame\n",
      "|FVvduuTAJso|\n",
      "get vid info\n",
      "[youtube] Extracting URL: https://www.youtube.com/watch?v=FVvduuTAJso\n",
      "[youtube] FVvduuTAJso: Downloading webpage\n",
      "[youtube] FVvduuTAJso: Downloading android player API JSON\n"
     ]
    },
    {
     "name": "stderr",
     "output_type": "stream",
     "text": [
      "WARNING: [youtube] FVvduuTAJso: nsig extraction failed: You may experience throttling for some formats\n",
      "         Install PhantomJS to workaround the issue. Please download it from https://phantomjs.org/download.html\n",
      "         n = a182oo14Tt5KDz ; player = https://www.youtube.com/s/player/97ea7458/player_ias.vflset/en_US/base.js\n"
     ]
    },
    {
     "name": "stdout",
     "output_type": "stream",
     "text": [
      "get random frame\n",
      "*271-272\n",
      "FVvduuTAJso\n",
      "yt-dlp -S res:720,ext:mp4,fps:24 -c --recode mp4 --download-sections *271-272 https://www.youtube.com/watch?v=FVvduuTAJso --output spamham_samples/FVvduuTAJso.mp4 --retries infinite --fragment-retries infinite && ffmpeg -i spamham_samples/FVvduuTAJso.mp4 -r 1 -vframes 1 -f image2 -q:v 1 spamham_samples/frames/FVvduuTAJso.%03d.jpeg -y && del spamham_samples\\FVvduuTAJso.mp4\n",
      "running donwload, extract, delete cmd...0\n",
      "add file to sources\n",
      "label frame\n",
      "|vDK5xkCuQlk|\n",
      "get vid info\n",
      "[youtube] Extracting URL: https://www.youtube.com/watch?v=vDK5xkCuQlk\n",
      "[youtube] vDK5xkCuQlk: Downloading webpage\n",
      "[youtube] vDK5xkCuQlk: Downloading android player API JSON\n"
     ]
    },
    {
     "name": "stderr",
     "output_type": "stream",
     "text": [
      "WARNING: [youtube] vDK5xkCuQlk: nsig extraction failed: You may experience throttling for some formats\n",
      "         Install PhantomJS to workaround the issue. Please download it from https://phantomjs.org/download.html\n",
      "         n = C8u8V8kSOoWiu3 ; player = https://www.youtube.com/s/player/97ea7458/player_ias.vflset/en_US/base.js\n"
     ]
    },
    {
     "name": "stdout",
     "output_type": "stream",
     "text": [
      "get random frame\n",
      "*855-856\n",
      "vDK5xkCuQlk\n",
      "yt-dlp -S res:720,ext:mp4,fps:24 -c --recode mp4 --download-sections *855-856 https://www.youtube.com/watch?v=vDK5xkCuQlk --output spamham_samples/vDK5xkCuQlk.mp4 --retries infinite --fragment-retries infinite && ffmpeg -i spamham_samples/vDK5xkCuQlk.mp4 -r 1 -vframes 1 -f image2 -q:v 1 spamham_samples/frames/vDK5xkCuQlk.%03d.jpeg -y && del spamham_samples\\vDK5xkCuQlk.mp4\n",
      "running donwload, extract, delete cmd...0\n",
      "add file to sources\n",
      "label frame\n",
      "|ySdlACgdLXs|\n",
      "get vid info\n",
      "[youtube] Extracting URL: https://www.youtube.com/watch?v=ySdlACgdLXs\n",
      "[youtube] ySdlACgdLXs: Downloading webpage\n",
      "[youtube] ySdlACgdLXs: Downloading android player API JSON\n"
     ]
    },
    {
     "name": "stderr",
     "output_type": "stream",
     "text": [
      "WARNING: [youtube] ySdlACgdLXs: nsig extraction failed: You may experience throttling for some formats\n",
      "         Install PhantomJS to workaround the issue. Please download it from https://phantomjs.org/download.html\n",
      "         n = VpIF8Tdf5edlJn ; player = https://www.youtube.com/s/player/97ea7458/player_ias.vflset/en_US/base.js\n"
     ]
    },
    {
     "name": "stdout",
     "output_type": "stream",
     "text": [
      "get random frame\n",
      "*175-176\n",
      "ySdlACgdLXs\n",
      "yt-dlp -S res:720,ext:mp4,fps:24 -c --recode mp4 --download-sections *175-176 https://www.youtube.com/watch?v=ySdlACgdLXs --output spamham_samples/ySdlACgdLXs.mp4 --retries infinite --fragment-retries infinite && ffmpeg -i spamham_samples/ySdlACgdLXs.mp4 -r 1 -vframes 1 -f image2 -q:v 1 spamham_samples/frames/ySdlACgdLXs.%03d.jpeg -y && del spamham_samples\\ySdlACgdLXs.mp4\n",
      "running donwload, extract, delete cmd...0\n",
      "add file to sources\n",
      "label frame\n",
      "|zMolKXP_gwg|\n",
      "get vid info\n",
      "[youtube] Extracting URL: https://www.youtube.com/watch?v=zMolKXP_gwg\n",
      "[youtube] zMolKXP_gwg: Downloading webpage\n",
      "[youtube] zMolKXP_gwg: Downloading android player API JSON\n"
     ]
    },
    {
     "name": "stderr",
     "output_type": "stream",
     "text": [
      "WARNING: [youtube] zMolKXP_gwg: nsig extraction failed: You may experience throttling for some formats\n",
      "         Install PhantomJS to workaround the issue. Please download it from https://phantomjs.org/download.html\n",
      "         n = SOpK3DZY-29SZy ; player = https://www.youtube.com/s/player/97ea7458/player_ias.vflset/en_US/base.js\n"
     ]
    },
    {
     "name": "stdout",
     "output_type": "stream",
     "text": [
      "get random frame\n",
      "*1107-1108\n",
      "zMolKXP_gwg\n",
      "yt-dlp -S res:720,ext:mp4,fps:24 -c --recode mp4 --download-sections *1107-1108 https://www.youtube.com/watch?v=zMolKXP_gwg --output spamham_samples/zMolKXP_gwg.mp4 --retries infinite --fragment-retries infinite && ffmpeg -i spamham_samples/zMolKXP_gwg.mp4 -r 1 -vframes 1 -f image2 -q:v 1 spamham_samples/frames/zMolKXP_gwg.%03d.jpeg -y && del spamham_samples\\zMolKXP_gwg.mp4\n",
      "running donwload, extract, delete cmd...0\n",
      "add file to sources\n",
      "label frame\n",
      "|q81YOiFohsA|\n",
      "get vid info\n",
      "[youtube] Extracting URL: https://www.youtube.com/watch?v=q81YOiFohsA\n",
      "[youtube] q81YOiFohsA: Downloading webpage\n",
      "[youtube] q81YOiFohsA: Downloading android player API JSON\n"
     ]
    },
    {
     "name": "stderr",
     "output_type": "stream",
     "text": [
      "WARNING: [youtube] q81YOiFohsA: nsig extraction failed: You may experience throttling for some formats\n",
      "         Install PhantomJS to workaround the issue. Please download it from https://phantomjs.org/download.html\n",
      "         n = UOSfPup32lv0Ud ; player = https://www.youtube.com/s/player/97ea7458/player_ias.vflset/en_US/base.js\n"
     ]
    },
    {
     "name": "stdout",
     "output_type": "stream",
     "text": [
      "get random frame\n",
      "*786-787\n",
      "q81YOiFohsA\n",
      "yt-dlp -S res:720,ext:mp4,fps:24 -c --recode mp4 --download-sections *786-787 https://www.youtube.com/watch?v=q81YOiFohsA --output spamham_samples/q81YOiFohsA.mp4 --retries infinite --fragment-retries infinite && ffmpeg -i spamham_samples/q81YOiFohsA.mp4 -r 1 -vframes 1 -f image2 -q:v 1 spamham_samples/frames/q81YOiFohsA.%03d.jpeg -y && del spamham_samples\\q81YOiFohsA.mp4\n",
      "running donwload, extract, delete cmd...0\n",
      "add file to sources\n",
      "label frame\n",
      "|Y-_SEGP5yAw|\n",
      "get vid info\n",
      "[youtube] Extracting URL: https://www.youtube.com/watch?v=Y-_SEGP5yAw\n",
      "[youtube] Y-_SEGP5yAw: Downloading webpage\n",
      "[youtube] Y-_SEGP5yAw: Downloading android player API JSON\n"
     ]
    },
    {
     "name": "stderr",
     "output_type": "stream",
     "text": [
      "WARNING: [youtube] Y-_SEGP5yAw: nsig extraction failed: You may experience throttling for some formats\n",
      "         Install PhantomJS to workaround the issue. Please download it from https://phantomjs.org/download.html\n",
      "         n = fKmgnnvfPSb_va ; player = https://www.youtube.com/s/player/97ea7458/player_ias.vflset/en_US/base.js\n"
     ]
    },
    {
     "name": "stdout",
     "output_type": "stream",
     "text": [
      "get random frame\n",
      "*1361-1362\n",
      "Y-_SEGP5yAw\n",
      "yt-dlp -S res:720,ext:mp4,fps:24 -c --recode mp4 --download-sections *1361-1362 https://www.youtube.com/watch?v=Y-_SEGP5yAw --output spamham_samples/Y-_SEGP5yAw.mp4 --retries infinite --fragment-retries infinite && ffmpeg -i spamham_samples/Y-_SEGP5yAw.mp4 -r 1 -vframes 1 -f image2 -q:v 1 spamham_samples/frames/Y-_SEGP5yAw.%03d.jpeg -y && del spamham_samples\\Y-_SEGP5yAw.mp4\n",
      "running donwload, extract, delete cmd...0\n",
      "add file to sources\n",
      "label frame\n",
      "|zD3zISslwJ8|\n",
      "get vid info\n",
      "[youtube] Extracting URL: https://www.youtube.com/watch?v=zD3zISslwJ8\n",
      "[youtube] zD3zISslwJ8: Downloading webpage\n",
      "[youtube] zD3zISslwJ8: Downloading android player API JSON\n"
     ]
    },
    {
     "name": "stderr",
     "output_type": "stream",
     "text": [
      "WARNING: [youtube] zD3zISslwJ8: nsig extraction failed: You may experience throttling for some formats\n",
      "         Install PhantomJS to workaround the issue. Please download it from https://phantomjs.org/download.html\n",
      "         n = zav7hE3Vp3FD2L ; player = https://www.youtube.com/s/player/97ea7458/player_ias.vflset/en_US/base.js\n"
     ]
    },
    {
     "name": "stdout",
     "output_type": "stream",
     "text": [
      "get random frame\n",
      "*328-329\n",
      "zD3zISslwJ8\n",
      "yt-dlp -S res:720,ext:mp4,fps:24 -c --recode mp4 --download-sections *328-329 https://www.youtube.com/watch?v=zD3zISslwJ8 --output spamham_samples/zD3zISslwJ8.mp4 --retries infinite --fragment-retries infinite && ffmpeg -i spamham_samples/zD3zISslwJ8.mp4 -r 1 -vframes 1 -f image2 -q:v 1 spamham_samples/frames/zD3zISslwJ8.%03d.jpeg -y && del spamham_samples\\zD3zISslwJ8.mp4\n",
      "running donwload, extract, delete cmd...0\n",
      "add file to sources\n",
      "label frame\n",
      "|yNOWaMHv0NI|\n",
      "get vid info\n",
      "[youtube] Extracting URL: https://www.youtube.com/watch?v=yNOWaMHv0NI\n",
      "[youtube] yNOWaMHv0NI: Downloading webpage\n",
      "[youtube] yNOWaMHv0NI: Downloading android player API JSON\n"
     ]
    },
    {
     "name": "stderr",
     "output_type": "stream",
     "text": [
      "WARNING: [youtube] yNOWaMHv0NI: nsig extraction failed: You may experience throttling for some formats\n",
      "         Install PhantomJS to workaround the issue. Please download it from https://phantomjs.org/download.html\n",
      "         n = GXwiG3QeBrm2U4 ; player = https://www.youtube.com/s/player/97ea7458/player_ias.vflset/en_US/base.js\n"
     ]
    },
    {
     "name": "stdout",
     "output_type": "stream",
     "text": [
      "get random frame\n",
      "*27-28\n",
      "yNOWaMHv0NI\n",
      "yt-dlp -S res:720,ext:mp4,fps:24 -c --recode mp4 --download-sections *27-28 https://www.youtube.com/watch?v=yNOWaMHv0NI --output spamham_samples/yNOWaMHv0NI.mp4 --retries infinite --fragment-retries infinite && ffmpeg -i spamham_samples/yNOWaMHv0NI.mp4 -r 1 -vframes 1 -f image2 -q:v 1 spamham_samples/frames/yNOWaMHv0NI.%03d.jpeg -y && del spamham_samples\\yNOWaMHv0NI.mp4\n",
      "running donwload, extract, delete cmd...0\n",
      "add file to sources\n",
      "label frame\n",
      "|sppbFk00deU|\n",
      "get vid info\n",
      "[youtube] Extracting URL: https://www.youtube.com/watch?v=sppbFk00deU\n",
      "[youtube] sppbFk00deU: Downloading webpage\n",
      "[youtube] sppbFk00deU: Downloading android player API JSON\n"
     ]
    },
    {
     "name": "stderr",
     "output_type": "stream",
     "text": [
      "WARNING: [youtube] sppbFk00deU: nsig extraction failed: You may experience throttling for some formats\n",
      "         Install PhantomJS to workaround the issue. Please download it from https://phantomjs.org/download.html\n",
      "         n = t7S0FmMr42a9of ; player = https://www.youtube.com/s/player/97ea7458/player_ias.vflset/en_US/base.js\n"
     ]
    },
    {
     "name": "stdout",
     "output_type": "stream",
     "text": [
      "get random frame\n",
      "*416-417\n",
      "sppbFk00deU\n",
      "yt-dlp -S res:720,ext:mp4,fps:24 -c --recode mp4 --download-sections *416-417 https://www.youtube.com/watch?v=sppbFk00deU --output spamham_samples/sppbFk00deU.mp4 --retries infinite --fragment-retries infinite && ffmpeg -i spamham_samples/sppbFk00deU.mp4 -r 1 -vframes 1 -f image2 -q:v 1 spamham_samples/frames/sppbFk00deU.%03d.jpeg -y && del spamham_samples\\sppbFk00deU.mp4\n",
      "running donwload, extract, delete cmd...0\n",
      "add file to sources\n",
      "label frame\n",
      "|c4v7yWin-as|\n",
      "get vid info\n",
      "[youtube] Extracting URL: https://www.youtube.com/watch?v=c4v7yWin-as\n",
      "[youtube] c4v7yWin-as: Downloading webpage\n",
      "[youtube] c4v7yWin-as: Downloading android player API JSON\n"
     ]
    },
    {
     "name": "stderr",
     "output_type": "stream",
     "text": [
      "WARNING: [youtube] c4v7yWin-as: nsig extraction failed: You may experience throttling for some formats\n",
      "         Install PhantomJS to workaround the issue. Please download it from https://phantomjs.org/download.html\n",
      "         n = A9u1mMK1TJ-A8S ; player = https://www.youtube.com/s/player/97ea7458/player_ias.vflset/en_US/base.js\n"
     ]
    },
    {
     "name": "stdout",
     "output_type": "stream",
     "text": [
      "get random frame\n",
      "*915-916\n",
      "c4v7yWin-as\n",
      "yt-dlp -S res:720,ext:mp4,fps:24 -c --recode mp4 --download-sections *915-916 https://www.youtube.com/watch?v=c4v7yWin-as --output spamham_samples/c4v7yWin-as.mp4 --retries infinite --fragment-retries infinite && ffmpeg -i spamham_samples/c4v7yWin-as.mp4 -r 1 -vframes 1 -f image2 -q:v 1 spamham_samples/frames/c4v7yWin-as.%03d.jpeg -y && del spamham_samples\\c4v7yWin-as.mp4\n",
      "running donwload, extract, delete cmd...0\n",
      "add file to sources\n",
      "label frame\n",
      "|teK7HmZD3kw|\n",
      "get vid info\n",
      "[youtube] Extracting URL: https://www.youtube.com/watch?v=teK7HmZD3kw\n",
      "[youtube] teK7HmZD3kw: Downloading webpage\n",
      "[youtube] teK7HmZD3kw: Downloading android player API JSON\n"
     ]
    },
    {
     "name": "stderr",
     "output_type": "stream",
     "text": [
      "WARNING: [youtube] teK7HmZD3kw: nsig extraction failed: You may experience throttling for some formats\n",
      "         Install PhantomJS to workaround the issue. Please download it from https://phantomjs.org/download.html\n",
      "         n = XOAs6L8AS1zXEk ; player = https://www.youtube.com/s/player/97ea7458/player_ias.vflset/en_US/base.js\n"
     ]
    },
    {
     "name": "stdout",
     "output_type": "stream",
     "text": [
      "get random frame\n",
      "*291-292\n",
      "teK7HmZD3kw\n",
      "yt-dlp -S res:720,ext:mp4,fps:24 -c --recode mp4 --download-sections *291-292 https://www.youtube.com/watch?v=teK7HmZD3kw --output spamham_samples/teK7HmZD3kw.mp4 --retries infinite --fragment-retries infinite && ffmpeg -i spamham_samples/teK7HmZD3kw.mp4 -r 1 -vframes 1 -f image2 -q:v 1 spamham_samples/frames/teK7HmZD3kw.%03d.jpeg -y && del spamham_samples\\teK7HmZD3kw.mp4\n",
      "running donwload, extract, delete cmd...0\n",
      "add file to sources\n",
      "label frame\n",
      "|cos5qgcY6x8|\n",
      "get vid info\n",
      "[youtube] Extracting URL: https://www.youtube.com/watch?v=cos5qgcY6x8\n",
      "[youtube] cos5qgcY6x8: Downloading webpage\n",
      "[youtube] cos5qgcY6x8: Downloading android player API JSON\n"
     ]
    },
    {
     "name": "stderr",
     "output_type": "stream",
     "text": [
      "WARNING: [youtube] cos5qgcY6x8: nsig extraction failed: You may experience throttling for some formats\n",
      "         Install PhantomJS to workaround the issue. Please download it from https://phantomjs.org/download.html\n",
      "         n = F11CxSjzfJqFk_ ; player = https://www.youtube.com/s/player/97ea7458/player_ias.vflset/en_US/base.js\n"
     ]
    },
    {
     "name": "stdout",
     "output_type": "stream",
     "text": [
      "get random frame\n",
      "*546-547\n",
      "cos5qgcY6x8\n",
      "yt-dlp -S res:720,ext:mp4,fps:24 -c --recode mp4 --download-sections *546-547 https://www.youtube.com/watch?v=cos5qgcY6x8 --output spamham_samples/cos5qgcY6x8.mp4 --retries infinite --fragment-retries infinite && ffmpeg -i spamham_samples/cos5qgcY6x8.mp4 -r 1 -vframes 1 -f image2 -q:v 1 spamham_samples/frames/cos5qgcY6x8.%03d.jpeg -y && del spamham_samples\\cos5qgcY6x8.mp4\n",
      "running donwload, extract, delete cmd...0\n",
      "add file to sources\n",
      "label frame\n",
      "|wYqHM6SsRcw|\n",
      "get vid info\n",
      "[youtube] Extracting URL: https://www.youtube.com/watch?v=wYqHM6SsRcw\n",
      "[youtube] wYqHM6SsRcw: Downloading webpage\n",
      "[youtube] wYqHM6SsRcw: Downloading android player API JSON\n"
     ]
    },
    {
     "name": "stderr",
     "output_type": "stream",
     "text": [
      "WARNING: [youtube] wYqHM6SsRcw: nsig extraction failed: You may experience throttling for some formats\n",
      "         Install PhantomJS to workaround the issue. Please download it from https://phantomjs.org/download.html\n",
      "         n = myrOrbM5gLA2gQ ; player = https://www.youtube.com/s/player/97ea7458/player_ias.vflset/en_US/base.js\n"
     ]
    },
    {
     "name": "stdout",
     "output_type": "stream",
     "text": [
      "get random frame\n",
      "*9-10\n",
      "wYqHM6SsRcw\n",
      "yt-dlp -S res:720,ext:mp4,fps:24 -c --recode mp4 --download-sections *9-10 https://www.youtube.com/watch?v=wYqHM6SsRcw --output spamham_samples/wYqHM6SsRcw.mp4 --retries infinite --fragment-retries infinite && ffmpeg -i spamham_samples/wYqHM6SsRcw.mp4 -r 1 -vframes 1 -f image2 -q:v 1 spamham_samples/frames/wYqHM6SsRcw.%03d.jpeg -y && del spamham_samples\\wYqHM6SsRcw.mp4\n",
      "running donwload, extract, delete cmd...0\n",
      "add file to sources\n",
      "label frame\n",
      "|g7G8GgqvwvI|\n",
      "get vid info\n",
      "[youtube] Extracting URL: https://www.youtube.com/watch?v=g7G8GgqvwvI\n",
      "[youtube] g7G8GgqvwvI: Downloading webpage\n",
      "[youtube] g7G8GgqvwvI: Downloading android player API JSON\n"
     ]
    },
    {
     "name": "stderr",
     "output_type": "stream",
     "text": [
      "WARNING: [youtube] g7G8GgqvwvI: nsig extraction failed: You may experience throttling for some formats\n",
      "         Install PhantomJS to workaround the issue. Please download it from https://phantomjs.org/download.html\n",
      "         n = zjl7fhCi7ZGTNV ; player = https://www.youtube.com/s/player/97ea7458/player_ias.vflset/en_US/base.js\n"
     ]
    },
    {
     "name": "stdout",
     "output_type": "stream",
     "text": [
      "get random frame\n",
      "*136-137\n",
      "g7G8GgqvwvI\n",
      "yt-dlp -S res:720,ext:mp4,fps:24 -c --recode mp4 --download-sections *136-137 https://www.youtube.com/watch?v=g7G8GgqvwvI --output spamham_samples/g7G8GgqvwvI.mp4 --retries infinite --fragment-retries infinite && ffmpeg -i spamham_samples/g7G8GgqvwvI.mp4 -r 1 -vframes 1 -f image2 -q:v 1 spamham_samples/frames/g7G8GgqvwvI.%03d.jpeg -y && del spamham_samples\\g7G8GgqvwvI.mp4\n",
      "running donwload, extract, delete cmd...0\n",
      "add file to sources\n",
      "label frame\n",
      "|qHdmTq74PqU|\n",
      "get vid info\n",
      "[youtube] Extracting URL: https://www.youtube.com/watch?v=qHdmTq74PqU\n",
      "[youtube] qHdmTq74PqU: Downloading webpage\n",
      "[youtube] qHdmTq74PqU: Downloading android player API JSON\n"
     ]
    },
    {
     "name": "stderr",
     "output_type": "stream",
     "text": [
      "WARNING: [youtube] qHdmTq74PqU: nsig extraction failed: You may experience throttling for some formats\n",
      "         Install PhantomJS to workaround the issue. Please download it from https://phantomjs.org/download.html\n",
      "         n = Oe0jJ-fxcYpuag ; player = https://www.youtube.com/s/player/97ea7458/player_ias.vflset/en_US/base.js\n"
     ]
    },
    {
     "name": "stdout",
     "output_type": "stream",
     "text": [
      "get random frame\n",
      "*1377-1378\n",
      "qHdmTq74PqU\n",
      "yt-dlp -S res:720,ext:mp4,fps:24 -c --recode mp4 --download-sections *1377-1378 https://www.youtube.com/watch?v=qHdmTq74PqU --output spamham_samples/qHdmTq74PqU.mp4 --retries infinite --fragment-retries infinite && ffmpeg -i spamham_samples/qHdmTq74PqU.mp4 -r 1 -vframes 1 -f image2 -q:v 1 spamham_samples/frames/qHdmTq74PqU.%03d.jpeg -y && del spamham_samples\\qHdmTq74PqU.mp4\n",
      "running donwload, extract, delete cmd...0\n",
      "add file to sources\n",
      "label frame\n",
      "|6ATCOjmeZVk|\n",
      "get vid info\n",
      "[youtube] Extracting URL: https://www.youtube.com/watch?v=6ATCOjmeZVk\n",
      "[youtube] 6ATCOjmeZVk: Downloading webpage\n",
      "[youtube] 6ATCOjmeZVk: Downloading android player API JSON\n"
     ]
    },
    {
     "name": "stderr",
     "output_type": "stream",
     "text": [
      "WARNING: [youtube] 6ATCOjmeZVk: nsig extraction failed: You may experience throttling for some formats\n",
      "         Install PhantomJS to workaround the issue. Please download it from https://phantomjs.org/download.html\n",
      "         n = wOmnwwfIRy7QoA ; player = https://www.youtube.com/s/player/97ea7458/player_ias.vflset/en_US/base.js\n"
     ]
    },
    {
     "name": "stdout",
     "output_type": "stream",
     "text": [
      "get random frame\n",
      "*392-393\n",
      "6ATCOjmeZVk\n",
      "yt-dlp -S res:720,ext:mp4,fps:24 -c --recode mp4 --download-sections *392-393 https://www.youtube.com/watch?v=6ATCOjmeZVk --output spamham_samples/6ATCOjmeZVk.mp4 --retries infinite --fragment-retries infinite && ffmpeg -i spamham_samples/6ATCOjmeZVk.mp4 -r 1 -vframes 1 -f image2 -q:v 1 spamham_samples/frames/6ATCOjmeZVk.%03d.jpeg -y && del spamham_samples\\6ATCOjmeZVk.mp4\n",
      "running donwload, extract, delete cmd...0\n",
      "add file to sources\n",
      "label frame\n",
      "|68-rAO-poIk|\n",
      "get vid info\n",
      "[youtube] Extracting URL: https://www.youtube.com/watch?v=68-rAO-poIk\n",
      "[youtube] 68-rAO-poIk: Downloading webpage\n",
      "[youtube] 68-rAO-poIk: Downloading android player API JSON\n"
     ]
    },
    {
     "name": "stderr",
     "output_type": "stream",
     "text": [
      "WARNING: [youtube] 68-rAO-poIk: nsig extraction failed: You may experience throttling for some formats\n",
      "         Install PhantomJS to workaround the issue. Please download it from https://phantomjs.org/download.html\n",
      "         n = JqIBO084E8opaq ; player = https://www.youtube.com/s/player/97ea7458/player_ias.vflset/en_US/base.js\n"
     ]
    },
    {
     "name": "stdout",
     "output_type": "stream",
     "text": [
      "get random frame\n",
      "*627-628\n",
      "68-rAO-poIk\n",
      "yt-dlp -S res:720,ext:mp4,fps:24 -c --recode mp4 --download-sections *627-628 https://www.youtube.com/watch?v=68-rAO-poIk --output spamham_samples/68-rAO-poIk.mp4 --retries infinite --fragment-retries infinite && ffmpeg -i spamham_samples/68-rAO-poIk.mp4 -r 1 -vframes 1 -f image2 -q:v 1 spamham_samples/frames/68-rAO-poIk.%03d.jpeg -y && del spamham_samples\\68-rAO-poIk.mp4\n",
      "running donwload, extract, delete cmd...0\n",
      "add file to sources\n",
      "label frame\n",
      "|JnJGTVEKH0g|\n",
      "get vid info\n",
      "[youtube] Extracting URL: https://www.youtube.com/watch?v=JnJGTVEKH0g\n",
      "[youtube] JnJGTVEKH0g: Downloading webpage\n",
      "[youtube] JnJGTVEKH0g: Downloading android player API JSON\n"
     ]
    },
    {
     "name": "stderr",
     "output_type": "stream",
     "text": [
      "WARNING: [youtube] JnJGTVEKH0g: nsig extraction failed: You may experience throttling for some formats\n",
      "         Install PhantomJS to workaround the issue. Please download it from https://phantomjs.org/download.html\n",
      "         n = U_lCBbYCcpw00X ; player = https://www.youtube.com/s/player/97ea7458/player_ias.vflset/en_US/base.js\n"
     ]
    },
    {
     "name": "stdout",
     "output_type": "stream",
     "text": [
      "get random frame\n",
      "*176-177\n",
      "JnJGTVEKH0g\n",
      "yt-dlp -S res:720,ext:mp4,fps:24 -c --recode mp4 --download-sections *176-177 https://www.youtube.com/watch?v=JnJGTVEKH0g --output spamham_samples/JnJGTVEKH0g.mp4 --retries infinite --fragment-retries infinite && ffmpeg -i spamham_samples/JnJGTVEKH0g.mp4 -r 1 -vframes 1 -f image2 -q:v 1 spamham_samples/frames/JnJGTVEKH0g.%03d.jpeg -y && del spamham_samples\\JnJGTVEKH0g.mp4\n",
      "running donwload, extract, delete cmd...0\n",
      "add file to sources\n",
      "label frame\n",
      "|uezVTvAgkp8|\n",
      "get vid info\n",
      "[youtube] Extracting URL: https://www.youtube.com/watch?v=uezVTvAgkp8\n",
      "[youtube] uezVTvAgkp8: Downloading webpage\n",
      "[youtube] uezVTvAgkp8: Downloading android player API JSON\n"
     ]
    },
    {
     "name": "stderr",
     "output_type": "stream",
     "text": [
      "WARNING: [youtube] uezVTvAgkp8: nsig extraction failed: You may experience throttling for some formats\n",
      "         Install PhantomJS to workaround the issue. Please download it from https://phantomjs.org/download.html\n",
      "         n = JHMo2QOkVNJpcc ; player = https://www.youtube.com/s/player/97ea7458/player_ias.vflset/en_US/base.js\n"
     ]
    },
    {
     "name": "stdout",
     "output_type": "stream",
     "text": [
      "get random frame\n",
      "*761-762\n",
      "uezVTvAgkp8\n",
      "yt-dlp -S res:720,ext:mp4,fps:24 -c --recode mp4 --download-sections *761-762 https://www.youtube.com/watch?v=uezVTvAgkp8 --output spamham_samples/uezVTvAgkp8.mp4 --retries infinite --fragment-retries infinite && ffmpeg -i spamham_samples/uezVTvAgkp8.mp4 -r 1 -vframes 1 -f image2 -q:v 1 spamham_samples/frames/uezVTvAgkp8.%03d.jpeg -y && del spamham_samples\\uezVTvAgkp8.mp4\n",
      "running donwload, extract, delete cmd...0\n",
      "add file to sources\n",
      "label frame\n",
      "|dJGlz97HHmM|\n",
      "get vid info\n",
      "[youtube] Extracting URL: https://www.youtube.com/watch?v=dJGlz97HHmM\n",
      "[youtube] dJGlz97HHmM: Downloading webpage\n",
      "[youtube] dJGlz97HHmM: Downloading android player API JSON\n"
     ]
    },
    {
     "name": "stderr",
     "output_type": "stream",
     "text": [
      "WARNING: [youtube] dJGlz97HHmM: nsig extraction failed: You may experience throttling for some formats\n",
      "         Install PhantomJS to workaround the issue. Please download it from https://phantomjs.org/download.html\n",
      "         n = Yo87l0waaHFYEQ ; player = https://www.youtube.com/s/player/97ea7458/player_ias.vflset/en_US/base.js\n"
     ]
    },
    {
     "name": "stdout",
     "output_type": "stream",
     "text": [
      "get random frame\n",
      "*649-650\n",
      "dJGlz97HHmM\n",
      "yt-dlp -S res:720,ext:mp4,fps:24 -c --recode mp4 --download-sections *649-650 https://www.youtube.com/watch?v=dJGlz97HHmM --output spamham_samples/dJGlz97HHmM.mp4 --retries infinite --fragment-retries infinite && ffmpeg -i spamham_samples/dJGlz97HHmM.mp4 -r 1 -vframes 1 -f image2 -q:v 1 spamham_samples/frames/dJGlz97HHmM.%03d.jpeg -y && del spamham_samples\\dJGlz97HHmM.mp4\n",
      "running donwload, extract, delete cmd...0\n",
      "add file to sources\n",
      "label frame\n",
      "|GJ7-14eX6nM|\n",
      "get vid info\n",
      "[youtube] Extracting URL: https://www.youtube.com/watch?v=GJ7-14eX6nM\n",
      "[youtube] GJ7-14eX6nM: Downloading webpage\n",
      "[youtube] GJ7-14eX6nM: Downloading android player API JSON\n"
     ]
    },
    {
     "name": "stderr",
     "output_type": "stream",
     "text": [
      "WARNING: [youtube] GJ7-14eX6nM: nsig extraction failed: You may experience throttling for some formats\n",
      "         Install PhantomJS to workaround the issue. Please download it from https://phantomjs.org/download.html\n",
      "         n = RZz_4BX0WFfhH2 ; player = https://www.youtube.com/s/player/97ea7458/player_ias.vflset/en_US/base.js\n"
     ]
    },
    {
     "name": "stdout",
     "output_type": "stream",
     "text": [
      "get random frame\n",
      "*757-758\n",
      "GJ7-14eX6nM\n",
      "yt-dlp -S res:720,ext:mp4,fps:24 -c --recode mp4 --download-sections *757-758 https://www.youtube.com/watch?v=GJ7-14eX6nM --output spamham_samples/GJ7-14eX6nM.mp4 --retries infinite --fragment-retries infinite && ffmpeg -i spamham_samples/GJ7-14eX6nM.mp4 -r 1 -vframes 1 -f image2 -q:v 1 spamham_samples/frames/GJ7-14eX6nM.%03d.jpeg -y && del spamham_samples\\GJ7-14eX6nM.mp4\n",
      "running donwload, extract, delete cmd...0\n",
      "add file to sources\n",
      "label frame\n",
      "|qm3znTSa7jQ|\n",
      "get vid info\n",
      "[youtube] Extracting URL: https://www.youtube.com/watch?v=qm3znTSa7jQ\n",
      "[youtube] qm3znTSa7jQ: Downloading webpage\n",
      "[youtube] qm3znTSa7jQ: Downloading android player API JSON\n"
     ]
    },
    {
     "name": "stderr",
     "output_type": "stream",
     "text": [
      "WARNING: [youtube] qm3znTSa7jQ: nsig extraction failed: You may experience throttling for some formats\n",
      "         Install PhantomJS to workaround the issue. Please download it from https://phantomjs.org/download.html\n",
      "         n = Ip7KjihGSTbYiP ; player = https://www.youtube.com/s/player/97ea7458/player_ias.vflset/en_US/base.js\n"
     ]
    },
    {
     "name": "stdout",
     "output_type": "stream",
     "text": [
      "get random frame\n",
      "*516-517\n",
      "qm3znTSa7jQ\n",
      "yt-dlp -S res:720,ext:mp4,fps:24 -c --recode mp4 --download-sections *516-517 https://www.youtube.com/watch?v=qm3znTSa7jQ --output spamham_samples/qm3znTSa7jQ.mp4 --retries infinite --fragment-retries infinite && ffmpeg -i spamham_samples/qm3znTSa7jQ.mp4 -r 1 -vframes 1 -f image2 -q:v 1 spamham_samples/frames/qm3znTSa7jQ.%03d.jpeg -y && del spamham_samples\\qm3znTSa7jQ.mp4\n",
      "running donwload, extract, delete cmd...0\n",
      "add file to sources\n",
      "label frame\n",
      "|iCAEcPECKSM|\n",
      "get vid info\n",
      "[youtube] Extracting URL: https://www.youtube.com/watch?v=iCAEcPECKSM\n",
      "[youtube] iCAEcPECKSM: Downloading webpage\n",
      "[youtube] iCAEcPECKSM: Downloading android player API JSON\n"
     ]
    },
    {
     "name": "stderr",
     "output_type": "stream",
     "text": [
      "WARNING: [youtube] iCAEcPECKSM: nsig extraction failed: You may experience throttling for some formats\n",
      "         Install PhantomJS to workaround the issue. Please download it from https://phantomjs.org/download.html\n",
      "         n = 2tAy7JARBEX2Nz ; player = https://www.youtube.com/s/player/97ea7458/player_ias.vflset/en_US/base.js\n"
     ]
    },
    {
     "name": "stdout",
     "output_type": "stream",
     "text": [
      "get random frame\n",
      "*276-277\n",
      "iCAEcPECKSM\n",
      "yt-dlp -S res:720,ext:mp4,fps:24 -c --recode mp4 --download-sections *276-277 https://www.youtube.com/watch?v=iCAEcPECKSM --output spamham_samples/iCAEcPECKSM.mp4 --retries infinite --fragment-retries infinite && ffmpeg -i spamham_samples/iCAEcPECKSM.mp4 -r 1 -vframes 1 -f image2 -q:v 1 spamham_samples/frames/iCAEcPECKSM.%03d.jpeg -y && del spamham_samples\\iCAEcPECKSM.mp4\n",
      "running donwload, extract, delete cmd...0\n",
      "add file to sources\n",
      "label frame\n",
      "|BMaRwvAhulM|\n",
      "get vid info\n",
      "[youtube] Extracting URL: https://www.youtube.com/watch?v=BMaRwvAhulM\n",
      "[youtube] BMaRwvAhulM: Downloading webpage\n",
      "[youtube] BMaRwvAhulM: Downloading android player API JSON\n"
     ]
    },
    {
     "name": "stderr",
     "output_type": "stream",
     "text": [
      "WARNING: [youtube] BMaRwvAhulM: nsig extraction failed: You may experience throttling for some formats\n",
      "         Install PhantomJS to workaround the issue. Please download it from https://phantomjs.org/download.html\n",
      "         n = mMPtOvUWPr-mVE ; player = https://www.youtube.com/s/player/97ea7458/player_ias.vflset/en_US/base.js\n"
     ]
    },
    {
     "name": "stdout",
     "output_type": "stream",
     "text": [
      "get random frame\n",
      "*344-345\n",
      "BMaRwvAhulM\n",
      "yt-dlp -S res:720,ext:mp4,fps:24 -c --recode mp4 --download-sections *344-345 https://www.youtube.com/watch?v=BMaRwvAhulM --output spamham_samples/BMaRwvAhulM.mp4 --retries infinite --fragment-retries infinite && ffmpeg -i spamham_samples/BMaRwvAhulM.mp4 -r 1 -vframes 1 -f image2 -q:v 1 spamham_samples/frames/BMaRwvAhulM.%03d.jpeg -y && del spamham_samples\\BMaRwvAhulM.mp4\n",
      "running donwload, extract, delete cmd...0\n",
      "add file to sources\n",
      "label frame\n",
      "|dCckCi5-Hww|\n",
      "get vid info\n",
      "[youtube] Extracting URL: https://www.youtube.com/watch?v=dCckCi5-Hww\n",
      "[youtube] dCckCi5-Hww: Downloading webpage\n",
      "[youtube] dCckCi5-Hww: Downloading android player API JSON\n"
     ]
    },
    {
     "name": "stderr",
     "output_type": "stream",
     "text": [
      "WARNING: [youtube] dCckCi5-Hww: nsig extraction failed: You may experience throttling for some formats\n",
      "         Install PhantomJS to workaround the issue. Please download it from https://phantomjs.org/download.html\n",
      "         n = b7uAfP3u3jCbGg ; player = https://www.youtube.com/s/player/97ea7458/player_ias.vflset/en_US/base.js\n"
     ]
    },
    {
     "name": "stdout",
     "output_type": "stream",
     "text": [
      "get random frame\n",
      "*524-525\n",
      "dCckCi5-Hww\n",
      "yt-dlp -S res:720,ext:mp4,fps:24 -c --recode mp4 --download-sections *524-525 https://www.youtube.com/watch?v=dCckCi5-Hww --output spamham_samples/dCckCi5-Hww.mp4 --retries infinite --fragment-retries infinite && ffmpeg -i spamham_samples/dCckCi5-Hww.mp4 -r 1 -vframes 1 -f image2 -q:v 1 spamham_samples/frames/dCckCi5-Hww.%03d.jpeg -y && del spamham_samples\\dCckCi5-Hww.mp4\n",
      "running donwload, extract, delete cmd...0\n",
      "add file to sources\n",
      "label frame\n",
      "|ILmrZfbo3fM|\n",
      "get vid info\n",
      "[youtube] Extracting URL: https://www.youtube.com/watch?v=ILmrZfbo3fM\n",
      "[youtube] ILmrZfbo3fM: Downloading webpage\n",
      "[youtube] ILmrZfbo3fM: Downloading android player API JSON\n"
     ]
    },
    {
     "name": "stderr",
     "output_type": "stream",
     "text": [
      "WARNING: [youtube] ILmrZfbo3fM: nsig extraction failed: You may experience throttling for some formats\n",
      "         Install PhantomJS to workaround the issue. Please download it from https://phantomjs.org/download.html\n",
      "         n = 61qKmdV3oxtakd ; player = https://www.youtube.com/s/player/97ea7458/player_ias.vflset/en_US/base.js\n"
     ]
    },
    {
     "name": "stdout",
     "output_type": "stream",
     "text": [
      "get random frame\n",
      "*123-124\n",
      "ILmrZfbo3fM\n",
      "yt-dlp -S res:720,ext:mp4,fps:24 -c --recode mp4 --download-sections *123-124 https://www.youtube.com/watch?v=ILmrZfbo3fM --output spamham_samples/ILmrZfbo3fM.mp4 --retries infinite --fragment-retries infinite && ffmpeg -i spamham_samples/ILmrZfbo3fM.mp4 -r 1 -vframes 1 -f image2 -q:v 1 spamham_samples/frames/ILmrZfbo3fM.%03d.jpeg -y && del spamham_samples\\ILmrZfbo3fM.mp4\n",
      "running donwload, extract, delete cmd...0\n",
      "add file to sources\n",
      "label frame\n",
      "|27g5OC3GNas|\n",
      "get vid info\n",
      "[youtube] Extracting URL: https://www.youtube.com/watch?v=27g5OC3GNas\n",
      "[youtube] 27g5OC3GNas: Downloading webpage\n",
      "[youtube] 27g5OC3GNas: Downloading android player API JSON\n"
     ]
    },
    {
     "name": "stderr",
     "output_type": "stream",
     "text": [
      "WARNING: [youtube] 27g5OC3GNas: nsig extraction failed: You may experience throttling for some formats\n",
      "         Install PhantomJS to workaround the issue. Please download it from https://phantomjs.org/download.html\n",
      "         n = WPD24asL7tZ24V ; player = https://www.youtube.com/s/player/97ea7458/player_ias.vflset/en_US/base.js\n"
     ]
    },
    {
     "name": "stdout",
     "output_type": "stream",
     "text": [
      "get random frame\n",
      "*633-634\n",
      "27g5OC3GNas\n",
      "yt-dlp -S res:720,ext:mp4,fps:24 -c --recode mp4 --download-sections *633-634 https://www.youtube.com/watch?v=27g5OC3GNas --output spamham_samples/27g5OC3GNas.mp4 --retries infinite --fragment-retries infinite && ffmpeg -i spamham_samples/27g5OC3GNas.mp4 -r 1 -vframes 1 -f image2 -q:v 1 spamham_samples/frames/27g5OC3GNas.%03d.jpeg -y && del spamham_samples\\27g5OC3GNas.mp4\n",
      "running donwload, extract, delete cmd...0\n",
      "add file to sources\n",
      "label frame\n",
      "|UW_VXlX698c|\n",
      "get vid info\n",
      "[youtube] Extracting URL: https://www.youtube.com/watch?v=UW_VXlX698c\n",
      "[youtube] UW_VXlX698c: Downloading webpage\n",
      "[youtube] UW_VXlX698c: Downloading android player API JSON\n",
      "get random frame\n",
      "*491-492\n",
      "UW_VXlX698c\n",
      "yt-dlp -S res:720,ext:mp4,fps:24 -c --recode mp4 --download-sections *491-492 https://www.youtube.com/watch?v=UW_VXlX698c --output spamham_samples/UW_VXlX698c.mp4 --retries infinite --fragment-retries infinite && ffmpeg -i spamham_samples/UW_VXlX698c.mp4 -r 1 -vframes 1 -f image2 -q:v 1 spamham_samples/frames/UW_VXlX698c.%03d.jpeg -y && del spamham_samples\\UW_VXlX698c.mp4\n",
      "running donwload, extract, delete cmd...0\n",
      "add file to sources\n",
      "label frame\n",
      "|8pz3LFQ2lPY|\n",
      "get vid info\n",
      "[youtube] Extracting URL: https://www.youtube.com/watch?v=8pz3LFQ2lPY\n",
      "[youtube] 8pz3LFQ2lPY: Downloading webpage\n",
      "[youtube] 8pz3LFQ2lPY: Downloading android player API JSON\n"
     ]
    },
    {
     "name": "stderr",
     "output_type": "stream",
     "text": [
      "WARNING: [youtube] 8pz3LFQ2lPY: nsig extraction failed: You may experience throttling for some formats\n",
      "         Install PhantomJS to workaround the issue. Please download it from https://phantomjs.org/download.html\n",
      "         n = K6uVaeMCmtsK6f ; player = https://www.youtube.com/s/player/97ea7458/player_ias.vflset/en_US/base.js\n"
     ]
    },
    {
     "name": "stdout",
     "output_type": "stream",
     "text": [
      "get random frame\n",
      "*163-164\n",
      "8pz3LFQ2lPY\n",
      "yt-dlp -S res:720,ext:mp4,fps:24 -c --recode mp4 --download-sections *163-164 https://www.youtube.com/watch?v=8pz3LFQ2lPY --output spamham_samples/8pz3LFQ2lPY.mp4 --retries infinite --fragment-retries infinite && ffmpeg -i spamham_samples/8pz3LFQ2lPY.mp4 -r 1 -vframes 1 -f image2 -q:v 1 spamham_samples/frames/8pz3LFQ2lPY.%03d.jpeg -y && del spamham_samples\\8pz3LFQ2lPY.mp4\n",
      "running donwload, extract, delete cmd...0\n",
      "add file to sources\n",
      "label frame\n",
      "|m_ZWKdDZAu4|\n",
      "get vid info\n",
      "[youtube] Extracting URL: https://www.youtube.com/watch?v=m_ZWKdDZAu4\n",
      "[youtube] m_ZWKdDZAu4: Downloading webpage\n",
      "[youtube] m_ZWKdDZAu4: Downloading android player API JSON\n"
     ]
    },
    {
     "name": "stderr",
     "output_type": "stream",
     "text": [
      "WARNING: [youtube] m_ZWKdDZAu4: nsig extraction failed: You may experience throttling for some formats\n",
      "         Install PhantomJS to workaround the issue. Please download it from https://phantomjs.org/download.html\n",
      "         n = 6ax1TAi9j-b6jH ; player = https://www.youtube.com/s/player/97ea7458/player_ias.vflset/en_US/base.js\n"
     ]
    },
    {
     "name": "stdout",
     "output_type": "stream",
     "text": [
      "get random frame\n",
      "*19-20\n",
      "m_ZWKdDZAu4\n",
      "yt-dlp -S res:720,ext:mp4,fps:24 -c --recode mp4 --download-sections *19-20 https://www.youtube.com/watch?v=m_ZWKdDZAu4 --output spamham_samples/m_ZWKdDZAu4.mp4 --retries infinite --fragment-retries infinite && ffmpeg -i spamham_samples/m_ZWKdDZAu4.mp4 -r 1 -vframes 1 -f image2 -q:v 1 spamham_samples/frames/m_ZWKdDZAu4.%03d.jpeg -y && del spamham_samples\\m_ZWKdDZAu4.mp4\n",
      "running donwload, extract, delete cmd...0\n",
      "add file to sources\n",
      "label frame\n",
      "|ew-L7ScUJ1M|\n",
      "get vid info\n",
      "[youtube] Extracting URL: https://www.youtube.com/watch?v=ew-L7ScUJ1M\n",
      "[youtube] ew-L7ScUJ1M: Downloading webpage\n",
      "[youtube] ew-L7ScUJ1M: Downloading android player API JSON\n"
     ]
    },
    {
     "name": "stderr",
     "output_type": "stream",
     "text": [
      "WARNING: [youtube] ew-L7ScUJ1M: nsig extraction failed: You may experience throttling for some formats\n",
      "         Install PhantomJS to workaround the issue. Please download it from https://phantomjs.org/download.html\n",
      "         n = E5A7BynhfD505J ; player = https://www.youtube.com/s/player/97ea7458/player_ias.vflset/en_US/base.js\n"
     ]
    },
    {
     "name": "stdout",
     "output_type": "stream",
     "text": [
      "get random frame\n",
      "*470-471\n",
      "ew-L7ScUJ1M\n",
      "yt-dlp -S res:720,ext:mp4,fps:24 -c --recode mp4 --download-sections *470-471 https://www.youtube.com/watch?v=ew-L7ScUJ1M --output spamham_samples/ew-L7ScUJ1M.mp4 --retries infinite --fragment-retries infinite && ffmpeg -i spamham_samples/ew-L7ScUJ1M.mp4 -r 1 -vframes 1 -f image2 -q:v 1 spamham_samples/frames/ew-L7ScUJ1M.%03d.jpeg -y && del spamham_samples\\ew-L7ScUJ1M.mp4\n",
      "running donwload, extract, delete cmd...0\n",
      "add file to sources\n",
      "label frame\n",
      "|kEmMiCAH-80|\n",
      "get vid info\n",
      "[youtube] Extracting URL: https://www.youtube.com/watch?v=kEmMiCAH-80\n",
      "[youtube] kEmMiCAH-80: Downloading webpage\n",
      "[youtube] kEmMiCAH-80: Downloading android player API JSON\n"
     ]
    },
    {
     "name": "stderr",
     "output_type": "stream",
     "text": [
      "WARNING: [youtube] kEmMiCAH-80: nsig extraction failed: You may experience throttling for some formats\n",
      "         Install PhantomJS to workaround the issue. Please download it from https://phantomjs.org/download.html\n",
      "         n = 1E9p692HZrLFH9 ; player = https://www.youtube.com/s/player/97ea7458/player_ias.vflset/en_US/base.js\n"
     ]
    },
    {
     "name": "stdout",
     "output_type": "stream",
     "text": [
      "get random frame\n",
      "*450-451\n",
      "kEmMiCAH-80\n",
      "yt-dlp -S res:720,ext:mp4,fps:24 -c --recode mp4 --download-sections *450-451 https://www.youtube.com/watch?v=kEmMiCAH-80 --output spamham_samples/kEmMiCAH-80.mp4 --retries infinite --fragment-retries infinite && ffmpeg -i spamham_samples/kEmMiCAH-80.mp4 -r 1 -vframes 1 -f image2 -q:v 1 spamham_samples/frames/kEmMiCAH-80.%03d.jpeg -y && del spamham_samples\\kEmMiCAH-80.mp4\n",
      "running donwload, extract, delete cmd...0\n",
      "add file to sources\n",
      "label frame\n",
      "|9oLnZ1lmV0g|\n",
      "get vid info\n",
      "[youtube] Extracting URL: https://www.youtube.com/watch?v=9oLnZ1lmV0g\n",
      "[youtube] 9oLnZ1lmV0g: Downloading webpage\n",
      "[youtube] 9oLnZ1lmV0g: Downloading android player API JSON\n"
     ]
    },
    {
     "name": "stderr",
     "output_type": "stream",
     "text": [
      "WARNING: [youtube] 9oLnZ1lmV0g: nsig extraction failed: You may experience throttling for some formats\n",
      "         Install PhantomJS to workaround the issue. Please download it from https://phantomjs.org/download.html\n",
      "         n = 2jKbdJxlrYp2_K ; player = https://www.youtube.com/s/player/97ea7458/player_ias.vflset/en_US/base.js\n"
     ]
    },
    {
     "name": "stdout",
     "output_type": "stream",
     "text": [
      "get random frame\n",
      "*165-166\n",
      "9oLnZ1lmV0g\n",
      "yt-dlp -S res:720,ext:mp4,fps:24 -c --recode mp4 --download-sections *165-166 https://www.youtube.com/watch?v=9oLnZ1lmV0g --output spamham_samples/9oLnZ1lmV0g.mp4 --retries infinite --fragment-retries infinite && ffmpeg -i spamham_samples/9oLnZ1lmV0g.mp4 -r 1 -vframes 1 -f image2 -q:v 1 spamham_samples/frames/9oLnZ1lmV0g.%03d.jpeg -y && del spamham_samples\\9oLnZ1lmV0g.mp4\n",
      "running donwload, extract, delete cmd...0\n",
      "add file to sources\n",
      "label frame\n",
      "|_W54lqnFkvo|\n",
      "get vid info\n",
      "[youtube] Extracting URL: https://www.youtube.com/watch?v=_W54lqnFkvo\n",
      "[youtube] _W54lqnFkvo: Downloading webpage\n",
      "[youtube] _W54lqnFkvo: Downloading android player API JSON\n"
     ]
    },
    {
     "name": "stderr",
     "output_type": "stream",
     "text": [
      "WARNING: [youtube] _W54lqnFkvo: nsig extraction failed: You may experience throttling for some formats\n",
      "         Install PhantomJS to workaround the issue. Please download it from https://phantomjs.org/download.html\n",
      "         n = Smq9J6sE0HFieQ ; player = https://www.youtube.com/s/player/97ea7458/player_ias.vflset/en_US/base.js\n"
     ]
    },
    {
     "name": "stdout",
     "output_type": "stream",
     "text": [
      "get random frame\n",
      "*963-964\n",
      "_W54lqnFkvo\n",
      "yt-dlp -S res:720,ext:mp4,fps:24 -c --recode mp4 --download-sections *963-964 https://www.youtube.com/watch?v=_W54lqnFkvo --output spamham_samples/_W54lqnFkvo.mp4 --retries infinite --fragment-retries infinite && ffmpeg -i spamham_samples/_W54lqnFkvo.mp4 -r 1 -vframes 1 -f image2 -q:v 1 spamham_samples/frames/_W54lqnFkvo.%03d.jpeg -y && del spamham_samples\\_W54lqnFkvo.mp4\n",
      "running donwload, extract, delete cmd...0\n",
      "add file to sources\n",
      "label frame\n",
      "|13u19B0393w|\n",
      "get vid info\n",
      "[youtube] Extracting URL: https://www.youtube.com/watch?v=13u19B0393w\n",
      "[youtube] 13u19B0393w: Downloading webpage\n",
      "[youtube] 13u19B0393w: Downloading android player API JSON\n"
     ]
    },
    {
     "name": "stderr",
     "output_type": "stream",
     "text": [
      "WARNING: [youtube] 13u19B0393w: nsig extraction failed: You may experience throttling for some formats\n",
      "         Install PhantomJS to workaround the issue. Please download it from https://phantomjs.org/download.html\n",
      "         n = NBowfnX02Dod-B ; player = https://www.youtube.com/s/player/97ea7458/player_ias.vflset/en_US/base.js\n"
     ]
    },
    {
     "name": "stdout",
     "output_type": "stream",
     "text": [
      "get random frame\n",
      "*354-355\n",
      "13u19B0393w\n",
      "yt-dlp -S res:720,ext:mp4,fps:24 -c --recode mp4 --download-sections *354-355 https://www.youtube.com/watch?v=13u19B0393w --output spamham_samples/13u19B0393w.mp4 --retries infinite --fragment-retries infinite && ffmpeg -i spamham_samples/13u19B0393w.mp4 -r 1 -vframes 1 -f image2 -q:v 1 spamham_samples/frames/13u19B0393w.%03d.jpeg -y && del spamham_samples\\13u19B0393w.mp4\n",
      "running donwload, extract, delete cmd...0\n",
      "add file to sources\n",
      "label frame\n",
      "|GBNV_QTaDQE|\n",
      "get vid info\n",
      "[youtube] Extracting URL: https://www.youtube.com/watch?v=GBNV_QTaDQE\n",
      "[youtube] GBNV_QTaDQE: Downloading webpage\n",
      "[youtube] GBNV_QTaDQE: Downloading android player API JSON\n"
     ]
    },
    {
     "name": "stderr",
     "output_type": "stream",
     "text": [
      "WARNING: [youtube] GBNV_QTaDQE: nsig extraction failed: You may experience throttling for some formats\n",
      "         Install PhantomJS to workaround the issue. Please download it from https://phantomjs.org/download.html\n",
      "         n = yOJ0b_8QvjaSd4 ; player = https://www.youtube.com/s/player/97ea7458/player_ias.vflset/en_US/base.js\n"
     ]
    },
    {
     "name": "stdout",
     "output_type": "stream",
     "text": [
      "get random frame\n",
      "*424-425\n",
      "GBNV_QTaDQE\n",
      "yt-dlp -S res:720,ext:mp4,fps:24 -c --recode mp4 --download-sections *424-425 https://www.youtube.com/watch?v=GBNV_QTaDQE --output spamham_samples/GBNV_QTaDQE.mp4 --retries infinite --fragment-retries infinite && ffmpeg -i spamham_samples/GBNV_QTaDQE.mp4 -r 1 -vframes 1 -f image2 -q:v 1 spamham_samples/frames/GBNV_QTaDQE.%03d.jpeg -y && del spamham_samples\\GBNV_QTaDQE.mp4\n",
      "running donwload, extract, delete cmd...0\n",
      "add file to sources\n",
      "label frame\n",
      "|PYI4bB72ReI|\n",
      "get vid info\n",
      "[youtube] Extracting URL: https://www.youtube.com/watch?v=PYI4bB72ReI\n",
      "[youtube] PYI4bB72ReI: Downloading webpage\n",
      "[youtube] PYI4bB72ReI: Downloading android player API JSON\n"
     ]
    },
    {
     "name": "stderr",
     "output_type": "stream",
     "text": [
      "WARNING: [youtube] PYI4bB72ReI: nsig extraction failed: You may experience throttling for some formats\n",
      "         Install PhantomJS to workaround the issue. Please download it from https://phantomjs.org/download.html\n",
      "         n = zGCibv7AX6YTpK ; player = https://www.youtube.com/s/player/97ea7458/player_ias.vflset/en_US/base.js\n"
     ]
    },
    {
     "name": "stdout",
     "output_type": "stream",
     "text": [
      "get random frame\n",
      "*960-961\n",
      "PYI4bB72ReI\n",
      "yt-dlp -S res:720,ext:mp4,fps:24 -c --recode mp4 --download-sections *960-961 https://www.youtube.com/watch?v=PYI4bB72ReI --output spamham_samples/PYI4bB72ReI.mp4 --retries infinite --fragment-retries infinite && ffmpeg -i spamham_samples/PYI4bB72ReI.mp4 -r 1 -vframes 1 -f image2 -q:v 1 spamham_samples/frames/PYI4bB72ReI.%03d.jpeg -y && del spamham_samples\\PYI4bB72ReI.mp4\n",
      "running donwload, extract, delete cmd...0\n",
      "add file to sources\n",
      "label frame\n",
      "|T9YOMeuyDvM|\n",
      "get vid info\n",
      "[youtube] Extracting URL: https://www.youtube.com/watch?v=T9YOMeuyDvM\n",
      "[youtube] T9YOMeuyDvM: Downloading webpage\n",
      "[youtube] T9YOMeuyDvM: Downloading android player API JSON\n"
     ]
    },
    {
     "name": "stderr",
     "output_type": "stream",
     "text": [
      "WARNING: [youtube] T9YOMeuyDvM: nsig extraction failed: You may experience throttling for some formats\n",
      "         Install PhantomJS to workaround the issue. Please download it from https://phantomjs.org/download.html\n",
      "         n = T94lTw6g-D1DrL ; player = https://www.youtube.com/s/player/97ea7458/player_ias.vflset/en_US/base.js\n"
     ]
    },
    {
     "name": "stdout",
     "output_type": "stream",
     "text": [
      "get random frame\n",
      "*260-261\n",
      "T9YOMeuyDvM\n",
      "yt-dlp -S res:720,ext:mp4,fps:24 -c --recode mp4 --download-sections *260-261 https://www.youtube.com/watch?v=T9YOMeuyDvM --output spamham_samples/T9YOMeuyDvM.mp4 --retries infinite --fragment-retries infinite && ffmpeg -i spamham_samples/T9YOMeuyDvM.mp4 -r 1 -vframes 1 -f image2 -q:v 1 spamham_samples/frames/T9YOMeuyDvM.%03d.jpeg -y && del spamham_samples\\T9YOMeuyDvM.mp4\n",
      "running donwload, extract, delete cmd...0\n",
      "add file to sources\n",
      "label frame\n",
      "|mPEvgyTXsxo|\n",
      "get vid info\n",
      "[youtube] Extracting URL: https://www.youtube.com/watch?v=mPEvgyTXsxo\n",
      "[youtube] mPEvgyTXsxo: Downloading webpage\n",
      "[youtube] mPEvgyTXsxo: Downloading android player API JSON\n"
     ]
    },
    {
     "name": "stderr",
     "output_type": "stream",
     "text": [
      "WARNING: [youtube] mPEvgyTXsxo: nsig extraction failed: You may experience throttling for some formats\n",
      "         Install PhantomJS to workaround the issue. Please download it from https://phantomjs.org/download.html\n",
      "         n = w2yXVPdaz0jA_j ; player = https://www.youtube.com/s/player/97ea7458/player_ias.vflset/en_US/base.js\n"
     ]
    },
    {
     "name": "stdout",
     "output_type": "stream",
     "text": [
      "get random frame\n",
      "*147-148\n",
      "mPEvgyTXsxo\n",
      "yt-dlp -S res:720,ext:mp4,fps:24 -c --recode mp4 --download-sections *147-148 https://www.youtube.com/watch?v=mPEvgyTXsxo --output spamham_samples/mPEvgyTXsxo.mp4 --retries infinite --fragment-retries infinite && ffmpeg -i spamham_samples/mPEvgyTXsxo.mp4 -r 1 -vframes 1 -f image2 -q:v 1 spamham_samples/frames/mPEvgyTXsxo.%03d.jpeg -y && del spamham_samples\\mPEvgyTXsxo.mp4\n",
      "running donwload, extract, delete cmd...0\n",
      "add file to sources\n",
      "label frame\n",
      "|W6MQ9GXs3Yk|\n",
      "get vid info\n",
      "[youtube] Extracting URL: https://www.youtube.com/watch?v=W6MQ9GXs3Yk\n",
      "[youtube] W6MQ9GXs3Yk: Downloading webpage\n",
      "[youtube] W6MQ9GXs3Yk: Downloading android player API JSON\n"
     ]
    },
    {
     "name": "stderr",
     "output_type": "stream",
     "text": [
      "WARNING: [youtube] W6MQ9GXs3Yk: nsig extraction failed: You may experience throttling for some formats\n",
      "         Install PhantomJS to workaround the issue. Please download it from https://phantomjs.org/download.html\n",
      "         n = kvlK5GOUb8eUPo ; player = https://www.youtube.com/s/player/97ea7458/player_ias.vflset/en_US/base.js\n"
     ]
    },
    {
     "name": "stdout",
     "output_type": "stream",
     "text": [
      "get random frame\n",
      "*581-582\n",
      "W6MQ9GXs3Yk\n",
      "yt-dlp -S res:720,ext:mp4,fps:24 -c --recode mp4 --download-sections *581-582 https://www.youtube.com/watch?v=W6MQ9GXs3Yk --output spamham_samples/W6MQ9GXs3Yk.mp4 --retries infinite --fragment-retries infinite && ffmpeg -i spamham_samples/W6MQ9GXs3Yk.mp4 -r 1 -vframes 1 -f image2 -q:v 1 spamham_samples/frames/W6MQ9GXs3Yk.%03d.jpeg -y && del spamham_samples\\W6MQ9GXs3Yk.mp4\n",
      "running donwload, extract, delete cmd...0\n",
      "add file to sources\n",
      "label frame\n",
      "|tTCyZLDCm6A|\n",
      "get vid info\n",
      "[youtube] Extracting URL: https://www.youtube.com/watch?v=tTCyZLDCm6A\n",
      "[youtube] tTCyZLDCm6A: Downloading webpage\n",
      "[youtube] tTCyZLDCm6A: Downloading android player API JSON\n"
     ]
    },
    {
     "name": "stderr",
     "output_type": "stream",
     "text": [
      "WARNING: [youtube] tTCyZLDCm6A: nsig extraction failed: You may experience throttling for some formats\n",
      "         Install PhantomJS to workaround the issue. Please download it from https://phantomjs.org/download.html\n",
      "         n = PSqaaRUI3JIv4x ; player = https://www.youtube.com/s/player/97ea7458/player_ias.vflset/en_US/base.js\n"
     ]
    },
    {
     "name": "stdout",
     "output_type": "stream",
     "text": [
      "get random frame\n",
      "*18-19\n",
      "tTCyZLDCm6A\n",
      "yt-dlp -S res:720,ext:mp4,fps:24 -c --recode mp4 --download-sections *18-19 https://www.youtube.com/watch?v=tTCyZLDCm6A --output spamham_samples/tTCyZLDCm6A.mp4 --retries infinite --fragment-retries infinite && ffmpeg -i spamham_samples/tTCyZLDCm6A.mp4 -r 1 -vframes 1 -f image2 -q:v 1 spamham_samples/frames/tTCyZLDCm6A.%03d.jpeg -y && del spamham_samples\\tTCyZLDCm6A.mp4\n",
      "running donwload, extract, delete cmd...0\n",
      "add file to sources\n",
      "label frame\n",
      "|eDSt-QLMCK8|\n",
      "get vid info\n",
      "[youtube] Extracting URL: https://www.youtube.com/watch?v=eDSt-QLMCK8\n",
      "[youtube] eDSt-QLMCK8: Downloading webpage\n",
      "[youtube] eDSt-QLMCK8: Downloading android player API JSON\n"
     ]
    },
    {
     "name": "stderr",
     "output_type": "stream",
     "text": [
      "WARNING: [youtube] eDSt-QLMCK8: nsig extraction failed: You may experience throttling for some formats\n",
      "         Install PhantomJS to workaround the issue. Please download it from https://phantomjs.org/download.html\n",
      "         n = GRhb7tVgYNK2tM ; player = https://www.youtube.com/s/player/97ea7458/player_ias.vflset/en_US/base.js\n"
     ]
    },
    {
     "name": "stdout",
     "output_type": "stream",
     "text": [
      "get random frame\n",
      "*92-93\n",
      "eDSt-QLMCK8\n",
      "yt-dlp -S res:720,ext:mp4,fps:24 -c --recode mp4 --download-sections *92-93 https://www.youtube.com/watch?v=eDSt-QLMCK8 --output spamham_samples/eDSt-QLMCK8.mp4 --retries infinite --fragment-retries infinite && ffmpeg -i spamham_samples/eDSt-QLMCK8.mp4 -r 1 -vframes 1 -f image2 -q:v 1 spamham_samples/frames/eDSt-QLMCK8.%03d.jpeg -y && del spamham_samples\\eDSt-QLMCK8.mp4\n",
      "running donwload, extract, delete cmd...0\n",
      "add file to sources\n",
      "label frame\n",
      "|GbZmbsPLSZQ|\n",
      "get vid info\n",
      "[youtube] Extracting URL: https://www.youtube.com/watch?v=GbZmbsPLSZQ\n",
      "[youtube] GbZmbsPLSZQ: Downloading webpage\n",
      "[youtube] GbZmbsPLSZQ: Downloading android player API JSON\n"
     ]
    },
    {
     "name": "stderr",
     "output_type": "stream",
     "text": [
      "WARNING: [youtube] GbZmbsPLSZQ: nsig extraction failed: You may experience throttling for some formats\n",
      "         Install PhantomJS to workaround the issue. Please download it from https://phantomjs.org/download.html\n",
      "         n = pARS9IYwRNJJhl ; player = https://www.youtube.com/s/player/97ea7458/player_ias.vflset/en_US/base.js\n"
     ]
    },
    {
     "name": "stdout",
     "output_type": "stream",
     "text": [
      "get random frame\n",
      "*1060-1061\n",
      "GbZmbsPLSZQ\n",
      "yt-dlp -S res:720,ext:mp4,fps:24 -c --recode mp4 --download-sections *1060-1061 https://www.youtube.com/watch?v=GbZmbsPLSZQ --output spamham_samples/GbZmbsPLSZQ.mp4 --retries infinite --fragment-retries infinite && ffmpeg -i spamham_samples/GbZmbsPLSZQ.mp4 -r 1 -vframes 1 -f image2 -q:v 1 spamham_samples/frames/GbZmbsPLSZQ.%03d.jpeg -y && del spamham_samples\\GbZmbsPLSZQ.mp4\n",
      "running donwload, extract, delete cmd...0\n",
      "add file to sources\n",
      "label frame\n",
      "|j54_Pe7uFDo|\n",
      "get vid info\n",
      "[youtube] Extracting URL: https://www.youtube.com/watch?v=j54_Pe7uFDo\n",
      "[youtube] j54_Pe7uFDo: Downloading webpage\n",
      "[youtube] j54_Pe7uFDo: Downloading android player API JSON\n"
     ]
    },
    {
     "name": "stderr",
     "output_type": "stream",
     "text": [
      "WARNING: [youtube] j54_Pe7uFDo: nsig extraction failed: You may experience throttling for some formats\n",
      "         Install PhantomJS to workaround the issue. Please download it from https://phantomjs.org/download.html\n",
      "         n = qYv2um5DKnFKMe ; player = https://www.youtube.com/s/player/97ea7458/player_ias.vflset/en_US/base.js\n"
     ]
    },
    {
     "name": "stdout",
     "output_type": "stream",
     "text": [
      "get random frame\n",
      "*716-717\n",
      "j54_Pe7uFDo\n",
      "yt-dlp -S res:720,ext:mp4,fps:24 -c --recode mp4 --download-sections *716-717 https://www.youtube.com/watch?v=j54_Pe7uFDo --output spamham_samples/j54_Pe7uFDo.mp4 --retries infinite --fragment-retries infinite && ffmpeg -i spamham_samples/j54_Pe7uFDo.mp4 -r 1 -vframes 1 -f image2 -q:v 1 spamham_samples/frames/j54_Pe7uFDo.%03d.jpeg -y && del spamham_samples\\j54_Pe7uFDo.mp4\n",
      "running donwload, extract, delete cmd...0\n",
      "add file to sources\n",
      "label frame\n",
      "|7zP7h1ldS0s|\n",
      "get vid info\n",
      "[youtube] Extracting URL: https://www.youtube.com/watch?v=7zP7h1ldS0s\n",
      "[youtube] 7zP7h1ldS0s: Downloading webpage\n",
      "[youtube] 7zP7h1ldS0s: Downloading android player API JSON\n"
     ]
    },
    {
     "name": "stderr",
     "output_type": "stream",
     "text": [
      "WARNING: [youtube] 7zP7h1ldS0s: nsig extraction failed: You may experience throttling for some formats\n",
      "         Install PhantomJS to workaround the issue. Please download it from https://phantomjs.org/download.html\n",
      "         n = oJVpR4ThdS2Iqd ; player = https://www.youtube.com/s/player/97ea7458/player_ias.vflset/en_US/base.js\n"
     ]
    },
    {
     "name": "stdout",
     "output_type": "stream",
     "text": [
      "get random frame\n",
      "*466-467\n",
      "7zP7h1ldS0s\n",
      "yt-dlp -S res:720,ext:mp4,fps:24 -c --recode mp4 --download-sections *466-467 https://www.youtube.com/watch?v=7zP7h1ldS0s --output spamham_samples/7zP7h1ldS0s.mp4 --retries infinite --fragment-retries infinite && ffmpeg -i spamham_samples/7zP7h1ldS0s.mp4 -r 1 -vframes 1 -f image2 -q:v 1 spamham_samples/frames/7zP7h1ldS0s.%03d.jpeg -y && del spamham_samples\\7zP7h1ldS0s.mp4\n",
      "running donwload, extract, delete cmd...0\n",
      "add file to sources\n",
      "label frame\n",
      "|PQLknINXzzY|\n",
      "get vid info\n",
      "[youtube] Extracting URL: https://www.youtube.com/watch?v=PQLknINXzzY\n",
      "[youtube] PQLknINXzzY: Downloading webpage\n",
      "[youtube] PQLknINXzzY: Downloading android player API JSON\n"
     ]
    },
    {
     "name": "stderr",
     "output_type": "stream",
     "text": [
      "WARNING: [youtube] PQLknINXzzY: nsig extraction failed: You may experience throttling for some formats\n",
      "         Install PhantomJS to workaround the issue. Please download it from https://phantomjs.org/download.html\n",
      "         n = BefCIfmPUichNV ; player = https://www.youtube.com/s/player/97ea7458/player_ias.vflset/en_US/base.js\n"
     ]
    },
    {
     "name": "stdout",
     "output_type": "stream",
     "text": [
      "get random frame\n",
      "*1625-1626\n",
      "PQLknINXzzY\n",
      "yt-dlp -S res:720,ext:mp4,fps:24 -c --recode mp4 --download-sections *1625-1626 https://www.youtube.com/watch?v=PQLknINXzzY --output spamham_samples/PQLknINXzzY.mp4 --retries infinite --fragment-retries infinite && ffmpeg -i spamham_samples/PQLknINXzzY.mp4 -r 1 -vframes 1 -f image2 -q:v 1 spamham_samples/frames/PQLknINXzzY.%03d.jpeg -y && del spamham_samples\\PQLknINXzzY.mp4\n",
      "running donwload, extract, delete cmd...0\n",
      "add file to sources\n",
      "label frame\n",
      "|TsbrdJYQ_NQ|\n",
      "get vid info\n",
      "[youtube] Extracting URL: https://www.youtube.com/watch?v=TsbrdJYQ_NQ\n",
      "[youtube] TsbrdJYQ_NQ: Downloading webpage\n",
      "[youtube] TsbrdJYQ_NQ: Downloading android player API JSON\n"
     ]
    },
    {
     "name": "stderr",
     "output_type": "stream",
     "text": [
      "WARNING: [youtube] TsbrdJYQ_NQ: nsig extraction failed: You may experience throttling for some formats\n",
      "         Install PhantomJS to workaround the issue. Please download it from https://phantomjs.org/download.html\n",
      "         n = BtNKp573Tjex9K ; player = https://www.youtube.com/s/player/97ea7458/player_ias.vflset/en_US/base.js\n"
     ]
    },
    {
     "name": "stdout",
     "output_type": "stream",
     "text": [
      "get random frame\n",
      "*803-804\n",
      "TsbrdJYQ_NQ\n",
      "yt-dlp -S res:720,ext:mp4,fps:24 -c --recode mp4 --download-sections *803-804 https://www.youtube.com/watch?v=TsbrdJYQ_NQ --output spamham_samples/TsbrdJYQ_NQ.mp4 --retries infinite --fragment-retries infinite && ffmpeg -i spamham_samples/TsbrdJYQ_NQ.mp4 -r 1 -vframes 1 -f image2 -q:v 1 spamham_samples/frames/TsbrdJYQ_NQ.%03d.jpeg -y && del spamham_samples\\TsbrdJYQ_NQ.mp4\n",
      "running donwload, extract, delete cmd...0\n",
      "add file to sources\n",
      "label frame\n",
      "|jOAVIM84upk|\n",
      "get vid info\n",
      "[youtube] Extracting URL: https://www.youtube.com/watch?v=jOAVIM84upk\n",
      "[youtube] jOAVIM84upk: Downloading webpage\n",
      "[youtube] jOAVIM84upk: Downloading android player API JSON\n"
     ]
    },
    {
     "name": "stderr",
     "output_type": "stream",
     "text": [
      "WARNING: [youtube] jOAVIM84upk: nsig extraction failed: You may experience throttling for some formats\n",
      "         Install PhantomJS to workaround the issue. Please download it from https://phantomjs.org/download.html\n",
      "         n = ilNVZbrsndHynJ ; player = https://www.youtube.com/s/player/97ea7458/player_ias.vflset/en_US/base.js\n"
     ]
    },
    {
     "name": "stdout",
     "output_type": "stream",
     "text": [
      "get random frame\n",
      "*275-276\n",
      "jOAVIM84upk\n",
      "yt-dlp -S res:720,ext:mp4,fps:24 -c --recode mp4 --download-sections *275-276 https://www.youtube.com/watch?v=jOAVIM84upk --output spamham_samples/jOAVIM84upk.mp4 --retries infinite --fragment-retries infinite && ffmpeg -i spamham_samples/jOAVIM84upk.mp4 -r 1 -vframes 1 -f image2 -q:v 1 spamham_samples/frames/jOAVIM84upk.%03d.jpeg -y && del spamham_samples\\jOAVIM84upk.mp4\n",
      "running donwload, extract, delete cmd...0\n",
      "add file to sources\n",
      "label frame\n",
      "|m_ESWZv77js|\n",
      "get vid info\n",
      "[youtube] Extracting URL: https://www.youtube.com/watch?v=m_ESWZv77js\n",
      "[youtube] m_ESWZv77js: Downloading webpage\n",
      "[youtube] m_ESWZv77js: Downloading android player API JSON\n"
     ]
    },
    {
     "name": "stderr",
     "output_type": "stream",
     "text": [
      "WARNING: [youtube] m_ESWZv77js: nsig extraction failed: You may experience throttling for some formats\n",
      "         Install PhantomJS to workaround the issue. Please download it from https://phantomjs.org/download.html\n",
      "         n = BRx-bOX0APCBwG ; player = https://www.youtube.com/s/player/97ea7458/player_ias.vflset/en_US/base.js\n"
     ]
    },
    {
     "name": "stdout",
     "output_type": "stream",
     "text": [
      "get random frame\n",
      "*1056-1057\n",
      "m_ESWZv77js\n",
      "yt-dlp -S res:720,ext:mp4,fps:24 -c --recode mp4 --download-sections *1056-1057 https://www.youtube.com/watch?v=m_ESWZv77js --output spamham_samples/m_ESWZv77js.mp4 --retries infinite --fragment-retries infinite && ffmpeg -i spamham_samples/m_ESWZv77js.mp4 -r 1 -vframes 1 -f image2 -q:v 1 spamham_samples/frames/m_ESWZv77js.%03d.jpeg -y && del spamham_samples\\m_ESWZv77js.mp4\n",
      "running donwload, extract, delete cmd...0\n",
      "add file to sources\n",
      "label frame\n",
      "|RxZlv-cskkA|\n",
      "get vid info\n",
      "[youtube] Extracting URL: https://www.youtube.com/watch?v=RxZlv-cskkA\n",
      "[youtube] RxZlv-cskkA: Downloading webpage\n",
      "[youtube] RxZlv-cskkA: Downloading android player API JSON\n"
     ]
    },
    {
     "name": "stderr",
     "output_type": "stream",
     "text": [
      "WARNING: [youtube] RxZlv-cskkA: nsig extraction failed: You may experience throttling for some formats\n",
      "         Install PhantomJS to workaround the issue. Please download it from https://phantomjs.org/download.html\n",
      "         n = pvWFpK1lAWqJ6E ; player = https://www.youtube.com/s/player/97ea7458/player_ias.vflset/en_US/base.js\n"
     ]
    },
    {
     "name": "stdout",
     "output_type": "stream",
     "text": [
      "get random frame\n",
      "*549-550\n",
      "RxZlv-cskkA\n",
      "yt-dlp -S res:720,ext:mp4,fps:24 -c --recode mp4 --download-sections *549-550 https://www.youtube.com/watch?v=RxZlv-cskkA --output spamham_samples/RxZlv-cskkA.mp4 --retries infinite --fragment-retries infinite && ffmpeg -i spamham_samples/RxZlv-cskkA.mp4 -r 1 -vframes 1 -f image2 -q:v 1 spamham_samples/frames/RxZlv-cskkA.%03d.jpeg -y && del spamham_samples\\RxZlv-cskkA.mp4\n",
      "running donwload, extract, delete cmd...0\n",
      "add file to sources\n",
      "label frame\n",
      "|jyWCH9QhGMc|\n",
      "get vid info\n",
      "[youtube] Extracting URL: https://www.youtube.com/watch?v=jyWCH9QhGMc\n",
      "[youtube] jyWCH9QhGMc: Downloading webpage\n",
      "[youtube] jyWCH9QhGMc: Downloading android player API JSON\n",
      "get random frame\n",
      "*429-430\n",
      "jyWCH9QhGMc\n",
      "yt-dlp -S res:720,ext:mp4,fps:24 -c --recode mp4 --download-sections *429-430 https://www.youtube.com/watch?v=jyWCH9QhGMc --output spamham_samples/jyWCH9QhGMc.mp4 --retries infinite --fragment-retries infinite && ffmpeg -i spamham_samples/jyWCH9QhGMc.mp4 -r 1 -vframes 1 -f image2 -q:v 1 spamham_samples/frames/jyWCH9QhGMc.%03d.jpeg -y && del spamham_samples\\jyWCH9QhGMc.mp4\n",
      "running donwload, extract, delete cmd...0\n",
      "add file to sources\n",
      "label frame\n",
      "|vii_YmYjIPg|\n",
      "get vid info\n",
      "[youtube] Extracting URL: https://www.youtube.com/watch?v=vii_YmYjIPg\n",
      "[youtube] vii_YmYjIPg: Downloading webpage\n",
      "[youtube] vii_YmYjIPg: Downloading android player API JSON\n"
     ]
    },
    {
     "name": "stderr",
     "output_type": "stream",
     "text": [
      "WARNING: [youtube] vii_YmYjIPg: nsig extraction failed: You may experience throttling for some formats\n",
      "         Install PhantomJS to workaround the issue. Please download it from https://phantomjs.org/download.html\n",
      "         n = OmyiVR30c1E-aY ; player = https://www.youtube.com/s/player/97ea7458/player_ias.vflset/en_US/base.js\n"
     ]
    },
    {
     "name": "stdout",
     "output_type": "stream",
     "text": [
      "get random frame\n",
      "*636-637\n",
      "vii_YmYjIPg\n",
      "yt-dlp -S res:720,ext:mp4,fps:24 -c --recode mp4 --download-sections *636-637 https://www.youtube.com/watch?v=vii_YmYjIPg --output spamham_samples/vii_YmYjIPg.mp4 --retries infinite --fragment-retries infinite && ffmpeg -i spamham_samples/vii_YmYjIPg.mp4 -r 1 -vframes 1 -f image2 -q:v 1 spamham_samples/frames/vii_YmYjIPg.%03d.jpeg -y && del spamham_samples\\vii_YmYjIPg.mp4\n",
      "running donwload, extract, delete cmd...0\n",
      "add file to sources\n",
      "label frame\n",
      "|T-pAQzFVfv4|\n",
      "get vid info\n",
      "[youtube] Extracting URL: https://www.youtube.com/watch?v=T-pAQzFVfv4\n",
      "[youtube] T-pAQzFVfv4: Downloading webpage\n",
      "[youtube] T-pAQzFVfv4: Downloading android player API JSON\n"
     ]
    },
    {
     "name": "stderr",
     "output_type": "stream",
     "text": [
      "WARNING: [youtube] T-pAQzFVfv4: nsig extraction failed: You may experience throttling for some formats\n",
      "         Install PhantomJS to workaround the issue. Please download it from https://phantomjs.org/download.html\n",
      "         n = f__mrQ5BqZl_6I ; player = https://www.youtube.com/s/player/97ea7458/player_ias.vflset/en_US/base.js\n"
     ]
    },
    {
     "name": "stdout",
     "output_type": "stream",
     "text": [
      "get random frame\n",
      "*851-852\n",
      "T-pAQzFVfv4\n",
      "yt-dlp -S res:720,ext:mp4,fps:24 -c --recode mp4 --download-sections *851-852 https://www.youtube.com/watch?v=T-pAQzFVfv4 --output spamham_samples/T-pAQzFVfv4.mp4 --retries infinite --fragment-retries infinite && ffmpeg -i spamham_samples/T-pAQzFVfv4.mp4 -r 1 -vframes 1 -f image2 -q:v 1 spamham_samples/frames/T-pAQzFVfv4.%03d.jpeg -y && del spamham_samples\\T-pAQzFVfv4.mp4\n",
      "running donwload, extract, delete cmd...0\n",
      "add file to sources\n",
      "label frame\n",
      "|JdqJl6_moOc|\n",
      "get vid info\n",
      "[youtube] Extracting URL: https://www.youtube.com/watch?v=JdqJl6_moOc\n",
      "[youtube] JdqJl6_moOc: Downloading webpage\n",
      "[youtube] JdqJl6_moOc: Downloading android player API JSON\n"
     ]
    },
    {
     "name": "stderr",
     "output_type": "stream",
     "text": [
      "WARNING: [youtube] JdqJl6_moOc: nsig extraction failed: You may experience throttling for some formats\n",
      "         Install PhantomJS to workaround the issue. Please download it from https://phantomjs.org/download.html\n",
      "         n = niCxC1KXh6U3Ja ; player = https://www.youtube.com/s/player/97ea7458/player_ias.vflset/en_US/base.js\n"
     ]
    },
    {
     "name": "stdout",
     "output_type": "stream",
     "text": [
      "get random frame\n",
      "*1407-1408\n",
      "JdqJl6_moOc\n",
      "yt-dlp -S res:720,ext:mp4,fps:24 -c --recode mp4 --download-sections *1407-1408 https://www.youtube.com/watch?v=JdqJl6_moOc --output spamham_samples/JdqJl6_moOc.mp4 --retries infinite --fragment-retries infinite && ffmpeg -i spamham_samples/JdqJl6_moOc.mp4 -r 1 -vframes 1 -f image2 -q:v 1 spamham_samples/frames/JdqJl6_moOc.%03d.jpeg -y && del spamham_samples\\JdqJl6_moOc.mp4\n",
      "running donwload, extract, delete cmd...0\n",
      "add file to sources\n",
      "label frame\n",
      "|2XAo2yx2TUg|\n",
      "get vid info\n",
      "[youtube] Extracting URL: https://www.youtube.com/watch?v=2XAo2yx2TUg\n",
      "[youtube] 2XAo2yx2TUg: Downloading webpage\n",
      "[youtube] 2XAo2yx2TUg: Downloading android player API JSON\n"
     ]
    },
    {
     "name": "stderr",
     "output_type": "stream",
     "text": [
      "WARNING: [youtube] 2XAo2yx2TUg: nsig extraction failed: You may experience throttling for some formats\n",
      "         Install PhantomJS to workaround the issue. Please download it from https://phantomjs.org/download.html\n",
      "         n = tfbngsgrkNCd05 ; player = https://www.youtube.com/s/player/97ea7458/player_ias.vflset/en_US/base.js\n"
     ]
    },
    {
     "name": "stdout",
     "output_type": "stream",
     "text": [
      "get random frame\n",
      "*416-417\n",
      "2XAo2yx2TUg\n",
      "yt-dlp -S res:720,ext:mp4,fps:24 -c --recode mp4 --download-sections *416-417 https://www.youtube.com/watch?v=2XAo2yx2TUg --output spamham_samples/2XAo2yx2TUg.mp4 --retries infinite --fragment-retries infinite && ffmpeg -i spamham_samples/2XAo2yx2TUg.mp4 -r 1 -vframes 1 -f image2 -q:v 1 spamham_samples/frames/2XAo2yx2TUg.%03d.jpeg -y && del spamham_samples\\2XAo2yx2TUg.mp4\n",
      "running donwload, extract, delete cmd...0\n",
      "add file to sources\n",
      "label frame\n",
      "|5_x7_rlOVNg|\n",
      "get vid info\n",
      "[youtube] Extracting URL: https://www.youtube.com/watch?v=5_x7_rlOVNg\n",
      "[youtube] 5_x7_rlOVNg: Downloading webpage\n",
      "[youtube] 5_x7_rlOVNg: Downloading android player API JSON\n"
     ]
    },
    {
     "name": "stderr",
     "output_type": "stream",
     "text": [
      "WARNING: [youtube] 5_x7_rlOVNg: nsig extraction failed: You may experience throttling for some formats\n",
      "         Install PhantomJS to workaround the issue. Please download it from https://phantomjs.org/download.html\n",
      "         n = DbbSLHv6EtpTgT ; player = https://www.youtube.com/s/player/97ea7458/player_ias.vflset/en_US/base.js\n"
     ]
    },
    {
     "name": "stdout",
     "output_type": "stream",
     "text": [
      "get random frame\n",
      "*484-485\n",
      "5_x7_rlOVNg\n",
      "yt-dlp -S res:720,ext:mp4,fps:24 -c --recode mp4 --download-sections *484-485 https://www.youtube.com/watch?v=5_x7_rlOVNg --output spamham_samples/5_x7_rlOVNg.mp4 --retries infinite --fragment-retries infinite && ffmpeg -i spamham_samples/5_x7_rlOVNg.mp4 -r 1 -vframes 1 -f image2 -q:v 1 spamham_samples/frames/5_x7_rlOVNg.%03d.jpeg -y && del spamham_samples\\5_x7_rlOVNg.mp4\n",
      "running donwload, extract, delete cmd...0\n",
      "add file to sources\n",
      "label frame\n",
      "|naFoqTpzG1I|\n",
      "get vid info\n",
      "[youtube] Extracting URL: https://www.youtube.com/watch?v=naFoqTpzG1I\n",
      "[youtube] naFoqTpzG1I: Downloading webpage\n",
      "[youtube] naFoqTpzG1I: Downloading android player API JSON\n"
     ]
    },
    {
     "name": "stderr",
     "output_type": "stream",
     "text": [
      "WARNING: [youtube] naFoqTpzG1I: nsig extraction failed: You may experience throttling for some formats\n",
      "         Install PhantomJS to workaround the issue. Please download it from https://phantomjs.org/download.html\n",
      "         n = Oy7V-SRHZ-9Oi3 ; player = https://www.youtube.com/s/player/97ea7458/player_ias.vflset/en_US/base.js\n"
     ]
    },
    {
     "name": "stdout",
     "output_type": "stream",
     "text": [
      "get random frame\n",
      "*837-838\n",
      "naFoqTpzG1I\n",
      "yt-dlp -S res:720,ext:mp4,fps:24 -c --recode mp4 --download-sections *837-838 https://www.youtube.com/watch?v=naFoqTpzG1I --output spamham_samples/naFoqTpzG1I.mp4 --retries infinite --fragment-retries infinite && ffmpeg -i spamham_samples/naFoqTpzG1I.mp4 -r 1 -vframes 1 -f image2 -q:v 1 spamham_samples/frames/naFoqTpzG1I.%03d.jpeg -y && del spamham_samples\\naFoqTpzG1I.mp4\n",
      "running donwload, extract, delete cmd...0\n",
      "add file to sources\n",
      "label frame\n",
      "|9Y68AIQ8GHQ|\n",
      "get vid info\n",
      "[youtube] Extracting URL: https://www.youtube.com/watch?v=9Y68AIQ8GHQ\n",
      "[youtube] 9Y68AIQ8GHQ: Downloading webpage\n",
      "[youtube] 9Y68AIQ8GHQ: Downloading android player API JSON\n"
     ]
    },
    {
     "name": "stderr",
     "output_type": "stream",
     "text": [
      "WARNING: [youtube] 9Y68AIQ8GHQ: nsig extraction failed: You may experience throttling for some formats\n",
      "         Install PhantomJS to workaround the issue. Please download it from https://phantomjs.org/download.html\n",
      "         n = xPBLcs62fDWhGv ; player = https://www.youtube.com/s/player/97ea7458/player_ias.vflset/en_US/base.js\n"
     ]
    },
    {
     "name": "stdout",
     "output_type": "stream",
     "text": [
      "get random frame\n",
      "*1608-1609\n",
      "9Y68AIQ8GHQ\n",
      "yt-dlp -S res:720,ext:mp4,fps:24 -c --recode mp4 --download-sections *1608-1609 https://www.youtube.com/watch?v=9Y68AIQ8GHQ --output spamham_samples/9Y68AIQ8GHQ.mp4 --retries infinite --fragment-retries infinite && ffmpeg -i spamham_samples/9Y68AIQ8GHQ.mp4 -r 1 -vframes 1 -f image2 -q:v 1 spamham_samples/frames/9Y68AIQ8GHQ.%03d.jpeg -y && del spamham_samples\\9Y68AIQ8GHQ.mp4\n",
      "running donwload, extract, delete cmd...0\n",
      "add file to sources\n",
      "label frame\n",
      "|L2jI3gv4Xc0|\n",
      "get vid info\n",
      "[youtube] Extracting URL: https://www.youtube.com/watch?v=L2jI3gv4Xc0\n",
      "[youtube] L2jI3gv4Xc0: Downloading webpage\n",
      "[youtube] L2jI3gv4Xc0: Downloading android player API JSON\n"
     ]
    },
    {
     "name": "stderr",
     "output_type": "stream",
     "text": [
      "WARNING: [youtube] L2jI3gv4Xc0: nsig extraction failed: You may experience throttling for some formats\n",
      "         Install PhantomJS to workaround the issue. Please download it from https://phantomjs.org/download.html\n",
      "         n = hcRxGIsbk14h25 ; player = https://www.youtube.com/s/player/97ea7458/player_ias.vflset/en_US/base.js\n"
     ]
    },
    {
     "name": "stdout",
     "output_type": "stream",
     "text": [
      "get random frame\n",
      "*78-79\n",
      "L2jI3gv4Xc0\n",
      "yt-dlp -S res:720,ext:mp4,fps:24 -c --recode mp4 --download-sections *78-79 https://www.youtube.com/watch?v=L2jI3gv4Xc0 --output spamham_samples/L2jI3gv4Xc0.mp4 --retries infinite --fragment-retries infinite && ffmpeg -i spamham_samples/L2jI3gv4Xc0.mp4 -r 1 -vframes 1 -f image2 -q:v 1 spamham_samples/frames/L2jI3gv4Xc0.%03d.jpeg -y && del spamham_samples\\L2jI3gv4Xc0.mp4\n",
      "running donwload, extract, delete cmd...0\n",
      "add file to sources\n",
      "label frame\n",
      "|YpLvcmR6wZk|\n",
      "get vid info\n",
      "[youtube] Extracting URL: https://www.youtube.com/watch?v=YpLvcmR6wZk\n",
      "[youtube] YpLvcmR6wZk: Downloading webpage\n",
      "[youtube] YpLvcmR6wZk: Downloading android player API JSON\n"
     ]
    },
    {
     "name": "stderr",
     "output_type": "stream",
     "text": [
      "WARNING: [youtube] YpLvcmR6wZk: nsig extraction failed: You may experience throttling for some formats\n",
      "         Install PhantomJS to workaround the issue. Please download it from https://phantomjs.org/download.html\n",
      "         n = m18gQWOH4WDGF1 ; player = https://www.youtube.com/s/player/97ea7458/player_ias.vflset/en_US/base.js\n"
     ]
    },
    {
     "name": "stdout",
     "output_type": "stream",
     "text": [
      "get random frame\n",
      "*305-306\n",
      "YpLvcmR6wZk\n",
      "yt-dlp -S res:720,ext:mp4,fps:24 -c --recode mp4 --download-sections *305-306 https://www.youtube.com/watch?v=YpLvcmR6wZk --output spamham_samples/YpLvcmR6wZk.mp4 --retries infinite --fragment-retries infinite && ffmpeg -i spamham_samples/YpLvcmR6wZk.mp4 -r 1 -vframes 1 -f image2 -q:v 1 spamham_samples/frames/YpLvcmR6wZk.%03d.jpeg -y && del spamham_samples\\YpLvcmR6wZk.mp4\n",
      "running donwload, extract, delete cmd...0\n",
      "add file to sources\n",
      "label frame\n",
      "|tm_6wAh5bMo|\n",
      "get vid info\n",
      "[youtube] Extracting URL: https://www.youtube.com/watch?v=tm_6wAh5bMo\n",
      "[youtube] tm_6wAh5bMo: Downloading webpage\n",
      "[youtube] tm_6wAh5bMo: Downloading android player API JSON\n"
     ]
    },
    {
     "name": "stderr",
     "output_type": "stream",
     "text": [
      "WARNING: [youtube] tm_6wAh5bMo: nsig extraction failed: You may experience throttling for some formats\n",
      "         Install PhantomJS to workaround the issue. Please download it from https://phantomjs.org/download.html\n",
      "         n = Ttu0W-ERW0Zzwq ; player = https://www.youtube.com/s/player/97ea7458/player_ias.vflset/en_US/base.js\n"
     ]
    },
    {
     "name": "stdout",
     "output_type": "stream",
     "text": [
      "get random frame\n",
      "*605-606\n",
      "tm_6wAh5bMo\n",
      "yt-dlp -S res:720,ext:mp4,fps:24 -c --recode mp4 --download-sections *605-606 https://www.youtube.com/watch?v=tm_6wAh5bMo --output spamham_samples/tm_6wAh5bMo.mp4 --retries infinite --fragment-retries infinite && ffmpeg -i spamham_samples/tm_6wAh5bMo.mp4 -r 1 -vframes 1 -f image2 -q:v 1 spamham_samples/frames/tm_6wAh5bMo.%03d.jpeg -y && del spamham_samples\\tm_6wAh5bMo.mp4\n",
      "running donwload, extract, delete cmd...0\n",
      "add file to sources\n",
      "label frame\n",
      "|HWhiC671qQI|\n",
      "get vid info\n",
      "[youtube] Extracting URL: https://www.youtube.com/watch?v=HWhiC671qQI\n",
      "[youtube] HWhiC671qQI: Downloading webpage\n",
      "[youtube] HWhiC671qQI: Downloading android player API JSON\n"
     ]
    },
    {
     "name": "stderr",
     "output_type": "stream",
     "text": [
      "WARNING: [youtube] HWhiC671qQI: nsig extraction failed: You may experience throttling for some formats\n",
      "         Install PhantomJS to workaround the issue. Please download it from https://phantomjs.org/download.html\n",
      "         n = eMRX6NitmQyOWf ; player = https://www.youtube.com/s/player/97ea7458/player_ias.vflset/en_US/base.js\n"
     ]
    },
    {
     "name": "stdout",
     "output_type": "stream",
     "text": [
      "get random frame\n",
      "*403-404\n",
      "HWhiC671qQI\n",
      "yt-dlp -S res:720,ext:mp4,fps:24 -c --recode mp4 --download-sections *403-404 https://www.youtube.com/watch?v=HWhiC671qQI --output spamham_samples/HWhiC671qQI.mp4 --retries infinite --fragment-retries infinite && ffmpeg -i spamham_samples/HWhiC671qQI.mp4 -r 1 -vframes 1 -f image2 -q:v 1 spamham_samples/frames/HWhiC671qQI.%03d.jpeg -y && del spamham_samples\\HWhiC671qQI.mp4\n",
      "running donwload, extract, delete cmd...0\n",
      "add file to sources\n",
      "label frame\n",
      "|9nTrKwlK3MA|\n",
      "get vid info\n",
      "[youtube] Extracting URL: https://www.youtube.com/watch?v=9nTrKwlK3MA\n",
      "[youtube] 9nTrKwlK3MA: Downloading webpage\n",
      "[youtube] 9nTrKwlK3MA: Downloading android player API JSON\n"
     ]
    },
    {
     "name": "stderr",
     "output_type": "stream",
     "text": [
      "WARNING: [youtube] 9nTrKwlK3MA: nsig extraction failed: You may experience throttling for some formats\n",
      "         Install PhantomJS to workaround the issue. Please download it from https://phantomjs.org/download.html\n",
      "         n = Al6-gCMYp-Xw0n ; player = https://www.youtube.com/s/player/97ea7458/player_ias.vflset/en_US/base.js\n"
     ]
    },
    {
     "name": "stdout",
     "output_type": "stream",
     "text": [
      "get random frame\n",
      "*383-384\n",
      "9nTrKwlK3MA\n",
      "yt-dlp -S res:720,ext:mp4,fps:24 -c --recode mp4 --download-sections *383-384 https://www.youtube.com/watch?v=9nTrKwlK3MA --output spamham_samples/9nTrKwlK3MA.mp4 --retries infinite --fragment-retries infinite && ffmpeg -i spamham_samples/9nTrKwlK3MA.mp4 -r 1 -vframes 1 -f image2 -q:v 1 spamham_samples/frames/9nTrKwlK3MA.%03d.jpeg -y && del spamham_samples\\9nTrKwlK3MA.mp4\n",
      "running donwload, extract, delete cmd...0\n",
      "add file to sources\n",
      "label frame\n",
      "|JSE81K9IH9Q|\n",
      "get vid info\n",
      "[youtube] Extracting URL: https://www.youtube.com/watch?v=JSE81K9IH9Q\n",
      "[youtube] JSE81K9IH9Q: Downloading webpage\n",
      "[youtube] JSE81K9IH9Q: Downloading android player API JSON\n"
     ]
    },
    {
     "name": "stderr",
     "output_type": "stream",
     "text": [
      "WARNING: [youtube] JSE81K9IH9Q: nsig extraction failed: You may experience throttling for some formats\n",
      "         Install PhantomJS to workaround the issue. Please download it from https://phantomjs.org/download.html\n",
      "         n = 8eSJlGBKjXQss8 ; player = https://www.youtube.com/s/player/97ea7458/player_ias.vflset/en_US/base.js\n"
     ]
    },
    {
     "name": "stdout",
     "output_type": "stream",
     "text": [
      "get random frame\n",
      "*305-306\n",
      "JSE81K9IH9Q\n",
      "yt-dlp -S res:720,ext:mp4,fps:24 -c --recode mp4 --download-sections *305-306 https://www.youtube.com/watch?v=JSE81K9IH9Q --output spamham_samples/JSE81K9IH9Q.mp4 --retries infinite --fragment-retries infinite && ffmpeg -i spamham_samples/JSE81K9IH9Q.mp4 -r 1 -vframes 1 -f image2 -q:v 1 spamham_samples/frames/JSE81K9IH9Q.%03d.jpeg -y && del spamham_samples\\JSE81K9IH9Q.mp4\n",
      "running donwload, extract, delete cmd...0\n",
      "add file to sources\n",
      "label frame\n",
      "|MR0GfXjYRi8|\n",
      "get vid info\n",
      "[youtube] Extracting URL: https://www.youtube.com/watch?v=MR0GfXjYRi8\n",
      "[youtube] MR0GfXjYRi8: Downloading webpage\n",
      "[youtube] MR0GfXjYRi8: Downloading android player API JSON\n"
     ]
    },
    {
     "name": "stderr",
     "output_type": "stream",
     "text": [
      "WARNING: [youtube] MR0GfXjYRi8: nsig extraction failed: You may experience throttling for some formats\n",
      "         Install PhantomJS to workaround the issue. Please download it from https://phantomjs.org/download.html\n",
      "         n = Q1KSsX8F9YuQtX ; player = https://www.youtube.com/s/player/97ea7458/player_ias.vflset/en_US/base.js\n"
     ]
    },
    {
     "name": "stdout",
     "output_type": "stream",
     "text": [
      "get random frame\n",
      "*528-529\n",
      "MR0GfXjYRi8\n",
      "yt-dlp -S res:720,ext:mp4,fps:24 -c --recode mp4 --download-sections *528-529 https://www.youtube.com/watch?v=MR0GfXjYRi8 --output spamham_samples/MR0GfXjYRi8.mp4 --retries infinite --fragment-retries infinite && ffmpeg -i spamham_samples/MR0GfXjYRi8.mp4 -r 1 -vframes 1 -f image2 -q:v 1 spamham_samples/frames/MR0GfXjYRi8.%03d.jpeg -y && del spamham_samples\\MR0GfXjYRi8.mp4\n",
      "running donwload, extract, delete cmd...0\n",
      "add file to sources\n",
      "label frame\n",
      "|CfXG7hiwuAE|\n",
      "get vid info\n",
      "[youtube] Extracting URL: https://www.youtube.com/watch?v=CfXG7hiwuAE\n",
      "[youtube] CfXG7hiwuAE: Downloading webpage\n",
      "[youtube] CfXG7hiwuAE: Downloading android player API JSON\n"
     ]
    },
    {
     "name": "stderr",
     "output_type": "stream",
     "text": [
      "WARNING: [youtube] CfXG7hiwuAE: nsig extraction failed: You may experience throttling for some formats\n",
      "         Install PhantomJS to workaround the issue. Please download it from https://phantomjs.org/download.html\n",
      "         n = ZkRBM373pPhpks ; player = https://www.youtube.com/s/player/97ea7458/player_ias.vflset/en_US/base.js\n"
     ]
    },
    {
     "name": "stdout",
     "output_type": "stream",
     "text": [
      "get random frame\n",
      "*302-303\n",
      "CfXG7hiwuAE\n",
      "yt-dlp -S res:720,ext:mp4,fps:24 -c --recode mp4 --download-sections *302-303 https://www.youtube.com/watch?v=CfXG7hiwuAE --output spamham_samples/CfXG7hiwuAE.mp4 --retries infinite --fragment-retries infinite && ffmpeg -i spamham_samples/CfXG7hiwuAE.mp4 -r 1 -vframes 1 -f image2 -q:v 1 spamham_samples/frames/CfXG7hiwuAE.%03d.jpeg -y && del spamham_samples\\CfXG7hiwuAE.mp4\n",
      "running donwload, extract, delete cmd...0\n",
      "add file to sources\n",
      "label frame\n",
      "|1p27wxASie8|\n",
      "get vid info\n",
      "[youtube] Extracting URL: https://www.youtube.com/watch?v=1p27wxASie8\n",
      "[youtube] 1p27wxASie8: Downloading webpage\n",
      "[youtube] 1p27wxASie8: Downloading android player API JSON\n"
     ]
    },
    {
     "name": "stderr",
     "output_type": "stream",
     "text": [
      "WARNING: [youtube] 1p27wxASie8: nsig extraction failed: You may experience throttling for some formats\n",
      "         Install PhantomJS to workaround the issue. Please download it from https://phantomjs.org/download.html\n",
      "         n = iTEQGIFDkqqio4 ; player = https://www.youtube.com/s/player/97ea7458/player_ias.vflset/en_US/base.js\n"
     ]
    },
    {
     "name": "stdout",
     "output_type": "stream",
     "text": [
      "get random frame\n",
      "*296-297\n",
      "1p27wxASie8\n",
      "yt-dlp -S res:720,ext:mp4,fps:24 -c --recode mp4 --download-sections *296-297 https://www.youtube.com/watch?v=1p27wxASie8 --output spamham_samples/1p27wxASie8.mp4 --retries infinite --fragment-retries infinite && ffmpeg -i spamham_samples/1p27wxASie8.mp4 -r 1 -vframes 1 -f image2 -q:v 1 spamham_samples/frames/1p27wxASie8.%03d.jpeg -y && del spamham_samples\\1p27wxASie8.mp4\n",
      "running donwload, extract, delete cmd...0\n",
      "add file to sources\n",
      "label frame\n",
      "|JhBSQ0eIhWQ|\n",
      "get vid info\n",
      "[youtube] Extracting URL: https://www.youtube.com/watch?v=JhBSQ0eIhWQ\n",
      "[youtube] JhBSQ0eIhWQ: Downloading webpage\n",
      "[youtube] JhBSQ0eIhWQ: Downloading android player API JSON\n"
     ]
    },
    {
     "name": "stderr",
     "output_type": "stream",
     "text": [
      "WARNING: [youtube] JhBSQ0eIhWQ: nsig extraction failed: You may experience throttling for some formats\n",
      "         Install PhantomJS to workaround the issue. Please download it from https://phantomjs.org/download.html\n",
      "         n = BuFpgoM7OZ5R_2 ; player = https://www.youtube.com/s/player/97ea7458/player_ias.vflset/en_US/base.js\n"
     ]
    },
    {
     "name": "stdout",
     "output_type": "stream",
     "text": [
      "get random frame\n",
      "*1450-1451\n",
      "JhBSQ0eIhWQ\n",
      "yt-dlp -S res:720,ext:mp4,fps:24 -c --recode mp4 --download-sections *1450-1451 https://www.youtube.com/watch?v=JhBSQ0eIhWQ --output spamham_samples/JhBSQ0eIhWQ.mp4 --retries infinite --fragment-retries infinite && ffmpeg -i spamham_samples/JhBSQ0eIhWQ.mp4 -r 1 -vframes 1 -f image2 -q:v 1 spamham_samples/frames/JhBSQ0eIhWQ.%03d.jpeg -y && del spamham_samples\\JhBSQ0eIhWQ.mp4\n",
      "running donwload, extract, delete cmd...0\n",
      "add file to sources\n",
      "label frame\n",
      "|l6aJnmsDVPQ|\n",
      "get vid info\n",
      "[youtube] Extracting URL: https://www.youtube.com/watch?v=l6aJnmsDVPQ\n",
      "[youtube] l6aJnmsDVPQ: Downloading webpage\n",
      "[youtube] l6aJnmsDVPQ: Downloading android player API JSON\n"
     ]
    },
    {
     "name": "stderr",
     "output_type": "stream",
     "text": [
      "WARNING: [youtube] l6aJnmsDVPQ: nsig extraction failed: You may experience throttling for some formats\n",
      "         Install PhantomJS to workaround the issue. Please download it from https://phantomjs.org/download.html\n",
      "         n = cVmWGRxjWG3szn ; player = https://www.youtube.com/s/player/97ea7458/player_ias.vflset/en_US/base.js\n"
     ]
    },
    {
     "name": "stdout",
     "output_type": "stream",
     "text": [
      "get random frame\n",
      "*627-628\n",
      "l6aJnmsDVPQ\n",
      "yt-dlp -S res:720,ext:mp4,fps:24 -c --recode mp4 --download-sections *627-628 https://www.youtube.com/watch?v=l6aJnmsDVPQ --output spamham_samples/l6aJnmsDVPQ.mp4 --retries infinite --fragment-retries infinite && ffmpeg -i spamham_samples/l6aJnmsDVPQ.mp4 -r 1 -vframes 1 -f image2 -q:v 1 spamham_samples/frames/l6aJnmsDVPQ.%03d.jpeg -y && del spamham_samples\\l6aJnmsDVPQ.mp4\n",
      "running donwload, extract, delete cmd...0\n",
      "add file to sources\n",
      "label frame\n",
      "|OmlYqxAo6QY|\n",
      "get vid info\n",
      "[youtube] Extracting URL: https://www.youtube.com/watch?v=OmlYqxAo6QY\n",
      "[youtube] OmlYqxAo6QY: Downloading webpage\n",
      "[youtube] OmlYqxAo6QY: Downloading android player API JSON\n"
     ]
    },
    {
     "name": "stderr",
     "output_type": "stream",
     "text": [
      "WARNING: [youtube] OmlYqxAo6QY: nsig extraction failed: You may experience throttling for some formats\n",
      "         Install PhantomJS to workaround the issue. Please download it from https://phantomjs.org/download.html\n",
      "         n = FXr4eeHBIksF0s ; player = https://www.youtube.com/s/player/97ea7458/player_ias.vflset/en_US/base.js\n"
     ]
    },
    {
     "name": "stdout",
     "output_type": "stream",
     "text": [
      "get random frame\n",
      "*1027-1028\n",
      "OmlYqxAo6QY\n",
      "yt-dlp -S res:720,ext:mp4,fps:24 -c --recode mp4 --download-sections *1027-1028 https://www.youtube.com/watch?v=OmlYqxAo6QY --output spamham_samples/OmlYqxAo6QY.mp4 --retries infinite --fragment-retries infinite && ffmpeg -i spamham_samples/OmlYqxAo6QY.mp4 -r 1 -vframes 1 -f image2 -q:v 1 spamham_samples/frames/OmlYqxAo6QY.%03d.jpeg -y && del spamham_samples\\OmlYqxAo6QY.mp4\n",
      "running donwload, extract, delete cmd...0\n",
      "add file to sources\n",
      "label frame\n",
      "|PLAxlFds_gI|\n",
      "get vid info\n",
      "[youtube] Extracting URL: https://www.youtube.com/watch?v=PLAxlFds_gI\n",
      "[youtube] PLAxlFds_gI: Downloading webpage\n",
      "[youtube] PLAxlFds_gI: Downloading android player API JSON\n"
     ]
    },
    {
     "name": "stderr",
     "output_type": "stream",
     "text": [
      "WARNING: [youtube] PLAxlFds_gI: nsig extraction failed: You may experience throttling for some formats\n",
      "         Install PhantomJS to workaround the issue. Please download it from https://phantomjs.org/download.html\n",
      "         n = bHns6ZDZiagrbQ ; player = https://www.youtube.com/s/player/97ea7458/player_ias.vflset/en_US/base.js\n"
     ]
    },
    {
     "name": "stdout",
     "output_type": "stream",
     "text": [
      "get random frame\n",
      "*425-426\n",
      "PLAxlFds_gI\n",
      "yt-dlp -S res:720,ext:mp4,fps:24 -c --recode mp4 --download-sections *425-426 https://www.youtube.com/watch?v=PLAxlFds_gI --output spamham_samples/PLAxlFds_gI.mp4 --retries infinite --fragment-retries infinite && ffmpeg -i spamham_samples/PLAxlFds_gI.mp4 -r 1 -vframes 1 -f image2 -q:v 1 spamham_samples/frames/PLAxlFds_gI.%03d.jpeg -y && del spamham_samples\\PLAxlFds_gI.mp4\n",
      "running donwload, extract, delete cmd...0\n",
      "add file to sources\n",
      "label frame\n",
      "|-lJtczO7-_U|\n",
      "get vid info\n",
      "[youtube] Extracting URL: https://www.youtube.com/watch?v=-lJtczO7-_U\n",
      "[youtube] -lJtczO7-_U: Downloading webpage\n",
      "[youtube] -lJtczO7-_U: Downloading android player API JSON\n"
     ]
    },
    {
     "name": "stderr",
     "output_type": "stream",
     "text": [
      "WARNING: [youtube] -lJtczO7-_U: nsig extraction failed: You may experience throttling for some formats\n",
      "         Install PhantomJS to workaround the issue. Please download it from https://phantomjs.org/download.html\n",
      "         n = eEtWKWa9LGYuDn ; player = https://www.youtube.com/s/player/97ea7458/player_ias.vflset/en_US/base.js\n"
     ]
    },
    {
     "name": "stdout",
     "output_type": "stream",
     "text": [
      "get random frame\n",
      "*1328-1329\n",
      "-lJtczO7-_U\n",
      "yt-dlp -S res:720,ext:mp4,fps:24 -c --recode mp4 --download-sections *1328-1329 https://www.youtube.com/watch?v=-lJtczO7-_U --output spamham_samples/-lJtczO7-_U.mp4 --retries infinite --fragment-retries infinite && ffmpeg -i spamham_samples/-lJtczO7-_U.mp4 -r 1 -vframes 1 -f image2 -q:v 1 spamham_samples/frames/-lJtczO7-_U.%03d.jpeg -y && del spamham_samples\\-lJtczO7-_U.mp4\n",
      "running donwload, extract, delete cmd...0\n",
      "add file to sources\n",
      "label frame\n",
      "|AflUOSLQ6gs|\n",
      "get vid info\n",
      "[youtube] Extracting URL: https://www.youtube.com/watch?v=AflUOSLQ6gs\n",
      "[youtube] AflUOSLQ6gs: Downloading webpage\n",
      "[youtube] AflUOSLQ6gs: Downloading android player API JSON\n"
     ]
    },
    {
     "name": "stderr",
     "output_type": "stream",
     "text": [
      "WARNING: [youtube] AflUOSLQ6gs: nsig extraction failed: You may experience throttling for some formats\n",
      "         Install PhantomJS to workaround the issue. Please download it from https://phantomjs.org/download.html\n",
      "         n = O0B8E_7ewlDen_ ; player = https://www.youtube.com/s/player/97ea7458/player_ias.vflset/en_US/base.js\n"
     ]
    },
    {
     "name": "stdout",
     "output_type": "stream",
     "text": [
      "get random frame\n",
      "*163-164\n",
      "AflUOSLQ6gs\n",
      "yt-dlp -S res:720,ext:mp4,fps:24 -c --recode mp4 --download-sections *163-164 https://www.youtube.com/watch?v=AflUOSLQ6gs --output spamham_samples/AflUOSLQ6gs.mp4 --retries infinite --fragment-retries infinite && ffmpeg -i spamham_samples/AflUOSLQ6gs.mp4 -r 1 -vframes 1 -f image2 -q:v 1 spamham_samples/frames/AflUOSLQ6gs.%03d.jpeg -y && del spamham_samples\\AflUOSLQ6gs.mp4\n",
      "running donwload, extract, delete cmd...0\n",
      "add file to sources\n",
      "label frame\n",
      "|vGiQeEDtC8w|\n",
      "get vid info\n",
      "[youtube] Extracting URL: https://www.youtube.com/watch?v=vGiQeEDtC8w\n",
      "[youtube] vGiQeEDtC8w: Downloading webpage\n",
      "[youtube] vGiQeEDtC8w: Downloading android player API JSON\n"
     ]
    },
    {
     "name": "stderr",
     "output_type": "stream",
     "text": [
      "WARNING: [youtube] vGiQeEDtC8w: nsig extraction failed: You may experience throttling for some formats\n",
      "         Install PhantomJS to workaround the issue. Please download it from https://phantomjs.org/download.html\n",
      "         n = P02O6ygmeklvWu ; player = https://www.youtube.com/s/player/97ea7458/player_ias.vflset/en_US/base.js\n"
     ]
    },
    {
     "name": "stdout",
     "output_type": "stream",
     "text": [
      "get random frame\n",
      "*242-243\n",
      "vGiQeEDtC8w\n",
      "yt-dlp -S res:720,ext:mp4,fps:24 -c --recode mp4 --download-sections *242-243 https://www.youtube.com/watch?v=vGiQeEDtC8w --output spamham_samples/vGiQeEDtC8w.mp4 --retries infinite --fragment-retries infinite && ffmpeg -i spamham_samples/vGiQeEDtC8w.mp4 -r 1 -vframes 1 -f image2 -q:v 1 spamham_samples/frames/vGiQeEDtC8w.%03d.jpeg -y && del spamham_samples\\vGiQeEDtC8w.mp4\n",
      "running donwload, extract, delete cmd...0\n",
      "add file to sources\n",
      "label frame\n",
      "|KXke7gwSIk4|\n",
      "get vid info\n",
      "[youtube] Extracting URL: https://www.youtube.com/watch?v=KXke7gwSIk4\n",
      "[youtube] KXke7gwSIk4: Downloading webpage\n",
      "[youtube] KXke7gwSIk4: Downloading android player API JSON\n"
     ]
    },
    {
     "name": "stderr",
     "output_type": "stream",
     "text": [
      "WARNING: [youtube] KXke7gwSIk4: nsig extraction failed: You may experience throttling for some formats\n",
      "         Install PhantomJS to workaround the issue. Please download it from https://phantomjs.org/download.html\n",
      "         n = -7s1GurAeQvedo ; player = https://www.youtube.com/s/player/97ea7458/player_ias.vflset/en_US/base.js\n"
     ]
    },
    {
     "name": "stdout",
     "output_type": "stream",
     "text": [
      "get random frame\n",
      "*105-106\n",
      "KXke7gwSIk4\n",
      "yt-dlp -S res:720,ext:mp4,fps:24 -c --recode mp4 --download-sections *105-106 https://www.youtube.com/watch?v=KXke7gwSIk4 --output spamham_samples/KXke7gwSIk4.mp4 --retries infinite --fragment-retries infinite && ffmpeg -i spamham_samples/KXke7gwSIk4.mp4 -r 1 -vframes 1 -f image2 -q:v 1 spamham_samples/frames/KXke7gwSIk4.%03d.jpeg -y && del spamham_samples\\KXke7gwSIk4.mp4\n",
      "running donwload, extract, delete cmd...0\n",
      "add file to sources\n",
      "label frame\n",
      "|ihGYZn_lehw|\n",
      "get vid info\n",
      "[youtube] Extracting URL: https://www.youtube.com/watch?v=ihGYZn_lehw\n",
      "[youtube] ihGYZn_lehw: Downloading webpage\n",
      "[youtube] ihGYZn_lehw: Downloading android player API JSON\n"
     ]
    },
    {
     "name": "stderr",
     "output_type": "stream",
     "text": [
      "WARNING: [youtube] ihGYZn_lehw: nsig extraction failed: You may experience throttling for some formats\n",
      "         Install PhantomJS to workaround the issue. Please download it from https://phantomjs.org/download.html\n",
      "         n = gtEXuJCE8fJgH1 ; player = https://www.youtube.com/s/player/97ea7458/player_ias.vflset/en_US/base.js\n"
     ]
    },
    {
     "name": "stdout",
     "output_type": "stream",
     "text": [
      "get random frame\n",
      "*55-56\n",
      "ihGYZn_lehw\n",
      "yt-dlp -S res:720,ext:mp4,fps:24 -c --recode mp4 --download-sections *55-56 https://www.youtube.com/watch?v=ihGYZn_lehw --output spamham_samples/ihGYZn_lehw.mp4 --retries infinite --fragment-retries infinite && ffmpeg -i spamham_samples/ihGYZn_lehw.mp4 -r 1 -vframes 1 -f image2 -q:v 1 spamham_samples/frames/ihGYZn_lehw.%03d.jpeg -y && del spamham_samples\\ihGYZn_lehw.mp4\n",
      "running donwload, extract, delete cmd...0\n",
      "add file to sources\n",
      "label frame\n",
      "|tbHPMUEnVWg|\n",
      "get vid info\n",
      "[youtube] Extracting URL: https://www.youtube.com/watch?v=tbHPMUEnVWg\n",
      "[youtube] tbHPMUEnVWg: Downloading webpage\n",
      "[youtube] tbHPMUEnVWg: Downloading android player API JSON\n"
     ]
    },
    {
     "name": "stderr",
     "output_type": "stream",
     "text": [
      "WARNING: [youtube] tbHPMUEnVWg: nsig extraction failed: You may experience throttling for some formats\n",
      "         Install PhantomJS to workaround the issue. Please download it from https://phantomjs.org/download.html\n",
      "         n = UKm4nDKOdVgkdY ; player = https://www.youtube.com/s/player/97ea7458/player_ias.vflset/en_US/base.js\n"
     ]
    },
    {
     "name": "stdout",
     "output_type": "stream",
     "text": [
      "get random frame\n",
      "*171-172\n",
      "tbHPMUEnVWg\n",
      "yt-dlp -S res:720,ext:mp4,fps:24 -c --recode mp4 --download-sections *171-172 https://www.youtube.com/watch?v=tbHPMUEnVWg --output spamham_samples/tbHPMUEnVWg.mp4 --retries infinite --fragment-retries infinite && ffmpeg -i spamham_samples/tbHPMUEnVWg.mp4 -r 1 -vframes 1 -f image2 -q:v 1 spamham_samples/frames/tbHPMUEnVWg.%03d.jpeg -y && del spamham_samples\\tbHPMUEnVWg.mp4\n",
      "running donwload, extract, delete cmd...0\n",
      "add file to sources\n",
      "label frame\n",
      "|UzB2IyNv8Hs|\n",
      "get vid info\n",
      "[youtube] Extracting URL: https://www.youtube.com/watch?v=UzB2IyNv8Hs\n",
      "[youtube] UzB2IyNv8Hs: Downloading webpage\n",
      "[youtube] UzB2IyNv8Hs: Downloading android player API JSON\n"
     ]
    },
    {
     "name": "stderr",
     "output_type": "stream",
     "text": [
      "WARNING: [youtube] UzB2IyNv8Hs: nsig extraction failed: You may experience throttling for some formats\n",
      "         Install PhantomJS to workaround the issue. Please download it from https://phantomjs.org/download.html\n",
      "         n = KsGzzMfnoBr6ej ; player = https://www.youtube.com/s/player/97ea7458/player_ias.vflset/en_US/base.js\n"
     ]
    },
    {
     "name": "stdout",
     "output_type": "stream",
     "text": [
      "get random frame\n",
      "*1261-1262\n",
      "UzB2IyNv8Hs\n",
      "yt-dlp -S res:720,ext:mp4,fps:24 -c --recode mp4 --download-sections *1261-1262 https://www.youtube.com/watch?v=UzB2IyNv8Hs --output spamham_samples/UzB2IyNv8Hs.mp4 --retries infinite --fragment-retries infinite && ffmpeg -i spamham_samples/UzB2IyNv8Hs.mp4 -r 1 -vframes 1 -f image2 -q:v 1 spamham_samples/frames/UzB2IyNv8Hs.%03d.jpeg -y && del spamham_samples\\UzB2IyNv8Hs.mp4\n",
      "running donwload, extract, delete cmd...0\n",
      "add file to sources\n",
      "label frame\n",
      "|w7dfI_eDxBk|\n",
      "get vid info\n",
      "[youtube] Extracting URL: https://www.youtube.com/watch?v=w7dfI_eDxBk\n",
      "[youtube] w7dfI_eDxBk: Downloading webpage\n",
      "[youtube] w7dfI_eDxBk: Downloading android player API JSON\n"
     ]
    },
    {
     "name": "stderr",
     "output_type": "stream",
     "text": [
      "WARNING: [youtube] w7dfI_eDxBk: nsig extraction failed: You may experience throttling for some formats\n",
      "         Install PhantomJS to workaround the issue. Please download it from https://phantomjs.org/download.html\n",
      "         n = lRa01mhMkQsV_g ; player = https://www.youtube.com/s/player/97ea7458/player_ias.vflset/en_US/base.js\n"
     ]
    },
    {
     "name": "stdout",
     "output_type": "stream",
     "text": [
      "get random frame\n",
      "*478-479\n",
      "w7dfI_eDxBk\n",
      "yt-dlp -S res:720,ext:mp4,fps:24 -c --recode mp4 --download-sections *478-479 https://www.youtube.com/watch?v=w7dfI_eDxBk --output spamham_samples/w7dfI_eDxBk.mp4 --retries infinite --fragment-retries infinite && ffmpeg -i spamham_samples/w7dfI_eDxBk.mp4 -r 1 -vframes 1 -f image2 -q:v 1 spamham_samples/frames/w7dfI_eDxBk.%03d.jpeg -y && del spamham_samples\\w7dfI_eDxBk.mp4\n",
      "running donwload, extract, delete cmd...0\n",
      "add file to sources\n",
      "label frame\n",
      "|uKSUY7ArTcg|\n",
      "get vid info\n",
      "[youtube] Extracting URL: https://www.youtube.com/watch?v=uKSUY7ArTcg\n",
      "[youtube] uKSUY7ArTcg: Downloading webpage\n",
      "[youtube] uKSUY7ArTcg: Downloading android player API JSON\n"
     ]
    },
    {
     "name": "stderr",
     "output_type": "stream",
     "text": [
      "WARNING: [youtube] uKSUY7ArTcg: nsig extraction failed: You may experience throttling for some formats\n",
      "         Install PhantomJS to workaround the issue. Please download it from https://phantomjs.org/download.html\n",
      "         n = YapgLcjvWSFIYT ; player = https://www.youtube.com/s/player/97ea7458/player_ias.vflset/en_US/base.js\n"
     ]
    },
    {
     "name": "stdout",
     "output_type": "stream",
     "text": [
      "get random frame\n",
      "*230-231\n",
      "uKSUY7ArTcg\n",
      "yt-dlp -S res:720,ext:mp4,fps:24 -c --recode mp4 --download-sections *230-231 https://www.youtube.com/watch?v=uKSUY7ArTcg --output spamham_samples/uKSUY7ArTcg.mp4 --retries infinite --fragment-retries infinite && ffmpeg -i spamham_samples/uKSUY7ArTcg.mp4 -r 1 -vframes 1 -f image2 -q:v 1 spamham_samples/frames/uKSUY7ArTcg.%03d.jpeg -y && del spamham_samples\\uKSUY7ArTcg.mp4\n",
      "running donwload, extract, delete cmd...0\n",
      "add file to sources\n",
      "label frame\n",
      "|FDKpPYrvZj0|\n",
      "get vid info\n",
      "[youtube] Extracting URL: https://www.youtube.com/watch?v=FDKpPYrvZj0\n",
      "[youtube] FDKpPYrvZj0: Downloading webpage\n",
      "[youtube] FDKpPYrvZj0: Downloading android player API JSON\n"
     ]
    },
    {
     "name": "stderr",
     "output_type": "stream",
     "text": [
      "WARNING: [youtube] FDKpPYrvZj0: nsig extraction failed: You may experience throttling for some formats\n",
      "         Install PhantomJS to workaround the issue. Please download it from https://phantomjs.org/download.html\n",
      "         n = iqfuqDMBd7viil ; player = https://www.youtube.com/s/player/97ea7458/player_ias.vflset/en_US/base.js\n"
     ]
    },
    {
     "name": "stdout",
     "output_type": "stream",
     "text": [
      "get random frame\n",
      "*287-288\n",
      "FDKpPYrvZj0\n",
      "yt-dlp -S res:720,ext:mp4,fps:24 -c --recode mp4 --download-sections *287-288 https://www.youtube.com/watch?v=FDKpPYrvZj0 --output spamham_samples/FDKpPYrvZj0.mp4 --retries infinite --fragment-retries infinite && ffmpeg -i spamham_samples/FDKpPYrvZj0.mp4 -r 1 -vframes 1 -f image2 -q:v 1 spamham_samples/frames/FDKpPYrvZj0.%03d.jpeg -y && del spamham_samples\\FDKpPYrvZj0.mp4\n",
      "running donwload, extract, delete cmd...0\n",
      "add file to sources\n",
      "label frame\n",
      "|46uGKwqP-qI|\n",
      "get vid info\n",
      "[youtube] Extracting URL: https://www.youtube.com/watch?v=46uGKwqP-qI\n",
      "[youtube] 46uGKwqP-qI: Downloading webpage\n",
      "[youtube] 46uGKwqP-qI: Downloading android player API JSON\n"
     ]
    },
    {
     "name": "stderr",
     "output_type": "stream",
     "text": [
      "WARNING: [youtube] 46uGKwqP-qI: nsig extraction failed: You may experience throttling for some formats\n",
      "         Install PhantomJS to workaround the issue. Please download it from https://phantomjs.org/download.html\n",
      "         n = 6RQ7ZH6VpeDaCg ; player = https://www.youtube.com/s/player/97ea7458/player_ias.vflset/en_US/base.js\n"
     ]
    },
    {
     "name": "stdout",
     "output_type": "stream",
     "text": [
      "get random frame\n",
      "*1626-1627\n",
      "46uGKwqP-qI\n",
      "yt-dlp -S res:720,ext:mp4,fps:24 -c --recode mp4 --download-sections *1626-1627 https://www.youtube.com/watch?v=46uGKwqP-qI --output spamham_samples/46uGKwqP-qI.mp4 --retries infinite --fragment-retries infinite && ffmpeg -i spamham_samples/46uGKwqP-qI.mp4 -r 1 -vframes 1 -f image2 -q:v 1 spamham_samples/frames/46uGKwqP-qI.%03d.jpeg -y && del spamham_samples\\46uGKwqP-qI.mp4\n",
      "running donwload, extract, delete cmd...0\n",
      "add file to sources\n",
      "label frame\n",
      "|KBu-7p-A51g|\n",
      "get vid info\n",
      "[youtube] Extracting URL: https://www.youtube.com/watch?v=KBu-7p-A51g\n",
      "[youtube] KBu-7p-A51g: Downloading webpage\n",
      "[youtube] KBu-7p-A51g: Downloading android player API JSON\n"
     ]
    },
    {
     "name": "stderr",
     "output_type": "stream",
     "text": [
      "WARNING: [youtube] KBu-7p-A51g: nsig extraction failed: You may experience throttling for some formats\n",
      "         Install PhantomJS to workaround the issue. Please download it from https://phantomjs.org/download.html\n",
      "         n = 5LZotFdRQ_bZ1j ; player = https://www.youtube.com/s/player/97ea7458/player_ias.vflset/en_US/base.js\n"
     ]
    },
    {
     "name": "stdout",
     "output_type": "stream",
     "text": [
      "get random frame\n",
      "*462-463\n",
      "KBu-7p-A51g\n",
      "yt-dlp -S res:720,ext:mp4,fps:24 -c --recode mp4 --download-sections *462-463 https://www.youtube.com/watch?v=KBu-7p-A51g --output spamham_samples/KBu-7p-A51g.mp4 --retries infinite --fragment-retries infinite && ffmpeg -i spamham_samples/KBu-7p-A51g.mp4 -r 1 -vframes 1 -f image2 -q:v 1 spamham_samples/frames/KBu-7p-A51g.%03d.jpeg -y && del spamham_samples\\KBu-7p-A51g.mp4\n",
      "running donwload, extract, delete cmd...0\n",
      "add file to sources\n",
      "label frame\n",
      "|l0h1y1gt5iY|\n",
      "get vid info\n",
      "[youtube] Extracting URL: https://www.youtube.com/watch?v=l0h1y1gt5iY\n",
      "[youtube] l0h1y1gt5iY: Downloading webpage\n",
      "[youtube] l0h1y1gt5iY: Downloading android player API JSON\n"
     ]
    },
    {
     "name": "stderr",
     "output_type": "stream",
     "text": [
      "WARNING: [youtube] l0h1y1gt5iY: nsig extraction failed: You may experience throttling for some formats\n",
      "         Install PhantomJS to workaround the issue. Please download it from https://phantomjs.org/download.html\n",
      "         n = 1jADZMh5aoB1hM ; player = https://www.youtube.com/s/player/97ea7458/player_ias.vflset/en_US/base.js\n"
     ]
    },
    {
     "name": "stdout",
     "output_type": "stream",
     "text": [
      "get random frame\n",
      "*1088-1089\n",
      "l0h1y1gt5iY\n",
      "yt-dlp -S res:720,ext:mp4,fps:24 -c --recode mp4 --download-sections *1088-1089 https://www.youtube.com/watch?v=l0h1y1gt5iY --output spamham_samples/l0h1y1gt5iY.mp4 --retries infinite --fragment-retries infinite && ffmpeg -i spamham_samples/l0h1y1gt5iY.mp4 -r 1 -vframes 1 -f image2 -q:v 1 spamham_samples/frames/l0h1y1gt5iY.%03d.jpeg -y && del spamham_samples\\l0h1y1gt5iY.mp4\n",
      "running donwload, extract, delete cmd...0\n",
      "add file to sources\n",
      "label frame\n",
      "|ArkszVQRMTc|\n",
      "get vid info\n",
      "[youtube] Extracting URL: https://www.youtube.com/watch?v=ArkszVQRMTc\n",
      "[youtube] ArkszVQRMTc: Downloading webpage\n",
      "[youtube] ArkszVQRMTc: Downloading android player API JSON\n"
     ]
    },
    {
     "name": "stderr",
     "output_type": "stream",
     "text": [
      "WARNING: [youtube] ArkszVQRMTc: nsig extraction failed: You may experience throttling for some formats\n",
      "         Install PhantomJS to workaround the issue. Please download it from https://phantomjs.org/download.html\n",
      "         n = RQ5-jjRpv6zhSk ; player = https://www.youtube.com/s/player/97ea7458/player_ias.vflset/en_US/base.js\n"
     ]
    },
    {
     "name": "stdout",
     "output_type": "stream",
     "text": [
      "get random frame\n",
      "*444-445\n",
      "ArkszVQRMTc\n",
      "yt-dlp -S res:720,ext:mp4,fps:24 -c --recode mp4 --download-sections *444-445 https://www.youtube.com/watch?v=ArkszVQRMTc --output spamham_samples/ArkszVQRMTc.mp4 --retries infinite --fragment-retries infinite && ffmpeg -i spamham_samples/ArkszVQRMTc.mp4 -r 1 -vframes 1 -f image2 -q:v 1 spamham_samples/frames/ArkszVQRMTc.%03d.jpeg -y && del spamham_samples\\ArkszVQRMTc.mp4\n",
      "running donwload, extract, delete cmd...0\n",
      "add file to sources\n",
      "label frame\n",
      "|rWfHP8EKNa0|\n",
      "get vid info\n",
      "[youtube] Extracting URL: https://www.youtube.com/watch?v=rWfHP8EKNa0\n",
      "[youtube] rWfHP8EKNa0: Downloading webpage\n",
      "[youtube] rWfHP8EKNa0: Downloading android player API JSON\n"
     ]
    },
    {
     "name": "stderr",
     "output_type": "stream",
     "text": [
      "WARNING: [youtube] rWfHP8EKNa0: nsig extraction failed: You may experience throttling for some formats\n",
      "         Install PhantomJS to workaround the issue. Please download it from https://phantomjs.org/download.html\n",
      "         n = n8lrA5BwoWFnh1 ; player = https://www.youtube.com/s/player/97ea7458/player_ias.vflset/en_US/base.js\n"
     ]
    },
    {
     "name": "stdout",
     "output_type": "stream",
     "text": [
      "get random frame\n",
      "*474-475\n",
      "rWfHP8EKNa0\n",
      "yt-dlp -S res:720,ext:mp4,fps:24 -c --recode mp4 --download-sections *474-475 https://www.youtube.com/watch?v=rWfHP8EKNa0 --output spamham_samples/rWfHP8EKNa0.mp4 --retries infinite --fragment-retries infinite && ffmpeg -i spamham_samples/rWfHP8EKNa0.mp4 -r 1 -vframes 1 -f image2 -q:v 1 spamham_samples/frames/rWfHP8EKNa0.%03d.jpeg -y && del spamham_samples\\rWfHP8EKNa0.mp4\n",
      "running donwload, extract, delete cmd...0\n",
      "add file to sources\n",
      "label frame\n",
      "|B91jSvLY6UU|\n",
      "get vid info\n",
      "[youtube] Extracting URL: https://www.youtube.com/watch?v=B91jSvLY6UU\n",
      "[youtube] B91jSvLY6UU: Downloading webpage\n",
      "[youtube] B91jSvLY6UU: Downloading android player API JSON\n"
     ]
    },
    {
     "name": "stderr",
     "output_type": "stream",
     "text": [
      "WARNING: [youtube] B91jSvLY6UU: nsig extraction failed: You may experience throttling for some formats\n",
      "         Install PhantomJS to workaround the issue. Please download it from https://phantomjs.org/download.html\n",
      "         n = 0iBemMlwTwM0Jn ; player = https://www.youtube.com/s/player/97ea7458/player_ias.vflset/en_US/base.js\n"
     ]
    },
    {
     "name": "stdout",
     "output_type": "stream",
     "text": [
      "get random frame\n",
      "*1303-1304\n",
      "B91jSvLY6UU\n",
      "yt-dlp -S res:720,ext:mp4,fps:24 -c --recode mp4 --download-sections *1303-1304 https://www.youtube.com/watch?v=B91jSvLY6UU --output spamham_samples/B91jSvLY6UU.mp4 --retries infinite --fragment-retries infinite && ffmpeg -i spamham_samples/B91jSvLY6UU.mp4 -r 1 -vframes 1 -f image2 -q:v 1 spamham_samples/frames/B91jSvLY6UU.%03d.jpeg -y && del spamham_samples\\B91jSvLY6UU.mp4\n",
      "running donwload, extract, delete cmd...0\n",
      "add file to sources\n",
      "label frame\n",
      "|JULB-a1j_Sk|\n",
      "get vid info\n",
      "[youtube] Extracting URL: https://www.youtube.com/watch?v=JULB-a1j_Sk\n",
      "[youtube] JULB-a1j_Sk: Downloading webpage\n",
      "[youtube] JULB-a1j_Sk: Downloading android player API JSON\n"
     ]
    },
    {
     "name": "stderr",
     "output_type": "stream",
     "text": [
      "WARNING: [youtube] JULB-a1j_Sk: nsig extraction failed: You may experience throttling for some formats\n",
      "         Install PhantomJS to workaround the issue. Please download it from https://phantomjs.org/download.html\n",
      "         n = BMWj1rT0ATtBuy ; player = https://www.youtube.com/s/player/97ea7458/player_ias.vflset/en_US/base.js\n"
     ]
    },
    {
     "name": "stdout",
     "output_type": "stream",
     "text": [
      "get random frame\n",
      "*407-408\n",
      "JULB-a1j_Sk\n",
      "yt-dlp -S res:720,ext:mp4,fps:24 -c --recode mp4 --download-sections *407-408 https://www.youtube.com/watch?v=JULB-a1j_Sk --output spamham_samples/JULB-a1j_Sk.mp4 --retries infinite --fragment-retries infinite && ffmpeg -i spamham_samples/JULB-a1j_Sk.mp4 -r 1 -vframes 1 -f image2 -q:v 1 spamham_samples/frames/JULB-a1j_Sk.%03d.jpeg -y && del spamham_samples\\JULB-a1j_Sk.mp4\n",
      "running donwload, extract, delete cmd...0\n",
      "add file to sources\n",
      "label frame\n",
      "|fyyHgTkG71c|\n",
      "get vid info\n",
      "[youtube] Extracting URL: https://www.youtube.com/watch?v=fyyHgTkG71c\n",
      "[youtube] fyyHgTkG71c: Downloading webpage\n",
      "[youtube] fyyHgTkG71c: Downloading android player API JSON\n"
     ]
    },
    {
     "name": "stderr",
     "output_type": "stream",
     "text": [
      "WARNING: [youtube] fyyHgTkG71c: nsig extraction failed: You may experience throttling for some formats\n",
      "         Install PhantomJS to workaround the issue. Please download it from https://phantomjs.org/download.html\n",
      "         n = 78hmpa4EY5Rr-e ; player = https://www.youtube.com/s/player/97ea7458/player_ias.vflset/en_US/base.js\n"
     ]
    },
    {
     "name": "stdout",
     "output_type": "stream",
     "text": [
      "get random frame\n",
      "*266-267\n",
      "fyyHgTkG71c\n",
      "yt-dlp -S res:720,ext:mp4,fps:24 -c --recode mp4 --download-sections *266-267 https://www.youtube.com/watch?v=fyyHgTkG71c --output spamham_samples/fyyHgTkG71c.mp4 --retries infinite --fragment-retries infinite && ffmpeg -i spamham_samples/fyyHgTkG71c.mp4 -r 1 -vframes 1 -f image2 -q:v 1 spamham_samples/frames/fyyHgTkG71c.%03d.jpeg -y && del spamham_samples\\fyyHgTkG71c.mp4\n",
      "running donwload, extract, delete cmd...0\n",
      "add file to sources\n",
      "label frame\n",
      "|QLlzJAny8BM|\n",
      "get vid info\n",
      "[youtube] Extracting URL: https://www.youtube.com/watch?v=QLlzJAny8BM\n",
      "[youtube] QLlzJAny8BM: Downloading webpage\n",
      "[youtube] QLlzJAny8BM: Downloading android player API JSON\n"
     ]
    },
    {
     "name": "stderr",
     "output_type": "stream",
     "text": [
      "WARNING: [youtube] QLlzJAny8BM: nsig extraction failed: You may experience throttling for some formats\n",
      "         Install PhantomJS to workaround the issue. Please download it from https://phantomjs.org/download.html\n",
      "         n = HLlH9ChmXbrnoW ; player = https://www.youtube.com/s/player/97ea7458/player_ias.vflset/en_US/base.js\n"
     ]
    },
    {
     "name": "stdout",
     "output_type": "stream",
     "text": [
      "get random frame\n",
      "*1648-1649\n",
      "QLlzJAny8BM\n",
      "yt-dlp -S res:720,ext:mp4,fps:24 -c --recode mp4 --download-sections *1648-1649 https://www.youtube.com/watch?v=QLlzJAny8BM --output spamham_samples/QLlzJAny8BM.mp4 --retries infinite --fragment-retries infinite && ffmpeg -i spamham_samples/QLlzJAny8BM.mp4 -r 1 -vframes 1 -f image2 -q:v 1 spamham_samples/frames/QLlzJAny8BM.%03d.jpeg -y && del spamham_samples\\QLlzJAny8BM.mp4\n",
      "running donwload, extract, delete cmd...0\n",
      "add file to sources\n",
      "label frame\n",
      "|cD9MecsFC6I|\n",
      "get vid info\n",
      "[youtube] Extracting URL: https://www.youtube.com/watch?v=cD9MecsFC6I\n",
      "[youtube] cD9MecsFC6I: Downloading webpage\n",
      "[youtube] cD9MecsFC6I: Downloading android player API JSON\n"
     ]
    },
    {
     "name": "stderr",
     "output_type": "stream",
     "text": [
      "WARNING: [youtube] cD9MecsFC6I: nsig extraction failed: You may experience throttling for some formats\n",
      "         Install PhantomJS to workaround the issue. Please download it from https://phantomjs.org/download.html\n",
      "         n = nQWWD9967-y3MX ; player = https://www.youtube.com/s/player/97ea7458/player_ias.vflset/en_US/base.js\n"
     ]
    },
    {
     "name": "stdout",
     "output_type": "stream",
     "text": [
      "get random frame\n",
      "*333-334\n",
      "cD9MecsFC6I\n",
      "yt-dlp -S res:720,ext:mp4,fps:24 -c --recode mp4 --download-sections *333-334 https://www.youtube.com/watch?v=cD9MecsFC6I --output spamham_samples/cD9MecsFC6I.mp4 --retries infinite --fragment-retries infinite && ffmpeg -i spamham_samples/cD9MecsFC6I.mp4 -r 1 -vframes 1 -f image2 -q:v 1 spamham_samples/frames/cD9MecsFC6I.%03d.jpeg -y && del spamham_samples\\cD9MecsFC6I.mp4\n",
      "running donwload, extract, delete cmd...0\n",
      "add file to sources\n",
      "label frame\n",
      "|nz0C0qCaXwQ|\n",
      "get vid info\n",
      "[youtube] Extracting URL: https://www.youtube.com/watch?v=nz0C0qCaXwQ\n",
      "[youtube] nz0C0qCaXwQ: Downloading webpage\n",
      "[youtube] nz0C0qCaXwQ: Downloading android player API JSON\n"
     ]
    },
    {
     "name": "stderr",
     "output_type": "stream",
     "text": [
      "WARNING: [youtube] nz0C0qCaXwQ: nsig extraction failed: You may experience throttling for some formats\n",
      "         Install PhantomJS to workaround the issue. Please download it from https://phantomjs.org/download.html\n",
      "         n = ZSdm4C5LWlsZ6S ; player = https://www.youtube.com/s/player/97ea7458/player_ias.vflset/en_US/base.js\n"
     ]
    },
    {
     "name": "stdout",
     "output_type": "stream",
     "text": [
      "get random frame\n",
      "*846-847\n",
      "nz0C0qCaXwQ\n",
      "yt-dlp -S res:720,ext:mp4,fps:24 -c --recode mp4 --download-sections *846-847 https://www.youtube.com/watch?v=nz0C0qCaXwQ --output spamham_samples/nz0C0qCaXwQ.mp4 --retries infinite --fragment-retries infinite && ffmpeg -i spamham_samples/nz0C0qCaXwQ.mp4 -r 1 -vframes 1 -f image2 -q:v 1 spamham_samples/frames/nz0C0qCaXwQ.%03d.jpeg -y && del spamham_samples\\nz0C0qCaXwQ.mp4\n",
      "running donwload, extract, delete cmd...0\n",
      "add file to sources\n",
      "label frame\n",
      "|r00YJrb19Xo|\n",
      "get vid info\n",
      "[youtube] Extracting URL: https://www.youtube.com/watch?v=r00YJrb19Xo\n",
      "[youtube] r00YJrb19Xo: Downloading webpage\n",
      "[youtube] r00YJrb19Xo: Downloading android player API JSON\n"
     ]
    },
    {
     "name": "stderr",
     "output_type": "stream",
     "text": [
      "WARNING: [youtube] r00YJrb19Xo: nsig extraction failed: You may experience throttling for some formats\n",
      "         Install PhantomJS to workaround the issue. Please download it from https://phantomjs.org/download.html\n",
      "         n = R3ouhupKKJ6xku ; player = https://www.youtube.com/s/player/97ea7458/player_ias.vflset/en_US/base.js\n"
     ]
    },
    {
     "name": "stdout",
     "output_type": "stream",
     "text": [
      "get random frame\n",
      "*1217-1218\n",
      "r00YJrb19Xo\n",
      "yt-dlp -S res:720,ext:mp4,fps:24 -c --recode mp4 --download-sections *1217-1218 https://www.youtube.com/watch?v=r00YJrb19Xo --output spamham_samples/r00YJrb19Xo.mp4 --retries infinite --fragment-retries infinite && ffmpeg -i spamham_samples/r00YJrb19Xo.mp4 -r 1 -vframes 1 -f image2 -q:v 1 spamham_samples/frames/r00YJrb19Xo.%03d.jpeg -y && del spamham_samples\\r00YJrb19Xo.mp4\n",
      "running donwload, extract, delete cmd...0\n",
      "add file to sources\n",
      "label frame\n",
      "|9CyyjQT9HTQ|\n",
      "get vid info\n",
      "[youtube] Extracting URL: https://www.youtube.com/watch?v=9CyyjQT9HTQ\n",
      "[youtube] 9CyyjQT9HTQ: Downloading webpage\n",
      "[youtube] 9CyyjQT9HTQ: Downloading android player API JSON\n"
     ]
    },
    {
     "name": "stderr",
     "output_type": "stream",
     "text": [
      "WARNING: [youtube] 9CyyjQT9HTQ: nsig extraction failed: You may experience throttling for some formats\n",
      "         Install PhantomJS to workaround the issue. Please download it from https://phantomjs.org/download.html\n",
      "         n = eKSxX_YNTTAOdf ; player = https://www.youtube.com/s/player/97ea7458/player_ias.vflset/en_US/base.js\n"
     ]
    },
    {
     "name": "stdout",
     "output_type": "stream",
     "text": [
      "get random frame\n",
      "*1782-1783\n",
      "9CyyjQT9HTQ\n",
      "yt-dlp -S res:720,ext:mp4,fps:24 -c --recode mp4 --download-sections *1782-1783 https://www.youtube.com/watch?v=9CyyjQT9HTQ --output spamham_samples/9CyyjQT9HTQ.mp4 --retries infinite --fragment-retries infinite && ffmpeg -i spamham_samples/9CyyjQT9HTQ.mp4 -r 1 -vframes 1 -f image2 -q:v 1 spamham_samples/frames/9CyyjQT9HTQ.%03d.jpeg -y && del spamham_samples\\9CyyjQT9HTQ.mp4\n",
      "running donwload, extract, delete cmd...0\n",
      "add file to sources\n",
      "label frame\n",
      "|ZbaEJv4kFVE|\n",
      "get vid info\n",
      "[youtube] Extracting URL: https://www.youtube.com/watch?v=ZbaEJv4kFVE\n",
      "[youtube] ZbaEJv4kFVE: Downloading webpage\n",
      "[youtube] ZbaEJv4kFVE: Downloading android player API JSON\n"
     ]
    },
    {
     "name": "stderr",
     "output_type": "stream",
     "text": [
      "WARNING: [youtube] ZbaEJv4kFVE: nsig extraction failed: You may experience throttling for some formats\n",
      "         Install PhantomJS to workaround the issue. Please download it from https://phantomjs.org/download.html\n",
      "         n = WRRK62xCcrcG1u ; player = https://www.youtube.com/s/player/97ea7458/player_ias.vflset/en_US/base.js\n"
     ]
    },
    {
     "name": "stdout",
     "output_type": "stream",
     "text": [
      "get random frame\n",
      "*255-256\n",
      "ZbaEJv4kFVE\n",
      "yt-dlp -S res:720,ext:mp4,fps:24 -c --recode mp4 --download-sections *255-256 https://www.youtube.com/watch?v=ZbaEJv4kFVE --output spamham_samples/ZbaEJv4kFVE.mp4 --retries infinite --fragment-retries infinite && ffmpeg -i spamham_samples/ZbaEJv4kFVE.mp4 -r 1 -vframes 1 -f image2 -q:v 1 spamham_samples/frames/ZbaEJv4kFVE.%03d.jpeg -y && del spamham_samples\\ZbaEJv4kFVE.mp4\n",
      "running donwload, extract, delete cmd...0\n",
      "add file to sources\n",
      "label frame\n",
      "|F3fVCCoADgY|\n",
      "get vid info\n",
      "[youtube] Extracting URL: https://www.youtube.com/watch?v=F3fVCCoADgY\n",
      "[youtube] F3fVCCoADgY: Downloading webpage\n",
      "[youtube] F3fVCCoADgY: Downloading android player API JSON\n"
     ]
    },
    {
     "name": "stderr",
     "output_type": "stream",
     "text": [
      "WARNING: [youtube] F3fVCCoADgY: nsig extraction failed: You may experience throttling for some formats\n",
      "         Install PhantomJS to workaround the issue. Please download it from https://phantomjs.org/download.html\n",
      "         n = Cj0aj5yccYCCVb ; player = https://www.youtube.com/s/player/97ea7458/player_ias.vflset/en_US/base.js\n"
     ]
    },
    {
     "name": "stdout",
     "output_type": "stream",
     "text": [
      "get random frame\n",
      "*116-117\n",
      "F3fVCCoADgY\n",
      "yt-dlp -S res:720,ext:mp4,fps:24 -c --recode mp4 --download-sections *116-117 https://www.youtube.com/watch?v=F3fVCCoADgY --output spamham_samples/F3fVCCoADgY.mp4 --retries infinite --fragment-retries infinite && ffmpeg -i spamham_samples/F3fVCCoADgY.mp4 -r 1 -vframes 1 -f image2 -q:v 1 spamham_samples/frames/F3fVCCoADgY.%03d.jpeg -y && del spamham_samples\\F3fVCCoADgY.mp4\n",
      "running donwload, extract, delete cmd...0\n",
      "add file to sources\n",
      "label frame\n",
      "|CFzLcsWcSQo|\n",
      "get vid info\n",
      "[youtube] Extracting URL: https://www.youtube.com/watch?v=CFzLcsWcSQo\n",
      "[youtube] CFzLcsWcSQo: Downloading webpage\n",
      "[youtube] CFzLcsWcSQo: Downloading android player API JSON\n"
     ]
    },
    {
     "name": "stderr",
     "output_type": "stream",
     "text": [
      "WARNING: [youtube] CFzLcsWcSQo: nsig extraction failed: You may experience throttling for some formats\n",
      "         Install PhantomJS to workaround the issue. Please download it from https://phantomjs.org/download.html\n",
      "         n = sbYU4ERF5wh8-6 ; player = https://www.youtube.com/s/player/97ea7458/player_ias.vflset/en_US/base.js\n"
     ]
    },
    {
     "name": "stdout",
     "output_type": "stream",
     "text": [
      "get random frame\n",
      "*220-221\n",
      "CFzLcsWcSQo\n",
      "yt-dlp -S res:720,ext:mp4,fps:24 -c --recode mp4 --download-sections *220-221 https://www.youtube.com/watch?v=CFzLcsWcSQo --output spamham_samples/CFzLcsWcSQo.mp4 --retries infinite --fragment-retries infinite && ffmpeg -i spamham_samples/CFzLcsWcSQo.mp4 -r 1 -vframes 1 -f image2 -q:v 1 spamham_samples/frames/CFzLcsWcSQo.%03d.jpeg -y && del spamham_samples\\CFzLcsWcSQo.mp4\n",
      "running donwload, extract, delete cmd...0\n",
      "add file to sources\n",
      "label frame\n",
      "|ezQeyUOfIS8|\n",
      "get vid info\n",
      "[youtube] Extracting URL: https://www.youtube.com/watch?v=ezQeyUOfIS8\n",
      "[youtube] ezQeyUOfIS8: Downloading webpage\n",
      "[youtube] ezQeyUOfIS8: Downloading android player API JSON\n"
     ]
    },
    {
     "name": "stderr",
     "output_type": "stream",
     "text": [
      "WARNING: [youtube] ezQeyUOfIS8: nsig extraction failed: You may experience throttling for some formats\n",
      "         Install PhantomJS to workaround the issue. Please download it from https://phantomjs.org/download.html\n",
      "         n = VapVKaemXPllWd ; player = https://www.youtube.com/s/player/97ea7458/player_ias.vflset/en_US/base.js\n"
     ]
    },
    {
     "name": "stdout",
     "output_type": "stream",
     "text": [
      "get random frame\n",
      "*1457-1458\n",
      "ezQeyUOfIS8\n",
      "yt-dlp -S res:720,ext:mp4,fps:24 -c --recode mp4 --download-sections *1457-1458 https://www.youtube.com/watch?v=ezQeyUOfIS8 --output spamham_samples/ezQeyUOfIS8.mp4 --retries infinite --fragment-retries infinite && ffmpeg -i spamham_samples/ezQeyUOfIS8.mp4 -r 1 -vframes 1 -f image2 -q:v 1 spamham_samples/frames/ezQeyUOfIS8.%03d.jpeg -y && del spamham_samples\\ezQeyUOfIS8.mp4\n",
      "running donwload, extract, delete cmd...0\n",
      "add file to sources\n",
      "label frame\n",
      "|Pmhv8165w5k|\n",
      "get vid info\n",
      "[youtube] Extracting URL: https://www.youtube.com/watch?v=Pmhv8165w5k\n",
      "[youtube] Pmhv8165w5k: Downloading webpage\n",
      "[youtube] Pmhv8165w5k: Downloading android player API JSON\n"
     ]
    },
    {
     "name": "stderr",
     "output_type": "stream",
     "text": [
      "WARNING: [youtube] Pmhv8165w5k: nsig extraction failed: You may experience throttling for some formats\n",
      "         Install PhantomJS to workaround the issue. Please download it from https://phantomjs.org/download.html\n",
      "         n = 24zZ7lpK7Gt2mt ; player = https://www.youtube.com/s/player/97ea7458/player_ias.vflset/en_US/base.js\n"
     ]
    },
    {
     "name": "stdout",
     "output_type": "stream",
     "text": [
      "get random frame\n",
      "*887-888\n",
      "Pmhv8165w5k\n",
      "yt-dlp -S res:720,ext:mp4,fps:24 -c --recode mp4 --download-sections *887-888 https://www.youtube.com/watch?v=Pmhv8165w5k --output spamham_samples/Pmhv8165w5k.mp4 --retries infinite --fragment-retries infinite && ffmpeg -i spamham_samples/Pmhv8165w5k.mp4 -r 1 -vframes 1 -f image2 -q:v 1 spamham_samples/frames/Pmhv8165w5k.%03d.jpeg -y && del spamham_samples\\Pmhv8165w5k.mp4\n",
      "running donwload, extract, delete cmd...0\n",
      "add file to sources\n",
      "label frame\n",
      "|ya_iAp3Du5Y|\n",
      "get vid info\n",
      "[youtube] Extracting URL: https://www.youtube.com/watch?v=ya_iAp3Du5Y\n",
      "[youtube] ya_iAp3Du5Y: Downloading webpage\n",
      "[youtube] ya_iAp3Du5Y: Downloading android player API JSON\n"
     ]
    },
    {
     "name": "stderr",
     "output_type": "stream",
     "text": [
      "WARNING: [youtube] ya_iAp3Du5Y: nsig extraction failed: You may experience throttling for some formats\n",
      "         Install PhantomJS to workaround the issue. Please download it from https://phantomjs.org/download.html\n",
      "         n = UZpT5KyfmDfkmz ; player = https://www.youtube.com/s/player/97ea7458/player_ias.vflset/en_US/base.js\n"
     ]
    },
    {
     "name": "stdout",
     "output_type": "stream",
     "text": [
      "get random frame\n",
      "*472-473\n",
      "ya_iAp3Du5Y\n",
      "yt-dlp -S res:720,ext:mp4,fps:24 -c --recode mp4 --download-sections *472-473 https://www.youtube.com/watch?v=ya_iAp3Du5Y --output spamham_samples/ya_iAp3Du5Y.mp4 --retries infinite --fragment-retries infinite && ffmpeg -i spamham_samples/ya_iAp3Du5Y.mp4 -r 1 -vframes 1 -f image2 -q:v 1 spamham_samples/frames/ya_iAp3Du5Y.%03d.jpeg -y && del spamham_samples\\ya_iAp3Du5Y.mp4\n",
      "running donwload, extract, delete cmd...0\n",
      "add file to sources\n",
      "label frame\n",
      "|MVZUTfOUcFY|\n",
      "get vid info\n",
      "[youtube] Extracting URL: https://www.youtube.com/watch?v=MVZUTfOUcFY\n",
      "[youtube] MVZUTfOUcFY: Downloading webpage\n",
      "[youtube] MVZUTfOUcFY: Downloading android player API JSON\n"
     ]
    },
    {
     "name": "stderr",
     "output_type": "stream",
     "text": [
      "WARNING: [youtube] MVZUTfOUcFY: nsig extraction failed: You may experience throttling for some formats\n",
      "         Install PhantomJS to workaround the issue. Please download it from https://phantomjs.org/download.html\n",
      "         n = l3oBRCJpnWwl8X ; player = https://www.youtube.com/s/player/97ea7458/player_ias.vflset/en_US/base.js\n"
     ]
    },
    {
     "name": "stdout",
     "output_type": "stream",
     "text": [
      "get random frame\n",
      "*1371-1372\n",
      "MVZUTfOUcFY\n",
      "yt-dlp -S res:720,ext:mp4,fps:24 -c --recode mp4 --download-sections *1371-1372 https://www.youtube.com/watch?v=MVZUTfOUcFY --output spamham_samples/MVZUTfOUcFY.mp4 --retries infinite --fragment-retries infinite && ffmpeg -i spamham_samples/MVZUTfOUcFY.mp4 -r 1 -vframes 1 -f image2 -q:v 1 spamham_samples/frames/MVZUTfOUcFY.%03d.jpeg -y && del spamham_samples\\MVZUTfOUcFY.mp4\n",
      "running donwload, extract, delete cmd...0\n",
      "add file to sources\n",
      "label frame\n",
      "|3DUeHgE1Uww|\n",
      "get vid info\n",
      "[youtube] Extracting URL: https://www.youtube.com/watch?v=3DUeHgE1Uww\n",
      "[youtube] 3DUeHgE1Uww: Downloading webpage\n",
      "[youtube] 3DUeHgE1Uww: Downloading android player API JSON\n"
     ]
    },
    {
     "name": "stderr",
     "output_type": "stream",
     "text": [
      "WARNING: [youtube] 3DUeHgE1Uww: nsig extraction failed: You may experience throttling for some formats\n",
      "         Install PhantomJS to workaround the issue. Please download it from https://phantomjs.org/download.html\n",
      "         n = 3xbKJOSClYrnq3 ; player = https://www.youtube.com/s/player/97ea7458/player_ias.vflset/en_US/base.js\n"
     ]
    },
    {
     "name": "stdout",
     "output_type": "stream",
     "text": [
      "get random frame\n",
      "*1055-1056\n",
      "3DUeHgE1Uww\n",
      "yt-dlp -S res:720,ext:mp4,fps:24 -c --recode mp4 --download-sections *1055-1056 https://www.youtube.com/watch?v=3DUeHgE1Uww --output spamham_samples/3DUeHgE1Uww.mp4 --retries infinite --fragment-retries infinite && ffmpeg -i spamham_samples/3DUeHgE1Uww.mp4 -r 1 -vframes 1 -f image2 -q:v 1 spamham_samples/frames/3DUeHgE1Uww.%03d.jpeg -y && del spamham_samples\\3DUeHgE1Uww.mp4\n",
      "running donwload, extract, delete cmd...0\n",
      "add file to sources\n",
      "label frame\n",
      "|90NjwW8kuL8|\n",
      "get vid info\n",
      "[youtube] Extracting URL: https://www.youtube.com/watch?v=90NjwW8kuL8\n",
      "[youtube] 90NjwW8kuL8: Downloading webpage\n",
      "[youtube] 90NjwW8kuL8: Downloading android player API JSON\n"
     ]
    },
    {
     "name": "stderr",
     "output_type": "stream",
     "text": [
      "WARNING: [youtube] 90NjwW8kuL8: nsig extraction failed: You may experience throttling for some formats\n",
      "         Install PhantomJS to workaround the issue. Please download it from https://phantomjs.org/download.html\n",
      "         n = yZaISdP4qGnSmc ; player = https://www.youtube.com/s/player/97ea7458/player_ias.vflset/en_US/base.js\n"
     ]
    },
    {
     "name": "stdout",
     "output_type": "stream",
     "text": [
      "get random frame\n",
      "*637-638\n",
      "90NjwW8kuL8\n",
      "yt-dlp -S res:720,ext:mp4,fps:24 -c --recode mp4 --download-sections *637-638 https://www.youtube.com/watch?v=90NjwW8kuL8 --output spamham_samples/90NjwW8kuL8.mp4 --retries infinite --fragment-retries infinite && ffmpeg -i spamham_samples/90NjwW8kuL8.mp4 -r 1 -vframes 1 -f image2 -q:v 1 spamham_samples/frames/90NjwW8kuL8.%03d.jpeg -y && del spamham_samples\\90NjwW8kuL8.mp4\n",
      "running donwload, extract, delete cmd...0\n",
      "add file to sources\n",
      "label frame\n",
      "|4MvNIcaAcIc|\n",
      "get vid info\n",
      "[youtube] Extracting URL: https://www.youtube.com/watch?v=4MvNIcaAcIc\n",
      "[youtube] 4MvNIcaAcIc: Downloading webpage\n",
      "[youtube] 4MvNIcaAcIc: Downloading android player API JSON\n"
     ]
    },
    {
     "name": "stderr",
     "output_type": "stream",
     "text": [
      "WARNING: [youtube] 4MvNIcaAcIc: nsig extraction failed: You may experience throttling for some formats\n",
      "         Install PhantomJS to workaround the issue. Please download it from https://phantomjs.org/download.html\n",
      "         n = dGILsGW3MK59hH ; player = https://www.youtube.com/s/player/97ea7458/player_ias.vflset/en_US/base.js\n"
     ]
    },
    {
     "name": "stdout",
     "output_type": "stream",
     "text": [
      "get random frame\n",
      "*911-912\n",
      "4MvNIcaAcIc\n",
      "yt-dlp -S res:720,ext:mp4,fps:24 -c --recode mp4 --download-sections *911-912 https://www.youtube.com/watch?v=4MvNIcaAcIc --output spamham_samples/4MvNIcaAcIc.mp4 --retries infinite --fragment-retries infinite && ffmpeg -i spamham_samples/4MvNIcaAcIc.mp4 -r 1 -vframes 1 -f image2 -q:v 1 spamham_samples/frames/4MvNIcaAcIc.%03d.jpeg -y && del spamham_samples\\4MvNIcaAcIc.mp4\n",
      "running donwload, extract, delete cmd...0\n",
      "add file to sources\n",
      "label frame\n",
      "|ktg8DvQ1eUI|\n",
      "get vid info\n",
      "[youtube] Extracting URL: https://www.youtube.com/watch?v=ktg8DvQ1eUI\n",
      "[youtube] ktg8DvQ1eUI: Downloading webpage\n",
      "[youtube] ktg8DvQ1eUI: Downloading android player API JSON\n"
     ]
    },
    {
     "name": "stderr",
     "output_type": "stream",
     "text": [
      "WARNING: [youtube] ktg8DvQ1eUI: nsig extraction failed: You may experience throttling for some formats\n",
      "         Install PhantomJS to workaround the issue. Please download it from https://phantomjs.org/download.html\n",
      "         n = iUCk8BNDBD3CV3 ; player = https://www.youtube.com/s/player/97ea7458/player_ias.vflset/en_US/base.js\n"
     ]
    },
    {
     "name": "stdout",
     "output_type": "stream",
     "text": [
      "get random frame\n",
      "*583-584\n",
      "ktg8DvQ1eUI\n",
      "yt-dlp -S res:720,ext:mp4,fps:24 -c --recode mp4 --download-sections *583-584 https://www.youtube.com/watch?v=ktg8DvQ1eUI --output spamham_samples/ktg8DvQ1eUI.mp4 --retries infinite --fragment-retries infinite && ffmpeg -i spamham_samples/ktg8DvQ1eUI.mp4 -r 1 -vframes 1 -f image2 -q:v 1 spamham_samples/frames/ktg8DvQ1eUI.%03d.jpeg -y && del spamham_samples\\ktg8DvQ1eUI.mp4\n",
      "running donwload, extract, delete cmd...0\n",
      "add file to sources\n",
      "label frame\n",
      "|ijtT8nQu8io|\n",
      "get vid info\n",
      "[youtube] Extracting URL: https://www.youtube.com/watch?v=ijtT8nQu8io\n",
      "[youtube] ijtT8nQu8io: Downloading webpage\n",
      "[youtube] ijtT8nQu8io: Downloading android player API JSON\n"
     ]
    },
    {
     "name": "stderr",
     "output_type": "stream",
     "text": [
      "WARNING: [youtube] ijtT8nQu8io: nsig extraction failed: You may experience throttling for some formats\n",
      "         Install PhantomJS to workaround the issue. Please download it from https://phantomjs.org/download.html\n",
      "         n = fAJQCAmsonMPPP ; player = https://www.youtube.com/s/player/97ea7458/player_ias.vflset/en_US/base.js\n"
     ]
    },
    {
     "name": "stdout",
     "output_type": "stream",
     "text": [
      "get random frame\n",
      "*524-525\n",
      "ijtT8nQu8io\n",
      "yt-dlp -S res:720,ext:mp4,fps:24 -c --recode mp4 --download-sections *524-525 https://www.youtube.com/watch?v=ijtT8nQu8io --output spamham_samples/ijtT8nQu8io.mp4 --retries infinite --fragment-retries infinite && ffmpeg -i spamham_samples/ijtT8nQu8io.mp4 -r 1 -vframes 1 -f image2 -q:v 1 spamham_samples/frames/ijtT8nQu8io.%03d.jpeg -y && del spamham_samples\\ijtT8nQu8io.mp4\n",
      "running donwload, extract, delete cmd...0\n",
      "add file to sources\n",
      "label frame\n",
      "|KuC0wuNrBXU|\n",
      "get vid info\n",
      "[youtube] Extracting URL: https://www.youtube.com/watch?v=KuC0wuNrBXU\n",
      "[youtube] KuC0wuNrBXU: Downloading webpage\n",
      "[youtube] KuC0wuNrBXU: Downloading android player API JSON\n"
     ]
    },
    {
     "name": "stderr",
     "output_type": "stream",
     "text": [
      "WARNING: [youtube] KuC0wuNrBXU: nsig extraction failed: You may experience throttling for some formats\n",
      "         Install PhantomJS to workaround the issue. Please download it from https://phantomjs.org/download.html\n",
      "         n = 3dwwKsOUOxgXf7 ; player = https://www.youtube.com/s/player/97ea7458/player_ias.vflset/en_US/base.js\n"
     ]
    },
    {
     "name": "stdout",
     "output_type": "stream",
     "text": [
      "get random frame\n",
      "*280-281\n",
      "KuC0wuNrBXU\n",
      "yt-dlp -S res:720,ext:mp4,fps:24 -c --recode mp4 --download-sections *280-281 https://www.youtube.com/watch?v=KuC0wuNrBXU --output spamham_samples/KuC0wuNrBXU.mp4 --retries infinite --fragment-retries infinite && ffmpeg -i spamham_samples/KuC0wuNrBXU.mp4 -r 1 -vframes 1 -f image2 -q:v 1 spamham_samples/frames/KuC0wuNrBXU.%03d.jpeg -y && del spamham_samples\\KuC0wuNrBXU.mp4\n",
      "running donwload, extract, delete cmd...0\n",
      "add file to sources\n",
      "label frame\n",
      "|GNRKHG72lMI|\n",
      "get vid info\n",
      "[youtube] Extracting URL: https://www.youtube.com/watch?v=GNRKHG72lMI\n",
      "[youtube] GNRKHG72lMI: Downloading webpage\n",
      "[youtube] GNRKHG72lMI: Downloading android player API JSON\n"
     ]
    },
    {
     "name": "stderr",
     "output_type": "stream",
     "text": [
      "WARNING: [youtube] GNRKHG72lMI: nsig extraction failed: You may experience throttling for some formats\n",
      "         Install PhantomJS to workaround the issue. Please download it from https://phantomjs.org/download.html\n",
      "         n = ysz47xiCkSkCRc ; player = https://www.youtube.com/s/player/97ea7458/player_ias.vflset/en_US/base.js\n"
     ]
    },
    {
     "name": "stdout",
     "output_type": "stream",
     "text": [
      "get random frame\n",
      "*289-290\n",
      "GNRKHG72lMI\n",
      "yt-dlp -S res:720,ext:mp4,fps:24 -c --recode mp4 --download-sections *289-290 https://www.youtube.com/watch?v=GNRKHG72lMI --output spamham_samples/GNRKHG72lMI.mp4 --retries infinite --fragment-retries infinite && ffmpeg -i spamham_samples/GNRKHG72lMI.mp4 -r 1 -vframes 1 -f image2 -q:v 1 spamham_samples/frames/GNRKHG72lMI.%03d.jpeg -y && del spamham_samples\\GNRKHG72lMI.mp4\n",
      "running donwload, extract, delete cmd...0\n",
      "add file to sources\n",
      "label frame\n",
      "|wx3C9k6Ln9M|\n",
      "get vid info\n",
      "[youtube] Extracting URL: https://www.youtube.com/watch?v=wx3C9k6Ln9M\n",
      "[youtube] wx3C9k6Ln9M: Downloading webpage\n",
      "[youtube] wx3C9k6Ln9M: Downloading android player API JSON\n"
     ]
    },
    {
     "name": "stderr",
     "output_type": "stream",
     "text": [
      "WARNING: [youtube] wx3C9k6Ln9M: nsig extraction failed: You may experience throttling for some formats\n",
      "         Install PhantomJS to workaround the issue. Please download it from https://phantomjs.org/download.html\n",
      "         n = ix0NEsLI68SSJd ; player = https://www.youtube.com/s/player/97ea7458/player_ias.vflset/en_US/base.js\n"
     ]
    },
    {
     "name": "stdout",
     "output_type": "stream",
     "text": [
      "get random frame\n",
      "*62-63\n",
      "wx3C9k6Ln9M\n",
      "yt-dlp -S res:720,ext:mp4,fps:24 -c --recode mp4 --download-sections *62-63 https://www.youtube.com/watch?v=wx3C9k6Ln9M --output spamham_samples/wx3C9k6Ln9M.mp4 --retries infinite --fragment-retries infinite && ffmpeg -i spamham_samples/wx3C9k6Ln9M.mp4 -r 1 -vframes 1 -f image2 -q:v 1 spamham_samples/frames/wx3C9k6Ln9M.%03d.jpeg -y && del spamham_samples\\wx3C9k6Ln9M.mp4\n",
      "running donwload, extract, delete cmd...0\n",
      "add file to sources\n",
      "label frame\n",
      "|IFOOAXeBDvc|\n",
      "get vid info\n",
      "[youtube] Extracting URL: https://www.youtube.com/watch?v=IFOOAXeBDvc\n",
      "[youtube] IFOOAXeBDvc: Downloading webpage\n",
      "[youtube] IFOOAXeBDvc: Downloading android player API JSON\n"
     ]
    },
    {
     "name": "stderr",
     "output_type": "stream",
     "text": [
      "WARNING: [youtube] IFOOAXeBDvc: nsig extraction failed: You may experience throttling for some formats\n",
      "         Install PhantomJS to workaround the issue. Please download it from https://phantomjs.org/download.html\n",
      "         n = FjZpq7gWY_0l1E ; player = https://www.youtube.com/s/player/97ea7458/player_ias.vflset/en_US/base.js\n"
     ]
    },
    {
     "name": "stdout",
     "output_type": "stream",
     "text": [
      "get random frame\n",
      "*955-956\n",
      "IFOOAXeBDvc\n",
      "yt-dlp -S res:720,ext:mp4,fps:24 -c --recode mp4 --download-sections *955-956 https://www.youtube.com/watch?v=IFOOAXeBDvc --output spamham_samples/IFOOAXeBDvc.mp4 --retries infinite --fragment-retries infinite && ffmpeg -i spamham_samples/IFOOAXeBDvc.mp4 -r 1 -vframes 1 -f image2 -q:v 1 spamham_samples/frames/IFOOAXeBDvc.%03d.jpeg -y && del spamham_samples\\IFOOAXeBDvc.mp4\n",
      "running donwload, extract, delete cmd...0\n",
      "add file to sources\n",
      "label frame\n",
      "|p2cWB9TAYL4|\n",
      "get vid info\n",
      "[youtube] Extracting URL: https://www.youtube.com/watch?v=p2cWB9TAYL4\n",
      "[youtube] p2cWB9TAYL4: Downloading webpage\n",
      "[youtube] p2cWB9TAYL4: Downloading android player API JSON\n"
     ]
    },
    {
     "name": "stderr",
     "output_type": "stream",
     "text": [
      "WARNING: [youtube] p2cWB9TAYL4: nsig extraction failed: You may experience throttling for some formats\n",
      "         Install PhantomJS to workaround the issue. Please download it from https://phantomjs.org/download.html\n",
      "         n = gw7AtMyreMlAec ; player = https://www.youtube.com/s/player/97ea7458/player_ias.vflset/en_US/base.js\n"
     ]
    },
    {
     "name": "stdout",
     "output_type": "stream",
     "text": [
      "get random frame\n",
      "*1048-1049\n",
      "p2cWB9TAYL4\n",
      "yt-dlp -S res:720,ext:mp4,fps:24 -c --recode mp4 --download-sections *1048-1049 https://www.youtube.com/watch?v=p2cWB9TAYL4 --output spamham_samples/p2cWB9TAYL4.mp4 --retries infinite --fragment-retries infinite && ffmpeg -i spamham_samples/p2cWB9TAYL4.mp4 -r 1 -vframes 1 -f image2 -q:v 1 spamham_samples/frames/p2cWB9TAYL4.%03d.jpeg -y && del spamham_samples\\p2cWB9TAYL4.mp4\n",
      "running donwload, extract, delete cmd...0\n",
      "add file to sources\n",
      "label frame\n",
      "|2FMq6Hlg3Dk|\n",
      "get vid info\n",
      "[youtube] Extracting URL: https://www.youtube.com/watch?v=2FMq6Hlg3Dk\n",
      "[youtube] 2FMq6Hlg3Dk: Downloading webpage\n",
      "[youtube] 2FMq6Hlg3Dk: Downloading android player API JSON\n"
     ]
    },
    {
     "name": "stderr",
     "output_type": "stream",
     "text": [
      "WARNING: [youtube] 2FMq6Hlg3Dk: nsig extraction failed: You may experience throttling for some formats\n",
      "         Install PhantomJS to workaround the issue. Please download it from https://phantomjs.org/download.html\n",
      "         n = llrxtYpBQdql0F ; player = https://www.youtube.com/s/player/97ea7458/player_ias.vflset/en_US/base.js\n"
     ]
    },
    {
     "name": "stdout",
     "output_type": "stream",
     "text": [
      "get random frame\n",
      "*839-840\n",
      "2FMq6Hlg3Dk\n",
      "yt-dlp -S res:720,ext:mp4,fps:24 -c --recode mp4 --download-sections *839-840 https://www.youtube.com/watch?v=2FMq6Hlg3Dk --output spamham_samples/2FMq6Hlg3Dk.mp4 --retries infinite --fragment-retries infinite && ffmpeg -i spamham_samples/2FMq6Hlg3Dk.mp4 -r 1 -vframes 1 -f image2 -q:v 1 spamham_samples/frames/2FMq6Hlg3Dk.%03d.jpeg -y && del spamham_samples\\2FMq6Hlg3Dk.mp4\n",
      "running donwload, extract, delete cmd...0\n",
      "add file to sources\n",
      "label frame\n",
      "|FQQFg3soqfU|\n",
      "get vid info\n",
      "[youtube] Extracting URL: https://www.youtube.com/watch?v=FQQFg3soqfU\n",
      "[youtube] FQQFg3soqfU: Downloading webpage\n",
      "[youtube] FQQFg3soqfU: Downloading android player API JSON\n"
     ]
    },
    {
     "name": "stderr",
     "output_type": "stream",
     "text": [
      "WARNING: [youtube] FQQFg3soqfU: nsig extraction failed: You may experience throttling for some formats\n",
      "         Install PhantomJS to workaround the issue. Please download it from https://phantomjs.org/download.html\n",
      "         n = w1rul18keasw0I ; player = https://www.youtube.com/s/player/97ea7458/player_ias.vflset/en_US/base.js\n"
     ]
    },
    {
     "name": "stdout",
     "output_type": "stream",
     "text": [
      "get random frame\n",
      "*886-887\n",
      "FQQFg3soqfU\n",
      "yt-dlp -S res:720,ext:mp4,fps:24 -c --recode mp4 --download-sections *886-887 https://www.youtube.com/watch?v=FQQFg3soqfU --output spamham_samples/FQQFg3soqfU.mp4 --retries infinite --fragment-retries infinite && ffmpeg -i spamham_samples/FQQFg3soqfU.mp4 -r 1 -vframes 1 -f image2 -q:v 1 spamham_samples/frames/FQQFg3soqfU.%03d.jpeg -y && del spamham_samples\\FQQFg3soqfU.mp4\n",
      "running donwload, extract, delete cmd...0\n",
      "add file to sources\n",
      "label frame\n",
      "|xKX_nH_NVOQ|\n",
      "get vid info\n",
      "[youtube] Extracting URL: https://www.youtube.com/watch?v=xKX_nH_NVOQ\n",
      "[youtube] xKX_nH_NVOQ: Downloading webpage\n",
      "[youtube] xKX_nH_NVOQ: Downloading android player API JSON\n"
     ]
    },
    {
     "name": "stderr",
     "output_type": "stream",
     "text": [
      "WARNING: [youtube] xKX_nH_NVOQ: nsig extraction failed: You may experience throttling for some formats\n",
      "         Install PhantomJS to workaround the issue. Please download it from https://phantomjs.org/download.html\n",
      "         n = oUnYhEp_W-LYwY ; player = https://www.youtube.com/s/player/97ea7458/player_ias.vflset/en_US/base.js\n"
     ]
    },
    {
     "name": "stdout",
     "output_type": "stream",
     "text": [
      "get random frame\n",
      "*1022-1023\n",
      "xKX_nH_NVOQ\n",
      "yt-dlp -S res:720,ext:mp4,fps:24 -c --recode mp4 --download-sections *1022-1023 https://www.youtube.com/watch?v=xKX_nH_NVOQ --output spamham_samples/xKX_nH_NVOQ.mp4 --retries infinite --fragment-retries infinite && ffmpeg -i spamham_samples/xKX_nH_NVOQ.mp4 -r 1 -vframes 1 -f image2 -q:v 1 spamham_samples/frames/xKX_nH_NVOQ.%03d.jpeg -y && del spamham_samples\\xKX_nH_NVOQ.mp4\n",
      "running donwload, extract, delete cmd...0\n",
      "add file to sources\n",
      "label frame\n",
      "|ycHP03VGHlA|\n",
      "get vid info\n",
      "[youtube] Extracting URL: https://www.youtube.com/watch?v=ycHP03VGHlA\n",
      "[youtube] ycHP03VGHlA: Downloading webpage\n",
      "[youtube] ycHP03VGHlA: Downloading android player API JSON\n"
     ]
    },
    {
     "name": "stderr",
     "output_type": "stream",
     "text": [
      "WARNING: [youtube] ycHP03VGHlA: nsig extraction failed: You may experience throttling for some formats\n",
      "         Install PhantomJS to workaround the issue. Please download it from https://phantomjs.org/download.html\n",
      "         n = rh2hYQmvHXhLKv ; player = https://www.youtube.com/s/player/97ea7458/player_ias.vflset/en_US/base.js\n"
     ]
    },
    {
     "name": "stdout",
     "output_type": "stream",
     "text": [
      "get random frame\n",
      "*1295-1296\n",
      "ycHP03VGHlA\n",
      "yt-dlp -S res:720,ext:mp4,fps:24 -c --recode mp4 --download-sections *1295-1296 https://www.youtube.com/watch?v=ycHP03VGHlA --output spamham_samples/ycHP03VGHlA.mp4 --retries infinite --fragment-retries infinite && ffmpeg -i spamham_samples/ycHP03VGHlA.mp4 -r 1 -vframes 1 -f image2 -q:v 1 spamham_samples/frames/ycHP03VGHlA.%03d.jpeg -y && del spamham_samples\\ycHP03VGHlA.mp4\n",
      "running donwload, extract, delete cmd...0\n",
      "add file to sources\n",
      "label frame\n",
      "|ecsOk0SK704|\n",
      "get vid info\n",
      "[youtube] Extracting URL: https://www.youtube.com/watch?v=ecsOk0SK704\n",
      "[youtube] ecsOk0SK704: Downloading webpage\n",
      "[youtube] ecsOk0SK704: Downloading android player API JSON\n"
     ]
    },
    {
     "name": "stderr",
     "output_type": "stream",
     "text": [
      "WARNING: [youtube] ecsOk0SK704: nsig extraction failed: You may experience throttling for some formats\n",
      "         Install PhantomJS to workaround the issue. Please download it from https://phantomjs.org/download.html\n",
      "         n = f8VS2UDoM-X_2d ; player = https://www.youtube.com/s/player/97ea7458/player_ias.vflset/en_US/base.js\n"
     ]
    },
    {
     "name": "stdout",
     "output_type": "stream",
     "text": [
      "get random frame\n",
      "*219-220\n",
      "ecsOk0SK704\n",
      "yt-dlp -S res:720,ext:mp4,fps:24 -c --recode mp4 --download-sections *219-220 https://www.youtube.com/watch?v=ecsOk0SK704 --output spamham_samples/ecsOk0SK704.mp4 --retries infinite --fragment-retries infinite && ffmpeg -i spamham_samples/ecsOk0SK704.mp4 -r 1 -vframes 1 -f image2 -q:v 1 spamham_samples/frames/ecsOk0SK704.%03d.jpeg -y && del spamham_samples\\ecsOk0SK704.mp4\n",
      "running donwload, extract, delete cmd...0\n",
      "add file to sources\n",
      "label frame\n",
      "|euh8QvtRvsw|\n",
      "get vid info\n",
      "[youtube] Extracting URL: https://www.youtube.com/watch?v=euh8QvtRvsw\n",
      "[youtube] euh8QvtRvsw: Downloading webpage\n",
      "[youtube] euh8QvtRvsw: Downloading android player API JSON\n"
     ]
    },
    {
     "name": "stderr",
     "output_type": "stream",
     "text": [
      "WARNING: [youtube] euh8QvtRvsw: nsig extraction failed: You may experience throttling for some formats\n",
      "         Install PhantomJS to workaround the issue. Please download it from https://phantomjs.org/download.html\n",
      "         n = 3U7g2ZRoQbsns4 ; player = https://www.youtube.com/s/player/97ea7458/player_ias.vflset/en_US/base.js\n"
     ]
    },
    {
     "name": "stdout",
     "output_type": "stream",
     "text": [
      "get random frame\n",
      "*2422-2423\n",
      "euh8QvtRvsw\n",
      "yt-dlp -S res:720,ext:mp4,fps:24 -c --recode mp4 --download-sections *2422-2423 https://www.youtube.com/watch?v=euh8QvtRvsw --output spamham_samples/euh8QvtRvsw.mp4 --retries infinite --fragment-retries infinite && ffmpeg -i spamham_samples/euh8QvtRvsw.mp4 -r 1 -vframes 1 -f image2 -q:v 1 spamham_samples/frames/euh8QvtRvsw.%03d.jpeg -y && del spamham_samples\\euh8QvtRvsw.mp4\n",
      "running donwload, extract, delete cmd...0\n",
      "add file to sources\n",
      "label frame\n",
      "|hq0ul9RDpWw|\n",
      "get vid info\n",
      "[youtube] Extracting URL: https://www.youtube.com/watch?v=hq0ul9RDpWw\n",
      "[youtube] hq0ul9RDpWw: Downloading webpage\n",
      "[youtube] hq0ul9RDpWw: Downloading android player API JSON\n"
     ]
    },
    {
     "name": "stderr",
     "output_type": "stream",
     "text": [
      "WARNING: [youtube] hq0ul9RDpWw: nsig extraction failed: You may experience throttling for some formats\n",
      "         Install PhantomJS to workaround the issue. Please download it from https://phantomjs.org/download.html\n",
      "         n = S9K3iwWkIfYiWv ; player = https://www.youtube.com/s/player/97ea7458/player_ias.vflset/en_US/base.js\n"
     ]
    },
    {
     "name": "stdout",
     "output_type": "stream",
     "text": [
      "get random frame\n",
      "*280-281\n",
      "hq0ul9RDpWw\n",
      "yt-dlp -S res:720,ext:mp4,fps:24 -c --recode mp4 --download-sections *280-281 https://www.youtube.com/watch?v=hq0ul9RDpWw --output spamham_samples/hq0ul9RDpWw.mp4 --retries infinite --fragment-retries infinite && ffmpeg -i spamham_samples/hq0ul9RDpWw.mp4 -r 1 -vframes 1 -f image2 -q:v 1 spamham_samples/frames/hq0ul9RDpWw.%03d.jpeg -y && del spamham_samples\\hq0ul9RDpWw.mp4\n",
      "running donwload, extract, delete cmd...0\n",
      "add file to sources\n",
      "label frame\n",
      "|byPAJfLR22U|\n",
      "get vid info\n",
      "[youtube] Extracting URL: https://www.youtube.com/watch?v=byPAJfLR22U\n",
      "[youtube] byPAJfLR22U: Downloading webpage\n",
      "[youtube] byPAJfLR22U: Downloading android player API JSON\n"
     ]
    },
    {
     "name": "stderr",
     "output_type": "stream",
     "text": [
      "WARNING: [youtube] byPAJfLR22U: nsig extraction failed: You may experience throttling for some formats\n",
      "         Install PhantomJS to workaround the issue. Please download it from https://phantomjs.org/download.html\n",
      "         n = 0UeUUwZEwxBEVb ; player = https://www.youtube.com/s/player/97ea7458/player_ias.vflset/en_US/base.js\n"
     ]
    },
    {
     "name": "stdout",
     "output_type": "stream",
     "text": [
      "get random frame\n",
      "*796-797\n",
      "byPAJfLR22U\n",
      "yt-dlp -S res:720,ext:mp4,fps:24 -c --recode mp4 --download-sections *796-797 https://www.youtube.com/watch?v=byPAJfLR22U --output spamham_samples/byPAJfLR22U.mp4 --retries infinite --fragment-retries infinite && ffmpeg -i spamham_samples/byPAJfLR22U.mp4 -r 1 -vframes 1 -f image2 -q:v 1 spamham_samples/frames/byPAJfLR22U.%03d.jpeg -y && del spamham_samples\\byPAJfLR22U.mp4\n",
      "running donwload, extract, delete cmd...0\n",
      "add file to sources\n",
      "label frame\n",
      "|QhsHW6FA3E0|\n",
      "get vid info\n",
      "[youtube] Extracting URL: https://www.youtube.com/watch?v=QhsHW6FA3E0\n",
      "[youtube] QhsHW6FA3E0: Downloading webpage\n",
      "[youtube] QhsHW6FA3E0: Downloading android player API JSON\n"
     ]
    },
    {
     "name": "stderr",
     "output_type": "stream",
     "text": [
      "WARNING: [youtube] QhsHW6FA3E0: nsig extraction failed: You may experience throttling for some formats\n",
      "         Install PhantomJS to workaround the issue. Please download it from https://phantomjs.org/download.html\n",
      "         n = LaWUqvyvOS1byu ; player = https://www.youtube.com/s/player/97ea7458/player_ias.vflset/en_US/base.js\n"
     ]
    },
    {
     "name": "stdout",
     "output_type": "stream",
     "text": [
      "get random frame\n",
      "*1947-1948\n",
      "QhsHW6FA3E0\n",
      "yt-dlp -S res:720,ext:mp4,fps:24 -c --recode mp4 --download-sections *1947-1948 https://www.youtube.com/watch?v=QhsHW6FA3E0 --output spamham_samples/QhsHW6FA3E0.mp4 --retries infinite --fragment-retries infinite && ffmpeg -i spamham_samples/QhsHW6FA3E0.mp4 -r 1 -vframes 1 -f image2 -q:v 1 spamham_samples/frames/QhsHW6FA3E0.%03d.jpeg -y && del spamham_samples\\QhsHW6FA3E0.mp4\n",
      "running donwload, extract, delete cmd...0\n",
      "add file to sources\n",
      "label frame\n",
      "|6gHCrxle0Zk|\n",
      "get vid info\n",
      "[youtube] Extracting URL: https://www.youtube.com/watch?v=6gHCrxle0Zk\n",
      "[youtube] 6gHCrxle0Zk: Downloading webpage\n",
      "[youtube] 6gHCrxle0Zk: Downloading android player API JSON\n"
     ]
    },
    {
     "name": "stderr",
     "output_type": "stream",
     "text": [
      "WARNING: [youtube] 6gHCrxle0Zk: nsig extraction failed: You may experience throttling for some formats\n",
      "         Install PhantomJS to workaround the issue. Please download it from https://phantomjs.org/download.html\n",
      "         n = jpfJe1vumHtTl0 ; player = https://www.youtube.com/s/player/97ea7458/player_ias.vflset/en_US/base.js\n"
     ]
    },
    {
     "name": "stdout",
     "output_type": "stream",
     "text": [
      "get random frame\n",
      "*1212-1213\n",
      "6gHCrxle0Zk\n",
      "yt-dlp -S res:720,ext:mp4,fps:24 -c --recode mp4 --download-sections *1212-1213 https://www.youtube.com/watch?v=6gHCrxle0Zk --output spamham_samples/6gHCrxle0Zk.mp4 --retries infinite --fragment-retries infinite && ffmpeg -i spamham_samples/6gHCrxle0Zk.mp4 -r 1 -vframes 1 -f image2 -q:v 1 spamham_samples/frames/6gHCrxle0Zk.%03d.jpeg -y && del spamham_samples\\6gHCrxle0Zk.mp4\n",
      "running donwload, extract, delete cmd...0\n",
      "add file to sources\n",
      "label frame\n",
      "|Itx7BGsMPfE|\n",
      "get vid info\n",
      "[youtube] Extracting URL: https://www.youtube.com/watch?v=Itx7BGsMPfE\n",
      "[youtube] Itx7BGsMPfE: Downloading webpage\n",
      "[youtube] Itx7BGsMPfE: Downloading android player API JSON\n"
     ]
    },
    {
     "name": "stderr",
     "output_type": "stream",
     "text": [
      "WARNING: [youtube] Itx7BGsMPfE: nsig extraction failed: You may experience throttling for some formats\n",
      "         Install PhantomJS to workaround the issue. Please download it from https://phantomjs.org/download.html\n",
      "         n = IWtcQ-dqZT1I5y ; player = https://www.youtube.com/s/player/97ea7458/player_ias.vflset/en_US/base.js\n"
     ]
    },
    {
     "name": "stdout",
     "output_type": "stream",
     "text": [
      "get random frame\n",
      "*1236-1237\n",
      "Itx7BGsMPfE\n",
      "yt-dlp -S res:720,ext:mp4,fps:24 -c --recode mp4 --download-sections *1236-1237 https://www.youtube.com/watch?v=Itx7BGsMPfE --output spamham_samples/Itx7BGsMPfE.mp4 --retries infinite --fragment-retries infinite && ffmpeg -i spamham_samples/Itx7BGsMPfE.mp4 -r 1 -vframes 1 -f image2 -q:v 1 spamham_samples/frames/Itx7BGsMPfE.%03d.jpeg -y && del spamham_samples\\Itx7BGsMPfE.mp4\n",
      "running donwload, extract, delete cmd...0\n",
      "add file to sources\n",
      "label frame\n",
      "|Jx9KBtLGfUg|\n",
      "get vid info\n",
      "[youtube] Extracting URL: https://www.youtube.com/watch?v=Jx9KBtLGfUg\n",
      "[youtube] Jx9KBtLGfUg: Downloading webpage\n",
      "[youtube] Jx9KBtLGfUg: Downloading android player API JSON\n"
     ]
    },
    {
     "name": "stderr",
     "output_type": "stream",
     "text": [
      "WARNING: [youtube] Jx9KBtLGfUg: nsig extraction failed: You may experience throttling for some formats\n",
      "         Install PhantomJS to workaround the issue. Please download it from https://phantomjs.org/download.html\n",
      "         n = ZvTa_-ehbl4p-h ; player = https://www.youtube.com/s/player/97ea7458/player_ias.vflset/en_US/base.js\n"
     ]
    },
    {
     "name": "stdout",
     "output_type": "stream",
     "text": [
      "get random frame\n",
      "*774-775\n",
      "Jx9KBtLGfUg\n",
      "yt-dlp -S res:720,ext:mp4,fps:24 -c --recode mp4 --download-sections *774-775 https://www.youtube.com/watch?v=Jx9KBtLGfUg --output spamham_samples/Jx9KBtLGfUg.mp4 --retries infinite --fragment-retries infinite && ffmpeg -i spamham_samples/Jx9KBtLGfUg.mp4 -r 1 -vframes 1 -f image2 -q:v 1 spamham_samples/frames/Jx9KBtLGfUg.%03d.jpeg -y && del spamham_samples\\Jx9KBtLGfUg.mp4\n",
      "running donwload, extract, delete cmd...0\n",
      "add file to sources\n",
      "label frame\n",
      "|4Lke5QU6XCQ|\n",
      "get vid info\n",
      "[youtube] Extracting URL: https://www.youtube.com/watch?v=4Lke5QU6XCQ\n",
      "[youtube] 4Lke5QU6XCQ: Downloading webpage\n",
      "[youtube] 4Lke5QU6XCQ: Downloading android player API JSON\n"
     ]
    },
    {
     "name": "stderr",
     "output_type": "stream",
     "text": [
      "WARNING: [youtube] 4Lke5QU6XCQ: nsig extraction failed: You may experience throttling for some formats\n",
      "         Install PhantomJS to workaround the issue. Please download it from https://phantomjs.org/download.html\n",
      "         n = ebY_3a1lCugu8L ; player = https://www.youtube.com/s/player/97ea7458/player_ias.vflset/en_US/base.js\n"
     ]
    },
    {
     "name": "stdout",
     "output_type": "stream",
     "text": [
      "get random frame\n",
      "*941-942\n",
      "4Lke5QU6XCQ\n",
      "yt-dlp -S res:720,ext:mp4,fps:24 -c --recode mp4 --download-sections *941-942 https://www.youtube.com/watch?v=4Lke5QU6XCQ --output spamham_samples/4Lke5QU6XCQ.mp4 --retries infinite --fragment-retries infinite && ffmpeg -i spamham_samples/4Lke5QU6XCQ.mp4 -r 1 -vframes 1 -f image2 -q:v 1 spamham_samples/frames/4Lke5QU6XCQ.%03d.jpeg -y && del spamham_samples\\4Lke5QU6XCQ.mp4\n",
      "running donwload, extract, delete cmd...0\n",
      "add file to sources\n",
      "label frame\n",
      "|Tbwu2_OWYdE|\n",
      "get vid info\n",
      "[youtube] Extracting URL: https://www.youtube.com/watch?v=Tbwu2_OWYdE\n",
      "[youtube] Tbwu2_OWYdE: Downloading webpage\n",
      "[youtube] Tbwu2_OWYdE: Downloading android player API JSON\n"
     ]
    },
    {
     "name": "stderr",
     "output_type": "stream",
     "text": [
      "WARNING: [youtube] Tbwu2_OWYdE: nsig extraction failed: You may experience throttling for some formats\n",
      "         Install PhantomJS to workaround the issue. Please download it from https://phantomjs.org/download.html\n",
      "         n = ngAk2s7o3FW3sq ; player = https://www.youtube.com/s/player/97ea7458/player_ias.vflset/en_US/base.js\n"
     ]
    },
    {
     "name": "stdout",
     "output_type": "stream",
     "text": [
      "get random frame\n",
      "*1608-1609\n",
      "Tbwu2_OWYdE\n",
      "yt-dlp -S res:720,ext:mp4,fps:24 -c --recode mp4 --download-sections *1608-1609 https://www.youtube.com/watch?v=Tbwu2_OWYdE --output spamham_samples/Tbwu2_OWYdE.mp4 --retries infinite --fragment-retries infinite && ffmpeg -i spamham_samples/Tbwu2_OWYdE.mp4 -r 1 -vframes 1 -f image2 -q:v 1 spamham_samples/frames/Tbwu2_OWYdE.%03d.jpeg -y && del spamham_samples\\Tbwu2_OWYdE.mp4\n",
      "running donwload, extract, delete cmd...0\n",
      "add file to sources\n",
      "label frame\n",
      "|azLXjaRlGXo|\n",
      "get vid info\n",
      "[youtube] Extracting URL: https://www.youtube.com/watch?v=azLXjaRlGXo\n",
      "[youtube] azLXjaRlGXo: Downloading webpage\n",
      "[youtube] azLXjaRlGXo: Downloading android player API JSON\n"
     ]
    },
    {
     "name": "stderr",
     "output_type": "stream",
     "text": [
      "WARNING: [youtube] azLXjaRlGXo: nsig extraction failed: You may experience throttling for some formats\n",
      "         Install PhantomJS to workaround the issue. Please download it from https://phantomjs.org/download.html\n",
      "         n = vLGv5P1OTnbv7V ; player = https://www.youtube.com/s/player/97ea7458/player_ias.vflset/en_US/base.js\n"
     ]
    },
    {
     "name": "stdout",
     "output_type": "stream",
     "text": [
      "get random frame\n",
      "*1536-1537\n",
      "azLXjaRlGXo\n",
      "yt-dlp -S res:720,ext:mp4,fps:24 -c --recode mp4 --download-sections *1536-1537 https://www.youtube.com/watch?v=azLXjaRlGXo --output spamham_samples/azLXjaRlGXo.mp4 --retries infinite --fragment-retries infinite && ffmpeg -i spamham_samples/azLXjaRlGXo.mp4 -r 1 -vframes 1 -f image2 -q:v 1 spamham_samples/frames/azLXjaRlGXo.%03d.jpeg -y && del spamham_samples\\azLXjaRlGXo.mp4\n",
      "running donwload, extract, delete cmd...0\n",
      "add file to sources\n",
      "label frame\n",
      "|s4ZFdiI2qSY|\n",
      "get vid info\n",
      "[youtube] Extracting URL: https://www.youtube.com/watch?v=s4ZFdiI2qSY\n",
      "[youtube] s4ZFdiI2qSY: Downloading webpage\n",
      "[youtube] s4ZFdiI2qSY: Downloading android player API JSON\n"
     ]
    },
    {
     "name": "stderr",
     "output_type": "stream",
     "text": [
      "WARNING: [youtube] s4ZFdiI2qSY: nsig extraction failed: You may experience throttling for some formats\n",
      "         Install PhantomJS to workaround the issue. Please download it from https://phantomjs.org/download.html\n",
      "         n = CWUZ_r4TYtQCJk ; player = https://www.youtube.com/s/player/97ea7458/player_ias.vflset/en_US/base.js\n"
     ]
    },
    {
     "name": "stdout",
     "output_type": "stream",
     "text": [
      "get random frame\n",
      "*868-869\n",
      "s4ZFdiI2qSY\n",
      "yt-dlp -S res:720,ext:mp4,fps:24 -c --recode mp4 --download-sections *868-869 https://www.youtube.com/watch?v=s4ZFdiI2qSY --output spamham_samples/s4ZFdiI2qSY.mp4 --retries infinite --fragment-retries infinite && ffmpeg -i spamham_samples/s4ZFdiI2qSY.mp4 -r 1 -vframes 1 -f image2 -q:v 1 spamham_samples/frames/s4ZFdiI2qSY.%03d.jpeg -y && del spamham_samples\\s4ZFdiI2qSY.mp4\n",
      "running donwload, extract, delete cmd...0\n",
      "add file to sources\n",
      "label frame\n",
      "|pk0HsuUmIIg|\n",
      "get vid info\n",
      "[youtube] Extracting URL: https://www.youtube.com/watch?v=pk0HsuUmIIg\n",
      "[youtube] pk0HsuUmIIg: Downloading webpage\n",
      "[youtube] pk0HsuUmIIg: Downloading android player API JSON\n"
     ]
    },
    {
     "name": "stderr",
     "output_type": "stream",
     "text": [
      "WARNING: [youtube] pk0HsuUmIIg: nsig extraction failed: You may experience throttling for some formats\n",
      "         Install PhantomJS to workaround the issue. Please download it from https://phantomjs.org/download.html\n",
      "         n = hLnO5VUiac6B66 ; player = https://www.youtube.com/s/player/97ea7458/player_ias.vflset/en_US/base.js\n"
     ]
    },
    {
     "name": "stdout",
     "output_type": "stream",
     "text": [
      "get random frame\n",
      "*1374-1375\n",
      "pk0HsuUmIIg\n",
      "yt-dlp -S res:720,ext:mp4,fps:24 -c --recode mp4 --download-sections *1374-1375 https://www.youtube.com/watch?v=pk0HsuUmIIg --output spamham_samples/pk0HsuUmIIg.mp4 --retries infinite --fragment-retries infinite && ffmpeg -i spamham_samples/pk0HsuUmIIg.mp4 -r 1 -vframes 1 -f image2 -q:v 1 spamham_samples/frames/pk0HsuUmIIg.%03d.jpeg -y && del spamham_samples\\pk0HsuUmIIg.mp4\n",
      "running donwload, extract, delete cmd...0\n",
      "add file to sources\n",
      "label frame\n",
      "|7r6JFu0RHz0|\n",
      "get vid info\n",
      "[youtube] Extracting URL: https://www.youtube.com/watch?v=7r6JFu0RHz0\n",
      "[youtube] 7r6JFu0RHz0: Downloading webpage\n",
      "[youtube] 7r6JFu0RHz0: Downloading android player API JSON\n"
     ]
    },
    {
     "name": "stderr",
     "output_type": "stream",
     "text": [
      "WARNING: [youtube] 7r6JFu0RHz0: nsig extraction failed: You may experience throttling for some formats\n",
      "         Install PhantomJS to workaround the issue. Please download it from https://phantomjs.org/download.html\n",
      "         n = bTD9jHHh4SrrTt ; player = https://www.youtube.com/s/player/97ea7458/player_ias.vflset/en_US/base.js\n"
     ]
    },
    {
     "name": "stdout",
     "output_type": "stream",
     "text": [
      "get random frame\n",
      "*1978-1979\n",
      "7r6JFu0RHz0\n",
      "yt-dlp -S res:720,ext:mp4,fps:24 -c --recode mp4 --download-sections *1978-1979 https://www.youtube.com/watch?v=7r6JFu0RHz0 --output spamham_samples/7r6JFu0RHz0.mp4 --retries infinite --fragment-retries infinite && ffmpeg -i spamham_samples/7r6JFu0RHz0.mp4 -r 1 -vframes 1 -f image2 -q:v 1 spamham_samples/frames/7r6JFu0RHz0.%03d.jpeg -y && del spamham_samples\\7r6JFu0RHz0.mp4\n",
      "running donwload, extract, delete cmd...0\n",
      "add file to sources\n",
      "label frame\n",
      "|GKiXn3COl_Y|\n",
      "get vid info\n",
      "[youtube] Extracting URL: https://www.youtube.com/watch?v=GKiXn3COl_Y\n",
      "[youtube] GKiXn3COl_Y: Downloading webpage\n",
      "[youtube] GKiXn3COl_Y: Downloading android player API JSON\n"
     ]
    },
    {
     "name": "stderr",
     "output_type": "stream",
     "text": [
      "WARNING: [youtube] GKiXn3COl_Y: nsig extraction failed: You may experience throttling for some formats\n",
      "         Install PhantomJS to workaround the issue. Please download it from https://phantomjs.org/download.html\n",
      "         n = qZrEf-4d3FCaQM ; player = https://www.youtube.com/s/player/97ea7458/player_ias.vflset/en_US/base.js\n"
     ]
    },
    {
     "name": "stdout",
     "output_type": "stream",
     "text": [
      "get random frame\n",
      "*1676-1677\n",
      "GKiXn3COl_Y\n",
      "yt-dlp -S res:720,ext:mp4,fps:24 -c --recode mp4 --download-sections *1676-1677 https://www.youtube.com/watch?v=GKiXn3COl_Y --output spamham_samples/GKiXn3COl_Y.mp4 --retries infinite --fragment-retries infinite && ffmpeg -i spamham_samples/GKiXn3COl_Y.mp4 -r 1 -vframes 1 -f image2 -q:v 1 spamham_samples/frames/GKiXn3COl_Y.%03d.jpeg -y && del spamham_samples\\GKiXn3COl_Y.mp4\n",
      "running donwload, extract, delete cmd...0\n",
      "add file to sources\n",
      "label frame\n",
      "|posG0msWqxo|\n",
      "get vid info\n",
      "[youtube] Extracting URL: https://www.youtube.com/watch?v=posG0msWqxo\n",
      "[youtube] posG0msWqxo: Downloading webpage\n",
      "[youtube] posG0msWqxo: Downloading android player API JSON\n"
     ]
    },
    {
     "name": "stderr",
     "output_type": "stream",
     "text": [
      "WARNING: [youtube] posG0msWqxo: nsig extraction failed: You may experience throttling for some formats\n",
      "         Install PhantomJS to workaround the issue. Please download it from https://phantomjs.org/download.html\n",
      "         n = XtEpNi7eutp3V7 ; player = https://www.youtube.com/s/player/97ea7458/player_ias.vflset/en_US/base.js\n"
     ]
    },
    {
     "name": "stdout",
     "output_type": "stream",
     "text": [
      "get random frame\n",
      "*167-168\n",
      "posG0msWqxo\n",
      "yt-dlp -S res:720,ext:mp4,fps:24 -c --recode mp4 --download-sections *167-168 https://www.youtube.com/watch?v=posG0msWqxo --output spamham_samples/posG0msWqxo.mp4 --retries infinite --fragment-retries infinite && ffmpeg -i spamham_samples/posG0msWqxo.mp4 -r 1 -vframes 1 -f image2 -q:v 1 spamham_samples/frames/posG0msWqxo.%03d.jpeg -y && del spamham_samples\\posG0msWqxo.mp4\n",
      "running donwload, extract, delete cmd...0\n",
      "add file to sources\n",
      "label frame\n",
      "|IgYxzgO-QpE|\n",
      "get vid info\n",
      "[youtube] Extracting URL: https://www.youtube.com/watch?v=IgYxzgO-QpE\n",
      "[youtube] IgYxzgO-QpE: Downloading webpage\n",
      "[youtube] IgYxzgO-QpE: Downloading android player API JSON\n"
     ]
    },
    {
     "name": "stderr",
     "output_type": "stream",
     "text": [
      "WARNING: [youtube] IgYxzgO-QpE: nsig extraction failed: You may experience throttling for some formats\n",
      "         Install PhantomJS to workaround the issue. Please download it from https://phantomjs.org/download.html\n",
      "         n = a5RyD_IxfxVaAq ; player = https://www.youtube.com/s/player/97ea7458/player_ias.vflset/en_US/base.js\n"
     ]
    },
    {
     "name": "stdout",
     "output_type": "stream",
     "text": [
      "get random frame\n",
      "*1539-1540\n",
      "IgYxzgO-QpE\n",
      "yt-dlp -S res:720,ext:mp4,fps:24 -c --recode mp4 --download-sections *1539-1540 https://www.youtube.com/watch?v=IgYxzgO-QpE --output spamham_samples/IgYxzgO-QpE.mp4 --retries infinite --fragment-retries infinite && ffmpeg -i spamham_samples/IgYxzgO-QpE.mp4 -r 1 -vframes 1 -f image2 -q:v 1 spamham_samples/frames/IgYxzgO-QpE.%03d.jpeg -y && del spamham_samples\\IgYxzgO-QpE.mp4\n",
      "running donwload, extract, delete cmd...0\n",
      "add file to sources\n",
      "label frame\n",
      "|01o-txdtrq8|\n",
      "get vid info\n",
      "[youtube] Extracting URL: https://www.youtube.com/watch?v=01o-txdtrq8\n",
      "[youtube] 01o-txdtrq8: Downloading webpage\n",
      "[youtube] 01o-txdtrq8: Downloading android player API JSON\n"
     ]
    },
    {
     "name": "stderr",
     "output_type": "stream",
     "text": [
      "WARNING: [youtube] 01o-txdtrq8: nsig extraction failed: You may experience throttling for some formats\n",
      "         Install PhantomJS to workaround the issue. Please download it from https://phantomjs.org/download.html\n",
      "         n = PIo3hisRv-L_6v ; player = https://www.youtube.com/s/player/97ea7458/player_ias.vflset/en_US/base.js\n"
     ]
    },
    {
     "name": "stdout",
     "output_type": "stream",
     "text": [
      "get random frame\n",
      "*1012-1013\n",
      "01o-txdtrq8\n",
      "yt-dlp -S res:720,ext:mp4,fps:24 -c --recode mp4 --download-sections *1012-1013 https://www.youtube.com/watch?v=01o-txdtrq8 --output spamham_samples/01o-txdtrq8.mp4 --retries infinite --fragment-retries infinite && ffmpeg -i spamham_samples/01o-txdtrq8.mp4 -r 1 -vframes 1 -f image2 -q:v 1 spamham_samples/frames/01o-txdtrq8.%03d.jpeg -y && del spamham_samples\\01o-txdtrq8.mp4\n",
      "running donwload, extract, delete cmd...0\n",
      "add file to sources\n",
      "label frame\n",
      "|efx2qDyGc30|\n",
      "get vid info\n",
      "[youtube] Extracting URL: https://www.youtube.com/watch?v=efx2qDyGc30\n",
      "[youtube] efx2qDyGc30: Downloading webpage\n",
      "[youtube] efx2qDyGc30: Downloading android player API JSON\n"
     ]
    },
    {
     "name": "stderr",
     "output_type": "stream",
     "text": [
      "WARNING: [youtube] efx2qDyGc30: nsig extraction failed: You may experience throttling for some formats\n",
      "         Install PhantomJS to workaround the issue. Please download it from https://phantomjs.org/download.html\n",
      "         n = GclrlTh9a0vmm1 ; player = https://www.youtube.com/s/player/97ea7458/player_ias.vflset/en_US/base.js\n"
     ]
    },
    {
     "name": "stdout",
     "output_type": "stream",
     "text": [
      "get random frame\n",
      "*273-274\n",
      "efx2qDyGc30\n",
      "yt-dlp -S res:720,ext:mp4,fps:24 -c --recode mp4 --download-sections *273-274 https://www.youtube.com/watch?v=efx2qDyGc30 --output spamham_samples/efx2qDyGc30.mp4 --retries infinite --fragment-retries infinite && ffmpeg -i spamham_samples/efx2qDyGc30.mp4 -r 1 -vframes 1 -f image2 -q:v 1 spamham_samples/frames/efx2qDyGc30.%03d.jpeg -y && del spamham_samples\\efx2qDyGc30.mp4\n",
      "running donwload, extract, delete cmd...0\n",
      "add file to sources\n",
      "label frame\n",
      "|c1GB2ppL73w|\n",
      "get vid info\n",
      "[youtube] Extracting URL: https://www.youtube.com/watch?v=c1GB2ppL73w\n",
      "[youtube] c1GB2ppL73w: Downloading webpage\n",
      "[youtube] c1GB2ppL73w: Downloading android player API JSON\n"
     ]
    },
    {
     "name": "stderr",
     "output_type": "stream",
     "text": [
      "WARNING: [youtube] c1GB2ppL73w: nsig extraction failed: You may experience throttling for some formats\n",
      "         Install PhantomJS to workaround the issue. Please download it from https://phantomjs.org/download.html\n",
      "         n = NzxVJ9KTFNK9mO ; player = https://www.youtube.com/s/player/97ea7458/player_ias.vflset/en_US/base.js\n"
     ]
    },
    {
     "name": "stdout",
     "output_type": "stream",
     "text": [
      "get random frame\n",
      "*1091-1092\n",
      "c1GB2ppL73w\n",
      "yt-dlp -S res:720,ext:mp4,fps:24 -c --recode mp4 --download-sections *1091-1092 https://www.youtube.com/watch?v=c1GB2ppL73w --output spamham_samples/c1GB2ppL73w.mp4 --retries infinite --fragment-retries infinite && ffmpeg -i spamham_samples/c1GB2ppL73w.mp4 -r 1 -vframes 1 -f image2 -q:v 1 spamham_samples/frames/c1GB2ppL73w.%03d.jpeg -y && del spamham_samples\\c1GB2ppL73w.mp4\n",
      "running donwload, extract, delete cmd...0\n",
      "add file to sources\n",
      "label frame\n",
      "|xEMQUBtLc40|\n",
      "get vid info\n",
      "[youtube] Extracting URL: https://www.youtube.com/watch?v=xEMQUBtLc40\n",
      "[youtube] xEMQUBtLc40: Downloading webpage\n",
      "[youtube] xEMQUBtLc40: Downloading android player API JSON\n"
     ]
    },
    {
     "name": "stderr",
     "output_type": "stream",
     "text": [
      "WARNING: [youtube] xEMQUBtLc40: nsig extraction failed: You may experience throttling for some formats\n",
      "         Install PhantomJS to workaround the issue. Please download it from https://phantomjs.org/download.html\n",
      "         n = JobVhWVIDTa52M ; player = https://www.youtube.com/s/player/97ea7458/player_ias.vflset/en_US/base.js\n"
     ]
    },
    {
     "name": "stdout",
     "output_type": "stream",
     "text": [
      "get random frame\n",
      "*391-392\n",
      "xEMQUBtLc40\n",
      "yt-dlp -S res:720,ext:mp4,fps:24 -c --recode mp4 --download-sections *391-392 https://www.youtube.com/watch?v=xEMQUBtLc40 --output spamham_samples/xEMQUBtLc40.mp4 --retries infinite --fragment-retries infinite && ffmpeg -i spamham_samples/xEMQUBtLc40.mp4 -r 1 -vframes 1 -f image2 -q:v 1 spamham_samples/frames/xEMQUBtLc40.%03d.jpeg -y && del spamham_samples\\xEMQUBtLc40.mp4\n",
      "running donwload, extract, delete cmd...0\n",
      "add file to sources\n",
      "label frame\n",
      "|Vee6CIaLYL8|\n",
      "get vid info\n",
      "[youtube] Extracting URL: https://www.youtube.com/watch?v=Vee6CIaLYL8\n",
      "[youtube] Vee6CIaLYL8: Downloading webpage\n",
      "[youtube] Vee6CIaLYL8: Downloading android player API JSON\n"
     ]
    },
    {
     "name": "stderr",
     "output_type": "stream",
     "text": [
      "WARNING: [youtube] Vee6CIaLYL8: nsig extraction failed: You may experience throttling for some formats\n",
      "         Install PhantomJS to workaround the issue. Please download it from https://phantomjs.org/download.html\n",
      "         n = JsM9T7Xf3pUZYJ ; player = https://www.youtube.com/s/player/97ea7458/player_ias.vflset/en_US/base.js\n"
     ]
    },
    {
     "name": "stdout",
     "output_type": "stream",
     "text": [
      "get random frame\n",
      "*1783-1784\n",
      "Vee6CIaLYL8\n",
      "yt-dlp -S res:720,ext:mp4,fps:24 -c --recode mp4 --download-sections *1783-1784 https://www.youtube.com/watch?v=Vee6CIaLYL8 --output spamham_samples/Vee6CIaLYL8.mp4 --retries infinite --fragment-retries infinite && ffmpeg -i spamham_samples/Vee6CIaLYL8.mp4 -r 1 -vframes 1 -f image2 -q:v 1 spamham_samples/frames/Vee6CIaLYL8.%03d.jpeg -y && del spamham_samples\\Vee6CIaLYL8.mp4\n",
      "running donwload, extract, delete cmd...0\n",
      "add file to sources\n",
      "label frame\n",
      "|eUxDrU8ZWLo|\n",
      "get vid info\n",
      "[youtube] Extracting URL: https://www.youtube.com/watch?v=eUxDrU8ZWLo\n",
      "[youtube] eUxDrU8ZWLo: Downloading webpage\n",
      "[youtube] eUxDrU8ZWLo: Downloading android player API JSON\n"
     ]
    },
    {
     "name": "stderr",
     "output_type": "stream",
     "text": [
      "WARNING: [youtube] eUxDrU8ZWLo: nsig extraction failed: You may experience throttling for some formats\n",
      "         Install PhantomJS to workaround the issue. Please download it from https://phantomjs.org/download.html\n",
      "         n = ceusnMkXscPs2P ; player = https://www.youtube.com/s/player/97ea7458/player_ias.vflset/en_US/base.js\n"
     ]
    },
    {
     "name": "stdout",
     "output_type": "stream",
     "text": [
      "get random frame\n",
      "*696-697\n",
      "eUxDrU8ZWLo\n",
      "yt-dlp -S res:720,ext:mp4,fps:24 -c --recode mp4 --download-sections *696-697 https://www.youtube.com/watch?v=eUxDrU8ZWLo --output spamham_samples/eUxDrU8ZWLo.mp4 --retries infinite --fragment-retries infinite && ffmpeg -i spamham_samples/eUxDrU8ZWLo.mp4 -r 1 -vframes 1 -f image2 -q:v 1 spamham_samples/frames/eUxDrU8ZWLo.%03d.jpeg -y && del spamham_samples\\eUxDrU8ZWLo.mp4\n",
      "running donwload, extract, delete cmd...0\n",
      "add file to sources\n",
      "label frame\n",
      "|4Pfo8SmDPtk|\n",
      "get vid info\n",
      "[youtube] Extracting URL: https://www.youtube.com/watch?v=4Pfo8SmDPtk\n",
      "[youtube] 4Pfo8SmDPtk: Downloading webpage\n",
      "[youtube] 4Pfo8SmDPtk: Downloading android player API JSON\n"
     ]
    },
    {
     "name": "stderr",
     "output_type": "stream",
     "text": [
      "WARNING: [youtube] 4Pfo8SmDPtk: nsig extraction failed: You may experience throttling for some formats\n",
      "         Install PhantomJS to workaround the issue. Please download it from https://phantomjs.org/download.html\n",
      "         n = SCYCBiDrbilSDw ; player = https://www.youtube.com/s/player/97ea7458/player_ias.vflset/en_US/base.js\n"
     ]
    },
    {
     "name": "stdout",
     "output_type": "stream",
     "text": [
      "get random frame\n",
      "*1563-1564\n",
      "4Pfo8SmDPtk\n",
      "yt-dlp -S res:720,ext:mp4,fps:24 -c --recode mp4 --download-sections *1563-1564 https://www.youtube.com/watch?v=4Pfo8SmDPtk --output spamham_samples/4Pfo8SmDPtk.mp4 --retries infinite --fragment-retries infinite && ffmpeg -i spamham_samples/4Pfo8SmDPtk.mp4 -r 1 -vframes 1 -f image2 -q:v 1 spamham_samples/frames/4Pfo8SmDPtk.%03d.jpeg -y && del spamham_samples\\4Pfo8SmDPtk.mp4\n",
      "running donwload, extract, delete cmd...0\n",
      "add file to sources\n",
      "label frame\n",
      "|039cV-55DnE|\n",
      "get vid info\n",
      "[youtube] Extracting URL: https://www.youtube.com/watch?v=039cV-55DnE\n",
      "[youtube] 039cV-55DnE: Downloading webpage\n",
      "[youtube] 039cV-55DnE: Downloading android player API JSON\n"
     ]
    },
    {
     "name": "stderr",
     "output_type": "stream",
     "text": [
      "WARNING: [youtube] 039cV-55DnE: nsig extraction failed: You may experience throttling for some formats\n",
      "         Install PhantomJS to workaround the issue. Please download it from https://phantomjs.org/download.html\n",
      "         n = NQokIMzY_F5tzP ; player = https://www.youtube.com/s/player/97ea7458/player_ias.vflset/en_US/base.js\n"
     ]
    },
    {
     "name": "stdout",
     "output_type": "stream",
     "text": [
      "get random frame\n",
      "*706-707\n",
      "039cV-55DnE\n",
      "yt-dlp -S res:720,ext:mp4,fps:24 -c --recode mp4 --download-sections *706-707 https://www.youtube.com/watch?v=039cV-55DnE --output spamham_samples/039cV-55DnE.mp4 --retries infinite --fragment-retries infinite && ffmpeg -i spamham_samples/039cV-55DnE.mp4 -r 1 -vframes 1 -f image2 -q:v 1 spamham_samples/frames/039cV-55DnE.%03d.jpeg -y && del spamham_samples\\039cV-55DnE.mp4\n",
      "running donwload, extract, delete cmd...0\n",
      "add file to sources\n",
      "label frame\n",
      "|4O_T0Tw4Dhs|\n",
      "get vid info\n",
      "[youtube] Extracting URL: https://www.youtube.com/watch?v=4O_T0Tw4Dhs\n",
      "[youtube] 4O_T0Tw4Dhs: Downloading webpage\n",
      "[youtube] 4O_T0Tw4Dhs: Downloading android player API JSON\n"
     ]
    },
    {
     "name": "stderr",
     "output_type": "stream",
     "text": [
      "WARNING: [youtube] 4O_T0Tw4Dhs: nsig extraction failed: You may experience throttling for some formats\n",
      "         Install PhantomJS to workaround the issue. Please download it from https://phantomjs.org/download.html\n",
      "         n = vKorQR9CZeIPMb ; player = https://www.youtube.com/s/player/97ea7458/player_ias.vflset/en_US/base.js\n"
     ]
    },
    {
     "name": "stdout",
     "output_type": "stream",
     "text": [
      "get random frame\n",
      "*58-59\n",
      "4O_T0Tw4Dhs\n",
      "yt-dlp -S res:720,ext:mp4,fps:24 -c --recode mp4 --download-sections *58-59 https://www.youtube.com/watch?v=4O_T0Tw4Dhs --output spamham_samples/4O_T0Tw4Dhs.mp4 --retries infinite --fragment-retries infinite && ffmpeg -i spamham_samples/4O_T0Tw4Dhs.mp4 -r 1 -vframes 1 -f image2 -q:v 1 spamham_samples/frames/4O_T0Tw4Dhs.%03d.jpeg -y && del spamham_samples\\4O_T0Tw4Dhs.mp4\n",
      "running donwload, extract, delete cmd...0\n",
      "add file to sources\n",
      "label frame\n",
      "|1OlzpXrn18Q|\n",
      "get vid info\n",
      "[youtube] Extracting URL: https://www.youtube.com/watch?v=1OlzpXrn18Q\n",
      "[youtube] 1OlzpXrn18Q: Downloading webpage\n",
      "[youtube] 1OlzpXrn18Q: Downloading android player API JSON\n"
     ]
    },
    {
     "name": "stderr",
     "output_type": "stream",
     "text": [
      "WARNING: [youtube] 1OlzpXrn18Q: nsig extraction failed: You may experience throttling for some formats\n",
      "         Install PhantomJS to workaround the issue. Please download it from https://phantomjs.org/download.html\n",
      "         n = urTvUhxWOTme39 ; player = https://www.youtube.com/s/player/97ea7458/player_ias.vflset/en_US/base.js\n"
     ]
    },
    {
     "name": "stdout",
     "output_type": "stream",
     "text": [
      "get random frame\n",
      "*1714-1715\n",
      "1OlzpXrn18Q\n",
      "yt-dlp -S res:720,ext:mp4,fps:24 -c --recode mp4 --download-sections *1714-1715 https://www.youtube.com/watch?v=1OlzpXrn18Q --output spamham_samples/1OlzpXrn18Q.mp4 --retries infinite --fragment-retries infinite && ffmpeg -i spamham_samples/1OlzpXrn18Q.mp4 -r 1 -vframes 1 -f image2 -q:v 1 spamham_samples/frames/1OlzpXrn18Q.%03d.jpeg -y && del spamham_samples\\1OlzpXrn18Q.mp4\n",
      "running donwload, extract, delete cmd...0\n",
      "add file to sources\n",
      "label frame\n",
      "|fYaIPAasxVY|\n",
      "get vid info\n",
      "[youtube] Extracting URL: https://www.youtube.com/watch?v=fYaIPAasxVY\n",
      "[youtube] fYaIPAasxVY: Downloading webpage\n",
      "[youtube] fYaIPAasxVY: Downloading android player API JSON\n"
     ]
    },
    {
     "name": "stderr",
     "output_type": "stream",
     "text": [
      "WARNING: [youtube] fYaIPAasxVY: nsig extraction failed: You may experience throttling for some formats\n",
      "         Install PhantomJS to workaround the issue. Please download it from https://phantomjs.org/download.html\n",
      "         n = 9tVu_Haw7NcN4H ; player = https://www.youtube.com/s/player/97ea7458/player_ias.vflset/en_US/base.js\n"
     ]
    },
    {
     "name": "stdout",
     "output_type": "stream",
     "text": [
      "get random frame\n",
      "*1316-1317\n",
      "fYaIPAasxVY\n",
      "yt-dlp -S res:720,ext:mp4,fps:24 -c --recode mp4 --download-sections *1316-1317 https://www.youtube.com/watch?v=fYaIPAasxVY --output spamham_samples/fYaIPAasxVY.mp4 --retries infinite --fragment-retries infinite && ffmpeg -i spamham_samples/fYaIPAasxVY.mp4 -r 1 -vframes 1 -f image2 -q:v 1 spamham_samples/frames/fYaIPAasxVY.%03d.jpeg -y && del spamham_samples\\fYaIPAasxVY.mp4\n",
      "running donwload, extract, delete cmd...0\n",
      "add file to sources\n",
      "label frame\n",
      "|ua4upVmjtIk|\n",
      "get vid info\n",
      "[youtube] Extracting URL: https://www.youtube.com/watch?v=ua4upVmjtIk\n",
      "[youtube] ua4upVmjtIk: Downloading webpage\n",
      "[youtube] ua4upVmjtIk: Downloading android player API JSON\n"
     ]
    },
    {
     "name": "stderr",
     "output_type": "stream",
     "text": [
      "WARNING: [youtube] ua4upVmjtIk: nsig extraction failed: You may experience throttling for some formats\n",
      "         Install PhantomJS to workaround the issue. Please download it from https://phantomjs.org/download.html\n",
      "         n = JqHDVrufGD0ZhZ ; player = https://www.youtube.com/s/player/97ea7458/player_ias.vflset/en_US/base.js\n"
     ]
    },
    {
     "name": "stdout",
     "output_type": "stream",
     "text": [
      "get random frame\n",
      "*743-744\n",
      "ua4upVmjtIk\n",
      "yt-dlp -S res:720,ext:mp4,fps:24 -c --recode mp4 --download-sections *743-744 https://www.youtube.com/watch?v=ua4upVmjtIk --output spamham_samples/ua4upVmjtIk.mp4 --retries infinite --fragment-retries infinite && ffmpeg -i spamham_samples/ua4upVmjtIk.mp4 -r 1 -vframes 1 -f image2 -q:v 1 spamham_samples/frames/ua4upVmjtIk.%03d.jpeg -y && del spamham_samples\\ua4upVmjtIk.mp4\n",
      "running donwload, extract, delete cmd...0\n",
      "add file to sources\n",
      "label frame\n",
      "|exShaaHpN34|\n",
      "get vid info\n",
      "[youtube] Extracting URL: https://www.youtube.com/watch?v=exShaaHpN34\n",
      "[youtube] exShaaHpN34: Downloading webpage\n",
      "[youtube] exShaaHpN34: Downloading android player API JSON\n"
     ]
    },
    {
     "name": "stderr",
     "output_type": "stream",
     "text": [
      "WARNING: [youtube] exShaaHpN34: nsig extraction failed: You may experience throttling for some formats\n",
      "         Install PhantomJS to workaround the issue. Please download it from https://phantomjs.org/download.html\n",
      "         n = kJspUXuX0hR0no ; player = https://www.youtube.com/s/player/97ea7458/player_ias.vflset/en_US/base.js\n"
     ]
    },
    {
     "name": "stdout",
     "output_type": "stream",
     "text": [
      "get random frame\n",
      "*644-645\n",
      "exShaaHpN34\n",
      "yt-dlp -S res:720,ext:mp4,fps:24 -c --recode mp4 --download-sections *644-645 https://www.youtube.com/watch?v=exShaaHpN34 --output spamham_samples/exShaaHpN34.mp4 --retries infinite --fragment-retries infinite && ffmpeg -i spamham_samples/exShaaHpN34.mp4 -r 1 -vframes 1 -f image2 -q:v 1 spamham_samples/frames/exShaaHpN34.%03d.jpeg -y && del spamham_samples\\exShaaHpN34.mp4\n",
      "running donwload, extract, delete cmd...0\n",
      "add file to sources\n",
      "label frame\n",
      "|YBHkIqzKPA4|\n",
      "get vid info\n",
      "[youtube] Extracting URL: https://www.youtube.com/watch?v=YBHkIqzKPA4\n",
      "[youtube] YBHkIqzKPA4: Downloading webpage\n",
      "[youtube] YBHkIqzKPA4: Downloading android player API JSON\n"
     ]
    },
    {
     "name": "stderr",
     "output_type": "stream",
     "text": [
      "WARNING: [youtube] YBHkIqzKPA4: nsig extraction failed: You may experience throttling for some formats\n",
      "         Install PhantomJS to workaround the issue. Please download it from https://phantomjs.org/download.html\n",
      "         n = 5p4JLGROqzCpEx ; player = https://www.youtube.com/s/player/97ea7458/player_ias.vflset/en_US/base.js\n"
     ]
    },
    {
     "name": "stdout",
     "output_type": "stream",
     "text": [
      "get random frame\n",
      "*191-192\n",
      "YBHkIqzKPA4\n",
      "yt-dlp -S res:720,ext:mp4,fps:24 -c --recode mp4 --download-sections *191-192 https://www.youtube.com/watch?v=YBHkIqzKPA4 --output spamham_samples/YBHkIqzKPA4.mp4 --retries infinite --fragment-retries infinite && ffmpeg -i spamham_samples/YBHkIqzKPA4.mp4 -r 1 -vframes 1 -f image2 -q:v 1 spamham_samples/frames/YBHkIqzKPA4.%03d.jpeg -y && del spamham_samples\\YBHkIqzKPA4.mp4\n",
      "running donwload, extract, delete cmd...0\n",
      "add file to sources\n",
      "label frame\n",
      "|2GtRLNZBsWc|\n",
      "get vid info\n",
      "[youtube] Extracting URL: https://www.youtube.com/watch?v=2GtRLNZBsWc\n",
      "[youtube] 2GtRLNZBsWc: Downloading webpage\n",
      "[youtube] 2GtRLNZBsWc: Downloading android player API JSON\n"
     ]
    },
    {
     "name": "stderr",
     "output_type": "stream",
     "text": [
      "WARNING: [youtube] 2GtRLNZBsWc: nsig extraction failed: You may experience throttling for some formats\n",
      "         Install PhantomJS to workaround the issue. Please download it from https://phantomjs.org/download.html\n",
      "         n = meKeVpUQX80mGZ ; player = https://www.youtube.com/s/player/97ea7458/player_ias.vflset/en_US/base.js\n"
     ]
    },
    {
     "name": "stdout",
     "output_type": "stream",
     "text": [
      "get random frame\n",
      "*1933-1934\n",
      "2GtRLNZBsWc\n",
      "yt-dlp -S res:720,ext:mp4,fps:24 -c --recode mp4 --download-sections *1933-1934 https://www.youtube.com/watch?v=2GtRLNZBsWc --output spamham_samples/2GtRLNZBsWc.mp4 --retries infinite --fragment-retries infinite && ffmpeg -i spamham_samples/2GtRLNZBsWc.mp4 -r 1 -vframes 1 -f image2 -q:v 1 spamham_samples/frames/2GtRLNZBsWc.%03d.jpeg -y && del spamham_samples\\2GtRLNZBsWc.mp4\n",
      "running donwload, extract, delete cmd...0\n",
      "add file to sources\n",
      "label frame\n",
      "|4FcsizPfsr8|\n",
      "get vid info\n",
      "[youtube] Extracting URL: https://www.youtube.com/watch?v=4FcsizPfsr8\n",
      "[youtube] 4FcsizPfsr8: Downloading webpage\n",
      "[youtube] 4FcsizPfsr8: Downloading android player API JSON\n"
     ]
    },
    {
     "name": "stderr",
     "output_type": "stream",
     "text": [
      "WARNING: [youtube] 4FcsizPfsr8: nsig extraction failed: You may experience throttling for some formats\n",
      "         Install PhantomJS to workaround the issue. Please download it from https://phantomjs.org/download.html\n",
      "         n = 0Kjm4HGFiy9E6f ; player = https://www.youtube.com/s/player/97ea7458/player_ias.vflset/en_US/base.js\n"
     ]
    },
    {
     "name": "stdout",
     "output_type": "stream",
     "text": [
      "get random frame\n",
      "*330-331\n",
      "4FcsizPfsr8\n",
      "yt-dlp -S res:720,ext:mp4,fps:24 -c --recode mp4 --download-sections *330-331 https://www.youtube.com/watch?v=4FcsizPfsr8 --output spamham_samples/4FcsizPfsr8.mp4 --retries infinite --fragment-retries infinite && ffmpeg -i spamham_samples/4FcsizPfsr8.mp4 -r 1 -vframes 1 -f image2 -q:v 1 spamham_samples/frames/4FcsizPfsr8.%03d.jpeg -y && del spamham_samples\\4FcsizPfsr8.mp4\n",
      "running donwload, extract, delete cmd...0\n",
      "add file to sources\n",
      "label frame\n",
      "|LTB0pU6P2Uc|\n",
      "get vid info\n",
      "[youtube] Extracting URL: https://www.youtube.com/watch?v=LTB0pU6P2Uc\n",
      "[youtube] LTB0pU6P2Uc: Downloading webpage\n",
      "[youtube] LTB0pU6P2Uc: Downloading android player API JSON\n"
     ]
    },
    {
     "name": "stderr",
     "output_type": "stream",
     "text": [
      "WARNING: [youtube] LTB0pU6P2Uc: nsig extraction failed: You may experience throttling for some formats\n",
      "         Install PhantomJS to workaround the issue. Please download it from https://phantomjs.org/download.html\n",
      "         n = meGD0lMV5yU21i ; player = https://www.youtube.com/s/player/97ea7458/player_ias.vflset/en_US/base.js\n"
     ]
    },
    {
     "name": "stdout",
     "output_type": "stream",
     "text": [
      "get random frame\n",
      "*1418-1419\n",
      "LTB0pU6P2Uc\n",
      "yt-dlp -S res:720,ext:mp4,fps:24 -c --recode mp4 --download-sections *1418-1419 https://www.youtube.com/watch?v=LTB0pU6P2Uc --output spamham_samples/LTB0pU6P2Uc.mp4 --retries infinite --fragment-retries infinite && ffmpeg -i spamham_samples/LTB0pU6P2Uc.mp4 -r 1 -vframes 1 -f image2 -q:v 1 spamham_samples/frames/LTB0pU6P2Uc.%03d.jpeg -y && del spamham_samples\\LTB0pU6P2Uc.mp4\n",
      "running donwload, extract, delete cmd...0\n",
      "add file to sources\n",
      "label frame\n",
      "|W_gFDJL0mHg|\n",
      "get vid info\n",
      "[youtube] Extracting URL: https://www.youtube.com/watch?v=W_gFDJL0mHg\n",
      "[youtube] W_gFDJL0mHg: Downloading webpage\n",
      "[youtube] W_gFDJL0mHg: Downloading android player API JSON\n"
     ]
    },
    {
     "name": "stderr",
     "output_type": "stream",
     "text": [
      "WARNING: [youtube] W_gFDJL0mHg: nsig extraction failed: You may experience throttling for some formats\n",
      "         Install PhantomJS to workaround the issue. Please download it from https://phantomjs.org/download.html\n",
      "         n = aGSbdjxb1Ma606 ; player = https://www.youtube.com/s/player/97ea7458/player_ias.vflset/en_US/base.js\n"
     ]
    },
    {
     "name": "stdout",
     "output_type": "stream",
     "text": [
      "get random frame\n",
      "*1242-1243\n",
      "W_gFDJL0mHg\n",
      "yt-dlp -S res:720,ext:mp4,fps:24 -c --recode mp4 --download-sections *1242-1243 https://www.youtube.com/watch?v=W_gFDJL0mHg --output spamham_samples/W_gFDJL0mHg.mp4 --retries infinite --fragment-retries infinite && ffmpeg -i spamham_samples/W_gFDJL0mHg.mp4 -r 1 -vframes 1 -f image2 -q:v 1 spamham_samples/frames/W_gFDJL0mHg.%03d.jpeg -y && del spamham_samples\\W_gFDJL0mHg.mp4\n",
      "running donwload, extract, delete cmd...0\n",
      "add file to sources\n",
      "label frame\n",
      "|enHLo35qbv0|\n",
      "get vid info\n",
      "[youtube] Extracting URL: https://www.youtube.com/watch?v=enHLo35qbv0\n",
      "[youtube] enHLo35qbv0: Downloading webpage\n",
      "[youtube] enHLo35qbv0: Downloading android player API JSON\n"
     ]
    },
    {
     "name": "stderr",
     "output_type": "stream",
     "text": [
      "WARNING: [youtube] enHLo35qbv0: nsig extraction failed: You may experience throttling for some formats\n",
      "         Install PhantomJS to workaround the issue. Please download it from https://phantomjs.org/download.html\n",
      "         n = fAVaaKOlXk2PNx ; player = https://www.youtube.com/s/player/97ea7458/player_ias.vflset/en_US/base.js\n"
     ]
    },
    {
     "name": "stdout",
     "output_type": "stream",
     "text": [
      "get random frame\n",
      "*1148-1149\n",
      "enHLo35qbv0\n",
      "yt-dlp -S res:720,ext:mp4,fps:24 -c --recode mp4 --download-sections *1148-1149 https://www.youtube.com/watch?v=enHLo35qbv0 --output spamham_samples/enHLo35qbv0.mp4 --retries infinite --fragment-retries infinite && ffmpeg -i spamham_samples/enHLo35qbv0.mp4 -r 1 -vframes 1 -f image2 -q:v 1 spamham_samples/frames/enHLo35qbv0.%03d.jpeg -y && del spamham_samples\\enHLo35qbv0.mp4\n",
      "running donwload, extract, delete cmd...0\n",
      "add file to sources\n",
      "label frame\n",
      "|doMq_Fpw1T8|\n",
      "get vid info\n",
      "[youtube] Extracting URL: https://www.youtube.com/watch?v=doMq_Fpw1T8\n",
      "[youtube] doMq_Fpw1T8: Downloading webpage\n",
      "[youtube] doMq_Fpw1T8: Downloading android player API JSON\n"
     ]
    },
    {
     "name": "stderr",
     "output_type": "stream",
     "text": [
      "WARNING: [youtube] doMq_Fpw1T8: nsig extraction failed: You may experience throttling for some formats\n",
      "         Install PhantomJS to workaround the issue. Please download it from https://phantomjs.org/download.html\n",
      "         n = cwJm-SPIIursjb ; player = https://www.youtube.com/s/player/97ea7458/player_ias.vflset/en_US/base.js\n"
     ]
    },
    {
     "name": "stdout",
     "output_type": "stream",
     "text": [
      "get random frame\n",
      "*1391-1392\n",
      "doMq_Fpw1T8\n",
      "yt-dlp -S res:720,ext:mp4,fps:24 -c --recode mp4 --download-sections *1391-1392 https://www.youtube.com/watch?v=doMq_Fpw1T8 --output spamham_samples/doMq_Fpw1T8.mp4 --retries infinite --fragment-retries infinite && ffmpeg -i spamham_samples/doMq_Fpw1T8.mp4 -r 1 -vframes 1 -f image2 -q:v 1 spamham_samples/frames/doMq_Fpw1T8.%03d.jpeg -y && del spamham_samples\\doMq_Fpw1T8.mp4\n",
      "running donwload, extract, delete cmd...0\n",
      "add file to sources\n",
      "label frame\n",
      "|JqqtEKMQpTI|\n",
      "get vid info\n",
      "[youtube] Extracting URL: https://www.youtube.com/watch?v=JqqtEKMQpTI\n",
      "[youtube] JqqtEKMQpTI: Downloading webpage\n",
      "[youtube] JqqtEKMQpTI: Downloading android player API JSON\n"
     ]
    },
    {
     "name": "stderr",
     "output_type": "stream",
     "text": [
      "WARNING: [youtube] JqqtEKMQpTI: nsig extraction failed: You may experience throttling for some formats\n",
      "         Install PhantomJS to workaround the issue. Please download it from https://phantomjs.org/download.html\n",
      "         n = 9EwGsiGbagTthq ; player = https://www.youtube.com/s/player/97ea7458/player_ias.vflset/en_US/base.js\n"
     ]
    },
    {
     "name": "stdout",
     "output_type": "stream",
     "text": [
      "get random frame\n",
      "*917-918\n",
      "JqqtEKMQpTI\n",
      "yt-dlp -S res:720,ext:mp4,fps:24 -c --recode mp4 --download-sections *917-918 https://www.youtube.com/watch?v=JqqtEKMQpTI --output spamham_samples/JqqtEKMQpTI.mp4 --retries infinite --fragment-retries infinite && ffmpeg -i spamham_samples/JqqtEKMQpTI.mp4 -r 1 -vframes 1 -f image2 -q:v 1 spamham_samples/frames/JqqtEKMQpTI.%03d.jpeg -y && del spamham_samples\\JqqtEKMQpTI.mp4\n",
      "running donwload, extract, delete cmd...0\n",
      "add file to sources\n",
      "label frame\n",
      "|aVf35WhDx1E|\n",
      "get vid info\n",
      "[youtube] Extracting URL: https://www.youtube.com/watch?v=aVf35WhDx1E\n",
      "[youtube] aVf35WhDx1E: Downloading webpage\n",
      "[youtube] aVf35WhDx1E: Downloading android player API JSON\n"
     ]
    },
    {
     "name": "stderr",
     "output_type": "stream",
     "text": [
      "WARNING: [youtube] aVf35WhDx1E: nsig extraction failed: You may experience throttling for some formats\n",
      "         Install PhantomJS to workaround the issue. Please download it from https://phantomjs.org/download.html\n",
      "         n = _gjqVXznMjEPTF ; player = https://www.youtube.com/s/player/97ea7458/player_ias.vflset/en_US/base.js\n"
     ]
    },
    {
     "name": "stdout",
     "output_type": "stream",
     "text": [
      "get random frame\n",
      "*524-525\n",
      "aVf35WhDx1E\n",
      "yt-dlp -S res:720,ext:mp4,fps:24 -c --recode mp4 --download-sections *524-525 https://www.youtube.com/watch?v=aVf35WhDx1E --output spamham_samples/aVf35WhDx1E.mp4 --retries infinite --fragment-retries infinite && ffmpeg -i spamham_samples/aVf35WhDx1E.mp4 -r 1 -vframes 1 -f image2 -q:v 1 spamham_samples/frames/aVf35WhDx1E.%03d.jpeg -y && del spamham_samples\\aVf35WhDx1E.mp4\n",
      "running donwload, extract, delete cmd...0\n",
      "add file to sources\n",
      "label frame\n",
      "|0cnt0cEYlRA|\n",
      "get vid info\n",
      "[youtube] Extracting URL: https://www.youtube.com/watch?v=0cnt0cEYlRA\n",
      "[youtube] 0cnt0cEYlRA: Downloading webpage\n",
      "[youtube] 0cnt0cEYlRA: Downloading android player API JSON\n"
     ]
    },
    {
     "name": "stderr",
     "output_type": "stream",
     "text": [
      "WARNING: [youtube] 0cnt0cEYlRA: nsig extraction failed: You may experience throttling for some formats\n",
      "         Install PhantomJS to workaround the issue. Please download it from https://phantomjs.org/download.html\n",
      "         n = IMzf-Jd9_E44sh ; player = https://www.youtube.com/s/player/97ea7458/player_ias.vflset/en_US/base.js\n"
     ]
    },
    {
     "name": "stdout",
     "output_type": "stream",
     "text": [
      "get random frame\n",
      "*671-672\n",
      "0cnt0cEYlRA\n",
      "yt-dlp -S res:720,ext:mp4,fps:24 -c --recode mp4 --download-sections *671-672 https://www.youtube.com/watch?v=0cnt0cEYlRA --output spamham_samples/0cnt0cEYlRA.mp4 --retries infinite --fragment-retries infinite && ffmpeg -i spamham_samples/0cnt0cEYlRA.mp4 -r 1 -vframes 1 -f image2 -q:v 1 spamham_samples/frames/0cnt0cEYlRA.%03d.jpeg -y && del spamham_samples\\0cnt0cEYlRA.mp4\n",
      "running donwload, extract, delete cmd...0\n",
      "add file to sources\n",
      "label frame\n",
      "|GwXfVoMwv2o|\n",
      "get vid info\n",
      "[youtube] Extracting URL: https://www.youtube.com/watch?v=GwXfVoMwv2o\n",
      "[youtube] GwXfVoMwv2o: Downloading webpage\n",
      "[youtube] GwXfVoMwv2o: Downloading android player API JSON\n"
     ]
    },
    {
     "name": "stderr",
     "output_type": "stream",
     "text": [
      "WARNING: [youtube] GwXfVoMwv2o: nsig extraction failed: You may experience throttling for some formats\n",
      "         Install PhantomJS to workaround the issue. Please download it from https://phantomjs.org/download.html\n",
      "         n = uHzgRE_FSQ5ebI ; player = https://www.youtube.com/s/player/97ea7458/player_ias.vflset/en_US/base.js\n"
     ]
    },
    {
     "name": "stdout",
     "output_type": "stream",
     "text": [
      "get random frame\n",
      "*945-946\n",
      "GwXfVoMwv2o\n",
      "yt-dlp -S res:720,ext:mp4,fps:24 -c --recode mp4 --download-sections *945-946 https://www.youtube.com/watch?v=GwXfVoMwv2o --output spamham_samples/GwXfVoMwv2o.mp4 --retries infinite --fragment-retries infinite && ffmpeg -i spamham_samples/GwXfVoMwv2o.mp4 -r 1 -vframes 1 -f image2 -q:v 1 spamham_samples/frames/GwXfVoMwv2o.%03d.jpeg -y && del spamham_samples\\GwXfVoMwv2o.mp4\n",
      "running donwload, extract, delete cmd...0\n",
      "add file to sources\n",
      "label frame\n",
      "|6CA6kQaH6GY|\n",
      "get vid info\n",
      "[youtube] Extracting URL: https://www.youtube.com/watch?v=6CA6kQaH6GY\n",
      "[youtube] 6CA6kQaH6GY: Downloading webpage\n",
      "[youtube] 6CA6kQaH6GY: Downloading android player API JSON\n"
     ]
    },
    {
     "name": "stderr",
     "output_type": "stream",
     "text": [
      "WARNING: [youtube] 6CA6kQaH6GY: nsig extraction failed: You may experience throttling for some formats\n",
      "         Install PhantomJS to workaround the issue. Please download it from https://phantomjs.org/download.html\n",
      "         n = jwCef75NCTlz0a ; player = https://www.youtube.com/s/player/97ea7458/player_ias.vflset/en_US/base.js\n"
     ]
    },
    {
     "name": "stdout",
     "output_type": "stream",
     "text": [
      "get random frame\n",
      "*991-992\n",
      "6CA6kQaH6GY\n",
      "yt-dlp -S res:720,ext:mp4,fps:24 -c --recode mp4 --download-sections *991-992 https://www.youtube.com/watch?v=6CA6kQaH6GY --output spamham_samples/6CA6kQaH6GY.mp4 --retries infinite --fragment-retries infinite && ffmpeg -i spamham_samples/6CA6kQaH6GY.mp4 -r 1 -vframes 1 -f image2 -q:v 1 spamham_samples/frames/6CA6kQaH6GY.%03d.jpeg -y && del spamham_samples\\6CA6kQaH6GY.mp4\n",
      "running donwload, extract, delete cmd...0\n",
      "add file to sources\n",
      "label frame\n",
      "|B_FcUmUfw7o|\n",
      "get vid info\n",
      "[youtube] Extracting URL: https://www.youtube.com/watch?v=B_FcUmUfw7o\n",
      "[youtube] B_FcUmUfw7o: Downloading webpage\n",
      "[youtube] B_FcUmUfw7o: Downloading android player API JSON\n"
     ]
    },
    {
     "name": "stderr",
     "output_type": "stream",
     "text": [
      "WARNING: [youtube] B_FcUmUfw7o: nsig extraction failed: You may experience throttling for some formats\n",
      "         Install PhantomJS to workaround the issue. Please download it from https://phantomjs.org/download.html\n",
      "         n = iM_u2b-1uQaiLM ; player = https://www.youtube.com/s/player/97ea7458/player_ias.vflset/en_US/base.js\n"
     ]
    },
    {
     "name": "stdout",
     "output_type": "stream",
     "text": [
      "get random frame\n",
      "*1096-1097\n",
      "B_FcUmUfw7o\n",
      "yt-dlp -S res:720,ext:mp4,fps:24 -c --recode mp4 --download-sections *1096-1097 https://www.youtube.com/watch?v=B_FcUmUfw7o --output spamham_samples/B_FcUmUfw7o.mp4 --retries infinite --fragment-retries infinite && ffmpeg -i spamham_samples/B_FcUmUfw7o.mp4 -r 1 -vframes 1 -f image2 -q:v 1 spamham_samples/frames/B_FcUmUfw7o.%03d.jpeg -y && del spamham_samples\\B_FcUmUfw7o.mp4\n",
      "running donwload, extract, delete cmd...0\n",
      "add file to sources\n",
      "label frame\n",
      "|REXfBMLbv0Q|\n",
      "get vid info\n",
      "[youtube] Extracting URL: https://www.youtube.com/watch?v=REXfBMLbv0Q\n",
      "[youtube] REXfBMLbv0Q: Downloading webpage\n",
      "[youtube] REXfBMLbv0Q: Downloading android player API JSON\n"
     ]
    },
    {
     "name": "stderr",
     "output_type": "stream",
     "text": [
      "WARNING: [youtube] REXfBMLbv0Q: nsig extraction failed: You may experience throttling for some formats\n",
      "         Install PhantomJS to workaround the issue. Please download it from https://phantomjs.org/download.html\n",
      "         n = MMZomo3KsG38Rf ; player = https://www.youtube.com/s/player/97ea7458/player_ias.vflset/en_US/base.js\n"
     ]
    },
    {
     "name": "stdout",
     "output_type": "stream",
     "text": [
      "get random frame\n",
      "*487-488\n",
      "REXfBMLbv0Q\n",
      "yt-dlp -S res:720,ext:mp4,fps:24 -c --recode mp4 --download-sections *487-488 https://www.youtube.com/watch?v=REXfBMLbv0Q --output spamham_samples/REXfBMLbv0Q.mp4 --retries infinite --fragment-retries infinite && ffmpeg -i spamham_samples/REXfBMLbv0Q.mp4 -r 1 -vframes 1 -f image2 -q:v 1 spamham_samples/frames/REXfBMLbv0Q.%03d.jpeg -y && del spamham_samples\\REXfBMLbv0Q.mp4\n",
      "running donwload, extract, delete cmd...0\n",
      "add file to sources\n",
      "label frame\n",
      "|r2oHpXccrmM|\n",
      "get vid info\n",
      "[youtube] Extracting URL: https://www.youtube.com/watch?v=r2oHpXccrmM\n",
      "[youtube] r2oHpXccrmM: Downloading webpage\n",
      "[youtube] r2oHpXccrmM: Downloading android player API JSON\n"
     ]
    },
    {
     "name": "stderr",
     "output_type": "stream",
     "text": [
      "WARNING: [youtube] r2oHpXccrmM: nsig extraction failed: You may experience throttling for some formats\n",
      "         Install PhantomJS to workaround the issue. Please download it from https://phantomjs.org/download.html\n",
      "         n = wU8PS7J_0nOQN0 ; player = https://www.youtube.com/s/player/97ea7458/player_ias.vflset/en_US/base.js\n"
     ]
    },
    {
     "name": "stdout",
     "output_type": "stream",
     "text": [
      "get random frame\n",
      "*1225-1226\n",
      "r2oHpXccrmM\n",
      "yt-dlp -S res:720,ext:mp4,fps:24 -c --recode mp4 --download-sections *1225-1226 https://www.youtube.com/watch?v=r2oHpXccrmM --output spamham_samples/r2oHpXccrmM.mp4 --retries infinite --fragment-retries infinite && ffmpeg -i spamham_samples/r2oHpXccrmM.mp4 -r 1 -vframes 1 -f image2 -q:v 1 spamham_samples/frames/r2oHpXccrmM.%03d.jpeg -y && del spamham_samples\\r2oHpXccrmM.mp4\n",
      "running donwload, extract, delete cmd...0\n",
      "add file to sources\n",
      "label frame\n",
      "|ztSdBdEoElk|\n",
      "get vid info\n",
      "[youtube] Extracting URL: https://www.youtube.com/watch?v=ztSdBdEoElk\n",
      "[youtube] ztSdBdEoElk: Downloading webpage\n",
      "[youtube] ztSdBdEoElk: Downloading android player API JSON\n"
     ]
    },
    {
     "name": "stderr",
     "output_type": "stream",
     "text": [
      "WARNING: [youtube] ztSdBdEoElk: nsig extraction failed: You may experience throttling for some formats\n",
      "         Install PhantomJS to workaround the issue. Please download it from https://phantomjs.org/download.html\n",
      "         n = 2mKlSeJqrebW-8 ; player = https://www.youtube.com/s/player/97ea7458/player_ias.vflset/en_US/base.js\n"
     ]
    },
    {
     "name": "stdout",
     "output_type": "stream",
     "text": [
      "get random frame\n",
      "*1127-1128\n",
      "ztSdBdEoElk\n",
      "yt-dlp -S res:720,ext:mp4,fps:24 -c --recode mp4 --download-sections *1127-1128 https://www.youtube.com/watch?v=ztSdBdEoElk --output spamham_samples/ztSdBdEoElk.mp4 --retries infinite --fragment-retries infinite && ffmpeg -i spamham_samples/ztSdBdEoElk.mp4 -r 1 -vframes 1 -f image2 -q:v 1 spamham_samples/frames/ztSdBdEoElk.%03d.jpeg -y && del spamham_samples\\ztSdBdEoElk.mp4\n",
      "running donwload, extract, delete cmd...0\n",
      "add file to sources\n",
      "label frame\n",
      "|2lUGIiVe0x8|\n",
      "get vid info\n",
      "[youtube] Extracting URL: https://www.youtube.com/watch?v=2lUGIiVe0x8\n",
      "[youtube] 2lUGIiVe0x8: Downloading webpage\n",
      "[youtube] 2lUGIiVe0x8: Downloading android player API JSON\n"
     ]
    },
    {
     "name": "stderr",
     "output_type": "stream",
     "text": [
      "WARNING: [youtube] 2lUGIiVe0x8: nsig extraction failed: You may experience throttling for some formats\n",
      "         Install PhantomJS to workaround the issue. Please download it from https://phantomjs.org/download.html\n",
      "         n = aN96_5X4ro_6xe ; player = https://www.youtube.com/s/player/97ea7458/player_ias.vflset/en_US/base.js\n"
     ]
    },
    {
     "name": "stdout",
     "output_type": "stream",
     "text": [
      "get random frame\n",
      "*546-547\n",
      "2lUGIiVe0x8\n",
      "yt-dlp -S res:720,ext:mp4,fps:24 -c --recode mp4 --download-sections *546-547 https://www.youtube.com/watch?v=2lUGIiVe0x8 --output spamham_samples/2lUGIiVe0x8.mp4 --retries infinite --fragment-retries infinite && ffmpeg -i spamham_samples/2lUGIiVe0x8.mp4 -r 1 -vframes 1 -f image2 -q:v 1 spamham_samples/frames/2lUGIiVe0x8.%03d.jpeg -y && del spamham_samples\\2lUGIiVe0x8.mp4\n",
      "running donwload, extract, delete cmd...0\n",
      "add file to sources\n",
      "label frame\n",
      "|MWJLLNBRQ9Q|\n",
      "get vid info\n",
      "[youtube] Extracting URL: https://www.youtube.com/watch?v=MWJLLNBRQ9Q\n",
      "[youtube] MWJLLNBRQ9Q: Downloading webpage\n",
      "[youtube] MWJLLNBRQ9Q: Downloading android player API JSON\n"
     ]
    },
    {
     "name": "stderr",
     "output_type": "stream",
     "text": [
      "WARNING: [youtube] MWJLLNBRQ9Q: nsig extraction failed: You may experience throttling for some formats\n",
      "         Install PhantomJS to workaround the issue. Please download it from https://phantomjs.org/download.html\n",
      "         n = FrnO2YWOaBA143 ; player = https://www.youtube.com/s/player/97ea7458/player_ias.vflset/en_US/base.js\n"
     ]
    },
    {
     "name": "stdout",
     "output_type": "stream",
     "text": [
      "get random frame\n",
      "*1164-1165\n",
      "MWJLLNBRQ9Q\n",
      "yt-dlp -S res:720,ext:mp4,fps:24 -c --recode mp4 --download-sections *1164-1165 https://www.youtube.com/watch?v=MWJLLNBRQ9Q --output spamham_samples/MWJLLNBRQ9Q.mp4 --retries infinite --fragment-retries infinite && ffmpeg -i spamham_samples/MWJLLNBRQ9Q.mp4 -r 1 -vframes 1 -f image2 -q:v 1 spamham_samples/frames/MWJLLNBRQ9Q.%03d.jpeg -y && del spamham_samples\\MWJLLNBRQ9Q.mp4\n",
      "running donwload, extract, delete cmd...0\n",
      "add file to sources\n",
      "label frame\n",
      "|qXgjah6cEC4|\n",
      "get vid info\n",
      "[youtube] Extracting URL: https://www.youtube.com/watch?v=qXgjah6cEC4\n",
      "[youtube] qXgjah6cEC4: Downloading webpage\n",
      "[youtube] qXgjah6cEC4: Downloading android player API JSON\n"
     ]
    },
    {
     "name": "stderr",
     "output_type": "stream",
     "text": [
      "WARNING: [youtube] qXgjah6cEC4: nsig extraction failed: You may experience throttling for some formats\n",
      "         Install PhantomJS to workaround the issue. Please download it from https://phantomjs.org/download.html\n",
      "         n = siCCXaIvKgvctJ ; player = https://www.youtube.com/s/player/97ea7458/player_ias.vflset/en_US/base.js\n"
     ]
    },
    {
     "name": "stdout",
     "output_type": "stream",
     "text": [
      "get random frame\n",
      "*239-240\n",
      "qXgjah6cEC4\n",
      "yt-dlp -S res:720,ext:mp4,fps:24 -c --recode mp4 --download-sections *239-240 https://www.youtube.com/watch?v=qXgjah6cEC4 --output spamham_samples/qXgjah6cEC4.mp4 --retries infinite --fragment-retries infinite && ffmpeg -i spamham_samples/qXgjah6cEC4.mp4 -r 1 -vframes 1 -f image2 -q:v 1 spamham_samples/frames/qXgjah6cEC4.%03d.jpeg -y && del spamham_samples\\qXgjah6cEC4.mp4\n",
      "running donwload, extract, delete cmd...0\n",
      "add file to sources\n",
      "label frame\n",
      "|4ASMDJZ5E9o|\n",
      "get vid info\n",
      "[youtube] Extracting URL: https://www.youtube.com/watch?v=4ASMDJZ5E9o\n",
      "[youtube] 4ASMDJZ5E9o: Downloading webpage\n",
      "[youtube] 4ASMDJZ5E9o: Downloading android player API JSON\n"
     ]
    },
    {
     "name": "stderr",
     "output_type": "stream",
     "text": [
      "WARNING: [youtube] 4ASMDJZ5E9o: nsig extraction failed: You may experience throttling for some formats\n",
      "         Install PhantomJS to workaround the issue. Please download it from https://phantomjs.org/download.html\n",
      "         n = pibvf1DbsOi51D ; player = https://www.youtube.com/s/player/97ea7458/player_ias.vflset/en_US/base.js\n"
     ]
    },
    {
     "name": "stdout",
     "output_type": "stream",
     "text": [
      "get random frame\n",
      "*1621-1622\n",
      "4ASMDJZ5E9o\n",
      "yt-dlp -S res:720,ext:mp4,fps:24 -c --recode mp4 --download-sections *1621-1622 https://www.youtube.com/watch?v=4ASMDJZ5E9o --output spamham_samples/4ASMDJZ5E9o.mp4 --retries infinite --fragment-retries infinite && ffmpeg -i spamham_samples/4ASMDJZ5E9o.mp4 -r 1 -vframes 1 -f image2 -q:v 1 spamham_samples/frames/4ASMDJZ5E9o.%03d.jpeg -y && del spamham_samples\\4ASMDJZ5E9o.mp4\n",
      "running donwload, extract, delete cmd...0\n",
      "add file to sources\n",
      "label frame\n",
      "|s3Q_JamW1AQ|\n",
      "get vid info\n",
      "[youtube] Extracting URL: https://www.youtube.com/watch?v=s3Q_JamW1AQ\n",
      "[youtube] s3Q_JamW1AQ: Downloading webpage\n",
      "[youtube] s3Q_JamW1AQ: Downloading android player API JSON\n"
     ]
    },
    {
     "name": "stderr",
     "output_type": "stream",
     "text": [
      "WARNING: [youtube] s3Q_JamW1AQ: nsig extraction failed: You may experience throttling for some formats\n",
      "         Install PhantomJS to workaround the issue. Please download it from https://phantomjs.org/download.html\n",
      "         n = rWJLOj5JiOYriW ; player = https://www.youtube.com/s/player/97ea7458/player_ias.vflset/en_US/base.js\n"
     ]
    },
    {
     "name": "stdout",
     "output_type": "stream",
     "text": [
      "get random frame\n",
      "*2019-2020\n",
      "s3Q_JamW1AQ\n",
      "yt-dlp -S res:720,ext:mp4,fps:24 -c --recode mp4 --download-sections *2019-2020 https://www.youtube.com/watch?v=s3Q_JamW1AQ --output spamham_samples/s3Q_JamW1AQ.mp4 --retries infinite --fragment-retries infinite && ffmpeg -i spamham_samples/s3Q_JamW1AQ.mp4 -r 1 -vframes 1 -f image2 -q:v 1 spamham_samples/frames/s3Q_JamW1AQ.%03d.jpeg -y && del spamham_samples\\s3Q_JamW1AQ.mp4\n",
      "running donwload, extract, delete cmd...0\n",
      "add file to sources\n",
      "label frame\n",
      "|v85t6bxmoUM|\n",
      "get vid info\n",
      "[youtube] Extracting URL: https://www.youtube.com/watch?v=v85t6bxmoUM\n",
      "[youtube] v85t6bxmoUM: Downloading webpage\n",
      "[youtube] v85t6bxmoUM: Downloading android player API JSON\n"
     ]
    },
    {
     "name": "stderr",
     "output_type": "stream",
     "text": [
      "WARNING: [youtube] v85t6bxmoUM: nsig extraction failed: You may experience throttling for some formats\n",
      "         Install PhantomJS to workaround the issue. Please download it from https://phantomjs.org/download.html\n",
      "         n = K0nlomFJEdBaH- ; player = https://www.youtube.com/s/player/97ea7458/player_ias.vflset/en_US/base.js\n"
     ]
    },
    {
     "name": "stdout",
     "output_type": "stream",
     "text": [
      "get random frame\n",
      "*2639-2640\n",
      "v85t6bxmoUM\n",
      "yt-dlp -S res:720,ext:mp4,fps:24 -c --recode mp4 --download-sections *2639-2640 https://www.youtube.com/watch?v=v85t6bxmoUM --output spamham_samples/v85t6bxmoUM.mp4 --retries infinite --fragment-retries infinite && ffmpeg -i spamham_samples/v85t6bxmoUM.mp4 -r 1 -vframes 1 -f image2 -q:v 1 spamham_samples/frames/v85t6bxmoUM.%03d.jpeg -y && del spamham_samples\\v85t6bxmoUM.mp4\n",
      "running donwload, extract, delete cmd...0\n",
      "add file to sources\n",
      "label frame\n",
      "|7HxHEYi4gco|\n",
      "get vid info\n",
      "[youtube] Extracting URL: https://www.youtube.com/watch?v=7HxHEYi4gco\n",
      "[youtube] 7HxHEYi4gco: Downloading webpage\n",
      "[youtube] 7HxHEYi4gco: Downloading android player API JSON\n"
     ]
    },
    {
     "name": "stderr",
     "output_type": "stream",
     "text": [
      "WARNING: [youtube] 7HxHEYi4gco: nsig extraction failed: You may experience throttling for some formats\n",
      "         Install PhantomJS to workaround the issue. Please download it from https://phantomjs.org/download.html\n",
      "         n = GOah1ZFU8nXWyg ; player = https://www.youtube.com/s/player/97ea7458/player_ias.vflset/en_US/base.js\n"
     ]
    },
    {
     "name": "stdout",
     "output_type": "stream",
     "text": [
      "get random frame\n",
      "*1787-1788\n",
      "7HxHEYi4gco\n",
      "yt-dlp -S res:720,ext:mp4,fps:24 -c --recode mp4 --download-sections *1787-1788 https://www.youtube.com/watch?v=7HxHEYi4gco --output spamham_samples/7HxHEYi4gco.mp4 --retries infinite --fragment-retries infinite && ffmpeg -i spamham_samples/7HxHEYi4gco.mp4 -r 1 -vframes 1 -f image2 -q:v 1 spamham_samples/frames/7HxHEYi4gco.%03d.jpeg -y && del spamham_samples\\7HxHEYi4gco.mp4\n",
      "running donwload, extract, delete cmd...0\n",
      "add file to sources\n",
      "label frame\n",
      "|o-pGgzwJe0g|\n",
      "get vid info\n",
      "[youtube] Extracting URL: https://www.youtube.com/watch?v=o-pGgzwJe0g\n",
      "[youtube] o-pGgzwJe0g: Downloading webpage\n",
      "[youtube] o-pGgzwJe0g: Downloading android player API JSON\n"
     ]
    },
    {
     "name": "stderr",
     "output_type": "stream",
     "text": [
      "WARNING: [youtube] o-pGgzwJe0g: nsig extraction failed: You may experience throttling for some formats\n",
      "         Install PhantomJS to workaround the issue. Please download it from https://phantomjs.org/download.html\n",
      "         n = qILYv73VP7OamH ; player = https://www.youtube.com/s/player/97ea7458/player_ias.vflset/en_US/base.js\n"
     ]
    },
    {
     "name": "stdout",
     "output_type": "stream",
     "text": [
      "get random frame\n",
      "*2268-2269\n",
      "o-pGgzwJe0g\n",
      "yt-dlp -S res:720,ext:mp4,fps:24 -c --recode mp4 --download-sections *2268-2269 https://www.youtube.com/watch?v=o-pGgzwJe0g --output spamham_samples/o-pGgzwJe0g.mp4 --retries infinite --fragment-retries infinite && ffmpeg -i spamham_samples/o-pGgzwJe0g.mp4 -r 1 -vframes 1 -f image2 -q:v 1 spamham_samples/frames/o-pGgzwJe0g.%03d.jpeg -y && del spamham_samples\\o-pGgzwJe0g.mp4\n",
      "running donwload, extract, delete cmd...0\n",
      "add file to sources\n",
      "label frame\n",
      "|vPt3uYNTnCI|\n",
      "get vid info\n",
      "[youtube] Extracting URL: https://www.youtube.com/watch?v=vPt3uYNTnCI\n",
      "[youtube] vPt3uYNTnCI: Downloading webpage\n",
      "[youtube] vPt3uYNTnCI: Downloading android player API JSON\n"
     ]
    },
    {
     "name": "stderr",
     "output_type": "stream",
     "text": [
      "WARNING: [youtube] vPt3uYNTnCI: nsig extraction failed: You may experience throttling for some formats\n",
      "         Install PhantomJS to workaround the issue. Please download it from https://phantomjs.org/download.html\n",
      "         n = _8_S7wOhiTtPVQ ; player = https://www.youtube.com/s/player/97ea7458/player_ias.vflset/en_US/base.js\n"
     ]
    },
    {
     "name": "stdout",
     "output_type": "stream",
     "text": [
      "get random frame\n",
      "*1866-1867\n",
      "vPt3uYNTnCI\n",
      "yt-dlp -S res:720,ext:mp4,fps:24 -c --recode mp4 --download-sections *1866-1867 https://www.youtube.com/watch?v=vPt3uYNTnCI --output spamham_samples/vPt3uYNTnCI.mp4 --retries infinite --fragment-retries infinite && ffmpeg -i spamham_samples/vPt3uYNTnCI.mp4 -r 1 -vframes 1 -f image2 -q:v 1 spamham_samples/frames/vPt3uYNTnCI.%03d.jpeg -y && del spamham_samples\\vPt3uYNTnCI.mp4\n",
      "running donwload, extract, delete cmd...0\n",
      "add file to sources\n",
      "label frame\n",
      "|gguS4bxNAuY|\n",
      "get vid info\n",
      "[youtube] Extracting URL: https://www.youtube.com/watch?v=gguS4bxNAuY\n",
      "[youtube] gguS4bxNAuY: Downloading webpage\n",
      "[youtube] gguS4bxNAuY: Downloading android player API JSON\n"
     ]
    },
    {
     "name": "stderr",
     "output_type": "stream",
     "text": [
      "WARNING: [youtube] gguS4bxNAuY: nsig extraction failed: You may experience throttling for some formats\n",
      "         Install PhantomJS to workaround the issue. Please download it from https://phantomjs.org/download.html\n",
      "         n = Qf-ko8ejkC-Qf9 ; player = https://www.youtube.com/s/player/97ea7458/player_ias.vflset/en_US/base.js\n"
     ]
    },
    {
     "name": "stdout",
     "output_type": "stream",
     "text": [
      "get random frame\n",
      "*1894-1895\n",
      "gguS4bxNAuY\n",
      "yt-dlp -S res:720,ext:mp4,fps:24 -c --recode mp4 --download-sections *1894-1895 https://www.youtube.com/watch?v=gguS4bxNAuY --output spamham_samples/gguS4bxNAuY.mp4 --retries infinite --fragment-retries infinite && ffmpeg -i spamham_samples/gguS4bxNAuY.mp4 -r 1 -vframes 1 -f image2 -q:v 1 spamham_samples/frames/gguS4bxNAuY.%03d.jpeg -y && del spamham_samples\\gguS4bxNAuY.mp4\n",
      "running donwload, extract, delete cmd...0\n",
      "add file to sources\n",
      "label frame\n",
      "|4ZonT7CO8Tc|\n",
      "get vid info\n",
      "[youtube] Extracting URL: https://www.youtube.com/watch?v=4ZonT7CO8Tc\n",
      "[youtube] 4ZonT7CO8Tc: Downloading webpage\n",
      "[youtube] 4ZonT7CO8Tc: Downloading android player API JSON\n"
     ]
    },
    {
     "name": "stderr",
     "output_type": "stream",
     "text": [
      "WARNING: [youtube] 4ZonT7CO8Tc: nsig extraction failed: You may experience throttling for some formats\n",
      "         Install PhantomJS to workaround the issue. Please download it from https://phantomjs.org/download.html\n",
      "         n = 2h4vW8f8c-F27X ; player = https://www.youtube.com/s/player/97ea7458/player_ias.vflset/en_US/base.js\n"
     ]
    },
    {
     "name": "stdout",
     "output_type": "stream",
     "text": [
      "get random frame\n",
      "*243-244\n",
      "4ZonT7CO8Tc\n",
      "yt-dlp -S res:720,ext:mp4,fps:24 -c --recode mp4 --download-sections *243-244 https://www.youtube.com/watch?v=4ZonT7CO8Tc --output spamham_samples/4ZonT7CO8Tc.mp4 --retries infinite --fragment-retries infinite && ffmpeg -i spamham_samples/4ZonT7CO8Tc.mp4 -r 1 -vframes 1 -f image2 -q:v 1 spamham_samples/frames/4ZonT7CO8Tc.%03d.jpeg -y && del spamham_samples\\4ZonT7CO8Tc.mp4\n",
      "running donwload, extract, delete cmd...0\n",
      "add file to sources\n",
      "label frame\n",
      "|9Fqz12WVlOI|\n",
      "get vid info\n",
      "[youtube] Extracting URL: https://www.youtube.com/watch?v=9Fqz12WVlOI\n",
      "[youtube] 9Fqz12WVlOI: Downloading webpage\n",
      "[youtube] 9Fqz12WVlOI: Downloading android player API JSON\n"
     ]
    },
    {
     "name": "stderr",
     "output_type": "stream",
     "text": [
      "WARNING: [youtube] 9Fqz12WVlOI: nsig extraction failed: You may experience throttling for some formats\n",
      "         Install PhantomJS to workaround the issue. Please download it from https://phantomjs.org/download.html\n",
      "         n = IhzZRCTt7lFoCX ; player = https://www.youtube.com/s/player/97ea7458/player_ias.vflset/en_US/base.js\n"
     ]
    },
    {
     "name": "stdout",
     "output_type": "stream",
     "text": [
      "get random frame\n",
      "*2139-2140\n",
      "9Fqz12WVlOI\n",
      "yt-dlp -S res:720,ext:mp4,fps:24 -c --recode mp4 --download-sections *2139-2140 https://www.youtube.com/watch?v=9Fqz12WVlOI --output spamham_samples/9Fqz12WVlOI.mp4 --retries infinite --fragment-retries infinite && ffmpeg -i spamham_samples/9Fqz12WVlOI.mp4 -r 1 -vframes 1 -f image2 -q:v 1 spamham_samples/frames/9Fqz12WVlOI.%03d.jpeg -y && del spamham_samples\\9Fqz12WVlOI.mp4\n",
      "running donwload, extract, delete cmd...0\n",
      "add file to sources\n",
      "label frame\n",
      "|nxn0p3OCWaU|\n",
      "get vid info\n",
      "[youtube] Extracting URL: https://www.youtube.com/watch?v=nxn0p3OCWaU\n",
      "[youtube] nxn0p3OCWaU: Downloading webpage\n",
      "[youtube] nxn0p3OCWaU: Downloading android player API JSON\n"
     ]
    },
    {
     "name": "stderr",
     "output_type": "stream",
     "text": [
      "WARNING: [youtube] nxn0p3OCWaU: nsig extraction failed: You may experience throttling for some formats\n",
      "         Install PhantomJS to workaround the issue. Please download it from https://phantomjs.org/download.html\n",
      "         n = cMfVJYvwKdJMM- ; player = https://www.youtube.com/s/player/97ea7458/player_ias.vflset/en_US/base.js\n"
     ]
    },
    {
     "name": "stdout",
     "output_type": "stream",
     "text": [
      "get random frame\n",
      "*618-619\n",
      "nxn0p3OCWaU\n",
      "yt-dlp -S res:720,ext:mp4,fps:24 -c --recode mp4 --download-sections *618-619 https://www.youtube.com/watch?v=nxn0p3OCWaU --output spamham_samples/nxn0p3OCWaU.mp4 --retries infinite --fragment-retries infinite && ffmpeg -i spamham_samples/nxn0p3OCWaU.mp4 -r 1 -vframes 1 -f image2 -q:v 1 spamham_samples/frames/nxn0p3OCWaU.%03d.jpeg -y && del spamham_samples\\nxn0p3OCWaU.mp4\n",
      "running donwload, extract, delete cmd...0\n",
      "add file to sources\n",
      "label frame\n",
      "|jQJVQq-a8t4|\n",
      "get vid info\n",
      "[youtube] Extracting URL: https://www.youtube.com/watch?v=jQJVQq-a8t4\n",
      "[youtube] jQJVQq-a8t4: Downloading webpage\n",
      "[youtube] jQJVQq-a8t4: Downloading android player API JSON\n"
     ]
    },
    {
     "name": "stderr",
     "output_type": "stream",
     "text": [
      "WARNING: [youtube] jQJVQq-a8t4: nsig extraction failed: You may experience throttling for some formats\n",
      "         Install PhantomJS to workaround the issue. Please download it from https://phantomjs.org/download.html\n",
      "         n = p25d3k0DDvQ5Dv ; player = https://www.youtube.com/s/player/97ea7458/player_ias.vflset/en_US/base.js\n"
     ]
    },
    {
     "name": "stdout",
     "output_type": "stream",
     "text": [
      "get random frame\n",
      "*2280-2281\n",
      "jQJVQq-a8t4\n",
      "yt-dlp -S res:720,ext:mp4,fps:24 -c --recode mp4 --download-sections *2280-2281 https://www.youtube.com/watch?v=jQJVQq-a8t4 --output spamham_samples/jQJVQq-a8t4.mp4 --retries infinite --fragment-retries infinite && ffmpeg -i spamham_samples/jQJVQq-a8t4.mp4 -r 1 -vframes 1 -f image2 -q:v 1 spamham_samples/frames/jQJVQq-a8t4.%03d.jpeg -y && del spamham_samples\\jQJVQq-a8t4.mp4\n",
      "running donwload, extract, delete cmd...0\n",
      "add file to sources\n",
      "label frame\n",
      "|9UMWHDDZs_U|\n",
      "get vid info\n",
      "[youtube] Extracting URL: https://www.youtube.com/watch?v=9UMWHDDZs_U\n",
      "[youtube] 9UMWHDDZs_U: Downloading webpage\n",
      "[youtube] 9UMWHDDZs_U: Downloading android player API JSON\n"
     ]
    },
    {
     "name": "stderr",
     "output_type": "stream",
     "text": [
      "WARNING: [youtube] 9UMWHDDZs_U: nsig extraction failed: You may experience throttling for some formats\n",
      "         Install PhantomJS to workaround the issue. Please download it from https://phantomjs.org/download.html\n",
      "         n = KSoWQSpNKIVaAp ; player = https://www.youtube.com/s/player/97ea7458/player_ias.vflset/en_US/base.js\n"
     ]
    },
    {
     "name": "stdout",
     "output_type": "stream",
     "text": [
      "get random frame\n",
      "*591-592\n",
      "9UMWHDDZs_U\n",
      "yt-dlp -S res:720,ext:mp4,fps:24 -c --recode mp4 --download-sections *591-592 https://www.youtube.com/watch?v=9UMWHDDZs_U --output spamham_samples/9UMWHDDZs_U.mp4 --retries infinite --fragment-retries infinite && ffmpeg -i spamham_samples/9UMWHDDZs_U.mp4 -r 1 -vframes 1 -f image2 -q:v 1 spamham_samples/frames/9UMWHDDZs_U.%03d.jpeg -y && del spamham_samples\\9UMWHDDZs_U.mp4\n",
      "running donwload, extract, delete cmd...0\n",
      "add file to sources\n",
      "label frame\n",
      "|BqrQQsDUt7o|\n",
      "get vid info\n",
      "[youtube] Extracting URL: https://www.youtube.com/watch?v=BqrQQsDUt7o\n",
      "[youtube] BqrQQsDUt7o: Downloading webpage\n",
      "[youtube] BqrQQsDUt7o: Downloading android player API JSON\n"
     ]
    },
    {
     "name": "stderr",
     "output_type": "stream",
     "text": [
      "WARNING: [youtube] BqrQQsDUt7o: nsig extraction failed: You may experience throttling for some formats\n",
      "         Install PhantomJS to workaround the issue. Please download it from https://phantomjs.org/download.html\n",
      "         n = Ka1BwHnHffX6TD ; player = https://www.youtube.com/s/player/97ea7458/player_ias.vflset/en_US/base.js\n"
     ]
    },
    {
     "name": "stdout",
     "output_type": "stream",
     "text": [
      "get random frame\n",
      "*1167-1168\n",
      "BqrQQsDUt7o\n",
      "yt-dlp -S res:720,ext:mp4,fps:24 -c --recode mp4 --download-sections *1167-1168 https://www.youtube.com/watch?v=BqrQQsDUt7o --output spamham_samples/BqrQQsDUt7o.mp4 --retries infinite --fragment-retries infinite && ffmpeg -i spamham_samples/BqrQQsDUt7o.mp4 -r 1 -vframes 1 -f image2 -q:v 1 spamham_samples/frames/BqrQQsDUt7o.%03d.jpeg -y && del spamham_samples\\BqrQQsDUt7o.mp4\n",
      "running donwload, extract, delete cmd...0\n",
      "add file to sources\n",
      "label frame\n",
      "|8IniCZaid9A|\n",
      "get vid info\n",
      "[youtube] Extracting URL: https://www.youtube.com/watch?v=8IniCZaid9A\n",
      "[youtube] 8IniCZaid9A: Downloading webpage\n",
      "[youtube] 8IniCZaid9A: Downloading android player API JSON\n"
     ]
    },
    {
     "name": "stderr",
     "output_type": "stream",
     "text": [
      "WARNING: [youtube] 8IniCZaid9A: nsig extraction failed: You may experience throttling for some formats\n",
      "         Install PhantomJS to workaround the issue. Please download it from https://phantomjs.org/download.html\n",
      "         n = cgPe1vuJorlsNr ; player = https://www.youtube.com/s/player/97ea7458/player_ias.vflset/en_US/base.js\n"
     ]
    },
    {
     "name": "stdout",
     "output_type": "stream",
     "text": [
      "get random frame\n",
      "*696-697\n",
      "8IniCZaid9A\n",
      "yt-dlp -S res:720,ext:mp4,fps:24 -c --recode mp4 --download-sections *696-697 https://www.youtube.com/watch?v=8IniCZaid9A --output spamham_samples/8IniCZaid9A.mp4 --retries infinite --fragment-retries infinite && ffmpeg -i spamham_samples/8IniCZaid9A.mp4 -r 1 -vframes 1 -f image2 -q:v 1 spamham_samples/frames/8IniCZaid9A.%03d.jpeg -y && del spamham_samples\\8IniCZaid9A.mp4\n",
      "running donwload, extract, delete cmd...0\n",
      "add file to sources\n",
      "label frame\n",
      "|HxsCp7-WlZ8|\n",
      "get vid info\n",
      "[youtube] Extracting URL: https://www.youtube.com/watch?v=HxsCp7-WlZ8\n",
      "[youtube] HxsCp7-WlZ8: Downloading webpage\n",
      "[youtube] HxsCp7-WlZ8: Downloading android player API JSON\n"
     ]
    },
    {
     "name": "stderr",
     "output_type": "stream",
     "text": [
      "WARNING: [youtube] HxsCp7-WlZ8: nsig extraction failed: You may experience throttling for some formats\n",
      "         Install PhantomJS to workaround the issue. Please download it from https://phantomjs.org/download.html\n",
      "         n = oIdo34QXJIToxw ; player = https://www.youtube.com/s/player/97ea7458/player_ias.vflset/en_US/base.js\n"
     ]
    },
    {
     "name": "stdout",
     "output_type": "stream",
     "text": [
      "get random frame\n",
      "*1781-1782\n",
      "HxsCp7-WlZ8\n",
      "yt-dlp -S res:720,ext:mp4,fps:24 -c --recode mp4 --download-sections *1781-1782 https://www.youtube.com/watch?v=HxsCp7-WlZ8 --output spamham_samples/HxsCp7-WlZ8.mp4 --retries infinite --fragment-retries infinite && ffmpeg -i spamham_samples/HxsCp7-WlZ8.mp4 -r 1 -vframes 1 -f image2 -q:v 1 spamham_samples/frames/HxsCp7-WlZ8.%03d.jpeg -y && del spamham_samples\\HxsCp7-WlZ8.mp4\n",
      "running donwload, extract, delete cmd...0\n",
      "add file to sources\n",
      "label frame\n",
      "|j2LOlRoY0eM|\n",
      "get vid info\n",
      "[youtube] Extracting URL: https://www.youtube.com/watch?v=j2LOlRoY0eM\n",
      "[youtube] j2LOlRoY0eM: Downloading webpage\n",
      "[youtube] j2LOlRoY0eM: Downloading android player API JSON\n"
     ]
    },
    {
     "name": "stderr",
     "output_type": "stream",
     "text": [
      "WARNING: [youtube] j2LOlRoY0eM: nsig extraction failed: You may experience throttling for some formats\n",
      "         Install PhantomJS to workaround the issue. Please download it from https://phantomjs.org/download.html\n",
      "         n = dvpzOkau6Qqtb_ ; player = https://www.youtube.com/s/player/97ea7458/player_ias.vflset/en_US/base.js\n"
     ]
    },
    {
     "name": "stdout",
     "output_type": "stream",
     "text": [
      "get random frame\n",
      "*1128-1129\n",
      "j2LOlRoY0eM\n",
      "yt-dlp -S res:720,ext:mp4,fps:24 -c --recode mp4 --download-sections *1128-1129 https://www.youtube.com/watch?v=j2LOlRoY0eM --output spamham_samples/j2LOlRoY0eM.mp4 --retries infinite --fragment-retries infinite && ffmpeg -i spamham_samples/j2LOlRoY0eM.mp4 -r 1 -vframes 1 -f image2 -q:v 1 spamham_samples/frames/j2LOlRoY0eM.%03d.jpeg -y && del spamham_samples\\j2LOlRoY0eM.mp4\n",
      "running donwload, extract, delete cmd...0\n",
      "add file to sources\n",
      "label frame\n",
      "|iG8yevlZOHM|\n",
      "get vid info\n",
      "[youtube] Extracting URL: https://www.youtube.com/watch?v=iG8yevlZOHM\n",
      "[youtube] iG8yevlZOHM: Downloading webpage\n",
      "[youtube] iG8yevlZOHM: Downloading android player API JSON\n"
     ]
    },
    {
     "name": "stderr",
     "output_type": "stream",
     "text": [
      "WARNING: [youtube] iG8yevlZOHM: nsig extraction failed: You may experience throttling for some formats\n",
      "         Install PhantomJS to workaround the issue. Please download it from https://phantomjs.org/download.html\n",
      "         n = LA0kc6BCv0S7ES ; player = https://www.youtube.com/s/player/97ea7458/player_ias.vflset/en_US/base.js\n"
     ]
    },
    {
     "name": "stdout",
     "output_type": "stream",
     "text": [
      "get random frame\n",
      "*259-260\n",
      "iG8yevlZOHM\n",
      "yt-dlp -S res:720,ext:mp4,fps:24 -c --recode mp4 --download-sections *259-260 https://www.youtube.com/watch?v=iG8yevlZOHM --output spamham_samples/iG8yevlZOHM.mp4 --retries infinite --fragment-retries infinite && ffmpeg -i spamham_samples/iG8yevlZOHM.mp4 -r 1 -vframes 1 -f image2 -q:v 1 spamham_samples/frames/iG8yevlZOHM.%03d.jpeg -y && del spamham_samples\\iG8yevlZOHM.mp4\n",
      "running donwload, extract, delete cmd...0\n",
      "add file to sources\n",
      "label frame\n",
      "|seo7IWPOxqg|\n",
      "get vid info\n",
      "[youtube] Extracting URL: https://www.youtube.com/watch?v=seo7IWPOxqg\n",
      "[youtube] seo7IWPOxqg: Downloading webpage\n",
      "[youtube] seo7IWPOxqg: Downloading android player API JSON\n"
     ]
    },
    {
     "name": "stderr",
     "output_type": "stream",
     "text": [
      "WARNING: [youtube] seo7IWPOxqg: nsig extraction failed: You may experience throttling for some formats\n",
      "         Install PhantomJS to workaround the issue. Please download it from https://phantomjs.org/download.html\n",
      "         n = 87wlgPLfhRXsS9 ; player = https://www.youtube.com/s/player/97ea7458/player_ias.vflset/en_US/base.js\n"
     ]
    },
    {
     "name": "stdout",
     "output_type": "stream",
     "text": [
      "get random frame\n",
      "*1676-1677\n",
      "seo7IWPOxqg\n",
      "yt-dlp -S res:720,ext:mp4,fps:24 -c --recode mp4 --download-sections *1676-1677 https://www.youtube.com/watch?v=seo7IWPOxqg --output spamham_samples/seo7IWPOxqg.mp4 --retries infinite --fragment-retries infinite && ffmpeg -i spamham_samples/seo7IWPOxqg.mp4 -r 1 -vframes 1 -f image2 -q:v 1 spamham_samples/frames/seo7IWPOxqg.%03d.jpeg -y && del spamham_samples\\seo7IWPOxqg.mp4\n",
      "running donwload, extract, delete cmd...0\n",
      "add file to sources\n",
      "label frame\n",
      "|lq9xS6eil2Y|\n",
      "get vid info\n",
      "[youtube] Extracting URL: https://www.youtube.com/watch?v=lq9xS6eil2Y\n",
      "[youtube] lq9xS6eil2Y: Downloading webpage\n",
      "[youtube] lq9xS6eil2Y: Downloading android player API JSON\n"
     ]
    },
    {
     "name": "stderr",
     "output_type": "stream",
     "text": [
      "WARNING: [youtube] lq9xS6eil2Y: nsig extraction failed: You may experience throttling for some formats\n",
      "         Install PhantomJS to workaround the issue. Please download it from https://phantomjs.org/download.html\n",
      "         n = Xlpl1r984gI3XT ; player = https://www.youtube.com/s/player/97ea7458/player_ias.vflset/en_US/base.js\n"
     ]
    },
    {
     "name": "stdout",
     "output_type": "stream",
     "text": [
      "get random frame\n",
      "*1752-1753\n",
      "lq9xS6eil2Y\n",
      "yt-dlp -S res:720,ext:mp4,fps:24 -c --recode mp4 --download-sections *1752-1753 https://www.youtube.com/watch?v=lq9xS6eil2Y --output spamham_samples/lq9xS6eil2Y.mp4 --retries infinite --fragment-retries infinite && ffmpeg -i spamham_samples/lq9xS6eil2Y.mp4 -r 1 -vframes 1 -f image2 -q:v 1 spamham_samples/frames/lq9xS6eil2Y.%03d.jpeg -y && del spamham_samples\\lq9xS6eil2Y.mp4\n",
      "running donwload, extract, delete cmd...0\n",
      "add file to sources\n",
      "label frame\n",
      "|hLuP1Pz3_rc|\n",
      "get vid info\n",
      "[youtube] Extracting URL: https://www.youtube.com/watch?v=hLuP1Pz3_rc\n",
      "[youtube] hLuP1Pz3_rc: Downloading webpage\n",
      "[youtube] hLuP1Pz3_rc: Downloading android player API JSON\n"
     ]
    },
    {
     "name": "stderr",
     "output_type": "stream",
     "text": [
      "WARNING: [youtube] hLuP1Pz3_rc: nsig extraction failed: You may experience throttling for some formats\n",
      "         Install PhantomJS to workaround the issue. Please download it from https://phantomjs.org/download.html\n",
      "         n = VOyzSR_nRt7V4t ; player = https://www.youtube.com/s/player/97ea7458/player_ias.vflset/en_US/base.js\n"
     ]
    },
    {
     "name": "stdout",
     "output_type": "stream",
     "text": [
      "get random frame\n",
      "*1215-1216\n",
      "hLuP1Pz3_rc\n",
      "yt-dlp -S res:720,ext:mp4,fps:24 -c --recode mp4 --download-sections *1215-1216 https://www.youtube.com/watch?v=hLuP1Pz3_rc --output spamham_samples/hLuP1Pz3_rc.mp4 --retries infinite --fragment-retries infinite && ffmpeg -i spamham_samples/hLuP1Pz3_rc.mp4 -r 1 -vframes 1 -f image2 -q:v 1 spamham_samples/frames/hLuP1Pz3_rc.%03d.jpeg -y && del spamham_samples\\hLuP1Pz3_rc.mp4\n",
      "running donwload, extract, delete cmd...0\n",
      "add file to sources\n",
      "label frame\n",
      "|z-ApC62jwcw|\n",
      "get vid info\n",
      "[youtube] Extracting URL: https://www.youtube.com/watch?v=z-ApC62jwcw\n",
      "[youtube] z-ApC62jwcw: Downloading webpage\n",
      "[youtube] z-ApC62jwcw: Downloading android player API JSON\n"
     ]
    },
    {
     "name": "stderr",
     "output_type": "stream",
     "text": [
      "WARNING: [youtube] z-ApC62jwcw: nsig extraction failed: You may experience throttling for some formats\n",
      "         Install PhantomJS to workaround the issue. Please download it from https://phantomjs.org/download.html\n",
      "         n = wZ8D69QKr82gKF ; player = https://www.youtube.com/s/player/97ea7458/player_ias.vflset/en_US/base.js\n"
     ]
    },
    {
     "name": "stdout",
     "output_type": "stream",
     "text": [
      "get random frame\n",
      "*1645-1646\n",
      "z-ApC62jwcw\n",
      "yt-dlp -S res:720,ext:mp4,fps:24 -c --recode mp4 --download-sections *1645-1646 https://www.youtube.com/watch?v=z-ApC62jwcw --output spamham_samples/z-ApC62jwcw.mp4 --retries infinite --fragment-retries infinite && ffmpeg -i spamham_samples/z-ApC62jwcw.mp4 -r 1 -vframes 1 -f image2 -q:v 1 spamham_samples/frames/z-ApC62jwcw.%03d.jpeg -y && del spamham_samples\\z-ApC62jwcw.mp4\n",
      "running donwload, extract, delete cmd...0\n",
      "add file to sources\n",
      "label frame\n",
      "|Z80HoXHtOIc|\n",
      "get vid info\n",
      "[youtube] Extracting URL: https://www.youtube.com/watch?v=Z80HoXHtOIc\n",
      "[youtube] Z80HoXHtOIc: Downloading webpage\n",
      "[youtube] Z80HoXHtOIc: Downloading android player API JSON\n"
     ]
    },
    {
     "name": "stderr",
     "output_type": "stream",
     "text": [
      "WARNING: [youtube] Z80HoXHtOIc: nsig extraction failed: You may experience throttling for some formats\n",
      "         Install PhantomJS to workaround the issue. Please download it from https://phantomjs.org/download.html\n",
      "         n = ifAPd6royI1ypX ; player = https://www.youtube.com/s/player/97ea7458/player_ias.vflset/en_US/base.js\n"
     ]
    },
    {
     "name": "stdout",
     "output_type": "stream",
     "text": [
      "get random frame\n",
      "*1691-1692\n",
      "Z80HoXHtOIc\n",
      "yt-dlp -S res:720,ext:mp4,fps:24 -c --recode mp4 --download-sections *1691-1692 https://www.youtube.com/watch?v=Z80HoXHtOIc --output spamham_samples/Z80HoXHtOIc.mp4 --retries infinite --fragment-retries infinite && ffmpeg -i spamham_samples/Z80HoXHtOIc.mp4 -r 1 -vframes 1 -f image2 -q:v 1 spamham_samples/frames/Z80HoXHtOIc.%03d.jpeg -y && del spamham_samples\\Z80HoXHtOIc.mp4\n",
      "running donwload, extract, delete cmd...0\n",
      "add file to sources\n",
      "label frame\n",
      "|Hogdz9HVKMc|\n",
      "get vid info\n",
      "[youtube] Extracting URL: https://www.youtube.com/watch?v=Hogdz9HVKMc\n",
      "[youtube] Hogdz9HVKMc: Downloading webpage\n",
      "[youtube] Hogdz9HVKMc: Downloading android player API JSON\n"
     ]
    },
    {
     "name": "stderr",
     "output_type": "stream",
     "text": [
      "WARNING: [youtube] Hogdz9HVKMc: nsig extraction failed: You may experience throttling for some formats\n",
      "         Install PhantomJS to workaround the issue. Please download it from https://phantomjs.org/download.html\n",
      "         n = Y2GZzLtCzXy4rR ; player = https://www.youtube.com/s/player/97ea7458/player_ias.vflset/en_US/base.js\n"
     ]
    },
    {
     "name": "stdout",
     "output_type": "stream",
     "text": [
      "get random frame\n",
      "*361-362\n",
      "Hogdz9HVKMc\n",
      "yt-dlp -S res:720,ext:mp4,fps:24 -c --recode mp4 --download-sections *361-362 https://www.youtube.com/watch?v=Hogdz9HVKMc --output spamham_samples/Hogdz9HVKMc.mp4 --retries infinite --fragment-retries infinite && ffmpeg -i spamham_samples/Hogdz9HVKMc.mp4 -r 1 -vframes 1 -f image2 -q:v 1 spamham_samples/frames/Hogdz9HVKMc.%03d.jpeg -y && del spamham_samples\\Hogdz9HVKMc.mp4\n",
      "running donwload, extract, delete cmd...0\n",
      "add file to sources\n",
      "label frame\n",
      "|qsIMZkw7ZwI|\n",
      "get vid info\n",
      "[youtube] Extracting URL: https://www.youtube.com/watch?v=qsIMZkw7ZwI\n",
      "[youtube] qsIMZkw7ZwI: Downloading webpage\n",
      "[youtube] qsIMZkw7ZwI: Downloading android player API JSON\n"
     ]
    },
    {
     "name": "stderr",
     "output_type": "stream",
     "text": [
      "WARNING: [youtube] qsIMZkw7ZwI: nsig extraction failed: You may experience throttling for some formats\n",
      "         Install PhantomJS to workaround the issue. Please download it from https://phantomjs.org/download.html\n",
      "         n = BnBYyxJ-ArRRfe ; player = https://www.youtube.com/s/player/97ea7458/player_ias.vflset/en_US/base.js\n"
     ]
    },
    {
     "name": "stdout",
     "output_type": "stream",
     "text": [
      "get random frame\n",
      "*917-918\n",
      "qsIMZkw7ZwI\n",
      "yt-dlp -S res:720,ext:mp4,fps:24 -c --recode mp4 --download-sections *917-918 https://www.youtube.com/watch?v=qsIMZkw7ZwI --output spamham_samples/qsIMZkw7ZwI.mp4 --retries infinite --fragment-retries infinite && ffmpeg -i spamham_samples/qsIMZkw7ZwI.mp4 -r 1 -vframes 1 -f image2 -q:v 1 spamham_samples/frames/qsIMZkw7ZwI.%03d.jpeg -y && del spamham_samples\\qsIMZkw7ZwI.mp4\n",
      "running donwload, extract, delete cmd...0\n",
      "add file to sources\n",
      "label frame\n",
      "|l2FhVlgWxcg|\n",
      "get vid info\n",
      "[youtube] Extracting URL: https://www.youtube.com/watch?v=l2FhVlgWxcg\n",
      "[youtube] l2FhVlgWxcg: Downloading webpage\n",
      "[youtube] l2FhVlgWxcg: Downloading android player API JSON\n"
     ]
    },
    {
     "name": "stderr",
     "output_type": "stream",
     "text": [
      "WARNING: [youtube] l2FhVlgWxcg: nsig extraction failed: You may experience throttling for some formats\n",
      "         Install PhantomJS to workaround the issue. Please download it from https://phantomjs.org/download.html\n",
      "         n = zcbwTH87WUQDwK ; player = https://www.youtube.com/s/player/97ea7458/player_ias.vflset/en_US/base.js\n"
     ]
    },
    {
     "name": "stdout",
     "output_type": "stream",
     "text": [
      "get random frame\n",
      "*1677-1678\n",
      "l2FhVlgWxcg\n",
      "yt-dlp -S res:720,ext:mp4,fps:24 -c --recode mp4 --download-sections *1677-1678 https://www.youtube.com/watch?v=l2FhVlgWxcg --output spamham_samples/l2FhVlgWxcg.mp4 --retries infinite --fragment-retries infinite && ffmpeg -i spamham_samples/l2FhVlgWxcg.mp4 -r 1 -vframes 1 -f image2 -q:v 1 spamham_samples/frames/l2FhVlgWxcg.%03d.jpeg -y && del spamham_samples\\l2FhVlgWxcg.mp4\n",
      "running donwload, extract, delete cmd...0\n",
      "add file to sources\n",
      "label frame\n",
      "|-hDxt6jIq8w|\n",
      "get vid info\n",
      "[youtube] Extracting URL: https://www.youtube.com/watch?v=-hDxt6jIq8w\n",
      "[youtube] -hDxt6jIq8w: Downloading webpage\n",
      "[youtube] -hDxt6jIq8w: Downloading android player API JSON\n"
     ]
    },
    {
     "name": "stderr",
     "output_type": "stream",
     "text": [
      "WARNING: [youtube] -hDxt6jIq8w: nsig extraction failed: You may experience throttling for some formats\n",
      "         Install PhantomJS to workaround the issue. Please download it from https://phantomjs.org/download.html\n",
      "         n = PfYCAqVK6x3PWD ; player = https://www.youtube.com/s/player/97ea7458/player_ias.vflset/en_US/base.js\n"
     ]
    },
    {
     "name": "stdout",
     "output_type": "stream",
     "text": [
      "get random frame\n",
      "*1318-1319\n",
      "-hDxt6jIq8w\n",
      "yt-dlp -S res:720,ext:mp4,fps:24 -c --recode mp4 --download-sections *1318-1319 https://www.youtube.com/watch?v=-hDxt6jIq8w --output spamham_samples/-hDxt6jIq8w.mp4 --retries infinite --fragment-retries infinite && ffmpeg -i spamham_samples/-hDxt6jIq8w.mp4 -r 1 -vframes 1 -f image2 -q:v 1 spamham_samples/frames/-hDxt6jIq8w.%03d.jpeg -y && del spamham_samples\\-hDxt6jIq8w.mp4\n",
      "running donwload, extract, delete cmd...0\n",
      "add file to sources\n",
      "label frame\n",
      "|ooNRwQmkv3g|\n",
      "get vid info\n",
      "[youtube] Extracting URL: https://www.youtube.com/watch?v=ooNRwQmkv3g\n",
      "[youtube] ooNRwQmkv3g: Downloading webpage\n",
      "[youtube] ooNRwQmkv3g: Downloading android player API JSON\n"
     ]
    },
    {
     "name": "stderr",
     "output_type": "stream",
     "text": [
      "WARNING: [youtube] ooNRwQmkv3g: nsig extraction failed: You may experience throttling for some formats\n",
      "         Install PhantomJS to workaround the issue. Please download it from https://phantomjs.org/download.html\n",
      "         n = k57qM_a61NZ07Z ; player = https://www.youtube.com/s/player/97ea7458/player_ias.vflset/en_US/base.js\n"
     ]
    },
    {
     "name": "stdout",
     "output_type": "stream",
     "text": [
      "get random frame\n",
      "*586-587\n",
      "ooNRwQmkv3g\n",
      "yt-dlp -S res:720,ext:mp4,fps:24 -c --recode mp4 --download-sections *586-587 https://www.youtube.com/watch?v=ooNRwQmkv3g --output spamham_samples/ooNRwQmkv3g.mp4 --retries infinite --fragment-retries infinite && ffmpeg -i spamham_samples/ooNRwQmkv3g.mp4 -r 1 -vframes 1 -f image2 -q:v 1 spamham_samples/frames/ooNRwQmkv3g.%03d.jpeg -y && del spamham_samples\\ooNRwQmkv3g.mp4\n",
      "running donwload, extract, delete cmd...0\n",
      "add file to sources\n",
      "label frame\n",
      "|xyAWnludh48|\n",
      "get vid info\n",
      "[youtube] Extracting URL: https://www.youtube.com/watch?v=xyAWnludh48\n",
      "[youtube] xyAWnludh48: Downloading webpage\n",
      "[youtube] xyAWnludh48: Downloading android player API JSON\n"
     ]
    },
    {
     "name": "stderr",
     "output_type": "stream",
     "text": [
      "WARNING: [youtube] xyAWnludh48: nsig extraction failed: You may experience throttling for some formats\n",
      "         Install PhantomJS to workaround the issue. Please download it from https://phantomjs.org/download.html\n",
      "         n = u7geS_CaDX1ucV ; player = https://www.youtube.com/s/player/97ea7458/player_ias.vflset/en_US/base.js\n"
     ]
    },
    {
     "name": "stdout",
     "output_type": "stream",
     "text": [
      "get random frame\n",
      "*1053-1054\n",
      "xyAWnludh48\n",
      "yt-dlp -S res:720,ext:mp4,fps:24 -c --recode mp4 --download-sections *1053-1054 https://www.youtube.com/watch?v=xyAWnludh48 --output spamham_samples/xyAWnludh48.mp4 --retries infinite --fragment-retries infinite && ffmpeg -i spamham_samples/xyAWnludh48.mp4 -r 1 -vframes 1 -f image2 -q:v 1 spamham_samples/frames/xyAWnludh48.%03d.jpeg -y && del spamham_samples\\xyAWnludh48.mp4\n",
      "running donwload, extract, delete cmd...0\n",
      "add file to sources\n",
      "label frame\n",
      "|gAdEFYwoAcQ|\n",
      "get vid info\n",
      "[youtube] Extracting URL: https://www.youtube.com/watch?v=gAdEFYwoAcQ\n",
      "[youtube] gAdEFYwoAcQ: Downloading webpage\n",
      "[youtube] gAdEFYwoAcQ: Downloading android player API JSON\n"
     ]
    },
    {
     "name": "stderr",
     "output_type": "stream",
     "text": [
      "WARNING: [youtube] gAdEFYwoAcQ: nsig extraction failed: You may experience throttling for some formats\n",
      "         Install PhantomJS to workaround the issue. Please download it from https://phantomjs.org/download.html\n",
      "         n = 8hrpDG1O6EJc83 ; player = https://www.youtube.com/s/player/97ea7458/player_ias.vflset/en_US/base.js\n"
     ]
    },
    {
     "name": "stdout",
     "output_type": "stream",
     "text": [
      "get random frame\n",
      "*184-185\n",
      "gAdEFYwoAcQ\n",
      "yt-dlp -S res:720,ext:mp4,fps:24 -c --recode mp4 --download-sections *184-185 https://www.youtube.com/watch?v=gAdEFYwoAcQ --output spamham_samples/gAdEFYwoAcQ.mp4 --retries infinite --fragment-retries infinite && ffmpeg -i spamham_samples/gAdEFYwoAcQ.mp4 -r 1 -vframes 1 -f image2 -q:v 1 spamham_samples/frames/gAdEFYwoAcQ.%03d.jpeg -y && del spamham_samples\\gAdEFYwoAcQ.mp4\n",
      "running donwload, extract, delete cmd...0\n",
      "add file to sources\n",
      "label frame\n",
      "|mH42siCfq94|\n",
      "get vid info\n",
      "[youtube] Extracting URL: https://www.youtube.com/watch?v=mH42siCfq94\n",
      "[youtube] mH42siCfq94: Downloading webpage\n",
      "[youtube] mH42siCfq94: Downloading android player API JSON\n"
     ]
    },
    {
     "name": "stderr",
     "output_type": "stream",
     "text": [
      "WARNING: [youtube] mH42siCfq94: nsig extraction failed: You may experience throttling for some formats\n",
      "         Install PhantomJS to workaround the issue. Please download it from https://phantomjs.org/download.html\n",
      "         n = jJAZSc6x0X4jwT ; player = https://www.youtube.com/s/player/97ea7458/player_ias.vflset/en_US/base.js\n"
     ]
    },
    {
     "name": "stdout",
     "output_type": "stream",
     "text": [
      "get random frame\n",
      "*349-350\n",
      "mH42siCfq94\n",
      "yt-dlp -S res:720,ext:mp4,fps:24 -c --recode mp4 --download-sections *349-350 https://www.youtube.com/watch?v=mH42siCfq94 --output spamham_samples/mH42siCfq94.mp4 --retries infinite --fragment-retries infinite && ffmpeg -i spamham_samples/mH42siCfq94.mp4 -r 1 -vframes 1 -f image2 -q:v 1 spamham_samples/frames/mH42siCfq94.%03d.jpeg -y && del spamham_samples\\mH42siCfq94.mp4\n",
      "running donwload, extract, delete cmd...0\n",
      "add file to sources\n",
      "label frame\n",
      "|23SgzzOKpEQ|\n",
      "get vid info\n",
      "[youtube] Extracting URL: https://www.youtube.com/watch?v=23SgzzOKpEQ\n",
      "[youtube] 23SgzzOKpEQ: Downloading webpage\n",
      "[youtube] 23SgzzOKpEQ: Downloading android player API JSON\n"
     ]
    },
    {
     "name": "stderr",
     "output_type": "stream",
     "text": [
      "WARNING: [youtube] 23SgzzOKpEQ: nsig extraction failed: You may experience throttling for some formats\n",
      "         Install PhantomJS to workaround the issue. Please download it from https://phantomjs.org/download.html\n",
      "         n = WEfqRnUOwhemzn ; player = https://www.youtube.com/s/player/97ea7458/player_ias.vflset/en_US/base.js\n"
     ]
    },
    {
     "name": "stdout",
     "output_type": "stream",
     "text": [
      "get random frame\n",
      "*1010-1011\n",
      "23SgzzOKpEQ\n",
      "yt-dlp -S res:720,ext:mp4,fps:24 -c --recode mp4 --download-sections *1010-1011 https://www.youtube.com/watch?v=23SgzzOKpEQ --output spamham_samples/23SgzzOKpEQ.mp4 --retries infinite --fragment-retries infinite && ffmpeg -i spamham_samples/23SgzzOKpEQ.mp4 -r 1 -vframes 1 -f image2 -q:v 1 spamham_samples/frames/23SgzzOKpEQ.%03d.jpeg -y && del spamham_samples\\23SgzzOKpEQ.mp4\n",
      "running donwload, extract, delete cmd...0\n",
      "add file to sources\n",
      "label frame\n",
      "|Gl4g2rY3V6s|\n",
      "get vid info\n",
      "[youtube] Extracting URL: https://www.youtube.com/watch?v=Gl4g2rY3V6s\n",
      "[youtube] Gl4g2rY3V6s: Downloading webpage\n",
      "[youtube] Gl4g2rY3V6s: Downloading android player API JSON\n"
     ]
    },
    {
     "name": "stderr",
     "output_type": "stream",
     "text": [
      "WARNING: [youtube] Gl4g2rY3V6s: nsig extraction failed: You may experience throttling for some formats\n",
      "         Install PhantomJS to workaround the issue. Please download it from https://phantomjs.org/download.html\n",
      "         n = pTFY9gU2raoZAI ; player = https://www.youtube.com/s/player/97ea7458/player_ias.vflset/en_US/base.js\n"
     ]
    },
    {
     "name": "stdout",
     "output_type": "stream",
     "text": [
      "get random frame\n",
      "*1315-1316\n",
      "Gl4g2rY3V6s\n",
      "yt-dlp -S res:720,ext:mp4,fps:24 -c --recode mp4 --download-sections *1315-1316 https://www.youtube.com/watch?v=Gl4g2rY3V6s --output spamham_samples/Gl4g2rY3V6s.mp4 --retries infinite --fragment-retries infinite && ffmpeg -i spamham_samples/Gl4g2rY3V6s.mp4 -r 1 -vframes 1 -f image2 -q:v 1 spamham_samples/frames/Gl4g2rY3V6s.%03d.jpeg -y && del spamham_samples\\Gl4g2rY3V6s.mp4\n",
      "running donwload, extract, delete cmd...0\n",
      "add file to sources\n",
      "label frame\n",
      "|5UKCf98owKs|\n",
      "get vid info\n",
      "[youtube] Extracting URL: https://www.youtube.com/watch?v=5UKCf98owKs\n",
      "[youtube] 5UKCf98owKs: Downloading webpage\n",
      "[youtube] 5UKCf98owKs: Downloading android player API JSON\n"
     ]
    },
    {
     "name": "stderr",
     "output_type": "stream",
     "text": [
      "WARNING: [youtube] 5UKCf98owKs: nsig extraction failed: You may experience throttling for some formats\n",
      "         Install PhantomJS to workaround the issue. Please download it from https://phantomjs.org/download.html\n",
      "         n = I5u_O5NyVSgoLx ; player = https://www.youtube.com/s/player/97ea7458/player_ias.vflset/en_US/base.js\n"
     ]
    },
    {
     "name": "stdout",
     "output_type": "stream",
     "text": [
      "get random frame\n",
      "*1525-1526\n",
      "5UKCf98owKs\n",
      "yt-dlp -S res:720,ext:mp4,fps:24 -c --recode mp4 --download-sections *1525-1526 https://www.youtube.com/watch?v=5UKCf98owKs --output spamham_samples/5UKCf98owKs.mp4 --retries infinite --fragment-retries infinite && ffmpeg -i spamham_samples/5UKCf98owKs.mp4 -r 1 -vframes 1 -f image2 -q:v 1 spamham_samples/frames/5UKCf98owKs.%03d.jpeg -y && del spamham_samples\\5UKCf98owKs.mp4\n",
      "running donwload, extract, delete cmd...0\n",
      "add file to sources\n",
      "label frame\n",
      "|QTgb9NI4KVY|\n",
      "get vid info\n",
      "[youtube] Extracting URL: https://www.youtube.com/watch?v=QTgb9NI4KVY\n",
      "[youtube] QTgb9NI4KVY: Downloading webpage\n",
      "[youtube] QTgb9NI4KVY: Downloading android player API JSON\n"
     ]
    },
    {
     "name": "stderr",
     "output_type": "stream",
     "text": [
      "WARNING: [youtube] QTgb9NI4KVY: nsig extraction failed: You may experience throttling for some formats\n",
      "         Install PhantomJS to workaround the issue. Please download it from https://phantomjs.org/download.html\n",
      "         n = B8rDIeQ49IaB-K ; player = https://www.youtube.com/s/player/97ea7458/player_ias.vflset/en_US/base.js\n"
     ]
    },
    {
     "name": "stdout",
     "output_type": "stream",
     "text": [
      "get random frame\n",
      "*626-627\n",
      "QTgb9NI4KVY\n",
      "yt-dlp -S res:720,ext:mp4,fps:24 -c --recode mp4 --download-sections *626-627 https://www.youtube.com/watch?v=QTgb9NI4KVY --output spamham_samples/QTgb9NI4KVY.mp4 --retries infinite --fragment-retries infinite && ffmpeg -i spamham_samples/QTgb9NI4KVY.mp4 -r 1 -vframes 1 -f image2 -q:v 1 spamham_samples/frames/QTgb9NI4KVY.%03d.jpeg -y && del spamham_samples\\QTgb9NI4KVY.mp4\n",
      "running donwload, extract, delete cmd...0\n",
      "add file to sources\n",
      "label frame\n",
      "|OMqmLiWq1-g|\n",
      "get vid info\n",
      "[youtube] Extracting URL: https://www.youtube.com/watch?v=OMqmLiWq1-g\n",
      "[youtube] OMqmLiWq1-g: Downloading webpage\n",
      "[youtube] OMqmLiWq1-g: Downloading android player API JSON\n"
     ]
    },
    {
     "name": "stderr",
     "output_type": "stream",
     "text": [
      "WARNING: [youtube] OMqmLiWq1-g: nsig extraction failed: You may experience throttling for some formats\n",
      "         Install PhantomJS to workaround the issue. Please download it from https://phantomjs.org/download.html\n",
      "         n = DJIApMcvanHjFO ; player = https://www.youtube.com/s/player/97ea7458/player_ias.vflset/en_US/base.js\n"
     ]
    },
    {
     "name": "stdout",
     "output_type": "stream",
     "text": [
      "get random frame\n",
      "*639-640\n",
      "OMqmLiWq1-g\n",
      "yt-dlp -S res:720,ext:mp4,fps:24 -c --recode mp4 --download-sections *639-640 https://www.youtube.com/watch?v=OMqmLiWq1-g --output spamham_samples/OMqmLiWq1-g.mp4 --retries infinite --fragment-retries infinite && ffmpeg -i spamham_samples/OMqmLiWq1-g.mp4 -r 1 -vframes 1 -f image2 -q:v 1 spamham_samples/frames/OMqmLiWq1-g.%03d.jpeg -y && del spamham_samples\\OMqmLiWq1-g.mp4\n",
      "running donwload, extract, delete cmd...0\n",
      "add file to sources\n",
      "label frame\n",
      "|bH1UzK-gVPY|\n",
      "get vid info\n",
      "[youtube] Extracting URL: https://www.youtube.com/watch?v=bH1UzK-gVPY\n",
      "[youtube] bH1UzK-gVPY: Downloading webpage\n",
      "[youtube] bH1UzK-gVPY: Downloading android player API JSON\n"
     ]
    },
    {
     "name": "stderr",
     "output_type": "stream",
     "text": [
      "WARNING: [youtube] bH1UzK-gVPY: nsig extraction failed: You may experience throttling for some formats\n",
      "         Install PhantomJS to workaround the issue. Please download it from https://phantomjs.org/download.html\n",
      "         n = SV9UPc13-1ry0N ; player = https://www.youtube.com/s/player/97ea7458/player_ias.vflset/en_US/base.js\n"
     ]
    },
    {
     "name": "stdout",
     "output_type": "stream",
     "text": [
      "get random frame\n",
      "*806-807\n",
      "bH1UzK-gVPY\n",
      "yt-dlp -S res:720,ext:mp4,fps:24 -c --recode mp4 --download-sections *806-807 https://www.youtube.com/watch?v=bH1UzK-gVPY --output spamham_samples/bH1UzK-gVPY.mp4 --retries infinite --fragment-retries infinite && ffmpeg -i spamham_samples/bH1UzK-gVPY.mp4 -r 1 -vframes 1 -f image2 -q:v 1 spamham_samples/frames/bH1UzK-gVPY.%03d.jpeg -y && del spamham_samples\\bH1UzK-gVPY.mp4\n",
      "running donwload, extract, delete cmd...0\n",
      "add file to sources\n",
      "label frame\n",
      "|kjDFLO0-xvE|\n",
      "get vid info\n",
      "[youtube] Extracting URL: https://www.youtube.com/watch?v=kjDFLO0-xvE\n",
      "[youtube] kjDFLO0-xvE: Downloading webpage\n",
      "[youtube] kjDFLO0-xvE: Downloading android player API JSON\n"
     ]
    },
    {
     "name": "stderr",
     "output_type": "stream",
     "text": [
      "WARNING: [youtube] kjDFLO0-xvE: nsig extraction failed: You may experience throttling for some formats\n",
      "         Install PhantomJS to workaround the issue. Please download it from https://phantomjs.org/download.html\n",
      "         n = PMVOFIBRGCjPbv ; player = https://www.youtube.com/s/player/97ea7458/player_ias.vflset/en_US/base.js\n"
     ]
    },
    {
     "name": "stdout",
     "output_type": "stream",
     "text": [
      "get random frame\n",
      "*1493-1494\n",
      "kjDFLO0-xvE\n",
      "yt-dlp -S res:720,ext:mp4,fps:24 -c --recode mp4 --download-sections *1493-1494 https://www.youtube.com/watch?v=kjDFLO0-xvE --output spamham_samples/kjDFLO0-xvE.mp4 --retries infinite --fragment-retries infinite && ffmpeg -i spamham_samples/kjDFLO0-xvE.mp4 -r 1 -vframes 1 -f image2 -q:v 1 spamham_samples/frames/kjDFLO0-xvE.%03d.jpeg -y && del spamham_samples\\kjDFLO0-xvE.mp4\n",
      "running donwload, extract, delete cmd...0\n",
      "add file to sources\n",
      "label frame\n",
      "|5_iwWW4cQas|\n",
      "get vid info\n",
      "[youtube] Extracting URL: https://www.youtube.com/watch?v=5_iwWW4cQas\n",
      "[youtube] 5_iwWW4cQas: Downloading webpage\n",
      "[youtube] 5_iwWW4cQas: Downloading android player API JSON\n"
     ]
    },
    {
     "name": "stderr",
     "output_type": "stream",
     "text": [
      "WARNING: [youtube] 5_iwWW4cQas: nsig extraction failed: You may experience throttling for some formats\n",
      "         Install PhantomJS to workaround the issue. Please download it from https://phantomjs.org/download.html\n",
      "         n = htdpw9NcRQYRgU ; player = https://www.youtube.com/s/player/97ea7458/player_ias.vflset/en_US/base.js\n"
     ]
    },
    {
     "name": "stdout",
     "output_type": "stream",
     "text": [
      "get random frame\n",
      "*2607-2608\n",
      "5_iwWW4cQas\n",
      "yt-dlp -S res:720,ext:mp4,fps:24 -c --recode mp4 --download-sections *2607-2608 https://www.youtube.com/watch?v=5_iwWW4cQas --output spamham_samples/5_iwWW4cQas.mp4 --retries infinite --fragment-retries infinite && ffmpeg -i spamham_samples/5_iwWW4cQas.mp4 -r 1 -vframes 1 -f image2 -q:v 1 spamham_samples/frames/5_iwWW4cQas.%03d.jpeg -y && del spamham_samples\\5_iwWW4cQas.mp4\n",
      "running donwload, extract, delete cmd...0\n",
      "add file to sources\n",
      "label frame\n",
      "|oBA1wElsKZU|\n",
      "get vid info\n",
      "[youtube] Extracting URL: https://www.youtube.com/watch?v=oBA1wElsKZU\n",
      "[youtube] oBA1wElsKZU: Downloading webpage\n",
      "[youtube] oBA1wElsKZU: Downloading android player API JSON\n"
     ]
    },
    {
     "name": "stderr",
     "output_type": "stream",
     "text": [
      "WARNING: [youtube] oBA1wElsKZU: nsig extraction failed: You may experience throttling for some formats\n",
      "         Install PhantomJS to workaround the issue. Please download it from https://phantomjs.org/download.html\n",
      "         n = E3k6BXBRI6_Ubf ; player = https://www.youtube.com/s/player/97ea7458/player_ias.vflset/en_US/base.js\n"
     ]
    },
    {
     "name": "stdout",
     "output_type": "stream",
     "text": [
      "get random frame\n",
      "*1683-1684\n",
      "oBA1wElsKZU\n",
      "yt-dlp -S res:720,ext:mp4,fps:24 -c --recode mp4 --download-sections *1683-1684 https://www.youtube.com/watch?v=oBA1wElsKZU --output spamham_samples/oBA1wElsKZU.mp4 --retries infinite --fragment-retries infinite && ffmpeg -i spamham_samples/oBA1wElsKZU.mp4 -r 1 -vframes 1 -f image2 -q:v 1 spamham_samples/frames/oBA1wElsKZU.%03d.jpeg -y && del spamham_samples\\oBA1wElsKZU.mp4\n",
      "running donwload, extract, delete cmd...0\n",
      "add file to sources\n",
      "label frame\n",
      "|bIYQwhH-Aig|\n",
      "get vid info\n",
      "[youtube] Extracting URL: https://www.youtube.com/watch?v=bIYQwhH-Aig\n",
      "[youtube] bIYQwhH-Aig: Downloading webpage\n",
      "[youtube] bIYQwhH-Aig: Downloading android player API JSON\n"
     ]
    },
    {
     "name": "stderr",
     "output_type": "stream",
     "text": [
      "WARNING: [youtube] bIYQwhH-Aig: nsig extraction failed: You may experience throttling for some formats\n",
      "         Install PhantomJS to workaround the issue. Please download it from https://phantomjs.org/download.html\n",
      "         n = NRnlY6H_cj69DT ; player = https://www.youtube.com/s/player/97ea7458/player_ias.vflset/en_US/base.js\n"
     ]
    },
    {
     "name": "stdout",
     "output_type": "stream",
     "text": [
      "get random frame\n",
      "*144-145\n",
      "bIYQwhH-Aig\n",
      "yt-dlp -S res:720,ext:mp4,fps:24 -c --recode mp4 --download-sections *144-145 https://www.youtube.com/watch?v=bIYQwhH-Aig --output spamham_samples/bIYQwhH-Aig.mp4 --retries infinite --fragment-retries infinite && ffmpeg -i spamham_samples/bIYQwhH-Aig.mp4 -r 1 -vframes 1 -f image2 -q:v 1 spamham_samples/frames/bIYQwhH-Aig.%03d.jpeg -y && del spamham_samples\\bIYQwhH-Aig.mp4\n",
      "running donwload, extract, delete cmd...0\n",
      "add file to sources\n",
      "label frame\n",
      "|NmJhr5ghl1I|\n",
      "get vid info\n",
      "[youtube] Extracting URL: https://www.youtube.com/watch?v=NmJhr5ghl1I\n",
      "[youtube] NmJhr5ghl1I: Downloading webpage\n",
      "[youtube] NmJhr5ghl1I: Downloading android player API JSON\n"
     ]
    },
    {
     "name": "stderr",
     "output_type": "stream",
     "text": [
      "WARNING: [youtube] NmJhr5ghl1I: nsig extraction failed: You may experience throttling for some formats\n",
      "         Install PhantomJS to workaround the issue. Please download it from https://phantomjs.org/download.html\n",
      "         n = q1az8723G6Sq60 ; player = https://www.youtube.com/s/player/97ea7458/player_ias.vflset/en_US/base.js\n"
     ]
    },
    {
     "name": "stdout",
     "output_type": "stream",
     "text": [
      "get random frame\n",
      "*674-675\n",
      "NmJhr5ghl1I\n",
      "yt-dlp -S res:720,ext:mp4,fps:24 -c --recode mp4 --download-sections *674-675 https://www.youtube.com/watch?v=NmJhr5ghl1I --output spamham_samples/NmJhr5ghl1I.mp4 --retries infinite --fragment-retries infinite && ffmpeg -i spamham_samples/NmJhr5ghl1I.mp4 -r 1 -vframes 1 -f image2 -q:v 1 spamham_samples/frames/NmJhr5ghl1I.%03d.jpeg -y && del spamham_samples\\NmJhr5ghl1I.mp4\n",
      "running donwload, extract, delete cmd...0\n",
      "add file to sources\n",
      "label frame\n",
      "|KWRrXVYejPk|\n",
      "get vid info\n",
      "[youtube] Extracting URL: https://www.youtube.com/watch?v=KWRrXVYejPk\n",
      "[youtube] KWRrXVYejPk: Downloading webpage\n",
      "[youtube] KWRrXVYejPk: Downloading android player API JSON\n"
     ]
    },
    {
     "name": "stderr",
     "output_type": "stream",
     "text": [
      "WARNING: [youtube] KWRrXVYejPk: nsig extraction failed: You may experience throttling for some formats\n",
      "         Install PhantomJS to workaround the issue. Please download it from https://phantomjs.org/download.html\n",
      "         n = UsnroB6JRbQU8p ; player = https://www.youtube.com/s/player/97ea7458/player_ias.vflset/en_US/base.js\n"
     ]
    },
    {
     "name": "stdout",
     "output_type": "stream",
     "text": [
      "get random frame\n",
      "*1609-1610\n",
      "KWRrXVYejPk\n",
      "yt-dlp -S res:720,ext:mp4,fps:24 -c --recode mp4 --download-sections *1609-1610 https://www.youtube.com/watch?v=KWRrXVYejPk --output spamham_samples/KWRrXVYejPk.mp4 --retries infinite --fragment-retries infinite && ffmpeg -i spamham_samples/KWRrXVYejPk.mp4 -r 1 -vframes 1 -f image2 -q:v 1 spamham_samples/frames/KWRrXVYejPk.%03d.jpeg -y && del spamham_samples\\KWRrXVYejPk.mp4\n",
      "running donwload, extract, delete cmd...0\n",
      "add file to sources\n",
      "label frame\n",
      "|w_H3Ru6mVnU|\n",
      "get vid info\n",
      "[youtube] Extracting URL: https://www.youtube.com/watch?v=w_H3Ru6mVnU\n",
      "[youtube] w_H3Ru6mVnU: Downloading webpage\n",
      "[youtube] w_H3Ru6mVnU: Downloading android player API JSON\n"
     ]
    },
    {
     "name": "stderr",
     "output_type": "stream",
     "text": [
      "WARNING: [youtube] w_H3Ru6mVnU: nsig extraction failed: You may experience throttling for some formats\n",
      "         Install PhantomJS to workaround the issue. Please download it from https://phantomjs.org/download.html\n",
      "         n = qWmwdCe5T94a2F ; player = https://www.youtube.com/s/player/97ea7458/player_ias.vflset/en_US/base.js\n"
     ]
    },
    {
     "name": "stdout",
     "output_type": "stream",
     "text": [
      "get random frame\n",
      "*2023-2024\n",
      "w_H3Ru6mVnU\n",
      "yt-dlp -S res:720,ext:mp4,fps:24 -c --recode mp4 --download-sections *2023-2024 https://www.youtube.com/watch?v=w_H3Ru6mVnU --output spamham_samples/w_H3Ru6mVnU.mp4 --retries infinite --fragment-retries infinite && ffmpeg -i spamham_samples/w_H3Ru6mVnU.mp4 -r 1 -vframes 1 -f image2 -q:v 1 spamham_samples/frames/w_H3Ru6mVnU.%03d.jpeg -y && del spamham_samples\\w_H3Ru6mVnU.mp4\n",
      "running donwload, extract, delete cmd...0\n",
      "add file to sources\n",
      "label frame\n",
      "|i8tvapaTLtk|\n",
      "get vid info\n",
      "[youtube] Extracting URL: https://www.youtube.com/watch?v=i8tvapaTLtk\n",
      "[youtube] i8tvapaTLtk: Downloading webpage\n",
      "[youtube] i8tvapaTLtk: Downloading android player API JSON\n"
     ]
    },
    {
     "name": "stderr",
     "output_type": "stream",
     "text": [
      "WARNING: [youtube] i8tvapaTLtk: nsig extraction failed: You may experience throttling for some formats\n",
      "         Install PhantomJS to workaround the issue. Please download it from https://phantomjs.org/download.html\n",
      "         n = SKckf7I-S6qCHE ; player = https://www.youtube.com/s/player/97ea7458/player_ias.vflset/en_US/base.js\n"
     ]
    },
    {
     "name": "stdout",
     "output_type": "stream",
     "text": [
      "get random frame\n",
      "*161-162\n",
      "i8tvapaTLtk\n",
      "yt-dlp -S res:720,ext:mp4,fps:24 -c --recode mp4 --download-sections *161-162 https://www.youtube.com/watch?v=i8tvapaTLtk --output spamham_samples/i8tvapaTLtk.mp4 --retries infinite --fragment-retries infinite && ffmpeg -i spamham_samples/i8tvapaTLtk.mp4 -r 1 -vframes 1 -f image2 -q:v 1 spamham_samples/frames/i8tvapaTLtk.%03d.jpeg -y && del spamham_samples\\i8tvapaTLtk.mp4\n",
      "running donwload, extract, delete cmd...0\n",
      "add file to sources\n",
      "label frame\n",
      "|lligTkaf3Qg|\n",
      "get vid info\n",
      "[youtube] Extracting URL: https://www.youtube.com/watch?v=lligTkaf3Qg\n",
      "[youtube] lligTkaf3Qg: Downloading webpage\n",
      "[youtube] lligTkaf3Qg: Downloading android player API JSON\n"
     ]
    },
    {
     "name": "stderr",
     "output_type": "stream",
     "text": [
      "WARNING: [youtube] lligTkaf3Qg: nsig extraction failed: You may experience throttling for some formats\n",
      "         Install PhantomJS to workaround the issue. Please download it from https://phantomjs.org/download.html\n",
      "         n = c-LCvuuWbQNMU1 ; player = https://www.youtube.com/s/player/97ea7458/player_ias.vflset/en_US/base.js\n"
     ]
    },
    {
     "name": "stdout",
     "output_type": "stream",
     "text": [
      "get random frame\n",
      "*1002-1003\n",
      "lligTkaf3Qg\n",
      "yt-dlp -S res:720,ext:mp4,fps:24 -c --recode mp4 --download-sections *1002-1003 https://www.youtube.com/watch?v=lligTkaf3Qg --output spamham_samples/lligTkaf3Qg.mp4 --retries infinite --fragment-retries infinite && ffmpeg -i spamham_samples/lligTkaf3Qg.mp4 -r 1 -vframes 1 -f image2 -q:v 1 spamham_samples/frames/lligTkaf3Qg.%03d.jpeg -y && del spamham_samples\\lligTkaf3Qg.mp4\n",
      "running donwload, extract, delete cmd...0\n",
      "add file to sources\n",
      "label frame\n",
      "|HXK4ymkq9YM|\n",
      "get vid info\n",
      "[youtube] Extracting URL: https://www.youtube.com/watch?v=HXK4ymkq9YM\n",
      "[youtube] HXK4ymkq9YM: Downloading webpage\n",
      "[youtube] HXK4ymkq9YM: Downloading android player API JSON\n"
     ]
    },
    {
     "name": "stderr",
     "output_type": "stream",
     "text": [
      "WARNING: [youtube] HXK4ymkq9YM: nsig extraction failed: You may experience throttling for some formats\n",
      "         Install PhantomJS to workaround the issue. Please download it from https://phantomjs.org/download.html\n",
      "         n = 4lLN8s23ybaIDO ; player = https://www.youtube.com/s/player/97ea7458/player_ias.vflset/en_US/base.js\n"
     ]
    },
    {
     "name": "stdout",
     "output_type": "stream",
     "text": [
      "get random frame\n",
      "*588-589\n",
      "HXK4ymkq9YM\n",
      "yt-dlp -S res:720,ext:mp4,fps:24 -c --recode mp4 --download-sections *588-589 https://www.youtube.com/watch?v=HXK4ymkq9YM --output spamham_samples/HXK4ymkq9YM.mp4 --retries infinite --fragment-retries infinite && ffmpeg -i spamham_samples/HXK4ymkq9YM.mp4 -r 1 -vframes 1 -f image2 -q:v 1 spamham_samples/frames/HXK4ymkq9YM.%03d.jpeg -y && del spamham_samples\\HXK4ymkq9YM.mp4\n",
      "running donwload, extract, delete cmd...0\n",
      "add file to sources\n",
      "label frame\n",
      "|QjcgYWX5DzQ|\n",
      "get vid info\n",
      "[youtube] Extracting URL: https://www.youtube.com/watch?v=QjcgYWX5DzQ\n",
      "[youtube] QjcgYWX5DzQ: Downloading webpage\n",
      "[youtube] QjcgYWX5DzQ: Downloading android player API JSON\n"
     ]
    },
    {
     "name": "stderr",
     "output_type": "stream",
     "text": [
      "WARNING: [youtube] QjcgYWX5DzQ: nsig extraction failed: You may experience throttling for some formats\n",
      "         Install PhantomJS to workaround the issue. Please download it from https://phantomjs.org/download.html\n",
      "         n = muDHrlbhbvgWWp ; player = https://www.youtube.com/s/player/97ea7458/player_ias.vflset/en_US/base.js\n"
     ]
    },
    {
     "name": "stdout",
     "output_type": "stream",
     "text": [
      "get random frame\n",
      "*169-170\n",
      "QjcgYWX5DzQ\n",
      "yt-dlp -S res:720,ext:mp4,fps:24 -c --recode mp4 --download-sections *169-170 https://www.youtube.com/watch?v=QjcgYWX5DzQ --output spamham_samples/QjcgYWX5DzQ.mp4 --retries infinite --fragment-retries infinite && ffmpeg -i spamham_samples/QjcgYWX5DzQ.mp4 -r 1 -vframes 1 -f image2 -q:v 1 spamham_samples/frames/QjcgYWX5DzQ.%03d.jpeg -y && del spamham_samples\\QjcgYWX5DzQ.mp4\n",
      "running donwload, extract, delete cmd...0\n",
      "add file to sources\n",
      "label frame\n",
      "|bP2oCunArUA|\n",
      "get vid info\n",
      "[youtube] Extracting URL: https://www.youtube.com/watch?v=bP2oCunArUA\n",
      "[youtube] bP2oCunArUA: Downloading webpage\n",
      "[youtube] bP2oCunArUA: Downloading android player API JSON\n"
     ]
    },
    {
     "name": "stderr",
     "output_type": "stream",
     "text": [
      "WARNING: [youtube] bP2oCunArUA: nsig extraction failed: You may experience throttling for some formats\n",
      "         Install PhantomJS to workaround the issue. Please download it from https://phantomjs.org/download.html\n",
      "         n = -jyJCPnbO-RO4M ; player = https://www.youtube.com/s/player/97ea7458/player_ias.vflset/en_US/base.js\n"
     ]
    },
    {
     "name": "stdout",
     "output_type": "stream",
     "text": [
      "get random frame\n",
      "*99-100\n",
      "bP2oCunArUA\n",
      "yt-dlp -S res:720,ext:mp4,fps:24 -c --recode mp4 --download-sections *99-100 https://www.youtube.com/watch?v=bP2oCunArUA --output spamham_samples/bP2oCunArUA.mp4 --retries infinite --fragment-retries infinite && ffmpeg -i spamham_samples/bP2oCunArUA.mp4 -r 1 -vframes 1 -f image2 -q:v 1 spamham_samples/frames/bP2oCunArUA.%03d.jpeg -y && del spamham_samples\\bP2oCunArUA.mp4\n",
      "running donwload, extract, delete cmd...0\n",
      "add file to sources\n",
      "label frame\n",
      "|-bJz0HxF-NQ|\n",
      "get vid info\n",
      "[youtube] Extracting URL: https://www.youtube.com/watch?v=-bJz0HxF-NQ\n",
      "[youtube] -bJz0HxF-NQ: Downloading webpage\n",
      "[youtube] -bJz0HxF-NQ: Downloading android player API JSON\n"
     ]
    },
    {
     "name": "stderr",
     "output_type": "stream",
     "text": [
      "WARNING: [youtube] -bJz0HxF-NQ: nsig extraction failed: You may experience throttling for some formats\n",
      "         Install PhantomJS to workaround the issue. Please download it from https://phantomjs.org/download.html\n",
      "         n = QrImCas1Hp7gA4 ; player = https://www.youtube.com/s/player/97ea7458/player_ias.vflset/en_US/base.js\n"
     ]
    },
    {
     "name": "stdout",
     "output_type": "stream",
     "text": [
      "get random frame\n",
      "*1884-1885\n",
      "-bJz0HxF-NQ\n",
      "yt-dlp -S res:720,ext:mp4,fps:24 -c --recode mp4 --download-sections *1884-1885 https://www.youtube.com/watch?v=-bJz0HxF-NQ --output spamham_samples/-bJz0HxF-NQ.mp4 --retries infinite --fragment-retries infinite && ffmpeg -i spamham_samples/-bJz0HxF-NQ.mp4 -r 1 -vframes 1 -f image2 -q:v 1 spamham_samples/frames/-bJz0HxF-NQ.%03d.jpeg -y && del spamham_samples\\-bJz0HxF-NQ.mp4\n",
      "running donwload, extract, delete cmd...0\n",
      "add file to sources\n",
      "label frame\n",
      "|hK1wCYQwL7k|\n",
      "get vid info\n",
      "[youtube] Extracting URL: https://www.youtube.com/watch?v=hK1wCYQwL7k\n",
      "[youtube] hK1wCYQwL7k: Downloading webpage\n",
      "[youtube] hK1wCYQwL7k: Downloading android player API JSON\n"
     ]
    },
    {
     "name": "stderr",
     "output_type": "stream",
     "text": [
      "WARNING: [youtube] hK1wCYQwL7k: nsig extraction failed: You may experience throttling for some formats\n",
      "         Install PhantomJS to workaround the issue. Please download it from https://phantomjs.org/download.html\n",
      "         n = UwWRr_cBEiEkVS ; player = https://www.youtube.com/s/player/97ea7458/player_ias.vflset/en_US/base.js\n"
     ]
    },
    {
     "name": "stdout",
     "output_type": "stream",
     "text": [
      "get random frame\n",
      "*1607-1608\n",
      "hK1wCYQwL7k\n",
      "yt-dlp -S res:720,ext:mp4,fps:24 -c --recode mp4 --download-sections *1607-1608 https://www.youtube.com/watch?v=hK1wCYQwL7k --output spamham_samples/hK1wCYQwL7k.mp4 --retries infinite --fragment-retries infinite && ffmpeg -i spamham_samples/hK1wCYQwL7k.mp4 -r 1 -vframes 1 -f image2 -q:v 1 spamham_samples/frames/hK1wCYQwL7k.%03d.jpeg -y && del spamham_samples\\hK1wCYQwL7k.mp4\n",
      "running donwload, extract, delete cmd...0\n",
      "add file to sources\n",
      "label frame\n",
      "|Mx6zJxpZeMk|\n",
      "get vid info\n",
      "[youtube] Extracting URL: https://www.youtube.com/watch?v=Mx6zJxpZeMk\n",
      "[youtube] Mx6zJxpZeMk: Downloading webpage\n",
      "[youtube] Mx6zJxpZeMk: Downloading android player API JSON\n"
     ]
    },
    {
     "name": "stderr",
     "output_type": "stream",
     "text": [
      "WARNING: [youtube] Mx6zJxpZeMk: nsig extraction failed: You may experience throttling for some formats\n",
      "         Install PhantomJS to workaround the issue. Please download it from https://phantomjs.org/download.html\n",
      "         n = VV0JF2DR-QQVE7 ; player = https://www.youtube.com/s/player/97ea7458/player_ias.vflset/en_US/base.js\n"
     ]
    },
    {
     "name": "stdout",
     "output_type": "stream",
     "text": [
      "get random frame\n",
      "*1745-1746\n",
      "Mx6zJxpZeMk\n",
      "yt-dlp -S res:720,ext:mp4,fps:24 -c --recode mp4 --download-sections *1745-1746 https://www.youtube.com/watch?v=Mx6zJxpZeMk --output spamham_samples/Mx6zJxpZeMk.mp4 --retries infinite --fragment-retries infinite && ffmpeg -i spamham_samples/Mx6zJxpZeMk.mp4 -r 1 -vframes 1 -f image2 -q:v 1 spamham_samples/frames/Mx6zJxpZeMk.%03d.jpeg -y && del spamham_samples\\Mx6zJxpZeMk.mp4\n",
      "running donwload, extract, delete cmd...0\n",
      "add file to sources\n",
      "label frame\n",
      "|U6lC2ZyQ5xg|\n",
      "get vid info\n",
      "[youtube] Extracting URL: https://www.youtube.com/watch?v=U6lC2ZyQ5xg\n",
      "[youtube] U6lC2ZyQ5xg: Downloading webpage\n",
      "[youtube] U6lC2ZyQ5xg: Downloading android player API JSON\n"
     ]
    },
    {
     "name": "stderr",
     "output_type": "stream",
     "text": [
      "WARNING: [youtube] U6lC2ZyQ5xg: nsig extraction failed: You may experience throttling for some formats\n",
      "         Install PhantomJS to workaround the issue. Please download it from https://phantomjs.org/download.html\n",
      "         n = xNJ_sVsodwIhyf ; player = https://www.youtube.com/s/player/97ea7458/player_ias.vflset/en_US/base.js\n"
     ]
    },
    {
     "name": "stdout",
     "output_type": "stream",
     "text": [
      "get random frame\n",
      "*1283-1284\n",
      "U6lC2ZyQ5xg\n",
      "yt-dlp -S res:720,ext:mp4,fps:24 -c --recode mp4 --download-sections *1283-1284 https://www.youtube.com/watch?v=U6lC2ZyQ5xg --output spamham_samples/U6lC2ZyQ5xg.mp4 --retries infinite --fragment-retries infinite && ffmpeg -i spamham_samples/U6lC2ZyQ5xg.mp4 -r 1 -vframes 1 -f image2 -q:v 1 spamham_samples/frames/U6lC2ZyQ5xg.%03d.jpeg -y && del spamham_samples\\U6lC2ZyQ5xg.mp4\n",
      "running donwload, extract, delete cmd...0\n",
      "add file to sources\n",
      "label frame\n",
      "|9YPeLaemb1E|\n",
      "get vid info\n",
      "[youtube] Extracting URL: https://www.youtube.com/watch?v=9YPeLaemb1E\n",
      "[youtube] 9YPeLaemb1E: Downloading webpage\n",
      "[youtube] 9YPeLaemb1E: Downloading android player API JSON\n"
     ]
    },
    {
     "name": "stderr",
     "output_type": "stream",
     "text": [
      "WARNING: [youtube] 9YPeLaemb1E: nsig extraction failed: You may experience throttling for some formats\n",
      "         Install PhantomJS to workaround the issue. Please download it from https://phantomjs.org/download.html\n",
      "         n = p7sloi7AK-B5MZ ; player = https://www.youtube.com/s/player/97ea7458/player_ias.vflset/en_US/base.js\n"
     ]
    },
    {
     "name": "stdout",
     "output_type": "stream",
     "text": [
      "get random frame\n",
      "*7109-7110\n",
      "9YPeLaemb1E\n",
      "yt-dlp -S res:720,ext:mp4,fps:24 -c --recode mp4 --download-sections *7109-7110 https://www.youtube.com/watch?v=9YPeLaemb1E --output spamham_samples/9YPeLaemb1E.mp4 --retries infinite --fragment-retries infinite && ffmpeg -i spamham_samples/9YPeLaemb1E.mp4 -r 1 -vframes 1 -f image2 -q:v 1 spamham_samples/frames/9YPeLaemb1E.%03d.jpeg -y && del spamham_samples\\9YPeLaemb1E.mp4\n",
      "running donwload, extract, delete cmd...0\n",
      "add file to sources\n",
      "label frame\n",
      "|szdg2mwqNWQ|\n",
      "get vid info\n",
      "[youtube] Extracting URL: https://www.youtube.com/watch?v=szdg2mwqNWQ\n",
      "[youtube] szdg2mwqNWQ: Downloading webpage\n",
      "[youtube] szdg2mwqNWQ: Downloading android player API JSON\n"
     ]
    },
    {
     "name": "stderr",
     "output_type": "stream",
     "text": [
      "WARNING: [youtube] szdg2mwqNWQ: nsig extraction failed: You may experience throttling for some formats\n",
      "         Install PhantomJS to workaround the issue. Please download it from https://phantomjs.org/download.html\n",
      "         n = T-hn5nQWB2hTzn ; player = https://www.youtube.com/s/player/97ea7458/player_ias.vflset/en_US/base.js\n"
     ]
    },
    {
     "name": "stdout",
     "output_type": "stream",
     "text": [
      "get random frame\n",
      "*1889-1890\n",
      "szdg2mwqNWQ\n",
      "yt-dlp -S res:720,ext:mp4,fps:24 -c --recode mp4 --download-sections *1889-1890 https://www.youtube.com/watch?v=szdg2mwqNWQ --output spamham_samples/szdg2mwqNWQ.mp4 --retries infinite --fragment-retries infinite && ffmpeg -i spamham_samples/szdg2mwqNWQ.mp4 -r 1 -vframes 1 -f image2 -q:v 1 spamham_samples/frames/szdg2mwqNWQ.%03d.jpeg -y && del spamham_samples\\szdg2mwqNWQ.mp4\n",
      "running donwload, extract, delete cmd...0\n",
      "add file to sources\n",
      "label frame\n",
      "|8GRGiWXskDU|\n",
      "get vid info\n",
      "[youtube] Extracting URL: https://www.youtube.com/watch?v=8GRGiWXskDU\n",
      "[youtube] 8GRGiWXskDU: Downloading webpage\n",
      "[youtube] 8GRGiWXskDU: Downloading android player API JSON\n"
     ]
    },
    {
     "name": "stderr",
     "output_type": "stream",
     "text": [
      "WARNING: [youtube] 8GRGiWXskDU: nsig extraction failed: You may experience throttling for some formats\n",
      "         Install PhantomJS to workaround the issue. Please download it from https://phantomjs.org/download.html\n",
      "         n = 2dc7xhtiR80WHr ; player = https://www.youtube.com/s/player/97ea7458/player_ias.vflset/en_US/base.js\n"
     ]
    },
    {
     "name": "stdout",
     "output_type": "stream",
     "text": [
      "get random frame\n",
      "*1338-1339\n",
      "8GRGiWXskDU\n",
      "yt-dlp -S res:720,ext:mp4,fps:24 -c --recode mp4 --download-sections *1338-1339 https://www.youtube.com/watch?v=8GRGiWXskDU --output spamham_samples/8GRGiWXskDU.mp4 --retries infinite --fragment-retries infinite && ffmpeg -i spamham_samples/8GRGiWXskDU.mp4 -r 1 -vframes 1 -f image2 -q:v 1 spamham_samples/frames/8GRGiWXskDU.%03d.jpeg -y && del spamham_samples\\8GRGiWXskDU.mp4\n",
      "running donwload, extract, delete cmd...0\n",
      "add file to sources\n",
      "label frame\n",
      "|awpaSJpejzs|\n",
      "get vid info\n",
      "[youtube] Extracting URL: https://www.youtube.com/watch?v=awpaSJpejzs\n",
      "[youtube] awpaSJpejzs: Downloading webpage\n",
      "[youtube] awpaSJpejzs: Downloading android player API JSON\n"
     ]
    },
    {
     "name": "stderr",
     "output_type": "stream",
     "text": [
      "WARNING: [youtube] awpaSJpejzs: nsig extraction failed: You may experience throttling for some formats\n",
      "         Install PhantomJS to workaround the issue. Please download it from https://phantomjs.org/download.html\n",
      "         n = xOyJnQbGvrwxyz ; player = https://www.youtube.com/s/player/97ea7458/player_ias.vflset/en_US/base.js\n"
     ]
    },
    {
     "name": "stdout",
     "output_type": "stream",
     "text": [
      "get random frame\n",
      "*1393-1394\n",
      "awpaSJpejzs\n",
      "yt-dlp -S res:720,ext:mp4,fps:24 -c --recode mp4 --download-sections *1393-1394 https://www.youtube.com/watch?v=awpaSJpejzs --output spamham_samples/awpaSJpejzs.mp4 --retries infinite --fragment-retries infinite && ffmpeg -i spamham_samples/awpaSJpejzs.mp4 -r 1 -vframes 1 -f image2 -q:v 1 spamham_samples/frames/awpaSJpejzs.%03d.jpeg -y && del spamham_samples\\awpaSJpejzs.mp4\n",
      "running donwload, extract, delete cmd...0\n",
      "add file to sources\n",
      "label frame\n",
      "|OA7prZkmZyU|\n",
      "get vid info\n",
      "[youtube] Extracting URL: https://www.youtube.com/watch?v=OA7prZkmZyU\n",
      "[youtube] OA7prZkmZyU: Downloading webpage\n",
      "[youtube] OA7prZkmZyU: Downloading android player API JSON\n"
     ]
    },
    {
     "name": "stderr",
     "output_type": "stream",
     "text": [
      "WARNING: [youtube] OA7prZkmZyU: nsig extraction failed: You may experience throttling for some formats\n",
      "         Install PhantomJS to workaround the issue. Please download it from https://phantomjs.org/download.html\n",
      "         n = Bktb1a9YuhTh0H ; player = https://www.youtube.com/s/player/97ea7458/player_ias.vflset/en_US/base.js\n"
     ]
    },
    {
     "name": "stdout",
     "output_type": "stream",
     "text": [
      "get random frame\n",
      "*808-809\n",
      "OA7prZkmZyU\n",
      "yt-dlp -S res:720,ext:mp4,fps:24 -c --recode mp4 --download-sections *808-809 https://www.youtube.com/watch?v=OA7prZkmZyU --output spamham_samples/OA7prZkmZyU.mp4 --retries infinite --fragment-retries infinite && ffmpeg -i spamham_samples/OA7prZkmZyU.mp4 -r 1 -vframes 1 -f image2 -q:v 1 spamham_samples/frames/OA7prZkmZyU.%03d.jpeg -y && del spamham_samples\\OA7prZkmZyU.mp4\n",
      "running donwload, extract, delete cmd...0\n",
      "add file to sources\n",
      "label frame\n",
      "|69SJjT1J4OQ|\n",
      "get vid info\n",
      "[youtube] Extracting URL: https://www.youtube.com/watch?v=69SJjT1J4OQ\n",
      "[youtube] 69SJjT1J4OQ: Downloading webpage\n",
      "[youtube] 69SJjT1J4OQ: Downloading android player API JSON\n"
     ]
    },
    {
     "name": "stderr",
     "output_type": "stream",
     "text": [
      "WARNING: [youtube] 69SJjT1J4OQ: nsig extraction failed: You may experience throttling for some formats\n",
      "         Install PhantomJS to workaround the issue. Please download it from https://phantomjs.org/download.html\n",
      "         n = AmivD_jrTQFw39 ; player = https://www.youtube.com/s/player/97ea7458/player_ias.vflset/en_US/base.js\n"
     ]
    },
    {
     "name": "stdout",
     "output_type": "stream",
     "text": [
      "get random frame\n",
      "*775-776\n",
      "69SJjT1J4OQ\n",
      "yt-dlp -S res:720,ext:mp4,fps:24 -c --recode mp4 --download-sections *775-776 https://www.youtube.com/watch?v=69SJjT1J4OQ --output spamham_samples/69SJjT1J4OQ.mp4 --retries infinite --fragment-retries infinite && ffmpeg -i spamham_samples/69SJjT1J4OQ.mp4 -r 1 -vframes 1 -f image2 -q:v 1 spamham_samples/frames/69SJjT1J4OQ.%03d.jpeg -y && del spamham_samples\\69SJjT1J4OQ.mp4\n",
      "running donwload, extract, delete cmd...0\n",
      "add file to sources\n",
      "label frame\n",
      "|g4SlBb4Gd2E|\n",
      "get vid info\n",
      "[youtube] Extracting URL: https://www.youtube.com/watch?v=g4SlBb4Gd2E\n",
      "[youtube] g4SlBb4Gd2E: Downloading webpage\n",
      "[youtube] g4SlBb4Gd2E: Downloading android player API JSON\n"
     ]
    },
    {
     "name": "stderr",
     "output_type": "stream",
     "text": [
      "WARNING: [youtube] g4SlBb4Gd2E: nsig extraction failed: You may experience throttling for some formats\n",
      "         Install PhantomJS to workaround the issue. Please download it from https://phantomjs.org/download.html\n",
      "         n = iHOmSopnAl8y79 ; player = https://www.youtube.com/s/player/97ea7458/player_ias.vflset/en_US/base.js\n"
     ]
    },
    {
     "name": "stdout",
     "output_type": "stream",
     "text": [
      "get random frame\n",
      "*372-373\n",
      "g4SlBb4Gd2E\n",
      "yt-dlp -S res:720,ext:mp4,fps:24 -c --recode mp4 --download-sections *372-373 https://www.youtube.com/watch?v=g4SlBb4Gd2E --output spamham_samples/g4SlBb4Gd2E.mp4 --retries infinite --fragment-retries infinite && ffmpeg -i spamham_samples/g4SlBb4Gd2E.mp4 -r 1 -vframes 1 -f image2 -q:v 1 spamham_samples/frames/g4SlBb4Gd2E.%03d.jpeg -y && del spamham_samples\\g4SlBb4Gd2E.mp4\n",
      "running donwload, extract, delete cmd...0\n",
      "add file to sources\n",
      "label frame\n",
      "|wNUjh7PsrcE|\n",
      "get vid info\n",
      "[youtube] Extracting URL: https://www.youtube.com/watch?v=wNUjh7PsrcE\n",
      "[youtube] wNUjh7PsrcE: Downloading webpage\n",
      "[youtube] wNUjh7PsrcE: Downloading android player API JSON\n"
     ]
    },
    {
     "name": "stderr",
     "output_type": "stream",
     "text": [
      "WARNING: [youtube] wNUjh7PsrcE: nsig extraction failed: You may experience throttling for some formats\n",
      "         Install PhantomJS to workaround the issue. Please download it from https://phantomjs.org/download.html\n",
      "         n = I1XZGmHI-eiYVb ; player = https://www.youtube.com/s/player/97ea7458/player_ias.vflset/en_US/base.js\n"
     ]
    },
    {
     "name": "stdout",
     "output_type": "stream",
     "text": [
      "get random frame\n",
      "*796-797\n",
      "wNUjh7PsrcE\n",
      "yt-dlp -S res:720,ext:mp4,fps:24 -c --recode mp4 --download-sections *796-797 https://www.youtube.com/watch?v=wNUjh7PsrcE --output spamham_samples/wNUjh7PsrcE.mp4 --retries infinite --fragment-retries infinite && ffmpeg -i spamham_samples/wNUjh7PsrcE.mp4 -r 1 -vframes 1 -f image2 -q:v 1 spamham_samples/frames/wNUjh7PsrcE.%03d.jpeg -y && del spamham_samples\\wNUjh7PsrcE.mp4\n",
      "running donwload, extract, delete cmd...0\n",
      "add file to sources\n",
      "label frame\n",
      "|DgcIXWN1kUo|\n",
      "get vid info\n",
      "[youtube] Extracting URL: https://www.youtube.com/watch?v=DgcIXWN1kUo\n",
      "[youtube] DgcIXWN1kUo: Downloading webpage\n",
      "[youtube] DgcIXWN1kUo: Downloading android player API JSON\n"
     ]
    },
    {
     "name": "stderr",
     "output_type": "stream",
     "text": [
      "WARNING: [youtube] DgcIXWN1kUo: nsig extraction failed: You may experience throttling for some formats\n",
      "         Install PhantomJS to workaround the issue. Please download it from https://phantomjs.org/download.html\n",
      "         n = jiAWfy9GmvmDql ; player = https://www.youtube.com/s/player/97ea7458/player_ias.vflset/en_US/base.js\n"
     ]
    },
    {
     "name": "stdout",
     "output_type": "stream",
     "text": [
      "get random frame\n",
      "*578-579\n",
      "DgcIXWN1kUo\n",
      "yt-dlp -S res:720,ext:mp4,fps:24 -c --recode mp4 --download-sections *578-579 https://www.youtube.com/watch?v=DgcIXWN1kUo --output spamham_samples/DgcIXWN1kUo.mp4 --retries infinite --fragment-retries infinite && ffmpeg -i spamham_samples/DgcIXWN1kUo.mp4 -r 1 -vframes 1 -f image2 -q:v 1 spamham_samples/frames/DgcIXWN1kUo.%03d.jpeg -y && del spamham_samples\\DgcIXWN1kUo.mp4\n",
      "running donwload, extract, delete cmd...0\n",
      "add file to sources\n",
      "label frame\n",
      "|-xGJz_0ZDnc|\n",
      "get vid info\n",
      "[youtube] Extracting URL: https://www.youtube.com/watch?v=-xGJz_0ZDnc\n",
      "[youtube] -xGJz_0ZDnc: Downloading webpage\n",
      "[youtube] -xGJz_0ZDnc: Downloading android player API JSON\n"
     ]
    },
    {
     "name": "stderr",
     "output_type": "stream",
     "text": [
      "WARNING: [youtube] -xGJz_0ZDnc: nsig extraction failed: You may experience throttling for some formats\n",
      "         Install PhantomJS to workaround the issue. Please download it from https://phantomjs.org/download.html\n",
      "         n = iKPGEls4hsdSbJ ; player = https://www.youtube.com/s/player/97ea7458/player_ias.vflset/en_US/base.js\n"
     ]
    },
    {
     "name": "stdout",
     "output_type": "stream",
     "text": [
      "get random frame\n",
      "*678-679\n",
      "-xGJz_0ZDnc\n",
      "yt-dlp -S res:720,ext:mp4,fps:24 -c --recode mp4 --download-sections *678-679 https://www.youtube.com/watch?v=-xGJz_0ZDnc --output spamham_samples/-xGJz_0ZDnc.mp4 --retries infinite --fragment-retries infinite && ffmpeg -i spamham_samples/-xGJz_0ZDnc.mp4 -r 1 -vframes 1 -f image2 -q:v 1 spamham_samples/frames/-xGJz_0ZDnc.%03d.jpeg -y && del spamham_samples\\-xGJz_0ZDnc.mp4\n",
      "running donwload, extract, delete cmd...0\n",
      "add file to sources\n",
      "label frame\n",
      "|_Y2z2tfF1pM|\n",
      "get vid info\n",
      "[youtube] Extracting URL: https://www.youtube.com/watch?v=_Y2z2tfF1pM\n",
      "[youtube] _Y2z2tfF1pM: Downloading webpage\n",
      "[youtube] _Y2z2tfF1pM: Downloading android player API JSON\n"
     ]
    },
    {
     "name": "stderr",
     "output_type": "stream",
     "text": [
      "WARNING: [youtube] _Y2z2tfF1pM: nsig extraction failed: You may experience throttling for some formats\n",
      "         Install PhantomJS to workaround the issue. Please download it from https://phantomjs.org/download.html\n",
      "         n = pEbSv8cLXJE5ex ; player = https://www.youtube.com/s/player/97ea7458/player_ias.vflset/en_US/base.js\n"
     ]
    },
    {
     "name": "stdout",
     "output_type": "stream",
     "text": [
      "get random frame\n",
      "*330-331\n",
      "_Y2z2tfF1pM\n",
      "yt-dlp -S res:720,ext:mp4,fps:24 -c --recode mp4 --download-sections *330-331 https://www.youtube.com/watch?v=_Y2z2tfF1pM --output spamham_samples/_Y2z2tfF1pM.mp4 --retries infinite --fragment-retries infinite && ffmpeg -i spamham_samples/_Y2z2tfF1pM.mp4 -r 1 -vframes 1 -f image2 -q:v 1 spamham_samples/frames/_Y2z2tfF1pM.%03d.jpeg -y && del spamham_samples\\_Y2z2tfF1pM.mp4\n",
      "running donwload, extract, delete cmd...0\n",
      "add file to sources\n",
      "label frame\n",
      "|cv_BJVvkvYU|\n",
      "get vid info\n",
      "[youtube] Extracting URL: https://www.youtube.com/watch?v=cv_BJVvkvYU\n",
      "[youtube] cv_BJVvkvYU: Downloading webpage\n",
      "[youtube] cv_BJVvkvYU: Downloading android player API JSON\n"
     ]
    },
    {
     "name": "stderr",
     "output_type": "stream",
     "text": [
      "WARNING: [youtube] cv_BJVvkvYU: nsig extraction failed: You may experience throttling for some formats\n",
      "         Install PhantomJS to workaround the issue. Please download it from https://phantomjs.org/download.html\n",
      "         n = NO2FHUdkvq4tB4 ; player = https://www.youtube.com/s/player/97ea7458/player_ias.vflset/en_US/base.js\n"
     ]
    },
    {
     "name": "stdout",
     "output_type": "stream",
     "text": [
      "get random frame\n",
      "*1472-1473\n",
      "cv_BJVvkvYU\n",
      "yt-dlp -S res:720,ext:mp4,fps:24 -c --recode mp4 --download-sections *1472-1473 https://www.youtube.com/watch?v=cv_BJVvkvYU --output spamham_samples/cv_BJVvkvYU.mp4 --retries infinite --fragment-retries infinite && ffmpeg -i spamham_samples/cv_BJVvkvYU.mp4 -r 1 -vframes 1 -f image2 -q:v 1 spamham_samples/frames/cv_BJVvkvYU.%03d.jpeg -y && del spamham_samples\\cv_BJVvkvYU.mp4\n",
      "running donwload, extract, delete cmd...0\n",
      "add file to sources\n",
      "label frame\n",
      "|_FtpNuLS6ZQ|\n",
      "get vid info\n",
      "[youtube] Extracting URL: https://www.youtube.com/watch?v=_FtpNuLS6ZQ\n",
      "[youtube] _FtpNuLS6ZQ: Downloading webpage\n",
      "[youtube] _FtpNuLS6ZQ: Downloading android player API JSON\n"
     ]
    },
    {
     "name": "stderr",
     "output_type": "stream",
     "text": [
      "WARNING: [youtube] _FtpNuLS6ZQ: nsig extraction failed: You may experience throttling for some formats\n",
      "         Install PhantomJS to workaround the issue. Please download it from https://phantomjs.org/download.html\n",
      "         n = XxlXOKiP7xmXwV ; player = https://www.youtube.com/s/player/97ea7458/player_ias.vflset/en_US/base.js\n"
     ]
    },
    {
     "name": "stdout",
     "output_type": "stream",
     "text": [
      "get random frame\n",
      "*436-437\n",
      "_FtpNuLS6ZQ\n",
      "yt-dlp -S res:720,ext:mp4,fps:24 -c --recode mp4 --download-sections *436-437 https://www.youtube.com/watch?v=_FtpNuLS6ZQ --output spamham_samples/_FtpNuLS6ZQ.mp4 --retries infinite --fragment-retries infinite && ffmpeg -i spamham_samples/_FtpNuLS6ZQ.mp4 -r 1 -vframes 1 -f image2 -q:v 1 spamham_samples/frames/_FtpNuLS6ZQ.%03d.jpeg -y && del spamham_samples\\_FtpNuLS6ZQ.mp4\n",
      "running donwload, extract, delete cmd...0\n",
      "add file to sources\n",
      "label frame\n",
      "|eoJqqaq1r04|\n",
      "get vid info\n",
      "[youtube] Extracting URL: https://www.youtube.com/watch?v=eoJqqaq1r04\n",
      "[youtube] eoJqqaq1r04: Downloading webpage\n",
      "[youtube] eoJqqaq1r04: Downloading android player API JSON\n"
     ]
    },
    {
     "name": "stderr",
     "output_type": "stream",
     "text": [
      "WARNING: [youtube] eoJqqaq1r04: nsig extraction failed: You may experience throttling for some formats\n",
      "         Install PhantomJS to workaround the issue. Please download it from https://phantomjs.org/download.html\n",
      "         n = Mndegg6IVuA8gs ; player = https://www.youtube.com/s/player/97ea7458/player_ias.vflset/en_US/base.js\n"
     ]
    },
    {
     "name": "stdout",
     "output_type": "stream",
     "text": [
      "get random frame\n",
      "*332-333\n",
      "eoJqqaq1r04\n",
      "yt-dlp -S res:720,ext:mp4,fps:24 -c --recode mp4 --download-sections *332-333 https://www.youtube.com/watch?v=eoJqqaq1r04 --output spamham_samples/eoJqqaq1r04.mp4 --retries infinite --fragment-retries infinite && ffmpeg -i spamham_samples/eoJqqaq1r04.mp4 -r 1 -vframes 1 -f image2 -q:v 1 spamham_samples/frames/eoJqqaq1r04.%03d.jpeg -y && del spamham_samples\\eoJqqaq1r04.mp4\n",
      "running donwload, extract, delete cmd...0\n",
      "add file to sources\n",
      "label frame\n",
      "|g5RlkUCsIgE|\n",
      "get vid info\n",
      "[youtube] Extracting URL: https://www.youtube.com/watch?v=g5RlkUCsIgE\n",
      "[youtube] g5RlkUCsIgE: Downloading webpage\n",
      "[youtube] g5RlkUCsIgE: Downloading android player API JSON\n"
     ]
    },
    {
     "name": "stderr",
     "output_type": "stream",
     "text": [
      "WARNING: [youtube] g5RlkUCsIgE: nsig extraction failed: You may experience throttling for some formats\n",
      "         Install PhantomJS to workaround the issue. Please download it from https://phantomjs.org/download.html\n",
      "         n = OD1ZgJ4vxcWuLL ; player = https://www.youtube.com/s/player/97ea7458/player_ias.vflset/en_US/base.js\n"
     ]
    },
    {
     "name": "stdout",
     "output_type": "stream",
     "text": [
      "get random frame\n",
      "*698-699\n",
      "g5RlkUCsIgE\n",
      "yt-dlp -S res:720,ext:mp4,fps:24 -c --recode mp4 --download-sections *698-699 https://www.youtube.com/watch?v=g5RlkUCsIgE --output spamham_samples/g5RlkUCsIgE.mp4 --retries infinite --fragment-retries infinite && ffmpeg -i spamham_samples/g5RlkUCsIgE.mp4 -r 1 -vframes 1 -f image2 -q:v 1 spamham_samples/frames/g5RlkUCsIgE.%03d.jpeg -y && del spamham_samples\\g5RlkUCsIgE.mp4\n",
      "running donwload, extract, delete cmd...0\n",
      "add file to sources\n",
      "label frame\n",
      "|5bQaV83ZLGI|\n",
      "get vid info\n",
      "[youtube] Extracting URL: https://www.youtube.com/watch?v=5bQaV83ZLGI\n",
      "[youtube] 5bQaV83ZLGI: Downloading webpage\n",
      "[youtube] 5bQaV83ZLGI: Downloading android player API JSON\n"
     ]
    },
    {
     "name": "stderr",
     "output_type": "stream",
     "text": [
      "WARNING: [youtube] 5bQaV83ZLGI: nsig extraction failed: You may experience throttling for some formats\n",
      "         Install PhantomJS to workaround the issue. Please download it from https://phantomjs.org/download.html\n",
      "         n = rPgk-h_UV7fbfV ; player = https://www.youtube.com/s/player/97ea7458/player_ias.vflset/en_US/base.js\n"
     ]
    },
    {
     "name": "stdout",
     "output_type": "stream",
     "text": [
      "get random frame\n",
      "*1262-1263\n",
      "5bQaV83ZLGI\n",
      "yt-dlp -S res:720,ext:mp4,fps:24 -c --recode mp4 --download-sections *1262-1263 https://www.youtube.com/watch?v=5bQaV83ZLGI --output spamham_samples/5bQaV83ZLGI.mp4 --retries infinite --fragment-retries infinite && ffmpeg -i spamham_samples/5bQaV83ZLGI.mp4 -r 1 -vframes 1 -f image2 -q:v 1 spamham_samples/frames/5bQaV83ZLGI.%03d.jpeg -y && del spamham_samples\\5bQaV83ZLGI.mp4\n",
      "running donwload, extract, delete cmd...0\n",
      "add file to sources\n",
      "label frame\n",
      "|_xo09ecwdyI|\n",
      "get vid info\n",
      "[youtube] Extracting URL: https://www.youtube.com/watch?v=_xo09ecwdyI\n",
      "[youtube] _xo09ecwdyI: Downloading webpage\n",
      "[youtube] _xo09ecwdyI: Downloading android player API JSON\n"
     ]
    },
    {
     "name": "stderr",
     "output_type": "stream",
     "text": [
      "WARNING: [youtube] _xo09ecwdyI: nsig extraction failed: You may experience throttling for some formats\n",
      "         Install PhantomJS to workaround the issue. Please download it from https://phantomjs.org/download.html\n",
      "         n = oC0vjQb7I3zIb8 ; player = https://www.youtube.com/s/player/97ea7458/player_ias.vflset/en_US/base.js\n"
     ]
    },
    {
     "name": "stdout",
     "output_type": "stream",
     "text": [
      "get random frame\n",
      "*1336-1337\n",
      "_xo09ecwdyI\n",
      "yt-dlp -S res:720,ext:mp4,fps:24 -c --recode mp4 --download-sections *1336-1337 https://www.youtube.com/watch?v=_xo09ecwdyI --output spamham_samples/_xo09ecwdyI.mp4 --retries infinite --fragment-retries infinite && ffmpeg -i spamham_samples/_xo09ecwdyI.mp4 -r 1 -vframes 1 -f image2 -q:v 1 spamham_samples/frames/_xo09ecwdyI.%03d.jpeg -y && del spamham_samples\\_xo09ecwdyI.mp4\n",
      "running donwload, extract, delete cmd...0\n",
      "add file to sources\n",
      "label frame\n",
      "|KrTH91mITjM|\n",
      "get vid info\n",
      "[youtube] Extracting URL: https://www.youtube.com/watch?v=KrTH91mITjM\n",
      "[youtube] KrTH91mITjM: Downloading webpage\n",
      "[youtube] KrTH91mITjM: Downloading android player API JSON\n"
     ]
    },
    {
     "name": "stderr",
     "output_type": "stream",
     "text": [
      "WARNING: [youtube] KrTH91mITjM: nsig extraction failed: You may experience throttling for some formats\n",
      "         Install PhantomJS to workaround the issue. Please download it from https://phantomjs.org/download.html\n",
      "         n = N3EWF069gXU93U ; player = https://www.youtube.com/s/player/97ea7458/player_ias.vflset/en_US/base.js\n"
     ]
    },
    {
     "name": "stdout",
     "output_type": "stream",
     "text": [
      "get random frame\n",
      "*1157-1158\n",
      "KrTH91mITjM\n",
      "yt-dlp -S res:720,ext:mp4,fps:24 -c --recode mp4 --download-sections *1157-1158 https://www.youtube.com/watch?v=KrTH91mITjM --output spamham_samples/KrTH91mITjM.mp4 --retries infinite --fragment-retries infinite && ffmpeg -i spamham_samples/KrTH91mITjM.mp4 -r 1 -vframes 1 -f image2 -q:v 1 spamham_samples/frames/KrTH91mITjM.%03d.jpeg -y && del spamham_samples\\KrTH91mITjM.mp4\n",
      "running donwload, extract, delete cmd...0\n",
      "add file to sources\n",
      "label frame\n",
      "|byPUbEgp6EQ|\n",
      "get vid info\n",
      "[youtube] Extracting URL: https://www.youtube.com/watch?v=byPUbEgp6EQ\n",
      "[youtube] byPUbEgp6EQ: Downloading webpage\n",
      "[youtube] byPUbEgp6EQ: Downloading android player API JSON\n"
     ]
    },
    {
     "name": "stderr",
     "output_type": "stream",
     "text": [
      "WARNING: [youtube] byPUbEgp6EQ: nsig extraction failed: You may experience throttling for some formats\n",
      "         Install PhantomJS to workaround the issue. Please download it from https://phantomjs.org/download.html\n",
      "         n = 6SquOcAwnTfKQ2 ; player = https://www.youtube.com/s/player/97ea7458/player_ias.vflset/en_US/base.js\n"
     ]
    },
    {
     "name": "stdout",
     "output_type": "stream",
     "text": [
      "get random frame\n",
      "*2296-2297\n",
      "byPUbEgp6EQ\n",
      "yt-dlp -S res:720,ext:mp4,fps:24 -c --recode mp4 --download-sections *2296-2297 https://www.youtube.com/watch?v=byPUbEgp6EQ --output spamham_samples/byPUbEgp6EQ.mp4 --retries infinite --fragment-retries infinite && ffmpeg -i spamham_samples/byPUbEgp6EQ.mp4 -r 1 -vframes 1 -f image2 -q:v 1 spamham_samples/frames/byPUbEgp6EQ.%03d.jpeg -y && del spamham_samples\\byPUbEgp6EQ.mp4\n",
      "running donwload, extract, delete cmd...0\n",
      "add file to sources\n",
      "label frame\n",
      "|T-QSCupnw4g|\n",
      "get vid info\n",
      "[youtube] Extracting URL: https://www.youtube.com/watch?v=T-QSCupnw4g\n",
      "[youtube] T-QSCupnw4g: Downloading webpage\n",
      "[youtube] T-QSCupnw4g: Downloading android player API JSON\n"
     ]
    },
    {
     "name": "stderr",
     "output_type": "stream",
     "text": [
      "WARNING: [youtube] T-QSCupnw4g: nsig extraction failed: You may experience throttling for some formats\n",
      "         Install PhantomJS to workaround the issue. Please download it from https://phantomjs.org/download.html\n",
      "         n = vnCtwhnj0auvW- ; player = https://www.youtube.com/s/player/97ea7458/player_ias.vflset/en_US/base.js\n"
     ]
    },
    {
     "name": "stdout",
     "output_type": "stream",
     "text": [
      "get random frame\n",
      "*504-505\n",
      "T-QSCupnw4g\n",
      "yt-dlp -S res:720,ext:mp4,fps:24 -c --recode mp4 --download-sections *504-505 https://www.youtube.com/watch?v=T-QSCupnw4g --output spamham_samples/T-QSCupnw4g.mp4 --retries infinite --fragment-retries infinite && ffmpeg -i spamham_samples/T-QSCupnw4g.mp4 -r 1 -vframes 1 -f image2 -q:v 1 spamham_samples/frames/T-QSCupnw4g.%03d.jpeg -y && del spamham_samples\\T-QSCupnw4g.mp4\n",
      "running donwload, extract, delete cmd...0\n",
      "add file to sources\n",
      "label frame\n",
      "|g6eZP917-VA|\n",
      "get vid info\n",
      "[youtube] Extracting URL: https://www.youtube.com/watch?v=g6eZP917-VA\n",
      "[youtube] g6eZP917-VA: Downloading webpage\n",
      "[youtube] g6eZP917-VA: Downloading android player API JSON\n"
     ]
    },
    {
     "name": "stderr",
     "output_type": "stream",
     "text": [
      "WARNING: [youtube] g6eZP917-VA: nsig extraction failed: You may experience throttling for some formats\n",
      "         Install PhantomJS to workaround the issue. Please download it from https://phantomjs.org/download.html\n",
      "         n = wE_bbWFV9jPAus ; player = https://www.youtube.com/s/player/97ea7458/player_ias.vflset/en_US/base.js\n"
     ]
    },
    {
     "name": "stdout",
     "output_type": "stream",
     "text": [
      "get random frame\n",
      "*478-479\n",
      "g6eZP917-VA\n",
      "yt-dlp -S res:720,ext:mp4,fps:24 -c --recode mp4 --download-sections *478-479 https://www.youtube.com/watch?v=g6eZP917-VA --output spamham_samples/g6eZP917-VA.mp4 --retries infinite --fragment-retries infinite && ffmpeg -i spamham_samples/g6eZP917-VA.mp4 -r 1 -vframes 1 -f image2 -q:v 1 spamham_samples/frames/g6eZP917-VA.%03d.jpeg -y && del spamham_samples\\g6eZP917-VA.mp4\n",
      "running donwload, extract, delete cmd...0\n",
      "add file to sources\n",
      "label frame\n",
      "|C_S33JZWSnU|\n",
      "get vid info\n",
      "[youtube] Extracting URL: https://www.youtube.com/watch?v=C_S33JZWSnU\n",
      "[youtube] C_S33JZWSnU: Downloading webpage\n",
      "[youtube] C_S33JZWSnU: Downloading android player API JSON\n"
     ]
    },
    {
     "name": "stderr",
     "output_type": "stream",
     "text": [
      "WARNING: [youtube] C_S33JZWSnU: nsig extraction failed: You may experience throttling for some formats\n",
      "         Install PhantomJS to workaround the issue. Please download it from https://phantomjs.org/download.html\n",
      "         n = 7s5s1_2pPTHr7k ; player = https://www.youtube.com/s/player/97ea7458/player_ias.vflset/en_US/base.js\n"
     ]
    },
    {
     "name": "stdout",
     "output_type": "stream",
     "text": [
      "get random frame\n",
      "*1234-1235\n",
      "C_S33JZWSnU\n",
      "yt-dlp -S res:720,ext:mp4,fps:24 -c --recode mp4 --download-sections *1234-1235 https://www.youtube.com/watch?v=C_S33JZWSnU --output spamham_samples/C_S33JZWSnU.mp4 --retries infinite --fragment-retries infinite && ffmpeg -i spamham_samples/C_S33JZWSnU.mp4 -r 1 -vframes 1 -f image2 -q:v 1 spamham_samples/frames/C_S33JZWSnU.%03d.jpeg -y && del spamham_samples\\C_S33JZWSnU.mp4\n",
      "running donwload, extract, delete cmd...0\n",
      "add file to sources\n",
      "label frame\n",
      "|lUp0isDbZgs|\n",
      "get vid info\n",
      "[youtube] Extracting URL: https://www.youtube.com/watch?v=lUp0isDbZgs\n",
      "[youtube] lUp0isDbZgs: Downloading webpage\n",
      "[youtube] lUp0isDbZgs: Downloading android player API JSON\n"
     ]
    },
    {
     "name": "stderr",
     "output_type": "stream",
     "text": [
      "WARNING: [youtube] lUp0isDbZgs: nsig extraction failed: You may experience throttling for some formats\n",
      "         Install PhantomJS to workaround the issue. Please download it from https://phantomjs.org/download.html\n",
      "         n = S7qsrLeSzm5CuS ; player = https://www.youtube.com/s/player/97ea7458/player_ias.vflset/en_US/base.js\n"
     ]
    },
    {
     "name": "stdout",
     "output_type": "stream",
     "text": [
      "get random frame\n",
      "*2200-2201\n",
      "lUp0isDbZgs\n",
      "yt-dlp -S res:720,ext:mp4,fps:24 -c --recode mp4 --download-sections *2200-2201 https://www.youtube.com/watch?v=lUp0isDbZgs --output spamham_samples/lUp0isDbZgs.mp4 --retries infinite --fragment-retries infinite && ffmpeg -i spamham_samples/lUp0isDbZgs.mp4 -r 1 -vframes 1 -f image2 -q:v 1 spamham_samples/frames/lUp0isDbZgs.%03d.jpeg -y && del spamham_samples\\lUp0isDbZgs.mp4\n",
      "running donwload, extract, delete cmd...0\n",
      "add file to sources\n",
      "label frame\n",
      "|j5Ur0PSr8_o|\n",
      "get vid info\n",
      "[youtube] Extracting URL: https://www.youtube.com/watch?v=j5Ur0PSr8_o\n",
      "[youtube] j5Ur0PSr8_o: Downloading webpage\n",
      "[youtube] j5Ur0PSr8_o: Downloading android player API JSON\n"
     ]
    },
    {
     "name": "stderr",
     "output_type": "stream",
     "text": [
      "WARNING: [youtube] j5Ur0PSr8_o: nsig extraction failed: You may experience throttling for some formats\n",
      "         Install PhantomJS to workaround the issue. Please download it from https://phantomjs.org/download.html\n",
      "         n = BvvysygXYGnxPp ; player = https://www.youtube.com/s/player/97ea7458/player_ias.vflset/en_US/base.js\n"
     ]
    },
    {
     "name": "stdout",
     "output_type": "stream",
     "text": [
      "get random frame\n",
      "*946-947\n",
      "j5Ur0PSr8_o\n",
      "yt-dlp -S res:720,ext:mp4,fps:24 -c --recode mp4 --download-sections *946-947 https://www.youtube.com/watch?v=j5Ur0PSr8_o --output spamham_samples/j5Ur0PSr8_o.mp4 --retries infinite --fragment-retries infinite && ffmpeg -i spamham_samples/j5Ur0PSr8_o.mp4 -r 1 -vframes 1 -f image2 -q:v 1 spamham_samples/frames/j5Ur0PSr8_o.%03d.jpeg -y && del spamham_samples\\j5Ur0PSr8_o.mp4\n",
      "running donwload, extract, delete cmd...0\n",
      "add file to sources\n",
      "label frame\n",
      "|CKW3EXLnBS8|\n",
      "get vid info\n",
      "[youtube] Extracting URL: https://www.youtube.com/watch?v=CKW3EXLnBS8\n",
      "[youtube] CKW3EXLnBS8: Downloading webpage\n",
      "[youtube] CKW3EXLnBS8: Downloading android player API JSON\n"
     ]
    },
    {
     "name": "stderr",
     "output_type": "stream",
     "text": [
      "WARNING: [youtube] CKW3EXLnBS8: nsig extraction failed: You may experience throttling for some formats\n",
      "         Install PhantomJS to workaround the issue. Please download it from https://phantomjs.org/download.html\n",
      "         n = EYSIKqVsgbf0-x ; player = https://www.youtube.com/s/player/97ea7458/player_ias.vflset/en_US/base.js\n"
     ]
    },
    {
     "name": "stdout",
     "output_type": "stream",
     "text": [
      "get random frame\n",
      "*1207-1208\n",
      "CKW3EXLnBS8\n",
      "yt-dlp -S res:720,ext:mp4,fps:24 -c --recode mp4 --download-sections *1207-1208 https://www.youtube.com/watch?v=CKW3EXLnBS8 --output spamham_samples/CKW3EXLnBS8.mp4 --retries infinite --fragment-retries infinite && ffmpeg -i spamham_samples/CKW3EXLnBS8.mp4 -r 1 -vframes 1 -f image2 -q:v 1 spamham_samples/frames/CKW3EXLnBS8.%03d.jpeg -y && del spamham_samples\\CKW3EXLnBS8.mp4\n",
      "running donwload, extract, delete cmd...0\n",
      "add file to sources\n",
      "label frame\n",
      "|h_mJaK9QJWg|\n",
      "get vid info\n",
      "[youtube] Extracting URL: https://www.youtube.com/watch?v=h_mJaK9QJWg\n",
      "[youtube] h_mJaK9QJWg: Downloading webpage\n",
      "[youtube] h_mJaK9QJWg: Downloading android player API JSON\n"
     ]
    },
    {
     "name": "stderr",
     "output_type": "stream",
     "text": [
      "WARNING: [youtube] h_mJaK9QJWg: nsig extraction failed: You may experience throttling for some formats\n",
      "         Install PhantomJS to workaround the issue. Please download it from https://phantomjs.org/download.html\n",
      "         n = OGNE2B0OwQru6a ; player = https://www.youtube.com/s/player/97ea7458/player_ias.vflset/en_US/base.js\n"
     ]
    },
    {
     "name": "stdout",
     "output_type": "stream",
     "text": [
      "get random frame\n",
      "*957-958\n",
      "h_mJaK9QJWg\n",
      "yt-dlp -S res:720,ext:mp4,fps:24 -c --recode mp4 --download-sections *957-958 https://www.youtube.com/watch?v=h_mJaK9QJWg --output spamham_samples/h_mJaK9QJWg.mp4 --retries infinite --fragment-retries infinite && ffmpeg -i spamham_samples/h_mJaK9QJWg.mp4 -r 1 -vframes 1 -f image2 -q:v 1 spamham_samples/frames/h_mJaK9QJWg.%03d.jpeg -y && del spamham_samples\\h_mJaK9QJWg.mp4\n",
      "running donwload, extract, delete cmd...0\n",
      "add file to sources\n",
      "label frame\n",
      "|pj7kIM9DFrI|\n",
      "get vid info\n",
      "[youtube] Extracting URL: https://www.youtube.com/watch?v=pj7kIM9DFrI\n",
      "[youtube] pj7kIM9DFrI: Downloading webpage\n",
      "[youtube] pj7kIM9DFrI: Downloading android player API JSON\n",
      "get random frame\n",
      "*1176-1177\n",
      "pj7kIM9DFrI\n",
      "yt-dlp -S res:720,ext:mp4,fps:24 -c --recode mp4 --download-sections *1176-1177 https://www.youtube.com/watch?v=pj7kIM9DFrI --output spamham_samples/pj7kIM9DFrI.mp4 --retries infinite --fragment-retries infinite && ffmpeg -i spamham_samples/pj7kIM9DFrI.mp4 -r 1 -vframes 1 -f image2 -q:v 1 spamham_samples/frames/pj7kIM9DFrI.%03d.jpeg -y && del spamham_samples\\pj7kIM9DFrI.mp4\n",
      "running donwload, extract, delete cmd...0\n",
      "add file to sources\n",
      "label frame\n",
      "|jnqs1ocMs_o|\n",
      "get vid info\n",
      "[youtube] Extracting URL: https://www.youtube.com/watch?v=jnqs1ocMs_o\n",
      "[youtube] jnqs1ocMs_o: Downloading webpage\n",
      "[youtube] jnqs1ocMs_o: Downloading android player API JSON\n"
     ]
    },
    {
     "name": "stderr",
     "output_type": "stream",
     "text": [
      "WARNING: [youtube] jnqs1ocMs_o: nsig extraction failed: You may experience throttling for some formats\n",
      "         Install PhantomJS to workaround the issue. Please download it from https://phantomjs.org/download.html\n",
      "         n = ocXGzURWRvyo6Z ; player = https://www.youtube.com/s/player/97ea7458/player_ias.vflset/en_US/base.js\n"
     ]
    },
    {
     "name": "stdout",
     "output_type": "stream",
     "text": [
      "get random frame\n",
      "*503-504\n",
      "jnqs1ocMs_o\n",
      "yt-dlp -S res:720,ext:mp4,fps:24 -c --recode mp4 --download-sections *503-504 https://www.youtube.com/watch?v=jnqs1ocMs_o --output spamham_samples/jnqs1ocMs_o.mp4 --retries infinite --fragment-retries infinite && ffmpeg -i spamham_samples/jnqs1ocMs_o.mp4 -r 1 -vframes 1 -f image2 -q:v 1 spamham_samples/frames/jnqs1ocMs_o.%03d.jpeg -y && del spamham_samples\\jnqs1ocMs_o.mp4\n",
      "running donwload, extract, delete cmd...0\n",
      "add file to sources\n",
      "label frame\n",
      "|LwR7MPslxVw|\n",
      "get vid info\n",
      "[youtube] Extracting URL: https://www.youtube.com/watch?v=LwR7MPslxVw\n",
      "[youtube] LwR7MPslxVw: Downloading webpage\n",
      "[youtube] LwR7MPslxVw: Downloading android player API JSON\n"
     ]
    },
    {
     "name": "stderr",
     "output_type": "stream",
     "text": [
      "WARNING: [youtube] LwR7MPslxVw: nsig extraction failed: You may experience throttling for some formats\n",
      "         Install PhantomJS to workaround the issue. Please download it from https://phantomjs.org/download.html\n",
      "         n = iMlMo7jIQi8Slx ; player = https://www.youtube.com/s/player/97ea7458/player_ias.vflset/en_US/base.js\n"
     ]
    },
    {
     "name": "stdout",
     "output_type": "stream",
     "text": [
      "get random frame\n",
      "*2080-2081\n",
      "LwR7MPslxVw\n",
      "yt-dlp -S res:720,ext:mp4,fps:24 -c --recode mp4 --download-sections *2080-2081 https://www.youtube.com/watch?v=LwR7MPslxVw --output spamham_samples/LwR7MPslxVw.mp4 --retries infinite --fragment-retries infinite && ffmpeg -i spamham_samples/LwR7MPslxVw.mp4 -r 1 -vframes 1 -f image2 -q:v 1 spamham_samples/frames/LwR7MPslxVw.%03d.jpeg -y && del spamham_samples\\LwR7MPslxVw.mp4\n",
      "running donwload, extract, delete cmd...0\n",
      "add file to sources\n",
      "label frame\n",
      "|c1unRkxaUps|\n",
      "get vid info\n",
      "[youtube] Extracting URL: https://www.youtube.com/watch?v=c1unRkxaUps\n",
      "[youtube] c1unRkxaUps: Downloading webpage\n",
      "[youtube] c1unRkxaUps: Downloading android player API JSON\n"
     ]
    },
    {
     "name": "stderr",
     "output_type": "stream",
     "text": [
      "WARNING: [youtube] c1unRkxaUps: nsig extraction failed: You may experience throttling for some formats\n",
      "         Install PhantomJS to workaround the issue. Please download it from https://phantomjs.org/download.html\n",
      "         n = KJsVDrcerjB63M ; player = https://www.youtube.com/s/player/97ea7458/player_ias.vflset/en_US/base.js\n"
     ]
    },
    {
     "name": "stdout",
     "output_type": "stream",
     "text": [
      "get random frame\n",
      "*517-518\n",
      "c1unRkxaUps\n",
      "yt-dlp -S res:720,ext:mp4,fps:24 -c --recode mp4 --download-sections *517-518 https://www.youtube.com/watch?v=c1unRkxaUps --output spamham_samples/c1unRkxaUps.mp4 --retries infinite --fragment-retries infinite && ffmpeg -i spamham_samples/c1unRkxaUps.mp4 -r 1 -vframes 1 -f image2 -q:v 1 spamham_samples/frames/c1unRkxaUps.%03d.jpeg -y && del spamham_samples\\c1unRkxaUps.mp4\n",
      "running donwload, extract, delete cmd...0\n",
      "add file to sources\n",
      "label frame\n",
      "|DA52bT7TTlc|\n",
      "get vid info\n",
      "[youtube] Extracting URL: https://www.youtube.com/watch?v=DA52bT7TTlc\n",
      "[youtube] DA52bT7TTlc: Downloading webpage\n",
      "[youtube] DA52bT7TTlc: Downloading android player API JSON\n"
     ]
    },
    {
     "name": "stderr",
     "output_type": "stream",
     "text": [
      "WARNING: [youtube] DA52bT7TTlc: nsig extraction failed: You may experience throttling for some formats\n",
      "         Install PhantomJS to workaround the issue. Please download it from https://phantomjs.org/download.html\n",
      "         n = aDzp95K7DK_axA ; player = https://www.youtube.com/s/player/97ea7458/player_ias.vflset/en_US/base.js\n"
     ]
    },
    {
     "name": "stdout",
     "output_type": "stream",
     "text": [
      "get random frame\n",
      "*459-460\n",
      "DA52bT7TTlc\n",
      "yt-dlp -S res:720,ext:mp4,fps:24 -c --recode mp4 --download-sections *459-460 https://www.youtube.com/watch?v=DA52bT7TTlc --output spamham_samples/DA52bT7TTlc.mp4 --retries infinite --fragment-retries infinite && ffmpeg -i spamham_samples/DA52bT7TTlc.mp4 -r 1 -vframes 1 -f image2 -q:v 1 spamham_samples/frames/DA52bT7TTlc.%03d.jpeg -y && del spamham_samples\\DA52bT7TTlc.mp4\n",
      "running donwload, extract, delete cmd...0\n",
      "add file to sources\n",
      "label frame\n",
      "|zlNLrPM8ye8|\n",
      "get vid info\n",
      "[youtube] Extracting URL: https://www.youtube.com/watch?v=zlNLrPM8ye8\n",
      "[youtube] zlNLrPM8ye8: Downloading webpage\n",
      "[youtube] zlNLrPM8ye8: Downloading android player API JSON\n"
     ]
    },
    {
     "name": "stderr",
     "output_type": "stream",
     "text": [
      "WARNING: [youtube] zlNLrPM8ye8: nsig extraction failed: You may experience throttling for some formats\n",
      "         Install PhantomJS to workaround the issue. Please download it from https://phantomjs.org/download.html\n",
      "         n = cXtIPenPNMHcqX ; player = https://www.youtube.com/s/player/97ea7458/player_ias.vflset/en_US/base.js\n"
     ]
    },
    {
     "name": "stdout",
     "output_type": "stream",
     "text": [
      "get random frame\n",
      "*427-428\n",
      "zlNLrPM8ye8\n",
      "yt-dlp -S res:720,ext:mp4,fps:24 -c --recode mp4 --download-sections *427-428 https://www.youtube.com/watch?v=zlNLrPM8ye8 --output spamham_samples/zlNLrPM8ye8.mp4 --retries infinite --fragment-retries infinite && ffmpeg -i spamham_samples/zlNLrPM8ye8.mp4 -r 1 -vframes 1 -f image2 -q:v 1 spamham_samples/frames/zlNLrPM8ye8.%03d.jpeg -y && del spamham_samples\\zlNLrPM8ye8.mp4\n",
      "running donwload, extract, delete cmd...0\n",
      "add file to sources\n",
      "label frame\n",
      "|5j1pDCxpxHk|\n",
      "get vid info\n",
      "[youtube] Extracting URL: https://www.youtube.com/watch?v=5j1pDCxpxHk\n",
      "[youtube] 5j1pDCxpxHk: Downloading webpage\n",
      "[youtube] 5j1pDCxpxHk: Downloading android player API JSON\n"
     ]
    },
    {
     "name": "stderr",
     "output_type": "stream",
     "text": [
      "WARNING: [youtube] 5j1pDCxpxHk: nsig extraction failed: You may experience throttling for some formats\n",
      "         Install PhantomJS to workaround the issue. Please download it from https://phantomjs.org/download.html\n",
      "         n = oVa9tXNTzPn4wE ; player = https://www.youtube.com/s/player/97ea7458/player_ias.vflset/en_US/base.js\n"
     ]
    },
    {
     "name": "stdout",
     "output_type": "stream",
     "text": [
      "get random frame\n",
      "*644-645\n",
      "5j1pDCxpxHk\n",
      "yt-dlp -S res:720,ext:mp4,fps:24 -c --recode mp4 --download-sections *644-645 https://www.youtube.com/watch?v=5j1pDCxpxHk --output spamham_samples/5j1pDCxpxHk.mp4 --retries infinite --fragment-retries infinite && ffmpeg -i spamham_samples/5j1pDCxpxHk.mp4 -r 1 -vframes 1 -f image2 -q:v 1 spamham_samples/frames/5j1pDCxpxHk.%03d.jpeg -y && del spamham_samples\\5j1pDCxpxHk.mp4\n",
      "running donwload, extract, delete cmd...0\n",
      "add file to sources\n",
      "label frame\n",
      "|I-OWoJkaJvs|\n",
      "get vid info\n",
      "[youtube] Extracting URL: https://www.youtube.com/watch?v=I-OWoJkaJvs\n",
      "[youtube] I-OWoJkaJvs: Downloading webpage\n",
      "[youtube] I-OWoJkaJvs: Downloading android player API JSON\n"
     ]
    },
    {
     "name": "stderr",
     "output_type": "stream",
     "text": [
      "WARNING: [youtube] I-OWoJkaJvs: nsig extraction failed: You may experience throttling for some formats\n",
      "         Install PhantomJS to workaround the issue. Please download it from https://phantomjs.org/download.html\n",
      "         n = kUfdLJytFGEknE ; player = https://www.youtube.com/s/player/97ea7458/player_ias.vflset/en_US/base.js\n"
     ]
    },
    {
     "name": "stdout",
     "output_type": "stream",
     "text": [
      "get random frame\n",
      "*638-639\n",
      "I-OWoJkaJvs\n",
      "yt-dlp -S res:720,ext:mp4,fps:24 -c --recode mp4 --download-sections *638-639 https://www.youtube.com/watch?v=I-OWoJkaJvs --output spamham_samples/I-OWoJkaJvs.mp4 --retries infinite --fragment-retries infinite && ffmpeg -i spamham_samples/I-OWoJkaJvs.mp4 -r 1 -vframes 1 -f image2 -q:v 1 spamham_samples/frames/I-OWoJkaJvs.%03d.jpeg -y && del spamham_samples\\I-OWoJkaJvs.mp4\n",
      "running donwload, extract, delete cmd...0\n",
      "add file to sources\n",
      "label frame\n",
      "|SFTWnCl9WmM|\n",
      "get vid info\n",
      "[youtube] Extracting URL: https://www.youtube.com/watch?v=SFTWnCl9WmM\n",
      "[youtube] SFTWnCl9WmM: Downloading webpage\n",
      "[youtube] SFTWnCl9WmM: Downloading android player API JSON\n"
     ]
    },
    {
     "name": "stderr",
     "output_type": "stream",
     "text": [
      "WARNING: [youtube] SFTWnCl9WmM: nsig extraction failed: You may experience throttling for some formats\n",
      "         Install PhantomJS to workaround the issue. Please download it from https://phantomjs.org/download.html\n",
      "         n = vURgkbYZu5ffdc ; player = https://www.youtube.com/s/player/97ea7458/player_ias.vflset/en_US/base.js\n"
     ]
    },
    {
     "name": "stdout",
     "output_type": "stream",
     "text": [
      "get random frame\n",
      "*1354-1355\n",
      "SFTWnCl9WmM\n",
      "yt-dlp -S res:720,ext:mp4,fps:24 -c --recode mp4 --download-sections *1354-1355 https://www.youtube.com/watch?v=SFTWnCl9WmM --output spamham_samples/SFTWnCl9WmM.mp4 --retries infinite --fragment-retries infinite && ffmpeg -i spamham_samples/SFTWnCl9WmM.mp4 -r 1 -vframes 1 -f image2 -q:v 1 spamham_samples/frames/SFTWnCl9WmM.%03d.jpeg -y && del spamham_samples\\SFTWnCl9WmM.mp4\n",
      "running donwload, extract, delete cmd...0\n",
      "add file to sources\n",
      "label frame\n",
      "|xHBRUY-1Xgo|\n",
      "get vid info\n",
      "[youtube] Extracting URL: https://www.youtube.com/watch?v=xHBRUY-1Xgo\n",
      "[youtube] xHBRUY-1Xgo: Downloading webpage\n",
      "[youtube] xHBRUY-1Xgo: Downloading android player API JSON\n"
     ]
    },
    {
     "name": "stderr",
     "output_type": "stream",
     "text": [
      "WARNING: [youtube] xHBRUY-1Xgo: nsig extraction failed: You may experience throttling for some formats\n",
      "         Install PhantomJS to workaround the issue. Please download it from https://phantomjs.org/download.html\n",
      "         n = LEyyAucgEVGLYx ; player = https://www.youtube.com/s/player/97ea7458/player_ias.vflset/en_US/base.js\n"
     ]
    },
    {
     "name": "stdout",
     "output_type": "stream",
     "text": [
      "get random frame\n",
      "*1689-1690\n",
      "xHBRUY-1Xgo\n",
      "yt-dlp -S res:720,ext:mp4,fps:24 -c --recode mp4 --download-sections *1689-1690 https://www.youtube.com/watch?v=xHBRUY-1Xgo --output spamham_samples/xHBRUY-1Xgo.mp4 --retries infinite --fragment-retries infinite && ffmpeg -i spamham_samples/xHBRUY-1Xgo.mp4 -r 1 -vframes 1 -f image2 -q:v 1 spamham_samples/frames/xHBRUY-1Xgo.%03d.jpeg -y && del spamham_samples\\xHBRUY-1Xgo.mp4\n",
      "running donwload, extract, delete cmd...0\n",
      "add file to sources\n",
      "label frame\n",
      "|2NPfFvK9S4Q|\n",
      "get vid info\n",
      "[youtube] Extracting URL: https://www.youtube.com/watch?v=2NPfFvK9S4Q\n",
      "[youtube] 2NPfFvK9S4Q: Downloading webpage\n",
      "[youtube] 2NPfFvK9S4Q: Downloading android player API JSON\n"
     ]
    },
    {
     "name": "stderr",
     "output_type": "stream",
     "text": [
      "WARNING: [youtube] 2NPfFvK9S4Q: nsig extraction failed: You may experience throttling for some formats\n",
      "         Install PhantomJS to workaround the issue. Please download it from https://phantomjs.org/download.html\n",
      "         n = Kgejm0drSb-aJ6 ; player = https://www.youtube.com/s/player/97ea7458/player_ias.vflset/en_US/base.js\n"
     ]
    },
    {
     "name": "stdout",
     "output_type": "stream",
     "text": [
      "get random frame\n",
      "*986-987\n",
      "2NPfFvK9S4Q\n",
      "yt-dlp -S res:720,ext:mp4,fps:24 -c --recode mp4 --download-sections *986-987 https://www.youtube.com/watch?v=2NPfFvK9S4Q --output spamham_samples/2NPfFvK9S4Q.mp4 --retries infinite --fragment-retries infinite && ffmpeg -i spamham_samples/2NPfFvK9S4Q.mp4 -r 1 -vframes 1 -f image2 -q:v 1 spamham_samples/frames/2NPfFvK9S4Q.%03d.jpeg -y && del spamham_samples\\2NPfFvK9S4Q.mp4\n",
      "running donwload, extract, delete cmd...0\n",
      "add file to sources\n",
      "label frame\n",
      "|h7uIP1gkik4|\n",
      "get vid info\n",
      "[youtube] Extracting URL: https://www.youtube.com/watch?v=h7uIP1gkik4\n",
      "[youtube] h7uIP1gkik4: Downloading webpage\n",
      "[youtube] h7uIP1gkik4: Downloading android player API JSON\n"
     ]
    },
    {
     "name": "stderr",
     "output_type": "stream",
     "text": [
      "WARNING: [youtube] h7uIP1gkik4: nsig extraction failed: You may experience throttling for some formats\n",
      "         Install PhantomJS to workaround the issue. Please download it from https://phantomjs.org/download.html\n",
      "         n = J25Gp2NRJR_Jqo ; player = https://www.youtube.com/s/player/97ea7458/player_ias.vflset/en_US/base.js\n"
     ]
    },
    {
     "name": "stdout",
     "output_type": "stream",
     "text": [
      "get random frame\n",
      "*1879-1880\n",
      "h7uIP1gkik4\n",
      "yt-dlp -S res:720,ext:mp4,fps:24 -c --recode mp4 --download-sections *1879-1880 https://www.youtube.com/watch?v=h7uIP1gkik4 --output spamham_samples/h7uIP1gkik4.mp4 --retries infinite --fragment-retries infinite && ffmpeg -i spamham_samples/h7uIP1gkik4.mp4 -r 1 -vframes 1 -f image2 -q:v 1 spamham_samples/frames/h7uIP1gkik4.%03d.jpeg -y && del spamham_samples\\h7uIP1gkik4.mp4\n",
      "running donwload, extract, delete cmd...0\n",
      "add file to sources\n",
      "label frame\n",
      "|Gw2d4v_FcZg|\n",
      "get vid info\n",
      "[youtube] Extracting URL: https://www.youtube.com/watch?v=Gw2d4v_FcZg\n",
      "[youtube] Gw2d4v_FcZg: Downloading webpage\n",
      "[youtube] Gw2d4v_FcZg: Downloading android player API JSON\n"
     ]
    },
    {
     "name": "stderr",
     "output_type": "stream",
     "text": [
      "WARNING: [youtube] Gw2d4v_FcZg: nsig extraction failed: You may experience throttling for some formats\n",
      "         Install PhantomJS to workaround the issue. Please download it from https://phantomjs.org/download.html\n",
      "         n = 1zgefW5MDXjVvk ; player = https://www.youtube.com/s/player/97ea7458/player_ias.vflset/en_US/base.js\n"
     ]
    },
    {
     "name": "stdout",
     "output_type": "stream",
     "text": [
      "get random frame\n",
      "*1241-1242\n",
      "Gw2d4v_FcZg\n",
      "yt-dlp -S res:720,ext:mp4,fps:24 -c --recode mp4 --download-sections *1241-1242 https://www.youtube.com/watch?v=Gw2d4v_FcZg --output spamham_samples/Gw2d4v_FcZg.mp4 --retries infinite --fragment-retries infinite && ffmpeg -i spamham_samples/Gw2d4v_FcZg.mp4 -r 1 -vframes 1 -f image2 -q:v 1 spamham_samples/frames/Gw2d4v_FcZg.%03d.jpeg -y && del spamham_samples\\Gw2d4v_FcZg.mp4\n",
      "running donwload, extract, delete cmd...0\n",
      "add file to sources\n",
      "label frame\n",
      "|6DyuzzeE4mA|\n",
      "get vid info\n",
      "[youtube] Extracting URL: https://www.youtube.com/watch?v=6DyuzzeE4mA\n",
      "[youtube] 6DyuzzeE4mA: Downloading webpage\n",
      "[youtube] 6DyuzzeE4mA: Downloading android player API JSON\n"
     ]
    },
    {
     "name": "stderr",
     "output_type": "stream",
     "text": [
      "WARNING: [youtube] 6DyuzzeE4mA: nsig extraction failed: You may experience throttling for some formats\n",
      "         Install PhantomJS to workaround the issue. Please download it from https://phantomjs.org/download.html\n",
      "         n = OgUldhWfFyYOYk ; player = https://www.youtube.com/s/player/97ea7458/player_ias.vflset/en_US/base.js\n"
     ]
    },
    {
     "name": "stdout",
     "output_type": "stream",
     "text": [
      "get random frame\n",
      "*875-876\n",
      "6DyuzzeE4mA\n",
      "yt-dlp -S res:720,ext:mp4,fps:24 -c --recode mp4 --download-sections *875-876 https://www.youtube.com/watch?v=6DyuzzeE4mA --output spamham_samples/6DyuzzeE4mA.mp4 --retries infinite --fragment-retries infinite && ffmpeg -i spamham_samples/6DyuzzeE4mA.mp4 -r 1 -vframes 1 -f image2 -q:v 1 spamham_samples/frames/6DyuzzeE4mA.%03d.jpeg -y && del spamham_samples\\6DyuzzeE4mA.mp4\n",
      "running donwload, extract, delete cmd...0\n",
      "add file to sources\n",
      "label frame\n",
      "|jhJ5BZhZ1q8|\n",
      "get vid info\n",
      "[youtube] Extracting URL: https://www.youtube.com/watch?v=jhJ5BZhZ1q8\n",
      "[youtube] jhJ5BZhZ1q8: Downloading webpage\n",
      "[youtube] jhJ5BZhZ1q8: Downloading android player API JSON\n"
     ]
    },
    {
     "name": "stderr",
     "output_type": "stream",
     "text": [
      "WARNING: [youtube] jhJ5BZhZ1q8: nsig extraction failed: You may experience throttling for some formats\n",
      "         Install PhantomJS to workaround the issue. Please download it from https://phantomjs.org/download.html\n",
      "         n = 2rgKx1iIHEY2cM ; player = https://www.youtube.com/s/player/97ea7458/player_ias.vflset/en_US/base.js\n"
     ]
    },
    {
     "name": "stdout",
     "output_type": "stream",
     "text": [
      "get random frame\n",
      "*4088-4089\n",
      "jhJ5BZhZ1q8\n",
      "yt-dlp -S res:720,ext:mp4,fps:24 -c --recode mp4 --download-sections *4088-4089 https://www.youtube.com/watch?v=jhJ5BZhZ1q8 --output spamham_samples/jhJ5BZhZ1q8.mp4 --retries infinite --fragment-retries infinite && ffmpeg -i spamham_samples/jhJ5BZhZ1q8.mp4 -r 1 -vframes 1 -f image2 -q:v 1 spamham_samples/frames/jhJ5BZhZ1q8.%03d.jpeg -y && del spamham_samples\\jhJ5BZhZ1q8.mp4\n",
      "running donwload, extract, delete cmd...0\n",
      "add file to sources\n",
      "label frame\n",
      "|1XxcT9rlQ-0|\n",
      "get vid info\n",
      "[youtube] Extracting URL: https://www.youtube.com/watch?v=1XxcT9rlQ-0\n",
      "[youtube] 1XxcT9rlQ-0: Downloading webpage\n",
      "[youtube] 1XxcT9rlQ-0: Downloading android player API JSON\n"
     ]
    },
    {
     "name": "stderr",
     "output_type": "stream",
     "text": [
      "WARNING: [youtube] 1XxcT9rlQ-0: nsig extraction failed: You may experience throttling for some formats\n",
      "         Install PhantomJS to workaround the issue. Please download it from https://phantomjs.org/download.html\n",
      "         n = ybLtkL6iWCMCkl ; player = https://www.youtube.com/s/player/97ea7458/player_ias.vflset/en_US/base.js\n"
     ]
    },
    {
     "name": "stdout",
     "output_type": "stream",
     "text": [
      "get random frame\n",
      "*1611-1612\n",
      "1XxcT9rlQ-0\n",
      "yt-dlp -S res:720,ext:mp4,fps:24 -c --recode mp4 --download-sections *1611-1612 https://www.youtube.com/watch?v=1XxcT9rlQ-0 --output spamham_samples/1XxcT9rlQ-0.mp4 --retries infinite --fragment-retries infinite && ffmpeg -i spamham_samples/1XxcT9rlQ-0.mp4 -r 1 -vframes 1 -f image2 -q:v 1 spamham_samples/frames/1XxcT9rlQ-0.%03d.jpeg -y && del spamham_samples\\1XxcT9rlQ-0.mp4\n",
      "running donwload, extract, delete cmd...0\n",
      "add file to sources\n",
      "label frame\n",
      "|CHxZ4dE2mFQ|\n",
      "get vid info\n",
      "[youtube] Extracting URL: https://www.youtube.com/watch?v=CHxZ4dE2mFQ\n",
      "[youtube] CHxZ4dE2mFQ: Downloading webpage\n",
      "[youtube] CHxZ4dE2mFQ: Downloading android player API JSON\n"
     ]
    },
    {
     "name": "stderr",
     "output_type": "stream",
     "text": [
      "WARNING: [youtube] CHxZ4dE2mFQ: nsig extraction failed: You may experience throttling for some formats\n",
      "         Install PhantomJS to workaround the issue. Please download it from https://phantomjs.org/download.html\n",
      "         n = CVWB1K77CA9irM ; player = https://www.youtube.com/s/player/97ea7458/player_ias.vflset/en_US/base.js\n"
     ]
    },
    {
     "name": "stdout",
     "output_type": "stream",
     "text": [
      "get random frame\n",
      "*1559-1560\n",
      "CHxZ4dE2mFQ\n",
      "yt-dlp -S res:720,ext:mp4,fps:24 -c --recode mp4 --download-sections *1559-1560 https://www.youtube.com/watch?v=CHxZ4dE2mFQ --output spamham_samples/CHxZ4dE2mFQ.mp4 --retries infinite --fragment-retries infinite && ffmpeg -i spamham_samples/CHxZ4dE2mFQ.mp4 -r 1 -vframes 1 -f image2 -q:v 1 spamham_samples/frames/CHxZ4dE2mFQ.%03d.jpeg -y && del spamham_samples\\CHxZ4dE2mFQ.mp4\n",
      "running donwload, extract, delete cmd...0\n",
      "add file to sources\n",
      "label frame\n",
      "|zKbwIE4FF4Y|\n",
      "get vid info\n",
      "[youtube] Extracting URL: https://www.youtube.com/watch?v=zKbwIE4FF4Y\n",
      "[youtube] zKbwIE4FF4Y: Downloading webpage\n",
      "[youtube] zKbwIE4FF4Y: Downloading android player API JSON\n"
     ]
    },
    {
     "name": "stderr",
     "output_type": "stream",
     "text": [
      "WARNING: [youtube] zKbwIE4FF4Y: nsig extraction failed: You may experience throttling for some formats\n",
      "         Install PhantomJS to workaround the issue. Please download it from https://phantomjs.org/download.html\n",
      "         n = 3AD_lnAYBZ4XB4 ; player = https://www.youtube.com/s/player/97ea7458/player_ias.vflset/en_US/base.js\n"
     ]
    },
    {
     "name": "stdout",
     "output_type": "stream",
     "text": [
      "get random frame\n",
      "*775-776\n",
      "zKbwIE4FF4Y\n",
      "yt-dlp -S res:720,ext:mp4,fps:24 -c --recode mp4 --download-sections *775-776 https://www.youtube.com/watch?v=zKbwIE4FF4Y --output spamham_samples/zKbwIE4FF4Y.mp4 --retries infinite --fragment-retries infinite && ffmpeg -i spamham_samples/zKbwIE4FF4Y.mp4 -r 1 -vframes 1 -f image2 -q:v 1 spamham_samples/frames/zKbwIE4FF4Y.%03d.jpeg -y && del spamham_samples\\zKbwIE4FF4Y.mp4\n",
      "running donwload, extract, delete cmd...0\n",
      "add file to sources\n",
      "label frame\n",
      "|Xov157dQkYU|\n",
      "get vid info\n",
      "[youtube] Extracting URL: https://www.youtube.com/watch?v=Xov157dQkYU\n",
      "[youtube] Xov157dQkYU: Downloading webpage\n",
      "[youtube] Xov157dQkYU: Downloading android player API JSON\n"
     ]
    },
    {
     "name": "stderr",
     "output_type": "stream",
     "text": [
      "WARNING: [youtube] Xov157dQkYU: nsig extraction failed: You may experience throttling for some formats\n",
      "         Install PhantomJS to workaround the issue. Please download it from https://phantomjs.org/download.html\n",
      "         n = rtcwQYr9AmX7Er ; player = https://www.youtube.com/s/player/97ea7458/player_ias.vflset/en_US/base.js\n"
     ]
    },
    {
     "name": "stdout",
     "output_type": "stream",
     "text": [
      "get random frame\n",
      "*1527-1528\n",
      "Xov157dQkYU\n",
      "yt-dlp -S res:720,ext:mp4,fps:24 -c --recode mp4 --download-sections *1527-1528 https://www.youtube.com/watch?v=Xov157dQkYU --output spamham_samples/Xov157dQkYU.mp4 --retries infinite --fragment-retries infinite && ffmpeg -i spamham_samples/Xov157dQkYU.mp4 -r 1 -vframes 1 -f image2 -q:v 1 spamham_samples/frames/Xov157dQkYU.%03d.jpeg -y && del spamham_samples\\Xov157dQkYU.mp4\n",
      "running donwload, extract, delete cmd...0\n",
      "add file to sources\n",
      "label frame\n",
      "|sazTR-rYCho|\n",
      "get vid info\n",
      "[youtube] Extracting URL: https://www.youtube.com/watch?v=sazTR-rYCho\n",
      "[youtube] sazTR-rYCho: Downloading webpage\n",
      "[youtube] sazTR-rYCho: Downloading android player API JSON\n"
     ]
    },
    {
     "name": "stderr",
     "output_type": "stream",
     "text": [
      "WARNING: [youtube] sazTR-rYCho: nsig extraction failed: You may experience throttling for some formats\n",
      "         Install PhantomJS to workaround the issue. Please download it from https://phantomjs.org/download.html\n",
      "         n = F4slSNfinaz1Ev ; player = https://www.youtube.com/s/player/97ea7458/player_ias.vflset/en_US/base.js\n"
     ]
    },
    {
     "name": "stdout",
     "output_type": "stream",
     "text": [
      "get random frame\n",
      "*1753-1754\n",
      "sazTR-rYCho\n",
      "yt-dlp -S res:720,ext:mp4,fps:24 -c --recode mp4 --download-sections *1753-1754 https://www.youtube.com/watch?v=sazTR-rYCho --output spamham_samples/sazTR-rYCho.mp4 --retries infinite --fragment-retries infinite && ffmpeg -i spamham_samples/sazTR-rYCho.mp4 -r 1 -vframes 1 -f image2 -q:v 1 spamham_samples/frames/sazTR-rYCho.%03d.jpeg -y && del spamham_samples\\sazTR-rYCho.mp4\n",
      "running donwload, extract, delete cmd...0\n",
      "add file to sources\n",
      "label frame\n",
      "|IkQxKhkrlgE|\n",
      "get vid info\n",
      "[youtube] Extracting URL: https://www.youtube.com/watch?v=IkQxKhkrlgE\n",
      "[youtube] IkQxKhkrlgE: Downloading webpage\n",
      "[youtube] IkQxKhkrlgE: Downloading android player API JSON\n"
     ]
    },
    {
     "name": "stderr",
     "output_type": "stream",
     "text": [
      "WARNING: [youtube] IkQxKhkrlgE: nsig extraction failed: You may experience throttling for some formats\n",
      "         Install PhantomJS to workaround the issue. Please download it from https://phantomjs.org/download.html\n",
      "         n = PZrMTDcqSEFv-A ; player = https://www.youtube.com/s/player/97ea7458/player_ias.vflset/en_US/base.js\n"
     ]
    },
    {
     "name": "stdout",
     "output_type": "stream",
     "text": [
      "get random frame\n",
      "*1561-1562\n",
      "IkQxKhkrlgE\n",
      "yt-dlp -S res:720,ext:mp4,fps:24 -c --recode mp4 --download-sections *1561-1562 https://www.youtube.com/watch?v=IkQxKhkrlgE --output spamham_samples/IkQxKhkrlgE.mp4 --retries infinite --fragment-retries infinite && ffmpeg -i spamham_samples/IkQxKhkrlgE.mp4 -r 1 -vframes 1 -f image2 -q:v 1 spamham_samples/frames/IkQxKhkrlgE.%03d.jpeg -y && del spamham_samples\\IkQxKhkrlgE.mp4\n",
      "running donwload, extract, delete cmd...0\n",
      "add file to sources\n",
      "label frame\n",
      "|Njm30D954Go|\n",
      "get vid info\n",
      "[youtube] Extracting URL: https://www.youtube.com/watch?v=Njm30D954Go\n",
      "[youtube] Njm30D954Go: Downloading webpage\n",
      "[youtube] Njm30D954Go: Downloading android player API JSON\n"
     ]
    },
    {
     "name": "stderr",
     "output_type": "stream",
     "text": [
      "WARNING: [youtube] Njm30D954Go: nsig extraction failed: You may experience throttling for some formats\n",
      "         Install PhantomJS to workaround the issue. Please download it from https://phantomjs.org/download.html\n",
      "         n = ZoHWQRNDGOqp6y ; player = https://www.youtube.com/s/player/97ea7458/player_ias.vflset/en_US/base.js\n"
     ]
    },
    {
     "name": "stdout",
     "output_type": "stream",
     "text": [
      "get random frame\n",
      "*943-944\n",
      "Njm30D954Go\n",
      "yt-dlp -S res:720,ext:mp4,fps:24 -c --recode mp4 --download-sections *943-944 https://www.youtube.com/watch?v=Njm30D954Go --output spamham_samples/Njm30D954Go.mp4 --retries infinite --fragment-retries infinite && ffmpeg -i spamham_samples/Njm30D954Go.mp4 -r 1 -vframes 1 -f image2 -q:v 1 spamham_samples/frames/Njm30D954Go.%03d.jpeg -y && del spamham_samples\\Njm30D954Go.mp4\n",
      "running donwload, extract, delete cmd...0\n",
      "add file to sources\n",
      "label frame\n",
      "|gdx88ppxm0s|\n",
      "get vid info\n",
      "[youtube] Extracting URL: https://www.youtube.com/watch?v=gdx88ppxm0s\n",
      "[youtube] gdx88ppxm0s: Downloading webpage\n",
      "[youtube] gdx88ppxm0s: Downloading android player API JSON\n"
     ]
    },
    {
     "name": "stderr",
     "output_type": "stream",
     "text": [
      "WARNING: [youtube] gdx88ppxm0s: nsig extraction failed: You may experience throttling for some formats\n",
      "         Install PhantomJS to workaround the issue. Please download it from https://phantomjs.org/download.html\n",
      "         n = LEfviwIbvjzrdF ; player = https://www.youtube.com/s/player/97ea7458/player_ias.vflset/en_US/base.js\n"
     ]
    },
    {
     "name": "stdout",
     "output_type": "stream",
     "text": [
      "get random frame\n",
      "*288-289\n",
      "gdx88ppxm0s\n",
      "yt-dlp -S res:720,ext:mp4,fps:24 -c --recode mp4 --download-sections *288-289 https://www.youtube.com/watch?v=gdx88ppxm0s --output spamham_samples/gdx88ppxm0s.mp4 --retries infinite --fragment-retries infinite && ffmpeg -i spamham_samples/gdx88ppxm0s.mp4 -r 1 -vframes 1 -f image2 -q:v 1 spamham_samples/frames/gdx88ppxm0s.%03d.jpeg -y && del spamham_samples\\gdx88ppxm0s.mp4\n",
      "running donwload, extract, delete cmd...0\n",
      "add file to sources\n",
      "label frame\n",
      "|5p4LDu78WHI|\n",
      "get vid info\n",
      "[youtube] Extracting URL: https://www.youtube.com/watch?v=5p4LDu78WHI\n",
      "[youtube] 5p4LDu78WHI: Downloading webpage\n",
      "[youtube] 5p4LDu78WHI: Downloading android player API JSON\n"
     ]
    },
    {
     "name": "stderr",
     "output_type": "stream",
     "text": [
      "WARNING: [youtube] 5p4LDu78WHI: nsig extraction failed: You may experience throttling for some formats\n",
      "         Install PhantomJS to workaround the issue. Please download it from https://phantomjs.org/download.html\n",
      "         n = HmLBsC64Ttunz0 ; player = https://www.youtube.com/s/player/97ea7458/player_ias.vflset/en_US/base.js\n"
     ]
    },
    {
     "name": "stdout",
     "output_type": "stream",
     "text": [
      "get random frame\n",
      "*81-82\n",
      "5p4LDu78WHI\n",
      "yt-dlp -S res:720,ext:mp4,fps:24 -c --recode mp4 --download-sections *81-82 https://www.youtube.com/watch?v=5p4LDu78WHI --output spamham_samples/5p4LDu78WHI.mp4 --retries infinite --fragment-retries infinite && ffmpeg -i spamham_samples/5p4LDu78WHI.mp4 -r 1 -vframes 1 -f image2 -q:v 1 spamham_samples/frames/5p4LDu78WHI.%03d.jpeg -y && del spamham_samples\\5p4LDu78WHI.mp4\n",
      "running donwload, extract, delete cmd...0\n",
      "add file to sources\n",
      "label frame\n",
      "|WG8xS1-1txQ|\n",
      "get vid info\n",
      "[youtube] Extracting URL: https://www.youtube.com/watch?v=WG8xS1-1txQ\n",
      "[youtube] WG8xS1-1txQ: Downloading webpage\n",
      "[youtube] WG8xS1-1txQ: Downloading android player API JSON\n"
     ]
    },
    {
     "name": "stderr",
     "output_type": "stream",
     "text": [
      "WARNING: [youtube] WG8xS1-1txQ: nsig extraction failed: You may experience throttling for some formats\n",
      "         Install PhantomJS to workaround the issue. Please download it from https://phantomjs.org/download.html\n",
      "         n = 8mOwLKujmGesfm ; player = https://www.youtube.com/s/player/97ea7458/player_ias.vflset/en_US/base.js\n"
     ]
    },
    {
     "name": "stdout",
     "output_type": "stream",
     "text": [
      "get random frame\n",
      "*1607-1608\n",
      "WG8xS1-1txQ\n",
      "yt-dlp -S res:720,ext:mp4,fps:24 -c --recode mp4 --download-sections *1607-1608 https://www.youtube.com/watch?v=WG8xS1-1txQ --output spamham_samples/WG8xS1-1txQ.mp4 --retries infinite --fragment-retries infinite && ffmpeg -i spamham_samples/WG8xS1-1txQ.mp4 -r 1 -vframes 1 -f image2 -q:v 1 spamham_samples/frames/WG8xS1-1txQ.%03d.jpeg -y && del spamham_samples\\WG8xS1-1txQ.mp4\n",
      "running donwload, extract, delete cmd...0\n",
      "add file to sources\n",
      "label frame\n",
      "|RIkrDzJ7S4Y|\n",
      "get vid info\n",
      "[youtube] Extracting URL: https://www.youtube.com/watch?v=RIkrDzJ7S4Y\n",
      "[youtube] RIkrDzJ7S4Y: Downloading webpage\n",
      "[youtube] RIkrDzJ7S4Y: Downloading android player API JSON\n"
     ]
    },
    {
     "name": "stderr",
     "output_type": "stream",
     "text": [
      "WARNING: [youtube] RIkrDzJ7S4Y: nsig extraction failed: You may experience throttling for some formats\n",
      "         Install PhantomJS to workaround the issue. Please download it from https://phantomjs.org/download.html\n",
      "         n = N2nLozKasKZ9vE ; player = https://www.youtube.com/s/player/97ea7458/player_ias.vflset/en_US/base.js\n"
     ]
    },
    {
     "name": "stdout",
     "output_type": "stream",
     "text": [
      "get random frame\n",
      "*1607-1608\n",
      "RIkrDzJ7S4Y\n",
      "yt-dlp -S res:720,ext:mp4,fps:24 -c --recode mp4 --download-sections *1607-1608 https://www.youtube.com/watch?v=RIkrDzJ7S4Y --output spamham_samples/RIkrDzJ7S4Y.mp4 --retries infinite --fragment-retries infinite && ffmpeg -i spamham_samples/RIkrDzJ7S4Y.mp4 -r 1 -vframes 1 -f image2 -q:v 1 spamham_samples/frames/RIkrDzJ7S4Y.%03d.jpeg -y && del spamham_samples\\RIkrDzJ7S4Y.mp4\n",
      "running donwload, extract, delete cmd...0\n",
      "add file to sources\n",
      "label frame\n",
      "|dMUE17_Q6J0|\n",
      "get vid info\n",
      "[youtube] Extracting URL: https://www.youtube.com/watch?v=dMUE17_Q6J0\n",
      "[youtube] dMUE17_Q6J0: Downloading webpage\n",
      "[youtube] dMUE17_Q6J0: Downloading android player API JSON\n"
     ]
    },
    {
     "name": "stderr",
     "output_type": "stream",
     "text": [
      "WARNING: [youtube] dMUE17_Q6J0: nsig extraction failed: You may experience throttling for some formats\n",
      "         Install PhantomJS to workaround the issue. Please download it from https://phantomjs.org/download.html\n",
      "         n = at9PAjUjI0CK0c ; player = https://www.youtube.com/s/player/97ea7458/player_ias.vflset/en_US/base.js\n"
     ]
    },
    {
     "name": "stdout",
     "output_type": "stream",
     "text": [
      "get random frame\n",
      "*480-481\n",
      "dMUE17_Q6J0\n",
      "yt-dlp -S res:720,ext:mp4,fps:24 -c --recode mp4 --download-sections *480-481 https://www.youtube.com/watch?v=dMUE17_Q6J0 --output spamham_samples/dMUE17_Q6J0.mp4 --retries infinite --fragment-retries infinite && ffmpeg -i spamham_samples/dMUE17_Q6J0.mp4 -r 1 -vframes 1 -f image2 -q:v 1 spamham_samples/frames/dMUE17_Q6J0.%03d.jpeg -y && del spamham_samples\\dMUE17_Q6J0.mp4\n",
      "running donwload, extract, delete cmd...0\n",
      "add file to sources\n",
      "label frame\n",
      "|XLTuBc1AYt8|\n",
      "get vid info\n",
      "[youtube] Extracting URL: https://www.youtube.com/watch?v=XLTuBc1AYt8\n",
      "[youtube] XLTuBc1AYt8: Downloading webpage\n",
      "[youtube] XLTuBc1AYt8: Downloading android player API JSON\n"
     ]
    },
    {
     "name": "stderr",
     "output_type": "stream",
     "text": [
      "WARNING: [youtube] XLTuBc1AYt8: nsig extraction failed: You may experience throttling for some formats\n",
      "         Install PhantomJS to workaround the issue. Please download it from https://phantomjs.org/download.html\n",
      "         n = 2Lur7fEsA6nmLP ; player = https://www.youtube.com/s/player/97ea7458/player_ias.vflset/en_US/base.js\n"
     ]
    },
    {
     "name": "stdout",
     "output_type": "stream",
     "text": [
      "get random frame\n",
      "*967-968\n",
      "XLTuBc1AYt8\n",
      "yt-dlp -S res:720,ext:mp4,fps:24 -c --recode mp4 --download-sections *967-968 https://www.youtube.com/watch?v=XLTuBc1AYt8 --output spamham_samples/XLTuBc1AYt8.mp4 --retries infinite --fragment-retries infinite && ffmpeg -i spamham_samples/XLTuBc1AYt8.mp4 -r 1 -vframes 1 -f image2 -q:v 1 spamham_samples/frames/XLTuBc1AYt8.%03d.jpeg -y && del spamham_samples\\XLTuBc1AYt8.mp4\n",
      "running donwload, extract, delete cmd...0\n",
      "add file to sources\n",
      "label frame\n",
      "|QxIP1jX3h2g|\n",
      "get vid info\n",
      "[youtube] Extracting URL: https://www.youtube.com/watch?v=QxIP1jX3h2g\n",
      "[youtube] QxIP1jX3h2g: Downloading webpage\n",
      "[youtube] QxIP1jX3h2g: Downloading android player API JSON\n"
     ]
    },
    {
     "name": "stderr",
     "output_type": "stream",
     "text": [
      "WARNING: [youtube] QxIP1jX3h2g: nsig extraction failed: You may experience throttling for some formats\n",
      "         Install PhantomJS to workaround the issue. Please download it from https://phantomjs.org/download.html\n",
      "         n = nN_ATKz_PTQnSN ; player = https://www.youtube.com/s/player/97ea7458/player_ias.vflset/en_US/base.js\n"
     ]
    },
    {
     "name": "stdout",
     "output_type": "stream",
     "text": [
      "get random frame\n",
      "*1212-1213\n",
      "QxIP1jX3h2g\n",
      "yt-dlp -S res:720,ext:mp4,fps:24 -c --recode mp4 --download-sections *1212-1213 https://www.youtube.com/watch?v=QxIP1jX3h2g --output spamham_samples/QxIP1jX3h2g.mp4 --retries infinite --fragment-retries infinite && ffmpeg -i spamham_samples/QxIP1jX3h2g.mp4 -r 1 -vframes 1 -f image2 -q:v 1 spamham_samples/frames/QxIP1jX3h2g.%03d.jpeg -y && del spamham_samples\\QxIP1jX3h2g.mp4\n",
      "running donwload, extract, delete cmd...0\n",
      "add file to sources\n",
      "label frame\n",
      "|4WuP1wRtnT8|\n",
      "get vid info\n",
      "[youtube] Extracting URL: https://www.youtube.com/watch?v=4WuP1wRtnT8\n",
      "[youtube] 4WuP1wRtnT8: Downloading webpage\n",
      "[youtube] 4WuP1wRtnT8: Downloading android player API JSON\n"
     ]
    },
    {
     "name": "stderr",
     "output_type": "stream",
     "text": [
      "WARNING: [youtube] 4WuP1wRtnT8: nsig extraction failed: You may experience throttling for some formats\n",
      "         Install PhantomJS to workaround the issue. Please download it from https://phantomjs.org/download.html\n",
      "         n = z3RXgK34L9xTZi ; player = https://www.youtube.com/s/player/97ea7458/player_ias.vflset/en_US/base.js\n"
     ]
    },
    {
     "name": "stdout",
     "output_type": "stream",
     "text": [
      "get random frame\n",
      "*2008-2009\n",
      "4WuP1wRtnT8\n",
      "yt-dlp -S res:720,ext:mp4,fps:24 -c --recode mp4 --download-sections *2008-2009 https://www.youtube.com/watch?v=4WuP1wRtnT8 --output spamham_samples/4WuP1wRtnT8.mp4 --retries infinite --fragment-retries infinite && ffmpeg -i spamham_samples/4WuP1wRtnT8.mp4 -r 1 -vframes 1 -f image2 -q:v 1 spamham_samples/frames/4WuP1wRtnT8.%03d.jpeg -y && del spamham_samples\\4WuP1wRtnT8.mp4\n",
      "running donwload, extract, delete cmd...0\n",
      "add file to sources\n",
      "label frame\n",
      "|APAZL9LWjHA|\n",
      "get vid info\n",
      "[youtube] Extracting URL: https://www.youtube.com/watch?v=APAZL9LWjHA\n",
      "[youtube] APAZL9LWjHA: Downloading webpage\n",
      "[youtube] APAZL9LWjHA: Downloading android player API JSON\n"
     ]
    },
    {
     "name": "stderr",
     "output_type": "stream",
     "text": [
      "WARNING: [youtube] APAZL9LWjHA: nsig extraction failed: You may experience throttling for some formats\n",
      "         Install PhantomJS to workaround the issue. Please download it from https://phantomjs.org/download.html\n",
      "         n = lf47H3My4aD1nP ; player = https://www.youtube.com/s/player/97ea7458/player_ias.vflset/en_US/base.js\n"
     ]
    },
    {
     "name": "stdout",
     "output_type": "stream",
     "text": [
      "get random frame\n",
      "*10325-10326\n",
      "APAZL9LWjHA\n",
      "yt-dlp -S res:720,ext:mp4,fps:24 -c --recode mp4 --download-sections *10325-10326 https://www.youtube.com/watch?v=APAZL9LWjHA --output spamham_samples/APAZL9LWjHA.mp4 --retries infinite --fragment-retries infinite && ffmpeg -i spamham_samples/APAZL9LWjHA.mp4 -r 1 -vframes 1 -f image2 -q:v 1 spamham_samples/frames/APAZL9LWjHA.%03d.jpeg -y && del spamham_samples\\APAZL9LWjHA.mp4\n",
      "running donwload, extract, delete cmd...0\n",
      "add file to sources\n",
      "label frame\n",
      "|5D4o4olJcF8|\n",
      "get vid info\n",
      "[youtube] Extracting URL: https://www.youtube.com/watch?v=5D4o4olJcF8\n",
      "[youtube] 5D4o4olJcF8: Downloading webpage\n",
      "[youtube] 5D4o4olJcF8: Downloading android player API JSON\n"
     ]
    },
    {
     "name": "stderr",
     "output_type": "stream",
     "text": [
      "WARNING: [youtube] 5D4o4olJcF8: nsig extraction failed: You may experience throttling for some formats\n",
      "         Install PhantomJS to workaround the issue. Please download it from https://phantomjs.org/download.html\n",
      "         n = gwvrwCap7m4goL ; player = https://www.youtube.com/s/player/97ea7458/player_ias.vflset/en_US/base.js\n"
     ]
    },
    {
     "name": "stdout",
     "output_type": "stream",
     "text": [
      "get random frame\n",
      "*1363-1364\n",
      "5D4o4olJcF8\n",
      "yt-dlp -S res:720,ext:mp4,fps:24 -c --recode mp4 --download-sections *1363-1364 https://www.youtube.com/watch?v=5D4o4olJcF8 --output spamham_samples/5D4o4olJcF8.mp4 --retries infinite --fragment-retries infinite && ffmpeg -i spamham_samples/5D4o4olJcF8.mp4 -r 1 -vframes 1 -f image2 -q:v 1 spamham_samples/frames/5D4o4olJcF8.%03d.jpeg -y && del spamham_samples\\5D4o4olJcF8.mp4\n",
      "running donwload, extract, delete cmd...0\n",
      "add file to sources\n",
      "label frame\n",
      "|1Bq4Jct1VOQ|\n",
      "get vid info\n",
      "[youtube] Extracting URL: https://www.youtube.com/watch?v=1Bq4Jct1VOQ\n",
      "[youtube] 1Bq4Jct1VOQ: Downloading webpage\n",
      "[youtube] 1Bq4Jct1VOQ: Downloading android player API JSON\n"
     ]
    },
    {
     "name": "stderr",
     "output_type": "stream",
     "text": [
      "WARNING: [youtube] 1Bq4Jct1VOQ: nsig extraction failed: You may experience throttling for some formats\n",
      "         Install PhantomJS to workaround the issue. Please download it from https://phantomjs.org/download.html\n",
      "         n = RInG0AdyFIMRTp ; player = https://www.youtube.com/s/player/97ea7458/player_ias.vflset/en_US/base.js\n"
     ]
    },
    {
     "name": "stdout",
     "output_type": "stream",
     "text": [
      "get random frame\n",
      "*1954-1955\n",
      "1Bq4Jct1VOQ\n",
      "yt-dlp -S res:720,ext:mp4,fps:24 -c --recode mp4 --download-sections *1954-1955 https://www.youtube.com/watch?v=1Bq4Jct1VOQ --output spamham_samples/1Bq4Jct1VOQ.mp4 --retries infinite --fragment-retries infinite && ffmpeg -i spamham_samples/1Bq4Jct1VOQ.mp4 -r 1 -vframes 1 -f image2 -q:v 1 spamham_samples/frames/1Bq4Jct1VOQ.%03d.jpeg -y && del spamham_samples\\1Bq4Jct1VOQ.mp4\n",
      "running donwload, extract, delete cmd...0\n",
      "add file to sources\n",
      "label frame\n",
      "|DA5WA1LzZpI|\n",
      "get vid info\n",
      "[youtube] Extracting URL: https://www.youtube.com/watch?v=DA5WA1LzZpI\n",
      "[youtube] DA5WA1LzZpI: Downloading webpage\n",
      "[youtube] DA5WA1LzZpI: Downloading android player API JSON\n"
     ]
    },
    {
     "name": "stderr",
     "output_type": "stream",
     "text": [
      "WARNING: [youtube] DA5WA1LzZpI: nsig extraction failed: You may experience throttling for some formats\n",
      "         Install PhantomJS to workaround the issue. Please download it from https://phantomjs.org/download.html\n",
      "         n = 0P0Vz3xB-JY0iI ; player = https://www.youtube.com/s/player/97ea7458/player_ias.vflset/en_US/base.js\n"
     ]
    },
    {
     "name": "stdout",
     "output_type": "stream",
     "text": [
      "get random frame\n",
      "*809-810\n",
      "DA5WA1LzZpI\n",
      "yt-dlp -S res:720,ext:mp4,fps:24 -c --recode mp4 --download-sections *809-810 https://www.youtube.com/watch?v=DA5WA1LzZpI --output spamham_samples/DA5WA1LzZpI.mp4 --retries infinite --fragment-retries infinite && ffmpeg -i spamham_samples/DA5WA1LzZpI.mp4 -r 1 -vframes 1 -f image2 -q:v 1 spamham_samples/frames/DA5WA1LzZpI.%03d.jpeg -y && del spamham_samples\\DA5WA1LzZpI.mp4\n",
      "running donwload, extract, delete cmd...0\n",
      "add file to sources\n",
      "label frame\n",
      "|JzymRdF0nGs|\n",
      "get vid info\n",
      "[youtube] Extracting URL: https://www.youtube.com/watch?v=JzymRdF0nGs\n",
      "[youtube] JzymRdF0nGs: Downloading webpage\n",
      "[youtube] JzymRdF0nGs: Downloading android player API JSON\n"
     ]
    },
    {
     "name": "stderr",
     "output_type": "stream",
     "text": [
      "WARNING: [youtube] JzymRdF0nGs: nsig extraction failed: You may experience throttling for some formats\n",
      "         Install PhantomJS to workaround the issue. Please download it from https://phantomjs.org/download.html\n",
      "         n = mLwad1QAc2ym-U ; player = https://www.youtube.com/s/player/97ea7458/player_ias.vflset/en_US/base.js\n"
     ]
    },
    {
     "name": "stdout",
     "output_type": "stream",
     "text": [
      "get random frame\n",
      "*1629-1630\n",
      "JzymRdF0nGs\n",
      "yt-dlp -S res:720,ext:mp4,fps:24 -c --recode mp4 --download-sections *1629-1630 https://www.youtube.com/watch?v=JzymRdF0nGs --output spamham_samples/JzymRdF0nGs.mp4 --retries infinite --fragment-retries infinite && ffmpeg -i spamham_samples/JzymRdF0nGs.mp4 -r 1 -vframes 1 -f image2 -q:v 1 spamham_samples/frames/JzymRdF0nGs.%03d.jpeg -y && del spamham_samples\\JzymRdF0nGs.mp4\n",
      "running donwload, extract, delete cmd...0\n",
      "add file to sources\n",
      "label frame\n",
      "|4caMTc2kDNI|\n",
      "get vid info\n",
      "[youtube] Extracting URL: https://www.youtube.com/watch?v=4caMTc2kDNI\n",
      "[youtube] 4caMTc2kDNI: Downloading webpage\n",
      "[youtube] 4caMTc2kDNI: Downloading android player API JSON\n"
     ]
    },
    {
     "name": "stderr",
     "output_type": "stream",
     "text": [
      "WARNING: [youtube] 4caMTc2kDNI: nsig extraction failed: You may experience throttling for some formats\n",
      "         Install PhantomJS to workaround the issue. Please download it from https://phantomjs.org/download.html\n",
      "         n = yWHOd5vdmQ_C27 ; player = https://www.youtube.com/s/player/97ea7458/player_ias.vflset/en_US/base.js\n"
     ]
    },
    {
     "name": "stdout",
     "output_type": "stream",
     "text": [
      "get random frame\n",
      "*1283-1284\n",
      "4caMTc2kDNI\n",
      "yt-dlp -S res:720,ext:mp4,fps:24 -c --recode mp4 --download-sections *1283-1284 https://www.youtube.com/watch?v=4caMTc2kDNI --output spamham_samples/4caMTc2kDNI.mp4 --retries infinite --fragment-retries infinite && ffmpeg -i spamham_samples/4caMTc2kDNI.mp4 -r 1 -vframes 1 -f image2 -q:v 1 spamham_samples/frames/4caMTc2kDNI.%03d.jpeg -y && del spamham_samples\\4caMTc2kDNI.mp4\n",
      "running donwload, extract, delete cmd...0\n",
      "add file to sources\n",
      "label frame\n",
      "|orlYzdXgZjY|\n",
      "get vid info\n",
      "[youtube] Extracting URL: https://www.youtube.com/watch?v=orlYzdXgZjY\n",
      "[youtube] orlYzdXgZjY: Downloading webpage\n",
      "[youtube] orlYzdXgZjY: Downloading android player API JSON\n"
     ]
    },
    {
     "name": "stderr",
     "output_type": "stream",
     "text": [
      "WARNING: [youtube] orlYzdXgZjY: nsig extraction failed: You may experience throttling for some formats\n",
      "         Install PhantomJS to workaround the issue. Please download it from https://phantomjs.org/download.html\n",
      "         n = nZKyNJ00l7o3Wo ; player = https://www.youtube.com/s/player/97ea7458/player_ias.vflset/en_US/base.js\n"
     ]
    },
    {
     "name": "stdout",
     "output_type": "stream",
     "text": [
      "get random frame\n",
      "*414-415\n",
      "orlYzdXgZjY\n",
      "yt-dlp -S res:720,ext:mp4,fps:24 -c --recode mp4 --download-sections *414-415 https://www.youtube.com/watch?v=orlYzdXgZjY --output spamham_samples/orlYzdXgZjY.mp4 --retries infinite --fragment-retries infinite && ffmpeg -i spamham_samples/orlYzdXgZjY.mp4 -r 1 -vframes 1 -f image2 -q:v 1 spamham_samples/frames/orlYzdXgZjY.%03d.jpeg -y && del spamham_samples\\orlYzdXgZjY.mp4\n",
      "running donwload, extract, delete cmd...0\n",
      "add file to sources\n",
      "label frame\n",
      "|T8cexGRFkLA|\n",
      "get vid info\n",
      "[youtube] Extracting URL: https://www.youtube.com/watch?v=T8cexGRFkLA\n",
      "[youtube] T8cexGRFkLA: Downloading webpage\n",
      "[youtube] T8cexGRFkLA: Downloading android player API JSON\n"
     ]
    },
    {
     "name": "stderr",
     "output_type": "stream",
     "text": [
      "WARNING: [youtube] T8cexGRFkLA: nsig extraction failed: You may experience throttling for some formats\n",
      "         Install PhantomJS to workaround the issue. Please download it from https://phantomjs.org/download.html\n",
      "         n = JkcYzhjbpgR5SQ ; player = https://www.youtube.com/s/player/97ea7458/player_ias.vflset/en_US/base.js\n"
     ]
    },
    {
     "name": "stdout",
     "output_type": "stream",
     "text": [
      "get random frame\n",
      "*1157-1158\n",
      "T8cexGRFkLA\n",
      "yt-dlp -S res:720,ext:mp4,fps:24 -c --recode mp4 --download-sections *1157-1158 https://www.youtube.com/watch?v=T8cexGRFkLA --output spamham_samples/T8cexGRFkLA.mp4 --retries infinite --fragment-retries infinite && ffmpeg -i spamham_samples/T8cexGRFkLA.mp4 -r 1 -vframes 1 -f image2 -q:v 1 spamham_samples/frames/T8cexGRFkLA.%03d.jpeg -y && del spamham_samples\\T8cexGRFkLA.mp4\n",
      "running donwload, extract, delete cmd...0\n",
      "add file to sources\n",
      "label frame\n",
      "|4sso6MAklY0|\n",
      "get vid info\n",
      "[youtube] Extracting URL: https://www.youtube.com/watch?v=4sso6MAklY0\n",
      "[youtube] 4sso6MAklY0: Downloading webpage\n",
      "[youtube] 4sso6MAklY0: Downloading android player API JSON\n"
     ]
    },
    {
     "name": "stderr",
     "output_type": "stream",
     "text": [
      "WARNING: [youtube] 4sso6MAklY0: nsig extraction failed: You may experience throttling for some formats\n",
      "         Install PhantomJS to workaround the issue. Please download it from https://phantomjs.org/download.html\n",
      "         n = RTD2o5AJxAEBaQ ; player = https://www.youtube.com/s/player/97ea7458/player_ias.vflset/en_US/base.js\n"
     ]
    },
    {
     "name": "stdout",
     "output_type": "stream",
     "text": [
      "get random frame\n",
      "*1473-1474\n",
      "4sso6MAklY0\n",
      "yt-dlp -S res:720,ext:mp4,fps:24 -c --recode mp4 --download-sections *1473-1474 https://www.youtube.com/watch?v=4sso6MAklY0 --output spamham_samples/4sso6MAklY0.mp4 --retries infinite --fragment-retries infinite && ffmpeg -i spamham_samples/4sso6MAklY0.mp4 -r 1 -vframes 1 -f image2 -q:v 1 spamham_samples/frames/4sso6MAklY0.%03d.jpeg -y && del spamham_samples\\4sso6MAklY0.mp4\n",
      "running donwload, extract, delete cmd...0\n",
      "add file to sources\n",
      "label frame\n",
      "|noRXFq3g2Wk|\n",
      "get vid info\n",
      "[youtube] Extracting URL: https://www.youtube.com/watch?v=noRXFq3g2Wk\n",
      "[youtube] noRXFq3g2Wk: Downloading webpage\n",
      "[youtube] noRXFq3g2Wk: Downloading android player API JSON\n"
     ]
    },
    {
     "name": "stderr",
     "output_type": "stream",
     "text": [
      "WARNING: [youtube] noRXFq3g2Wk: nsig extraction failed: You may experience throttling for some formats\n",
      "         Install PhantomJS to workaround the issue. Please download it from https://phantomjs.org/download.html\n",
      "         n = -OAfURZTjtSO9Q ; player = https://www.youtube.com/s/player/97ea7458/player_ias.vflset/en_US/base.js\n"
     ]
    },
    {
     "name": "stdout",
     "output_type": "stream",
     "text": [
      "get random frame\n",
      "*483-484\n",
      "noRXFq3g2Wk\n",
      "yt-dlp -S res:720,ext:mp4,fps:24 -c --recode mp4 --download-sections *483-484 https://www.youtube.com/watch?v=noRXFq3g2Wk --output spamham_samples/noRXFq3g2Wk.mp4 --retries infinite --fragment-retries infinite && ffmpeg -i spamham_samples/noRXFq3g2Wk.mp4 -r 1 -vframes 1 -f image2 -q:v 1 spamham_samples/frames/noRXFq3g2Wk.%03d.jpeg -y && del spamham_samples\\noRXFq3g2Wk.mp4\n",
      "running donwload, extract, delete cmd...0\n",
      "add file to sources\n",
      "label frame\n",
      "|8Ot2hc0cvDQ|\n",
      "get vid info\n",
      "[youtube] Extracting URL: https://www.youtube.com/watch?v=8Ot2hc0cvDQ\n",
      "[youtube] 8Ot2hc0cvDQ: Downloading webpage\n",
      "[youtube] 8Ot2hc0cvDQ: Downloading android player API JSON\n"
     ]
    },
    {
     "name": "stderr",
     "output_type": "stream",
     "text": [
      "WARNING: [youtube] 8Ot2hc0cvDQ: nsig extraction failed: You may experience throttling for some formats\n",
      "         Install PhantomJS to workaround the issue. Please download it from https://phantomjs.org/download.html\n",
      "         n = xP6ACKj65CKBfJ ; player = https://www.youtube.com/s/player/97ea7458/player_ias.vflset/en_US/base.js\n"
     ]
    },
    {
     "name": "stdout",
     "output_type": "stream",
     "text": [
      "get random frame\n",
      "*1291-1292\n",
      "8Ot2hc0cvDQ\n",
      "yt-dlp -S res:720,ext:mp4,fps:24 -c --recode mp4 --download-sections *1291-1292 https://www.youtube.com/watch?v=8Ot2hc0cvDQ --output spamham_samples/8Ot2hc0cvDQ.mp4 --retries infinite --fragment-retries infinite && ffmpeg -i spamham_samples/8Ot2hc0cvDQ.mp4 -r 1 -vframes 1 -f image2 -q:v 1 spamham_samples/frames/8Ot2hc0cvDQ.%03d.jpeg -y && del spamham_samples\\8Ot2hc0cvDQ.mp4\n",
      "running donwload, extract, delete cmd...0\n",
      "add file to sources\n",
      "label frame\n",
      "|NrRxaC_u5Zo|\n",
      "get vid info\n",
      "[youtube] Extracting URL: https://www.youtube.com/watch?v=NrRxaC_u5Zo\n",
      "[youtube] NrRxaC_u5Zo: Downloading webpage\n",
      "[youtube] NrRxaC_u5Zo: Downloading android player API JSON\n"
     ]
    },
    {
     "name": "stderr",
     "output_type": "stream",
     "text": [
      "WARNING: [youtube] NrRxaC_u5Zo: nsig extraction failed: You may experience throttling for some formats\n",
      "         Install PhantomJS to workaround the issue. Please download it from https://phantomjs.org/download.html\n",
      "         n = WAx1Jb7Fl6VW6m ; player = https://www.youtube.com/s/player/97ea7458/player_ias.vflset/en_US/base.js\n"
     ]
    },
    {
     "name": "stdout",
     "output_type": "stream",
     "text": [
      "get random frame\n",
      "*127-128\n",
      "NrRxaC_u5Zo\n",
      "yt-dlp -S res:720,ext:mp4,fps:24 -c --recode mp4 --download-sections *127-128 https://www.youtube.com/watch?v=NrRxaC_u5Zo --output spamham_samples/NrRxaC_u5Zo.mp4 --retries infinite --fragment-retries infinite && ffmpeg -i spamham_samples/NrRxaC_u5Zo.mp4 -r 1 -vframes 1 -f image2 -q:v 1 spamham_samples/frames/NrRxaC_u5Zo.%03d.jpeg -y && del spamham_samples\\NrRxaC_u5Zo.mp4\n",
      "running donwload, extract, delete cmd...0\n",
      "add file to sources\n",
      "label frame\n",
      "|9-_OSBlu9NE|\n",
      "get vid info\n",
      "[youtube] Extracting URL: https://www.youtube.com/watch?v=9-_OSBlu9NE\n",
      "[youtube] 9-_OSBlu9NE: Downloading webpage\n",
      "[youtube] 9-_OSBlu9NE: Downloading android player API JSON\n"
     ]
    },
    {
     "name": "stderr",
     "output_type": "stream",
     "text": [
      "WARNING: [youtube] 9-_OSBlu9NE: nsig extraction failed: You may experience throttling for some formats\n",
      "         Install PhantomJS to workaround the issue. Please download it from https://phantomjs.org/download.html\n",
      "         n = ABPOLHUT7rhw0j ; player = https://www.youtube.com/s/player/97ea7458/player_ias.vflset/en_US/base.js\n"
     ]
    },
    {
     "name": "stdout",
     "output_type": "stream",
     "text": [
      "get random frame\n",
      "*1879-1880\n",
      "9-_OSBlu9NE\n",
      "yt-dlp -S res:720,ext:mp4,fps:24 -c --recode mp4 --download-sections *1879-1880 https://www.youtube.com/watch?v=9-_OSBlu9NE --output spamham_samples/9-_OSBlu9NE.mp4 --retries infinite --fragment-retries infinite && ffmpeg -i spamham_samples/9-_OSBlu9NE.mp4 -r 1 -vframes 1 -f image2 -q:v 1 spamham_samples/frames/9-_OSBlu9NE.%03d.jpeg -y && del spamham_samples\\9-_OSBlu9NE.mp4\n",
      "running donwload, extract, delete cmd...0\n",
      "add file to sources\n",
      "label frame\n",
      "|DfDaCDRp3wo|\n",
      "get vid info\n",
      "[youtube] Extracting URL: https://www.youtube.com/watch?v=DfDaCDRp3wo\n",
      "[youtube] DfDaCDRp3wo: Downloading webpage\n",
      "[youtube] DfDaCDRp3wo: Downloading android player API JSON\n"
     ]
    },
    {
     "name": "stderr",
     "output_type": "stream",
     "text": [
      "WARNING: [youtube] DfDaCDRp3wo: nsig extraction failed: You may experience throttling for some formats\n",
      "         Install PhantomJS to workaround the issue. Please download it from https://phantomjs.org/download.html\n",
      "         n = gsPFwTbG_9RQyJ ; player = https://www.youtube.com/s/player/97ea7458/player_ias.vflset/en_US/base.js\n"
     ]
    },
    {
     "name": "stdout",
     "output_type": "stream",
     "text": [
      "get random frame\n",
      "*1482-1483\n",
      "DfDaCDRp3wo\n",
      "yt-dlp -S res:720,ext:mp4,fps:24 -c --recode mp4 --download-sections *1482-1483 https://www.youtube.com/watch?v=DfDaCDRp3wo --output spamham_samples/DfDaCDRp3wo.mp4 --retries infinite --fragment-retries infinite && ffmpeg -i spamham_samples/DfDaCDRp3wo.mp4 -r 1 -vframes 1 -f image2 -q:v 1 spamham_samples/frames/DfDaCDRp3wo.%03d.jpeg -y && del spamham_samples\\DfDaCDRp3wo.mp4\n",
      "running donwload, extract, delete cmd...0\n",
      "add file to sources\n",
      "label frame\n",
      "|wfyDAr1JOi4|\n",
      "get vid info\n",
      "[youtube] Extracting URL: https://www.youtube.com/watch?v=wfyDAr1JOi4\n",
      "[youtube] wfyDAr1JOi4: Downloading webpage\n",
      "[youtube] wfyDAr1JOi4: Downloading android player API JSON\n"
     ]
    },
    {
     "name": "stderr",
     "output_type": "stream",
     "text": [
      "WARNING: [youtube] wfyDAr1JOi4: nsig extraction failed: You may experience throttling for some formats\n",
      "         Install PhantomJS to workaround the issue. Please download it from https://phantomjs.org/download.html\n",
      "         n = 0_vBG8CEFem0VD ; player = https://www.youtube.com/s/player/97ea7458/player_ias.vflset/en_US/base.js\n"
     ]
    },
    {
     "name": "stdout",
     "output_type": "stream",
     "text": [
      "get random frame\n",
      "*585-586\n",
      "wfyDAr1JOi4\n",
      "yt-dlp -S res:720,ext:mp4,fps:24 -c --recode mp4 --download-sections *585-586 https://www.youtube.com/watch?v=wfyDAr1JOi4 --output spamham_samples/wfyDAr1JOi4.mp4 --retries infinite --fragment-retries infinite && ffmpeg -i spamham_samples/wfyDAr1JOi4.mp4 -r 1 -vframes 1 -f image2 -q:v 1 spamham_samples/frames/wfyDAr1JOi4.%03d.jpeg -y && del spamham_samples\\wfyDAr1JOi4.mp4\n",
      "running donwload, extract, delete cmd...0\n",
      "add file to sources\n",
      "label frame\n",
      "|_cucfona66w|\n",
      "get vid info\n",
      "[youtube] Extracting URL: https://www.youtube.com/watch?v=_cucfona66w\n",
      "[youtube] _cucfona66w: Downloading webpage\n",
      "[youtube] _cucfona66w: Downloading android player API JSON\n"
     ]
    },
    {
     "name": "stderr",
     "output_type": "stream",
     "text": [
      "WARNING: [youtube] _cucfona66w: nsig extraction failed: You may experience throttling for some formats\n",
      "         Install PhantomJS to workaround the issue. Please download it from https://phantomjs.org/download.html\n",
      "         n = ErRheOYEJwZkKA ; player = https://www.youtube.com/s/player/97ea7458/player_ias.vflset/en_US/base.js\n"
     ]
    },
    {
     "name": "stdout",
     "output_type": "stream",
     "text": [
      "get random frame\n",
      "*1304-1305\n",
      "_cucfona66w\n",
      "yt-dlp -S res:720,ext:mp4,fps:24 -c --recode mp4 --download-sections *1304-1305 https://www.youtube.com/watch?v=_cucfona66w --output spamham_samples/_cucfona66w.mp4 --retries infinite --fragment-retries infinite && ffmpeg -i spamham_samples/_cucfona66w.mp4 -r 1 -vframes 1 -f image2 -q:v 1 spamham_samples/frames/_cucfona66w.%03d.jpeg -y && del spamham_samples\\_cucfona66w.mp4\n",
      "running donwload, extract, delete cmd...0\n",
      "add file to sources\n",
      "label frame\n",
      "|i6qzURsDlwM|\n",
      "get vid info\n",
      "[youtube] Extracting URL: https://www.youtube.com/watch?v=i6qzURsDlwM\n",
      "[youtube] i6qzURsDlwM: Downloading webpage\n",
      "[youtube] i6qzURsDlwM: Downloading android player API JSON\n"
     ]
    },
    {
     "name": "stderr",
     "output_type": "stream",
     "text": [
      "WARNING: [youtube] i6qzURsDlwM: nsig extraction failed: You may experience throttling for some formats\n",
      "         Install PhantomJS to workaround the issue. Please download it from https://phantomjs.org/download.html\n",
      "         n = yfjXytx11_Ayys ; player = https://www.youtube.com/s/player/97ea7458/player_ias.vflset/en_US/base.js\n"
     ]
    },
    {
     "name": "stdout",
     "output_type": "stream",
     "text": [
      "get random frame\n",
      "*1717-1718\n",
      "i6qzURsDlwM\n",
      "yt-dlp -S res:720,ext:mp4,fps:24 -c --recode mp4 --download-sections *1717-1718 https://www.youtube.com/watch?v=i6qzURsDlwM --output spamham_samples/i6qzURsDlwM.mp4 --retries infinite --fragment-retries infinite && ffmpeg -i spamham_samples/i6qzURsDlwM.mp4 -r 1 -vframes 1 -f image2 -q:v 1 spamham_samples/frames/i6qzURsDlwM.%03d.jpeg -y && del spamham_samples\\i6qzURsDlwM.mp4\n",
      "running donwload, extract, delete cmd...0\n",
      "add file to sources\n",
      "label frame\n",
      "|jhohdzrN_nc|\n",
      "get vid info\n",
      "[youtube] Extracting URL: https://www.youtube.com/watch?v=jhohdzrN_nc\n",
      "[youtube] jhohdzrN_nc: Downloading webpage\n",
      "[youtube] jhohdzrN_nc: Downloading android player API JSON\n"
     ]
    },
    {
     "name": "stderr",
     "output_type": "stream",
     "text": [
      "WARNING: [youtube] jhohdzrN_nc: nsig extraction failed: You may experience throttling for some formats\n",
      "         Install PhantomJS to workaround the issue. Please download it from https://phantomjs.org/download.html\n",
      "         n = HTimPdyC3uL3RJ ; player = https://www.youtube.com/s/player/97ea7458/player_ias.vflset/en_US/base.js\n"
     ]
    },
    {
     "name": "stdout",
     "output_type": "stream",
     "text": [
      "get random frame\n",
      "*573-574\n",
      "jhohdzrN_nc\n",
      "yt-dlp -S res:720,ext:mp4,fps:24 -c --recode mp4 --download-sections *573-574 https://www.youtube.com/watch?v=jhohdzrN_nc --output spamham_samples/jhohdzrN_nc.mp4 --retries infinite --fragment-retries infinite && ffmpeg -i spamham_samples/jhohdzrN_nc.mp4 -r 1 -vframes 1 -f image2 -q:v 1 spamham_samples/frames/jhohdzrN_nc.%03d.jpeg -y && del spamham_samples\\jhohdzrN_nc.mp4\n",
      "running donwload, extract, delete cmd...0\n",
      "add file to sources\n",
      "label frame\n",
      "|KNqPIUoCi54|\n",
      "get vid info\n",
      "[youtube] Extracting URL: https://www.youtube.com/watch?v=KNqPIUoCi54\n",
      "[youtube] KNqPIUoCi54: Downloading webpage\n",
      "[youtube] KNqPIUoCi54: Downloading android player API JSON\n"
     ]
    },
    {
     "name": "stderr",
     "output_type": "stream",
     "text": [
      "WARNING: [youtube] KNqPIUoCi54: nsig extraction failed: You may experience throttling for some formats\n",
      "         Install PhantomJS to workaround the issue. Please download it from https://phantomjs.org/download.html\n",
      "         n = C0GzAkZXQfziQm ; player = https://www.youtube.com/s/player/97ea7458/player_ias.vflset/en_US/base.js\n"
     ]
    },
    {
     "name": "stdout",
     "output_type": "stream",
     "text": [
      "get random frame\n",
      "*387-388\n",
      "KNqPIUoCi54\n",
      "yt-dlp -S res:720,ext:mp4,fps:24 -c --recode mp4 --download-sections *387-388 https://www.youtube.com/watch?v=KNqPIUoCi54 --output spamham_samples/KNqPIUoCi54.mp4 --retries infinite --fragment-retries infinite && ffmpeg -i spamham_samples/KNqPIUoCi54.mp4 -r 1 -vframes 1 -f image2 -q:v 1 spamham_samples/frames/KNqPIUoCi54.%03d.jpeg -y && del spamham_samples\\KNqPIUoCi54.mp4\n",
      "running donwload, extract, delete cmd...0\n",
      "add file to sources\n",
      "label frame\n",
      "|QjMLGMqDDGE|\n",
      "get vid info\n",
      "[youtube] Extracting URL: https://www.youtube.com/watch?v=QjMLGMqDDGE\n",
      "[youtube] QjMLGMqDDGE: Downloading webpage\n",
      "[youtube] QjMLGMqDDGE: Downloading android player API JSON\n"
     ]
    },
    {
     "name": "stderr",
     "output_type": "stream",
     "text": [
      "WARNING: [youtube] QjMLGMqDDGE: nsig extraction failed: You may experience throttling for some formats\n",
      "         Install PhantomJS to workaround the issue. Please download it from https://phantomjs.org/download.html\n",
      "         n = BJfj_ISuFxqRqk ; player = https://www.youtube.com/s/player/97ea7458/player_ias.vflset/en_US/base.js\n"
     ]
    },
    {
     "name": "stdout",
     "output_type": "stream",
     "text": [
      "get random frame\n",
      "*521-522\n",
      "QjMLGMqDDGE\n",
      "yt-dlp -S res:720,ext:mp4,fps:24 -c --recode mp4 --download-sections *521-522 https://www.youtube.com/watch?v=QjMLGMqDDGE --output spamham_samples/QjMLGMqDDGE.mp4 --retries infinite --fragment-retries infinite && ffmpeg -i spamham_samples/QjMLGMqDDGE.mp4 -r 1 -vframes 1 -f image2 -q:v 1 spamham_samples/frames/QjMLGMqDDGE.%03d.jpeg -y && del spamham_samples\\QjMLGMqDDGE.mp4\n",
      "running donwload, extract, delete cmd...0\n",
      "add file to sources\n",
      "label frame\n",
      "|OWCUCRIZIis|\n",
      "get vid info\n",
      "[youtube] Extracting URL: https://www.youtube.com/watch?v=OWCUCRIZIis\n",
      "[youtube] OWCUCRIZIis: Downloading webpage\n",
      "[youtube] OWCUCRIZIis: Downloading android player API JSON\n"
     ]
    },
    {
     "name": "stderr",
     "output_type": "stream",
     "text": [
      "WARNING: [youtube] OWCUCRIZIis: nsig extraction failed: You may experience throttling for some formats\n",
      "         Install PhantomJS to workaround the issue. Please download it from https://phantomjs.org/download.html\n",
      "         n = wfV_kucnSPmwb2 ; player = https://www.youtube.com/s/player/97ea7458/player_ias.vflset/en_US/base.js\n"
     ]
    },
    {
     "name": "stdout",
     "output_type": "stream",
     "text": [
      "get random frame\n",
      "*1661-1662\n",
      "OWCUCRIZIis\n",
      "yt-dlp -S res:720,ext:mp4,fps:24 -c --recode mp4 --download-sections *1661-1662 https://www.youtube.com/watch?v=OWCUCRIZIis --output spamham_samples/OWCUCRIZIis.mp4 --retries infinite --fragment-retries infinite && ffmpeg -i spamham_samples/OWCUCRIZIis.mp4 -r 1 -vframes 1 -f image2 -q:v 1 spamham_samples/frames/OWCUCRIZIis.%03d.jpeg -y && del spamham_samples\\OWCUCRIZIis.mp4\n",
      "running donwload, extract, delete cmd...0\n",
      "add file to sources\n",
      "label frame\n",
      "|xRoTS4zEYVE|\n",
      "get vid info\n",
      "[youtube] Extracting URL: https://www.youtube.com/watch?v=xRoTS4zEYVE\n",
      "[youtube] xRoTS4zEYVE: Downloading webpage\n",
      "[youtube] xRoTS4zEYVE: Downloading android player API JSON\n"
     ]
    },
    {
     "name": "stderr",
     "output_type": "stream",
     "text": [
      "WARNING: [youtube] xRoTS4zEYVE: nsig extraction failed: You may experience throttling for some formats\n",
      "         Install PhantomJS to workaround the issue. Please download it from https://phantomjs.org/download.html\n",
      "         n = CCg3Z5rTCILiye ; player = https://www.youtube.com/s/player/97ea7458/player_ias.vflset/en_US/base.js\n"
     ]
    },
    {
     "name": "stdout",
     "output_type": "stream",
     "text": [
      "get random frame\n",
      "*3261-3262\n",
      "xRoTS4zEYVE\n",
      "yt-dlp -S res:720,ext:mp4,fps:24 -c --recode mp4 --download-sections *3261-3262 https://www.youtube.com/watch?v=xRoTS4zEYVE --output spamham_samples/xRoTS4zEYVE.mp4 --retries infinite --fragment-retries infinite && ffmpeg -i spamham_samples/xRoTS4zEYVE.mp4 -r 1 -vframes 1 -f image2 -q:v 1 spamham_samples/frames/xRoTS4zEYVE.%03d.jpeg -y && del spamham_samples\\xRoTS4zEYVE.mp4\n",
      "running donwload, extract, delete cmd...0\n",
      "add file to sources\n",
      "label frame\n",
      "|wotZ5JWBqNI|\n",
      "get vid info\n",
      "[youtube] Extracting URL: https://www.youtube.com/watch?v=wotZ5JWBqNI\n",
      "[youtube] wotZ5JWBqNI: Downloading webpage\n",
      "[youtube] wotZ5JWBqNI: Downloading android player API JSON\n"
     ]
    },
    {
     "name": "stderr",
     "output_type": "stream",
     "text": [
      "WARNING: [youtube] wotZ5JWBqNI: nsig extraction failed: You may experience throttling for some formats\n",
      "         Install PhantomJS to workaround the issue. Please download it from https://phantomjs.org/download.html\n",
      "         n = nDee01CoGBgHff ; player = https://www.youtube.com/s/player/97ea7458/player_ias.vflset/en_US/base.js\n"
     ]
    },
    {
     "name": "stdout",
     "output_type": "stream",
     "text": [
      "get random frame\n",
      "*3039-3040\n",
      "wotZ5JWBqNI\n",
      "yt-dlp -S res:720,ext:mp4,fps:24 -c --recode mp4 --download-sections *3039-3040 https://www.youtube.com/watch?v=wotZ5JWBqNI --output spamham_samples/wotZ5JWBqNI.mp4 --retries infinite --fragment-retries infinite && ffmpeg -i spamham_samples/wotZ5JWBqNI.mp4 -r 1 -vframes 1 -f image2 -q:v 1 spamham_samples/frames/wotZ5JWBqNI.%03d.jpeg -y && del spamham_samples\\wotZ5JWBqNI.mp4\n",
      "running donwload, extract, delete cmd...0\n",
      "add file to sources\n",
      "label frame\n",
      "|TOVjHgPB1GE|\n",
      "get vid info\n",
      "[youtube] Extracting URL: https://www.youtube.com/watch?v=TOVjHgPB1GE\n",
      "[youtube] TOVjHgPB1GE: Downloading webpage\n",
      "[youtube] TOVjHgPB1GE: Downloading android player API JSON\n"
     ]
    },
    {
     "name": "stderr",
     "output_type": "stream",
     "text": [
      "WARNING: [youtube] TOVjHgPB1GE: nsig extraction failed: You may experience throttling for some formats\n",
      "         Install PhantomJS to workaround the issue. Please download it from https://phantomjs.org/download.html\n",
      "         n = 62gfoJyeTLaKLn ; player = https://www.youtube.com/s/player/97ea7458/player_ias.vflset/en_US/base.js\n"
     ]
    },
    {
     "name": "stdout",
     "output_type": "stream",
     "text": [
      "get random frame\n",
      "*1761-1762\n",
      "TOVjHgPB1GE\n",
      "yt-dlp -S res:720,ext:mp4,fps:24 -c --recode mp4 --download-sections *1761-1762 https://www.youtube.com/watch?v=TOVjHgPB1GE --output spamham_samples/TOVjHgPB1GE.mp4 --retries infinite --fragment-retries infinite && ffmpeg -i spamham_samples/TOVjHgPB1GE.mp4 -r 1 -vframes 1 -f image2 -q:v 1 spamham_samples/frames/TOVjHgPB1GE.%03d.jpeg -y && del spamham_samples\\TOVjHgPB1GE.mp4\n",
      "running donwload, extract, delete cmd...0\n",
      "add file to sources\n",
      "label frame\n",
      "|YZM92AcfiCo|\n",
      "get vid info\n",
      "[youtube] Extracting URL: https://www.youtube.com/watch?v=YZM92AcfiCo\n",
      "[youtube] YZM92AcfiCo: Downloading webpage\n",
      "[youtube] YZM92AcfiCo: Downloading android player API JSON\n"
     ]
    },
    {
     "name": "stderr",
     "output_type": "stream",
     "text": [
      "WARNING: [youtube] YZM92AcfiCo: nsig extraction failed: You may experience throttling for some formats\n",
      "         Install PhantomJS to workaround the issue. Please download it from https://phantomjs.org/download.html\n",
      "         n = eda-8jBiA5PO55 ; player = https://www.youtube.com/s/player/97ea7458/player_ias.vflset/en_US/base.js\n"
     ]
    },
    {
     "name": "stdout",
     "output_type": "stream",
     "text": [
      "get random frame\n",
      "*2036-2037\n",
      "YZM92AcfiCo\n",
      "yt-dlp -S res:720,ext:mp4,fps:24 -c --recode mp4 --download-sections *2036-2037 https://www.youtube.com/watch?v=YZM92AcfiCo --output spamham_samples/YZM92AcfiCo.mp4 --retries infinite --fragment-retries infinite && ffmpeg -i spamham_samples/YZM92AcfiCo.mp4 -r 1 -vframes 1 -f image2 -q:v 1 spamham_samples/frames/YZM92AcfiCo.%03d.jpeg -y && del spamham_samples\\YZM92AcfiCo.mp4\n",
      "running donwload, extract, delete cmd...0\n",
      "add file to sources\n",
      "label frame\n",
      "|H63U5njEZGc|\n",
      "get vid info\n",
      "[youtube] Extracting URL: https://www.youtube.com/watch?v=H63U5njEZGc\n",
      "[youtube] H63U5njEZGc: Downloading webpage\n",
      "[youtube] H63U5njEZGc: Downloading android player API JSON\n"
     ]
    },
    {
     "name": "stderr",
     "output_type": "stream",
     "text": [
      "WARNING: [youtube] H63U5njEZGc: nsig extraction failed: You may experience throttling for some formats\n",
      "         Install PhantomJS to workaround the issue. Please download it from https://phantomjs.org/download.html\n",
      "         n = QKuHPrT73v0AVb ; player = https://www.youtube.com/s/player/97ea7458/player_ias.vflset/en_US/base.js\n"
     ]
    },
    {
     "name": "stdout",
     "output_type": "stream",
     "text": [
      "get random frame\n",
      "*636-637\n",
      "H63U5njEZGc\n",
      "yt-dlp -S res:720,ext:mp4,fps:24 -c --recode mp4 --download-sections *636-637 https://www.youtube.com/watch?v=H63U5njEZGc --output spamham_samples/H63U5njEZGc.mp4 --retries infinite --fragment-retries infinite && ffmpeg -i spamham_samples/H63U5njEZGc.mp4 -r 1 -vframes 1 -f image2 -q:v 1 spamham_samples/frames/H63U5njEZGc.%03d.jpeg -y && del spamham_samples\\H63U5njEZGc.mp4\n",
      "running donwload, extract, delete cmd...0\n",
      "add file to sources\n",
      "label frame\n",
      "|hkaQoZ3Ojp0|\n",
      "get vid info\n",
      "[youtube] Extracting URL: https://www.youtube.com/watch?v=hkaQoZ3Ojp0\n",
      "[youtube] hkaQoZ3Ojp0: Downloading webpage\n",
      "[youtube] hkaQoZ3Ojp0: Downloading android player API JSON\n"
     ]
    },
    {
     "name": "stderr",
     "output_type": "stream",
     "text": [
      "WARNING: [youtube] hkaQoZ3Ojp0: nsig extraction failed: You may experience throttling for some formats\n",
      "         Install PhantomJS to workaround the issue. Please download it from https://phantomjs.org/download.html\n",
      "         n = 9MlPb_YisgBNaX ; player = https://www.youtube.com/s/player/97ea7458/player_ias.vflset/en_US/base.js\n"
     ]
    },
    {
     "name": "stdout",
     "output_type": "stream",
     "text": [
      "get random frame\n",
      "*808-809\n",
      "hkaQoZ3Ojp0\n",
      "yt-dlp -S res:720,ext:mp4,fps:24 -c --recode mp4 --download-sections *808-809 https://www.youtube.com/watch?v=hkaQoZ3Ojp0 --output spamham_samples/hkaQoZ3Ojp0.mp4 --retries infinite --fragment-retries infinite && ffmpeg -i spamham_samples/hkaQoZ3Ojp0.mp4 -r 1 -vframes 1 -f image2 -q:v 1 spamham_samples/frames/hkaQoZ3Ojp0.%03d.jpeg -y && del spamham_samples\\hkaQoZ3Ojp0.mp4\n",
      "running donwload, extract, delete cmd...0\n",
      "add file to sources\n",
      "label frame\n",
      "|ruzOAlnMMHE|\n",
      "get vid info\n",
      "[youtube] Extracting URL: https://www.youtube.com/watch?v=ruzOAlnMMHE\n",
      "[youtube] ruzOAlnMMHE: Downloading webpage\n",
      "[youtube] ruzOAlnMMHE: Downloading android player API JSON\n"
     ]
    },
    {
     "name": "stderr",
     "output_type": "stream",
     "text": [
      "WARNING: [youtube] ruzOAlnMMHE: nsig extraction failed: You may experience throttling for some formats\n",
      "         Install PhantomJS to workaround the issue. Please download it from https://phantomjs.org/download.html\n",
      "         n = 9LaCfBwrlrPdUb ; player = https://www.youtube.com/s/player/97ea7458/player_ias.vflset/en_US/base.js\n"
     ]
    },
    {
     "name": "stdout",
     "output_type": "stream",
     "text": [
      "get random frame\n",
      "*331-332\n",
      "ruzOAlnMMHE\n",
      "yt-dlp -S res:720,ext:mp4,fps:24 -c --recode mp4 --download-sections *331-332 https://www.youtube.com/watch?v=ruzOAlnMMHE --output spamham_samples/ruzOAlnMMHE.mp4 --retries infinite --fragment-retries infinite && ffmpeg -i spamham_samples/ruzOAlnMMHE.mp4 -r 1 -vframes 1 -f image2 -q:v 1 spamham_samples/frames/ruzOAlnMMHE.%03d.jpeg -y && del spamham_samples\\ruzOAlnMMHE.mp4\n",
      "running donwload, extract, delete cmd...0\n",
      "add file to sources\n",
      "label frame\n",
      "|_jO3NOHGJXg|\n",
      "get vid info\n",
      "[youtube] Extracting URL: https://www.youtube.com/watch?v=_jO3NOHGJXg\n",
      "[youtube] _jO3NOHGJXg: Downloading webpage\n",
      "[youtube] _jO3NOHGJXg: Downloading android player API JSON\n"
     ]
    },
    {
     "name": "stderr",
     "output_type": "stream",
     "text": [
      "WARNING: [youtube] _jO3NOHGJXg: nsig extraction failed: You may experience throttling for some formats\n",
      "         Install PhantomJS to workaround the issue. Please download it from https://phantomjs.org/download.html\n",
      "         n = tJj2h-WQaql9Fs ; player = https://www.youtube.com/s/player/97ea7458/player_ias.vflset/en_US/base.js\n"
     ]
    },
    {
     "name": "stdout",
     "output_type": "stream",
     "text": [
      "get random frame\n",
      "*2198-2199\n",
      "_jO3NOHGJXg\n",
      "yt-dlp -S res:720,ext:mp4,fps:24 -c --recode mp4 --download-sections *2198-2199 https://www.youtube.com/watch?v=_jO3NOHGJXg --output spamham_samples/_jO3NOHGJXg.mp4 --retries infinite --fragment-retries infinite && ffmpeg -i spamham_samples/_jO3NOHGJXg.mp4 -r 1 -vframes 1 -f image2 -q:v 1 spamham_samples/frames/_jO3NOHGJXg.%03d.jpeg -y && del spamham_samples\\_jO3NOHGJXg.mp4\n",
      "running donwload, extract, delete cmd...0\n",
      "add file to sources\n",
      "label frame\n",
      "|sM25dF2loKE|\n",
      "get vid info\n",
      "[youtube] Extracting URL: https://www.youtube.com/watch?v=sM25dF2loKE\n",
      "[youtube] sM25dF2loKE: Downloading webpage\n",
      "[youtube] sM25dF2loKE: Downloading android player API JSON\n"
     ]
    },
    {
     "name": "stderr",
     "output_type": "stream",
     "text": [
      "WARNING: [youtube] sM25dF2loKE: nsig extraction failed: You may experience throttling for some formats\n",
      "         Install PhantomJS to workaround the issue. Please download it from https://phantomjs.org/download.html\n",
      "         n = dgZPWJP0nT4Nkl ; player = https://www.youtube.com/s/player/97ea7458/player_ias.vflset/en_US/base.js\n"
     ]
    },
    {
     "name": "stdout",
     "output_type": "stream",
     "text": [
      "get random frame\n",
      "*370-371\n",
      "sM25dF2loKE\n",
      "yt-dlp -S res:720,ext:mp4,fps:24 -c --recode mp4 --download-sections *370-371 https://www.youtube.com/watch?v=sM25dF2loKE --output spamham_samples/sM25dF2loKE.mp4 --retries infinite --fragment-retries infinite && ffmpeg -i spamham_samples/sM25dF2loKE.mp4 -r 1 -vframes 1 -f image2 -q:v 1 spamham_samples/frames/sM25dF2loKE.%03d.jpeg -y && del spamham_samples\\sM25dF2loKE.mp4\n",
      "running donwload, extract, delete cmd...0\n",
      "add file to sources\n",
      "label frame\n",
      "|_AWKY45KlbU|\n",
      "get vid info\n",
      "[youtube] Extracting URL: https://www.youtube.com/watch?v=_AWKY45KlbU\n",
      "[youtube] _AWKY45KlbU: Downloading webpage\n",
      "[youtube] _AWKY45KlbU: Downloading android player API JSON\n"
     ]
    },
    {
     "name": "stderr",
     "output_type": "stream",
     "text": [
      "WARNING: [youtube] _AWKY45KlbU: nsig extraction failed: You may experience throttling for some formats\n",
      "         Install PhantomJS to workaround the issue. Please download it from https://phantomjs.org/download.html\n",
      "         n = 8qT6dOgUxKUsHB ; player = https://www.youtube.com/s/player/97ea7458/player_ias.vflset/en_US/base.js\n"
     ]
    },
    {
     "name": "stdout",
     "output_type": "stream",
     "text": [
      "get random frame\n",
      "*88-89\n",
      "_AWKY45KlbU\n",
      "yt-dlp -S res:720,ext:mp4,fps:24 -c --recode mp4 --download-sections *88-89 https://www.youtube.com/watch?v=_AWKY45KlbU --output spamham_samples/_AWKY45KlbU.mp4 --retries infinite --fragment-retries infinite && ffmpeg -i spamham_samples/_AWKY45KlbU.mp4 -r 1 -vframes 1 -f image2 -q:v 1 spamham_samples/frames/_AWKY45KlbU.%03d.jpeg -y && del spamham_samples\\_AWKY45KlbU.mp4\n",
      "running donwload, extract, delete cmd...0\n",
      "add file to sources\n",
      "label frame\n",
      "|ULyV04BIC0Y|\n",
      "get vid info\n",
      "[youtube] Extracting URL: https://www.youtube.com/watch?v=ULyV04BIC0Y\n",
      "[youtube] ULyV04BIC0Y: Downloading webpage\n",
      "[youtube] ULyV04BIC0Y: Downloading android player API JSON\n"
     ]
    },
    {
     "name": "stderr",
     "output_type": "stream",
     "text": [
      "WARNING: [youtube] ULyV04BIC0Y: nsig extraction failed: You may experience throttling for some formats\n",
      "         Install PhantomJS to workaround the issue. Please download it from https://phantomjs.org/download.html\n",
      "         n = zW0VRn_qIyaDcu ; player = https://www.youtube.com/s/player/97ea7458/player_ias.vflset/en_US/base.js\n"
     ]
    },
    {
     "name": "stdout",
     "output_type": "stream",
     "text": [
      "get random frame\n",
      "*321-322\n",
      "ULyV04BIC0Y\n",
      "yt-dlp -S res:720,ext:mp4,fps:24 -c --recode mp4 --download-sections *321-322 https://www.youtube.com/watch?v=ULyV04BIC0Y --output spamham_samples/ULyV04BIC0Y.mp4 --retries infinite --fragment-retries infinite && ffmpeg -i spamham_samples/ULyV04BIC0Y.mp4 -r 1 -vframes 1 -f image2 -q:v 1 spamham_samples/frames/ULyV04BIC0Y.%03d.jpeg -y && del spamham_samples\\ULyV04BIC0Y.mp4\n",
      "running donwload, extract, delete cmd...0\n",
      "add file to sources\n",
      "label frame\n",
      "|LRrTrLQ8n-c|\n",
      "get vid info\n",
      "[youtube] Extracting URL: https://www.youtube.com/watch?v=LRrTrLQ8n-c\n",
      "[youtube] LRrTrLQ8n-c: Downloading webpage\n",
      "[youtube] LRrTrLQ8n-c: Downloading android player API JSON\n"
     ]
    },
    {
     "name": "stderr",
     "output_type": "stream",
     "text": [
      "WARNING: [youtube] LRrTrLQ8n-c: nsig extraction failed: You may experience throttling for some formats\n",
      "         Install PhantomJS to workaround the issue. Please download it from https://phantomjs.org/download.html\n",
      "         n = 5YXm4--ucrJJxS ; player = https://www.youtube.com/s/player/97ea7458/player_ias.vflset/en_US/base.js\n"
     ]
    },
    {
     "name": "stdout",
     "output_type": "stream",
     "text": [
      "get random frame\n",
      "*1084-1085\n",
      "LRrTrLQ8n-c\n",
      "yt-dlp -S res:720,ext:mp4,fps:24 -c --recode mp4 --download-sections *1084-1085 https://www.youtube.com/watch?v=LRrTrLQ8n-c --output spamham_samples/LRrTrLQ8n-c.mp4 --retries infinite --fragment-retries infinite && ffmpeg -i spamham_samples/LRrTrLQ8n-c.mp4 -r 1 -vframes 1 -f image2 -q:v 1 spamham_samples/frames/LRrTrLQ8n-c.%03d.jpeg -y && del spamham_samples\\LRrTrLQ8n-c.mp4\n",
      "running donwload, extract, delete cmd...0\n",
      "add file to sources\n",
      "label frame\n",
      "|MWaQBipeDJQ|\n",
      "get vid info\n",
      "[youtube] Extracting URL: https://www.youtube.com/watch?v=MWaQBipeDJQ\n",
      "[youtube] MWaQBipeDJQ: Downloading webpage\n",
      "[youtube] MWaQBipeDJQ: Downloading android player API JSON\n"
     ]
    },
    {
     "name": "stderr",
     "output_type": "stream",
     "text": [
      "WARNING: [youtube] MWaQBipeDJQ: nsig extraction failed: You may experience throttling for some formats\n",
      "         Install PhantomJS to workaround the issue. Please download it from https://phantomjs.org/download.html\n",
      "         n = iuRJhutSCd6CQ0 ; player = https://www.youtube.com/s/player/97ea7458/player_ias.vflset/en_US/base.js\n"
     ]
    },
    {
     "name": "stdout",
     "output_type": "stream",
     "text": [
      "get random frame\n",
      "*1478-1479\n",
      "MWaQBipeDJQ\n",
      "yt-dlp -S res:720,ext:mp4,fps:24 -c --recode mp4 --download-sections *1478-1479 https://www.youtube.com/watch?v=MWaQBipeDJQ --output spamham_samples/MWaQBipeDJQ.mp4 --retries infinite --fragment-retries infinite && ffmpeg -i spamham_samples/MWaQBipeDJQ.mp4 -r 1 -vframes 1 -f image2 -q:v 1 spamham_samples/frames/MWaQBipeDJQ.%03d.jpeg -y && del spamham_samples\\MWaQBipeDJQ.mp4\n",
      "running donwload, extract, delete cmd...0\n",
      "add file to sources\n",
      "label frame\n",
      "|IxNKeeDTito|\n",
      "get vid info\n",
      "[youtube] Extracting URL: https://www.youtube.com/watch?v=IxNKeeDTito\n",
      "[youtube] IxNKeeDTito: Downloading webpage\n",
      "[youtube] IxNKeeDTito: Downloading android player API JSON\n"
     ]
    },
    {
     "name": "stderr",
     "output_type": "stream",
     "text": [
      "WARNING: [youtube] IxNKeeDTito: nsig extraction failed: You may experience throttling for some formats\n",
      "         Install PhantomJS to workaround the issue. Please download it from https://phantomjs.org/download.html\n",
      "         n = U84IwfyTbWVEHt ; player = https://www.youtube.com/s/player/97ea7458/player_ias.vflset/en_US/base.js\n"
     ]
    },
    {
     "name": "stdout",
     "output_type": "stream",
     "text": [
      "get random frame\n",
      "*1273-1274\n",
      "IxNKeeDTito\n",
      "yt-dlp -S res:720,ext:mp4,fps:24 -c --recode mp4 --download-sections *1273-1274 https://www.youtube.com/watch?v=IxNKeeDTito --output spamham_samples/IxNKeeDTito.mp4 --retries infinite --fragment-retries infinite && ffmpeg -i spamham_samples/IxNKeeDTito.mp4 -r 1 -vframes 1 -f image2 -q:v 1 spamham_samples/frames/IxNKeeDTito.%03d.jpeg -y && del spamham_samples\\IxNKeeDTito.mp4\n",
      "running donwload, extract, delete cmd...0\n",
      "add file to sources\n",
      "label frame\n",
      "|UE9dXQOy9FI|\n",
      "get vid info\n",
      "[youtube] Extracting URL: https://www.youtube.com/watch?v=UE9dXQOy9FI\n",
      "[youtube] UE9dXQOy9FI: Downloading webpage\n",
      "[youtube] UE9dXQOy9FI: Downloading android player API JSON\n"
     ]
    },
    {
     "name": "stderr",
     "output_type": "stream",
     "text": [
      "WARNING: [youtube] UE9dXQOy9FI: nsig extraction failed: You may experience throttling for some formats\n",
      "         Install PhantomJS to workaround the issue. Please download it from https://phantomjs.org/download.html\n",
      "         n = 1xRG0dG27dX1DC ; player = https://www.youtube.com/s/player/97ea7458/player_ias.vflset/en_US/base.js\n"
     ]
    },
    {
     "name": "stdout",
     "output_type": "stream",
     "text": [
      "get random frame\n",
      "*5595-5596\n",
      "UE9dXQOy9FI\n",
      "yt-dlp -S res:720,ext:mp4,fps:24 -c --recode mp4 --download-sections *5595-5596 https://www.youtube.com/watch?v=UE9dXQOy9FI --output spamham_samples/UE9dXQOy9FI.mp4 --retries infinite --fragment-retries infinite && ffmpeg -i spamham_samples/UE9dXQOy9FI.mp4 -r 1 -vframes 1 -f image2 -q:v 1 spamham_samples/frames/UE9dXQOy9FI.%03d.jpeg -y && del spamham_samples\\UE9dXQOy9FI.mp4\n",
      "running donwload, extract, delete cmd...0\n",
      "add file to sources\n",
      "label frame\n",
      "|T_5Ea8DxfT8|\n",
      "get vid info\n",
      "[youtube] Extracting URL: https://www.youtube.com/watch?v=T_5Ea8DxfT8\n",
      "[youtube] T_5Ea8DxfT8: Downloading webpage\n",
      "[youtube] T_5Ea8DxfT8: Downloading android player API JSON\n"
     ]
    },
    {
     "name": "stderr",
     "output_type": "stream",
     "text": [
      "WARNING: [youtube] T_5Ea8DxfT8: nsig extraction failed: You may experience throttling for some formats\n",
      "         Install PhantomJS to workaround the issue. Please download it from https://phantomjs.org/download.html\n",
      "         n = y9Gp_qtCjmPi_M ; player = https://www.youtube.com/s/player/97ea7458/player_ias.vflset/en_US/base.js\n"
     ]
    },
    {
     "name": "stdout",
     "output_type": "stream",
     "text": [
      "get random frame\n",
      "*1402-1403\n",
      "T_5Ea8DxfT8\n",
      "yt-dlp -S res:720,ext:mp4,fps:24 -c --recode mp4 --download-sections *1402-1403 https://www.youtube.com/watch?v=T_5Ea8DxfT8 --output spamham_samples/T_5Ea8DxfT8.mp4 --retries infinite --fragment-retries infinite && ffmpeg -i spamham_samples/T_5Ea8DxfT8.mp4 -r 1 -vframes 1 -f image2 -q:v 1 spamham_samples/frames/T_5Ea8DxfT8.%03d.jpeg -y && del spamham_samples\\T_5Ea8DxfT8.mp4\n",
      "running donwload, extract, delete cmd...0\n",
      "add file to sources\n",
      "label frame\n",
      "|qpXc9BIjg54|\n",
      "get vid info\n",
      "[youtube] Extracting URL: https://www.youtube.com/watch?v=qpXc9BIjg54\n",
      "[youtube] qpXc9BIjg54: Downloading webpage\n",
      "[youtube] qpXc9BIjg54: Downloading android player API JSON\n"
     ]
    },
    {
     "name": "stderr",
     "output_type": "stream",
     "text": [
      "WARNING: [youtube] qpXc9BIjg54: nsig extraction failed: You may experience throttling for some formats\n",
      "         Install PhantomJS to workaround the issue. Please download it from https://phantomjs.org/download.html\n",
      "         n = BS-tAqMkNmxxv8 ; player = https://www.youtube.com/s/player/97ea7458/player_ias.vflset/en_US/base.js\n"
     ]
    },
    {
     "name": "stdout",
     "output_type": "stream",
     "text": [
      "get random frame\n",
      "*476-477\n",
      "qpXc9BIjg54\n",
      "yt-dlp -S res:720,ext:mp4,fps:24 -c --recode mp4 --download-sections *476-477 https://www.youtube.com/watch?v=qpXc9BIjg54 --output spamham_samples/qpXc9BIjg54.mp4 --retries infinite --fragment-retries infinite && ffmpeg -i spamham_samples/qpXc9BIjg54.mp4 -r 1 -vframes 1 -f image2 -q:v 1 spamham_samples/frames/qpXc9BIjg54.%03d.jpeg -y && del spamham_samples\\qpXc9BIjg54.mp4\n",
      "running donwload, extract, delete cmd...0\n",
      "add file to sources\n",
      "label frame\n",
      "|N8laULSaZuE|\n",
      "get vid info\n",
      "[youtube] Extracting URL: https://www.youtube.com/watch?v=N8laULSaZuE\n",
      "[youtube] N8laULSaZuE: Downloading webpage\n",
      "[youtube] N8laULSaZuE: Downloading android player API JSON\n"
     ]
    },
    {
     "name": "stderr",
     "output_type": "stream",
     "text": [
      "WARNING: [youtube] N8laULSaZuE: nsig extraction failed: You may experience throttling for some formats\n",
      "         Install PhantomJS to workaround the issue. Please download it from https://phantomjs.org/download.html\n",
      "         n = dBgQNQO7dectl8 ; player = https://www.youtube.com/s/player/97ea7458/player_ias.vflset/en_US/base.js\n"
     ]
    },
    {
     "name": "stdout",
     "output_type": "stream",
     "text": [
      "get random frame\n",
      "*2176-2177\n",
      "N8laULSaZuE\n",
      "yt-dlp -S res:720,ext:mp4,fps:24 -c --recode mp4 --download-sections *2176-2177 https://www.youtube.com/watch?v=N8laULSaZuE --output spamham_samples/N8laULSaZuE.mp4 --retries infinite --fragment-retries infinite && ffmpeg -i spamham_samples/N8laULSaZuE.mp4 -r 1 -vframes 1 -f image2 -q:v 1 spamham_samples/frames/N8laULSaZuE.%03d.jpeg -y && del spamham_samples\\N8laULSaZuE.mp4\n",
      "running donwload, extract, delete cmd...0\n",
      "add file to sources\n",
      "label frame\n",
      "|Z2dWSvuN36Q|\n",
      "get vid info\n",
      "[youtube] Extracting URL: https://www.youtube.com/watch?v=Z2dWSvuN36Q\n",
      "[youtube] Z2dWSvuN36Q: Downloading webpage\n",
      "[youtube] Z2dWSvuN36Q: Downloading android player API JSON\n"
     ]
    },
    {
     "name": "stderr",
     "output_type": "stream",
     "text": [
      "WARNING: [youtube] Z2dWSvuN36Q: nsig extraction failed: You may experience throttling for some formats\n",
      "         Install PhantomJS to workaround the issue. Please download it from https://phantomjs.org/download.html\n",
      "         n = iS9wA-v3O_fSnm ; player = https://www.youtube.com/s/player/97ea7458/player_ias.vflset/en_US/base.js\n"
     ]
    },
    {
     "name": "stdout",
     "output_type": "stream",
     "text": [
      "get random frame\n",
      "*912-913\n",
      "Z2dWSvuN36Q\n",
      "yt-dlp -S res:720,ext:mp4,fps:24 -c --recode mp4 --download-sections *912-913 https://www.youtube.com/watch?v=Z2dWSvuN36Q --output spamham_samples/Z2dWSvuN36Q.mp4 --retries infinite --fragment-retries infinite && ffmpeg -i spamham_samples/Z2dWSvuN36Q.mp4 -r 1 -vframes 1 -f image2 -q:v 1 spamham_samples/frames/Z2dWSvuN36Q.%03d.jpeg -y && del spamham_samples\\Z2dWSvuN36Q.mp4\n",
      "running donwload, extract, delete cmd...0\n",
      "add file to sources\n",
      "label frame\n",
      "|kddS4dqstE8|\n",
      "get vid info\n",
      "[youtube] Extracting URL: https://www.youtube.com/watch?v=kddS4dqstE8\n",
      "[youtube] kddS4dqstE8: Downloading webpage\n",
      "[youtube] kddS4dqstE8: Downloading android player API JSON\n"
     ]
    },
    {
     "name": "stderr",
     "output_type": "stream",
     "text": [
      "WARNING: [youtube] kddS4dqstE8: nsig extraction failed: You may experience throttling for some formats\n",
      "         Install PhantomJS to workaround the issue. Please download it from https://phantomjs.org/download.html\n",
      "         n = xm0DN9M9lINB63 ; player = https://www.youtube.com/s/player/97ea7458/player_ias.vflset/en_US/base.js\n"
     ]
    },
    {
     "name": "stdout",
     "output_type": "stream",
     "text": [
      "get random frame\n",
      "*566-567\n",
      "kddS4dqstE8\n",
      "yt-dlp -S res:720,ext:mp4,fps:24 -c --recode mp4 --download-sections *566-567 https://www.youtube.com/watch?v=kddS4dqstE8 --output spamham_samples/kddS4dqstE8.mp4 --retries infinite --fragment-retries infinite && ffmpeg -i spamham_samples/kddS4dqstE8.mp4 -r 1 -vframes 1 -f image2 -q:v 1 spamham_samples/frames/kddS4dqstE8.%03d.jpeg -y && del spamham_samples\\kddS4dqstE8.mp4\n",
      "running donwload, extract, delete cmd...0\n",
      "add file to sources\n",
      "label frame\n",
      "|q4VV98z8_rM|\n",
      "get vid info\n",
      "[youtube] Extracting URL: https://www.youtube.com/watch?v=q4VV98z8_rM\n",
      "[youtube] q4VV98z8_rM: Downloading webpage\n",
      "[youtube] q4VV98z8_rM: Downloading android player API JSON\n"
     ]
    },
    {
     "name": "stderr",
     "output_type": "stream",
     "text": [
      "WARNING: [youtube] q4VV98z8_rM: nsig extraction failed: You may experience throttling for some formats\n",
      "         Install PhantomJS to workaround the issue. Please download it from https://phantomjs.org/download.html\n",
      "         n = YCj_E141Ov0YBp ; player = https://www.youtube.com/s/player/97ea7458/player_ias.vflset/en_US/base.js\n"
     ]
    },
    {
     "name": "stdout",
     "output_type": "stream",
     "text": [
      "get random frame\n",
      "*327-328\n",
      "q4VV98z8_rM\n",
      "yt-dlp -S res:720,ext:mp4,fps:24 -c --recode mp4 --download-sections *327-328 https://www.youtube.com/watch?v=q4VV98z8_rM --output spamham_samples/q4VV98z8_rM.mp4 --retries infinite --fragment-retries infinite && ffmpeg -i spamham_samples/q4VV98z8_rM.mp4 -r 1 -vframes 1 -f image2 -q:v 1 spamham_samples/frames/q4VV98z8_rM.%03d.jpeg -y && del spamham_samples\\q4VV98z8_rM.mp4\n",
      "running donwload, extract, delete cmd...0\n",
      "add file to sources\n",
      "label frame\n",
      "|-y9JJkRXWSw|\n",
      "get vid info\n",
      "[youtube] Extracting URL: https://www.youtube.com/watch?v=-y9JJkRXWSw\n",
      "[youtube] -y9JJkRXWSw: Downloading webpage\n",
      "[youtube] -y9JJkRXWSw: Downloading android player API JSON\n"
     ]
    },
    {
     "name": "stderr",
     "output_type": "stream",
     "text": [
      "WARNING: [youtube] -y9JJkRXWSw: nsig extraction failed: You may experience throttling for some formats\n",
      "         Install PhantomJS to workaround the issue. Please download it from https://phantomjs.org/download.html\n",
      "         n = Qc9Omm_IBsNgYf ; player = https://www.youtube.com/s/player/97ea7458/player_ias.vflset/en_US/base.js\n"
     ]
    },
    {
     "name": "stdout",
     "output_type": "stream",
     "text": [
      "get random frame\n",
      "*146-147\n",
      "-y9JJkRXWSw\n",
      "yt-dlp -S res:720,ext:mp4,fps:24 -c --recode mp4 --download-sections *146-147 https://www.youtube.com/watch?v=-y9JJkRXWSw --output spamham_samples/-y9JJkRXWSw.mp4 --retries infinite --fragment-retries infinite && ffmpeg -i spamham_samples/-y9JJkRXWSw.mp4 -r 1 -vframes 1 -f image2 -q:v 1 spamham_samples/frames/-y9JJkRXWSw.%03d.jpeg -y && del spamham_samples\\-y9JJkRXWSw.mp4\n",
      "running donwload, extract, delete cmd...0\n",
      "add file to sources\n",
      "label frame\n",
      "|GGR1XYkP2-Q|\n",
      "get vid info\n",
      "[youtube] Extracting URL: https://www.youtube.com/watch?v=GGR1XYkP2-Q\n",
      "[youtube] GGR1XYkP2-Q: Downloading webpage\n",
      "[youtube] GGR1XYkP2-Q: Downloading android player API JSON\n"
     ]
    },
    {
     "name": "stderr",
     "output_type": "stream",
     "text": [
      "WARNING: [youtube] GGR1XYkP2-Q: nsig extraction failed: You may experience throttling for some formats\n",
      "         Install PhantomJS to workaround the issue. Please download it from https://phantomjs.org/download.html\n",
      "         n = 9lnPc2w4QX79V- ; player = https://www.youtube.com/s/player/97ea7458/player_ias.vflset/en_US/base.js\n"
     ]
    },
    {
     "name": "stdout",
     "output_type": "stream",
     "text": [
      "get random frame\n",
      "*1045-1046\n",
      "GGR1XYkP2-Q\n",
      "yt-dlp -S res:720,ext:mp4,fps:24 -c --recode mp4 --download-sections *1045-1046 https://www.youtube.com/watch?v=GGR1XYkP2-Q --output spamham_samples/GGR1XYkP2-Q.mp4 --retries infinite --fragment-retries infinite && ffmpeg -i spamham_samples/GGR1XYkP2-Q.mp4 -r 1 -vframes 1 -f image2 -q:v 1 spamham_samples/frames/GGR1XYkP2-Q.%03d.jpeg -y && del spamham_samples\\GGR1XYkP2-Q.mp4\n",
      "running donwload, extract, delete cmd...0\n",
      "add file to sources\n",
      "label frame\n",
      "|riEW6Lmz8Ys|\n",
      "get vid info\n",
      "[youtube] Extracting URL: https://www.youtube.com/watch?v=riEW6Lmz8Ys\n",
      "[youtube] riEW6Lmz8Ys: Downloading webpage\n",
      "[youtube] riEW6Lmz8Ys: Downloading android player API JSON\n"
     ]
    },
    {
     "name": "stderr",
     "output_type": "stream",
     "text": [
      "WARNING: [youtube] riEW6Lmz8Ys: nsig extraction failed: You may experience throttling for some formats\n",
      "         Install PhantomJS to workaround the issue. Please download it from https://phantomjs.org/download.html\n",
      "         n = zkgCyk8wDi-TNu ; player = https://www.youtube.com/s/player/97ea7458/player_ias.vflset/en_US/base.js\n"
     ]
    },
    {
     "name": "stdout",
     "output_type": "stream",
     "text": [
      "get random frame\n",
      "*798-799\n",
      "riEW6Lmz8Ys\n",
      "yt-dlp -S res:720,ext:mp4,fps:24 -c --recode mp4 --download-sections *798-799 https://www.youtube.com/watch?v=riEW6Lmz8Ys --output spamham_samples/riEW6Lmz8Ys.mp4 --retries infinite --fragment-retries infinite && ffmpeg -i spamham_samples/riEW6Lmz8Ys.mp4 -r 1 -vframes 1 -f image2 -q:v 1 spamham_samples/frames/riEW6Lmz8Ys.%03d.jpeg -y && del spamham_samples\\riEW6Lmz8Ys.mp4\n",
      "running donwload, extract, delete cmd...0\n",
      "add file to sources\n",
      "label frame\n",
      "|QCHi-7F_Iww|\n",
      "get vid info\n",
      "[youtube] Extracting URL: https://www.youtube.com/watch?v=QCHi-7F_Iww\n",
      "[youtube] QCHi-7F_Iww: Downloading webpage\n",
      "[youtube] QCHi-7F_Iww: Downloading android player API JSON\n"
     ]
    },
    {
     "name": "stderr",
     "output_type": "stream",
     "text": [
      "WARNING: [youtube] QCHi-7F_Iww: nsig extraction failed: You may experience throttling for some formats\n",
      "         Install PhantomJS to workaround the issue. Please download it from https://phantomjs.org/download.html\n",
      "         n = AuAG5zK10WPAkE ; player = https://www.youtube.com/s/player/97ea7458/player_ias.vflset/en_US/base.js\n"
     ]
    },
    {
     "name": "stdout",
     "output_type": "stream",
     "text": [
      "get random frame\n",
      "*77-78\n",
      "QCHi-7F_Iww\n",
      "yt-dlp -S res:720,ext:mp4,fps:24 -c --recode mp4 --download-sections *77-78 https://www.youtube.com/watch?v=QCHi-7F_Iww --output spamham_samples/QCHi-7F_Iww.mp4 --retries infinite --fragment-retries infinite && ffmpeg -i spamham_samples/QCHi-7F_Iww.mp4 -r 1 -vframes 1 -f image2 -q:v 1 spamham_samples/frames/QCHi-7F_Iww.%03d.jpeg -y && del spamham_samples\\QCHi-7F_Iww.mp4\n",
      "running donwload, extract, delete cmd...0\n",
      "add file to sources\n",
      "label frame\n",
      "|TsNKhdv2bH0|\n",
      "get vid info\n",
      "[youtube] Extracting URL: https://www.youtube.com/watch?v=TsNKhdv2bH0\n",
      "[youtube] TsNKhdv2bH0: Downloading webpage\n",
      "[youtube] TsNKhdv2bH0: Downloading android player API JSON\n"
     ]
    },
    {
     "name": "stderr",
     "output_type": "stream",
     "text": [
      "WARNING: [youtube] TsNKhdv2bH0: nsig extraction failed: You may experience throttling for some formats\n",
      "         Install PhantomJS to workaround the issue. Please download it from https://phantomjs.org/download.html\n",
      "         n = KolUow7dzdEq4P ; player = https://www.youtube.com/s/player/97ea7458/player_ias.vflset/en_US/base.js\n"
     ]
    },
    {
     "name": "stdout",
     "output_type": "stream",
     "text": [
      "get random frame\n",
      "*628-629\n",
      "TsNKhdv2bH0\n",
      "yt-dlp -S res:720,ext:mp4,fps:24 -c --recode mp4 --download-sections *628-629 https://www.youtube.com/watch?v=TsNKhdv2bH0 --output spamham_samples/TsNKhdv2bH0.mp4 --retries infinite --fragment-retries infinite && ffmpeg -i spamham_samples/TsNKhdv2bH0.mp4 -r 1 -vframes 1 -f image2 -q:v 1 spamham_samples/frames/TsNKhdv2bH0.%03d.jpeg -y && del spamham_samples\\TsNKhdv2bH0.mp4\n",
      "running donwload, extract, delete cmd...0\n",
      "add file to sources\n",
      "label frame\n",
      "|18RyeGyCYo0|\n",
      "get vid info\n",
      "[youtube] Extracting URL: https://www.youtube.com/watch?v=18RyeGyCYo0\n",
      "[youtube] 18RyeGyCYo0: Downloading webpage\n",
      "[youtube] 18RyeGyCYo0: Downloading android player API JSON\n"
     ]
    },
    {
     "name": "stderr",
     "output_type": "stream",
     "text": [
      "WARNING: [youtube] 18RyeGyCYo0: nsig extraction failed: You may experience throttling for some formats\n",
      "         Install PhantomJS to workaround the issue. Please download it from https://phantomjs.org/download.html\n",
      "         n = o4JKq9sZHP14FU ; player = https://www.youtube.com/s/player/97ea7458/player_ias.vflset/en_US/base.js\n"
     ]
    },
    {
     "name": "stdout",
     "output_type": "stream",
     "text": [
      "get random frame\n",
      "*1537-1538\n",
      "18RyeGyCYo0\n",
      "yt-dlp -S res:720,ext:mp4,fps:24 -c --recode mp4 --download-sections *1537-1538 https://www.youtube.com/watch?v=18RyeGyCYo0 --output spamham_samples/18RyeGyCYo0.mp4 --retries infinite --fragment-retries infinite && ffmpeg -i spamham_samples/18RyeGyCYo0.mp4 -r 1 -vframes 1 -f image2 -q:v 1 spamham_samples/frames/18RyeGyCYo0.%03d.jpeg -y && del spamham_samples\\18RyeGyCYo0.mp4\n",
      "running donwload, extract, delete cmd...0\n",
      "add file to sources\n",
      "label frame\n",
      "|dajvhhK9bkI|\n",
      "get vid info\n",
      "[youtube] Extracting URL: https://www.youtube.com/watch?v=dajvhhK9bkI\n",
      "[youtube] dajvhhK9bkI: Downloading webpage\n",
      "[youtube] dajvhhK9bkI: Downloading android player API JSON\n"
     ]
    },
    {
     "name": "stderr",
     "output_type": "stream",
     "text": [
      "WARNING: [youtube] dajvhhK9bkI: nsig extraction failed: You may experience throttling for some formats\n",
      "         Install PhantomJS to workaround the issue. Please download it from https://phantomjs.org/download.html\n",
      "         n = tp_IdKH6Pobtq_ ; player = https://www.youtube.com/s/player/97ea7458/player_ias.vflset/en_US/base.js\n"
     ]
    },
    {
     "name": "stdout",
     "output_type": "stream",
     "text": [
      "get random frame\n",
      "*304-305\n",
      "dajvhhK9bkI\n",
      "yt-dlp -S res:720,ext:mp4,fps:24 -c --recode mp4 --download-sections *304-305 https://www.youtube.com/watch?v=dajvhhK9bkI --output spamham_samples/dajvhhK9bkI.mp4 --retries infinite --fragment-retries infinite && ffmpeg -i spamham_samples/dajvhhK9bkI.mp4 -r 1 -vframes 1 -f image2 -q:v 1 spamham_samples/frames/dajvhhK9bkI.%03d.jpeg -y && del spamham_samples\\dajvhhK9bkI.mp4\n",
      "running donwload, extract, delete cmd...0\n",
      "add file to sources\n",
      "label frame\n",
      "|ezIiaiToN3k|\n",
      "get vid info\n",
      "[youtube] Extracting URL: https://www.youtube.com/watch?v=ezIiaiToN3k\n",
      "[youtube] ezIiaiToN3k: Downloading webpage\n",
      "[youtube] ezIiaiToN3k: Downloading android player API JSON\n"
     ]
    },
    {
     "name": "stderr",
     "output_type": "stream",
     "text": [
      "WARNING: [youtube] ezIiaiToN3k: nsig extraction failed: You may experience throttling for some formats\n",
      "         Install PhantomJS to workaround the issue. Please download it from https://phantomjs.org/download.html\n",
      "         n = 9yX92IiTdzzNcT ; player = https://www.youtube.com/s/player/97ea7458/player_ias.vflset/en_US/base.js\n"
     ]
    },
    {
     "name": "stdout",
     "output_type": "stream",
     "text": [
      "get random frame\n",
      "*1548-1549\n",
      "ezIiaiToN3k\n",
      "yt-dlp -S res:720,ext:mp4,fps:24 -c --recode mp4 --download-sections *1548-1549 https://www.youtube.com/watch?v=ezIiaiToN3k --output spamham_samples/ezIiaiToN3k.mp4 --retries infinite --fragment-retries infinite && ffmpeg -i spamham_samples/ezIiaiToN3k.mp4 -r 1 -vframes 1 -f image2 -q:v 1 spamham_samples/frames/ezIiaiToN3k.%03d.jpeg -y && del spamham_samples\\ezIiaiToN3k.mp4\n",
      "running donwload, extract, delete cmd...0\n",
      "add file to sources\n",
      "label frame\n",
      "|CXuqun7lLgg|\n",
      "get vid info\n",
      "[youtube] Extracting URL: https://www.youtube.com/watch?v=CXuqun7lLgg\n",
      "[youtube] CXuqun7lLgg: Downloading webpage\n",
      "[youtube] CXuqun7lLgg: Downloading android player API JSON\n"
     ]
    },
    {
     "name": "stderr",
     "output_type": "stream",
     "text": [
      "WARNING: [youtube] CXuqun7lLgg: nsig extraction failed: You may experience throttling for some formats\n",
      "         Install PhantomJS to workaround the issue. Please download it from https://phantomjs.org/download.html\n",
      "         n = PRM-cYcw8Pk_kh ; player = https://www.youtube.com/s/player/97ea7458/player_ias.vflset/en_US/base.js\n"
     ]
    },
    {
     "name": "stdout",
     "output_type": "stream",
     "text": [
      "get random frame\n",
      "*1465-1466\n",
      "CXuqun7lLgg\n",
      "yt-dlp -S res:720,ext:mp4,fps:24 -c --recode mp4 --download-sections *1465-1466 https://www.youtube.com/watch?v=CXuqun7lLgg --output spamham_samples/CXuqun7lLgg.mp4 --retries infinite --fragment-retries infinite && ffmpeg -i spamham_samples/CXuqun7lLgg.mp4 -r 1 -vframes 1 -f image2 -q:v 1 spamham_samples/frames/CXuqun7lLgg.%03d.jpeg -y && del spamham_samples\\CXuqun7lLgg.mp4\n",
      "running donwload, extract, delete cmd...0\n",
      "add file to sources\n",
      "label frame\n",
      "|3kAqvm9Ccng|\n",
      "get vid info\n",
      "[youtube] Extracting URL: https://www.youtube.com/watch?v=3kAqvm9Ccng\n",
      "[youtube] 3kAqvm9Ccng: Downloading webpage\n",
      "[youtube] 3kAqvm9Ccng: Downloading android player API JSON\n"
     ]
    },
    {
     "name": "stderr",
     "output_type": "stream",
     "text": [
      "WARNING: [youtube] 3kAqvm9Ccng: nsig extraction failed: You may experience throttling for some formats\n",
      "         Install PhantomJS to workaround the issue. Please download it from https://phantomjs.org/download.html\n",
      "         n = kpasvOfWJue05y ; player = https://www.youtube.com/s/player/97ea7458/player_ias.vflset/en_US/base.js\n"
     ]
    },
    {
     "name": "stdout",
     "output_type": "stream",
     "text": [
      "get random frame\n",
      "*923-924\n",
      "3kAqvm9Ccng\n",
      "yt-dlp -S res:720,ext:mp4,fps:24 -c --recode mp4 --download-sections *923-924 https://www.youtube.com/watch?v=3kAqvm9Ccng --output spamham_samples/3kAqvm9Ccng.mp4 --retries infinite --fragment-retries infinite && ffmpeg -i spamham_samples/3kAqvm9Ccng.mp4 -r 1 -vframes 1 -f image2 -q:v 1 spamham_samples/frames/3kAqvm9Ccng.%03d.jpeg -y && del spamham_samples\\3kAqvm9Ccng.mp4\n",
      "running donwload, extract, delete cmd...0\n",
      "add file to sources\n",
      "label frame\n",
      "|Bn2KBFehVjM|\n",
      "get vid info\n",
      "[youtube] Extracting URL: https://www.youtube.com/watch?v=Bn2KBFehVjM\n",
      "[youtube] Bn2KBFehVjM: Downloading webpage\n",
      "[youtube] Bn2KBFehVjM: Downloading android player API JSON\n"
     ]
    },
    {
     "name": "stderr",
     "output_type": "stream",
     "text": [
      "WARNING: [youtube] Bn2KBFehVjM: nsig extraction failed: You may experience throttling for some formats\n",
      "         Install PhantomJS to workaround the issue. Please download it from https://phantomjs.org/download.html\n",
      "         n = Ajlm75nd7SZgC9 ; player = https://www.youtube.com/s/player/97ea7458/player_ias.vflset/en_US/base.js\n"
     ]
    },
    {
     "name": "stdout",
     "output_type": "stream",
     "text": [
      "get random frame\n",
      "*808-809\n",
      "Bn2KBFehVjM\n",
      "yt-dlp -S res:720,ext:mp4,fps:24 -c --recode mp4 --download-sections *808-809 https://www.youtube.com/watch?v=Bn2KBFehVjM --output spamham_samples/Bn2KBFehVjM.mp4 --retries infinite --fragment-retries infinite && ffmpeg -i spamham_samples/Bn2KBFehVjM.mp4 -r 1 -vframes 1 -f image2 -q:v 1 spamham_samples/frames/Bn2KBFehVjM.%03d.jpeg -y && del spamham_samples\\Bn2KBFehVjM.mp4\n",
      "running donwload, extract, delete cmd...0\n",
      "add file to sources\n",
      "label frame\n",
      "|3WmlmimfFT8|\n",
      "get vid info\n",
      "[youtube] Extracting URL: https://www.youtube.com/watch?v=3WmlmimfFT8\n",
      "[youtube] 3WmlmimfFT8: Downloading webpage\n",
      "[youtube] 3WmlmimfFT8: Downloading android player API JSON\n"
     ]
    },
    {
     "name": "stderr",
     "output_type": "stream",
     "text": [
      "WARNING: [youtube] 3WmlmimfFT8: nsig extraction failed: You may experience throttling for some formats\n",
      "         Install PhantomJS to workaround the issue. Please download it from https://phantomjs.org/download.html\n",
      "         n = 2m6EZtJSmRq2G3 ; player = https://www.youtube.com/s/player/97ea7458/player_ias.vflset/en_US/base.js\n"
     ]
    },
    {
     "name": "stdout",
     "output_type": "stream",
     "text": [
      "get random frame\n",
      "*679-680\n",
      "3WmlmimfFT8\n",
      "yt-dlp -S res:720,ext:mp4,fps:24 -c --recode mp4 --download-sections *679-680 https://www.youtube.com/watch?v=3WmlmimfFT8 --output spamham_samples/3WmlmimfFT8.mp4 --retries infinite --fragment-retries infinite && ffmpeg -i spamham_samples/3WmlmimfFT8.mp4 -r 1 -vframes 1 -f image2 -q:v 1 spamham_samples/frames/3WmlmimfFT8.%03d.jpeg -y && del spamham_samples\\3WmlmimfFT8.mp4\n",
      "running donwload, extract, delete cmd...0\n",
      "add file to sources\n",
      "label frame\n",
      "|8UxW3-cFT_c|\n",
      "get vid info\n",
      "[youtube] Extracting URL: https://www.youtube.com/watch?v=8UxW3-cFT_c\n",
      "[youtube] 8UxW3-cFT_c: Downloading webpage\n",
      "[youtube] 8UxW3-cFT_c: Downloading android player API JSON\n"
     ]
    },
    {
     "name": "stderr",
     "output_type": "stream",
     "text": [
      "WARNING: [youtube] 8UxW3-cFT_c: nsig extraction failed: You may experience throttling for some formats\n",
      "         Install PhantomJS to workaround the issue. Please download it from https://phantomjs.org/download.html\n",
      "         n = jZySDHxjWJAjcE ; player = https://www.youtube.com/s/player/97ea7458/player_ias.vflset/en_US/base.js\n"
     ]
    },
    {
     "name": "stdout",
     "output_type": "stream",
     "text": [
      "get random frame\n",
      "*590-591\n",
      "8UxW3-cFT_c\n",
      "yt-dlp -S res:720,ext:mp4,fps:24 -c --recode mp4 --download-sections *590-591 https://www.youtube.com/watch?v=8UxW3-cFT_c --output spamham_samples/8UxW3-cFT_c.mp4 --retries infinite --fragment-retries infinite && ffmpeg -i spamham_samples/8UxW3-cFT_c.mp4 -r 1 -vframes 1 -f image2 -q:v 1 spamham_samples/frames/8UxW3-cFT_c.%03d.jpeg -y && del spamham_samples\\8UxW3-cFT_c.mp4\n",
      "running donwload, extract, delete cmd...0\n",
      "add file to sources\n",
      "label frame\n",
      "|qz3mJ_iRQPM|\n",
      "get vid info\n",
      "[youtube] Extracting URL: https://www.youtube.com/watch?v=qz3mJ_iRQPM\n",
      "[youtube] qz3mJ_iRQPM: Downloading webpage\n",
      "[youtube] qz3mJ_iRQPM: Downloading android player API JSON\n"
     ]
    },
    {
     "name": "stderr",
     "output_type": "stream",
     "text": [
      "WARNING: [youtube] qz3mJ_iRQPM: nsig extraction failed: You may experience throttling for some formats\n",
      "         Install PhantomJS to workaround the issue. Please download it from https://phantomjs.org/download.html\n",
      "         n = nNeSnTWbclnnyo ; player = https://www.youtube.com/s/player/97ea7458/player_ias.vflset/en_US/base.js\n"
     ]
    },
    {
     "name": "stdout",
     "output_type": "stream",
     "text": [
      "get random frame\n",
      "*629-630\n",
      "qz3mJ_iRQPM\n",
      "yt-dlp -S res:720,ext:mp4,fps:24 -c --recode mp4 --download-sections *629-630 https://www.youtube.com/watch?v=qz3mJ_iRQPM --output spamham_samples/qz3mJ_iRQPM.mp4 --retries infinite --fragment-retries infinite && ffmpeg -i spamham_samples/qz3mJ_iRQPM.mp4 -r 1 -vframes 1 -f image2 -q:v 1 spamham_samples/frames/qz3mJ_iRQPM.%03d.jpeg -y && del spamham_samples\\qz3mJ_iRQPM.mp4\n",
      "running donwload, extract, delete cmd...0\n",
      "add file to sources\n",
      "label frame\n",
      "|vqCLkQY5s0g|\n",
      "get vid info\n",
      "[youtube] Extracting URL: https://www.youtube.com/watch?v=vqCLkQY5s0g\n",
      "[youtube] vqCLkQY5s0g: Downloading webpage\n",
      "[youtube] vqCLkQY5s0g: Downloading android player API JSON\n"
     ]
    },
    {
     "name": "stderr",
     "output_type": "stream",
     "text": [
      "WARNING: [youtube] vqCLkQY5s0g: nsig extraction failed: You may experience throttling for some formats\n",
      "         Install PhantomJS to workaround the issue. Please download it from https://phantomjs.org/download.html\n",
      "         n = q0f4OCsdSv86P1 ; player = https://www.youtube.com/s/player/97ea7458/player_ias.vflset/en_US/base.js\n"
     ]
    },
    {
     "name": "stdout",
     "output_type": "stream",
     "text": [
      "get random frame\n",
      "*970-971\n",
      "vqCLkQY5s0g\n",
      "yt-dlp -S res:720,ext:mp4,fps:24 -c --recode mp4 --download-sections *970-971 https://www.youtube.com/watch?v=vqCLkQY5s0g --output spamham_samples/vqCLkQY5s0g.mp4 --retries infinite --fragment-retries infinite && ffmpeg -i spamham_samples/vqCLkQY5s0g.mp4 -r 1 -vframes 1 -f image2 -q:v 1 spamham_samples/frames/vqCLkQY5s0g.%03d.jpeg -y && del spamham_samples\\vqCLkQY5s0g.mp4\n",
      "running donwload, extract, delete cmd...0\n",
      "add file to sources\n",
      "label frame\n",
      "|9fG82oHDV7o|\n",
      "get vid info\n",
      "[youtube] Extracting URL: https://www.youtube.com/watch?v=9fG82oHDV7o\n",
      "[youtube] 9fG82oHDV7o: Downloading webpage\n",
      "[youtube] 9fG82oHDV7o: Downloading android player API JSON\n"
     ]
    },
    {
     "name": "stderr",
     "output_type": "stream",
     "text": [
      "WARNING: [youtube] 9fG82oHDV7o: nsig extraction failed: You may experience throttling for some formats\n",
      "         Install PhantomJS to workaround the issue. Please download it from https://phantomjs.org/download.html\n",
      "         n = FmQsc80vavPFlx ; player = https://www.youtube.com/s/player/97ea7458/player_ias.vflset/en_US/base.js\n"
     ]
    },
    {
     "name": "stdout",
     "output_type": "stream",
     "text": [
      "get random frame\n",
      "*669-670\n",
      "9fG82oHDV7o\n",
      "yt-dlp -S res:720,ext:mp4,fps:24 -c --recode mp4 --download-sections *669-670 https://www.youtube.com/watch?v=9fG82oHDV7o --output spamham_samples/9fG82oHDV7o.mp4 --retries infinite --fragment-retries infinite && ffmpeg -i spamham_samples/9fG82oHDV7o.mp4 -r 1 -vframes 1 -f image2 -q:v 1 spamham_samples/frames/9fG82oHDV7o.%03d.jpeg -y && del spamham_samples\\9fG82oHDV7o.mp4\n",
      "running donwload, extract, delete cmd...0\n",
      "add file to sources\n",
      "label frame\n",
      "|i4oeAGHmNKU|\n",
      "get vid info\n",
      "[youtube] Extracting URL: https://www.youtube.com/watch?v=i4oeAGHmNKU\n",
      "[youtube] i4oeAGHmNKU: Downloading webpage\n",
      "[youtube] i4oeAGHmNKU: Downloading android player API JSON\n"
     ]
    },
    {
     "name": "stderr",
     "output_type": "stream",
     "text": [
      "WARNING: [youtube] i4oeAGHmNKU: nsig extraction failed: You may experience throttling for some formats\n",
      "         Install PhantomJS to workaround the issue. Please download it from https://phantomjs.org/download.html\n",
      "         n = VIieiT2AzM_FMr ; player = https://www.youtube.com/s/player/97ea7458/player_ias.vflset/en_US/base.js\n"
     ]
    },
    {
     "name": "stdout",
     "output_type": "stream",
     "text": [
      "get random frame\n",
      "*582-583\n",
      "i4oeAGHmNKU\n",
      "yt-dlp -S res:720,ext:mp4,fps:24 -c --recode mp4 --download-sections *582-583 https://www.youtube.com/watch?v=i4oeAGHmNKU --output spamham_samples/i4oeAGHmNKU.mp4 --retries infinite --fragment-retries infinite && ffmpeg -i spamham_samples/i4oeAGHmNKU.mp4 -r 1 -vframes 1 -f image2 -q:v 1 spamham_samples/frames/i4oeAGHmNKU.%03d.jpeg -y && del spamham_samples\\i4oeAGHmNKU.mp4\n",
      "running donwload, extract, delete cmd...0\n",
      "add file to sources\n",
      "label frame\n",
      "|2B3c-2J7-jM|\n",
      "get vid info\n",
      "[youtube] Extracting URL: https://www.youtube.com/watch?v=2B3c-2J7-jM\n",
      "[youtube] 2B3c-2J7-jM: Downloading webpage\n",
      "[youtube] 2B3c-2J7-jM: Downloading android player API JSON\n"
     ]
    },
    {
     "name": "stderr",
     "output_type": "stream",
     "text": [
      "WARNING: [youtube] 2B3c-2J7-jM: nsig extraction failed: You may experience throttling for some formats\n",
      "         Install PhantomJS to workaround the issue. Please download it from https://phantomjs.org/download.html\n",
      "         n = 5Cv43GkEhtIZwB ; player = https://www.youtube.com/s/player/97ea7458/player_ias.vflset/en_US/base.js\n"
     ]
    },
    {
     "name": "stdout",
     "output_type": "stream",
     "text": [
      "get random frame\n",
      "*204-205\n",
      "2B3c-2J7-jM\n",
      "yt-dlp -S res:720,ext:mp4,fps:24 -c --recode mp4 --download-sections *204-205 https://www.youtube.com/watch?v=2B3c-2J7-jM --output spamham_samples/2B3c-2J7-jM.mp4 --retries infinite --fragment-retries infinite && ffmpeg -i spamham_samples/2B3c-2J7-jM.mp4 -r 1 -vframes 1 -f image2 -q:v 1 spamham_samples/frames/2B3c-2J7-jM.%03d.jpeg -y && del spamham_samples\\2B3c-2J7-jM.mp4\n",
      "running donwload, extract, delete cmd...0\n",
      "add file to sources\n",
      "label frame\n",
      "|Mcvxst7hfx0|\n",
      "get vid info\n",
      "[youtube] Extracting URL: https://www.youtube.com/watch?v=Mcvxst7hfx0\n",
      "[youtube] Mcvxst7hfx0: Downloading webpage\n",
      "[youtube] Mcvxst7hfx0: Downloading android player API JSON\n"
     ]
    },
    {
     "name": "stderr",
     "output_type": "stream",
     "text": [
      "WARNING: [youtube] Mcvxst7hfx0: nsig extraction failed: You may experience throttling for some formats\n",
      "         Install PhantomJS to workaround the issue. Please download it from https://phantomjs.org/download.html\n",
      "         n = x5cQLTQTYInxCQ ; player = https://www.youtube.com/s/player/97ea7458/player_ias.vflset/en_US/base.js\n"
     ]
    },
    {
     "name": "stdout",
     "output_type": "stream",
     "text": [
      "get random frame\n",
      "*560-561\n",
      "Mcvxst7hfx0\n",
      "yt-dlp -S res:720,ext:mp4,fps:24 -c --recode mp4 --download-sections *560-561 https://www.youtube.com/watch?v=Mcvxst7hfx0 --output spamham_samples/Mcvxst7hfx0.mp4 --retries infinite --fragment-retries infinite && ffmpeg -i spamham_samples/Mcvxst7hfx0.mp4 -r 1 -vframes 1 -f image2 -q:v 1 spamham_samples/frames/Mcvxst7hfx0.%03d.jpeg -y && del spamham_samples\\Mcvxst7hfx0.mp4\n",
      "running donwload, extract, delete cmd...0\n",
      "add file to sources\n",
      "label frame\n",
      "|6_WwMk1rBBk|\n",
      "get vid info\n",
      "[youtube] Extracting URL: https://www.youtube.com/watch?v=6_WwMk1rBBk\n",
      "[youtube] 6_WwMk1rBBk: Downloading webpage\n",
      "[youtube] 6_WwMk1rBBk: Downloading android player API JSON\n"
     ]
    },
    {
     "name": "stderr",
     "output_type": "stream",
     "text": [
      "WARNING: [youtube] 6_WwMk1rBBk: nsig extraction failed: You may experience throttling for some formats\n",
      "         Install PhantomJS to workaround the issue. Please download it from https://phantomjs.org/download.html\n",
      "         n = KBkxz8i_AbTqMC ; player = https://www.youtube.com/s/player/97ea7458/player_ias.vflset/en_US/base.js\n"
     ]
    },
    {
     "name": "stdout",
     "output_type": "stream",
     "text": [
      "get random frame\n",
      "*99-100\n",
      "6_WwMk1rBBk\n",
      "yt-dlp -S res:720,ext:mp4,fps:24 -c --recode mp4 --download-sections *99-100 https://www.youtube.com/watch?v=6_WwMk1rBBk --output spamham_samples/6_WwMk1rBBk.mp4 --retries infinite --fragment-retries infinite && ffmpeg -i spamham_samples/6_WwMk1rBBk.mp4 -r 1 -vframes 1 -f image2 -q:v 1 spamham_samples/frames/6_WwMk1rBBk.%03d.jpeg -y && del spamham_samples\\6_WwMk1rBBk.mp4\n",
      "running donwload, extract, delete cmd...0\n",
      "add file to sources\n",
      "label frame\n",
      "|uHkW1q7jlzA|\n",
      "get vid info\n",
      "[youtube] Extracting URL: https://www.youtube.com/watch?v=uHkW1q7jlzA\n",
      "[youtube] uHkW1q7jlzA: Downloading webpage\n",
      "[youtube] uHkW1q7jlzA: Downloading android player API JSON\n"
     ]
    },
    {
     "name": "stderr",
     "output_type": "stream",
     "text": [
      "WARNING: [youtube] uHkW1q7jlzA: nsig extraction failed: You may experience throttling for some formats\n",
      "         Install PhantomJS to workaround the issue. Please download it from https://phantomjs.org/download.html\n",
      "         n = ZyEJo2pkWIF5lC ; player = https://www.youtube.com/s/player/97ea7458/player_ias.vflset/en_US/base.js\n"
     ]
    },
    {
     "name": "stdout",
     "output_type": "stream",
     "text": [
      "get random frame\n",
      "*1618-1619\n",
      "uHkW1q7jlzA\n",
      "yt-dlp -S res:720,ext:mp4,fps:24 -c --recode mp4 --download-sections *1618-1619 https://www.youtube.com/watch?v=uHkW1q7jlzA --output spamham_samples/uHkW1q7jlzA.mp4 --retries infinite --fragment-retries infinite && ffmpeg -i spamham_samples/uHkW1q7jlzA.mp4 -r 1 -vframes 1 -f image2 -q:v 1 spamham_samples/frames/uHkW1q7jlzA.%03d.jpeg -y && del spamham_samples\\uHkW1q7jlzA.mp4\n",
      "running donwload, extract, delete cmd...0\n",
      "add file to sources\n",
      "label frame\n",
      "|PGNMGoKpHaI|\n",
      "get vid info\n",
      "[youtube] Extracting URL: https://www.youtube.com/watch?v=PGNMGoKpHaI\n",
      "[youtube] PGNMGoKpHaI: Downloading webpage\n",
      "[youtube] PGNMGoKpHaI: Downloading android player API JSON\n"
     ]
    },
    {
     "name": "stderr",
     "output_type": "stream",
     "text": [
      "WARNING: [youtube] PGNMGoKpHaI: nsig extraction failed: You may experience throttling for some formats\n",
      "         Install PhantomJS to workaround the issue. Please download it from https://phantomjs.org/download.html\n",
      "         n = Xb2BPKe_zyz3ir ; player = https://www.youtube.com/s/player/97ea7458/player_ias.vflset/en_US/base.js\n"
     ]
    },
    {
     "name": "stdout",
     "output_type": "stream",
     "text": [
      "get random frame\n",
      "*969-970\n",
      "PGNMGoKpHaI\n",
      "yt-dlp -S res:720,ext:mp4,fps:24 -c --recode mp4 --download-sections *969-970 https://www.youtube.com/watch?v=PGNMGoKpHaI --output spamham_samples/PGNMGoKpHaI.mp4 --retries infinite --fragment-retries infinite && ffmpeg -i spamham_samples/PGNMGoKpHaI.mp4 -r 1 -vframes 1 -f image2 -q:v 1 spamham_samples/frames/PGNMGoKpHaI.%03d.jpeg -y && del spamham_samples\\PGNMGoKpHaI.mp4\n",
      "running donwload, extract, delete cmd...0\n",
      "add file to sources\n",
      "label frame\n",
      "|XbQ2ZNyV5b4|\n",
      "get vid info\n",
      "[youtube] Extracting URL: https://www.youtube.com/watch?v=XbQ2ZNyV5b4\n",
      "[youtube] XbQ2ZNyV5b4: Downloading webpage\n",
      "[youtube] XbQ2ZNyV5b4: Downloading android player API JSON\n"
     ]
    },
    {
     "name": "stderr",
     "output_type": "stream",
     "text": [
      "WARNING: [youtube] XbQ2ZNyV5b4: nsig extraction failed: You may experience throttling for some formats\n",
      "         Install PhantomJS to workaround the issue. Please download it from https://phantomjs.org/download.html\n",
      "         n = y0GBnVfamkxi8h ; player = https://www.youtube.com/s/player/97ea7458/player_ias.vflset/en_US/base.js\n"
     ]
    },
    {
     "name": "stdout",
     "output_type": "stream",
     "text": [
      "get random frame\n",
      "*419-420\n",
      "XbQ2ZNyV5b4\n",
      "yt-dlp -S res:720,ext:mp4,fps:24 -c --recode mp4 --download-sections *419-420 https://www.youtube.com/watch?v=XbQ2ZNyV5b4 --output spamham_samples/XbQ2ZNyV5b4.mp4 --retries infinite --fragment-retries infinite && ffmpeg -i spamham_samples/XbQ2ZNyV5b4.mp4 -r 1 -vframes 1 -f image2 -q:v 1 spamham_samples/frames/XbQ2ZNyV5b4.%03d.jpeg -y && del spamham_samples\\XbQ2ZNyV5b4.mp4\n",
      "running donwload, extract, delete cmd...0\n",
      "add file to sources\n",
      "label frame\n",
      "|ZvZm6UcusH4|\n",
      "get vid info\n",
      "[youtube] Extracting URL: https://www.youtube.com/watch?v=ZvZm6UcusH4\n",
      "[youtube] ZvZm6UcusH4: Downloading webpage\n",
      "[youtube] ZvZm6UcusH4: Downloading android player API JSON\n"
     ]
    },
    {
     "name": "stderr",
     "output_type": "stream",
     "text": [
      "WARNING: [youtube] ZvZm6UcusH4: nsig extraction failed: You may experience throttling for some formats\n",
      "         Install PhantomJS to workaround the issue. Please download it from https://phantomjs.org/download.html\n",
      "         n = pn-BSvDvWxYJKk ; player = https://www.youtube.com/s/player/97ea7458/player_ias.vflset/en_US/base.js\n"
     ]
    },
    {
     "name": "stdout",
     "output_type": "stream",
     "text": [
      "get random frame\n",
      "*704-705\n",
      "ZvZm6UcusH4\n",
      "yt-dlp -S res:720,ext:mp4,fps:24 -c --recode mp4 --download-sections *704-705 https://www.youtube.com/watch?v=ZvZm6UcusH4 --output spamham_samples/ZvZm6UcusH4.mp4 --retries infinite --fragment-retries infinite && ffmpeg -i spamham_samples/ZvZm6UcusH4.mp4 -r 1 -vframes 1 -f image2 -q:v 1 spamham_samples/frames/ZvZm6UcusH4.%03d.jpeg -y && del spamham_samples\\ZvZm6UcusH4.mp4\n",
      "running donwload, extract, delete cmd...0\n",
      "add file to sources\n",
      "label frame\n",
      "|kIrozO-tUV4|\n",
      "get vid info\n",
      "[youtube] Extracting URL: https://www.youtube.com/watch?v=kIrozO-tUV4\n",
      "[youtube] kIrozO-tUV4: Downloading webpage\n",
      "[youtube] kIrozO-tUV4: Downloading android player API JSON\n"
     ]
    },
    {
     "name": "stderr",
     "output_type": "stream",
     "text": [
      "WARNING: [youtube] kIrozO-tUV4: nsig extraction failed: You may experience throttling for some formats\n",
      "         Install PhantomJS to workaround the issue. Please download it from https://phantomjs.org/download.html\n",
      "         n = CisAW_p-bMaScW ; player = https://www.youtube.com/s/player/97ea7458/player_ias.vflset/en_US/base.js\n"
     ]
    },
    {
     "name": "stdout",
     "output_type": "stream",
     "text": [
      "get random frame\n",
      "*1933-1934\n",
      "kIrozO-tUV4\n",
      "yt-dlp -S res:720,ext:mp4,fps:24 -c --recode mp4 --download-sections *1933-1934 https://www.youtube.com/watch?v=kIrozO-tUV4 --output spamham_samples/kIrozO-tUV4.mp4 --retries infinite --fragment-retries infinite && ffmpeg -i spamham_samples/kIrozO-tUV4.mp4 -r 1 -vframes 1 -f image2 -q:v 1 spamham_samples/frames/kIrozO-tUV4.%03d.jpeg -y && del spamham_samples\\kIrozO-tUV4.mp4\n",
      "running donwload, extract, delete cmd...0\n",
      "add file to sources\n",
      "label frame\n",
      "|4-4QyhT8Uiw|\n",
      "get vid info\n",
      "[youtube] Extracting URL: https://www.youtube.com/watch?v=4-4QyhT8Uiw\n",
      "[youtube] 4-4QyhT8Uiw: Downloading webpage\n",
      "[youtube] 4-4QyhT8Uiw: Downloading android player API JSON\n"
     ]
    },
    {
     "name": "stderr",
     "output_type": "stream",
     "text": [
      "WARNING: [youtube] 4-4QyhT8Uiw: nsig extraction failed: You may experience throttling for some formats\n",
      "         Install PhantomJS to workaround the issue. Please download it from https://phantomjs.org/download.html\n",
      "         n = tt-ZSe3eMLedDK ; player = https://www.youtube.com/s/player/97ea7458/player_ias.vflset/en_US/base.js\n"
     ]
    },
    {
     "name": "stdout",
     "output_type": "stream",
     "text": [
      "get random frame\n",
      "*1088-1089\n",
      "4-4QyhT8Uiw\n",
      "yt-dlp -S res:720,ext:mp4,fps:24 -c --recode mp4 --download-sections *1088-1089 https://www.youtube.com/watch?v=4-4QyhT8Uiw --output spamham_samples/4-4QyhT8Uiw.mp4 --retries infinite --fragment-retries infinite && ffmpeg -i spamham_samples/4-4QyhT8Uiw.mp4 -r 1 -vframes 1 -f image2 -q:v 1 spamham_samples/frames/4-4QyhT8Uiw.%03d.jpeg -y && del spamham_samples\\4-4QyhT8Uiw.mp4\n",
      "running donwload, extract, delete cmd...0\n",
      "add file to sources\n",
      "label frame\n",
      "|pjhWZSKqtPY|\n",
      "get vid info\n",
      "[youtube] Extracting URL: https://www.youtube.com/watch?v=pjhWZSKqtPY\n",
      "[youtube] pjhWZSKqtPY: Downloading webpage\n",
      "[youtube] pjhWZSKqtPY: Downloading android player API JSON\n"
     ]
    },
    {
     "name": "stderr",
     "output_type": "stream",
     "text": [
      "WARNING: [youtube] pjhWZSKqtPY: nsig extraction failed: You may experience throttling for some formats\n",
      "         Install PhantomJS to workaround the issue. Please download it from https://phantomjs.org/download.html\n",
      "         n = JVHJwTVntqWpq5 ; player = https://www.youtube.com/s/player/97ea7458/player_ias.vflset/en_US/base.js\n"
     ]
    },
    {
     "name": "stdout",
     "output_type": "stream",
     "text": [
      "get random frame\n",
      "*1065-1066\n",
      "pjhWZSKqtPY\n",
      "yt-dlp -S res:720,ext:mp4,fps:24 -c --recode mp4 --download-sections *1065-1066 https://www.youtube.com/watch?v=pjhWZSKqtPY --output spamham_samples/pjhWZSKqtPY.mp4 --retries infinite --fragment-retries infinite && ffmpeg -i spamham_samples/pjhWZSKqtPY.mp4 -r 1 -vframes 1 -f image2 -q:v 1 spamham_samples/frames/pjhWZSKqtPY.%03d.jpeg -y && del spamham_samples\\pjhWZSKqtPY.mp4\n",
      "running donwload, extract, delete cmd...0\n",
      "add file to sources\n",
      "label frame\n",
      "|Rknni3a33HY|\n",
      "get vid info\n",
      "[youtube] Extracting URL: https://www.youtube.com/watch?v=Rknni3a33HY\n",
      "[youtube] Rknni3a33HY: Downloading webpage\n",
      "[youtube] Rknni3a33HY: Downloading android player API JSON\n"
     ]
    },
    {
     "name": "stderr",
     "output_type": "stream",
     "text": [
      "WARNING: [youtube] Rknni3a33HY: nsig extraction failed: You may experience throttling for some formats\n",
      "         Install PhantomJS to workaround the issue. Please download it from https://phantomjs.org/download.html\n",
      "         n = gLifCDG64AhAyP ; player = https://www.youtube.com/s/player/97ea7458/player_ias.vflset/en_US/base.js\n"
     ]
    },
    {
     "name": "stdout",
     "output_type": "stream",
     "text": [
      "get random frame\n",
      "*1851-1852\n",
      "Rknni3a33HY\n",
      "yt-dlp -S res:720,ext:mp4,fps:24 -c --recode mp4 --download-sections *1851-1852 https://www.youtube.com/watch?v=Rknni3a33HY --output spamham_samples/Rknni3a33HY.mp4 --retries infinite --fragment-retries infinite && ffmpeg -i spamham_samples/Rknni3a33HY.mp4 -r 1 -vframes 1 -f image2 -q:v 1 spamham_samples/frames/Rknni3a33HY.%03d.jpeg -y && del spamham_samples\\Rknni3a33HY.mp4\n",
      "running donwload, extract, delete cmd...0\n",
      "add file to sources\n",
      "label frame\n",
      "|lp4SDfkMy0g|\n",
      "get vid info\n",
      "[youtube] Extracting URL: https://www.youtube.com/watch?v=lp4SDfkMy0g\n",
      "[youtube] lp4SDfkMy0g: Downloading webpage\n",
      "[youtube] lp4SDfkMy0g: Downloading android player API JSON\n"
     ]
    },
    {
     "name": "stderr",
     "output_type": "stream",
     "text": [
      "WARNING: [youtube] lp4SDfkMy0g: nsig extraction failed: You may experience throttling for some formats\n",
      "         Install PhantomJS to workaround the issue. Please download it from https://phantomjs.org/download.html\n",
      "         n = Cz4DWoI9NMQSrz ; player = https://www.youtube.com/s/player/97ea7458/player_ias.vflset/en_US/base.js\n"
     ]
    },
    {
     "name": "stdout",
     "output_type": "stream",
     "text": [
      "get random frame\n",
      "*10-11\n",
      "lp4SDfkMy0g\n",
      "yt-dlp -S res:720,ext:mp4,fps:24 -c --recode mp4 --download-sections *10-11 https://www.youtube.com/watch?v=lp4SDfkMy0g --output spamham_samples/lp4SDfkMy0g.mp4 --retries infinite --fragment-retries infinite && ffmpeg -i spamham_samples/lp4SDfkMy0g.mp4 -r 1 -vframes 1 -f image2 -q:v 1 spamham_samples/frames/lp4SDfkMy0g.%03d.jpeg -y && del spamham_samples\\lp4SDfkMy0g.mp4\n",
      "running donwload, extract, delete cmd...0\n",
      "add file to sources\n",
      "label frame\n",
      "|F3uVtYTYfqc|\n",
      "get vid info\n",
      "[youtube] Extracting URL: https://www.youtube.com/watch?v=F3uVtYTYfqc\n",
      "[youtube] F3uVtYTYfqc: Downloading webpage\n",
      "[youtube] F3uVtYTYfqc: Downloading android player API JSON\n"
     ]
    },
    {
     "name": "stderr",
     "output_type": "stream",
     "text": [
      "WARNING: [youtube] F3uVtYTYfqc: nsig extraction failed: You may experience throttling for some formats\n",
      "         Install PhantomJS to workaround the issue. Please download it from https://phantomjs.org/download.html\n",
      "         n = HmhX3qRH4WFXd3 ; player = https://www.youtube.com/s/player/97ea7458/player_ias.vflset/en_US/base.js\n"
     ]
    },
    {
     "name": "stdout",
     "output_type": "stream",
     "text": [
      "get random frame\n",
      "*963-964\n",
      "F3uVtYTYfqc\n",
      "yt-dlp -S res:720,ext:mp4,fps:24 -c --recode mp4 --download-sections *963-964 https://www.youtube.com/watch?v=F3uVtYTYfqc --output spamham_samples/F3uVtYTYfqc.mp4 --retries infinite --fragment-retries infinite && ffmpeg -i spamham_samples/F3uVtYTYfqc.mp4 -r 1 -vframes 1 -f image2 -q:v 1 spamham_samples/frames/F3uVtYTYfqc.%03d.jpeg -y && del spamham_samples\\F3uVtYTYfqc.mp4\n",
      "running donwload, extract, delete cmd...0\n",
      "add file to sources\n",
      "label frame\n",
      "|JlUDIeQdXiw|\n",
      "get vid info\n",
      "[youtube] Extracting URL: https://www.youtube.com/watch?v=JlUDIeQdXiw\n",
      "[youtube] JlUDIeQdXiw: Downloading webpage\n",
      "[youtube] JlUDIeQdXiw: Downloading android player API JSON\n"
     ]
    },
    {
     "name": "stderr",
     "output_type": "stream",
     "text": [
      "WARNING: [youtube] JlUDIeQdXiw: nsig extraction failed: You may experience throttling for some formats\n",
      "         Install PhantomJS to workaround the issue. Please download it from https://phantomjs.org/download.html\n",
      "         n = qhNqXJvqSve6ZS ; player = https://www.youtube.com/s/player/97ea7458/player_ias.vflset/en_US/base.js\n"
     ]
    },
    {
     "name": "stdout",
     "output_type": "stream",
     "text": [
      "get random frame\n",
      "*1041-1042\n",
      "JlUDIeQdXiw\n",
      "yt-dlp -S res:720,ext:mp4,fps:24 -c --recode mp4 --download-sections *1041-1042 https://www.youtube.com/watch?v=JlUDIeQdXiw --output spamham_samples/JlUDIeQdXiw.mp4 --retries infinite --fragment-retries infinite && ffmpeg -i spamham_samples/JlUDIeQdXiw.mp4 -r 1 -vframes 1 -f image2 -q:v 1 spamham_samples/frames/JlUDIeQdXiw.%03d.jpeg -y && del spamham_samples\\JlUDIeQdXiw.mp4\n",
      "running donwload, extract, delete cmd...0\n",
      "add file to sources\n",
      "label frame\n",
      "|YToDUAsRUH0|\n",
      "get vid info\n",
      "[youtube] Extracting URL: https://www.youtube.com/watch?v=YToDUAsRUH0\n",
      "[youtube] YToDUAsRUH0: Downloading webpage\n",
      "[youtube] YToDUAsRUH0: Downloading android player API JSON\n"
     ]
    },
    {
     "name": "stderr",
     "output_type": "stream",
     "text": [
      "WARNING: [youtube] YToDUAsRUH0: nsig extraction failed: You may experience throttling for some formats\n",
      "         Install PhantomJS to workaround the issue. Please download it from https://phantomjs.org/download.html\n",
      "         n = nxaAUm3rkBx3uH ; player = https://www.youtube.com/s/player/97ea7458/player_ias.vflset/en_US/base.js\n"
     ]
    },
    {
     "name": "stdout",
     "output_type": "stream",
     "text": [
      "get random frame\n",
      "*1149-1150\n",
      "YToDUAsRUH0\n",
      "yt-dlp -S res:720,ext:mp4,fps:24 -c --recode mp4 --download-sections *1149-1150 https://www.youtube.com/watch?v=YToDUAsRUH0 --output spamham_samples/YToDUAsRUH0.mp4 --retries infinite --fragment-retries infinite && ffmpeg -i spamham_samples/YToDUAsRUH0.mp4 -r 1 -vframes 1 -f image2 -q:v 1 spamham_samples/frames/YToDUAsRUH0.%03d.jpeg -y && del spamham_samples\\YToDUAsRUH0.mp4\n",
      "running donwload, extract, delete cmd...0\n",
      "add file to sources\n",
      "label frame\n",
      "|fBiQlaWJPDg|\n",
      "get vid info\n",
      "[youtube] Extracting URL: https://www.youtube.com/watch?v=fBiQlaWJPDg\n",
      "[youtube] fBiQlaWJPDg: Downloading webpage\n",
      "[youtube] fBiQlaWJPDg: Downloading android player API JSON\n"
     ]
    },
    {
     "name": "stderr",
     "output_type": "stream",
     "text": [
      "WARNING: [youtube] fBiQlaWJPDg: nsig extraction failed: You may experience throttling for some formats\n",
      "         Install PhantomJS to workaround the issue. Please download it from https://phantomjs.org/download.html\n",
      "         n = EUwU1-n1GyWE1d ; player = https://www.youtube.com/s/player/97ea7458/player_ias.vflset/en_US/base.js\n"
     ]
    },
    {
     "name": "stdout",
     "output_type": "stream",
     "text": [
      "get random frame\n",
      "*319-320\n",
      "fBiQlaWJPDg\n",
      "yt-dlp -S res:720,ext:mp4,fps:24 -c --recode mp4 --download-sections *319-320 https://www.youtube.com/watch?v=fBiQlaWJPDg --output spamham_samples/fBiQlaWJPDg.mp4 --retries infinite --fragment-retries infinite && ffmpeg -i spamham_samples/fBiQlaWJPDg.mp4 -r 1 -vframes 1 -f image2 -q:v 1 spamham_samples/frames/fBiQlaWJPDg.%03d.jpeg -y && del spamham_samples\\fBiQlaWJPDg.mp4\n",
      "running donwload, extract, delete cmd...0\n",
      "add file to sources\n",
      "label frame\n",
      "|_EPYZ41TjM0|\n",
      "get vid info\n",
      "[youtube] Extracting URL: https://www.youtube.com/watch?v=_EPYZ41TjM0\n",
      "[youtube] _EPYZ41TjM0: Downloading webpage\n",
      "[youtube] _EPYZ41TjM0: Downloading android player API JSON\n"
     ]
    },
    {
     "name": "stderr",
     "output_type": "stream",
     "text": [
      "WARNING: [youtube] _EPYZ41TjM0: nsig extraction failed: You may experience throttling for some formats\n",
      "         Install PhantomJS to workaround the issue. Please download it from https://phantomjs.org/download.html\n",
      "         n = XhLfxuL1bRHXxh ; player = https://www.youtube.com/s/player/97ea7458/player_ias.vflset/en_US/base.js\n"
     ]
    },
    {
     "name": "stdout",
     "output_type": "stream",
     "text": [
      "get random frame\n",
      "*1967-1968\n",
      "_EPYZ41TjM0\n",
      "yt-dlp -S res:720,ext:mp4,fps:24 -c --recode mp4 --download-sections *1967-1968 https://www.youtube.com/watch?v=_EPYZ41TjM0 --output spamham_samples/_EPYZ41TjM0.mp4 --retries infinite --fragment-retries infinite && ffmpeg -i spamham_samples/_EPYZ41TjM0.mp4 -r 1 -vframes 1 -f image2 -q:v 1 spamham_samples/frames/_EPYZ41TjM0.%03d.jpeg -y && del spamham_samples\\_EPYZ41TjM0.mp4\n",
      "running donwload, extract, delete cmd...0\n",
      "add file to sources\n",
      "label frame\n",
      "|osfL1GFTKPQ|\n",
      "get vid info\n",
      "[youtube] Extracting URL: https://www.youtube.com/watch?v=osfL1GFTKPQ\n",
      "[youtube] osfL1GFTKPQ: Downloading webpage\n",
      "[youtube] osfL1GFTKPQ: Downloading android player API JSON\n"
     ]
    },
    {
     "name": "stderr",
     "output_type": "stream",
     "text": [
      "WARNING: [youtube] osfL1GFTKPQ: nsig extraction failed: You may experience throttling for some formats\n",
      "         Install PhantomJS to workaround the issue. Please download it from https://phantomjs.org/download.html\n",
      "         n = 1qE-nh3JVYJFT2 ; player = https://www.youtube.com/s/player/97ea7458/player_ias.vflset/en_US/base.js\n"
     ]
    },
    {
     "name": "stdout",
     "output_type": "stream",
     "text": [
      "get random frame\n",
      "*1575-1576\n",
      "osfL1GFTKPQ\n",
      "yt-dlp -S res:720,ext:mp4,fps:24 -c --recode mp4 --download-sections *1575-1576 https://www.youtube.com/watch?v=osfL1GFTKPQ --output spamham_samples/osfL1GFTKPQ.mp4 --retries infinite --fragment-retries infinite && ffmpeg -i spamham_samples/osfL1GFTKPQ.mp4 -r 1 -vframes 1 -f image2 -q:v 1 spamham_samples/frames/osfL1GFTKPQ.%03d.jpeg -y && del spamham_samples\\osfL1GFTKPQ.mp4\n",
      "running donwload, extract, delete cmd...0\n",
      "add file to sources\n",
      "label frame\n",
      "|duMzcEsMyts|\n",
      "get vid info\n",
      "[youtube] Extracting URL: https://www.youtube.com/watch?v=duMzcEsMyts\n",
      "[youtube] duMzcEsMyts: Downloading webpage\n",
      "[youtube] duMzcEsMyts: Downloading android player API JSON\n"
     ]
    },
    {
     "name": "stderr",
     "output_type": "stream",
     "text": [
      "WARNING: [youtube] duMzcEsMyts: nsig extraction failed: You may experience throttling for some formats\n",
      "         Install PhantomJS to workaround the issue. Please download it from https://phantomjs.org/download.html\n",
      "         n = 6icglwiF_R5aEU ; player = https://www.youtube.com/s/player/97ea7458/player_ias.vflset/en_US/base.js\n"
     ]
    },
    {
     "name": "stdout",
     "output_type": "stream",
     "text": [
      "get random frame\n",
      "*2029-2030\n",
      "duMzcEsMyts\n",
      "yt-dlp -S res:720,ext:mp4,fps:24 -c --recode mp4 --download-sections *2029-2030 https://www.youtube.com/watch?v=duMzcEsMyts --output spamham_samples/duMzcEsMyts.mp4 --retries infinite --fragment-retries infinite && ffmpeg -i spamham_samples/duMzcEsMyts.mp4 -r 1 -vframes 1 -f image2 -q:v 1 spamham_samples/frames/duMzcEsMyts.%03d.jpeg -y && del spamham_samples\\duMzcEsMyts.mp4\n",
      "running donwload, extract, delete cmd...1\n",
      "add file to sources\n",
      "label frame\n",
      "|y6kxXjw3I5s|\n",
      "get vid info\n",
      "[youtube] Extracting URL: https://www.youtube.com/watch?v=y6kxXjw3I5s\n",
      "[youtube] y6kxXjw3I5s: Downloading webpage\n",
      "[youtube] y6kxXjw3I5s: Downloading android player API JSON\n"
     ]
    },
    {
     "name": "stderr",
     "output_type": "stream",
     "text": [
      "WARNING: [youtube] y6kxXjw3I5s: nsig extraction failed: You may experience throttling for some formats\n",
      "         Install PhantomJS to workaround the issue. Please download it from https://phantomjs.org/download.html\n",
      "         n = jxA_jZ4U1UsD1R ; player = https://www.youtube.com/s/player/97ea7458/player_ias.vflset/en_US/base.js\n"
     ]
    },
    {
     "name": "stdout",
     "output_type": "stream",
     "text": [
      "get random frame\n",
      "*2428-2429\n",
      "y6kxXjw3I5s\n",
      "yt-dlp -S res:720,ext:mp4,fps:24 -c --recode mp4 --download-sections *2428-2429 https://www.youtube.com/watch?v=y6kxXjw3I5s --output spamham_samples/y6kxXjw3I5s.mp4 --retries infinite --fragment-retries infinite && ffmpeg -i spamham_samples/y6kxXjw3I5s.mp4 -r 1 -vframes 1 -f image2 -q:v 1 spamham_samples/frames/y6kxXjw3I5s.%03d.jpeg -y && del spamham_samples\\y6kxXjw3I5s.mp4\n",
      "running donwload, extract, delete cmd...0\n",
      "add file to sources\n",
      "label frame\n",
      "|9mKmtr3Nlek|\n",
      "get vid info\n",
      "[youtube] Extracting URL: https://www.youtube.com/watch?v=9mKmtr3Nlek\n",
      "[youtube] 9mKmtr3Nlek: Downloading webpage\n",
      "[youtube] 9mKmtr3Nlek: Downloading android player API JSON\n"
     ]
    },
    {
     "name": "stderr",
     "output_type": "stream",
     "text": [
      "WARNING: [youtube] 9mKmtr3Nlek: nsig extraction failed: You may experience throttling for some formats\n",
      "         Install PhantomJS to workaround the issue. Please download it from https://phantomjs.org/download.html\n",
      "         n = XO2hopQj7by3VJ ; player = https://www.youtube.com/s/player/97ea7458/player_ias.vflset/en_US/base.js\n"
     ]
    },
    {
     "name": "stdout",
     "output_type": "stream",
     "text": [
      "get random frame\n",
      "*1574-1575\n",
      "9mKmtr3Nlek\n",
      "yt-dlp -S res:720,ext:mp4,fps:24 -c --recode mp4 --download-sections *1574-1575 https://www.youtube.com/watch?v=9mKmtr3Nlek --output spamham_samples/9mKmtr3Nlek.mp4 --retries infinite --fragment-retries infinite && ffmpeg -i spamham_samples/9mKmtr3Nlek.mp4 -r 1 -vframes 1 -f image2 -q:v 1 spamham_samples/frames/9mKmtr3Nlek.%03d.jpeg -y && del spamham_samples\\9mKmtr3Nlek.mp4\n",
      "running donwload, extract, delete cmd...0\n",
      "add file to sources\n",
      "label frame\n",
      "|IjuD72fVYJI|\n",
      "get vid info\n",
      "[youtube] Extracting URL: https://www.youtube.com/watch?v=IjuD72fVYJI\n",
      "[youtube] IjuD72fVYJI: Downloading webpage\n",
      "[youtube] IjuD72fVYJI: Downloading android player API JSON\n"
     ]
    },
    {
     "name": "stderr",
     "output_type": "stream",
     "text": [
      "WARNING: [youtube] IjuD72fVYJI: nsig extraction failed: You may experience throttling for some formats\n",
      "         Install PhantomJS to workaround the issue. Please download it from https://phantomjs.org/download.html\n",
      "         n = M3EKJ7_7OQncLT ; player = https://www.youtube.com/s/player/97ea7458/player_ias.vflset/en_US/base.js\n"
     ]
    },
    {
     "name": "stdout",
     "output_type": "stream",
     "text": [
      "get random frame\n",
      "*42-43\n",
      "IjuD72fVYJI\n",
      "yt-dlp -S res:720,ext:mp4,fps:24 -c --recode mp4 --download-sections *42-43 https://www.youtube.com/watch?v=IjuD72fVYJI --output spamham_samples/IjuD72fVYJI.mp4 --retries infinite --fragment-retries infinite && ffmpeg -i spamham_samples/IjuD72fVYJI.mp4 -r 1 -vframes 1 -f image2 -q:v 1 spamham_samples/frames/IjuD72fVYJI.%03d.jpeg -y && del spamham_samples\\IjuD72fVYJI.mp4\n",
      "running donwload, extract, delete cmd...0\n",
      "add file to sources\n",
      "label frame\n",
      "|ATd0q-uzsKM|\n",
      "get vid info\n",
      "[youtube] Extracting URL: https://www.youtube.com/watch?v=ATd0q-uzsKM\n",
      "[youtube] ATd0q-uzsKM: Downloading webpage\n",
      "[youtube] ATd0q-uzsKM: Downloading android player API JSON\n"
     ]
    },
    {
     "name": "stderr",
     "output_type": "stream",
     "text": [
      "WARNING: [youtube] ATd0q-uzsKM: nsig extraction failed: You may experience throttling for some formats\n",
      "         Install PhantomJS to workaround the issue. Please download it from https://phantomjs.org/download.html\n",
      "         n = 7dFF66aIaSDbdb ; player = https://www.youtube.com/s/player/97ea7458/player_ias.vflset/en_US/base.js\n"
     ]
    },
    {
     "name": "stdout",
     "output_type": "stream",
     "text": [
      "get random frame\n",
      "*3493-3494\n",
      "ATd0q-uzsKM\n",
      "yt-dlp -S res:720,ext:mp4,fps:24 -c --recode mp4 --download-sections *3493-3494 https://www.youtube.com/watch?v=ATd0q-uzsKM --output spamham_samples/ATd0q-uzsKM.mp4 --retries infinite --fragment-retries infinite && ffmpeg -i spamham_samples/ATd0q-uzsKM.mp4 -r 1 -vframes 1 -f image2 -q:v 1 spamham_samples/frames/ATd0q-uzsKM.%03d.jpeg -y && del spamham_samples\\ATd0q-uzsKM.mp4\n",
      "running donwload, extract, delete cmd...0\n",
      "add file to sources\n",
      "label frame\n",
      "|YU4n9EtmMRk|\n",
      "get vid info\n",
      "[youtube] Extracting URL: https://www.youtube.com/watch?v=YU4n9EtmMRk\n",
      "[youtube] YU4n9EtmMRk: Downloading webpage\n",
      "[youtube] YU4n9EtmMRk: Downloading android player API JSON\n"
     ]
    },
    {
     "name": "stderr",
     "output_type": "stream",
     "text": [
      "WARNING: [youtube] YU4n9EtmMRk: nsig extraction failed: You may experience throttling for some formats\n",
      "         Install PhantomJS to workaround the issue. Please download it from https://phantomjs.org/download.html\n",
      "         n = IHjn8VsO0D4oLn ; player = https://www.youtube.com/s/player/97ea7458/player_ias.vflset/en_US/base.js\n"
     ]
    },
    {
     "name": "stdout",
     "output_type": "stream",
     "text": [
      "get random frame\n",
      "*7228-7229\n",
      "YU4n9EtmMRk\n",
      "yt-dlp -S res:720,ext:mp4,fps:24 -c --recode mp4 --download-sections *7228-7229 https://www.youtube.com/watch?v=YU4n9EtmMRk --output spamham_samples/YU4n9EtmMRk.mp4 --retries infinite --fragment-retries infinite && ffmpeg -i spamham_samples/YU4n9EtmMRk.mp4 -r 1 -vframes 1 -f image2 -q:v 1 spamham_samples/frames/YU4n9EtmMRk.%03d.jpeg -y && del spamham_samples\\YU4n9EtmMRk.mp4\n",
      "running donwload, extract, delete cmd...0\n",
      "add file to sources\n",
      "label frame\n",
      "|6PGEZ-JcIos|\n",
      "get vid info\n",
      "[youtube] Extracting URL: https://www.youtube.com/watch?v=6PGEZ-JcIos\n",
      "[youtube] 6PGEZ-JcIos: Downloading webpage\n",
      "[youtube] 6PGEZ-JcIos: Downloading android player API JSON\n"
     ]
    },
    {
     "name": "stderr",
     "output_type": "stream",
     "text": [
      "WARNING: [youtube] 6PGEZ-JcIos: nsig extraction failed: You may experience throttling for some formats\n",
      "         Install PhantomJS to workaround the issue. Please download it from https://phantomjs.org/download.html\n",
      "         n = i0kR0hzBa9GSaA ; player = https://www.youtube.com/s/player/97ea7458/player_ias.vflset/en_US/base.js\n"
     ]
    },
    {
     "name": "stdout",
     "output_type": "stream",
     "text": [
      "get random frame\n",
      "*509-510\n",
      "6PGEZ-JcIos\n",
      "yt-dlp -S res:720,ext:mp4,fps:24 -c --recode mp4 --download-sections *509-510 https://www.youtube.com/watch?v=6PGEZ-JcIos --output spamham_samples/6PGEZ-JcIos.mp4 --retries infinite --fragment-retries infinite && ffmpeg -i spamham_samples/6PGEZ-JcIos.mp4 -r 1 -vframes 1 -f image2 -q:v 1 spamham_samples/frames/6PGEZ-JcIos.%03d.jpeg -y && del spamham_samples\\6PGEZ-JcIos.mp4\n",
      "running donwload, extract, delete cmd...0\n",
      "add file to sources\n",
      "label frame\n",
      "|ipPuj-K5qFM|\n",
      "get vid info\n",
      "[youtube] Extracting URL: https://www.youtube.com/watch?v=ipPuj-K5qFM\n",
      "[youtube] ipPuj-K5qFM: Downloading webpage\n",
      "[youtube] ipPuj-K5qFM: Downloading android player API JSON\n"
     ]
    },
    {
     "name": "stderr",
     "output_type": "stream",
     "text": [
      "WARNING: [youtube] ipPuj-K5qFM: nsig extraction failed: You may experience throttling for some formats\n",
      "         Install PhantomJS to workaround the issue. Please download it from https://phantomjs.org/download.html\n",
      "         n = 2xHXi8wLccNGlO ; player = https://www.youtube.com/s/player/97ea7458/player_ias.vflset/en_US/base.js\n"
     ]
    },
    {
     "name": "stdout",
     "output_type": "stream",
     "text": [
      "get random frame\n",
      "*73-74\n",
      "ipPuj-K5qFM\n",
      "yt-dlp -S res:720,ext:mp4,fps:24 -c --recode mp4 --download-sections *73-74 https://www.youtube.com/watch?v=ipPuj-K5qFM --output spamham_samples/ipPuj-K5qFM.mp4 --retries infinite --fragment-retries infinite && ffmpeg -i spamham_samples/ipPuj-K5qFM.mp4 -r 1 -vframes 1 -f image2 -q:v 1 spamham_samples/frames/ipPuj-K5qFM.%03d.jpeg -y && del spamham_samples\\ipPuj-K5qFM.mp4\n",
      "running donwload, extract, delete cmd...0\n",
      "add file to sources\n",
      "label frame\n",
      "|lZKngvb7dAk|\n",
      "get vid info\n",
      "[youtube] Extracting URL: https://www.youtube.com/watch?v=lZKngvb7dAk\n",
      "[youtube] lZKngvb7dAk: Downloading webpage\n",
      "[youtube] lZKngvb7dAk: Downloading android player API JSON\n"
     ]
    },
    {
     "name": "stderr",
     "output_type": "stream",
     "text": [
      "WARNING: [youtube] lZKngvb7dAk: nsig extraction failed: You may experience throttling for some formats\n",
      "         Install PhantomJS to workaround the issue. Please download it from https://phantomjs.org/download.html\n",
      "         n = fDUdt10gCYMfu0 ; player = https://www.youtube.com/s/player/97ea7458/player_ias.vflset/en_US/base.js\n"
     ]
    },
    {
     "name": "stdout",
     "output_type": "stream",
     "text": [
      "get random frame\n",
      "*904-905\n",
      "lZKngvb7dAk\n",
      "yt-dlp -S res:720,ext:mp4,fps:24 -c --recode mp4 --download-sections *904-905 https://www.youtube.com/watch?v=lZKngvb7dAk --output spamham_samples/lZKngvb7dAk.mp4 --retries infinite --fragment-retries infinite && ffmpeg -i spamham_samples/lZKngvb7dAk.mp4 -r 1 -vframes 1 -f image2 -q:v 1 spamham_samples/frames/lZKngvb7dAk.%03d.jpeg -y && del spamham_samples\\lZKngvb7dAk.mp4\n",
      "running donwload, extract, delete cmd...0\n",
      "add file to sources\n",
      "label frame\n",
      "|p_sI1HAwLGk|\n",
      "get vid info\n",
      "[youtube] Extracting URL: https://www.youtube.com/watch?v=p_sI1HAwLGk\n",
      "[youtube] p_sI1HAwLGk: Downloading webpage\n",
      "[youtube] p_sI1HAwLGk: Downloading android player API JSON\n"
     ]
    },
    {
     "name": "stderr",
     "output_type": "stream",
     "text": [
      "WARNING: [youtube] p_sI1HAwLGk: nsig extraction failed: You may experience throttling for some formats\n",
      "         Install PhantomJS to workaround the issue. Please download it from https://phantomjs.org/download.html\n",
      "         n = sRI045GbFj3sbC ; player = https://www.youtube.com/s/player/97ea7458/player_ias.vflset/en_US/base.js\n"
     ]
    },
    {
     "name": "stdout",
     "output_type": "stream",
     "text": [
      "get random frame\n",
      "*1964-1965\n",
      "p_sI1HAwLGk\n",
      "yt-dlp -S res:720,ext:mp4,fps:24 -c --recode mp4 --download-sections *1964-1965 https://www.youtube.com/watch?v=p_sI1HAwLGk --output spamham_samples/p_sI1HAwLGk.mp4 --retries infinite --fragment-retries infinite && ffmpeg -i spamham_samples/p_sI1HAwLGk.mp4 -r 1 -vframes 1 -f image2 -q:v 1 spamham_samples/frames/p_sI1HAwLGk.%03d.jpeg -y && del spamham_samples\\p_sI1HAwLGk.mp4\n",
      "running donwload, extract, delete cmd...0\n",
      "add file to sources\n",
      "label frame\n",
      "|-y5N_PdHZLI|\n",
      "get vid info\n",
      "[youtube] Extracting URL: https://www.youtube.com/watch?v=-y5N_PdHZLI\n",
      "[youtube] -y5N_PdHZLI: Downloading webpage\n",
      "[youtube] -y5N_PdHZLI: Downloading android player API JSON\n"
     ]
    },
    {
     "name": "stderr",
     "output_type": "stream",
     "text": [
      "WARNING: [youtube] -y5N_PdHZLI: nsig extraction failed: You may experience throttling for some formats\n",
      "         Install PhantomJS to workaround the issue. Please download it from https://phantomjs.org/download.html\n",
      "         n = AUdAGyE2WazwYC ; player = https://www.youtube.com/s/player/97ea7458/player_ias.vflset/en_US/base.js\n"
     ]
    },
    {
     "name": "stdout",
     "output_type": "stream",
     "text": [
      "get random frame\n",
      "*1123-1124\n",
      "-y5N_PdHZLI\n",
      "yt-dlp -S res:720,ext:mp4,fps:24 -c --recode mp4 --download-sections *1123-1124 https://www.youtube.com/watch?v=-y5N_PdHZLI --output spamham_samples/-y5N_PdHZLI.mp4 --retries infinite --fragment-retries infinite && ffmpeg -i spamham_samples/-y5N_PdHZLI.mp4 -r 1 -vframes 1 -f image2 -q:v 1 spamham_samples/frames/-y5N_PdHZLI.%03d.jpeg -y && del spamham_samples\\-y5N_PdHZLI.mp4\n",
      "running donwload, extract, delete cmd...0\n",
      "add file to sources\n",
      "label frame\n",
      "|VuSNsI-DpQo|\n",
      "get vid info\n",
      "[youtube] Extracting URL: https://www.youtube.com/watch?v=VuSNsI-DpQo\n",
      "[youtube] VuSNsI-DpQo: Downloading webpage\n",
      "[youtube] VuSNsI-DpQo: Downloading android player API JSON\n"
     ]
    },
    {
     "name": "stderr",
     "output_type": "stream",
     "text": [
      "WARNING: [youtube] VuSNsI-DpQo: nsig extraction failed: You may experience throttling for some formats\n",
      "         Install PhantomJS to workaround the issue. Please download it from https://phantomjs.org/download.html\n",
      "         n = 9xPPLIUg9LD9ZX ; player = https://www.youtube.com/s/player/97ea7458/player_ias.vflset/en_US/base.js\n"
     ]
    },
    {
     "name": "stdout",
     "output_type": "stream",
     "text": [
      "get random frame\n",
      "*594-595\n",
      "VuSNsI-DpQo\n",
      "yt-dlp -S res:720,ext:mp4,fps:24 -c --recode mp4 --download-sections *594-595 https://www.youtube.com/watch?v=VuSNsI-DpQo --output spamham_samples/VuSNsI-DpQo.mp4 --retries infinite --fragment-retries infinite && ffmpeg -i spamham_samples/VuSNsI-DpQo.mp4 -r 1 -vframes 1 -f image2 -q:v 1 spamham_samples/frames/VuSNsI-DpQo.%03d.jpeg -y && del spamham_samples\\VuSNsI-DpQo.mp4\n",
      "running donwload, extract, delete cmd...0\n",
      "add file to sources\n",
      "label frame\n",
      "|s149q-QVHK0|\n",
      "get vid info\n",
      "[youtube] Extracting URL: https://www.youtube.com/watch?v=s149q-QVHK0\n",
      "[youtube] s149q-QVHK0: Downloading webpage\n",
      "[youtube] s149q-QVHK0: Downloading android player API JSON\n"
     ]
    },
    {
     "name": "stderr",
     "output_type": "stream",
     "text": [
      "WARNING: [youtube] s149q-QVHK0: nsig extraction failed: You may experience throttling for some formats\n",
      "         Install PhantomJS to workaround the issue. Please download it from https://phantomjs.org/download.html\n",
      "         n = ArY0NdKl3WJQFO ; player = https://www.youtube.com/s/player/97ea7458/player_ias.vflset/en_US/base.js\n"
     ]
    },
    {
     "name": "stdout",
     "output_type": "stream",
     "text": [
      "get random frame\n",
      "*324-325\n",
      "s149q-QVHK0\n",
      "yt-dlp -S res:720,ext:mp4,fps:24 -c --recode mp4 --download-sections *324-325 https://www.youtube.com/watch?v=s149q-QVHK0 --output spamham_samples/s149q-QVHK0.mp4 --retries infinite --fragment-retries infinite && ffmpeg -i spamham_samples/s149q-QVHK0.mp4 -r 1 -vframes 1 -f image2 -q:v 1 spamham_samples/frames/s149q-QVHK0.%03d.jpeg -y && del spamham_samples\\s149q-QVHK0.mp4\n",
      "running donwload, extract, delete cmd...0\n",
      "add file to sources\n",
      "label frame\n",
      "|19VJ0-QKDPQ|\n",
      "get vid info\n",
      "[youtube] Extracting URL: https://www.youtube.com/watch?v=19VJ0-QKDPQ\n",
      "[youtube] 19VJ0-QKDPQ: Downloading webpage\n",
      "[youtube] 19VJ0-QKDPQ: Downloading android player API JSON\n"
     ]
    },
    {
     "name": "stderr",
     "output_type": "stream",
     "text": [
      "WARNING: [youtube] 19VJ0-QKDPQ: nsig extraction failed: You may experience throttling for some formats\n",
      "         Install PhantomJS to workaround the issue. Please download it from https://phantomjs.org/download.html\n",
      "         n = i1EFBKVA_-pCEW ; player = https://www.youtube.com/s/player/97ea7458/player_ias.vflset/en_US/base.js\n"
     ]
    },
    {
     "name": "stdout",
     "output_type": "stream",
     "text": [
      "get random frame\n",
      "*1812-1813\n",
      "19VJ0-QKDPQ\n",
      "yt-dlp -S res:720,ext:mp4,fps:24 -c --recode mp4 --download-sections *1812-1813 https://www.youtube.com/watch?v=19VJ0-QKDPQ --output spamham_samples/19VJ0-QKDPQ.mp4 --retries infinite --fragment-retries infinite && ffmpeg -i spamham_samples/19VJ0-QKDPQ.mp4 -r 1 -vframes 1 -f image2 -q:v 1 spamham_samples/frames/19VJ0-QKDPQ.%03d.jpeg -y && del spamham_samples\\19VJ0-QKDPQ.mp4\n",
      "running donwload, extract, delete cmd...0\n",
      "add file to sources\n",
      "label frame\n",
      "|_XdEO4NlonM|\n",
      "get vid info\n",
      "[youtube] Extracting URL: https://www.youtube.com/watch?v=_XdEO4NlonM\n",
      "[youtube] _XdEO4NlonM: Downloading webpage\n",
      "[youtube] _XdEO4NlonM: Downloading android player API JSON\n"
     ]
    },
    {
     "name": "stderr",
     "output_type": "stream",
     "text": [
      "WARNING: [youtube] _XdEO4NlonM: nsig extraction failed: You may experience throttling for some formats\n",
      "         Install PhantomJS to workaround the issue. Please download it from https://phantomjs.org/download.html\n",
      "         n = UYrDParXdUy0nM ; player = https://www.youtube.com/s/player/97ea7458/player_ias.vflset/en_US/base.js\n"
     ]
    },
    {
     "name": "stdout",
     "output_type": "stream",
     "text": [
      "get random frame\n",
      "*1245-1246\n",
      "_XdEO4NlonM\n",
      "yt-dlp -S res:720,ext:mp4,fps:24 -c --recode mp4 --download-sections *1245-1246 https://www.youtube.com/watch?v=_XdEO4NlonM --output spamham_samples/_XdEO4NlonM.mp4 --retries infinite --fragment-retries infinite && ffmpeg -i spamham_samples/_XdEO4NlonM.mp4 -r 1 -vframes 1 -f image2 -q:v 1 spamham_samples/frames/_XdEO4NlonM.%03d.jpeg -y && del spamham_samples\\_XdEO4NlonM.mp4\n",
      "running donwload, extract, delete cmd...0\n",
      "add file to sources\n",
      "label frame\n",
      "|6X62P_vKMHM|\n",
      "get vid info\n",
      "[youtube] Extracting URL: https://www.youtube.com/watch?v=6X62P_vKMHM\n",
      "[youtube] 6X62P_vKMHM: Downloading webpage\n",
      "[youtube] 6X62P_vKMHM: Downloading android player API JSON\n"
     ]
    },
    {
     "name": "stderr",
     "output_type": "stream",
     "text": [
      "WARNING: [youtube] 6X62P_vKMHM: nsig extraction failed: You may experience throttling for some formats\n",
      "         Install PhantomJS to workaround the issue. Please download it from https://phantomjs.org/download.html\n",
      "         n = g6vKJ7Ku-GfgGy ; player = https://www.youtube.com/s/player/97ea7458/player_ias.vflset/en_US/base.js\n"
     ]
    },
    {
     "name": "stdout",
     "output_type": "stream",
     "text": [
      "get random frame\n",
      "*1151-1152\n",
      "6X62P_vKMHM\n",
      "yt-dlp -S res:720,ext:mp4,fps:24 -c --recode mp4 --download-sections *1151-1152 https://www.youtube.com/watch?v=6X62P_vKMHM --output spamham_samples/6X62P_vKMHM.mp4 --retries infinite --fragment-retries infinite && ffmpeg -i spamham_samples/6X62P_vKMHM.mp4 -r 1 -vframes 1 -f image2 -q:v 1 spamham_samples/frames/6X62P_vKMHM.%03d.jpeg -y && del spamham_samples\\6X62P_vKMHM.mp4\n",
      "running donwload, extract, delete cmd...0\n",
      "add file to sources\n",
      "label frame\n",
      "|DC8wvWlgjgA|\n",
      "get vid info\n",
      "[youtube] Extracting URL: https://www.youtube.com/watch?v=DC8wvWlgjgA\n",
      "[youtube] DC8wvWlgjgA: Downloading webpage\n",
      "[youtube] DC8wvWlgjgA: Downloading android player API JSON\n"
     ]
    },
    {
     "name": "stderr",
     "output_type": "stream",
     "text": [
      "WARNING: [youtube] DC8wvWlgjgA: nsig extraction failed: You may experience throttling for some formats\n",
      "         Install PhantomJS to workaround the issue. Please download it from https://phantomjs.org/download.html\n",
      "         n = K9jZLoEKyB5qOS ; player = https://www.youtube.com/s/player/97ea7458/player_ias.vflset/en_US/base.js\n"
     ]
    },
    {
     "name": "stdout",
     "output_type": "stream",
     "text": [
      "get random frame\n",
      "*701-702\n",
      "DC8wvWlgjgA\n",
      "yt-dlp -S res:720,ext:mp4,fps:24 -c --recode mp4 --download-sections *701-702 https://www.youtube.com/watch?v=DC8wvWlgjgA --output spamham_samples/DC8wvWlgjgA.mp4 --retries infinite --fragment-retries infinite && ffmpeg -i spamham_samples/DC8wvWlgjgA.mp4 -r 1 -vframes 1 -f image2 -q:v 1 spamham_samples/frames/DC8wvWlgjgA.%03d.jpeg -y && del spamham_samples\\DC8wvWlgjgA.mp4\n",
      "running donwload, extract, delete cmd...0\n",
      "add file to sources\n",
      "label frame\n",
      "|kpPtoXY7Tzs|\n",
      "get vid info\n",
      "[youtube] Extracting URL: https://www.youtube.com/watch?v=kpPtoXY7Tzs\n",
      "[youtube] kpPtoXY7Tzs: Downloading webpage\n",
      "[youtube] kpPtoXY7Tzs: Downloading android player API JSON\n"
     ]
    },
    {
     "name": "stderr",
     "output_type": "stream",
     "text": [
      "WARNING: [youtube] kpPtoXY7Tzs: nsig extraction failed: You may experience throttling for some formats\n",
      "         Install PhantomJS to workaround the issue. Please download it from https://phantomjs.org/download.html\n",
      "         n = -uNhhyMEwnFOMo ; player = https://www.youtube.com/s/player/97ea7458/player_ias.vflset/en_US/base.js\n"
     ]
    },
    {
     "name": "stdout",
     "output_type": "stream",
     "text": [
      "get random frame\n",
      "*1696-1697\n",
      "kpPtoXY7Tzs\n",
      "yt-dlp -S res:720,ext:mp4,fps:24 -c --recode mp4 --download-sections *1696-1697 https://www.youtube.com/watch?v=kpPtoXY7Tzs --output spamham_samples/kpPtoXY7Tzs.mp4 --retries infinite --fragment-retries infinite && ffmpeg -i spamham_samples/kpPtoXY7Tzs.mp4 -r 1 -vframes 1 -f image2 -q:v 1 spamham_samples/frames/kpPtoXY7Tzs.%03d.jpeg -y && del spamham_samples\\kpPtoXY7Tzs.mp4\n",
      "running donwload, extract, delete cmd...0\n",
      "add file to sources\n",
      "label frame\n",
      "|30ybOU11Klc|\n",
      "get vid info\n",
      "[youtube] Extracting URL: https://www.youtube.com/watch?v=30ybOU11Klc\n",
      "[youtube] 30ybOU11Klc: Downloading webpage\n",
      "[youtube] 30ybOU11Klc: Downloading android player API JSON\n"
     ]
    },
    {
     "name": "stderr",
     "output_type": "stream",
     "text": [
      "WARNING: [youtube] 30ybOU11Klc: nsig extraction failed: You may experience throttling for some formats\n",
      "         Install PhantomJS to workaround the issue. Please download it from https://phantomjs.org/download.html\n",
      "         n = qlVyyYZcbs5qNp ; player = https://www.youtube.com/s/player/97ea7458/player_ias.vflset/en_US/base.js\n"
     ]
    },
    {
     "name": "stdout",
     "output_type": "stream",
     "text": [
      "get random frame\n",
      "*1564-1565\n",
      "30ybOU11Klc\n",
      "yt-dlp -S res:720,ext:mp4,fps:24 -c --recode mp4 --download-sections *1564-1565 https://www.youtube.com/watch?v=30ybOU11Klc --output spamham_samples/30ybOU11Klc.mp4 --retries infinite --fragment-retries infinite && ffmpeg -i spamham_samples/30ybOU11Klc.mp4 -r 1 -vframes 1 -f image2 -q:v 1 spamham_samples/frames/30ybOU11Klc.%03d.jpeg -y && del spamham_samples\\30ybOU11Klc.mp4\n",
      "running donwload, extract, delete cmd...0\n",
      "add file to sources\n",
      "label frame\n",
      "|DFaFdO0xr38|\n",
      "get vid info\n",
      "[youtube] Extracting URL: https://www.youtube.com/watch?v=DFaFdO0xr38\n",
      "[youtube] DFaFdO0xr38: Downloading webpage\n",
      "[youtube] DFaFdO0xr38: Downloading android player API JSON\n"
     ]
    },
    {
     "name": "stderr",
     "output_type": "stream",
     "text": [
      "WARNING: [youtube] DFaFdO0xr38: nsig extraction failed: You may experience throttling for some formats\n",
      "         Install PhantomJS to workaround the issue. Please download it from https://phantomjs.org/download.html\n",
      "         n = 4R3L_WhWOJMo-d ; player = https://www.youtube.com/s/player/97ea7458/player_ias.vflset/en_US/base.js\n"
     ]
    },
    {
     "name": "stdout",
     "output_type": "stream",
     "text": [
      "get random frame\n",
      "*1052-1053\n",
      "DFaFdO0xr38\n",
      "yt-dlp -S res:720,ext:mp4,fps:24 -c --recode mp4 --download-sections *1052-1053 https://www.youtube.com/watch?v=DFaFdO0xr38 --output spamham_samples/DFaFdO0xr38.mp4 --retries infinite --fragment-retries infinite && ffmpeg -i spamham_samples/DFaFdO0xr38.mp4 -r 1 -vframes 1 -f image2 -q:v 1 spamham_samples/frames/DFaFdO0xr38.%03d.jpeg -y && del spamham_samples\\DFaFdO0xr38.mp4\n",
      "running donwload, extract, delete cmd...0\n",
      "add file to sources\n",
      "label frame\n",
      "|4w31iBJqp60|\n",
      "get vid info\n",
      "[youtube] Extracting URL: https://www.youtube.com/watch?v=4w31iBJqp60\n",
      "[youtube] 4w31iBJqp60: Downloading webpage\n",
      "[youtube] 4w31iBJqp60: Downloading android player API JSON\n"
     ]
    },
    {
     "name": "stderr",
     "output_type": "stream",
     "text": [
      "WARNING: [youtube] 4w31iBJqp60: nsig extraction failed: You may experience throttling for some formats\n",
      "         Install PhantomJS to workaround the issue. Please download it from https://phantomjs.org/download.html\n",
      "         n = hKvU791jg-Txtc ; player = https://www.youtube.com/s/player/97ea7458/player_ias.vflset/en_US/base.js\n"
     ]
    },
    {
     "name": "stdout",
     "output_type": "stream",
     "text": [
      "get random frame\n",
      "*348-349\n",
      "4w31iBJqp60\n",
      "yt-dlp -S res:720,ext:mp4,fps:24 -c --recode mp4 --download-sections *348-349 https://www.youtube.com/watch?v=4w31iBJqp60 --output spamham_samples/4w31iBJqp60.mp4 --retries infinite --fragment-retries infinite && ffmpeg -i spamham_samples/4w31iBJqp60.mp4 -r 1 -vframes 1 -f image2 -q:v 1 spamham_samples/frames/4w31iBJqp60.%03d.jpeg -y && del spamham_samples\\4w31iBJqp60.mp4\n",
      "running donwload, extract, delete cmd...0\n",
      "add file to sources\n",
      "label frame\n",
      "|clgoKt0WwRU|\n",
      "get vid info\n",
      "[youtube] Extracting URL: https://www.youtube.com/watch?v=clgoKt0WwRU\n",
      "[youtube] clgoKt0WwRU: Downloading webpage\n",
      "[youtube] clgoKt0WwRU: Downloading android player API JSON\n"
     ]
    },
    {
     "name": "stderr",
     "output_type": "stream",
     "text": [
      "WARNING: [youtube] clgoKt0WwRU: nsig extraction failed: You may experience throttling for some formats\n",
      "         Install PhantomJS to workaround the issue. Please download it from https://phantomjs.org/download.html\n",
      "         n = APxwDQPC2azwdp ; player = https://www.youtube.com/s/player/97ea7458/player_ias.vflset/en_US/base.js\n"
     ]
    },
    {
     "name": "stdout",
     "output_type": "stream",
     "text": [
      "get random frame\n",
      "*1804-1805\n",
      "clgoKt0WwRU\n",
      "yt-dlp -S res:720,ext:mp4,fps:24 -c --recode mp4 --download-sections *1804-1805 https://www.youtube.com/watch?v=clgoKt0WwRU --output spamham_samples/clgoKt0WwRU.mp4 --retries infinite --fragment-retries infinite && ffmpeg -i spamham_samples/clgoKt0WwRU.mp4 -r 1 -vframes 1 -f image2 -q:v 1 spamham_samples/frames/clgoKt0WwRU.%03d.jpeg -y && del spamham_samples\\clgoKt0WwRU.mp4\n",
      "running donwload, extract, delete cmd...0\n",
      "add file to sources\n",
      "label frame\n",
      "|ZIE7h1F7TRw|\n",
      "get vid info\n",
      "[youtube] Extracting URL: https://www.youtube.com/watch?v=ZIE7h1F7TRw\n",
      "[youtube] ZIE7h1F7TRw: Downloading webpage\n",
      "[youtube] ZIE7h1F7TRw: Downloading android player API JSON\n"
     ]
    },
    {
     "name": "stderr",
     "output_type": "stream",
     "text": [
      "WARNING: [youtube] ZIE7h1F7TRw: nsig extraction failed: You may experience throttling for some formats\n",
      "         Install PhantomJS to workaround the issue. Please download it from https://phantomjs.org/download.html\n",
      "         n = o3MdCDzUbSKY3o ; player = https://www.youtube.com/s/player/97ea7458/player_ias.vflset/en_US/base.js\n"
     ]
    },
    {
     "name": "stdout",
     "output_type": "stream",
     "text": [
      "get random frame\n",
      "*982-983\n",
      "ZIE7h1F7TRw\n",
      "yt-dlp -S res:720,ext:mp4,fps:24 -c --recode mp4 --download-sections *982-983 https://www.youtube.com/watch?v=ZIE7h1F7TRw --output spamham_samples/ZIE7h1F7TRw.mp4 --retries infinite --fragment-retries infinite && ffmpeg -i spamham_samples/ZIE7h1F7TRw.mp4 -r 1 -vframes 1 -f image2 -q:v 1 spamham_samples/frames/ZIE7h1F7TRw.%03d.jpeg -y && del spamham_samples\\ZIE7h1F7TRw.mp4\n",
      "running donwload, extract, delete cmd...0\n",
      "add file to sources\n",
      "label frame\n",
      "|nwpJa5rDpCg|\n",
      "get vid info\n",
      "[youtube] Extracting URL: https://www.youtube.com/watch?v=nwpJa5rDpCg\n",
      "[youtube] nwpJa5rDpCg: Downloading webpage\n",
      "[youtube] nwpJa5rDpCg: Downloading android player API JSON\n"
     ]
    },
    {
     "name": "stderr",
     "output_type": "stream",
     "text": [
      "WARNING: [youtube] nwpJa5rDpCg: nsig extraction failed: You may experience throttling for some formats\n",
      "         Install PhantomJS to workaround the issue. Please download it from https://phantomjs.org/download.html\n",
      "         n = aWJqbH88lSlqbs ; player = https://www.youtube.com/s/player/97ea7458/player_ias.vflset/en_US/base.js\n"
     ]
    },
    {
     "name": "stdout",
     "output_type": "stream",
     "text": [
      "get random frame\n",
      "*604-605\n",
      "nwpJa5rDpCg\n",
      "yt-dlp -S res:720,ext:mp4,fps:24 -c --recode mp4 --download-sections *604-605 https://www.youtube.com/watch?v=nwpJa5rDpCg --output spamham_samples/nwpJa5rDpCg.mp4 --retries infinite --fragment-retries infinite && ffmpeg -i spamham_samples/nwpJa5rDpCg.mp4 -r 1 -vframes 1 -f image2 -q:v 1 spamham_samples/frames/nwpJa5rDpCg.%03d.jpeg -y && del spamham_samples\\nwpJa5rDpCg.mp4\n",
      "running donwload, extract, delete cmd...0\n",
      "add file to sources\n",
      "label frame\n",
      "|yonlBNsn42M|\n",
      "get vid info\n",
      "[youtube] Extracting URL: https://www.youtube.com/watch?v=yonlBNsn42M\n",
      "[youtube] yonlBNsn42M: Downloading webpage\n",
      "[youtube] yonlBNsn42M: Downloading android player API JSON\n"
     ]
    },
    {
     "name": "stderr",
     "output_type": "stream",
     "text": [
      "WARNING: [youtube] yonlBNsn42M: nsig extraction failed: You may experience throttling for some formats\n",
      "         Install PhantomJS to workaround the issue. Please download it from https://phantomjs.org/download.html\n",
      "         n = vnRYWFTzN27_HW ; player = https://www.youtube.com/s/player/97ea7458/player_ias.vflset/en_US/base.js\n"
     ]
    },
    {
     "name": "stdout",
     "output_type": "stream",
     "text": [
      "get random frame\n",
      "*2916-2917\n",
      "yonlBNsn42M\n",
      "yt-dlp -S res:720,ext:mp4,fps:24 -c --recode mp4 --download-sections *2916-2917 https://www.youtube.com/watch?v=yonlBNsn42M --output spamham_samples/yonlBNsn42M.mp4 --retries infinite --fragment-retries infinite && ffmpeg -i spamham_samples/yonlBNsn42M.mp4 -r 1 -vframes 1 -f image2 -q:v 1 spamham_samples/frames/yonlBNsn42M.%03d.jpeg -y && del spamham_samples\\yonlBNsn42M.mp4\n",
      "running donwload, extract, delete cmd...0\n",
      "add file to sources\n",
      "label frame\n",
      "|_it0gCRMPE8|\n",
      "get vid info\n",
      "[youtube] Extracting URL: https://www.youtube.com/watch?v=_it0gCRMPE8\n",
      "[youtube] _it0gCRMPE8: Downloading webpage\n",
      "[youtube] _it0gCRMPE8: Downloading android player API JSON\n"
     ]
    },
    {
     "name": "stderr",
     "output_type": "stream",
     "text": [
      "WARNING: [youtube] _it0gCRMPE8: nsig extraction failed: You may experience throttling for some formats\n",
      "         Install PhantomJS to workaround the issue. Please download it from https://phantomjs.org/download.html\n",
      "         n = izQak9pwjbxSBy ; player = https://www.youtube.com/s/player/97ea7458/player_ias.vflset/en_US/base.js\n"
     ]
    },
    {
     "name": "stdout",
     "output_type": "stream",
     "text": [
      "get random frame\n",
      "*384-385\n",
      "_it0gCRMPE8\n",
      "yt-dlp -S res:720,ext:mp4,fps:24 -c --recode mp4 --download-sections *384-385 https://www.youtube.com/watch?v=_it0gCRMPE8 --output spamham_samples/_it0gCRMPE8.mp4 --retries infinite --fragment-retries infinite && ffmpeg -i spamham_samples/_it0gCRMPE8.mp4 -r 1 -vframes 1 -f image2 -q:v 1 spamham_samples/frames/_it0gCRMPE8.%03d.jpeg -y && del spamham_samples\\_it0gCRMPE8.mp4\n",
      "running donwload, extract, delete cmd...0\n",
      "add file to sources\n",
      "label frame\n",
      "|2Te0QmxSNtY|\n",
      "get vid info\n",
      "[youtube] Extracting URL: https://www.youtube.com/watch?v=2Te0QmxSNtY\n",
      "[youtube] 2Te0QmxSNtY: Downloading webpage\n",
      "[youtube] 2Te0QmxSNtY: Downloading android player API JSON\n"
     ]
    },
    {
     "name": "stderr",
     "output_type": "stream",
     "text": [
      "WARNING: [youtube] 2Te0QmxSNtY: nsig extraction failed: You may experience throttling for some formats\n",
      "         Install PhantomJS to workaround the issue. Please download it from https://phantomjs.org/download.html\n",
      "         n = IRK6lum1_H0Ijp ; player = https://www.youtube.com/s/player/97ea7458/player_ias.vflset/en_US/base.js\n"
     ]
    },
    {
     "name": "stdout",
     "output_type": "stream",
     "text": [
      "get random frame\n",
      "*1319-1320\n",
      "2Te0QmxSNtY\n",
      "yt-dlp -S res:720,ext:mp4,fps:24 -c --recode mp4 --download-sections *1319-1320 https://www.youtube.com/watch?v=2Te0QmxSNtY --output spamham_samples/2Te0QmxSNtY.mp4 --retries infinite --fragment-retries infinite && ffmpeg -i spamham_samples/2Te0QmxSNtY.mp4 -r 1 -vframes 1 -f image2 -q:v 1 spamham_samples/frames/2Te0QmxSNtY.%03d.jpeg -y && del spamham_samples\\2Te0QmxSNtY.mp4\n",
      "running donwload, extract, delete cmd...0\n",
      "add file to sources\n",
      "label frame\n",
      "|vjaE0w0HXeU|\n",
      "get vid info\n",
      "[youtube] Extracting URL: https://www.youtube.com/watch?v=vjaE0w0HXeU\n",
      "[youtube] vjaE0w0HXeU: Downloading webpage\n",
      "[youtube] vjaE0w0HXeU: Downloading android player API JSON\n"
     ]
    },
    {
     "name": "stderr",
     "output_type": "stream",
     "text": [
      "WARNING: [youtube] vjaE0w0HXeU: nsig extraction failed: You may experience throttling for some formats\n",
      "         Install PhantomJS to workaround the issue. Please download it from https://phantomjs.org/download.html\n",
      "         n = GQ2PDP7S6e0mi_ ; player = https://www.youtube.com/s/player/97ea7458/player_ias.vflset/en_US/base.js\n"
     ]
    },
    {
     "name": "stdout",
     "output_type": "stream",
     "text": [
      "get random frame\n",
      "*966-967\n",
      "vjaE0w0HXeU\n",
      "yt-dlp -S res:720,ext:mp4,fps:24 -c --recode mp4 --download-sections *966-967 https://www.youtube.com/watch?v=vjaE0w0HXeU --output spamham_samples/vjaE0w0HXeU.mp4 --retries infinite --fragment-retries infinite && ffmpeg -i spamham_samples/vjaE0w0HXeU.mp4 -r 1 -vframes 1 -f image2 -q:v 1 spamham_samples/frames/vjaE0w0HXeU.%03d.jpeg -y && del spamham_samples\\vjaE0w0HXeU.mp4\n",
      "running donwload, extract, delete cmd...0\n",
      "add file to sources\n",
      "label frame\n",
      "|pGPrstRmtBQ|\n",
      "get vid info\n",
      "[youtube] Extracting URL: https://www.youtube.com/watch?v=pGPrstRmtBQ\n",
      "[youtube] pGPrstRmtBQ: Downloading webpage\n",
      "[youtube] pGPrstRmtBQ: Downloading android player API JSON\n"
     ]
    },
    {
     "name": "stderr",
     "output_type": "stream",
     "text": [
      "WARNING: [youtube] pGPrstRmtBQ: nsig extraction failed: You may experience throttling for some formats\n",
      "         Install PhantomJS to workaround the issue. Please download it from https://phantomjs.org/download.html\n",
      "         n = JKELV7Ta5VppBn ; player = https://www.youtube.com/s/player/97ea7458/player_ias.vflset/en_US/base.js\n"
     ]
    },
    {
     "name": "stdout",
     "output_type": "stream",
     "text": [
      "get random frame\n",
      "*1960-1961\n",
      "pGPrstRmtBQ\n",
      "yt-dlp -S res:720,ext:mp4,fps:24 -c --recode mp4 --download-sections *1960-1961 https://www.youtube.com/watch?v=pGPrstRmtBQ --output spamham_samples/pGPrstRmtBQ.mp4 --retries infinite --fragment-retries infinite && ffmpeg -i spamham_samples/pGPrstRmtBQ.mp4 -r 1 -vframes 1 -f image2 -q:v 1 spamham_samples/frames/pGPrstRmtBQ.%03d.jpeg -y && del spamham_samples\\pGPrstRmtBQ.mp4\n",
      "running donwload, extract, delete cmd...0\n",
      "add file to sources\n",
      "label frame\n",
      "|DGJRd16_HJE|\n",
      "get vid info\n",
      "[youtube] Extracting URL: https://www.youtube.com/watch?v=DGJRd16_HJE\n",
      "[youtube] DGJRd16_HJE: Downloading webpage\n",
      "[youtube] DGJRd16_HJE: Downloading android player API JSON\n"
     ]
    },
    {
     "name": "stderr",
     "output_type": "stream",
     "text": [
      "WARNING: [youtube] DGJRd16_HJE: nsig extraction failed: You may experience throttling for some formats\n",
      "         Install PhantomJS to workaround the issue. Please download it from https://phantomjs.org/download.html\n",
      "         n = hVL7AjY3n2MB-Y ; player = https://www.youtube.com/s/player/97ea7458/player_ias.vflset/en_US/base.js\n"
     ]
    },
    {
     "name": "stdout",
     "output_type": "stream",
     "text": [
      "get random frame\n",
      "*1362-1363\n",
      "DGJRd16_HJE\n",
      "yt-dlp -S res:720,ext:mp4,fps:24 -c --recode mp4 --download-sections *1362-1363 https://www.youtube.com/watch?v=DGJRd16_HJE --output spamham_samples/DGJRd16_HJE.mp4 --retries infinite --fragment-retries infinite && ffmpeg -i spamham_samples/DGJRd16_HJE.mp4 -r 1 -vframes 1 -f image2 -q:v 1 spamham_samples/frames/DGJRd16_HJE.%03d.jpeg -y && del spamham_samples\\DGJRd16_HJE.mp4\n",
      "running donwload, extract, delete cmd...0\n",
      "add file to sources\n",
      "label frame\n",
      "|xRV-NTzoo2A|\n",
      "get vid info\n",
      "[youtube] Extracting URL: https://www.youtube.com/watch?v=xRV-NTzoo2A\n",
      "[youtube] xRV-NTzoo2A: Downloading webpage\n",
      "[youtube] xRV-NTzoo2A: Downloading android player API JSON\n"
     ]
    },
    {
     "name": "stderr",
     "output_type": "stream",
     "text": [
      "WARNING: [youtube] xRV-NTzoo2A: nsig extraction failed: You may experience throttling for some formats\n",
      "         Install PhantomJS to workaround the issue. Please download it from https://phantomjs.org/download.html\n",
      "         n = MKCHB8CHP4Qs-z ; player = https://www.youtube.com/s/player/97ea7458/player_ias.vflset/en_US/base.js\n"
     ]
    },
    {
     "name": "stdout",
     "output_type": "stream",
     "text": [
      "get random frame\n",
      "*949-950\n",
      "xRV-NTzoo2A\n",
      "yt-dlp -S res:720,ext:mp4,fps:24 -c --recode mp4 --download-sections *949-950 https://www.youtube.com/watch?v=xRV-NTzoo2A --output spamham_samples/xRV-NTzoo2A.mp4 --retries infinite --fragment-retries infinite && ffmpeg -i spamham_samples/xRV-NTzoo2A.mp4 -r 1 -vframes 1 -f image2 -q:v 1 spamham_samples/frames/xRV-NTzoo2A.%03d.jpeg -y && del spamham_samples\\xRV-NTzoo2A.mp4\n",
      "running donwload, extract, delete cmd...0\n",
      "add file to sources\n",
      "label frame\n",
      "|vj1DTKHDvio|\n",
      "get vid info\n",
      "[youtube] Extracting URL: https://www.youtube.com/watch?v=vj1DTKHDvio\n",
      "[youtube] vj1DTKHDvio: Downloading webpage\n",
      "[youtube] vj1DTKHDvio: Downloading android player API JSON\n"
     ]
    },
    {
     "name": "stderr",
     "output_type": "stream",
     "text": [
      "WARNING: [youtube] vj1DTKHDvio: nsig extraction failed: You may experience throttling for some formats\n",
      "         Install PhantomJS to workaround the issue. Please download it from https://phantomjs.org/download.html\n",
      "         n = pvJcqATldtiZbo ; player = https://www.youtube.com/s/player/97ea7458/player_ias.vflset/en_US/base.js\n"
     ]
    },
    {
     "name": "stdout",
     "output_type": "stream",
     "text": [
      "get random frame\n",
      "*1302-1303\n",
      "vj1DTKHDvio\n",
      "yt-dlp -S res:720,ext:mp4,fps:24 -c --recode mp4 --download-sections *1302-1303 https://www.youtube.com/watch?v=vj1DTKHDvio --output spamham_samples/vj1DTKHDvio.mp4 --retries infinite --fragment-retries infinite && ffmpeg -i spamham_samples/vj1DTKHDvio.mp4 -r 1 -vframes 1 -f image2 -q:v 1 spamham_samples/frames/vj1DTKHDvio.%03d.jpeg -y && del spamham_samples\\vj1DTKHDvio.mp4\n",
      "running donwload, extract, delete cmd...0\n",
      "add file to sources\n",
      "label frame\n",
      "|D70OPGpVDpc|\n",
      "get vid info\n",
      "[youtube] Extracting URL: https://www.youtube.com/watch?v=D70OPGpVDpc\n",
      "[youtube] D70OPGpVDpc: Downloading webpage\n",
      "[youtube] D70OPGpVDpc: Downloading android player API JSON\n"
     ]
    },
    {
     "name": "stderr",
     "output_type": "stream",
     "text": [
      "WARNING: [youtube] D70OPGpVDpc: nsig extraction failed: You may experience throttling for some formats\n",
      "         Install PhantomJS to workaround the issue. Please download it from https://phantomjs.org/download.html\n",
      "         n = _5acKif3CdP_QC ; player = https://www.youtube.com/s/player/97ea7458/player_ias.vflset/en_US/base.js\n"
     ]
    },
    {
     "name": "stdout",
     "output_type": "stream",
     "text": [
      "get random frame\n",
      "*1303-1304\n",
      "D70OPGpVDpc\n",
      "yt-dlp -S res:720,ext:mp4,fps:24 -c --recode mp4 --download-sections *1303-1304 https://www.youtube.com/watch?v=D70OPGpVDpc --output spamham_samples/D70OPGpVDpc.mp4 --retries infinite --fragment-retries infinite && ffmpeg -i spamham_samples/D70OPGpVDpc.mp4 -r 1 -vframes 1 -f image2 -q:v 1 spamham_samples/frames/D70OPGpVDpc.%03d.jpeg -y && del spamham_samples\\D70OPGpVDpc.mp4\n",
      "running donwload, extract, delete cmd...0\n",
      "add file to sources\n",
      "label frame\n",
      "|M6f56Tacloc|\n",
      "get vid info\n",
      "[youtube] Extracting URL: https://www.youtube.com/watch?v=M6f56Tacloc\n",
      "[youtube] M6f56Tacloc: Downloading webpage\n",
      "[youtube] M6f56Tacloc: Downloading android player API JSON\n"
     ]
    },
    {
     "name": "stderr",
     "output_type": "stream",
     "text": [
      "WARNING: [youtube] M6f56Tacloc: nsig extraction failed: You may experience throttling for some formats\n",
      "         Install PhantomJS to workaround the issue. Please download it from https://phantomjs.org/download.html\n",
      "         n = gjqFs6vzcy4w7q ; player = https://www.youtube.com/s/player/97ea7458/player_ias.vflset/en_US/base.js\n"
     ]
    },
    {
     "name": "stdout",
     "output_type": "stream",
     "text": [
      "get random frame\n",
      "*4113-4114\n",
      "M6f56Tacloc\n",
      "yt-dlp -S res:720,ext:mp4,fps:24 -c --recode mp4 --download-sections *4113-4114 https://www.youtube.com/watch?v=M6f56Tacloc --output spamham_samples/M6f56Tacloc.mp4 --retries infinite --fragment-retries infinite && ffmpeg -i spamham_samples/M6f56Tacloc.mp4 -r 1 -vframes 1 -f image2 -q:v 1 spamham_samples/frames/M6f56Tacloc.%03d.jpeg -y && del spamham_samples\\M6f56Tacloc.mp4\n",
      "running donwload, extract, delete cmd...0\n",
      "add file to sources\n",
      "label frame\n",
      "|Wsf4HCD5UU4|\n",
      "get vid info\n",
      "[youtube] Extracting URL: https://www.youtube.com/watch?v=Wsf4HCD5UU4\n",
      "[youtube] Wsf4HCD5UU4: Downloading webpage\n",
      "[youtube] Wsf4HCD5UU4: Downloading android player API JSON\n"
     ]
    },
    {
     "name": "stderr",
     "output_type": "stream",
     "text": [
      "WARNING: [youtube] Wsf4HCD5UU4: nsig extraction failed: You may experience throttling for some formats\n",
      "         Install PhantomJS to workaround the issue. Please download it from https://phantomjs.org/download.html\n",
      "         n = NYOkGEV_naJ9Pk ; player = https://www.youtube.com/s/player/97ea7458/player_ias.vflset/en_US/base.js\n"
     ]
    },
    {
     "name": "stdout",
     "output_type": "stream",
     "text": [
      "get random frame\n",
      "*828-829\n",
      "Wsf4HCD5UU4\n",
      "yt-dlp -S res:720,ext:mp4,fps:24 -c --recode mp4 --download-sections *828-829 https://www.youtube.com/watch?v=Wsf4HCD5UU4 --output spamham_samples/Wsf4HCD5UU4.mp4 --retries infinite --fragment-retries infinite && ffmpeg -i spamham_samples/Wsf4HCD5UU4.mp4 -r 1 -vframes 1 -f image2 -q:v 1 spamham_samples/frames/Wsf4HCD5UU4.%03d.jpeg -y && del spamham_samples\\Wsf4HCD5UU4.mp4\n",
      "running donwload, extract, delete cmd...0\n",
      "add file to sources\n",
      "label frame\n",
      "|HYrNqqS3ptU|\n",
      "get vid info\n",
      "[youtube] Extracting URL: https://www.youtube.com/watch?v=HYrNqqS3ptU\n",
      "[youtube] HYrNqqS3ptU: Downloading webpage\n",
      "[youtube] HYrNqqS3ptU: Downloading android player API JSON\n"
     ]
    },
    {
     "name": "stderr",
     "output_type": "stream",
     "text": [
      "WARNING: [youtube] HYrNqqS3ptU: nsig extraction failed: You may experience throttling for some formats\n",
      "         Install PhantomJS to workaround the issue. Please download it from https://phantomjs.org/download.html\n",
      "         n = mMtAr-ewZ1NmV1 ; player = https://www.youtube.com/s/player/97ea7458/player_ias.vflset/en_US/base.js\n"
     ]
    },
    {
     "name": "stdout",
     "output_type": "stream",
     "text": [
      "get random frame\n",
      "*2638-2639\n",
      "HYrNqqS3ptU\n",
      "yt-dlp -S res:720,ext:mp4,fps:24 -c --recode mp4 --download-sections *2638-2639 https://www.youtube.com/watch?v=HYrNqqS3ptU --output spamham_samples/HYrNqqS3ptU.mp4 --retries infinite --fragment-retries infinite && ffmpeg -i spamham_samples/HYrNqqS3ptU.mp4 -r 1 -vframes 1 -f image2 -q:v 1 spamham_samples/frames/HYrNqqS3ptU.%03d.jpeg -y && del spamham_samples\\HYrNqqS3ptU.mp4\n",
      "running donwload, extract, delete cmd...0\n",
      "add file to sources\n",
      "label frame\n",
      "|v0pWhWWviwQ|\n",
      "get vid info\n",
      "[youtube] Extracting URL: https://www.youtube.com/watch?v=v0pWhWWviwQ\n",
      "[youtube] v0pWhWWviwQ: Downloading webpage\n",
      "[youtube] v0pWhWWviwQ: Downloading android player API JSON\n"
     ]
    },
    {
     "name": "stderr",
     "output_type": "stream",
     "text": [
      "WARNING: [youtube] v0pWhWWviwQ: nsig extraction failed: You may experience throttling for some formats\n",
      "         Install PhantomJS to workaround the issue. Please download it from https://phantomjs.org/download.html\n",
      "         n = G3m1O8UzsffGAK ; player = https://www.youtube.com/s/player/97ea7458/player_ias.vflset/en_US/base.js\n"
     ]
    },
    {
     "name": "stdout",
     "output_type": "stream",
     "text": [
      "get random frame\n",
      "*1899-1900\n",
      "v0pWhWWviwQ\n",
      "yt-dlp -S res:720,ext:mp4,fps:24 -c --recode mp4 --download-sections *1899-1900 https://www.youtube.com/watch?v=v0pWhWWviwQ --output spamham_samples/v0pWhWWviwQ.mp4 --retries infinite --fragment-retries infinite && ffmpeg -i spamham_samples/v0pWhWWviwQ.mp4 -r 1 -vframes 1 -f image2 -q:v 1 spamham_samples/frames/v0pWhWWviwQ.%03d.jpeg -y && del spamham_samples\\v0pWhWWviwQ.mp4\n",
      "running donwload, extract, delete cmd...0\n",
      "add file to sources\n",
      "label frame\n",
      "|qsrfzwNVreE|\n",
      "get vid info\n",
      "[youtube] Extracting URL: https://www.youtube.com/watch?v=qsrfzwNVreE\n",
      "[youtube] qsrfzwNVreE: Downloading webpage\n",
      "[youtube] qsrfzwNVreE: Downloading android player API JSON\n"
     ]
    },
    {
     "name": "stderr",
     "output_type": "stream",
     "text": [
      "WARNING: [youtube] qsrfzwNVreE: nsig extraction failed: You may experience throttling for some formats\n",
      "         Install PhantomJS to workaround the issue. Please download it from https://phantomjs.org/download.html\n",
      "         n = G5NpbJeB5MYGBO ; player = https://www.youtube.com/s/player/97ea7458/player_ias.vflset/en_US/base.js\n"
     ]
    },
    {
     "name": "stdout",
     "output_type": "stream",
     "text": [
      "get random frame\n",
      "*739-740\n",
      "qsrfzwNVreE\n",
      "yt-dlp -S res:720,ext:mp4,fps:24 -c --recode mp4 --download-sections *739-740 https://www.youtube.com/watch?v=qsrfzwNVreE --output spamham_samples/qsrfzwNVreE.mp4 --retries infinite --fragment-retries infinite && ffmpeg -i spamham_samples/qsrfzwNVreE.mp4 -r 1 -vframes 1 -f image2 -q:v 1 spamham_samples/frames/qsrfzwNVreE.%03d.jpeg -y && del spamham_samples\\qsrfzwNVreE.mp4\n",
      "running donwload, extract, delete cmd...0\n",
      "add file to sources\n",
      "label frame\n",
      "|QYOKIgUlFU8|\n",
      "get vid info\n",
      "[youtube] Extracting URL: https://www.youtube.com/watch?v=QYOKIgUlFU8\n",
      "[youtube] QYOKIgUlFU8: Downloading webpage\n",
      "[youtube] QYOKIgUlFU8: Downloading android player API JSON\n"
     ]
    },
    {
     "name": "stderr",
     "output_type": "stream",
     "text": [
      "WARNING: [youtube] QYOKIgUlFU8: nsig extraction failed: You may experience throttling for some formats\n",
      "         Install PhantomJS to workaround the issue. Please download it from https://phantomjs.org/download.html\n",
      "         n = 9uB_EDNPs2FtqB ; player = https://www.youtube.com/s/player/97ea7458/player_ias.vflset/en_US/base.js\n"
     ]
    },
    {
     "name": "stdout",
     "output_type": "stream",
     "text": [
      "get random frame\n",
      "*807-808\n",
      "QYOKIgUlFU8\n",
      "yt-dlp -S res:720,ext:mp4,fps:24 -c --recode mp4 --download-sections *807-808 https://www.youtube.com/watch?v=QYOKIgUlFU8 --output spamham_samples/QYOKIgUlFU8.mp4 --retries infinite --fragment-retries infinite && ffmpeg -i spamham_samples/QYOKIgUlFU8.mp4 -r 1 -vframes 1 -f image2 -q:v 1 spamham_samples/frames/QYOKIgUlFU8.%03d.jpeg -y && del spamham_samples\\QYOKIgUlFU8.mp4\n",
      "running donwload, extract, delete cmd...0\n",
      "add file to sources\n",
      "label frame\n",
      "|DMBKGiHkWl8|\n",
      "get vid info\n",
      "[youtube] Extracting URL: https://www.youtube.com/watch?v=DMBKGiHkWl8\n",
      "[youtube] DMBKGiHkWl8: Downloading webpage\n",
      "[youtube] DMBKGiHkWl8: Downloading android player API JSON\n"
     ]
    },
    {
     "name": "stderr",
     "output_type": "stream",
     "text": [
      "WARNING: [youtube] DMBKGiHkWl8: nsig extraction failed: You may experience throttling for some formats\n",
      "         Install PhantomJS to workaround the issue. Please download it from https://phantomjs.org/download.html\n",
      "         n = 3kthGINV1KvHhM ; player = https://www.youtube.com/s/player/97ea7458/player_ias.vflset/en_US/base.js\n"
     ]
    },
    {
     "name": "stdout",
     "output_type": "stream",
     "text": [
      "get random frame\n",
      "*399-400\n",
      "DMBKGiHkWl8\n",
      "yt-dlp -S res:720,ext:mp4,fps:24 -c --recode mp4 --download-sections *399-400 https://www.youtube.com/watch?v=DMBKGiHkWl8 --output spamham_samples/DMBKGiHkWl8.mp4 --retries infinite --fragment-retries infinite && ffmpeg -i spamham_samples/DMBKGiHkWl8.mp4 -r 1 -vframes 1 -f image2 -q:v 1 spamham_samples/frames/DMBKGiHkWl8.%03d.jpeg -y && del spamham_samples\\DMBKGiHkWl8.mp4\n",
      "running donwload, extract, delete cmd...0\n",
      "add file to sources\n",
      "label frame\n",
      "|Zt0TVBqW_uw|\n",
      "get vid info\n",
      "[youtube] Extracting URL: https://www.youtube.com/watch?v=Zt0TVBqW_uw\n",
      "[youtube] Zt0TVBqW_uw: Downloading webpage\n",
      "[youtube] Zt0TVBqW_uw: Downloading android player API JSON\n"
     ]
    },
    {
     "name": "stderr",
     "output_type": "stream",
     "text": [
      "WARNING: [youtube] Zt0TVBqW_uw: nsig extraction failed: You may experience throttling for some formats\n",
      "         Install PhantomJS to workaround the issue. Please download it from https://phantomjs.org/download.html\n",
      "         n = L7FpAa7-c3O7i- ; player = https://www.youtube.com/s/player/97ea7458/player_ias.vflset/en_US/base.js\n"
     ]
    },
    {
     "name": "stdout",
     "output_type": "stream",
     "text": [
      "get random frame\n",
      "*3232-3233\n",
      "Zt0TVBqW_uw\n",
      "yt-dlp -S res:720,ext:mp4,fps:24 -c --recode mp4 --download-sections *3232-3233 https://www.youtube.com/watch?v=Zt0TVBqW_uw --output spamham_samples/Zt0TVBqW_uw.mp4 --retries infinite --fragment-retries infinite && ffmpeg -i spamham_samples/Zt0TVBqW_uw.mp4 -r 1 -vframes 1 -f image2 -q:v 1 spamham_samples/frames/Zt0TVBqW_uw.%03d.jpeg -y && del spamham_samples\\Zt0TVBqW_uw.mp4\n",
      "running donwload, extract, delete cmd...0\n",
      "add file to sources\n",
      "label frame\n",
      "|MB19eSaBEyI|\n",
      "get vid info\n",
      "[youtube] Extracting URL: https://www.youtube.com/watch?v=MB19eSaBEyI\n",
      "[youtube] MB19eSaBEyI: Downloading webpage\n",
      "[youtube] MB19eSaBEyI: Downloading android player API JSON\n"
     ]
    },
    {
     "name": "stderr",
     "output_type": "stream",
     "text": [
      "WARNING: [youtube] MB19eSaBEyI: nsig extraction failed: You may experience throttling for some formats\n",
      "         Install PhantomJS to workaround the issue. Please download it from https://phantomjs.org/download.html\n",
      "         n = q0T95LxjYLy6oY ; player = https://www.youtube.com/s/player/97ea7458/player_ias.vflset/en_US/base.js\n"
     ]
    },
    {
     "name": "stdout",
     "output_type": "stream",
     "text": [
      "get random frame\n",
      "*273-274\n",
      "MB19eSaBEyI\n",
      "yt-dlp -S res:720,ext:mp4,fps:24 -c --recode mp4 --download-sections *273-274 https://www.youtube.com/watch?v=MB19eSaBEyI --output spamham_samples/MB19eSaBEyI.mp4 --retries infinite --fragment-retries infinite && ffmpeg -i spamham_samples/MB19eSaBEyI.mp4 -r 1 -vframes 1 -f image2 -q:v 1 spamham_samples/frames/MB19eSaBEyI.%03d.jpeg -y && del spamham_samples\\MB19eSaBEyI.mp4\n",
      "running donwload, extract, delete cmd...0\n",
      "add file to sources\n",
      "label frame\n",
      "|PjjYHlhj7z0|\n",
      "get vid info\n",
      "[youtube] Extracting URL: https://www.youtube.com/watch?v=PjjYHlhj7z0\n",
      "[youtube] PjjYHlhj7z0: Downloading webpage\n",
      "[youtube] PjjYHlhj7z0: Downloading android player API JSON\n"
     ]
    },
    {
     "name": "stderr",
     "output_type": "stream",
     "text": [
      "WARNING: [youtube] PjjYHlhj7z0: nsig extraction failed: You may experience throttling for some formats\n",
      "         Install PhantomJS to workaround the issue. Please download it from https://phantomjs.org/download.html\n",
      "         n = znrq3jmY-AwzWG ; player = https://www.youtube.com/s/player/97ea7458/player_ias.vflset/en_US/base.js\n"
     ]
    },
    {
     "name": "stdout",
     "output_type": "stream",
     "text": [
      "get random frame\n",
      "*1300-1301\n",
      "PjjYHlhj7z0\n",
      "yt-dlp -S res:720,ext:mp4,fps:24 -c --recode mp4 --download-sections *1300-1301 https://www.youtube.com/watch?v=PjjYHlhj7z0 --output spamham_samples/PjjYHlhj7z0.mp4 --retries infinite --fragment-retries infinite && ffmpeg -i spamham_samples/PjjYHlhj7z0.mp4 -r 1 -vframes 1 -f image2 -q:v 1 spamham_samples/frames/PjjYHlhj7z0.%03d.jpeg -y && del spamham_samples\\PjjYHlhj7z0.mp4\n",
      "running donwload, extract, delete cmd...0\n",
      "add file to sources\n",
      "label frame\n",
      "|HzmMX0v6lEU|\n",
      "get vid info\n",
      "[youtube] Extracting URL: https://www.youtube.com/watch?v=HzmMX0v6lEU\n",
      "[youtube] HzmMX0v6lEU: Downloading webpage\n",
      "[youtube] HzmMX0v6lEU: Downloading android player API JSON\n"
     ]
    },
    {
     "name": "stderr",
     "output_type": "stream",
     "text": [
      "WARNING: [youtube] HzmMX0v6lEU: nsig extraction failed: You may experience throttling for some formats\n",
      "         Install PhantomJS to workaround the issue. Please download it from https://phantomjs.org/download.html\n",
      "         n = KDu5UHpdOMxKpl ; player = https://www.youtube.com/s/player/97ea7458/player_ias.vflset/en_US/base.js\n"
     ]
    },
    {
     "name": "stdout",
     "output_type": "stream",
     "text": [
      "get random frame\n",
      "*2283-2284\n",
      "HzmMX0v6lEU\n",
      "yt-dlp -S res:720,ext:mp4,fps:24 -c --recode mp4 --download-sections *2283-2284 https://www.youtube.com/watch?v=HzmMX0v6lEU --output spamham_samples/HzmMX0v6lEU.mp4 --retries infinite --fragment-retries infinite && ffmpeg -i spamham_samples/HzmMX0v6lEU.mp4 -r 1 -vframes 1 -f image2 -q:v 1 spamham_samples/frames/HzmMX0v6lEU.%03d.jpeg -y && del spamham_samples\\HzmMX0v6lEU.mp4\n",
      "running donwload, extract, delete cmd...0\n",
      "add file to sources\n",
      "label frame\n",
      "|wN8ine3KIrU|\n",
      "get vid info\n",
      "[youtube] Extracting URL: https://www.youtube.com/watch?v=wN8ine3KIrU\n",
      "[youtube] wN8ine3KIrU: Downloading webpage\n",
      "[youtube] wN8ine3KIrU: Downloading android player API JSON\n"
     ]
    },
    {
     "name": "stderr",
     "output_type": "stream",
     "text": [
      "WARNING: [youtube] wN8ine3KIrU: nsig extraction failed: You may experience throttling for some formats\n",
      "         Install PhantomJS to workaround the issue. Please download it from https://phantomjs.org/download.html\n",
      "         n = R_TZObTSchmR-M ; player = https://www.youtube.com/s/player/97ea7458/player_ias.vflset/en_US/base.js\n"
     ]
    },
    {
     "name": "stdout",
     "output_type": "stream",
     "text": [
      "get random frame\n",
      "*1506-1507\n",
      "wN8ine3KIrU\n",
      "yt-dlp -S res:720,ext:mp4,fps:24 -c --recode mp4 --download-sections *1506-1507 https://www.youtube.com/watch?v=wN8ine3KIrU --output spamham_samples/wN8ine3KIrU.mp4 --retries infinite --fragment-retries infinite && ffmpeg -i spamham_samples/wN8ine3KIrU.mp4 -r 1 -vframes 1 -f image2 -q:v 1 spamham_samples/frames/wN8ine3KIrU.%03d.jpeg -y && del spamham_samples\\wN8ine3KIrU.mp4\n",
      "running donwload, extract, delete cmd...0\n",
      "add file to sources\n",
      "label frame\n",
      "|djMeQs8AHuk|\n",
      "get vid info\n",
      "[youtube] Extracting URL: https://www.youtube.com/watch?v=djMeQs8AHuk\n",
      "[youtube] djMeQs8AHuk: Downloading webpage\n",
      "[youtube] djMeQs8AHuk: Downloading android player API JSON\n"
     ]
    },
    {
     "name": "stderr",
     "output_type": "stream",
     "text": [
      "WARNING: [youtube] djMeQs8AHuk: nsig extraction failed: You may experience throttling for some formats\n",
      "         Install PhantomJS to workaround the issue. Please download it from https://phantomjs.org/download.html\n",
      "         n = EKd4CB8m-JVkT5 ; player = https://www.youtube.com/s/player/97ea7458/player_ias.vflset/en_US/base.js\n"
     ]
    },
    {
     "name": "stdout",
     "output_type": "stream",
     "text": [
      "get random frame\n",
      "*964-965\n",
      "djMeQs8AHuk\n",
      "yt-dlp -S res:720,ext:mp4,fps:24 -c --recode mp4 --download-sections *964-965 https://www.youtube.com/watch?v=djMeQs8AHuk --output spamham_samples/djMeQs8AHuk.mp4 --retries infinite --fragment-retries infinite && ffmpeg -i spamham_samples/djMeQs8AHuk.mp4 -r 1 -vframes 1 -f image2 -q:v 1 spamham_samples/frames/djMeQs8AHuk.%03d.jpeg -y && del spamham_samples\\djMeQs8AHuk.mp4\n",
      "running donwload, extract, delete cmd...0\n",
      "add file to sources\n",
      "label frame\n",
      "|rhJO0IB2lhQ|\n",
      "get vid info\n",
      "[youtube] Extracting URL: https://www.youtube.com/watch?v=rhJO0IB2lhQ\n",
      "[youtube] rhJO0IB2lhQ: Downloading webpage\n",
      "[youtube] rhJO0IB2lhQ: Downloading android player API JSON\n"
     ]
    },
    {
     "name": "stderr",
     "output_type": "stream",
     "text": [
      "WARNING: [youtube] rhJO0IB2lhQ: nsig extraction failed: You may experience throttling for some formats\n",
      "         Install PhantomJS to workaround the issue. Please download it from https://phantomjs.org/download.html\n",
      "         n = -YL_L_cHY9Vef7 ; player = https://www.youtube.com/s/player/97ea7458/player_ias.vflset/en_US/base.js\n"
     ]
    },
    {
     "name": "stdout",
     "output_type": "stream",
     "text": [
      "get random frame\n",
      "*2437-2438\n",
      "rhJO0IB2lhQ\n",
      "yt-dlp -S res:720,ext:mp4,fps:24 -c --recode mp4 --download-sections *2437-2438 https://www.youtube.com/watch?v=rhJO0IB2lhQ --output spamham_samples/rhJO0IB2lhQ.mp4 --retries infinite --fragment-retries infinite && ffmpeg -i spamham_samples/rhJO0IB2lhQ.mp4 -r 1 -vframes 1 -f image2 -q:v 1 spamham_samples/frames/rhJO0IB2lhQ.%03d.jpeg -y && del spamham_samples\\rhJO0IB2lhQ.mp4\n",
      "running donwload, extract, delete cmd...0\n",
      "add file to sources\n",
      "label frame\n",
      "|jMuD5F0bRqs|\n",
      "get vid info\n",
      "[youtube] Extracting URL: https://www.youtube.com/watch?v=jMuD5F0bRqs\n",
      "[youtube] jMuD5F0bRqs: Downloading webpage\n",
      "[youtube] jMuD5F0bRqs: Downloading android player API JSON\n"
     ]
    },
    {
     "name": "stderr",
     "output_type": "stream",
     "text": [
      "WARNING: [youtube] jMuD5F0bRqs: nsig extraction failed: You may experience throttling for some formats\n",
      "         Install PhantomJS to workaround the issue. Please download it from https://phantomjs.org/download.html\n",
      "         n = yD8GLt8Q1rPSAr ; player = https://www.youtube.com/s/player/97ea7458/player_ias.vflset/en_US/base.js\n"
     ]
    },
    {
     "name": "stdout",
     "output_type": "stream",
     "text": [
      "get random frame\n",
      "*2576-2577\n",
      "jMuD5F0bRqs\n",
      "yt-dlp -S res:720,ext:mp4,fps:24 -c --recode mp4 --download-sections *2576-2577 https://www.youtube.com/watch?v=jMuD5F0bRqs --output spamham_samples/jMuD5F0bRqs.mp4 --retries infinite --fragment-retries infinite && ffmpeg -i spamham_samples/jMuD5F0bRqs.mp4 -r 1 -vframes 1 -f image2 -q:v 1 spamham_samples/frames/jMuD5F0bRqs.%03d.jpeg -y && del spamham_samples\\jMuD5F0bRqs.mp4\n",
      "running donwload, extract, delete cmd...0\n",
      "add file to sources\n",
      "label frame\n",
      "|f4lb4uSk0f4|\n",
      "get vid info\n",
      "[youtube] Extracting URL: https://www.youtube.com/watch?v=f4lb4uSk0f4\n",
      "[youtube] f4lb4uSk0f4: Downloading webpage\n",
      "[youtube] f4lb4uSk0f4: Downloading android player API JSON\n"
     ]
    },
    {
     "name": "stderr",
     "output_type": "stream",
     "text": [
      "WARNING: [youtube] f4lb4uSk0f4: nsig extraction failed: You may experience throttling for some formats\n",
      "         Install PhantomJS to workaround the issue. Please download it from https://phantomjs.org/download.html\n",
      "         n = 7bznb5qlyzbLdd ; player = https://www.youtube.com/s/player/97ea7458/player_ias.vflset/en_US/base.js\n"
     ]
    },
    {
     "name": "stdout",
     "output_type": "stream",
     "text": [
      "get random frame\n",
      "*624-625\n",
      "f4lb4uSk0f4\n",
      "yt-dlp -S res:720,ext:mp4,fps:24 -c --recode mp4 --download-sections *624-625 https://www.youtube.com/watch?v=f4lb4uSk0f4 --output spamham_samples/f4lb4uSk0f4.mp4 --retries infinite --fragment-retries infinite && ffmpeg -i spamham_samples/f4lb4uSk0f4.mp4 -r 1 -vframes 1 -f image2 -q:v 1 spamham_samples/frames/f4lb4uSk0f4.%03d.jpeg -y && del spamham_samples\\f4lb4uSk0f4.mp4\n",
      "running donwload, extract, delete cmd...0\n",
      "add file to sources\n",
      "label frame\n",
      "|CrMy0YtONbU|\n",
      "get vid info\n",
      "[youtube] Extracting URL: https://www.youtube.com/watch?v=CrMy0YtONbU\n",
      "[youtube] CrMy0YtONbU: Downloading webpage\n",
      "[youtube] CrMy0YtONbU: Downloading android player API JSON\n"
     ]
    },
    {
     "name": "stderr",
     "output_type": "stream",
     "text": [
      "WARNING: [youtube] CrMy0YtONbU: nsig extraction failed: You may experience throttling for some formats\n",
      "         Install PhantomJS to workaround the issue. Please download it from https://phantomjs.org/download.html\n",
      "         n = FvF8qX_cra9lYe ; player = https://www.youtube.com/s/player/97ea7458/player_ias.vflset/en_US/base.js\n"
     ]
    },
    {
     "name": "stdout",
     "output_type": "stream",
     "text": [
      "get random frame\n",
      "*582-583\n",
      "CrMy0YtONbU\n",
      "yt-dlp -S res:720,ext:mp4,fps:24 -c --recode mp4 --download-sections *582-583 https://www.youtube.com/watch?v=CrMy0YtONbU --output spamham_samples/CrMy0YtONbU.mp4 --retries infinite --fragment-retries infinite && ffmpeg -i spamham_samples/CrMy0YtONbU.mp4 -r 1 -vframes 1 -f image2 -q:v 1 spamham_samples/frames/CrMy0YtONbU.%03d.jpeg -y && del spamham_samples\\CrMy0YtONbU.mp4\n",
      "running donwload, extract, delete cmd...0\n",
      "add file to sources\n",
      "label frame\n",
      "|h0xVYbYl2kg|\n",
      "get vid info\n",
      "[youtube] Extracting URL: https://www.youtube.com/watch?v=h0xVYbYl2kg\n",
      "[youtube] h0xVYbYl2kg: Downloading webpage\n",
      "[youtube] h0xVYbYl2kg: Downloading android player API JSON\n"
     ]
    },
    {
     "name": "stderr",
     "output_type": "stream",
     "text": [
      "WARNING: [youtube] h0xVYbYl2kg: nsig extraction failed: You may experience throttling for some formats\n",
      "         Install PhantomJS to workaround the issue. Please download it from https://phantomjs.org/download.html\n",
      "         n = 6IK8IY658EeanM ; player = https://www.youtube.com/s/player/97ea7458/player_ias.vflset/en_US/base.js\n"
     ]
    },
    {
     "name": "stdout",
     "output_type": "stream",
     "text": [
      "get random frame\n",
      "*1957-1958\n",
      "h0xVYbYl2kg\n",
      "yt-dlp -S res:720,ext:mp4,fps:24 -c --recode mp4 --download-sections *1957-1958 https://www.youtube.com/watch?v=h0xVYbYl2kg --output spamham_samples/h0xVYbYl2kg.mp4 --retries infinite --fragment-retries infinite && ffmpeg -i spamham_samples/h0xVYbYl2kg.mp4 -r 1 -vframes 1 -f image2 -q:v 1 spamham_samples/frames/h0xVYbYl2kg.%03d.jpeg -y && del spamham_samples\\h0xVYbYl2kg.mp4\n",
      "running donwload, extract, delete cmd...0\n",
      "add file to sources\n",
      "label frame\n",
      "|xKF1jUs8-ss|\n",
      "get vid info\n",
      "[youtube] Extracting URL: https://www.youtube.com/watch?v=xKF1jUs8-ss\n",
      "[youtube] xKF1jUs8-ss: Downloading webpage\n",
      "[youtube] xKF1jUs8-ss: Downloading android player API JSON\n"
     ]
    },
    {
     "name": "stderr",
     "output_type": "stream",
     "text": [
      "WARNING: [youtube] xKF1jUs8-ss: nsig extraction failed: You may experience throttling for some formats\n",
      "         Install PhantomJS to workaround the issue. Please download it from https://phantomjs.org/download.html\n",
      "         n = MtaakI1p-ZIMln ; player = https://www.youtube.com/s/player/97ea7458/player_ias.vflset/en_US/base.js\n"
     ]
    },
    {
     "name": "stdout",
     "output_type": "stream",
     "text": [
      "get random frame\n",
      "*3374-3375\n",
      "xKF1jUs8-ss\n",
      "yt-dlp -S res:720,ext:mp4,fps:24 -c --recode mp4 --download-sections *3374-3375 https://www.youtube.com/watch?v=xKF1jUs8-ss --output spamham_samples/xKF1jUs8-ss.mp4 --retries infinite --fragment-retries infinite && ffmpeg -i spamham_samples/xKF1jUs8-ss.mp4 -r 1 -vframes 1 -f image2 -q:v 1 spamham_samples/frames/xKF1jUs8-ss.%03d.jpeg -y && del spamham_samples\\xKF1jUs8-ss.mp4\n",
      "running donwload, extract, delete cmd...0\n",
      "add file to sources\n",
      "label frame\n",
      "|qvDAlAxE0RI|\n",
      "get vid info\n",
      "[youtube] Extracting URL: https://www.youtube.com/watch?v=qvDAlAxE0RI\n",
      "[youtube] qvDAlAxE0RI: Downloading webpage\n",
      "[youtube] qvDAlAxE0RI: Downloading android player API JSON\n"
     ]
    },
    {
     "name": "stderr",
     "output_type": "stream",
     "text": [
      "WARNING: [youtube] qvDAlAxE0RI: nsig extraction failed: You may experience throttling for some formats\n",
      "         Install PhantomJS to workaround the issue. Please download it from https://phantomjs.org/download.html\n",
      "         n = o1QlatDz6B_4VT ; player = https://www.youtube.com/s/player/97ea7458/player_ias.vflset/en_US/base.js\n"
     ]
    },
    {
     "name": "stdout",
     "output_type": "stream",
     "text": [
      "get random frame\n",
      "*905-906\n",
      "qvDAlAxE0RI\n",
      "yt-dlp -S res:720,ext:mp4,fps:24 -c --recode mp4 --download-sections *905-906 https://www.youtube.com/watch?v=qvDAlAxE0RI --output spamham_samples/qvDAlAxE0RI.mp4 --retries infinite --fragment-retries infinite && ffmpeg -i spamham_samples/qvDAlAxE0RI.mp4 -r 1 -vframes 1 -f image2 -q:v 1 spamham_samples/frames/qvDAlAxE0RI.%03d.jpeg -y && del spamham_samples\\qvDAlAxE0RI.mp4\n",
      "running donwload, extract, delete cmd...0\n",
      "add file to sources\n",
      "label frame\n",
      "|gDsuWlVM1IM|\n",
      "get vid info\n",
      "[youtube] Extracting URL: https://www.youtube.com/watch?v=gDsuWlVM1IM\n",
      "[youtube] gDsuWlVM1IM: Downloading webpage\n",
      "[youtube] gDsuWlVM1IM: Downloading android player API JSON\n"
     ]
    },
    {
     "name": "stderr",
     "output_type": "stream",
     "text": [
      "WARNING: [youtube] gDsuWlVM1IM: nsig extraction failed: You may experience throttling for some formats\n",
      "         Install PhantomJS to workaround the issue. Please download it from https://phantomjs.org/download.html\n",
      "         n = 8H1dnxLEtp6cEq ; player = https://www.youtube.com/s/player/97ea7458/player_ias.vflset/en_US/base.js\n"
     ]
    },
    {
     "name": "stdout",
     "output_type": "stream",
     "text": [
      "get random frame\n",
      "*574-575\n",
      "gDsuWlVM1IM\n",
      "yt-dlp -S res:720,ext:mp4,fps:24 -c --recode mp4 --download-sections *574-575 https://www.youtube.com/watch?v=gDsuWlVM1IM --output spamham_samples/gDsuWlVM1IM.mp4 --retries infinite --fragment-retries infinite && ffmpeg -i spamham_samples/gDsuWlVM1IM.mp4 -r 1 -vframes 1 -f image2 -q:v 1 spamham_samples/frames/gDsuWlVM1IM.%03d.jpeg -y && del spamham_samples\\gDsuWlVM1IM.mp4\n",
      "running donwload, extract, delete cmd...0\n",
      "add file to sources\n",
      "label frame\n",
      "|70qpOvJ1IAg|\n",
      "get vid info\n",
      "[youtube] Extracting URL: https://www.youtube.com/watch?v=70qpOvJ1IAg\n",
      "[youtube] 70qpOvJ1IAg: Downloading webpage\n",
      "[youtube] 70qpOvJ1IAg: Downloading android player API JSON\n"
     ]
    },
    {
     "name": "stderr",
     "output_type": "stream",
     "text": [
      "WARNING: [youtube] 70qpOvJ1IAg: nsig extraction failed: You may experience throttling for some formats\n",
      "         Install PhantomJS to workaround the issue. Please download it from https://phantomjs.org/download.html\n",
      "         n = 8VR1po310eUsBo ; player = https://www.youtube.com/s/player/97ea7458/player_ias.vflset/en_US/base.js\n"
     ]
    },
    {
     "name": "stdout",
     "output_type": "stream",
     "text": [
      "get random frame\n",
      "*1108-1109\n",
      "70qpOvJ1IAg\n",
      "yt-dlp -S res:720,ext:mp4,fps:24 -c --recode mp4 --download-sections *1108-1109 https://www.youtube.com/watch?v=70qpOvJ1IAg --output spamham_samples/70qpOvJ1IAg.mp4 --retries infinite --fragment-retries infinite && ffmpeg -i spamham_samples/70qpOvJ1IAg.mp4 -r 1 -vframes 1 -f image2 -q:v 1 spamham_samples/frames/70qpOvJ1IAg.%03d.jpeg -y && del spamham_samples\\70qpOvJ1IAg.mp4\n",
      "running donwload, extract, delete cmd...0\n",
      "add file to sources\n",
      "label frame\n",
      "|kNi4k3rO0jo|\n",
      "get vid info\n",
      "[youtube] Extracting URL: https://www.youtube.com/watch?v=kNi4k3rO0jo\n",
      "[youtube] kNi4k3rO0jo: Downloading webpage\n",
      "[youtube] kNi4k3rO0jo: Downloading android player API JSON\n"
     ]
    },
    {
     "name": "stderr",
     "output_type": "stream",
     "text": [
      "WARNING: [youtube] kNi4k3rO0jo: nsig extraction failed: You may experience throttling for some formats\n",
      "         Install PhantomJS to workaround the issue. Please download it from https://phantomjs.org/download.html\n",
      "         n = T-xh6Xbfrb8Tpp ; player = https://www.youtube.com/s/player/97ea7458/player_ias.vflset/en_US/base.js\n"
     ]
    },
    {
     "name": "stdout",
     "output_type": "stream",
     "text": [
      "get random frame\n",
      "*1930-1931\n",
      "kNi4k3rO0jo\n",
      "yt-dlp -S res:720,ext:mp4,fps:24 -c --recode mp4 --download-sections *1930-1931 https://www.youtube.com/watch?v=kNi4k3rO0jo --output spamham_samples/kNi4k3rO0jo.mp4 --retries infinite --fragment-retries infinite && ffmpeg -i spamham_samples/kNi4k3rO0jo.mp4 -r 1 -vframes 1 -f image2 -q:v 1 spamham_samples/frames/kNi4k3rO0jo.%03d.jpeg -y && del spamham_samples\\kNi4k3rO0jo.mp4\n",
      "running donwload, extract, delete cmd...0\n",
      "add file to sources\n",
      "label frame\n",
      "|eJpFn8n1Zzg|\n",
      "get vid info\n",
      "[youtube] Extracting URL: https://www.youtube.com/watch?v=eJpFn8n1Zzg\n",
      "[youtube] eJpFn8n1Zzg: Downloading webpage\n",
      "[youtube] eJpFn8n1Zzg: Downloading android player API JSON\n"
     ]
    },
    {
     "name": "stderr",
     "output_type": "stream",
     "text": [
      "WARNING: [youtube] eJpFn8n1Zzg: nsig extraction failed: You may experience throttling for some formats\n",
      "         Install PhantomJS to workaround the issue. Please download it from https://phantomjs.org/download.html\n",
      "         n = K-t7e8QlCczq_G ; player = https://www.youtube.com/s/player/97ea7458/player_ias.vflset/en_US/base.js\n"
     ]
    },
    {
     "name": "stdout",
     "output_type": "stream",
     "text": [
      "get random frame\n",
      "*3329-3330\n",
      "eJpFn8n1Zzg\n",
      "yt-dlp -S res:720,ext:mp4,fps:24 -c --recode mp4 --download-sections *3329-3330 https://www.youtube.com/watch?v=eJpFn8n1Zzg --output spamham_samples/eJpFn8n1Zzg.mp4 --retries infinite --fragment-retries infinite && ffmpeg -i spamham_samples/eJpFn8n1Zzg.mp4 -r 1 -vframes 1 -f image2 -q:v 1 spamham_samples/frames/eJpFn8n1Zzg.%03d.jpeg -y && del spamham_samples\\eJpFn8n1Zzg.mp4\n",
      "running donwload, extract, delete cmd...0\n",
      "add file to sources\n",
      "label frame\n",
      "|Sjsd49hfDso|\n",
      "get vid info\n",
      "[youtube] Extracting URL: https://www.youtube.com/watch?v=Sjsd49hfDso\n",
      "[youtube] Sjsd49hfDso: Downloading webpage\n",
      "[youtube] Sjsd49hfDso: Downloading android player API JSON\n"
     ]
    },
    {
     "name": "stderr",
     "output_type": "stream",
     "text": [
      "WARNING: [youtube] Sjsd49hfDso: nsig extraction failed: You may experience throttling for some formats\n",
      "         Install PhantomJS to workaround the issue. Please download it from https://phantomjs.org/download.html\n",
      "         n = 06bp1lx8eDHE0d ; player = https://www.youtube.com/s/player/97ea7458/player_ias.vflset/en_US/base.js\n"
     ]
    },
    {
     "name": "stdout",
     "output_type": "stream",
     "text": [
      "get random frame\n",
      "*1790-1791\n",
      "Sjsd49hfDso\n",
      "yt-dlp -S res:720,ext:mp4,fps:24 -c --recode mp4 --download-sections *1790-1791 https://www.youtube.com/watch?v=Sjsd49hfDso --output spamham_samples/Sjsd49hfDso.mp4 --retries infinite --fragment-retries infinite && ffmpeg -i spamham_samples/Sjsd49hfDso.mp4 -r 1 -vframes 1 -f image2 -q:v 1 spamham_samples/frames/Sjsd49hfDso.%03d.jpeg -y && del spamham_samples\\Sjsd49hfDso.mp4\n",
      "running donwload, extract, delete cmd...0\n",
      "add file to sources\n",
      "label frame\n",
      "|7lCxCyYxKV0|\n",
      "get vid info\n",
      "[youtube] Extracting URL: https://www.youtube.com/watch?v=7lCxCyYxKV0\n",
      "[youtube] 7lCxCyYxKV0: Downloading webpage\n",
      "[youtube] 7lCxCyYxKV0: Downloading android player API JSON\n"
     ]
    },
    {
     "name": "stderr",
     "output_type": "stream",
     "text": [
      "WARNING: [youtube] 7lCxCyYxKV0: nsig extraction failed: You may experience throttling for some formats\n",
      "         Install PhantomJS to workaround the issue. Please download it from https://phantomjs.org/download.html\n",
      "         n = 9mHr9ELK0UwNbJ ; player = https://www.youtube.com/s/player/97ea7458/player_ias.vflset/en_US/base.js\n"
     ]
    },
    {
     "name": "stdout",
     "output_type": "stream",
     "text": [
      "get random frame\n",
      "*1049-1050\n",
      "7lCxCyYxKV0\n",
      "yt-dlp -S res:720,ext:mp4,fps:24 -c --recode mp4 --download-sections *1049-1050 https://www.youtube.com/watch?v=7lCxCyYxKV0 --output spamham_samples/7lCxCyYxKV0.mp4 --retries infinite --fragment-retries infinite && ffmpeg -i spamham_samples/7lCxCyYxKV0.mp4 -r 1 -vframes 1 -f image2 -q:v 1 spamham_samples/frames/7lCxCyYxKV0.%03d.jpeg -y && del spamham_samples\\7lCxCyYxKV0.mp4\n",
      "running donwload, extract, delete cmd...0\n",
      "add file to sources\n",
      "label frame\n",
      "|1xo2xLTXNVU|\n",
      "get vid info\n",
      "[youtube] Extracting URL: https://www.youtube.com/watch?v=1xo2xLTXNVU\n",
      "[youtube] 1xo2xLTXNVU: Downloading webpage\n",
      "[youtube] 1xo2xLTXNVU: Downloading android player API JSON\n"
     ]
    },
    {
     "name": "stderr",
     "output_type": "stream",
     "text": [
      "WARNING: [youtube] 1xo2xLTXNVU: nsig extraction failed: You may experience throttling for some formats\n",
      "         Install PhantomJS to workaround the issue. Please download it from https://phantomjs.org/download.html\n",
      "         n = zXci-SLckrbjz2 ; player = https://www.youtube.com/s/player/97ea7458/player_ias.vflset/en_US/base.js\n"
     ]
    },
    {
     "name": "stdout",
     "output_type": "stream",
     "text": [
      "get random frame\n",
      "*1063-1064\n",
      "1xo2xLTXNVU\n",
      "yt-dlp -S res:720,ext:mp4,fps:24 -c --recode mp4 --download-sections *1063-1064 https://www.youtube.com/watch?v=1xo2xLTXNVU --output spamham_samples/1xo2xLTXNVU.mp4 --retries infinite --fragment-retries infinite && ffmpeg -i spamham_samples/1xo2xLTXNVU.mp4 -r 1 -vframes 1 -f image2 -q:v 1 spamham_samples/frames/1xo2xLTXNVU.%03d.jpeg -y && del spamham_samples\\1xo2xLTXNVU.mp4\n",
      "running donwload, extract, delete cmd...0\n",
      "add file to sources\n",
      "label frame\n",
      "|kL8C2gLvO_o|\n",
      "get vid info\n",
      "[youtube] Extracting URL: https://www.youtube.com/watch?v=kL8C2gLvO_o\n",
      "[youtube] kL8C2gLvO_o: Downloading webpage\n",
      "[youtube] kL8C2gLvO_o: Downloading android player API JSON\n"
     ]
    },
    {
     "name": "stderr",
     "output_type": "stream",
     "text": [
      "WARNING: [youtube] kL8C2gLvO_o: nsig extraction failed: You may experience throttling for some formats\n",
      "         Install PhantomJS to workaround the issue. Please download it from https://phantomjs.org/download.html\n",
      "         n = M_KZIfPHzhBsc4 ; player = https://www.youtube.com/s/player/97ea7458/player_ias.vflset/en_US/base.js\n"
     ]
    },
    {
     "name": "stdout",
     "output_type": "stream",
     "text": [
      "get random frame\n",
      "*1027-1028\n",
      "kL8C2gLvO_o\n",
      "yt-dlp -S res:720,ext:mp4,fps:24 -c --recode mp4 --download-sections *1027-1028 https://www.youtube.com/watch?v=kL8C2gLvO_o --output spamham_samples/kL8C2gLvO_o.mp4 --retries infinite --fragment-retries infinite && ffmpeg -i spamham_samples/kL8C2gLvO_o.mp4 -r 1 -vframes 1 -f image2 -q:v 1 spamham_samples/frames/kL8C2gLvO_o.%03d.jpeg -y && del spamham_samples\\kL8C2gLvO_o.mp4\n",
      "running donwload, extract, delete cmd...0\n",
      "add file to sources\n",
      "label frame\n",
      "|h9f5eTREW-0|\n",
      "get vid info\n",
      "[youtube] Extracting URL: https://www.youtube.com/watch?v=h9f5eTREW-0\n",
      "[youtube] h9f5eTREW-0: Downloading webpage\n",
      "[youtube] h9f5eTREW-0: Downloading android player API JSON\n"
     ]
    },
    {
     "name": "stderr",
     "output_type": "stream",
     "text": [
      "WARNING: [youtube] h9f5eTREW-0: nsig extraction failed: You may experience throttling for some formats\n",
      "         Install PhantomJS to workaround the issue. Please download it from https://phantomjs.org/download.html\n",
      "         n = S65LD3_xmk3C5N ; player = https://www.youtube.com/s/player/97ea7458/player_ias.vflset/en_US/base.js\n"
     ]
    },
    {
     "name": "stdout",
     "output_type": "stream",
     "text": [
      "get random frame\n",
      "*973-974\n",
      "h9f5eTREW-0\n",
      "yt-dlp -S res:720,ext:mp4,fps:24 -c --recode mp4 --download-sections *973-974 https://www.youtube.com/watch?v=h9f5eTREW-0 --output spamham_samples/h9f5eTREW-0.mp4 --retries infinite --fragment-retries infinite && ffmpeg -i spamham_samples/h9f5eTREW-0.mp4 -r 1 -vframes 1 -f image2 -q:v 1 spamham_samples/frames/h9f5eTREW-0.%03d.jpeg -y && del spamham_samples\\h9f5eTREW-0.mp4\n",
      "running donwload, extract, delete cmd...0\n",
      "add file to sources\n",
      "label frame\n",
      "|LiXK_jtPhV4|\n",
      "get vid info\n",
      "[youtube] Extracting URL: https://www.youtube.com/watch?v=LiXK_jtPhV4\n",
      "[youtube] LiXK_jtPhV4: Downloading webpage\n",
      "[youtube] LiXK_jtPhV4: Downloading android player API JSON\n",
      "[youtube] LiXK_jtPhV4: Downloading MPD manifest\n",
      "get random frame\n",
      "*707-708\n",
      "LiXK_jtPhV4\n",
      "yt-dlp -S res:720,ext:mp4,fps:24 -c --recode mp4 --download-sections *707-708 https://www.youtube.com/watch?v=LiXK_jtPhV4 --output spamham_samples/LiXK_jtPhV4.mp4 --retries infinite --fragment-retries infinite && ffmpeg -i spamham_samples/LiXK_jtPhV4.mp4 -r 1 -vframes 1 -f image2 -q:v 1 spamham_samples/frames/LiXK_jtPhV4.%03d.jpeg -y && del spamham_samples\\LiXK_jtPhV4.mp4\n",
      "running donwload, extract, delete cmd...0\n",
      "add file to sources\n",
      "label frame\n",
      "|-uKVdTR4D0M|\n",
      "get vid info\n",
      "[youtube] Extracting URL: https://www.youtube.com/watch?v=-uKVdTR4D0M\n",
      "[youtube] -uKVdTR4D0M: Downloading webpage\n",
      "[youtube] -uKVdTR4D0M: Downloading android player API JSON\n",
      "[youtube] -uKVdTR4D0M: Downloading MPD manifest\n",
      "get random frame\n",
      "*816-817\n",
      "-uKVdTR4D0M\n",
      "yt-dlp -S res:720,ext:mp4,fps:24 -c --recode mp4 --download-sections *816-817 https://www.youtube.com/watch?v=-uKVdTR4D0M --output spamham_samples/-uKVdTR4D0M.mp4 --retries infinite --fragment-retries infinite && ffmpeg -i spamham_samples/-uKVdTR4D0M.mp4 -r 1 -vframes 1 -f image2 -q:v 1 spamham_samples/frames/-uKVdTR4D0M.%03d.jpeg -y && del spamham_samples\\-uKVdTR4D0M.mp4\n",
      "running donwload, extract, delete cmd...1\n",
      "add file to sources\n",
      "label frame\n",
      "|6sVGiLLrhBM|\n",
      "get vid info\n",
      "[youtube] Extracting URL: https://www.youtube.com/watch?v=6sVGiLLrhBM\n",
      "[youtube] 6sVGiLLrhBM: Downloading webpage\n",
      "[youtube] 6sVGiLLrhBM: Downloading android player API JSON\n",
      "[youtube] 6sVGiLLrhBM: Downloading MPD manifest\n",
      "get random frame\n",
      "*1419-1420\n",
      "6sVGiLLrhBM\n",
      "yt-dlp -S res:720,ext:mp4,fps:24 -c --recode mp4 --download-sections *1419-1420 https://www.youtube.com/watch?v=6sVGiLLrhBM --output spamham_samples/6sVGiLLrhBM.mp4 --retries infinite --fragment-retries infinite && ffmpeg -i spamham_samples/6sVGiLLrhBM.mp4 -r 1 -vframes 1 -f image2 -q:v 1 spamham_samples/frames/6sVGiLLrhBM.%03d.jpeg -y && del spamham_samples\\6sVGiLLrhBM.mp4\n",
      "running donwload, extract, delete cmd...1\n",
      "add file to sources\n",
      "label frame\n",
      "|WY__it0vUdk|\n",
      "get vid info\n",
      "[youtube] Extracting URL: https://www.youtube.com/watch?v=WY__it0vUdk\n",
      "[youtube] WY__it0vUdk: Downloading webpage\n",
      "[youtube] WY__it0vUdk: Downloading android player API JSON\n",
      "[youtube] WY__it0vUdk: Downloading MPD manifest\n",
      "get random frame\n",
      "*1360-1361\n",
      "WY__it0vUdk\n",
      "yt-dlp -S res:720,ext:mp4,fps:24 -c --recode mp4 --download-sections *1360-1361 https://www.youtube.com/watch?v=WY__it0vUdk --output spamham_samples/WY__it0vUdk.mp4 --retries infinite --fragment-retries infinite && ffmpeg -i spamham_samples/WY__it0vUdk.mp4 -r 1 -vframes 1 -f image2 -q:v 1 spamham_samples/frames/WY__it0vUdk.%03d.jpeg -y && del spamham_samples\\WY__it0vUdk.mp4\n",
      "running donwload, extract, delete cmd...1\n",
      "add file to sources\n",
      "label frame\n",
      "|jBC6iqV0D5M|\n",
      "get vid info\n",
      "[youtube] Extracting URL: https://www.youtube.com/watch?v=jBC6iqV0D5M\n",
      "[youtube] jBC6iqV0D5M: Downloading webpage\n",
      "[youtube] jBC6iqV0D5M: Downloading android player API JSON\n",
      "[youtube] jBC6iqV0D5M: Downloading MPD manifest\n",
      "get random frame\n",
      "*1360-1361\n",
      "jBC6iqV0D5M\n",
      "yt-dlp -S res:720,ext:mp4,fps:24 -c --recode mp4 --download-sections *1360-1361 https://www.youtube.com/watch?v=jBC6iqV0D5M --output spamham_samples/jBC6iqV0D5M.mp4 --retries infinite --fragment-retries infinite && ffmpeg -i spamham_samples/jBC6iqV0D5M.mp4 -r 1 -vframes 1 -f image2 -q:v 1 spamham_samples/frames/jBC6iqV0D5M.%03d.jpeg -y && del spamham_samples\\jBC6iqV0D5M.mp4\n",
      "running donwload, extract, delete cmd...1\n",
      "add file to sources\n",
      "label frame\n",
      "|O_asIi69b-Y|\n",
      "get vid info\n",
      "[youtube] Extracting URL: https://www.youtube.com/watch?v=O_asIi69b-Y\n",
      "[youtube] O_asIi69b-Y: Downloading webpage\n",
      "[youtube] O_asIi69b-Y: Downloading android player API JSON\n",
      "[youtube] O_asIi69b-Y: Downloading MPD manifest\n",
      "get random frame\n",
      "*615-616\n",
      "O_asIi69b-Y\n",
      "yt-dlp -S res:720,ext:mp4,fps:24 -c --recode mp4 --download-sections *615-616 https://www.youtube.com/watch?v=O_asIi69b-Y --output spamham_samples/O_asIi69b-Y.mp4 --retries infinite --fragment-retries infinite && ffmpeg -i spamham_samples/O_asIi69b-Y.mp4 -r 1 -vframes 1 -f image2 -q:v 1 spamham_samples/frames/O_asIi69b-Y.%03d.jpeg -y && del spamham_samples\\O_asIi69b-Y.mp4\n",
      "running donwload, extract, delete cmd...1\n",
      "add file to sources\n",
      "label frame\n",
      "|APm14XlxN_c|\n",
      "get vid info\n",
      "[youtube] Extracting URL: https://www.youtube.com/watch?v=APm14XlxN_c\n",
      "[youtube] APm14XlxN_c: Downloading webpage\n",
      "[youtube] APm14XlxN_c: Downloading android player API JSON\n",
      "[youtube] APm14XlxN_c: Downloading MPD manifest\n",
      "get random frame\n",
      "*8806-8807\n",
      "APm14XlxN_c\n",
      "yt-dlp -S res:720,ext:mp4,fps:24 -c --recode mp4 --download-sections *8806-8807 https://www.youtube.com/watch?v=APm14XlxN_c --output spamham_samples/APm14XlxN_c.mp4 --retries infinite --fragment-retries infinite && ffmpeg -i spamham_samples/APm14XlxN_c.mp4 -r 1 -vframes 1 -f image2 -q:v 1 spamham_samples/frames/APm14XlxN_c.%03d.jpeg -y && del spamham_samples\\APm14XlxN_c.mp4\n",
      "running donwload, extract, delete cmd...1\n",
      "add file to sources\n",
      "label frame\n",
      "|jbu9uzaaycU|\n",
      "get vid info\n",
      "[youtube] Extracting URL: https://www.youtube.com/watch?v=jbu9uzaaycU\n",
      "[youtube] jbu9uzaaycU: Downloading webpage\n",
      "[youtube] jbu9uzaaycU: Downloading android player API JSON\n",
      "[youtube] jbu9uzaaycU: Downloading MPD manifest\n",
      "get random frame\n",
      "*2773-2774\n",
      "jbu9uzaaycU\n",
      "yt-dlp -S res:720,ext:mp4,fps:24 -c --recode mp4 --download-sections *2773-2774 https://www.youtube.com/watch?v=jbu9uzaaycU --output spamham_samples/jbu9uzaaycU.mp4 --retries infinite --fragment-retries infinite && ffmpeg -i spamham_samples/jbu9uzaaycU.mp4 -r 1 -vframes 1 -f image2 -q:v 1 spamham_samples/frames/jbu9uzaaycU.%03d.jpeg -y && del spamham_samples\\jbu9uzaaycU.mp4\n",
      "running donwload, extract, delete cmd...1\n",
      "add file to sources\n",
      "label frame\n",
      "|wVfYxc4eavs|\n",
      "get vid info\n",
      "[youtube] Extracting URL: https://www.youtube.com/watch?v=wVfYxc4eavs\n",
      "[youtube] wVfYxc4eavs: Downloading webpage\n",
      "[youtube] wVfYxc4eavs: Downloading android player API JSON\n",
      "[youtube] wVfYxc4eavs: Downloading MPD manifest\n",
      "get random frame\n",
      "*600-601\n",
      "wVfYxc4eavs\n",
      "yt-dlp -S res:720,ext:mp4,fps:24 -c --recode mp4 --download-sections *600-601 https://www.youtube.com/watch?v=wVfYxc4eavs --output spamham_samples/wVfYxc4eavs.mp4 --retries infinite --fragment-retries infinite && ffmpeg -i spamham_samples/wVfYxc4eavs.mp4 -r 1 -vframes 1 -f image2 -q:v 1 spamham_samples/frames/wVfYxc4eavs.%03d.jpeg -y && del spamham_samples\\wVfYxc4eavs.mp4\n",
      "running donwload, extract, delete cmd...1\n",
      "add file to sources\n",
      "label frame\n",
      "|0F7CuSvuvSY|\n",
      "get vid info\n",
      "[youtube] Extracting URL: https://www.youtube.com/watch?v=0F7CuSvuvSY\n",
      "[youtube] 0F7CuSvuvSY: Downloading webpage\n",
      "[youtube] 0F7CuSvuvSY: Downloading android player API JSON\n"
     ]
    },
    {
     "name": "stderr",
     "output_type": "stream",
     "text": [
      "WARNING: [youtube] 0F7CuSvuvSY: nsig extraction failed: You may experience throttling for some formats\n",
      "         Install PhantomJS to workaround the issue. Please download it from https://phantomjs.org/download.html\n",
      "         n = UG52PCrY-gcEhw ; player = https://www.youtube.com/s/player/97ea7458/player_ias.vflset/en_US/base.js\n"
     ]
    },
    {
     "name": "stdout",
     "output_type": "stream",
     "text": [
      "get random frame\n",
      "*86-87\n",
      "0F7CuSvuvSY\n",
      "yt-dlp -S res:720,ext:mp4,fps:24 -c --recode mp4 --download-sections *86-87 https://www.youtube.com/watch?v=0F7CuSvuvSY --output spamham_samples/0F7CuSvuvSY.mp4 --retries infinite --fragment-retries infinite && ffmpeg -i spamham_samples/0F7CuSvuvSY.mp4 -r 1 -vframes 1 -f image2 -q:v 1 spamham_samples/frames/0F7CuSvuvSY.%03d.jpeg -y && del spamham_samples\\0F7CuSvuvSY.mp4\n",
      "running donwload, extract, delete cmd...0\n",
      "add file to sources\n",
      "label frame\n",
      "|WvJJb9ioLqc|\n",
      "get vid info\n",
      "[youtube] Extracting URL: https://www.youtube.com/watch?v=WvJJb9ioLqc\n",
      "[youtube] WvJJb9ioLqc: Downloading webpage\n",
      "[youtube] WvJJb9ioLqc: Downloading android player API JSON\n"
     ]
    },
    {
     "name": "stderr",
     "output_type": "stream",
     "text": [
      "WARNING: [youtube] WvJJb9ioLqc: nsig extraction failed: You may experience throttling for some formats\n",
      "         Install PhantomJS to workaround the issue. Please download it from https://phantomjs.org/download.html\n",
      "         n = Jv79o_CymVKpoS ; player = https://www.youtube.com/s/player/97ea7458/player_ias.vflset/en_US/base.js\n"
     ]
    },
    {
     "name": "stdout",
     "output_type": "stream",
     "text": [
      "get random frame\n",
      "*400-401\n",
      "WvJJb9ioLqc\n",
      "yt-dlp -S res:720,ext:mp4,fps:24 -c --recode mp4 --download-sections *400-401 https://www.youtube.com/watch?v=WvJJb9ioLqc --output spamham_samples/WvJJb9ioLqc.mp4 --retries infinite --fragment-retries infinite && ffmpeg -i spamham_samples/WvJJb9ioLqc.mp4 -r 1 -vframes 1 -f image2 -q:v 1 spamham_samples/frames/WvJJb9ioLqc.%03d.jpeg -y && del spamham_samples\\WvJJb9ioLqc.mp4\n",
      "running donwload, extract, delete cmd...0\n",
      "add file to sources\n",
      "label frame\n",
      "|qxf8u560a4M|\n",
      "get vid info\n",
      "[youtube] Extracting URL: https://www.youtube.com/watch?v=qxf8u560a4M\n",
      "[youtube] qxf8u560a4M: Downloading webpage\n",
      "[youtube] qxf8u560a4M: Downloading android player API JSON\n"
     ]
    },
    {
     "name": "stderr",
     "output_type": "stream",
     "text": [
      "WARNING: [youtube] qxf8u560a4M: nsig extraction failed: You may experience throttling for some formats\n",
      "         Install PhantomJS to workaround the issue. Please download it from https://phantomjs.org/download.html\n",
      "         n = a1axHx0yQZxqT1 ; player = https://www.youtube.com/s/player/97ea7458/player_ias.vflset/en_US/base.js\n"
     ]
    },
    {
     "name": "stdout",
     "output_type": "stream",
     "text": [
      "get random frame\n",
      "*159-160\n",
      "qxf8u560a4M\n",
      "yt-dlp -S res:720,ext:mp4,fps:24 -c --recode mp4 --download-sections *159-160 https://www.youtube.com/watch?v=qxf8u560a4M --output spamham_samples/qxf8u560a4M.mp4 --retries infinite --fragment-retries infinite && ffmpeg -i spamham_samples/qxf8u560a4M.mp4 -r 1 -vframes 1 -f image2 -q:v 1 spamham_samples/frames/qxf8u560a4M.%03d.jpeg -y && del spamham_samples\\qxf8u560a4M.mp4\n",
      "running donwload, extract, delete cmd...0\n",
      "add file to sources\n",
      "label frame\n",
      "|vFWVTHwnOO4|\n",
      "get vid info\n",
      "[youtube] Extracting URL: https://www.youtube.com/watch?v=vFWVTHwnOO4\n",
      "[youtube] vFWVTHwnOO4: Downloading webpage\n",
      "[youtube] vFWVTHwnOO4: Downloading android player API JSON\n"
     ]
    },
    {
     "name": "stderr",
     "output_type": "stream",
     "text": [
      "WARNING: [youtube] vFWVTHwnOO4: nsig extraction failed: You may experience throttling for some formats\n",
      "         Install PhantomJS to workaround the issue. Please download it from https://phantomjs.org/download.html\n",
      "         n = dMfpec9-vkA9PV ; player = https://www.youtube.com/s/player/97ea7458/player_ias.vflset/en_US/base.js\n"
     ]
    },
    {
     "name": "stdout",
     "output_type": "stream",
     "text": [
      "get random frame\n",
      "*607-608\n",
      "vFWVTHwnOO4\n",
      "yt-dlp -S res:720,ext:mp4,fps:24 -c --recode mp4 --download-sections *607-608 https://www.youtube.com/watch?v=vFWVTHwnOO4 --output spamham_samples/vFWVTHwnOO4.mp4 --retries infinite --fragment-retries infinite && ffmpeg -i spamham_samples/vFWVTHwnOO4.mp4 -r 1 -vframes 1 -f image2 -q:v 1 spamham_samples/frames/vFWVTHwnOO4.%03d.jpeg -y && del spamham_samples\\vFWVTHwnOO4.mp4\n",
      "running donwload, extract, delete cmd...0\n",
      "add file to sources\n",
      "label frame\n",
      "|AuK2SyIGarI|\n",
      "get vid info\n",
      "[youtube] Extracting URL: https://www.youtube.com/watch?v=AuK2SyIGarI\n",
      "[youtube] AuK2SyIGarI: Downloading webpage\n",
      "[youtube] AuK2SyIGarI: Downloading android player API JSON\n"
     ]
    },
    {
     "name": "stderr",
     "output_type": "stream",
     "text": [
      "WARNING: [youtube] AuK2SyIGarI: nsig extraction failed: You may experience throttling for some formats\n",
      "         Install PhantomJS to workaround the issue. Please download it from https://phantomjs.org/download.html\n",
      "         n = 3sc5jJ9e40fn1j ; player = https://www.youtube.com/s/player/97ea7458/player_ias.vflset/en_US/base.js\n"
     ]
    },
    {
     "name": "stdout",
     "output_type": "stream",
     "text": [
      "get random frame\n",
      "*1374-1375\n",
      "AuK2SyIGarI\n",
      "yt-dlp -S res:720,ext:mp4,fps:24 -c --recode mp4 --download-sections *1374-1375 https://www.youtube.com/watch?v=AuK2SyIGarI --output spamham_samples/AuK2SyIGarI.mp4 --retries infinite --fragment-retries infinite && ffmpeg -i spamham_samples/AuK2SyIGarI.mp4 -r 1 -vframes 1 -f image2 -q:v 1 spamham_samples/frames/AuK2SyIGarI.%03d.jpeg -y && del spamham_samples\\AuK2SyIGarI.mp4\n",
      "running donwload, extract, delete cmd...0\n",
      "add file to sources\n",
      "label frame\n",
      "|Nx9NyI0Ooe8|\n",
      "get vid info\n",
      "[youtube] Extracting URL: https://www.youtube.com/watch?v=Nx9NyI0Ooe8\n",
      "[youtube] Nx9NyI0Ooe8: Downloading webpage\n",
      "[youtube] Nx9NyI0Ooe8: Downloading android player API JSON\n"
     ]
    },
    {
     "name": "stderr",
     "output_type": "stream",
     "text": [
      "WARNING: [youtube] Nx9NyI0Ooe8: nsig extraction failed: You may experience throttling for some formats\n",
      "         Install PhantomJS to workaround the issue. Please download it from https://phantomjs.org/download.html\n",
      "         n = mBAue_f0DVM25a ; player = https://www.youtube.com/s/player/97ea7458/player_ias.vflset/en_US/base.js\n"
     ]
    },
    {
     "name": "stdout",
     "output_type": "stream",
     "text": [
      "get random frame\n",
      "*125-126\n",
      "Nx9NyI0Ooe8\n",
      "yt-dlp -S res:720,ext:mp4,fps:24 -c --recode mp4 --download-sections *125-126 https://www.youtube.com/watch?v=Nx9NyI0Ooe8 --output spamham_samples/Nx9NyI0Ooe8.mp4 --retries infinite --fragment-retries infinite && ffmpeg -i spamham_samples/Nx9NyI0Ooe8.mp4 -r 1 -vframes 1 -f image2 -q:v 1 spamham_samples/frames/Nx9NyI0Ooe8.%03d.jpeg -y && del spamham_samples\\Nx9NyI0Ooe8.mp4\n",
      "running donwload, extract, delete cmd...0\n",
      "add file to sources\n",
      "label frame\n",
      "|rRHJ1athB7w|\n",
      "get vid info\n",
      "[youtube] Extracting URL: https://www.youtube.com/watch?v=rRHJ1athB7w\n",
      "[youtube] rRHJ1athB7w: Downloading webpage\n",
      "[youtube] rRHJ1athB7w: Downloading android player API JSON\n"
     ]
    },
    {
     "name": "stderr",
     "output_type": "stream",
     "text": [
      "WARNING: [youtube] rRHJ1athB7w: nsig extraction failed: You may experience throttling for some formats\n",
      "         Install PhantomJS to workaround the issue. Please download it from https://phantomjs.org/download.html\n",
      "         n = p_3o4-4fqIb5gL ; player = https://www.youtube.com/s/player/97ea7458/player_ias.vflset/en_US/base.js\n"
     ]
    },
    {
     "name": "stdout",
     "output_type": "stream",
     "text": [
      "get random frame\n",
      "*1767-1768\n",
      "rRHJ1athB7w\n",
      "yt-dlp -S res:720,ext:mp4,fps:24 -c --recode mp4 --download-sections *1767-1768 https://www.youtube.com/watch?v=rRHJ1athB7w --output spamham_samples/rRHJ1athB7w.mp4 --retries infinite --fragment-retries infinite && ffmpeg -i spamham_samples/rRHJ1athB7w.mp4 -r 1 -vframes 1 -f image2 -q:v 1 spamham_samples/frames/rRHJ1athB7w.%03d.jpeg -y && del spamham_samples\\rRHJ1athB7w.mp4\n",
      "running donwload, extract, delete cmd...0\n",
      "add file to sources\n",
      "label frame\n",
      "|akavyfeoQIY|\n",
      "get vid info\n",
      "[youtube] Extracting URL: https://www.youtube.com/watch?v=akavyfeoQIY\n",
      "[youtube] akavyfeoQIY: Downloading webpage\n",
      "[youtube] akavyfeoQIY: Downloading android player API JSON\n"
     ]
    },
    {
     "name": "stderr",
     "output_type": "stream",
     "text": [
      "WARNING: [youtube] akavyfeoQIY: nsig extraction failed: You may experience throttling for some formats\n",
      "         Install PhantomJS to workaround the issue. Please download it from https://phantomjs.org/download.html\n",
      "         n = NHcndO6Om809Et ; player = https://www.youtube.com/s/player/97ea7458/player_ias.vflset/en_US/base.js\n"
     ]
    },
    {
     "name": "stdout",
     "output_type": "stream",
     "text": [
      "get random frame\n",
      "*197-198\n",
      "akavyfeoQIY\n",
      "yt-dlp -S res:720,ext:mp4,fps:24 -c --recode mp4 --download-sections *197-198 https://www.youtube.com/watch?v=akavyfeoQIY --output spamham_samples/akavyfeoQIY.mp4 --retries infinite --fragment-retries infinite && ffmpeg -i spamham_samples/akavyfeoQIY.mp4 -r 1 -vframes 1 -f image2 -q:v 1 spamham_samples/frames/akavyfeoQIY.%03d.jpeg -y && del spamham_samples\\akavyfeoQIY.mp4\n",
      "running donwload, extract, delete cmd...0\n",
      "add file to sources\n",
      "label frame\n",
      "|SfHb3ZDvq8U|\n",
      "get vid info\n",
      "[youtube] Extracting URL: https://www.youtube.com/watch?v=SfHb3ZDvq8U\n",
      "[youtube] SfHb3ZDvq8U: Downloading webpage\n",
      "[youtube] SfHb3ZDvq8U: Downloading android player API JSON\n"
     ]
    },
    {
     "name": "stderr",
     "output_type": "stream",
     "text": [
      "WARNING: [youtube] SfHb3ZDvq8U: nsig extraction failed: You may experience throttling for some formats\n",
      "         Install PhantomJS to workaround the issue. Please download it from https://phantomjs.org/download.html\n",
      "         n = la3wIjgHVVnllL ; player = https://www.youtube.com/s/player/97ea7458/player_ias.vflset/en_US/base.js\n"
     ]
    },
    {
     "name": "stdout",
     "output_type": "stream",
     "text": [
      "get random frame\n",
      "*1093-1094\n",
      "SfHb3ZDvq8U\n",
      "yt-dlp -S res:720,ext:mp4,fps:24 -c --recode mp4 --download-sections *1093-1094 https://www.youtube.com/watch?v=SfHb3ZDvq8U --output spamham_samples/SfHb3ZDvq8U.mp4 --retries infinite --fragment-retries infinite && ffmpeg -i spamham_samples/SfHb3ZDvq8U.mp4 -r 1 -vframes 1 -f image2 -q:v 1 spamham_samples/frames/SfHb3ZDvq8U.%03d.jpeg -y && del spamham_samples\\SfHb3ZDvq8U.mp4\n",
      "running donwload, extract, delete cmd...0\n",
      "add file to sources\n",
      "label frame\n",
      "|HLKJKUEqRTM|\n",
      "get vid info\n",
      "[youtube] Extracting URL: https://www.youtube.com/watch?v=HLKJKUEqRTM\n",
      "[youtube] HLKJKUEqRTM: Downloading webpage\n",
      "[youtube] HLKJKUEqRTM: Downloading android player API JSON\n"
     ]
    },
    {
     "name": "stderr",
     "output_type": "stream",
     "text": [
      "WARNING: [youtube] HLKJKUEqRTM: nsig extraction failed: You may experience throttling for some formats\n",
      "         Install PhantomJS to workaround the issue. Please download it from https://phantomjs.org/download.html\n",
      "         n = cnj8IabBLKhMf8 ; player = https://www.youtube.com/s/player/97ea7458/player_ias.vflset/en_US/base.js\n"
     ]
    },
    {
     "name": "stdout",
     "output_type": "stream",
     "text": [
      "get random frame\n",
      "*1121-1122\n",
      "HLKJKUEqRTM\n",
      "yt-dlp -S res:720,ext:mp4,fps:24 -c --recode mp4 --download-sections *1121-1122 https://www.youtube.com/watch?v=HLKJKUEqRTM --output spamham_samples/HLKJKUEqRTM.mp4 --retries infinite --fragment-retries infinite && ffmpeg -i spamham_samples/HLKJKUEqRTM.mp4 -r 1 -vframes 1 -f image2 -q:v 1 spamham_samples/frames/HLKJKUEqRTM.%03d.jpeg -y && del spamham_samples\\HLKJKUEqRTM.mp4\n",
      "running donwload, extract, delete cmd...0\n",
      "add file to sources\n",
      "label frame\n",
      "|5c8g5OHW6-0|\n",
      "get vid info\n",
      "[youtube] Extracting URL: https://www.youtube.com/watch?v=5c8g5OHW6-0\n",
      "[youtube] 5c8g5OHW6-0: Downloading webpage\n",
      "[youtube] 5c8g5OHW6-0: Downloading android player API JSON\n"
     ]
    },
    {
     "name": "stderr",
     "output_type": "stream",
     "text": [
      "WARNING: [youtube] 5c8g5OHW6-0: nsig extraction failed: You may experience throttling for some formats\n",
      "         Install PhantomJS to workaround the issue. Please download it from https://phantomjs.org/download.html\n",
      "         n = o8YjtP8bFzP4sc ; player = https://www.youtube.com/s/player/97ea7458/player_ias.vflset/en_US/base.js\n"
     ]
    },
    {
     "name": "stdout",
     "output_type": "stream",
     "text": [
      "get random frame\n",
      "*1333-1334\n",
      "5c8g5OHW6-0\n",
      "yt-dlp -S res:720,ext:mp4,fps:24 -c --recode mp4 --download-sections *1333-1334 https://www.youtube.com/watch?v=5c8g5OHW6-0 --output spamham_samples/5c8g5OHW6-0.mp4 --retries infinite --fragment-retries infinite && ffmpeg -i spamham_samples/5c8g5OHW6-0.mp4 -r 1 -vframes 1 -f image2 -q:v 1 spamham_samples/frames/5c8g5OHW6-0.%03d.jpeg -y && del spamham_samples\\5c8g5OHW6-0.mp4\n",
      "running donwload, extract, delete cmd...0\n",
      "add file to sources\n",
      "label frame\n",
      "|3ihU3waXSNM|\n",
      "get vid info\n",
      "[youtube] Extracting URL: https://www.youtube.com/watch?v=3ihU3waXSNM\n",
      "[youtube] 3ihU3waXSNM: Downloading webpage\n",
      "[youtube] 3ihU3waXSNM: Downloading android player API JSON\n"
     ]
    },
    {
     "name": "stderr",
     "output_type": "stream",
     "text": [
      "WARNING: [youtube] 3ihU3waXSNM: nsig extraction failed: You may experience throttling for some formats\n",
      "         Install PhantomJS to workaround the issue. Please download it from https://phantomjs.org/download.html\n",
      "         n = tRzEhXf77cEtdt ; player = https://www.youtube.com/s/player/97ea7458/player_ias.vflset/en_US/base.js\n"
     ]
    },
    {
     "name": "stdout",
     "output_type": "stream",
     "text": [
      "get random frame\n",
      "*1401-1402\n",
      "3ihU3waXSNM\n",
      "yt-dlp -S res:720,ext:mp4,fps:24 -c --recode mp4 --download-sections *1401-1402 https://www.youtube.com/watch?v=3ihU3waXSNM --output spamham_samples/3ihU3waXSNM.mp4 --retries infinite --fragment-retries infinite && ffmpeg -i spamham_samples/3ihU3waXSNM.mp4 -r 1 -vframes 1 -f image2 -q:v 1 spamham_samples/frames/3ihU3waXSNM.%03d.jpeg -y && del spamham_samples\\3ihU3waXSNM.mp4\n",
      "running donwload, extract, delete cmd...0\n",
      "add file to sources\n",
      "label frame\n",
      "|Xwwj5ulnm8E|\n",
      "get vid info\n",
      "[youtube] Extracting URL: https://www.youtube.com/watch?v=Xwwj5ulnm8E\n",
      "[youtube] Xwwj5ulnm8E: Downloading webpage\n",
      "[youtube] Xwwj5ulnm8E: Downloading android player API JSON\n"
     ]
    },
    {
     "name": "stderr",
     "output_type": "stream",
     "text": [
      "WARNING: [youtube] Xwwj5ulnm8E: nsig extraction failed: You may experience throttling for some formats\n",
      "         Install PhantomJS to workaround the issue. Please download it from https://phantomjs.org/download.html\n",
      "         n = DFUXANGPX_ZjT- ; player = https://www.youtube.com/s/player/97ea7458/player_ias.vflset/en_US/base.js\n"
     ]
    },
    {
     "name": "stdout",
     "output_type": "stream",
     "text": [
      "get random frame\n",
      "*919-920\n",
      "Xwwj5ulnm8E\n",
      "yt-dlp -S res:720,ext:mp4,fps:24 -c --recode mp4 --download-sections *919-920 https://www.youtube.com/watch?v=Xwwj5ulnm8E --output spamham_samples/Xwwj5ulnm8E.mp4 --retries infinite --fragment-retries infinite && ffmpeg -i spamham_samples/Xwwj5ulnm8E.mp4 -r 1 -vframes 1 -f image2 -q:v 1 spamham_samples/frames/Xwwj5ulnm8E.%03d.jpeg -y && del spamham_samples\\Xwwj5ulnm8E.mp4\n",
      "running donwload, extract, delete cmd...0\n",
      "add file to sources\n",
      "label frame\n",
      "|E_U8siR86BI|\n",
      "get vid info\n",
      "[youtube] Extracting URL: https://www.youtube.com/watch?v=E_U8siR86BI\n",
      "[youtube] E_U8siR86BI: Downloading webpage\n",
      "[youtube] E_U8siR86BI: Downloading android player API JSON\n"
     ]
    },
    {
     "name": "stderr",
     "output_type": "stream",
     "text": [
      "WARNING: [youtube] E_U8siR86BI: nsig extraction failed: You may experience throttling for some formats\n",
      "         Install PhantomJS to workaround the issue. Please download it from https://phantomjs.org/download.html\n",
      "         n = 3b4Q8FsBRvgn4T ; player = https://www.youtube.com/s/player/97ea7458/player_ias.vflset/en_US/base.js\n"
     ]
    },
    {
     "name": "stdout",
     "output_type": "stream",
     "text": [
      "get random frame\n",
      "*1161-1162\n",
      "E_U8siR86BI\n",
      "yt-dlp -S res:720,ext:mp4,fps:24 -c --recode mp4 --download-sections *1161-1162 https://www.youtube.com/watch?v=E_U8siR86BI --output spamham_samples/E_U8siR86BI.mp4 --retries infinite --fragment-retries infinite && ffmpeg -i spamham_samples/E_U8siR86BI.mp4 -r 1 -vframes 1 -f image2 -q:v 1 spamham_samples/frames/E_U8siR86BI.%03d.jpeg -y && del spamham_samples\\E_U8siR86BI.mp4\n",
      "running donwload, extract, delete cmd...0\n",
      "add file to sources\n",
      "label frame\n",
      "|KmlJ70vGPdA|\n",
      "get vid info\n",
      "[youtube] Extracting URL: https://www.youtube.com/watch?v=KmlJ70vGPdA\n",
      "[youtube] KmlJ70vGPdA: Downloading webpage\n",
      "[youtube] KmlJ70vGPdA: Downloading android player API JSON\n"
     ]
    },
    {
     "name": "stderr",
     "output_type": "stream",
     "text": [
      "WARNING: [youtube] KmlJ70vGPdA: nsig extraction failed: You may experience throttling for some formats\n",
      "         Install PhantomJS to workaround the issue. Please download it from https://phantomjs.org/download.html\n",
      "         n = F9Lr5hmTzTaFQp ; player = https://www.youtube.com/s/player/97ea7458/player_ias.vflset/en_US/base.js\n"
     ]
    },
    {
     "name": "stdout",
     "output_type": "stream",
     "text": [
      "get random frame\n",
      "*742-743\n",
      "KmlJ70vGPdA\n",
      "yt-dlp -S res:720,ext:mp4,fps:24 -c --recode mp4 --download-sections *742-743 https://www.youtube.com/watch?v=KmlJ70vGPdA --output spamham_samples/KmlJ70vGPdA.mp4 --retries infinite --fragment-retries infinite && ffmpeg -i spamham_samples/KmlJ70vGPdA.mp4 -r 1 -vframes 1 -f image2 -q:v 1 spamham_samples/frames/KmlJ70vGPdA.%03d.jpeg -y && del spamham_samples\\KmlJ70vGPdA.mp4\n",
      "running donwload, extract, delete cmd...0\n",
      "add file to sources\n",
      "label frame\n",
      "|6xuYLmAZ2Pk|\n",
      "get vid info\n",
      "[youtube] Extracting URL: https://www.youtube.com/watch?v=6xuYLmAZ2Pk\n",
      "[youtube] 6xuYLmAZ2Pk: Downloading webpage\n",
      "[youtube] 6xuYLmAZ2Pk: Downloading android player API JSON\n"
     ]
    },
    {
     "name": "stderr",
     "output_type": "stream",
     "text": [
      "WARNING: [youtube] 6xuYLmAZ2Pk: nsig extraction failed: You may experience throttling for some formats\n",
      "         Install PhantomJS to workaround the issue. Please download it from https://phantomjs.org/download.html\n",
      "         n = A0e39p1tqbTw_P ; player = https://www.youtube.com/s/player/97ea7458/player_ias.vflset/en_US/base.js\n"
     ]
    },
    {
     "name": "stdout",
     "output_type": "stream",
     "text": [
      "get random frame\n",
      "*1893-1894\n",
      "6xuYLmAZ2Pk\n",
      "yt-dlp -S res:720,ext:mp4,fps:24 -c --recode mp4 --download-sections *1893-1894 https://www.youtube.com/watch?v=6xuYLmAZ2Pk --output spamham_samples/6xuYLmAZ2Pk.mp4 --retries infinite --fragment-retries infinite && ffmpeg -i spamham_samples/6xuYLmAZ2Pk.mp4 -r 1 -vframes 1 -f image2 -q:v 1 spamham_samples/frames/6xuYLmAZ2Pk.%03d.jpeg -y && del spamham_samples\\6xuYLmAZ2Pk.mp4\n",
      "running donwload, extract, delete cmd...0\n",
      "add file to sources\n",
      "label frame\n",
      "|szjfBGAS1N8|\n",
      "get vid info\n",
      "[youtube] Extracting URL: https://www.youtube.com/watch?v=szjfBGAS1N8\n",
      "[youtube] szjfBGAS1N8: Downloading webpage\n",
      "[youtube] szjfBGAS1N8: Downloading android player API JSON\n"
     ]
    },
    {
     "name": "stderr",
     "output_type": "stream",
     "text": [
      "WARNING: [youtube] szjfBGAS1N8: nsig extraction failed: You may experience throttling for some formats\n",
      "         Install PhantomJS to workaround the issue. Please download it from https://phantomjs.org/download.html\n",
      "         n = 80zXarRDCvh8Qo ; player = https://www.youtube.com/s/player/97ea7458/player_ias.vflset/en_US/base.js\n"
     ]
    },
    {
     "name": "stdout",
     "output_type": "stream",
     "text": [
      "get random frame\n",
      "*1236-1237\n",
      "szjfBGAS1N8\n",
      "yt-dlp -S res:720,ext:mp4,fps:24 -c --recode mp4 --download-sections *1236-1237 https://www.youtube.com/watch?v=szjfBGAS1N8 --output spamham_samples/szjfBGAS1N8.mp4 --retries infinite --fragment-retries infinite && ffmpeg -i spamham_samples/szjfBGAS1N8.mp4 -r 1 -vframes 1 -f image2 -q:v 1 spamham_samples/frames/szjfBGAS1N8.%03d.jpeg -y && del spamham_samples\\szjfBGAS1N8.mp4\n",
      "running donwload, extract, delete cmd...0\n",
      "add file to sources\n",
      "label frame\n",
      "|1RpXdgVkJYI|\n",
      "get vid info\n",
      "[youtube] Extracting URL: https://www.youtube.com/watch?v=1RpXdgVkJYI\n",
      "[youtube] 1RpXdgVkJYI: Downloading webpage\n",
      "[youtube] 1RpXdgVkJYI: Downloading android player API JSON\n"
     ]
    },
    {
     "name": "stderr",
     "output_type": "stream",
     "text": [
      "WARNING: [youtube] 1RpXdgVkJYI: nsig extraction failed: You may experience throttling for some formats\n",
      "         Install PhantomJS to workaround the issue. Please download it from https://phantomjs.org/download.html\n",
      "         n = YwEaIUkfztqY02 ; player = https://www.youtube.com/s/player/97ea7458/player_ias.vflset/en_US/base.js\n"
     ]
    },
    {
     "name": "stdout",
     "output_type": "stream",
     "text": [
      "get random frame\n",
      "*316-317\n",
      "1RpXdgVkJYI\n",
      "yt-dlp -S res:720,ext:mp4,fps:24 -c --recode mp4 --download-sections *316-317 https://www.youtube.com/watch?v=1RpXdgVkJYI --output spamham_samples/1RpXdgVkJYI.mp4 --retries infinite --fragment-retries infinite && ffmpeg -i spamham_samples/1RpXdgVkJYI.mp4 -r 1 -vframes 1 -f image2 -q:v 1 spamham_samples/frames/1RpXdgVkJYI.%03d.jpeg -y && del spamham_samples\\1RpXdgVkJYI.mp4\n",
      "running donwload, extract, delete cmd...0\n",
      "add file to sources\n",
      "label frame\n",
      "|nZk_FA9Qx5k|\n",
      "get vid info\n",
      "[youtube] Extracting URL: https://www.youtube.com/watch?v=nZk_FA9Qx5k\n",
      "[youtube] nZk_FA9Qx5k: Downloading webpage\n",
      "[youtube] nZk_FA9Qx5k: Downloading android player API JSON\n"
     ]
    },
    {
     "name": "stderr",
     "output_type": "stream",
     "text": [
      "WARNING: [youtube] nZk_FA9Qx5k: nsig extraction failed: You may experience throttling for some formats\n",
      "         Install PhantomJS to workaround the issue. Please download it from https://phantomjs.org/download.html\n",
      "         n = ctcDChehsGh8SS ; player = https://www.youtube.com/s/player/97ea7458/player_ias.vflset/en_US/base.js\n"
     ]
    },
    {
     "name": "stdout",
     "output_type": "stream",
     "text": [
      "get random frame\n",
      "*1160-1161\n",
      "nZk_FA9Qx5k\n",
      "yt-dlp -S res:720,ext:mp4,fps:24 -c --recode mp4 --download-sections *1160-1161 https://www.youtube.com/watch?v=nZk_FA9Qx5k --output spamham_samples/nZk_FA9Qx5k.mp4 --retries infinite --fragment-retries infinite && ffmpeg -i spamham_samples/nZk_FA9Qx5k.mp4 -r 1 -vframes 1 -f image2 -q:v 1 spamham_samples/frames/nZk_FA9Qx5k.%03d.jpeg -y && del spamham_samples\\nZk_FA9Qx5k.mp4\n",
      "running donwload, extract, delete cmd...0\n",
      "add file to sources\n",
      "label frame\n",
      "|9A6m2daf3dY|\n",
      "get vid info\n",
      "[youtube] Extracting URL: https://www.youtube.com/watch?v=9A6m2daf3dY\n",
      "[youtube] 9A6m2daf3dY: Downloading webpage\n",
      "[youtube] 9A6m2daf3dY: Downloading android player API JSON\n"
     ]
    },
    {
     "name": "stderr",
     "output_type": "stream",
     "text": [
      "WARNING: [youtube] 9A6m2daf3dY: nsig extraction failed: You may experience throttling for some formats\n",
      "         Install PhantomJS to workaround the issue. Please download it from https://phantomjs.org/download.html\n",
      "         n = PZUbgoYZgMsfaO ; player = https://www.youtube.com/s/player/97ea7458/player_ias.vflset/en_US/base.js\n"
     ]
    },
    {
     "name": "stdout",
     "output_type": "stream",
     "text": [
      "get random frame\n",
      "*363-364\n",
      "9A6m2daf3dY\n",
      "yt-dlp -S res:720,ext:mp4,fps:24 -c --recode mp4 --download-sections *363-364 https://www.youtube.com/watch?v=9A6m2daf3dY --output spamham_samples/9A6m2daf3dY.mp4 --retries infinite --fragment-retries infinite && ffmpeg -i spamham_samples/9A6m2daf3dY.mp4 -r 1 -vframes 1 -f image2 -q:v 1 spamham_samples/frames/9A6m2daf3dY.%03d.jpeg -y && del spamham_samples\\9A6m2daf3dY.mp4\n",
      "running donwload, extract, delete cmd...0\n",
      "add file to sources\n",
      "label frame\n",
      "|3fIT4X1Xfpo|\n",
      "get vid info\n",
      "[youtube] Extracting URL: https://www.youtube.com/watch?v=3fIT4X1Xfpo\n",
      "[youtube] 3fIT4X1Xfpo: Downloading webpage\n",
      "[youtube] 3fIT4X1Xfpo: Downloading android player API JSON\n"
     ]
    },
    {
     "name": "stderr",
     "output_type": "stream",
     "text": [
      "WARNING: [youtube] 3fIT4X1Xfpo: nsig extraction failed: You may experience throttling for some formats\n",
      "         Install PhantomJS to workaround the issue. Please download it from https://phantomjs.org/download.html\n",
      "         n = RukHP0lmMbgRLh ; player = https://www.youtube.com/s/player/97ea7458/player_ias.vflset/en_US/base.js\n"
     ]
    },
    {
     "name": "stdout",
     "output_type": "stream",
     "text": [
      "get random frame\n",
      "*1964-1965\n",
      "3fIT4X1Xfpo\n",
      "yt-dlp -S res:720,ext:mp4,fps:24 -c --recode mp4 --download-sections *1964-1965 https://www.youtube.com/watch?v=3fIT4X1Xfpo --output spamham_samples/3fIT4X1Xfpo.mp4 --retries infinite --fragment-retries infinite && ffmpeg -i spamham_samples/3fIT4X1Xfpo.mp4 -r 1 -vframes 1 -f image2 -q:v 1 spamham_samples/frames/3fIT4X1Xfpo.%03d.jpeg -y && del spamham_samples\\3fIT4X1Xfpo.mp4\n",
      "running donwload, extract, delete cmd...0\n",
      "add file to sources\n",
      "label frame\n",
      "|ihvnye908ug|\n",
      "get vid info\n",
      "[youtube] Extracting URL: https://www.youtube.com/watch?v=ihvnye908ug\n",
      "[youtube] ihvnye908ug: Downloading webpage\n",
      "[youtube] ihvnye908ug: Downloading android player API JSON\n"
     ]
    },
    {
     "name": "stderr",
     "output_type": "stream",
     "text": [
      "WARNING: [youtube] ihvnye908ug: nsig extraction failed: You may experience throttling for some formats\n",
      "         Install PhantomJS to workaround the issue. Please download it from https://phantomjs.org/download.html\n",
      "         n = TBSy7eJqIb2DbS ; player = https://www.youtube.com/s/player/97ea7458/player_ias.vflset/en_US/base.js\n"
     ]
    },
    {
     "name": "stdout",
     "output_type": "stream",
     "text": [
      "get random frame\n",
      "*155-156\n",
      "ihvnye908ug\n",
      "yt-dlp -S res:720,ext:mp4,fps:24 -c --recode mp4 --download-sections *155-156 https://www.youtube.com/watch?v=ihvnye908ug --output spamham_samples/ihvnye908ug.mp4 --retries infinite --fragment-retries infinite && ffmpeg -i spamham_samples/ihvnye908ug.mp4 -r 1 -vframes 1 -f image2 -q:v 1 spamham_samples/frames/ihvnye908ug.%03d.jpeg -y && del spamham_samples\\ihvnye908ug.mp4\n",
      "running donwload, extract, delete cmd...0\n",
      "add file to sources\n",
      "label frame\n",
      "|4rM80bnYOR0|\n",
      "get vid info\n",
      "[youtube] Extracting URL: https://www.youtube.com/watch?v=4rM80bnYOR0\n",
      "[youtube] 4rM80bnYOR0: Downloading webpage\n",
      "[youtube] 4rM80bnYOR0: Downloading android player API JSON\n"
     ]
    },
    {
     "name": "stderr",
     "output_type": "stream",
     "text": [
      "WARNING: [youtube] 4rM80bnYOR0: nsig extraction failed: You may experience throttling for some formats\n",
      "         Install PhantomJS to workaround the issue. Please download it from https://phantomjs.org/download.html\n",
      "         n = XxidqcEbxXBH8n ; player = https://www.youtube.com/s/player/97ea7458/player_ias.vflset/en_US/base.js\n"
     ]
    },
    {
     "name": "stdout",
     "output_type": "stream",
     "text": [
      "get random frame\n",
      "*345-346\n",
      "4rM80bnYOR0\n",
      "yt-dlp -S res:720,ext:mp4,fps:24 -c --recode mp4 --download-sections *345-346 https://www.youtube.com/watch?v=4rM80bnYOR0 --output spamham_samples/4rM80bnYOR0.mp4 --retries infinite --fragment-retries infinite && ffmpeg -i spamham_samples/4rM80bnYOR0.mp4 -r 1 -vframes 1 -f image2 -q:v 1 spamham_samples/frames/4rM80bnYOR0.%03d.jpeg -y && del spamham_samples\\4rM80bnYOR0.mp4\n",
      "running donwload, extract, delete cmd...0\n",
      "add file to sources\n",
      "label frame\n",
      "|mFGWFptCwVs|\n",
      "get vid info\n",
      "[youtube] Extracting URL: https://www.youtube.com/watch?v=mFGWFptCwVs\n",
      "[youtube] mFGWFptCwVs: Downloading webpage\n",
      "[youtube] mFGWFptCwVs: Downloading android player API JSON\n"
     ]
    },
    {
     "name": "stderr",
     "output_type": "stream",
     "text": [
      "WARNING: [youtube] mFGWFptCwVs: nsig extraction failed: You may experience throttling for some formats\n",
      "         Install PhantomJS to workaround the issue. Please download it from https://phantomjs.org/download.html\n",
      "         n = PI6dJkDRo1tf3I ; player = https://www.youtube.com/s/player/97ea7458/player_ias.vflset/en_US/base.js\n"
     ]
    },
    {
     "name": "stdout",
     "output_type": "stream",
     "text": [
      "get random frame\n",
      "*1010-1011\n",
      "mFGWFptCwVs\n",
      "yt-dlp -S res:720,ext:mp4,fps:24 -c --recode mp4 --download-sections *1010-1011 https://www.youtube.com/watch?v=mFGWFptCwVs --output spamham_samples/mFGWFptCwVs.mp4 --retries infinite --fragment-retries infinite && ffmpeg -i spamham_samples/mFGWFptCwVs.mp4 -r 1 -vframes 1 -f image2 -q:v 1 spamham_samples/frames/mFGWFptCwVs.%03d.jpeg -y && del spamham_samples\\mFGWFptCwVs.mp4\n",
      "running donwload, extract, delete cmd...0\n",
      "add file to sources\n",
      "label frame\n",
      "|nqrRyFdIh8c|\n",
      "get vid info\n",
      "[youtube] Extracting URL: https://www.youtube.com/watch?v=nqrRyFdIh8c\n",
      "[youtube] nqrRyFdIh8c: Downloading webpage\n",
      "[youtube] nqrRyFdIh8c: Downloading android player API JSON\n"
     ]
    },
    {
     "name": "stderr",
     "output_type": "stream",
     "text": [
      "WARNING: [youtube] nqrRyFdIh8c: nsig extraction failed: You may experience throttling for some formats\n",
      "         Install PhantomJS to workaround the issue. Please download it from https://phantomjs.org/download.html\n",
      "         n = SoEjcTfLzWPyeP ; player = https://www.youtube.com/s/player/97ea7458/player_ias.vflset/en_US/base.js\n"
     ]
    },
    {
     "name": "stdout",
     "output_type": "stream",
     "text": [
      "get random frame\n",
      "*2110-2111\n",
      "nqrRyFdIh8c\n",
      "yt-dlp -S res:720,ext:mp4,fps:24 -c --recode mp4 --download-sections *2110-2111 https://www.youtube.com/watch?v=nqrRyFdIh8c --output spamham_samples/nqrRyFdIh8c.mp4 --retries infinite --fragment-retries infinite && ffmpeg -i spamham_samples/nqrRyFdIh8c.mp4 -r 1 -vframes 1 -f image2 -q:v 1 spamham_samples/frames/nqrRyFdIh8c.%03d.jpeg -y && del spamham_samples\\nqrRyFdIh8c.mp4\n",
      "running donwload, extract, delete cmd...0\n",
      "add file to sources\n",
      "label frame\n",
      "|2ZhJ2fWfXME|\n",
      "get vid info\n",
      "[youtube] Extracting URL: https://www.youtube.com/watch?v=2ZhJ2fWfXME\n",
      "[youtube] 2ZhJ2fWfXME: Downloading webpage\n",
      "[youtube] 2ZhJ2fWfXME: Downloading android player API JSON\n"
     ]
    },
    {
     "name": "stderr",
     "output_type": "stream",
     "text": [
      "WARNING: [youtube] 2ZhJ2fWfXME: nsig extraction failed: You may experience throttling for some formats\n",
      "         Install PhantomJS to workaround the issue. Please download it from https://phantomjs.org/download.html\n",
      "         n = zNupBGTT7AjDc2 ; player = https://www.youtube.com/s/player/97ea7458/player_ias.vflset/en_US/base.js\n"
     ]
    },
    {
     "name": "stdout",
     "output_type": "stream",
     "text": [
      "get random frame\n",
      "*151-152\n",
      "2ZhJ2fWfXME\n",
      "yt-dlp -S res:720,ext:mp4,fps:24 -c --recode mp4 --download-sections *151-152 https://www.youtube.com/watch?v=2ZhJ2fWfXME --output spamham_samples/2ZhJ2fWfXME.mp4 --retries infinite --fragment-retries infinite && ffmpeg -i spamham_samples/2ZhJ2fWfXME.mp4 -r 1 -vframes 1 -f image2 -q:v 1 spamham_samples/frames/2ZhJ2fWfXME.%03d.jpeg -y && del spamham_samples\\2ZhJ2fWfXME.mp4\n",
      "running donwload, extract, delete cmd...0\n",
      "add file to sources\n",
      "label frame\n",
      "|Y2teBEZlTZs|\n",
      "get vid info\n",
      "[youtube] Extracting URL: https://www.youtube.com/watch?v=Y2teBEZlTZs\n",
      "[youtube] Y2teBEZlTZs: Downloading webpage\n",
      "[youtube] Y2teBEZlTZs: Downloading android player API JSON\n"
     ]
    },
    {
     "name": "stderr",
     "output_type": "stream",
     "text": [
      "WARNING: [youtube] Y2teBEZlTZs: nsig extraction failed: You may experience throttling for some formats\n",
      "         Install PhantomJS to workaround the issue. Please download it from https://phantomjs.org/download.html\n",
      "         n = Bk0Ozhiwj2FBzM ; player = https://www.youtube.com/s/player/97ea7458/player_ias.vflset/en_US/base.js\n"
     ]
    },
    {
     "name": "stdout",
     "output_type": "stream",
     "text": [
      "get random frame\n",
      "*803-804\n",
      "Y2teBEZlTZs\n",
      "yt-dlp -S res:720,ext:mp4,fps:24 -c --recode mp4 --download-sections *803-804 https://www.youtube.com/watch?v=Y2teBEZlTZs --output spamham_samples/Y2teBEZlTZs.mp4 --retries infinite --fragment-retries infinite && ffmpeg -i spamham_samples/Y2teBEZlTZs.mp4 -r 1 -vframes 1 -f image2 -q:v 1 spamham_samples/frames/Y2teBEZlTZs.%03d.jpeg -y && del spamham_samples\\Y2teBEZlTZs.mp4\n",
      "running donwload, extract, delete cmd...0\n",
      "add file to sources\n",
      "label frame\n",
      "|1k7Cr6zDaqk|\n",
      "get vid info\n",
      "[youtube] Extracting URL: https://www.youtube.com/watch?v=1k7Cr6zDaqk\n",
      "[youtube] 1k7Cr6zDaqk: Downloading webpage\n",
      "[youtube] 1k7Cr6zDaqk: Downloading android player API JSON\n"
     ]
    },
    {
     "name": "stderr",
     "output_type": "stream",
     "text": [
      "WARNING: [youtube] 1k7Cr6zDaqk: nsig extraction failed: You may experience throttling for some formats\n",
      "         Install PhantomJS to workaround the issue. Please download it from https://phantomjs.org/download.html\n",
      "         n = ZvK0EZCWJTiJnI ; player = https://www.youtube.com/s/player/97ea7458/player_ias.vflset/en_US/base.js\n"
     ]
    },
    {
     "name": "stdout",
     "output_type": "stream",
     "text": [
      "get random frame\n",
      "*263-264\n",
      "1k7Cr6zDaqk\n",
      "yt-dlp -S res:720,ext:mp4,fps:24 -c --recode mp4 --download-sections *263-264 https://www.youtube.com/watch?v=1k7Cr6zDaqk --output spamham_samples/1k7Cr6zDaqk.mp4 --retries infinite --fragment-retries infinite && ffmpeg -i spamham_samples/1k7Cr6zDaqk.mp4 -r 1 -vframes 1 -f image2 -q:v 1 spamham_samples/frames/1k7Cr6zDaqk.%03d.jpeg -y && del spamham_samples\\1k7Cr6zDaqk.mp4\n",
      "running donwload, extract, delete cmd...0\n",
      "add file to sources\n",
      "label frame\n",
      "|w3jLrFxkHvk|\n",
      "get vid info\n",
      "[youtube] Extracting URL: https://www.youtube.com/watch?v=w3jLrFxkHvk\n",
      "[youtube] w3jLrFxkHvk: Downloading webpage\n",
      "[youtube] w3jLrFxkHvk: Downloading android player API JSON\n"
     ]
    },
    {
     "name": "stderr",
     "output_type": "stream",
     "text": [
      "WARNING: [youtube] w3jLrFxkHvk: nsig extraction failed: You may experience throttling for some formats\n",
      "         Install PhantomJS to workaround the issue. Please download it from https://phantomjs.org/download.html\n",
      "         n = GOz4E0Rrm2625_ ; player = https://www.youtube.com/s/player/97ea7458/player_ias.vflset/en_US/base.js\n"
     ]
    },
    {
     "name": "stdout",
     "output_type": "stream",
     "text": [
      "get random frame\n",
      "*592-593\n",
      "w3jLrFxkHvk\n",
      "yt-dlp -S res:720,ext:mp4,fps:24 -c --recode mp4 --download-sections *592-593 https://www.youtube.com/watch?v=w3jLrFxkHvk --output spamham_samples/w3jLrFxkHvk.mp4 --retries infinite --fragment-retries infinite && ffmpeg -i spamham_samples/w3jLrFxkHvk.mp4 -r 1 -vframes 1 -f image2 -q:v 1 spamham_samples/frames/w3jLrFxkHvk.%03d.jpeg -y && del spamham_samples\\w3jLrFxkHvk.mp4\n",
      "running donwload, extract, delete cmd...0\n",
      "add file to sources\n",
      "label frame\n",
      "|aZHosPQSvKE|\n",
      "get vid info\n",
      "[youtube] Extracting URL: https://www.youtube.com/watch?v=aZHosPQSvKE\n",
      "[youtube] aZHosPQSvKE: Downloading webpage\n",
      "[youtube] aZHosPQSvKE: Downloading android player API JSON\n"
     ]
    },
    {
     "name": "stderr",
     "output_type": "stream",
     "text": [
      "WARNING: [youtube] aZHosPQSvKE: nsig extraction failed: You may experience throttling for some formats\n",
      "         Install PhantomJS to workaround the issue. Please download it from https://phantomjs.org/download.html\n",
      "         n = BmvQ46EKd5nRM8 ; player = https://www.youtube.com/s/player/97ea7458/player_ias.vflset/en_US/base.js\n"
     ]
    },
    {
     "name": "stdout",
     "output_type": "stream",
     "text": [
      "get random frame\n",
      "*519-520\n",
      "aZHosPQSvKE\n",
      "yt-dlp -S res:720,ext:mp4,fps:24 -c --recode mp4 --download-sections *519-520 https://www.youtube.com/watch?v=aZHosPQSvKE --output spamham_samples/aZHosPQSvKE.mp4 --retries infinite --fragment-retries infinite && ffmpeg -i spamham_samples/aZHosPQSvKE.mp4 -r 1 -vframes 1 -f image2 -q:v 1 spamham_samples/frames/aZHosPQSvKE.%03d.jpeg -y && del spamham_samples\\aZHosPQSvKE.mp4\n",
      "running donwload, extract, delete cmd...0\n",
      "add file to sources\n",
      "label frame\n",
      "|sVF_JfBmF30|\n",
      "get vid info\n",
      "[youtube] Extracting URL: https://www.youtube.com/watch?v=sVF_JfBmF30\n",
      "[youtube] sVF_JfBmF30: Downloading webpage\n",
      "[youtube] sVF_JfBmF30: Downloading android player API JSON\n"
     ]
    },
    {
     "name": "stderr",
     "output_type": "stream",
     "text": [
      "WARNING: [youtube] sVF_JfBmF30: nsig extraction failed: You may experience throttling for some formats\n",
      "         Install PhantomJS to workaround the issue. Please download it from https://phantomjs.org/download.html\n",
      "         n = Fgj3rdgyJB9lNt ; player = https://www.youtube.com/s/player/97ea7458/player_ias.vflset/en_US/base.js\n"
     ]
    },
    {
     "name": "stdout",
     "output_type": "stream",
     "text": [
      "get random frame\n",
      "*947-948\n",
      "sVF_JfBmF30\n",
      "yt-dlp -S res:720,ext:mp4,fps:24 -c --recode mp4 --download-sections *947-948 https://www.youtube.com/watch?v=sVF_JfBmF30 --output spamham_samples/sVF_JfBmF30.mp4 --retries infinite --fragment-retries infinite && ffmpeg -i spamham_samples/sVF_JfBmF30.mp4 -r 1 -vframes 1 -f image2 -q:v 1 spamham_samples/frames/sVF_JfBmF30.%03d.jpeg -y && del spamham_samples\\sVF_JfBmF30.mp4\n",
      "running donwload, extract, delete cmd...0\n",
      "add file to sources\n",
      "label frame\n",
      "|aGmZC20bqxg|\n",
      "get vid info\n",
      "[youtube] Extracting URL: https://www.youtube.com/watch?v=aGmZC20bqxg\n",
      "[youtube] aGmZC20bqxg: Downloading webpage\n",
      "[youtube] aGmZC20bqxg: Downloading android player API JSON\n"
     ]
    },
    {
     "name": "stderr",
     "output_type": "stream",
     "text": [
      "WARNING: [youtube] aGmZC20bqxg: nsig extraction failed: You may experience throttling for some formats\n",
      "         Install PhantomJS to workaround the issue. Please download it from https://phantomjs.org/download.html\n",
      "         n = b7bpgmjytA1r0d ; player = https://www.youtube.com/s/player/97ea7458/player_ias.vflset/en_US/base.js\n"
     ]
    },
    {
     "name": "stdout",
     "output_type": "stream",
     "text": [
      "get random frame\n",
      "*626-627\n",
      "aGmZC20bqxg\n",
      "yt-dlp -S res:720,ext:mp4,fps:24 -c --recode mp4 --download-sections *626-627 https://www.youtube.com/watch?v=aGmZC20bqxg --output spamham_samples/aGmZC20bqxg.mp4 --retries infinite --fragment-retries infinite && ffmpeg -i spamham_samples/aGmZC20bqxg.mp4 -r 1 -vframes 1 -f image2 -q:v 1 spamham_samples/frames/aGmZC20bqxg.%03d.jpeg -y && del spamham_samples\\aGmZC20bqxg.mp4\n",
      "running donwload, extract, delete cmd...0\n",
      "add file to sources\n",
      "label frame\n",
      "|4lvV3QzBkoM|\n",
      "get vid info\n",
      "[youtube] Extracting URL: https://www.youtube.com/watch?v=4lvV3QzBkoM\n",
      "[youtube] 4lvV3QzBkoM: Downloading webpage\n",
      "[youtube] 4lvV3QzBkoM: Downloading android player API JSON\n"
     ]
    },
    {
     "name": "stderr",
     "output_type": "stream",
     "text": [
      "WARNING: [youtube] 4lvV3QzBkoM: nsig extraction failed: You may experience throttling for some formats\n",
      "         Install PhantomJS to workaround the issue. Please download it from https://phantomjs.org/download.html\n",
      "         n = xxIDScmzqJmBBM ; player = https://www.youtube.com/s/player/97ea7458/player_ias.vflset/en_US/base.js\n"
     ]
    },
    {
     "name": "stdout",
     "output_type": "stream",
     "text": [
      "get random frame\n",
      "*1137-1138\n",
      "4lvV3QzBkoM\n",
      "yt-dlp -S res:720,ext:mp4,fps:24 -c --recode mp4 --download-sections *1137-1138 https://www.youtube.com/watch?v=4lvV3QzBkoM --output spamham_samples/4lvV3QzBkoM.mp4 --retries infinite --fragment-retries infinite && ffmpeg -i spamham_samples/4lvV3QzBkoM.mp4 -r 1 -vframes 1 -f image2 -q:v 1 spamham_samples/frames/4lvV3QzBkoM.%03d.jpeg -y && del spamham_samples\\4lvV3QzBkoM.mp4\n",
      "running donwload, extract, delete cmd...0\n",
      "add file to sources\n",
      "label frame\n",
      "|UYRykcqGue0|\n",
      "get vid info\n",
      "[youtube] Extracting URL: https://www.youtube.com/watch?v=UYRykcqGue0\n",
      "[youtube] UYRykcqGue0: Downloading webpage\n",
      "[youtube] UYRykcqGue0: Downloading android player API JSON\n"
     ]
    },
    {
     "name": "stderr",
     "output_type": "stream",
     "text": [
      "WARNING: [youtube] UYRykcqGue0: nsig extraction failed: You may experience throttling for some formats\n",
      "         Install PhantomJS to workaround the issue. Please download it from https://phantomjs.org/download.html\n",
      "         n = xfpR6i-Dz9NRvy ; player = https://www.youtube.com/s/player/97ea7458/player_ias.vflset/en_US/base.js\n"
     ]
    },
    {
     "name": "stdout",
     "output_type": "stream",
     "text": [
      "get random frame\n",
      "*1372-1373\n",
      "UYRykcqGue0\n",
      "yt-dlp -S res:720,ext:mp4,fps:24 -c --recode mp4 --download-sections *1372-1373 https://www.youtube.com/watch?v=UYRykcqGue0 --output spamham_samples/UYRykcqGue0.mp4 --retries infinite --fragment-retries infinite && ffmpeg -i spamham_samples/UYRykcqGue0.mp4 -r 1 -vframes 1 -f image2 -q:v 1 spamham_samples/frames/UYRykcqGue0.%03d.jpeg -y && del spamham_samples\\UYRykcqGue0.mp4\n",
      "running donwload, extract, delete cmd...0\n",
      "add file to sources\n",
      "label frame\n",
      "|FvPpSHeOwfs|\n",
      "get vid info\n",
      "[youtube] Extracting URL: https://www.youtube.com/watch?v=FvPpSHeOwfs\n",
      "[youtube] FvPpSHeOwfs: Downloading webpage\n",
      "[youtube] FvPpSHeOwfs: Downloading android player API JSON\n"
     ]
    },
    {
     "name": "stderr",
     "output_type": "stream",
     "text": [
      "WARNING: [youtube] FvPpSHeOwfs: nsig extraction failed: You may experience throttling for some formats\n",
      "         Install PhantomJS to workaround the issue. Please download it from https://phantomjs.org/download.html\n",
      "         n = jkjOTnriyCIjuQ ; player = https://www.youtube.com/s/player/97ea7458/player_ias.vflset/en_US/base.js\n"
     ]
    },
    {
     "name": "stdout",
     "output_type": "stream",
     "text": [
      "get random frame\n",
      "*1096-1097\n",
      "FvPpSHeOwfs\n",
      "yt-dlp -S res:720,ext:mp4,fps:24 -c --recode mp4 --download-sections *1096-1097 https://www.youtube.com/watch?v=FvPpSHeOwfs --output spamham_samples/FvPpSHeOwfs.mp4 --retries infinite --fragment-retries infinite && ffmpeg -i spamham_samples/FvPpSHeOwfs.mp4 -r 1 -vframes 1 -f image2 -q:v 1 spamham_samples/frames/FvPpSHeOwfs.%03d.jpeg -y && del spamham_samples\\FvPpSHeOwfs.mp4\n",
      "running donwload, extract, delete cmd...0\n",
      "add file to sources\n",
      "label frame\n",
      "|8JWucmaeaEM|\n",
      "get vid info\n",
      "[youtube] Extracting URL: https://www.youtube.com/watch?v=8JWucmaeaEM\n",
      "[youtube] 8JWucmaeaEM: Downloading webpage\n",
      "[youtube] 8JWucmaeaEM: Downloading android player API JSON\n"
     ]
    },
    {
     "name": "stderr",
     "output_type": "stream",
     "text": [
      "WARNING: [youtube] 8JWucmaeaEM: nsig extraction failed: You may experience throttling for some formats\n",
      "         Install PhantomJS to workaround the issue. Please download it from https://phantomjs.org/download.html\n",
      "         n = dJtLzLQfj3c9oG ; player = https://www.youtube.com/s/player/97ea7458/player_ias.vflset/en_US/base.js\n"
     ]
    },
    {
     "name": "stdout",
     "output_type": "stream",
     "text": [
      "get random frame\n",
      "*410-411\n",
      "8JWucmaeaEM\n",
      "yt-dlp -S res:720,ext:mp4,fps:24 -c --recode mp4 --download-sections *410-411 https://www.youtube.com/watch?v=8JWucmaeaEM --output spamham_samples/8JWucmaeaEM.mp4 --retries infinite --fragment-retries infinite && ffmpeg -i spamham_samples/8JWucmaeaEM.mp4 -r 1 -vframes 1 -f image2 -q:v 1 spamham_samples/frames/8JWucmaeaEM.%03d.jpeg -y && del spamham_samples\\8JWucmaeaEM.mp4\n",
      "running donwload, extract, delete cmd...0\n",
      "add file to sources\n",
      "label frame\n",
      "|H17bq8OY_34|\n",
      "get vid info\n",
      "[youtube] Extracting URL: https://www.youtube.com/watch?v=H17bq8OY_34\n",
      "[youtube] H17bq8OY_34: Downloading webpage\n",
      "[youtube] H17bq8OY_34: Downloading android player API JSON\n"
     ]
    },
    {
     "name": "stderr",
     "output_type": "stream",
     "text": [
      "WARNING: [youtube] H17bq8OY_34: nsig extraction failed: You may experience throttling for some formats\n",
      "         Install PhantomJS to workaround the issue. Please download it from https://phantomjs.org/download.html\n",
      "         n = sXJiKIiXMFb8gF ; player = https://www.youtube.com/s/player/97ea7458/player_ias.vflset/en_US/base.js\n"
     ]
    },
    {
     "name": "stdout",
     "output_type": "stream",
     "text": [
      "get random frame\n",
      "*942-943\n",
      "H17bq8OY_34\n",
      "yt-dlp -S res:720,ext:mp4,fps:24 -c --recode mp4 --download-sections *942-943 https://www.youtube.com/watch?v=H17bq8OY_34 --output spamham_samples/H17bq8OY_34.mp4 --retries infinite --fragment-retries infinite && ffmpeg -i spamham_samples/H17bq8OY_34.mp4 -r 1 -vframes 1 -f image2 -q:v 1 spamham_samples/frames/H17bq8OY_34.%03d.jpeg -y && del spamham_samples\\H17bq8OY_34.mp4\n",
      "running donwload, extract, delete cmd...0\n",
      "add file to sources\n",
      "label frame\n",
      "|8Tga6YcXI8Q|\n",
      "get vid info\n",
      "[youtube] Extracting URL: https://www.youtube.com/watch?v=8Tga6YcXI8Q\n",
      "[youtube] 8Tga6YcXI8Q: Downloading webpage\n",
      "[youtube] 8Tga6YcXI8Q: Downloading android player API JSON\n"
     ]
    },
    {
     "name": "stderr",
     "output_type": "stream",
     "text": [
      "WARNING: [youtube] 8Tga6YcXI8Q: nsig extraction failed: You may experience throttling for some formats\n",
      "         Install PhantomJS to workaround the issue. Please download it from https://phantomjs.org/download.html\n",
      "         n = bF7ubKfodiBrgC ; player = https://www.youtube.com/s/player/97ea7458/player_ias.vflset/en_US/base.js\n"
     ]
    },
    {
     "name": "stdout",
     "output_type": "stream",
     "text": [
      "get random frame\n",
      "*870-871\n",
      "8Tga6YcXI8Q\n",
      "yt-dlp -S res:720,ext:mp4,fps:24 -c --recode mp4 --download-sections *870-871 https://www.youtube.com/watch?v=8Tga6YcXI8Q --output spamham_samples/8Tga6YcXI8Q.mp4 --retries infinite --fragment-retries infinite && ffmpeg -i spamham_samples/8Tga6YcXI8Q.mp4 -r 1 -vframes 1 -f image2 -q:v 1 spamham_samples/frames/8Tga6YcXI8Q.%03d.jpeg -y && del spamham_samples\\8Tga6YcXI8Q.mp4\n",
      "running donwload, extract, delete cmd...0\n",
      "add file to sources\n",
      "label frame\n",
      "|ZGxqTpDrgGk|\n",
      "get vid info\n",
      "[youtube] Extracting URL: https://www.youtube.com/watch?v=ZGxqTpDrgGk\n",
      "[youtube] ZGxqTpDrgGk: Downloading webpage\n",
      "[youtube] ZGxqTpDrgGk: Downloading android player API JSON\n"
     ]
    },
    {
     "name": "stderr",
     "output_type": "stream",
     "text": [
      "WARNING: [youtube] ZGxqTpDrgGk: nsig extraction failed: You may experience throttling for some formats\n",
      "         Install PhantomJS to workaround the issue. Please download it from https://phantomjs.org/download.html\n",
      "         n = KIWJAzyrs_7q_y ; player = https://www.youtube.com/s/player/97ea7458/player_ias.vflset/en_US/base.js\n"
     ]
    },
    {
     "name": "stdout",
     "output_type": "stream",
     "text": [
      "get random frame\n",
      "*1494-1495\n",
      "ZGxqTpDrgGk\n",
      "yt-dlp -S res:720,ext:mp4,fps:24 -c --recode mp4 --download-sections *1494-1495 https://www.youtube.com/watch?v=ZGxqTpDrgGk --output spamham_samples/ZGxqTpDrgGk.mp4 --retries infinite --fragment-retries infinite && ffmpeg -i spamham_samples/ZGxqTpDrgGk.mp4 -r 1 -vframes 1 -f image2 -q:v 1 spamham_samples/frames/ZGxqTpDrgGk.%03d.jpeg -y && del spamham_samples\\ZGxqTpDrgGk.mp4\n",
      "running donwload, extract, delete cmd...0\n",
      "add file to sources\n",
      "label frame\n",
      "|kIStRWvCA38|\n",
      "get vid info\n",
      "[youtube] Extracting URL: https://www.youtube.com/watch?v=kIStRWvCA38\n",
      "[youtube] kIStRWvCA38: Downloading webpage\n",
      "[youtube] kIStRWvCA38: Downloading android player API JSON\n"
     ]
    },
    {
     "name": "stderr",
     "output_type": "stream",
     "text": [
      "WARNING: [youtube] kIStRWvCA38: nsig extraction failed: You may experience throttling for some formats\n",
      "         Install PhantomJS to workaround the issue. Please download it from https://phantomjs.org/download.html\n",
      "         n = JZGwOUhx-urZWN ; player = https://www.youtube.com/s/player/97ea7458/player_ias.vflset/en_US/base.js\n"
     ]
    },
    {
     "name": "stdout",
     "output_type": "stream",
     "text": [
      "get random frame\n",
      "*1002-1003\n",
      "kIStRWvCA38\n",
      "yt-dlp -S res:720,ext:mp4,fps:24 -c --recode mp4 --download-sections *1002-1003 https://www.youtube.com/watch?v=kIStRWvCA38 --output spamham_samples/kIStRWvCA38.mp4 --retries infinite --fragment-retries infinite && ffmpeg -i spamham_samples/kIStRWvCA38.mp4 -r 1 -vframes 1 -f image2 -q:v 1 spamham_samples/frames/kIStRWvCA38.%03d.jpeg -y && del spamham_samples\\kIStRWvCA38.mp4\n",
      "running donwload, extract, delete cmd...0\n",
      "add file to sources\n",
      "label frame\n",
      "|6fF8VOLgjTs|\n",
      "get vid info\n",
      "[youtube] Extracting URL: https://www.youtube.com/watch?v=6fF8VOLgjTs\n",
      "[youtube] 6fF8VOLgjTs: Downloading webpage\n",
      "[youtube] 6fF8VOLgjTs: Downloading android player API JSON\n"
     ]
    },
    {
     "name": "stderr",
     "output_type": "stream",
     "text": [
      "WARNING: [youtube] 6fF8VOLgjTs: nsig extraction failed: You may experience throttling for some formats\n",
      "         Install PhantomJS to workaround the issue. Please download it from https://phantomjs.org/download.html\n",
      "         n = zjAi-pAQ0vhzeF ; player = https://www.youtube.com/s/player/97ea7458/player_ias.vflset/en_US/base.js\n"
     ]
    },
    {
     "name": "stdout",
     "output_type": "stream",
     "text": [
      "get random frame\n",
      "*497-498\n",
      "6fF8VOLgjTs\n",
      "yt-dlp -S res:720,ext:mp4,fps:24 -c --recode mp4 --download-sections *497-498 https://www.youtube.com/watch?v=6fF8VOLgjTs --output spamham_samples/6fF8VOLgjTs.mp4 --retries infinite --fragment-retries infinite && ffmpeg -i spamham_samples/6fF8VOLgjTs.mp4 -r 1 -vframes 1 -f image2 -q:v 1 spamham_samples/frames/6fF8VOLgjTs.%03d.jpeg -y && del spamham_samples\\6fF8VOLgjTs.mp4\n",
      "running donwload, extract, delete cmd...0\n",
      "add file to sources\n",
      "label frame\n",
      "|HwN9gsfb03k|\n",
      "get vid info\n",
      "[youtube] Extracting URL: https://www.youtube.com/watch?v=HwN9gsfb03k\n",
      "[youtube] HwN9gsfb03k: Downloading webpage\n",
      "[youtube] HwN9gsfb03k: Downloading android player API JSON\n"
     ]
    },
    {
     "name": "stderr",
     "output_type": "stream",
     "text": [
      "WARNING: [youtube] HwN9gsfb03k: nsig extraction failed: You may experience throttling for some formats\n",
      "         Install PhantomJS to workaround the issue. Please download it from https://phantomjs.org/download.html\n",
      "         n = 1AQhnPbQrxalEV ; player = https://www.youtube.com/s/player/97ea7458/player_ias.vflset/en_US/base.js\n"
     ]
    },
    {
     "name": "stdout",
     "output_type": "stream",
     "text": [
      "get random frame\n",
      "*1501-1502\n",
      "HwN9gsfb03k\n",
      "yt-dlp -S res:720,ext:mp4,fps:24 -c --recode mp4 --download-sections *1501-1502 https://www.youtube.com/watch?v=HwN9gsfb03k --output spamham_samples/HwN9gsfb03k.mp4 --retries infinite --fragment-retries infinite && ffmpeg -i spamham_samples/HwN9gsfb03k.mp4 -r 1 -vframes 1 -f image2 -q:v 1 spamham_samples/frames/HwN9gsfb03k.%03d.jpeg -y && del spamham_samples\\HwN9gsfb03k.mp4\n",
      "running donwload, extract, delete cmd...0\n",
      "add file to sources\n",
      "label frame\n",
      "|nTroYCFU_2M|\n",
      "get vid info\n",
      "[youtube] Extracting URL: https://www.youtube.com/watch?v=nTroYCFU_2M\n",
      "[youtube] nTroYCFU_2M: Downloading webpage\n",
      "[youtube] nTroYCFU_2M: Downloading android player API JSON\n"
     ]
    },
    {
     "name": "stderr",
     "output_type": "stream",
     "text": [
      "WARNING: [youtube] nTroYCFU_2M: nsig extraction failed: You may experience throttling for some formats\n",
      "         Install PhantomJS to workaround the issue. Please download it from https://phantomjs.org/download.html\n",
      "         n = WVxR4GB_j3o2X5 ; player = https://www.youtube.com/s/player/97ea7458/player_ias.vflset/en_US/base.js\n"
     ]
    },
    {
     "name": "stdout",
     "output_type": "stream",
     "text": [
      "get random frame\n",
      "*919-920\n",
      "nTroYCFU_2M\n",
      "yt-dlp -S res:720,ext:mp4,fps:24 -c --recode mp4 --download-sections *919-920 https://www.youtube.com/watch?v=nTroYCFU_2M --output spamham_samples/nTroYCFU_2M.mp4 --retries infinite --fragment-retries infinite && ffmpeg -i spamham_samples/nTroYCFU_2M.mp4 -r 1 -vframes 1 -f image2 -q:v 1 spamham_samples/frames/nTroYCFU_2M.%03d.jpeg -y && del spamham_samples\\nTroYCFU_2M.mp4\n",
      "running donwload, extract, delete cmd...0\n",
      "add file to sources\n",
      "label frame\n",
      "|0K1dy763WhA|\n",
      "get vid info\n",
      "[youtube] Extracting URL: https://www.youtube.com/watch?v=0K1dy763WhA\n",
      "[youtube] 0K1dy763WhA: Downloading webpage\n",
      "[youtube] 0K1dy763WhA: Downloading android player API JSON\n"
     ]
    },
    {
     "name": "stderr",
     "output_type": "stream",
     "text": [
      "WARNING: [youtube] 0K1dy763WhA: nsig extraction failed: You may experience throttling for some formats\n",
      "         Install PhantomJS to workaround the issue. Please download it from https://phantomjs.org/download.html\n",
      "         n = NQshzUdnCp4tzK ; player = https://www.youtube.com/s/player/97ea7458/player_ias.vflset/en_US/base.js\n"
     ]
    },
    {
     "name": "stdout",
     "output_type": "stream",
     "text": [
      "get random frame\n",
      "*1305-1306\n",
      "0K1dy763WhA\n",
      "yt-dlp -S res:720,ext:mp4,fps:24 -c --recode mp4 --download-sections *1305-1306 https://www.youtube.com/watch?v=0K1dy763WhA --output spamham_samples/0K1dy763WhA.mp4 --retries infinite --fragment-retries infinite && ffmpeg -i spamham_samples/0K1dy763WhA.mp4 -r 1 -vframes 1 -f image2 -q:v 1 spamham_samples/frames/0K1dy763WhA.%03d.jpeg -y && del spamham_samples\\0K1dy763WhA.mp4\n",
      "running donwload, extract, delete cmd...0\n",
      "add file to sources\n",
      "label frame\n",
      "|vGulozkgyfc|\n",
      "get vid info\n",
      "[youtube] Extracting URL: https://www.youtube.com/watch?v=vGulozkgyfc\n",
      "[youtube] vGulozkgyfc: Downloading webpage\n",
      "[youtube] vGulozkgyfc: Downloading android player API JSON\n"
     ]
    },
    {
     "name": "stderr",
     "output_type": "stream",
     "text": [
      "WARNING: [youtube] vGulozkgyfc: nsig extraction failed: You may experience throttling for some formats\n",
      "         Install PhantomJS to workaround the issue. Please download it from https://phantomjs.org/download.html\n",
      "         n = Ka1BkMMUjKLa85 ; player = https://www.youtube.com/s/player/97ea7458/player_ias.vflset/en_US/base.js\n"
     ]
    },
    {
     "name": "stdout",
     "output_type": "stream",
     "text": [
      "get random frame\n",
      "*599-600\n",
      "vGulozkgyfc\n",
      "yt-dlp -S res:720,ext:mp4,fps:24 -c --recode mp4 --download-sections *599-600 https://www.youtube.com/watch?v=vGulozkgyfc --output spamham_samples/vGulozkgyfc.mp4 --retries infinite --fragment-retries infinite && ffmpeg -i spamham_samples/vGulozkgyfc.mp4 -r 1 -vframes 1 -f image2 -q:v 1 spamham_samples/frames/vGulozkgyfc.%03d.jpeg -y && del spamham_samples\\vGulozkgyfc.mp4\n",
      "running donwload, extract, delete cmd...0\n",
      "add file to sources\n",
      "label frame\n",
      "|zXTKDHVEiKE|\n",
      "get vid info\n",
      "[youtube] Extracting URL: https://www.youtube.com/watch?v=zXTKDHVEiKE\n",
      "[youtube] zXTKDHVEiKE: Downloading webpage\n",
      "[youtube] zXTKDHVEiKE: Downloading android player API JSON\n"
     ]
    },
    {
     "name": "stderr",
     "output_type": "stream",
     "text": [
      "WARNING: [youtube] zXTKDHVEiKE: nsig extraction failed: You may experience throttling for some formats\n",
      "         Install PhantomJS to workaround the issue. Please download it from https://phantomjs.org/download.html\n",
      "         n = D2SgKPaTD6dTfK ; player = https://www.youtube.com/s/player/97ea7458/player_ias.vflset/en_US/base.js\n"
     ]
    },
    {
     "name": "stdout",
     "output_type": "stream",
     "text": [
      "get random frame\n",
      "*129-130\n",
      "zXTKDHVEiKE\n",
      "yt-dlp -S res:720,ext:mp4,fps:24 -c --recode mp4 --download-sections *129-130 https://www.youtube.com/watch?v=zXTKDHVEiKE --output spamham_samples/zXTKDHVEiKE.mp4 --retries infinite --fragment-retries infinite && ffmpeg -i spamham_samples/zXTKDHVEiKE.mp4 -r 1 -vframes 1 -f image2 -q:v 1 spamham_samples/frames/zXTKDHVEiKE.%03d.jpeg -y && del spamham_samples\\zXTKDHVEiKE.mp4\n",
      "running donwload, extract, delete cmd...0\n",
      "add file to sources\n",
      "label frame\n",
      "|ZTsQeKOU5LM|\n",
      "get vid info\n",
      "[youtube] Extracting URL: https://www.youtube.com/watch?v=ZTsQeKOU5LM\n",
      "[youtube] ZTsQeKOU5LM: Downloading webpage\n",
      "[youtube] ZTsQeKOU5LM: Downloading android player API JSON\n"
     ]
    },
    {
     "name": "stderr",
     "output_type": "stream",
     "text": [
      "WARNING: [youtube] ZTsQeKOU5LM: nsig extraction failed: You may experience throttling for some formats\n",
      "         Install PhantomJS to workaround the issue. Please download it from https://phantomjs.org/download.html\n",
      "         n = 0iskfrFZ4jyEy- ; player = https://www.youtube.com/s/player/97ea7458/player_ias.vflset/en_US/base.js\n"
     ]
    },
    {
     "name": "stdout",
     "output_type": "stream",
     "text": [
      "get random frame\n",
      "*1944-1945\n",
      "ZTsQeKOU5LM\n",
      "yt-dlp -S res:720,ext:mp4,fps:24 -c --recode mp4 --download-sections *1944-1945 https://www.youtube.com/watch?v=ZTsQeKOU5LM --output spamham_samples/ZTsQeKOU5LM.mp4 --retries infinite --fragment-retries infinite && ffmpeg -i spamham_samples/ZTsQeKOU5LM.mp4 -r 1 -vframes 1 -f image2 -q:v 1 spamham_samples/frames/ZTsQeKOU5LM.%03d.jpeg -y && del spamham_samples\\ZTsQeKOU5LM.mp4\n",
      "running donwload, extract, delete cmd...0\n",
      "add file to sources\n",
      "label frame\n",
      "|SM5T86yBhAo|\n",
      "get vid info\n",
      "[youtube] Extracting URL: https://www.youtube.com/watch?v=SM5T86yBhAo\n",
      "[youtube] SM5T86yBhAo: Downloading webpage\n",
      "[youtube] SM5T86yBhAo: Downloading android player API JSON\n"
     ]
    },
    {
     "name": "stderr",
     "output_type": "stream",
     "text": [
      "WARNING: [youtube] SM5T86yBhAo: nsig extraction failed: You may experience throttling for some formats\n",
      "         Install PhantomJS to workaround the issue. Please download it from https://phantomjs.org/download.html\n",
      "         n = BuMyL9ZtBaohZs ; player = https://www.youtube.com/s/player/97ea7458/player_ias.vflset/en_US/base.js\n"
     ]
    },
    {
     "name": "stdout",
     "output_type": "stream",
     "text": [
      "get random frame\n",
      "*2113-2114\n",
      "SM5T86yBhAo\n",
      "yt-dlp -S res:720,ext:mp4,fps:24 -c --recode mp4 --download-sections *2113-2114 https://www.youtube.com/watch?v=SM5T86yBhAo --output spamham_samples/SM5T86yBhAo.mp4 --retries infinite --fragment-retries infinite && ffmpeg -i spamham_samples/SM5T86yBhAo.mp4 -r 1 -vframes 1 -f image2 -q:v 1 spamham_samples/frames/SM5T86yBhAo.%03d.jpeg -y && del spamham_samples\\SM5T86yBhAo.mp4\n",
      "running donwload, extract, delete cmd...0\n",
      "add file to sources\n",
      "label frame\n",
      "|i-siSxwE_qI|\n",
      "get vid info\n",
      "[youtube] Extracting URL: https://www.youtube.com/watch?v=i-siSxwE_qI\n",
      "[youtube] i-siSxwE_qI: Downloading webpage\n",
      "[youtube] i-siSxwE_qI: Downloading android player API JSON\n"
     ]
    },
    {
     "name": "stderr",
     "output_type": "stream",
     "text": [
      "WARNING: [youtube] i-siSxwE_qI: nsig extraction failed: You may experience throttling for some formats\n",
      "         Install PhantomJS to workaround the issue. Please download it from https://phantomjs.org/download.html\n",
      "         n = HZPr0snjn9z3IU ; player = https://www.youtube.com/s/player/97ea7458/player_ias.vflset/en_US/base.js\n"
     ]
    },
    {
     "name": "stdout",
     "output_type": "stream",
     "text": [
      "get random frame\n",
      "*716-717\n",
      "i-siSxwE_qI\n",
      "yt-dlp -S res:720,ext:mp4,fps:24 -c --recode mp4 --download-sections *716-717 https://www.youtube.com/watch?v=i-siSxwE_qI --output spamham_samples/i-siSxwE_qI.mp4 --retries infinite --fragment-retries infinite && ffmpeg -i spamham_samples/i-siSxwE_qI.mp4 -r 1 -vframes 1 -f image2 -q:v 1 spamham_samples/frames/i-siSxwE_qI.%03d.jpeg -y && del spamham_samples\\i-siSxwE_qI.mp4\n",
      "running donwload, extract, delete cmd...0\n",
      "add file to sources\n",
      "label frame\n",
      "|VT65NfbvKkU|\n",
      "get vid info\n",
      "[youtube] Extracting URL: https://www.youtube.com/watch?v=VT65NfbvKkU\n",
      "[youtube] VT65NfbvKkU: Downloading webpage\n",
      "[youtube] VT65NfbvKkU: Downloading android player API JSON\n"
     ]
    },
    {
     "name": "stderr",
     "output_type": "stream",
     "text": [
      "WARNING: [youtube] VT65NfbvKkU: nsig extraction failed: You may experience throttling for some formats\n",
      "         Install PhantomJS to workaround the issue. Please download it from https://phantomjs.org/download.html\n",
      "         n = O5MtmLgSUniOXe ; player = https://www.youtube.com/s/player/97ea7458/player_ias.vflset/en_US/base.js\n"
     ]
    },
    {
     "name": "stdout",
     "output_type": "stream",
     "text": [
      "get random frame\n",
      "*594-595\n",
      "VT65NfbvKkU\n",
      "yt-dlp -S res:720,ext:mp4,fps:24 -c --recode mp4 --download-sections *594-595 https://www.youtube.com/watch?v=VT65NfbvKkU --output spamham_samples/VT65NfbvKkU.mp4 --retries infinite --fragment-retries infinite && ffmpeg -i spamham_samples/VT65NfbvKkU.mp4 -r 1 -vframes 1 -f image2 -q:v 1 spamham_samples/frames/VT65NfbvKkU.%03d.jpeg -y && del spamham_samples\\VT65NfbvKkU.mp4\n",
      "running donwload, extract, delete cmd...0\n",
      "add file to sources\n",
      "label frame\n",
      "|7WT5pKk5ax0|\n",
      "get vid info\n",
      "[youtube] Extracting URL: https://www.youtube.com/watch?v=7WT5pKk5ax0\n",
      "[youtube] 7WT5pKk5ax0: Downloading webpage\n",
      "[youtube] 7WT5pKk5ax0: Downloading android player API JSON\n"
     ]
    },
    {
     "name": "stderr",
     "output_type": "stream",
     "text": [
      "WARNING: [youtube] 7WT5pKk5ax0: nsig extraction failed: You may experience throttling for some formats\n",
      "         Install PhantomJS to workaround the issue. Please download it from https://phantomjs.org/download.html\n",
      "         n = suagwSD29TZsbE ; player = https://www.youtube.com/s/player/97ea7458/player_ias.vflset/en_US/base.js\n"
     ]
    },
    {
     "name": "stdout",
     "output_type": "stream",
     "text": [
      "get random frame\n",
      "*320-321\n",
      "7WT5pKk5ax0\n",
      "yt-dlp -S res:720,ext:mp4,fps:24 -c --recode mp4 --download-sections *320-321 https://www.youtube.com/watch?v=7WT5pKk5ax0 --output spamham_samples/7WT5pKk5ax0.mp4 --retries infinite --fragment-retries infinite && ffmpeg -i spamham_samples/7WT5pKk5ax0.mp4 -r 1 -vframes 1 -f image2 -q:v 1 spamham_samples/frames/7WT5pKk5ax0.%03d.jpeg -y && del spamham_samples\\7WT5pKk5ax0.mp4\n",
      "running donwload, extract, delete cmd...0\n",
      "add file to sources\n",
      "label frame\n",
      "|BGzgOUCPVCY|\n",
      "get vid info\n",
      "[youtube] Extracting URL: https://www.youtube.com/watch?v=BGzgOUCPVCY\n",
      "[youtube] BGzgOUCPVCY: Downloading webpage\n",
      "[youtube] BGzgOUCPVCY: Downloading android player API JSON\n"
     ]
    },
    {
     "name": "stderr",
     "output_type": "stream",
     "text": [
      "WARNING: [youtube] BGzgOUCPVCY: nsig extraction failed: You may experience throttling for some formats\n",
      "         Install PhantomJS to workaround the issue. Please download it from https://phantomjs.org/download.html\n",
      "         n = Q2fVctRoyGQAwe ; player = https://www.youtube.com/s/player/97ea7458/player_ias.vflset/en_US/base.js\n"
     ]
    },
    {
     "name": "stdout",
     "output_type": "stream",
     "text": [
      "get random frame\n",
      "*474-475\n",
      "BGzgOUCPVCY\n",
      "yt-dlp -S res:720,ext:mp4,fps:24 -c --recode mp4 --download-sections *474-475 https://www.youtube.com/watch?v=BGzgOUCPVCY --output spamham_samples/BGzgOUCPVCY.mp4 --retries infinite --fragment-retries infinite && ffmpeg -i spamham_samples/BGzgOUCPVCY.mp4 -r 1 -vframes 1 -f image2 -q:v 1 spamham_samples/frames/BGzgOUCPVCY.%03d.jpeg -y && del spamham_samples\\BGzgOUCPVCY.mp4\n",
      "running donwload, extract, delete cmd...0\n",
      "add file to sources\n",
      "label frame\n",
      "|KJXv6gjvyt4|\n",
      "get vid info\n",
      "[youtube] Extracting URL: https://www.youtube.com/watch?v=KJXv6gjvyt4\n",
      "[youtube] KJXv6gjvyt4: Downloading webpage\n",
      "[youtube] KJXv6gjvyt4: Downloading android player API JSON\n"
     ]
    },
    {
     "name": "stderr",
     "output_type": "stream",
     "text": [
      "WARNING: [youtube] KJXv6gjvyt4: nsig extraction failed: You may experience throttling for some formats\n",
      "         Install PhantomJS to workaround the issue. Please download it from https://phantomjs.org/download.html\n",
      "         n = 6ZR1eyr0PZqaPL ; player = https://www.youtube.com/s/player/97ea7458/player_ias.vflset/en_US/base.js\n"
     ]
    },
    {
     "name": "stdout",
     "output_type": "stream",
     "text": [
      "get random frame\n",
      "*459-460\n",
      "KJXv6gjvyt4\n",
      "yt-dlp -S res:720,ext:mp4,fps:24 -c --recode mp4 --download-sections *459-460 https://www.youtube.com/watch?v=KJXv6gjvyt4 --output spamham_samples/KJXv6gjvyt4.mp4 --retries infinite --fragment-retries infinite && ffmpeg -i spamham_samples/KJXv6gjvyt4.mp4 -r 1 -vframes 1 -f image2 -q:v 1 spamham_samples/frames/KJXv6gjvyt4.%03d.jpeg -y && del spamham_samples\\KJXv6gjvyt4.mp4\n",
      "running donwload, extract, delete cmd...0\n",
      "add file to sources\n",
      "label frame\n",
      "|1VONDBK2cws|\n",
      "get vid info\n",
      "[youtube] Extracting URL: https://www.youtube.com/watch?v=1VONDBK2cws\n",
      "[youtube] 1VONDBK2cws: Downloading webpage\n",
      "[youtube] 1VONDBK2cws: Downloading android player API JSON\n"
     ]
    },
    {
     "name": "stderr",
     "output_type": "stream",
     "text": [
      "WARNING: [youtube] 1VONDBK2cws: nsig extraction failed: You may experience throttling for some formats\n",
      "         Install PhantomJS to workaround the issue. Please download it from https://phantomjs.org/download.html\n",
      "         n = 29qHa_gYbX0mty ; player = https://www.youtube.com/s/player/97ea7458/player_ias.vflset/en_US/base.js\n"
     ]
    },
    {
     "name": "stdout",
     "output_type": "stream",
     "text": [
      "get random frame\n",
      "*1792-1793\n",
      "1VONDBK2cws\n",
      "yt-dlp -S res:720,ext:mp4,fps:24 -c --recode mp4 --download-sections *1792-1793 https://www.youtube.com/watch?v=1VONDBK2cws --output spamham_samples/1VONDBK2cws.mp4 --retries infinite --fragment-retries infinite && ffmpeg -i spamham_samples/1VONDBK2cws.mp4 -r 1 -vframes 1 -f image2 -q:v 1 spamham_samples/frames/1VONDBK2cws.%03d.jpeg -y && del spamham_samples\\1VONDBK2cws.mp4\n",
      "running donwload, extract, delete cmd...0\n",
      "add file to sources\n",
      "label frame\n",
      "|heCqHLV8jmk|\n",
      "get vid info\n",
      "[youtube] Extracting URL: https://www.youtube.com/watch?v=heCqHLV8jmk\n",
      "[youtube] heCqHLV8jmk: Downloading webpage\n",
      "[youtube] heCqHLV8jmk: Downloading android player API JSON\n"
     ]
    },
    {
     "name": "stderr",
     "output_type": "stream",
     "text": [
      "WARNING: [youtube] heCqHLV8jmk: nsig extraction failed: You may experience throttling for some formats\n",
      "         Install PhantomJS to workaround the issue. Please download it from https://phantomjs.org/download.html\n",
      "         n = 9qmlTp6ZhbXtX0 ; player = https://www.youtube.com/s/player/97ea7458/player_ias.vflset/en_US/base.js\n"
     ]
    },
    {
     "name": "stdout",
     "output_type": "stream",
     "text": [
      "get random frame\n",
      "*683-684\n",
      "heCqHLV8jmk\n",
      "yt-dlp -S res:720,ext:mp4,fps:24 -c --recode mp4 --download-sections *683-684 https://www.youtube.com/watch?v=heCqHLV8jmk --output spamham_samples/heCqHLV8jmk.mp4 --retries infinite --fragment-retries infinite && ffmpeg -i spamham_samples/heCqHLV8jmk.mp4 -r 1 -vframes 1 -f image2 -q:v 1 spamham_samples/frames/heCqHLV8jmk.%03d.jpeg -y && del spamham_samples\\heCqHLV8jmk.mp4\n",
      "running donwload, extract, delete cmd...0\n",
      "add file to sources\n",
      "label frame\n",
      "|oU8r2AY-Tuw|\n",
      "get vid info\n",
      "[youtube] Extracting URL: https://www.youtube.com/watch?v=oU8r2AY-Tuw\n",
      "[youtube] oU8r2AY-Tuw: Downloading webpage\n",
      "[youtube] oU8r2AY-Tuw: Downloading android player API JSON\n"
     ]
    },
    {
     "name": "stderr",
     "output_type": "stream",
     "text": [
      "WARNING: [youtube] oU8r2AY-Tuw: nsig extraction failed: You may experience throttling for some formats\n",
      "         Install PhantomJS to workaround the issue. Please download it from https://phantomjs.org/download.html\n",
      "         n = _GOW0uuNuKg_n- ; player = https://www.youtube.com/s/player/97ea7458/player_ias.vflset/en_US/base.js\n"
     ]
    },
    {
     "name": "stdout",
     "output_type": "stream",
     "text": [
      "get random frame\n",
      "*336-337\n",
      "oU8r2AY-Tuw\n",
      "yt-dlp -S res:720,ext:mp4,fps:24 -c --recode mp4 --download-sections *336-337 https://www.youtube.com/watch?v=oU8r2AY-Tuw --output spamham_samples/oU8r2AY-Tuw.mp4 --retries infinite --fragment-retries infinite && ffmpeg -i spamham_samples/oU8r2AY-Tuw.mp4 -r 1 -vframes 1 -f image2 -q:v 1 spamham_samples/frames/oU8r2AY-Tuw.%03d.jpeg -y && del spamham_samples\\oU8r2AY-Tuw.mp4\n",
      "running donwload, extract, delete cmd...0\n",
      "add file to sources\n",
      "label frame\n",
      "|N2YjLetegGw|\n",
      "get vid info\n",
      "[youtube] Extracting URL: https://www.youtube.com/watch?v=N2YjLetegGw\n",
      "[youtube] N2YjLetegGw: Downloading webpage\n",
      "[youtube] N2YjLetegGw: Downloading android player API JSON\n"
     ]
    },
    {
     "name": "stderr",
     "output_type": "stream",
     "text": [
      "WARNING: [youtube] N2YjLetegGw: nsig extraction failed: You may experience throttling for some formats\n",
      "         Install PhantomJS to workaround the issue. Please download it from https://phantomjs.org/download.html\n",
      "         n = 8C35r8Je4pgMnv ; player = https://www.youtube.com/s/player/97ea7458/player_ias.vflset/en_US/base.js\n"
     ]
    },
    {
     "name": "stdout",
     "output_type": "stream",
     "text": [
      "get random frame\n",
      "*594-595\n",
      "N2YjLetegGw\n",
      "yt-dlp -S res:720,ext:mp4,fps:24 -c --recode mp4 --download-sections *594-595 https://www.youtube.com/watch?v=N2YjLetegGw --output spamham_samples/N2YjLetegGw.mp4 --retries infinite --fragment-retries infinite && ffmpeg -i spamham_samples/N2YjLetegGw.mp4 -r 1 -vframes 1 -f image2 -q:v 1 spamham_samples/frames/N2YjLetegGw.%03d.jpeg -y && del spamham_samples\\N2YjLetegGw.mp4\n",
      "running donwload, extract, delete cmd...0\n",
      "add file to sources\n",
      "label frame\n",
      "|FsLIrwKXH2o|\n",
      "get vid info\n",
      "[youtube] Extracting URL: https://www.youtube.com/watch?v=FsLIrwKXH2o\n",
      "[youtube] FsLIrwKXH2o: Downloading webpage\n",
      "[youtube] FsLIrwKXH2o: Downloading android player API JSON\n"
     ]
    },
    {
     "name": "stderr",
     "output_type": "stream",
     "text": [
      "WARNING: [youtube] FsLIrwKXH2o: nsig extraction failed: You may experience throttling for some formats\n",
      "         Install PhantomJS to workaround the issue. Please download it from https://phantomjs.org/download.html\n",
      "         n = 16CHamPhWrRlOf ; player = https://www.youtube.com/s/player/97ea7458/player_ias.vflset/en_US/base.js\n"
     ]
    },
    {
     "name": "stdout",
     "output_type": "stream",
     "text": [
      "get random frame\n",
      "*428-429\n",
      "FsLIrwKXH2o\n",
      "yt-dlp -S res:720,ext:mp4,fps:24 -c --recode mp4 --download-sections *428-429 https://www.youtube.com/watch?v=FsLIrwKXH2o --output spamham_samples/FsLIrwKXH2o.mp4 --retries infinite --fragment-retries infinite && ffmpeg -i spamham_samples/FsLIrwKXH2o.mp4 -r 1 -vframes 1 -f image2 -q:v 1 spamham_samples/frames/FsLIrwKXH2o.%03d.jpeg -y && del spamham_samples\\FsLIrwKXH2o.mp4\n",
      "running donwload, extract, delete cmd...0\n",
      "add file to sources\n",
      "label frame\n",
      "|ATGyQ7TtyuY|\n",
      "get vid info\n",
      "[youtube] Extracting URL: https://www.youtube.com/watch?v=ATGyQ7TtyuY\n",
      "[youtube] ATGyQ7TtyuY: Downloading webpage\n",
      "[youtube] ATGyQ7TtyuY: Downloading android player API JSON\n"
     ]
    },
    {
     "name": "stderr",
     "output_type": "stream",
     "text": [
      "WARNING: [youtube] ATGyQ7TtyuY: nsig extraction failed: You may experience throttling for some formats\n",
      "         Install PhantomJS to workaround the issue. Please download it from https://phantomjs.org/download.html\n",
      "         n = WGFXPFXHVg0mLR ; player = https://www.youtube.com/s/player/97ea7458/player_ias.vflset/en_US/base.js\n"
     ]
    },
    {
     "name": "stdout",
     "output_type": "stream",
     "text": [
      "get random frame\n",
      "*782-783\n",
      "ATGyQ7TtyuY\n",
      "yt-dlp -S res:720,ext:mp4,fps:24 -c --recode mp4 --download-sections *782-783 https://www.youtube.com/watch?v=ATGyQ7TtyuY --output spamham_samples/ATGyQ7TtyuY.mp4 --retries infinite --fragment-retries infinite && ffmpeg -i spamham_samples/ATGyQ7TtyuY.mp4 -r 1 -vframes 1 -f image2 -q:v 1 spamham_samples/frames/ATGyQ7TtyuY.%03d.jpeg -y && del spamham_samples\\ATGyQ7TtyuY.mp4\n",
      "running donwload, extract, delete cmd...0\n",
      "add file to sources\n",
      "label frame\n",
      "|YU6I63FWqGo|\n",
      "get vid info\n",
      "[youtube] Extracting URL: https://www.youtube.com/watch?v=YU6I63FWqGo\n",
      "[youtube] YU6I63FWqGo: Downloading webpage\n",
      "[youtube] YU6I63FWqGo: Downloading android player API JSON\n"
     ]
    },
    {
     "name": "stderr",
     "output_type": "stream",
     "text": [
      "WARNING: [youtube] YU6I63FWqGo: nsig extraction failed: You may experience throttling for some formats\n",
      "         Install PhantomJS to workaround the issue. Please download it from https://phantomjs.org/download.html\n",
      "         n = K7_mYvUecJgqwb ; player = https://www.youtube.com/s/player/97ea7458/player_ias.vflset/en_US/base.js\n"
     ]
    },
    {
     "name": "stdout",
     "output_type": "stream",
     "text": [
      "get random frame\n",
      "*810-811\n",
      "YU6I63FWqGo\n",
      "yt-dlp -S res:720,ext:mp4,fps:24 -c --recode mp4 --download-sections *810-811 https://www.youtube.com/watch?v=YU6I63FWqGo --output spamham_samples/YU6I63FWqGo.mp4 --retries infinite --fragment-retries infinite && ffmpeg -i spamham_samples/YU6I63FWqGo.mp4 -r 1 -vframes 1 -f image2 -q:v 1 spamham_samples/frames/YU6I63FWqGo.%03d.jpeg -y && del spamham_samples\\YU6I63FWqGo.mp4\n",
      "running donwload, extract, delete cmd...0\n",
      "add file to sources\n",
      "label frame\n",
      "|op9RPQ7KMiQ|\n",
      "get vid info\n",
      "[youtube] Extracting URL: https://www.youtube.com/watch?v=op9RPQ7KMiQ\n",
      "[youtube] op9RPQ7KMiQ: Downloading webpage\n",
      "[youtube] op9RPQ7KMiQ: Downloading android player API JSON\n"
     ]
    },
    {
     "name": "stderr",
     "output_type": "stream",
     "text": [
      "WARNING: [youtube] op9RPQ7KMiQ: nsig extraction failed: You may experience throttling for some formats\n",
      "         Install PhantomJS to workaround the issue. Please download it from https://phantomjs.org/download.html\n",
      "         n = szDxE_BkZArsZn ; player = https://www.youtube.com/s/player/97ea7458/player_ias.vflset/en_US/base.js\n"
     ]
    },
    {
     "name": "stdout",
     "output_type": "stream",
     "text": [
      "get random frame\n",
      "*330-331\n",
      "op9RPQ7KMiQ\n",
      "yt-dlp -S res:720,ext:mp4,fps:24 -c --recode mp4 --download-sections *330-331 https://www.youtube.com/watch?v=op9RPQ7KMiQ --output spamham_samples/op9RPQ7KMiQ.mp4 --retries infinite --fragment-retries infinite && ffmpeg -i spamham_samples/op9RPQ7KMiQ.mp4 -r 1 -vframes 1 -f image2 -q:v 1 spamham_samples/frames/op9RPQ7KMiQ.%03d.jpeg -y && del spamham_samples\\op9RPQ7KMiQ.mp4\n",
      "running donwload, extract, delete cmd...0\n",
      "add file to sources\n",
      "label frame\n",
      "|5Aez-tA0-lg|\n",
      "get vid info\n",
      "[youtube] Extracting URL: https://www.youtube.com/watch?v=5Aez-tA0-lg\n",
      "[youtube] 5Aez-tA0-lg: Downloading webpage\n",
      "[youtube] 5Aez-tA0-lg: Downloading android player API JSON\n"
     ]
    },
    {
     "name": "stderr",
     "output_type": "stream",
     "text": [
      "WARNING: [youtube] 5Aez-tA0-lg: nsig extraction failed: You may experience throttling for some formats\n",
      "         Install PhantomJS to workaround the issue. Please download it from https://phantomjs.org/download.html\n",
      "         n = n8hPgM0vt17XTs ; player = https://www.youtube.com/s/player/97ea7458/player_ias.vflset/en_US/base.js\n"
     ]
    },
    {
     "name": "stdout",
     "output_type": "stream",
     "text": [
      "get random frame\n",
      "*1053-1054\n",
      "5Aez-tA0-lg\n",
      "yt-dlp -S res:720,ext:mp4,fps:24 -c --recode mp4 --download-sections *1053-1054 https://www.youtube.com/watch?v=5Aez-tA0-lg --output spamham_samples/5Aez-tA0-lg.mp4 --retries infinite --fragment-retries infinite && ffmpeg -i spamham_samples/5Aez-tA0-lg.mp4 -r 1 -vframes 1 -f image2 -q:v 1 spamham_samples/frames/5Aez-tA0-lg.%03d.jpeg -y && del spamham_samples\\5Aez-tA0-lg.mp4\n",
      "running donwload, extract, delete cmd...0\n",
      "add file to sources\n",
      "label frame\n",
      "|MNls0HsHDIQ|\n",
      "get vid info\n",
      "[youtube] Extracting URL: https://www.youtube.com/watch?v=MNls0HsHDIQ\n",
      "[youtube] MNls0HsHDIQ: Downloading webpage\n",
      "[youtube] MNls0HsHDIQ: Downloading android player API JSON\n"
     ]
    },
    {
     "name": "stderr",
     "output_type": "stream",
     "text": [
      "WARNING: [youtube] MNls0HsHDIQ: nsig extraction failed: You may experience throttling for some formats\n",
      "         Install PhantomJS to workaround the issue. Please download it from https://phantomjs.org/download.html\n",
      "         n = vYrTTJvx0jIfm0 ; player = https://www.youtube.com/s/player/97ea7458/player_ias.vflset/en_US/base.js\n"
     ]
    },
    {
     "name": "stdout",
     "output_type": "stream",
     "text": [
      "get random frame\n",
      "*70-71\n",
      "MNls0HsHDIQ\n",
      "yt-dlp -S res:720,ext:mp4,fps:24 -c --recode mp4 --download-sections *70-71 https://www.youtube.com/watch?v=MNls0HsHDIQ --output spamham_samples/MNls0HsHDIQ.mp4 --retries infinite --fragment-retries infinite && ffmpeg -i spamham_samples/MNls0HsHDIQ.mp4 -r 1 -vframes 1 -f image2 -q:v 1 spamham_samples/frames/MNls0HsHDIQ.%03d.jpeg -y && del spamham_samples\\MNls0HsHDIQ.mp4\n",
      "running donwload, extract, delete cmd...0\n",
      "add file to sources\n",
      "label frame\n",
      "|_BTramcnHu4|\n",
      "get vid info\n",
      "[youtube] Extracting URL: https://www.youtube.com/watch?v=_BTramcnHu4\n",
      "[youtube] _BTramcnHu4: Downloading webpage\n",
      "[youtube] _BTramcnHu4: Downloading android player API JSON\n"
     ]
    },
    {
     "name": "stderr",
     "output_type": "stream",
     "text": [
      "WARNING: [youtube] _BTramcnHu4: nsig extraction failed: You may experience throttling for some formats\n",
      "         Install PhantomJS to workaround the issue. Please download it from https://phantomjs.org/download.html\n",
      "         n = T8_P7xHp5KmTjo ; player = https://www.youtube.com/s/player/97ea7458/player_ias.vflset/en_US/base.js\n"
     ]
    },
    {
     "name": "stdout",
     "output_type": "stream",
     "text": [
      "get random frame\n",
      "*156-157\n",
      "_BTramcnHu4\n",
      "yt-dlp -S res:720,ext:mp4,fps:24 -c --recode mp4 --download-sections *156-157 https://www.youtube.com/watch?v=_BTramcnHu4 --output spamham_samples/_BTramcnHu4.mp4 --retries infinite --fragment-retries infinite && ffmpeg -i spamham_samples/_BTramcnHu4.mp4 -r 1 -vframes 1 -f image2 -q:v 1 spamham_samples/frames/_BTramcnHu4.%03d.jpeg -y && del spamham_samples\\_BTramcnHu4.mp4\n",
      "running donwload, extract, delete cmd...0\n",
      "add file to sources\n",
      "label frame\n",
      "|557QHWSBq4s|\n",
      "get vid info\n",
      "[youtube] Extracting URL: https://www.youtube.com/watch?v=557QHWSBq4s\n",
      "[youtube] 557QHWSBq4s: Downloading webpage\n",
      "[youtube] 557QHWSBq4s: Downloading android player API JSON\n"
     ]
    },
    {
     "name": "stderr",
     "output_type": "stream",
     "text": [
      "WARNING: [youtube] 557QHWSBq4s: nsig extraction failed: You may experience throttling for some formats\n",
      "         Install PhantomJS to workaround the issue. Please download it from https://phantomjs.org/download.html\n",
      "         n = h-aE-FCShmtx4F ; player = https://www.youtube.com/s/player/97ea7458/player_ias.vflset/en_US/base.js\n"
     ]
    },
    {
     "name": "stdout",
     "output_type": "stream",
     "text": [
      "get random frame\n",
      "*672-673\n",
      "557QHWSBq4s\n",
      "yt-dlp -S res:720,ext:mp4,fps:24 -c --recode mp4 --download-sections *672-673 https://www.youtube.com/watch?v=557QHWSBq4s --output spamham_samples/557QHWSBq4s.mp4 --retries infinite --fragment-retries infinite && ffmpeg -i spamham_samples/557QHWSBq4s.mp4 -r 1 -vframes 1 -f image2 -q:v 1 spamham_samples/frames/557QHWSBq4s.%03d.jpeg -y && del spamham_samples\\557QHWSBq4s.mp4\n",
      "running donwload, extract, delete cmd...0\n",
      "add file to sources\n",
      "label frame\n",
      "|qKEikXSYvts|\n",
      "get vid info\n",
      "[youtube] Extracting URL: https://www.youtube.com/watch?v=qKEikXSYvts\n",
      "[youtube] qKEikXSYvts: Downloading webpage\n",
      "[youtube] qKEikXSYvts: Downloading android player API JSON\n"
     ]
    },
    {
     "name": "stderr",
     "output_type": "stream",
     "text": [
      "WARNING: [youtube] qKEikXSYvts: nsig extraction failed: You may experience throttling for some formats\n",
      "         Install PhantomJS to workaround the issue. Please download it from https://phantomjs.org/download.html\n",
      "         n = zfMm3tS4kDVzjj ; player = https://www.youtube.com/s/player/97ea7458/player_ias.vflset/en_US/base.js\n"
     ]
    },
    {
     "name": "stdout",
     "output_type": "stream",
     "text": [
      "get random frame\n",
      "*1381-1382\n",
      "qKEikXSYvts\n",
      "yt-dlp -S res:720,ext:mp4,fps:24 -c --recode mp4 --download-sections *1381-1382 https://www.youtube.com/watch?v=qKEikXSYvts --output spamham_samples/qKEikXSYvts.mp4 --retries infinite --fragment-retries infinite && ffmpeg -i spamham_samples/qKEikXSYvts.mp4 -r 1 -vframes 1 -f image2 -q:v 1 spamham_samples/frames/qKEikXSYvts.%03d.jpeg -y && del spamham_samples\\qKEikXSYvts.mp4\n",
      "running donwload, extract, delete cmd...0\n",
      "add file to sources\n",
      "label frame\n",
      "|cFQ4AqJY11A|\n",
      "get vid info\n",
      "[youtube] Extracting URL: https://www.youtube.com/watch?v=cFQ4AqJY11A\n",
      "[youtube] cFQ4AqJY11A: Downloading webpage\n",
      "[youtube] cFQ4AqJY11A: Downloading android player API JSON\n"
     ]
    },
    {
     "name": "stderr",
     "output_type": "stream",
     "text": [
      "WARNING: [youtube] cFQ4AqJY11A: nsig extraction failed: You may experience throttling for some formats\n",
      "         Install PhantomJS to workaround the issue. Please download it from https://phantomjs.org/download.html\n",
      "         n = 8oknKh94Eokshk ; player = https://www.youtube.com/s/player/97ea7458/player_ias.vflset/en_US/base.js\n"
     ]
    },
    {
     "name": "stdout",
     "output_type": "stream",
     "text": [
      "get random frame\n",
      "*931-932\n",
      "cFQ4AqJY11A\n",
      "yt-dlp -S res:720,ext:mp4,fps:24 -c --recode mp4 --download-sections *931-932 https://www.youtube.com/watch?v=cFQ4AqJY11A --output spamham_samples/cFQ4AqJY11A.mp4 --retries infinite --fragment-retries infinite && ffmpeg -i spamham_samples/cFQ4AqJY11A.mp4 -r 1 -vframes 1 -f image2 -q:v 1 spamham_samples/frames/cFQ4AqJY11A.%03d.jpeg -y && del spamham_samples\\cFQ4AqJY11A.mp4\n",
      "running donwload, extract, delete cmd...0\n",
      "add file to sources\n",
      "label frame\n",
      "|qYp8_wrP7dk|\n",
      "get vid info\n",
      "[youtube] Extracting URL: https://www.youtube.com/watch?v=qYp8_wrP7dk\n",
      "[youtube] qYp8_wrP7dk: Downloading webpage\n",
      "[youtube] qYp8_wrP7dk: Downloading android player API JSON\n"
     ]
    },
    {
     "name": "stderr",
     "output_type": "stream",
     "text": [
      "WARNING: [youtube] qYp8_wrP7dk: nsig extraction failed: You may experience throttling for some formats\n",
      "         Install PhantomJS to workaround the issue. Please download it from https://phantomjs.org/download.html\n",
      "         n = xxJrSICs_x7Br3 ; player = https://www.youtube.com/s/player/97ea7458/player_ias.vflset/en_US/base.js\n"
     ]
    },
    {
     "name": "stdout",
     "output_type": "stream",
     "text": [
      "get random frame\n",
      "*881-882\n",
      "qYp8_wrP7dk\n",
      "yt-dlp -S res:720,ext:mp4,fps:24 -c --recode mp4 --download-sections *881-882 https://www.youtube.com/watch?v=qYp8_wrP7dk --output spamham_samples/qYp8_wrP7dk.mp4 --retries infinite --fragment-retries infinite && ffmpeg -i spamham_samples/qYp8_wrP7dk.mp4 -r 1 -vframes 1 -f image2 -q:v 1 spamham_samples/frames/qYp8_wrP7dk.%03d.jpeg -y && del spamham_samples\\qYp8_wrP7dk.mp4\n",
      "running donwload, extract, delete cmd...0\n",
      "add file to sources\n",
      "label frame\n",
      "|yW6BoXi1m2U|\n",
      "get vid info\n",
      "[youtube] Extracting URL: https://www.youtube.com/watch?v=yW6BoXi1m2U\n",
      "[youtube] yW6BoXi1m2U: Downloading webpage\n",
      "[youtube] yW6BoXi1m2U: Downloading android player API JSON\n"
     ]
    },
    {
     "name": "stderr",
     "output_type": "stream",
     "text": [
      "WARNING: [youtube] yW6BoXi1m2U: nsig extraction failed: You may experience throttling for some formats\n",
      "         Install PhantomJS to workaround the issue. Please download it from https://phantomjs.org/download.html\n",
      "         n = HoGRTtDC7TcXdB ; player = https://www.youtube.com/s/player/97ea7458/player_ias.vflset/en_US/base.js\n"
     ]
    },
    {
     "name": "stdout",
     "output_type": "stream",
     "text": [
      "get random frame\n",
      "*748-749\n",
      "yW6BoXi1m2U\n",
      "yt-dlp -S res:720,ext:mp4,fps:24 -c --recode mp4 --download-sections *748-749 https://www.youtube.com/watch?v=yW6BoXi1m2U --output spamham_samples/yW6BoXi1m2U.mp4 --retries infinite --fragment-retries infinite && ffmpeg -i spamham_samples/yW6BoXi1m2U.mp4 -r 1 -vframes 1 -f image2 -q:v 1 spamham_samples/frames/yW6BoXi1m2U.%03d.jpeg -y && del spamham_samples\\yW6BoXi1m2U.mp4\n",
      "running donwload, extract, delete cmd...0\n",
      "add file to sources\n",
      "label frame\n",
      "|L96ScKwkzmc|\n",
      "get vid info\n",
      "[youtube] Extracting URL: https://www.youtube.com/watch?v=L96ScKwkzmc\n",
      "[youtube] L96ScKwkzmc: Downloading webpage\n",
      "[youtube] L96ScKwkzmc: Downloading android player API JSON\n"
     ]
    },
    {
     "name": "stderr",
     "output_type": "stream",
     "text": [
      "WARNING: [youtube] L96ScKwkzmc: nsig extraction failed: You may experience throttling for some formats\n",
      "         Install PhantomJS to workaround the issue. Please download it from https://phantomjs.org/download.html\n",
      "         n = uRxTBwyv-DR-mR ; player = https://www.youtube.com/s/player/97ea7458/player_ias.vflset/en_US/base.js\n"
     ]
    },
    {
     "name": "stdout",
     "output_type": "stream",
     "text": [
      "get random frame\n",
      "*887-888\n",
      "L96ScKwkzmc\n",
      "yt-dlp -S res:720,ext:mp4,fps:24 -c --recode mp4 --download-sections *887-888 https://www.youtube.com/watch?v=L96ScKwkzmc --output spamham_samples/L96ScKwkzmc.mp4 --retries infinite --fragment-retries infinite && ffmpeg -i spamham_samples/L96ScKwkzmc.mp4 -r 1 -vframes 1 -f image2 -q:v 1 spamham_samples/frames/L96ScKwkzmc.%03d.jpeg -y && del spamham_samples\\L96ScKwkzmc.mp4\n",
      "running donwload, extract, delete cmd...0\n",
      "add file to sources\n",
      "label frame\n",
      "|1stJzyPlk60|\n",
      "get vid info\n",
      "[youtube] Extracting URL: https://www.youtube.com/watch?v=1stJzyPlk60\n",
      "[youtube] 1stJzyPlk60: Downloading webpage\n",
      "[youtube] 1stJzyPlk60: Downloading android player API JSON\n"
     ]
    },
    {
     "name": "stderr",
     "output_type": "stream",
     "text": [
      "WARNING: [youtube] 1stJzyPlk60: nsig extraction failed: You may experience throttling for some formats\n",
      "         Install PhantomJS to workaround the issue. Please download it from https://phantomjs.org/download.html\n",
      "         n = P50NgHec-B_vXk ; player = https://www.youtube.com/s/player/97ea7458/player_ias.vflset/en_US/base.js\n"
     ]
    },
    {
     "name": "stdout",
     "output_type": "stream",
     "text": [
      "get random frame\n",
      "*1076-1077\n",
      "1stJzyPlk60\n",
      "yt-dlp -S res:720,ext:mp4,fps:24 -c --recode mp4 --download-sections *1076-1077 https://www.youtube.com/watch?v=1stJzyPlk60 --output spamham_samples/1stJzyPlk60.mp4 --retries infinite --fragment-retries infinite && ffmpeg -i spamham_samples/1stJzyPlk60.mp4 -r 1 -vframes 1 -f image2 -q:v 1 spamham_samples/frames/1stJzyPlk60.%03d.jpeg -y && del spamham_samples\\1stJzyPlk60.mp4\n",
      "running donwload, extract, delete cmd...0\n",
      "add file to sources\n",
      "label frame\n",
      "|K6_qlH53jZ8|\n",
      "get vid info\n",
      "[youtube] Extracting URL: https://www.youtube.com/watch?v=K6_qlH53jZ8\n",
      "[youtube] K6_qlH53jZ8: Downloading webpage\n",
      "[youtube] K6_qlH53jZ8: Downloading android player API JSON\n"
     ]
    },
    {
     "name": "stderr",
     "output_type": "stream",
     "text": [
      "WARNING: [youtube] K6_qlH53jZ8: nsig extraction failed: You may experience throttling for some formats\n",
      "         Install PhantomJS to workaround the issue. Please download it from https://phantomjs.org/download.html\n",
      "         n = 1wMZNO4yBNdFus ; player = https://www.youtube.com/s/player/97ea7458/player_ias.vflset/en_US/base.js\n"
     ]
    },
    {
     "name": "stdout",
     "output_type": "stream",
     "text": [
      "get random frame\n",
      "*539-540\n",
      "K6_qlH53jZ8\n",
      "yt-dlp -S res:720,ext:mp4,fps:24 -c --recode mp4 --download-sections *539-540 https://www.youtube.com/watch?v=K6_qlH53jZ8 --output spamham_samples/K6_qlH53jZ8.mp4 --retries infinite --fragment-retries infinite && ffmpeg -i spamham_samples/K6_qlH53jZ8.mp4 -r 1 -vframes 1 -f image2 -q:v 1 spamham_samples/frames/K6_qlH53jZ8.%03d.jpeg -y && del spamham_samples\\K6_qlH53jZ8.mp4\n",
      "running donwload, extract, delete cmd...0\n",
      "add file to sources\n",
      "label frame\n",
      "|dPqwWOzrzmY|\n",
      "get vid info\n",
      "[youtube] Extracting URL: https://www.youtube.com/watch?v=dPqwWOzrzmY\n",
      "[youtube] dPqwWOzrzmY: Downloading webpage\n",
      "[youtube] dPqwWOzrzmY: Downloading android player API JSON\n"
     ]
    },
    {
     "name": "stderr",
     "output_type": "stream",
     "text": [
      "WARNING: [youtube] dPqwWOzrzmY: nsig extraction failed: You may experience throttling for some formats\n",
      "         Install PhantomJS to workaround the issue. Please download it from https://phantomjs.org/download.html\n",
      "         n = yrUzE8m1QIQiNW ; player = https://www.youtube.com/s/player/97ea7458/player_ias.vflset/en_US/base.js\n"
     ]
    },
    {
     "name": "stdout",
     "output_type": "stream",
     "text": [
      "get random frame\n",
      "*1328-1329\n",
      "dPqwWOzrzmY\n",
      "yt-dlp -S res:720,ext:mp4,fps:24 -c --recode mp4 --download-sections *1328-1329 https://www.youtube.com/watch?v=dPqwWOzrzmY --output spamham_samples/dPqwWOzrzmY.mp4 --retries infinite --fragment-retries infinite && ffmpeg -i spamham_samples/dPqwWOzrzmY.mp4 -r 1 -vframes 1 -f image2 -q:v 1 spamham_samples/frames/dPqwWOzrzmY.%03d.jpeg -y && del spamham_samples\\dPqwWOzrzmY.mp4\n",
      "running donwload, extract, delete cmd...0\n",
      "add file to sources\n",
      "label frame\n",
      "|oP8RT7Pm1CM|\n",
      "get vid info\n",
      "[youtube] Extracting URL: https://www.youtube.com/watch?v=oP8RT7Pm1CM\n",
      "[youtube] oP8RT7Pm1CM: Downloading webpage\n",
      "[youtube] oP8RT7Pm1CM: Downloading android player API JSON\n"
     ]
    },
    {
     "name": "stderr",
     "output_type": "stream",
     "text": [
      "WARNING: [youtube] oP8RT7Pm1CM: nsig extraction failed: You may experience throttling for some formats\n",
      "         Install PhantomJS to workaround the issue. Please download it from https://phantomjs.org/download.html\n",
      "         n = kuHMXfHMM2fE7I ; player = https://www.youtube.com/s/player/97ea7458/player_ias.vflset/en_US/base.js\n"
     ]
    },
    {
     "name": "stdout",
     "output_type": "stream",
     "text": [
      "get random frame\n",
      "*1006-1007\n",
      "oP8RT7Pm1CM\n",
      "yt-dlp -S res:720,ext:mp4,fps:24 -c --recode mp4 --download-sections *1006-1007 https://www.youtube.com/watch?v=oP8RT7Pm1CM --output spamham_samples/oP8RT7Pm1CM.mp4 --retries infinite --fragment-retries infinite && ffmpeg -i spamham_samples/oP8RT7Pm1CM.mp4 -r 1 -vframes 1 -f image2 -q:v 1 spamham_samples/frames/oP8RT7Pm1CM.%03d.jpeg -y && del spamham_samples\\oP8RT7Pm1CM.mp4\n",
      "running donwload, extract, delete cmd...0\n",
      "add file to sources\n",
      "label frame\n",
      "|FGujHJUG1Fw|\n",
      "get vid info\n",
      "[youtube] Extracting URL: https://www.youtube.com/watch?v=FGujHJUG1Fw\n",
      "[youtube] FGujHJUG1Fw: Downloading webpage\n",
      "[youtube] FGujHJUG1Fw: Downloading android player API JSON\n"
     ]
    },
    {
     "name": "stderr",
     "output_type": "stream",
     "text": [
      "WARNING: [youtube] FGujHJUG1Fw: nsig extraction failed: You may experience throttling for some formats\n",
      "         Install PhantomJS to workaround the issue. Please download it from https://phantomjs.org/download.html\n",
      "         n = mhqoXXAlX6k24M ; player = https://www.youtube.com/s/player/97ea7458/player_ias.vflset/en_US/base.js\n"
     ]
    },
    {
     "name": "stdout",
     "output_type": "stream",
     "text": [
      "get random frame\n",
      "*62-63\n",
      "FGujHJUG1Fw\n",
      "yt-dlp -S res:720,ext:mp4,fps:24 -c --recode mp4 --download-sections *62-63 https://www.youtube.com/watch?v=FGujHJUG1Fw --output spamham_samples/FGujHJUG1Fw.mp4 --retries infinite --fragment-retries infinite && ffmpeg -i spamham_samples/FGujHJUG1Fw.mp4 -r 1 -vframes 1 -f image2 -q:v 1 spamham_samples/frames/FGujHJUG1Fw.%03d.jpeg -y && del spamham_samples\\FGujHJUG1Fw.mp4\n",
      "running donwload, extract, delete cmd...0\n",
      "add file to sources\n",
      "label frame\n",
      "|2-c0zvgET8o|\n",
      "get vid info\n",
      "[youtube] Extracting URL: https://www.youtube.com/watch?v=2-c0zvgET8o\n",
      "[youtube] 2-c0zvgET8o: Downloading webpage\n",
      "[youtube] 2-c0zvgET8o: Downloading android player API JSON\n"
     ]
    },
    {
     "name": "stderr",
     "output_type": "stream",
     "text": [
      "WARNING: [youtube] 2-c0zvgET8o: nsig extraction failed: You may experience throttling for some formats\n",
      "         Install PhantomJS to workaround the issue. Please download it from https://phantomjs.org/download.html\n",
      "         n = xjBb_WbG0FIh6R ; player = https://www.youtube.com/s/player/97ea7458/player_ias.vflset/en_US/base.js\n"
     ]
    },
    {
     "name": "stdout",
     "output_type": "stream",
     "text": [
      "get random frame\n",
      "*718-719\n",
      "2-c0zvgET8o\n",
      "yt-dlp -S res:720,ext:mp4,fps:24 -c --recode mp4 --download-sections *718-719 https://www.youtube.com/watch?v=2-c0zvgET8o --output spamham_samples/2-c0zvgET8o.mp4 --retries infinite --fragment-retries infinite && ffmpeg -i spamham_samples/2-c0zvgET8o.mp4 -r 1 -vframes 1 -f image2 -q:v 1 spamham_samples/frames/2-c0zvgET8o.%03d.jpeg -y && del spamham_samples\\2-c0zvgET8o.mp4\n",
      "running donwload, extract, delete cmd...0\n",
      "add file to sources\n",
      "label frame\n",
      "|JdJz6OXMOQY|\n",
      "get vid info\n",
      "[youtube] Extracting URL: https://www.youtube.com/watch?v=JdJz6OXMOQY\n",
      "[youtube] JdJz6OXMOQY: Downloading webpage\n",
      "[youtube] JdJz6OXMOQY: Downloading android player API JSON\n"
     ]
    },
    {
     "name": "stderr",
     "output_type": "stream",
     "text": [
      "WARNING: [youtube] JdJz6OXMOQY: nsig extraction failed: You may experience throttling for some formats\n",
      "         Install PhantomJS to workaround the issue. Please download it from https://phantomjs.org/download.html\n",
      "         n = p1vgqzj3pzvJUE ; player = https://www.youtube.com/s/player/97ea7458/player_ias.vflset/en_US/base.js\n"
     ]
    },
    {
     "name": "stdout",
     "output_type": "stream",
     "text": [
      "get random frame\n",
      "*1390-1391\n",
      "JdJz6OXMOQY\n",
      "yt-dlp -S res:720,ext:mp4,fps:24 -c --recode mp4 --download-sections *1390-1391 https://www.youtube.com/watch?v=JdJz6OXMOQY --output spamham_samples/JdJz6OXMOQY.mp4 --retries infinite --fragment-retries infinite && ffmpeg -i spamham_samples/JdJz6OXMOQY.mp4 -r 1 -vframes 1 -f image2 -q:v 1 spamham_samples/frames/JdJz6OXMOQY.%03d.jpeg -y && del spamham_samples\\JdJz6OXMOQY.mp4\n",
      "running donwload, extract, delete cmd...0\n",
      "add file to sources\n",
      "label frame\n",
      "|nRmUGNYONgo|\n",
      "get vid info\n",
      "[youtube] Extracting URL: https://www.youtube.com/watch?v=nRmUGNYONgo\n",
      "[youtube] nRmUGNYONgo: Downloading webpage\n",
      "[youtube] nRmUGNYONgo: Downloading android player API JSON\n"
     ]
    },
    {
     "name": "stderr",
     "output_type": "stream",
     "text": [
      "WARNING: [youtube] nRmUGNYONgo: nsig extraction failed: You may experience throttling for some formats\n",
      "         Install PhantomJS to workaround the issue. Please download it from https://phantomjs.org/download.html\n",
      "         n = U8nrqldKugkEVw ; player = https://www.youtube.com/s/player/97ea7458/player_ias.vflset/en_US/base.js\n"
     ]
    },
    {
     "name": "stdout",
     "output_type": "stream",
     "text": [
      "get random frame\n",
      "*626-627\n",
      "nRmUGNYONgo\n",
      "yt-dlp -S res:720,ext:mp4,fps:24 -c --recode mp4 --download-sections *626-627 https://www.youtube.com/watch?v=nRmUGNYONgo --output spamham_samples/nRmUGNYONgo.mp4 --retries infinite --fragment-retries infinite && ffmpeg -i spamham_samples/nRmUGNYONgo.mp4 -r 1 -vframes 1 -f image2 -q:v 1 spamham_samples/frames/nRmUGNYONgo.%03d.jpeg -y && del spamham_samples\\nRmUGNYONgo.mp4\n",
      "running donwload, extract, delete cmd...0\n",
      "add file to sources\n",
      "label frame\n",
      "|1Z9Z8x6eKiY|\n",
      "get vid info\n",
      "[youtube] Extracting URL: https://www.youtube.com/watch?v=1Z9Z8x6eKiY\n",
      "[youtube] 1Z9Z8x6eKiY: Downloading webpage\n",
      "[youtube] 1Z9Z8x6eKiY: Downloading android player API JSON\n"
     ]
    },
    {
     "name": "stderr",
     "output_type": "stream",
     "text": [
      "WARNING: [youtube] 1Z9Z8x6eKiY: nsig extraction failed: You may experience throttling for some formats\n",
      "         Install PhantomJS to workaround the issue. Please download it from https://phantomjs.org/download.html\n",
      "         n = ZczX6jRRkTapFQ ; player = https://www.youtube.com/s/player/97ea7458/player_ias.vflset/en_US/base.js\n"
     ]
    },
    {
     "name": "stdout",
     "output_type": "stream",
     "text": [
      "get random frame\n",
      "*203-204\n",
      "1Z9Z8x6eKiY\n",
      "yt-dlp -S res:720,ext:mp4,fps:24 -c --recode mp4 --download-sections *203-204 https://www.youtube.com/watch?v=1Z9Z8x6eKiY --output spamham_samples/1Z9Z8x6eKiY.mp4 --retries infinite --fragment-retries infinite && ffmpeg -i spamham_samples/1Z9Z8x6eKiY.mp4 -r 1 -vframes 1 -f image2 -q:v 1 spamham_samples/frames/1Z9Z8x6eKiY.%03d.jpeg -y && del spamham_samples\\1Z9Z8x6eKiY.mp4\n",
      "running donwload, extract, delete cmd...0\n",
      "add file to sources\n",
      "label frame\n",
      "|DS75O63Bi2c|\n",
      "get vid info\n",
      "[youtube] Extracting URL: https://www.youtube.com/watch?v=DS75O63Bi2c\n",
      "[youtube] DS75O63Bi2c: Downloading webpage\n",
      "[youtube] DS75O63Bi2c: Downloading android player API JSON\n"
     ]
    },
    {
     "name": "stderr",
     "output_type": "stream",
     "text": [
      "WARNING: [youtube] DS75O63Bi2c: nsig extraction failed: You may experience throttling for some formats\n",
      "         Install PhantomJS to workaround the issue. Please download it from https://phantomjs.org/download.html\n",
      "         n = o4H-A-QNQSxIvV ; player = https://www.youtube.com/s/player/97ea7458/player_ias.vflset/en_US/base.js\n"
     ]
    },
    {
     "name": "stdout",
     "output_type": "stream",
     "text": [
      "get random frame\n",
      "*2121-2122\n",
      "DS75O63Bi2c\n",
      "yt-dlp -S res:720,ext:mp4,fps:24 -c --recode mp4 --download-sections *2121-2122 https://www.youtube.com/watch?v=DS75O63Bi2c --output spamham_samples/DS75O63Bi2c.mp4 --retries infinite --fragment-retries infinite && ffmpeg -i spamham_samples/DS75O63Bi2c.mp4 -r 1 -vframes 1 -f image2 -q:v 1 spamham_samples/frames/DS75O63Bi2c.%03d.jpeg -y && del spamham_samples\\DS75O63Bi2c.mp4\n",
      "running donwload, extract, delete cmd...0\n",
      "add file to sources\n",
      "label frame\n",
      "|jr9Jmm5P7VY|\n",
      "get vid info\n",
      "[youtube] Extracting URL: https://www.youtube.com/watch?v=jr9Jmm5P7VY\n",
      "[youtube] jr9Jmm5P7VY: Downloading webpage\n",
      "[youtube] jr9Jmm5P7VY: Downloading android player API JSON\n"
     ]
    },
    {
     "name": "stderr",
     "output_type": "stream",
     "text": [
      "WARNING: [youtube] jr9Jmm5P7VY: nsig extraction failed: You may experience throttling for some formats\n",
      "         Install PhantomJS to workaround the issue. Please download it from https://phantomjs.org/download.html\n",
      "         n = hp5-oRjs-GvRqk ; player = https://www.youtube.com/s/player/97ea7458/player_ias.vflset/en_US/base.js\n"
     ]
    },
    {
     "name": "stdout",
     "output_type": "stream",
     "text": [
      "get random frame\n",
      "*155-156\n",
      "jr9Jmm5P7VY\n",
      "yt-dlp -S res:720,ext:mp4,fps:24 -c --recode mp4 --download-sections *155-156 https://www.youtube.com/watch?v=jr9Jmm5P7VY --output spamham_samples/jr9Jmm5P7VY.mp4 --retries infinite --fragment-retries infinite && ffmpeg -i spamham_samples/jr9Jmm5P7VY.mp4 -r 1 -vframes 1 -f image2 -q:v 1 spamham_samples/frames/jr9Jmm5P7VY.%03d.jpeg -y && del spamham_samples\\jr9Jmm5P7VY.mp4\n",
      "running donwload, extract, delete cmd...0\n",
      "add file to sources\n",
      "label frame\n",
      "|1W3bR4qzJOo|\n",
      "get vid info\n",
      "[youtube] Extracting URL: https://www.youtube.com/watch?v=1W3bR4qzJOo\n",
      "[youtube] 1W3bR4qzJOo: Downloading webpage\n",
      "[youtube] 1W3bR4qzJOo: Downloading android player API JSON\n"
     ]
    },
    {
     "name": "stderr",
     "output_type": "stream",
     "text": [
      "WARNING: [youtube] 1W3bR4qzJOo: nsig extraction failed: You may experience throttling for some formats\n",
      "         Install PhantomJS to workaround the issue. Please download it from https://phantomjs.org/download.html\n",
      "         n = j-bArffC_O3TlC ; player = https://www.youtube.com/s/player/97ea7458/player_ias.vflset/en_US/base.js\n"
     ]
    },
    {
     "name": "stdout",
     "output_type": "stream",
     "text": [
      "get random frame\n",
      "*564-565\n",
      "1W3bR4qzJOo\n",
      "yt-dlp -S res:720,ext:mp4,fps:24 -c --recode mp4 --download-sections *564-565 https://www.youtube.com/watch?v=1W3bR4qzJOo --output spamham_samples/1W3bR4qzJOo.mp4 --retries infinite --fragment-retries infinite && ffmpeg -i spamham_samples/1W3bR4qzJOo.mp4 -r 1 -vframes 1 -f image2 -q:v 1 spamham_samples/frames/1W3bR4qzJOo.%03d.jpeg -y && del spamham_samples\\1W3bR4qzJOo.mp4\n",
      "running donwload, extract, delete cmd...0\n",
      "add file to sources\n",
      "label frame\n",
      "|ONvVlxnaLRI|\n",
      "get vid info\n",
      "[youtube] Extracting URL: https://www.youtube.com/watch?v=ONvVlxnaLRI\n",
      "[youtube] ONvVlxnaLRI: Downloading webpage\n",
      "[youtube] ONvVlxnaLRI: Downloading android player API JSON\n"
     ]
    },
    {
     "name": "stderr",
     "output_type": "stream",
     "text": [
      "WARNING: [youtube] ONvVlxnaLRI: nsig extraction failed: You may experience throttling for some formats\n",
      "         Install PhantomJS to workaround the issue. Please download it from https://phantomjs.org/download.html\n",
      "         n = gROsML5p_07Qvw ; player = https://www.youtube.com/s/player/97ea7458/player_ias.vflset/en_US/base.js\n"
     ]
    },
    {
     "name": "stdout",
     "output_type": "stream",
     "text": [
      "get random frame\n",
      "*1168-1169\n",
      "ONvVlxnaLRI\n",
      "yt-dlp -S res:720,ext:mp4,fps:24 -c --recode mp4 --download-sections *1168-1169 https://www.youtube.com/watch?v=ONvVlxnaLRI --output spamham_samples/ONvVlxnaLRI.mp4 --retries infinite --fragment-retries infinite && ffmpeg -i spamham_samples/ONvVlxnaLRI.mp4 -r 1 -vframes 1 -f image2 -q:v 1 spamham_samples/frames/ONvVlxnaLRI.%03d.jpeg -y && del spamham_samples\\ONvVlxnaLRI.mp4\n",
      "running donwload, extract, delete cmd...0\n",
      "add file to sources\n",
      "label frame\n",
      "|psUPQv3__NU|\n",
      "get vid info\n",
      "[youtube] Extracting URL: https://www.youtube.com/watch?v=psUPQv3__NU\n",
      "[youtube] psUPQv3__NU: Downloading webpage\n",
      "[youtube] psUPQv3__NU: Downloading android player API JSON\n"
     ]
    },
    {
     "name": "stderr",
     "output_type": "stream",
     "text": [
      "WARNING: [youtube] psUPQv3__NU: nsig extraction failed: You may experience throttling for some formats\n",
      "         Install PhantomJS to workaround the issue. Please download it from https://phantomjs.org/download.html\n",
      "         n = qvKc2gnmQ-P67U ; player = https://www.youtube.com/s/player/97ea7458/player_ias.vflset/en_US/base.js\n"
     ]
    },
    {
     "name": "stdout",
     "output_type": "stream",
     "text": [
      "get random frame\n",
      "*874-875\n",
      "psUPQv3__NU\n",
      "yt-dlp -S res:720,ext:mp4,fps:24 -c --recode mp4 --download-sections *874-875 https://www.youtube.com/watch?v=psUPQv3__NU --output spamham_samples/psUPQv3__NU.mp4 --retries infinite --fragment-retries infinite && ffmpeg -i spamham_samples/psUPQv3__NU.mp4 -r 1 -vframes 1 -f image2 -q:v 1 spamham_samples/frames/psUPQv3__NU.%03d.jpeg -y && del spamham_samples\\psUPQv3__NU.mp4\n",
      "running donwload, extract, delete cmd...0\n",
      "add file to sources\n",
      "label frame\n",
      "|Xf-erveuPfM|\n",
      "get vid info\n",
      "[youtube] Extracting URL: https://www.youtube.com/watch?v=Xf-erveuPfM\n",
      "[youtube] Xf-erveuPfM: Downloading webpage\n",
      "[youtube] Xf-erveuPfM: Downloading android player API JSON\n"
     ]
    },
    {
     "name": "stderr",
     "output_type": "stream",
     "text": [
      "WARNING: [youtube] Xf-erveuPfM: nsig extraction failed: You may experience throttling for some formats\n",
      "         Install PhantomJS to workaround the issue. Please download it from https://phantomjs.org/download.html\n",
      "         n = VpuxsmeFUb1VHK ; player = https://www.youtube.com/s/player/97ea7458/player_ias.vflset/en_US/base.js\n"
     ]
    },
    {
     "name": "stdout",
     "output_type": "stream",
     "text": [
      "get random frame\n",
      "*561-562\n",
      "Xf-erveuPfM\n",
      "yt-dlp -S res:720,ext:mp4,fps:24 -c --recode mp4 --download-sections *561-562 https://www.youtube.com/watch?v=Xf-erveuPfM --output spamham_samples/Xf-erveuPfM.mp4 --retries infinite --fragment-retries infinite && ffmpeg -i spamham_samples/Xf-erveuPfM.mp4 -r 1 -vframes 1 -f image2 -q:v 1 spamham_samples/frames/Xf-erveuPfM.%03d.jpeg -y && del spamham_samples\\Xf-erveuPfM.mp4\n",
      "running donwload, extract, delete cmd...0\n",
      "add file to sources\n",
      "label frame\n",
      "|h4rJyVKZebw|\n",
      "get vid info\n",
      "[youtube] Extracting URL: https://www.youtube.com/watch?v=h4rJyVKZebw\n",
      "[youtube] h4rJyVKZebw: Downloading webpage\n",
      "[youtube] h4rJyVKZebw: Downloading android player API JSON\n"
     ]
    },
    {
     "name": "stderr",
     "output_type": "stream",
     "text": [
      "WARNING: [youtube] h4rJyVKZebw: nsig extraction failed: You may experience throttling for some formats\n",
      "         Install PhantomJS to workaround the issue. Please download it from https://phantomjs.org/download.html\n",
      "         n = 3Qxz91KFeM63mV ; player = https://www.youtube.com/s/player/97ea7458/player_ias.vflset/en_US/base.js\n"
     ]
    },
    {
     "name": "stdout",
     "output_type": "stream",
     "text": [
      "get random frame\n",
      "*1261-1262\n",
      "h4rJyVKZebw\n",
      "yt-dlp -S res:720,ext:mp4,fps:24 -c --recode mp4 --download-sections *1261-1262 https://www.youtube.com/watch?v=h4rJyVKZebw --output spamham_samples/h4rJyVKZebw.mp4 --retries infinite --fragment-retries infinite && ffmpeg -i spamham_samples/h4rJyVKZebw.mp4 -r 1 -vframes 1 -f image2 -q:v 1 spamham_samples/frames/h4rJyVKZebw.%03d.jpeg -y && del spamham_samples\\h4rJyVKZebw.mp4\n",
      "running donwload, extract, delete cmd...0\n",
      "add file to sources\n",
      "label frame\n",
      "|qL9yaTQ3ghc|\n",
      "get vid info\n",
      "[youtube] Extracting URL: https://www.youtube.com/watch?v=qL9yaTQ3ghc\n",
      "[youtube] qL9yaTQ3ghc: Downloading webpage\n",
      "[youtube] qL9yaTQ3ghc: Downloading android player API JSON\n"
     ]
    },
    {
     "name": "stderr",
     "output_type": "stream",
     "text": [
      "WARNING: [youtube] qL9yaTQ3ghc: nsig extraction failed: You may experience throttling for some formats\n",
      "         Install PhantomJS to workaround the issue. Please download it from https://phantomjs.org/download.html\n",
      "         n = f1MWcA55t7iPRh ; player = https://www.youtube.com/s/player/97ea7458/player_ias.vflset/en_US/base.js\n"
     ]
    },
    {
     "name": "stdout",
     "output_type": "stream",
     "text": [
      "get random frame\n",
      "*191-192\n",
      "qL9yaTQ3ghc\n",
      "yt-dlp -S res:720,ext:mp4,fps:24 -c --recode mp4 --download-sections *191-192 https://www.youtube.com/watch?v=qL9yaTQ3ghc --output spamham_samples/qL9yaTQ3ghc.mp4 --retries infinite --fragment-retries infinite && ffmpeg -i spamham_samples/qL9yaTQ3ghc.mp4 -r 1 -vframes 1 -f image2 -q:v 1 spamham_samples/frames/qL9yaTQ3ghc.%03d.jpeg -y && del spamham_samples\\qL9yaTQ3ghc.mp4\n",
      "running donwload, extract, delete cmd...0\n",
      "add file to sources\n",
      "label frame\n",
      "|rfrvBYQl2rQ|\n",
      "get vid info\n",
      "[youtube] Extracting URL: https://www.youtube.com/watch?v=rfrvBYQl2rQ\n",
      "[youtube] rfrvBYQl2rQ: Downloading webpage\n",
      "[youtube] rfrvBYQl2rQ: Downloading android player API JSON\n"
     ]
    },
    {
     "name": "stderr",
     "output_type": "stream",
     "text": [
      "WARNING: [youtube] rfrvBYQl2rQ: nsig extraction failed: You may experience throttling for some formats\n",
      "         Install PhantomJS to workaround the issue. Please download it from https://phantomjs.org/download.html\n",
      "         n = 2xMELNvTTiH2nU ; player = https://www.youtube.com/s/player/97ea7458/player_ias.vflset/en_US/base.js\n"
     ]
    },
    {
     "name": "stdout",
     "output_type": "stream",
     "text": [
      "get random frame\n",
      "*429-430\n",
      "rfrvBYQl2rQ\n",
      "yt-dlp -S res:720,ext:mp4,fps:24 -c --recode mp4 --download-sections *429-430 https://www.youtube.com/watch?v=rfrvBYQl2rQ --output spamham_samples/rfrvBYQl2rQ.mp4 --retries infinite --fragment-retries infinite && ffmpeg -i spamham_samples/rfrvBYQl2rQ.mp4 -r 1 -vframes 1 -f image2 -q:v 1 spamham_samples/frames/rfrvBYQl2rQ.%03d.jpeg -y && del spamham_samples\\rfrvBYQl2rQ.mp4\n",
      "running donwload, extract, delete cmd...0\n",
      "add file to sources\n",
      "label frame\n",
      "|6cLydeNTMP8|\n",
      "get vid info\n",
      "[youtube] Extracting URL: https://www.youtube.com/watch?v=6cLydeNTMP8\n",
      "[youtube] 6cLydeNTMP8: Downloading webpage\n",
      "[youtube] 6cLydeNTMP8: Downloading android player API JSON\n"
     ]
    },
    {
     "name": "stderr",
     "output_type": "stream",
     "text": [
      "WARNING: [youtube] 6cLydeNTMP8: nsig extraction failed: You may experience throttling for some formats\n",
      "         Install PhantomJS to workaround the issue. Please download it from https://phantomjs.org/download.html\n",
      "         n = puijertaOMtpkR ; player = https://www.youtube.com/s/player/97ea7458/player_ias.vflset/en_US/base.js\n"
     ]
    },
    {
     "name": "stdout",
     "output_type": "stream",
     "text": [
      "get random frame\n",
      "*403-404\n",
      "6cLydeNTMP8\n",
      "yt-dlp -S res:720,ext:mp4,fps:24 -c --recode mp4 --download-sections *403-404 https://www.youtube.com/watch?v=6cLydeNTMP8 --output spamham_samples/6cLydeNTMP8.mp4 --retries infinite --fragment-retries infinite && ffmpeg -i spamham_samples/6cLydeNTMP8.mp4 -r 1 -vframes 1 -f image2 -q:v 1 spamham_samples/frames/6cLydeNTMP8.%03d.jpeg -y && del spamham_samples\\6cLydeNTMP8.mp4\n",
      "running donwload, extract, delete cmd...0\n",
      "add file to sources\n",
      "label frame\n",
      "|loC-NCUYe6I|\n",
      "get vid info\n",
      "[youtube] Extracting URL: https://www.youtube.com/watch?v=loC-NCUYe6I\n",
      "[youtube] loC-NCUYe6I: Downloading webpage\n",
      "[youtube] loC-NCUYe6I: Downloading android player API JSON\n"
     ]
    },
    {
     "name": "stderr",
     "output_type": "stream",
     "text": [
      "WARNING: [youtube] loC-NCUYe6I: nsig extraction failed: You may experience throttling for some formats\n",
      "         Install PhantomJS to workaround the issue. Please download it from https://phantomjs.org/download.html\n",
      "         n = JfAU036zB34JbN ; player = https://www.youtube.com/s/player/97ea7458/player_ias.vflset/en_US/base.js\n"
     ]
    },
    {
     "name": "stdout",
     "output_type": "stream",
     "text": [
      "get random frame\n",
      "*135-136\n",
      "loC-NCUYe6I\n",
      "yt-dlp -S res:720,ext:mp4,fps:24 -c --recode mp4 --download-sections *135-136 https://www.youtube.com/watch?v=loC-NCUYe6I --output spamham_samples/loC-NCUYe6I.mp4 --retries infinite --fragment-retries infinite && ffmpeg -i spamham_samples/loC-NCUYe6I.mp4 -r 1 -vframes 1 -f image2 -q:v 1 spamham_samples/frames/loC-NCUYe6I.%03d.jpeg -y && del spamham_samples\\loC-NCUYe6I.mp4\n",
      "running donwload, extract, delete cmd...0\n",
      "add file to sources\n",
      "label frame\n",
      "|UZzCxDCXTCc|\n",
      "get vid info\n",
      "[youtube] Extracting URL: https://www.youtube.com/watch?v=UZzCxDCXTCc\n",
      "[youtube] UZzCxDCXTCc: Downloading webpage\n",
      "[youtube] UZzCxDCXTCc: Downloading android player API JSON\n"
     ]
    },
    {
     "name": "stderr",
     "output_type": "stream",
     "text": [
      "WARNING: [youtube] UZzCxDCXTCc: nsig extraction failed: You may experience throttling for some formats\n",
      "         Install PhantomJS to workaround the issue. Please download it from https://phantomjs.org/download.html\n",
      "         n = pSWDc_1n0pBJch ; player = https://www.youtube.com/s/player/97ea7458/player_ias.vflset/en_US/base.js\n"
     ]
    },
    {
     "name": "stdout",
     "output_type": "stream",
     "text": [
      "get random frame\n",
      "*703-704\n",
      "UZzCxDCXTCc\n",
      "yt-dlp -S res:720,ext:mp4,fps:24 -c --recode mp4 --download-sections *703-704 https://www.youtube.com/watch?v=UZzCxDCXTCc --output spamham_samples/UZzCxDCXTCc.mp4 --retries infinite --fragment-retries infinite && ffmpeg -i spamham_samples/UZzCxDCXTCc.mp4 -r 1 -vframes 1 -f image2 -q:v 1 spamham_samples/frames/UZzCxDCXTCc.%03d.jpeg -y && del spamham_samples\\UZzCxDCXTCc.mp4\n",
      "running donwload, extract, delete cmd...0\n",
      "add file to sources\n",
      "label frame\n",
      "|AFuxmQvZlpA|\n",
      "get vid info\n",
      "[youtube] Extracting URL: https://www.youtube.com/watch?v=AFuxmQvZlpA\n",
      "[youtube] AFuxmQvZlpA: Downloading webpage\n",
      "[youtube] AFuxmQvZlpA: Downloading android player API JSON\n"
     ]
    },
    {
     "name": "stderr",
     "output_type": "stream",
     "text": [
      "WARNING: [youtube] AFuxmQvZlpA: nsig extraction failed: You may experience throttling for some formats\n",
      "         Install PhantomJS to workaround the issue. Please download it from https://phantomjs.org/download.html\n",
      "         n = 06IyojGkgRGk2d ; player = https://www.youtube.com/s/player/97ea7458/player_ias.vflset/en_US/base.js\n"
     ]
    },
    {
     "name": "stdout",
     "output_type": "stream",
     "text": [
      "get random frame\n",
      "*540-541\n",
      "AFuxmQvZlpA\n",
      "yt-dlp -S res:720,ext:mp4,fps:24 -c --recode mp4 --download-sections *540-541 https://www.youtube.com/watch?v=AFuxmQvZlpA --output spamham_samples/AFuxmQvZlpA.mp4 --retries infinite --fragment-retries infinite && ffmpeg -i spamham_samples/AFuxmQvZlpA.mp4 -r 1 -vframes 1 -f image2 -q:v 1 spamham_samples/frames/AFuxmQvZlpA.%03d.jpeg -y && del spamham_samples\\AFuxmQvZlpA.mp4\n",
      "running donwload, extract, delete cmd...0\n",
      "add file to sources\n",
      "label frame\n",
      "|19CD6JQ32qc|\n",
      "get vid info\n",
      "[youtube] Extracting URL: https://www.youtube.com/watch?v=19CD6JQ32qc\n",
      "[youtube] 19CD6JQ32qc: Downloading webpage\n",
      "[youtube] 19CD6JQ32qc: Downloading android player API JSON\n"
     ]
    },
    {
     "name": "stderr",
     "output_type": "stream",
     "text": [
      "WARNING: [youtube] 19CD6JQ32qc: nsig extraction failed: You may experience throttling for some formats\n",
      "         Install PhantomJS to workaround the issue. Please download it from https://phantomjs.org/download.html\n",
      "         n = hb-5R2iMp1_RtD ; player = https://www.youtube.com/s/player/97ea7458/player_ias.vflset/en_US/base.js\n"
     ]
    },
    {
     "name": "stdout",
     "output_type": "stream",
     "text": [
      "get random frame\n",
      "*547-548\n",
      "19CD6JQ32qc\n",
      "yt-dlp -S res:720,ext:mp4,fps:24 -c --recode mp4 --download-sections *547-548 https://www.youtube.com/watch?v=19CD6JQ32qc --output spamham_samples/19CD6JQ32qc.mp4 --retries infinite --fragment-retries infinite && ffmpeg -i spamham_samples/19CD6JQ32qc.mp4 -r 1 -vframes 1 -f image2 -q:v 1 spamham_samples/frames/19CD6JQ32qc.%03d.jpeg -y && del spamham_samples\\19CD6JQ32qc.mp4\n",
      "running donwload, extract, delete cmd...0\n",
      "add file to sources\n",
      "label frame\n",
      "|C-3iIEyvZyk|\n",
      "get vid info\n",
      "[youtube] Extracting URL: https://www.youtube.com/watch?v=C-3iIEyvZyk\n",
      "[youtube] C-3iIEyvZyk: Downloading webpage\n",
      "[youtube] C-3iIEyvZyk: Downloading android player API JSON\n",
      "get random frame\n",
      "*269-270\n",
      "C-3iIEyvZyk\n",
      "yt-dlp -S res:720,ext:mp4,fps:24 -c --recode mp4 --download-sections *269-270 https://www.youtube.com/watch?v=C-3iIEyvZyk --output spamham_samples/C-3iIEyvZyk.mp4 --retries infinite --fragment-retries infinite && ffmpeg -i spamham_samples/C-3iIEyvZyk.mp4 -r 1 -vframes 1 -f image2 -q:v 1 spamham_samples/frames/C-3iIEyvZyk.%03d.jpeg -y && del spamham_samples\\C-3iIEyvZyk.mp4\n",
      "running donwload, extract, delete cmd...0\n",
      "add file to sources\n",
      "label frame\n",
      "|WE3zRaV_Ivs|\n",
      "get vid info\n",
      "[youtube] Extracting URL: https://www.youtube.com/watch?v=WE3zRaV_Ivs\n",
      "[youtube] WE3zRaV_Ivs: Downloading webpage\n",
      "[youtube] WE3zRaV_Ivs: Downloading android player API JSON\n",
      "get random frame\n",
      "*799-800\n",
      "WE3zRaV_Ivs\n",
      "yt-dlp -S res:720,ext:mp4,fps:24 -c --recode mp4 --download-sections *799-800 https://www.youtube.com/watch?v=WE3zRaV_Ivs --output spamham_samples/WE3zRaV_Ivs.mp4 --retries infinite --fragment-retries infinite && ffmpeg -i spamham_samples/WE3zRaV_Ivs.mp4 -r 1 -vframes 1 -f image2 -q:v 1 spamham_samples/frames/WE3zRaV_Ivs.%03d.jpeg -y && del spamham_samples\\WE3zRaV_Ivs.mp4\n",
      "running donwload, extract, delete cmd...0\n",
      "add file to sources\n",
      "label frame\n",
      "|Nk6pFpZhMxM|\n",
      "get vid info\n",
      "[youtube] Extracting URL: https://www.youtube.com/watch?v=Nk6pFpZhMxM\n",
      "[youtube] Nk6pFpZhMxM: Downloading webpage\n",
      "[youtube] Nk6pFpZhMxM: Downloading android player API JSON\n"
     ]
    },
    {
     "name": "stderr",
     "output_type": "stream",
     "text": [
      "WARNING: [youtube] Nk6pFpZhMxM: nsig extraction failed: You may experience throttling for some formats\n",
      "         Install PhantomJS to workaround the issue. Please download it from https://phantomjs.org/download.html\n",
      "         n = RaIsFGpqQLDR_X ; player = https://www.youtube.com/s/player/97ea7458/player_ias.vflset/en_US/base.js\n"
     ]
    },
    {
     "name": "stdout",
     "output_type": "stream",
     "text": [
      "get random frame\n",
      "*1327-1328\n",
      "Nk6pFpZhMxM\n",
      "yt-dlp -S res:720,ext:mp4,fps:24 -c --recode mp4 --download-sections *1327-1328 https://www.youtube.com/watch?v=Nk6pFpZhMxM --output spamham_samples/Nk6pFpZhMxM.mp4 --retries infinite --fragment-retries infinite && ffmpeg -i spamham_samples/Nk6pFpZhMxM.mp4 -r 1 -vframes 1 -f image2 -q:v 1 spamham_samples/frames/Nk6pFpZhMxM.%03d.jpeg -y && del spamham_samples\\Nk6pFpZhMxM.mp4\n",
      "running donwload, extract, delete cmd...0\n",
      "add file to sources\n",
      "label frame\n",
      "|HPaU7DuuOBw|\n",
      "get vid info\n",
      "[youtube] Extracting URL: https://www.youtube.com/watch?v=HPaU7DuuOBw\n",
      "[youtube] HPaU7DuuOBw: Downloading webpage\n",
      "[youtube] HPaU7DuuOBw: Downloading android player API JSON\n"
     ]
    },
    {
     "name": "stderr",
     "output_type": "stream",
     "text": [
      "WARNING: [youtube] HPaU7DuuOBw: nsig extraction failed: You may experience throttling for some formats\n",
      "         Install PhantomJS to workaround the issue. Please download it from https://phantomjs.org/download.html\n",
      "         n = zndZKE2jeymTAS ; player = https://www.youtube.com/s/player/97ea7458/player_ias.vflset/en_US/base.js\n"
     ]
    },
    {
     "name": "stdout",
     "output_type": "stream",
     "text": [
      "get random frame\n",
      "*1015-1016\n",
      "HPaU7DuuOBw\n",
      "yt-dlp -S res:720,ext:mp4,fps:24 -c --recode mp4 --download-sections *1015-1016 https://www.youtube.com/watch?v=HPaU7DuuOBw --output spamham_samples/HPaU7DuuOBw.mp4 --retries infinite --fragment-retries infinite && ffmpeg -i spamham_samples/HPaU7DuuOBw.mp4 -r 1 -vframes 1 -f image2 -q:v 1 spamham_samples/frames/HPaU7DuuOBw.%03d.jpeg -y && del spamham_samples\\HPaU7DuuOBw.mp4\n",
      "running donwload, extract, delete cmd...0\n",
      "add file to sources\n",
      "label frame\n",
      "|XCX8r3lQuEw|\n",
      "get vid info\n",
      "[youtube] Extracting URL: https://www.youtube.com/watch?v=XCX8r3lQuEw\n",
      "[youtube] XCX8r3lQuEw: Downloading webpage\n",
      "[youtube] XCX8r3lQuEw: Downloading android player API JSON\n"
     ]
    },
    {
     "name": "stderr",
     "output_type": "stream",
     "text": [
      "WARNING: [youtube] XCX8r3lQuEw: nsig extraction failed: You may experience throttling for some formats\n",
      "         Install PhantomJS to workaround the issue. Please download it from https://phantomjs.org/download.html\n",
      "         n = ablU_QN2RD16Np ; player = https://www.youtube.com/s/player/97ea7458/player_ias.vflset/en_US/base.js\n"
     ]
    },
    {
     "name": "stdout",
     "output_type": "stream",
     "text": [
      "get random frame\n",
      "*1424-1425\n",
      "XCX8r3lQuEw\n",
      "yt-dlp -S res:720,ext:mp4,fps:24 -c --recode mp4 --download-sections *1424-1425 https://www.youtube.com/watch?v=XCX8r3lQuEw --output spamham_samples/XCX8r3lQuEw.mp4 --retries infinite --fragment-retries infinite && ffmpeg -i spamham_samples/XCX8r3lQuEw.mp4 -r 1 -vframes 1 -f image2 -q:v 1 spamham_samples/frames/XCX8r3lQuEw.%03d.jpeg -y && del spamham_samples\\XCX8r3lQuEw.mp4\n",
      "running donwload, extract, delete cmd...0\n",
      "add file to sources\n",
      "label frame\n",
      "|hTLxq1c5nJM|\n",
      "get vid info\n",
      "[youtube] Extracting URL: https://www.youtube.com/watch?v=hTLxq1c5nJM\n",
      "[youtube] hTLxq1c5nJM: Downloading webpage\n",
      "[youtube] hTLxq1c5nJM: Downloading android player API JSON\n"
     ]
    },
    {
     "name": "stderr",
     "output_type": "stream",
     "text": [
      "WARNING: [youtube] hTLxq1c5nJM: nsig extraction failed: You may experience throttling for some formats\n",
      "         Install PhantomJS to workaround the issue. Please download it from https://phantomjs.org/download.html\n",
      "         n = e8MrGAR3j8s-xA ; player = https://www.youtube.com/s/player/97ea7458/player_ias.vflset/en_US/base.js\n"
     ]
    },
    {
     "name": "stdout",
     "output_type": "stream",
     "text": [
      "get random frame\n",
      "*372-373\n",
      "hTLxq1c5nJM\n",
      "yt-dlp -S res:720,ext:mp4,fps:24 -c --recode mp4 --download-sections *372-373 https://www.youtube.com/watch?v=hTLxq1c5nJM --output spamham_samples/hTLxq1c5nJM.mp4 --retries infinite --fragment-retries infinite && ffmpeg -i spamham_samples/hTLxq1c5nJM.mp4 -r 1 -vframes 1 -f image2 -q:v 1 spamham_samples/frames/hTLxq1c5nJM.%03d.jpeg -y && del spamham_samples\\hTLxq1c5nJM.mp4\n",
      "running donwload, extract, delete cmd...0\n",
      "add file to sources\n",
      "label frame\n",
      "|WPzqsxQvOnY|\n",
      "get vid info\n",
      "[youtube] Extracting URL: https://www.youtube.com/watch?v=WPzqsxQvOnY\n",
      "[youtube] WPzqsxQvOnY: Downloading webpage\n",
      "[youtube] WPzqsxQvOnY: Downloading android player API JSON\n"
     ]
    },
    {
     "name": "stderr",
     "output_type": "stream",
     "text": [
      "WARNING: [youtube] WPzqsxQvOnY: nsig extraction failed: You may experience throttling for some formats\n",
      "         Install PhantomJS to workaround the issue. Please download it from https://phantomjs.org/download.html\n",
      "         n = URMH1RTMWZaUyA ; player = https://www.youtube.com/s/player/97ea7458/player_ias.vflset/en_US/base.js\n"
     ]
    },
    {
     "name": "stdout",
     "output_type": "stream",
     "text": [
      "get random frame\n",
      "*1204-1205\n",
      "WPzqsxQvOnY\n",
      "yt-dlp -S res:720,ext:mp4,fps:24 -c --recode mp4 --download-sections *1204-1205 https://www.youtube.com/watch?v=WPzqsxQvOnY --output spamham_samples/WPzqsxQvOnY.mp4 --retries infinite --fragment-retries infinite && ffmpeg -i spamham_samples/WPzqsxQvOnY.mp4 -r 1 -vframes 1 -f image2 -q:v 1 spamham_samples/frames/WPzqsxQvOnY.%03d.jpeg -y && del spamham_samples\\WPzqsxQvOnY.mp4\n",
      "running donwload, extract, delete cmd...0\n",
      "add file to sources\n",
      "label frame\n",
      "|dPoIhSu3tSs|\n",
      "get vid info\n",
      "[youtube] Extracting URL: https://www.youtube.com/watch?v=dPoIhSu3tSs\n",
      "[youtube] dPoIhSu3tSs: Downloading webpage\n",
      "[youtube] dPoIhSu3tSs: Downloading android player API JSON\n"
     ]
    },
    {
     "name": "stderr",
     "output_type": "stream",
     "text": [
      "WARNING: [youtube] dPoIhSu3tSs: nsig extraction failed: You may experience throttling for some formats\n",
      "         Install PhantomJS to workaround the issue. Please download it from https://phantomjs.org/download.html\n",
      "         n = D3KmvuA5PCpz6S ; player = https://www.youtube.com/s/player/97ea7458/player_ias.vflset/en_US/base.js\n"
     ]
    },
    {
     "name": "stdout",
     "output_type": "stream",
     "text": [
      "get random frame\n",
      "*299-300\n",
      "dPoIhSu3tSs\n",
      "yt-dlp -S res:720,ext:mp4,fps:24 -c --recode mp4 --download-sections *299-300 https://www.youtube.com/watch?v=dPoIhSu3tSs --output spamham_samples/dPoIhSu3tSs.mp4 --retries infinite --fragment-retries infinite && ffmpeg -i spamham_samples/dPoIhSu3tSs.mp4 -r 1 -vframes 1 -f image2 -q:v 1 spamham_samples/frames/dPoIhSu3tSs.%03d.jpeg -y && del spamham_samples\\dPoIhSu3tSs.mp4\n",
      "running donwload, extract, delete cmd...0\n",
      "add file to sources\n",
      "label frame\n",
      "|7Ppprzv2cbw|\n",
      "get vid info\n",
      "[youtube] Extracting URL: https://www.youtube.com/watch?v=7Ppprzv2cbw\n",
      "[youtube] 7Ppprzv2cbw: Downloading webpage\n",
      "[youtube] 7Ppprzv2cbw: Downloading android player API JSON\n"
     ]
    },
    {
     "name": "stderr",
     "output_type": "stream",
     "text": [
      "WARNING: [youtube] 7Ppprzv2cbw: nsig extraction failed: You may experience throttling for some formats\n",
      "         Install PhantomJS to workaround the issue. Please download it from https://phantomjs.org/download.html\n",
      "         n = zlIshiskjICzVQ ; player = https://www.youtube.com/s/player/97ea7458/player_ias.vflset/en_US/base.js\n"
     ]
    },
    {
     "name": "stdout",
     "output_type": "stream",
     "text": [
      "get random frame\n",
      "*1607-1608\n",
      "7Ppprzv2cbw\n",
      "yt-dlp -S res:720,ext:mp4,fps:24 -c --recode mp4 --download-sections *1607-1608 https://www.youtube.com/watch?v=7Ppprzv2cbw --output spamham_samples/7Ppprzv2cbw.mp4 --retries infinite --fragment-retries infinite && ffmpeg -i spamham_samples/7Ppprzv2cbw.mp4 -r 1 -vframes 1 -f image2 -q:v 1 spamham_samples/frames/7Ppprzv2cbw.%03d.jpeg -y && del spamham_samples\\7Ppprzv2cbw.mp4\n",
      "running donwload, extract, delete cmd...0\n",
      "add file to sources\n",
      "label frame\n",
      "|VEqmwGlWf10|\n",
      "get vid info\n",
      "[youtube] Extracting URL: https://www.youtube.com/watch?v=VEqmwGlWf10\n",
      "[youtube] VEqmwGlWf10: Downloading webpage\n",
      "[youtube] VEqmwGlWf10: Downloading android player API JSON\n"
     ]
    },
    {
     "name": "stderr",
     "output_type": "stream",
     "text": [
      "WARNING: [youtube] VEqmwGlWf10: nsig extraction failed: You may experience throttling for some formats\n",
      "         Install PhantomJS to workaround the issue. Please download it from https://phantomjs.org/download.html\n",
      "         n = CmB-Nn6XMxBS5C ; player = https://www.youtube.com/s/player/97ea7458/player_ias.vflset/en_US/base.js\n"
     ]
    },
    {
     "name": "stdout",
     "output_type": "stream",
     "text": [
      "get random frame\n",
      "*149-150\n",
      "VEqmwGlWf10\n",
      "yt-dlp -S res:720,ext:mp4,fps:24 -c --recode mp4 --download-sections *149-150 https://www.youtube.com/watch?v=VEqmwGlWf10 --output spamham_samples/VEqmwGlWf10.mp4 --retries infinite --fragment-retries infinite && ffmpeg -i spamham_samples/VEqmwGlWf10.mp4 -r 1 -vframes 1 -f image2 -q:v 1 spamham_samples/frames/VEqmwGlWf10.%03d.jpeg -y && del spamham_samples\\VEqmwGlWf10.mp4\n",
      "running donwload, extract, delete cmd...0\n",
      "add file to sources\n",
      "label frame\n",
      "|2aYzu-4rfPk|\n",
      "get vid info\n",
      "[youtube] Extracting URL: https://www.youtube.com/watch?v=2aYzu-4rfPk\n",
      "[youtube] 2aYzu-4rfPk: Downloading webpage\n",
      "[youtube] 2aYzu-4rfPk: Downloading android player API JSON\n"
     ]
    },
    {
     "name": "stderr",
     "output_type": "stream",
     "text": [
      "WARNING: [youtube] 2aYzu-4rfPk: nsig extraction failed: You may experience throttling for some formats\n",
      "         Install PhantomJS to workaround the issue. Please download it from https://phantomjs.org/download.html\n",
      "         n = X6DdViKuFCSXbA ; player = https://www.youtube.com/s/player/97ea7458/player_ias.vflset/en_US/base.js\n"
     ]
    },
    {
     "name": "stdout",
     "output_type": "stream",
     "text": [
      "get random frame\n",
      "*976-977\n",
      "2aYzu-4rfPk\n",
      "yt-dlp -S res:720,ext:mp4,fps:24 -c --recode mp4 --download-sections *976-977 https://www.youtube.com/watch?v=2aYzu-4rfPk --output spamham_samples/2aYzu-4rfPk.mp4 --retries infinite --fragment-retries infinite && ffmpeg -i spamham_samples/2aYzu-4rfPk.mp4 -r 1 -vframes 1 -f image2 -q:v 1 spamham_samples/frames/2aYzu-4rfPk.%03d.jpeg -y && del spamham_samples\\2aYzu-4rfPk.mp4\n",
      "running donwload, extract, delete cmd...0\n",
      "add file to sources\n",
      "label frame\n",
      "|32oru6ucj-M|\n",
      "get vid info\n",
      "[youtube] Extracting URL: https://www.youtube.com/watch?v=32oru6ucj-M\n",
      "[youtube] 32oru6ucj-M: Downloading webpage\n",
      "[youtube] 32oru6ucj-M: Downloading android player API JSON\n"
     ]
    },
    {
     "name": "stderr",
     "output_type": "stream",
     "text": [
      "WARNING: [youtube] 32oru6ucj-M: nsig extraction failed: You may experience throttling for some formats\n",
      "         Install PhantomJS to workaround the issue. Please download it from https://phantomjs.org/download.html\n",
      "         n = pI2CJUB8TPvJhn ; player = https://www.youtube.com/s/player/97ea7458/player_ias.vflset/en_US/base.js\n"
     ]
    },
    {
     "name": "stdout",
     "output_type": "stream",
     "text": [
      "get random frame\n",
      "*171-172\n",
      "32oru6ucj-M\n",
      "yt-dlp -S res:720,ext:mp4,fps:24 -c --recode mp4 --download-sections *171-172 https://www.youtube.com/watch?v=32oru6ucj-M --output spamham_samples/32oru6ucj-M.mp4 --retries infinite --fragment-retries infinite && ffmpeg -i spamham_samples/32oru6ucj-M.mp4 -r 1 -vframes 1 -f image2 -q:v 1 spamham_samples/frames/32oru6ucj-M.%03d.jpeg -y && del spamham_samples\\32oru6ucj-M.mp4\n",
      "running donwload, extract, delete cmd...0\n",
      "add file to sources\n",
      "label frame\n",
      "|i8mA_I670kQ|\n",
      "get vid info\n",
      "[youtube] Extracting URL: https://www.youtube.com/watch?v=i8mA_I670kQ\n",
      "[youtube] i8mA_I670kQ: Downloading webpage\n",
      "[youtube] i8mA_I670kQ: Downloading android player API JSON\n"
     ]
    },
    {
     "name": "stderr",
     "output_type": "stream",
     "text": [
      "WARNING: [youtube] i8mA_I670kQ: nsig extraction failed: You may experience throttling for some formats\n",
      "         Install PhantomJS to workaround the issue. Please download it from https://phantomjs.org/download.html\n",
      "         n = byAOCoeddF7LKj ; player = https://www.youtube.com/s/player/97ea7458/player_ias.vflset/en_US/base.js\n"
     ]
    },
    {
     "name": "stdout",
     "output_type": "stream",
     "text": [
      "get random frame\n",
      "*379-380\n",
      "i8mA_I670kQ\n",
      "yt-dlp -S res:720,ext:mp4,fps:24 -c --recode mp4 --download-sections *379-380 https://www.youtube.com/watch?v=i8mA_I670kQ --output spamham_samples/i8mA_I670kQ.mp4 --retries infinite --fragment-retries infinite && ffmpeg -i spamham_samples/i8mA_I670kQ.mp4 -r 1 -vframes 1 -f image2 -q:v 1 spamham_samples/frames/i8mA_I670kQ.%03d.jpeg -y && del spamham_samples\\i8mA_I670kQ.mp4\n",
      "running donwload, extract, delete cmd...0\n",
      "add file to sources\n",
      "label frame\n",
      "|u_X-naTXDR0|\n",
      "get vid info\n",
      "[youtube] Extracting URL: https://www.youtube.com/watch?v=u_X-naTXDR0\n",
      "[youtube] u_X-naTXDR0: Downloading webpage\n",
      "[youtube] u_X-naTXDR0: Downloading android player API JSON\n"
     ]
    },
    {
     "name": "stderr",
     "output_type": "stream",
     "text": [
      "WARNING: [youtube] u_X-naTXDR0: nsig extraction failed: You may experience throttling for some formats\n",
      "         Install PhantomJS to workaround the issue. Please download it from https://phantomjs.org/download.html\n",
      "         n = ryArkVLeDXRb7y ; player = https://www.youtube.com/s/player/97ea7458/player_ias.vflset/en_US/base.js\n"
     ]
    },
    {
     "name": "stdout",
     "output_type": "stream",
     "text": [
      "get random frame\n",
      "*1168-1169\n",
      "u_X-naTXDR0\n",
      "yt-dlp -S res:720,ext:mp4,fps:24 -c --recode mp4 --download-sections *1168-1169 https://www.youtube.com/watch?v=u_X-naTXDR0 --output spamham_samples/u_X-naTXDR0.mp4 --retries infinite --fragment-retries infinite && ffmpeg -i spamham_samples/u_X-naTXDR0.mp4 -r 1 -vframes 1 -f image2 -q:v 1 spamham_samples/frames/u_X-naTXDR0.%03d.jpeg -y && del spamham_samples\\u_X-naTXDR0.mp4\n",
      "running donwload, extract, delete cmd...0\n",
      "add file to sources\n",
      "label frame\n",
      "|LyVG7hW4LJk|\n",
      "get vid info\n",
      "[youtube] Extracting URL: https://www.youtube.com/watch?v=LyVG7hW4LJk\n",
      "[youtube] LyVG7hW4LJk: Downloading webpage\n",
      "[youtube] LyVG7hW4LJk: Downloading android player API JSON\n"
     ]
    },
    {
     "name": "stderr",
     "output_type": "stream",
     "text": [
      "WARNING: [youtube] LyVG7hW4LJk: nsig extraction failed: You may experience throttling for some formats\n",
      "         Install PhantomJS to workaround the issue. Please download it from https://phantomjs.org/download.html\n",
      "         n = Pjh8uW9CMZlfc9 ; player = https://www.youtube.com/s/player/97ea7458/player_ias.vflset/en_US/base.js\n"
     ]
    },
    {
     "name": "stdout",
     "output_type": "stream",
     "text": [
      "get random frame\n",
      "*938-939\n",
      "LyVG7hW4LJk\n",
      "yt-dlp -S res:720,ext:mp4,fps:24 -c --recode mp4 --download-sections *938-939 https://www.youtube.com/watch?v=LyVG7hW4LJk --output spamham_samples/LyVG7hW4LJk.mp4 --retries infinite --fragment-retries infinite && ffmpeg -i spamham_samples/LyVG7hW4LJk.mp4 -r 1 -vframes 1 -f image2 -q:v 1 spamham_samples/frames/LyVG7hW4LJk.%03d.jpeg -y && del spamham_samples\\LyVG7hW4LJk.mp4\n",
      "running donwload, extract, delete cmd...0\n",
      "add file to sources\n",
      "label frame\n",
      "|Z1R8k5OKc9g|\n",
      "get vid info\n",
      "[youtube] Extracting URL: https://www.youtube.com/watch?v=Z1R8k5OKc9g\n",
      "[youtube] Z1R8k5OKc9g: Downloading webpage\n",
      "[youtube] Z1R8k5OKc9g: Downloading android player API JSON\n"
     ]
    },
    {
     "name": "stderr",
     "output_type": "stream",
     "text": [
      "WARNING: [youtube] Z1R8k5OKc9g: nsig extraction failed: You may experience throttling for some formats\n",
      "         Install PhantomJS to workaround the issue. Please download it from https://phantomjs.org/download.html\n",
      "         n = 4H-fFaTktxI4bb ; player = https://www.youtube.com/s/player/97ea7458/player_ias.vflset/en_US/base.js\n"
     ]
    },
    {
     "name": "stdout",
     "output_type": "stream",
     "text": [
      "get random frame\n",
      "*121-122\n",
      "Z1R8k5OKc9g\n",
      "yt-dlp -S res:720,ext:mp4,fps:24 -c --recode mp4 --download-sections *121-122 https://www.youtube.com/watch?v=Z1R8k5OKc9g --output spamham_samples/Z1R8k5OKc9g.mp4 --retries infinite --fragment-retries infinite && ffmpeg -i spamham_samples/Z1R8k5OKc9g.mp4 -r 1 -vframes 1 -f image2 -q:v 1 spamham_samples/frames/Z1R8k5OKc9g.%03d.jpeg -y && del spamham_samples\\Z1R8k5OKc9g.mp4\n",
      "running donwload, extract, delete cmd...0\n",
      "add file to sources\n",
      "label frame\n",
      "|tXHYym4FrHE|\n",
      "get vid info\n",
      "[youtube] Extracting URL: https://www.youtube.com/watch?v=tXHYym4FrHE\n",
      "[youtube] tXHYym4FrHE: Downloading webpage\n",
      "[youtube] tXHYym4FrHE: Downloading android player API JSON\n"
     ]
    },
    {
     "name": "stderr",
     "output_type": "stream",
     "text": [
      "WARNING: [youtube] tXHYym4FrHE: nsig extraction failed: You may experience throttling for some formats\n",
      "         Install PhantomJS to workaround the issue. Please download it from https://phantomjs.org/download.html\n",
      "         n = DTUpdPtlcd0ThL ; player = https://www.youtube.com/s/player/97ea7458/player_ias.vflset/en_US/base.js\n"
     ]
    },
    {
     "name": "stdout",
     "output_type": "stream",
     "text": [
      "get random frame\n",
      "*173-174\n",
      "tXHYym4FrHE\n",
      "yt-dlp -S res:720,ext:mp4,fps:24 -c --recode mp4 --download-sections *173-174 https://www.youtube.com/watch?v=tXHYym4FrHE --output spamham_samples/tXHYym4FrHE.mp4 --retries infinite --fragment-retries infinite && ffmpeg -i spamham_samples/tXHYym4FrHE.mp4 -r 1 -vframes 1 -f image2 -q:v 1 spamham_samples/frames/tXHYym4FrHE.%03d.jpeg -y && del spamham_samples\\tXHYym4FrHE.mp4\n",
      "running donwload, extract, delete cmd...0\n",
      "add file to sources\n",
      "label frame\n",
      "|OmRCHbjl-VQ|\n",
      "get vid info\n",
      "[youtube] Extracting URL: https://www.youtube.com/watch?v=OmRCHbjl-VQ\n",
      "[youtube] OmRCHbjl-VQ: Downloading webpage\n",
      "[youtube] OmRCHbjl-VQ: Downloading android player API JSON\n"
     ]
    },
    {
     "name": "stderr",
     "output_type": "stream",
     "text": [
      "WARNING: [youtube] OmRCHbjl-VQ: nsig extraction failed: You may experience throttling for some formats\n",
      "         Install PhantomJS to workaround the issue. Please download it from https://phantomjs.org/download.html\n",
      "         n = j6yQcL3pfE4z-0 ; player = https://www.youtube.com/s/player/97ea7458/player_ias.vflset/en_US/base.js\n"
     ]
    },
    {
     "name": "stdout",
     "output_type": "stream",
     "text": [
      "get random frame\n",
      "*1437-1438\n",
      "OmRCHbjl-VQ\n",
      "yt-dlp -S res:720,ext:mp4,fps:24 -c --recode mp4 --download-sections *1437-1438 https://www.youtube.com/watch?v=OmRCHbjl-VQ --output spamham_samples/OmRCHbjl-VQ.mp4 --retries infinite --fragment-retries infinite && ffmpeg -i spamham_samples/OmRCHbjl-VQ.mp4 -r 1 -vframes 1 -f image2 -q:v 1 spamham_samples/frames/OmRCHbjl-VQ.%03d.jpeg -y && del spamham_samples\\OmRCHbjl-VQ.mp4\n",
      "running donwload, extract, delete cmd...0\n",
      "add file to sources\n",
      "label frame\n",
      "|_yxlp4AZouY|\n",
      "get vid info\n",
      "[youtube] Extracting URL: https://www.youtube.com/watch?v=_yxlp4AZouY\n",
      "[youtube] _yxlp4AZouY: Downloading webpage\n",
      "[youtube] _yxlp4AZouY: Downloading android player API JSON\n"
     ]
    },
    {
     "name": "stderr",
     "output_type": "stream",
     "text": [
      "WARNING: [youtube] _yxlp4AZouY: nsig extraction failed: You may experience throttling for some formats\n",
      "         Install PhantomJS to workaround the issue. Please download it from https://phantomjs.org/download.html\n",
      "         n = ObjjAqsoCuOe47 ; player = https://www.youtube.com/s/player/97ea7458/player_ias.vflset/en_US/base.js\n"
     ]
    },
    {
     "name": "stdout",
     "output_type": "stream",
     "text": [
      "get random frame\n",
      "*354-355\n",
      "_yxlp4AZouY\n",
      "yt-dlp -S res:720,ext:mp4,fps:24 -c --recode mp4 --download-sections *354-355 https://www.youtube.com/watch?v=_yxlp4AZouY --output spamham_samples/_yxlp4AZouY.mp4 --retries infinite --fragment-retries infinite && ffmpeg -i spamham_samples/_yxlp4AZouY.mp4 -r 1 -vframes 1 -f image2 -q:v 1 spamham_samples/frames/_yxlp4AZouY.%03d.jpeg -y && del spamham_samples\\_yxlp4AZouY.mp4\n",
      "running donwload, extract, delete cmd...0\n",
      "add file to sources\n",
      "label frame\n",
      "|UhxX-buENPc|\n",
      "get vid info\n",
      "[youtube] Extracting URL: https://www.youtube.com/watch?v=UhxX-buENPc\n",
      "[youtube] UhxX-buENPc: Downloading webpage\n",
      "[youtube] UhxX-buENPc: Downloading android player API JSON\n"
     ]
    },
    {
     "name": "stderr",
     "output_type": "stream",
     "text": [
      "WARNING: [youtube] UhxX-buENPc: nsig extraction failed: You may experience throttling for some formats\n",
      "         Install PhantomJS to workaround the issue. Please download it from https://phantomjs.org/download.html\n",
      "         n = -rEje-91-_G-18 ; player = https://www.youtube.com/s/player/97ea7458/player_ias.vflset/en_US/base.js\n"
     ]
    },
    {
     "name": "stdout",
     "output_type": "stream",
     "text": [
      "get random frame\n",
      "*73-74\n",
      "UhxX-buENPc\n",
      "yt-dlp -S res:720,ext:mp4,fps:24 -c --recode mp4 --download-sections *73-74 https://www.youtube.com/watch?v=UhxX-buENPc --output spamham_samples/UhxX-buENPc.mp4 --retries infinite --fragment-retries infinite && ffmpeg -i spamham_samples/UhxX-buENPc.mp4 -r 1 -vframes 1 -f image2 -q:v 1 spamham_samples/frames/UhxX-buENPc.%03d.jpeg -y && del spamham_samples\\UhxX-buENPc.mp4\n",
      "running donwload, extract, delete cmd...0\n",
      "add file to sources\n",
      "label frame\n",
      "|fVhlTXD3600|\n",
      "get vid info\n",
      "[youtube] Extracting URL: https://www.youtube.com/watch?v=fVhlTXD3600\n",
      "[youtube] fVhlTXD3600: Downloading webpage\n",
      "[youtube] fVhlTXD3600: Downloading android player API JSON\n"
     ]
    },
    {
     "name": "stderr",
     "output_type": "stream",
     "text": [
      "WARNING: [youtube] fVhlTXD3600: nsig extraction failed: You may experience throttling for some formats\n",
      "         Install PhantomJS to workaround the issue. Please download it from https://phantomjs.org/download.html\n",
      "         n = HJHC4-tc-scXk6 ; player = https://www.youtube.com/s/player/97ea7458/player_ias.vflset/en_US/base.js\n"
     ]
    },
    {
     "name": "stdout",
     "output_type": "stream",
     "text": [
      "get random frame\n",
      "*830-831\n",
      "fVhlTXD3600\n",
      "yt-dlp -S res:720,ext:mp4,fps:24 -c --recode mp4 --download-sections *830-831 https://www.youtube.com/watch?v=fVhlTXD3600 --output spamham_samples/fVhlTXD3600.mp4 --retries infinite --fragment-retries infinite && ffmpeg -i spamham_samples/fVhlTXD3600.mp4 -r 1 -vframes 1 -f image2 -q:v 1 spamham_samples/frames/fVhlTXD3600.%03d.jpeg -y && del spamham_samples\\fVhlTXD3600.mp4\n",
      "running donwload, extract, delete cmd...0\n",
      "add file to sources\n",
      "label frame\n",
      "|kWUQluLet84|\n",
      "get vid info\n",
      "[youtube] Extracting URL: https://www.youtube.com/watch?v=kWUQluLet84\n",
      "[youtube] kWUQluLet84: Downloading webpage\n",
      "[youtube] kWUQluLet84: Downloading android player API JSON\n"
     ]
    },
    {
     "name": "stderr",
     "output_type": "stream",
     "text": [
      "WARNING: [youtube] kWUQluLet84: nsig extraction failed: You may experience throttling for some formats\n",
      "         Install PhantomJS to workaround the issue. Please download it from https://phantomjs.org/download.html\n",
      "         n = xLADT5XKB3ghBL ; player = https://www.youtube.com/s/player/97ea7458/player_ias.vflset/en_US/base.js\n"
     ]
    },
    {
     "name": "stdout",
     "output_type": "stream",
     "text": [
      "get random frame\n",
      "*1491-1492\n",
      "kWUQluLet84\n",
      "yt-dlp -S res:720,ext:mp4,fps:24 -c --recode mp4 --download-sections *1491-1492 https://www.youtube.com/watch?v=kWUQluLet84 --output spamham_samples/kWUQluLet84.mp4 --retries infinite --fragment-retries infinite && ffmpeg -i spamham_samples/kWUQluLet84.mp4 -r 1 -vframes 1 -f image2 -q:v 1 spamham_samples/frames/kWUQluLet84.%03d.jpeg -y && del spamham_samples\\kWUQluLet84.mp4\n",
      "running donwload, extract, delete cmd...0\n",
      "add file to sources\n",
      "label frame\n",
      "|Ijp4pg33qwU|\n",
      "get vid info\n",
      "[youtube] Extracting URL: https://www.youtube.com/watch?v=Ijp4pg33qwU\n",
      "[youtube] Ijp4pg33qwU: Downloading webpage\n",
      "[youtube] Ijp4pg33qwU: Downloading android player API JSON\n"
     ]
    },
    {
     "name": "stderr",
     "output_type": "stream",
     "text": [
      "WARNING: [youtube] Ijp4pg33qwU: nsig extraction failed: You may experience throttling for some formats\n",
      "         Install PhantomJS to workaround the issue. Please download it from https://phantomjs.org/download.html\n",
      "         n = Xv9gAr8kz6jXdq ; player = https://www.youtube.com/s/player/97ea7458/player_ias.vflset/en_US/base.js\n"
     ]
    },
    {
     "name": "stdout",
     "output_type": "stream",
     "text": [
      "get random frame\n",
      "*431-432\n",
      "Ijp4pg33qwU\n",
      "yt-dlp -S res:720,ext:mp4,fps:24 -c --recode mp4 --download-sections *431-432 https://www.youtube.com/watch?v=Ijp4pg33qwU --output spamham_samples/Ijp4pg33qwU.mp4 --retries infinite --fragment-retries infinite && ffmpeg -i spamham_samples/Ijp4pg33qwU.mp4 -r 1 -vframes 1 -f image2 -q:v 1 spamham_samples/frames/Ijp4pg33qwU.%03d.jpeg -y && del spamham_samples\\Ijp4pg33qwU.mp4\n",
      "running donwload, extract, delete cmd...0\n",
      "add file to sources\n",
      "label frame\n",
      "|B94Mpqn3h2g|\n",
      "get vid info\n",
      "[youtube] Extracting URL: https://www.youtube.com/watch?v=B94Mpqn3h2g\n",
      "[youtube] B94Mpqn3h2g: Downloading webpage\n",
      "[youtube] B94Mpqn3h2g: Downloading android player API JSON\n"
     ]
    },
    {
     "name": "stderr",
     "output_type": "stream",
     "text": [
      "WARNING: [youtube] B94Mpqn3h2g: nsig extraction failed: You may experience throttling for some formats\n",
      "         Install PhantomJS to workaround the issue. Please download it from https://phantomjs.org/download.html\n",
      "         n = _b9HaObrR-ZfeX ; player = https://www.youtube.com/s/player/97ea7458/player_ias.vflset/en_US/base.js\n"
     ]
    },
    {
     "name": "stdout",
     "output_type": "stream",
     "text": [
      "get random frame\n",
      "*1731-1732\n",
      "B94Mpqn3h2g\n",
      "yt-dlp -S res:720,ext:mp4,fps:24 -c --recode mp4 --download-sections *1731-1732 https://www.youtube.com/watch?v=B94Mpqn3h2g --output spamham_samples/B94Mpqn3h2g.mp4 --retries infinite --fragment-retries infinite && ffmpeg -i spamham_samples/B94Mpqn3h2g.mp4 -r 1 -vframes 1 -f image2 -q:v 1 spamham_samples/frames/B94Mpqn3h2g.%03d.jpeg -y && del spamham_samples\\B94Mpqn3h2g.mp4\n",
      "running donwload, extract, delete cmd...0\n",
      "add file to sources\n",
      "label frame\n",
      "|2nL9nQUfVTs|\n",
      "get vid info\n",
      "[youtube] Extracting URL: https://www.youtube.com/watch?v=2nL9nQUfVTs\n",
      "[youtube] 2nL9nQUfVTs: Downloading webpage\n",
      "[youtube] 2nL9nQUfVTs: Downloading android player API JSON\n"
     ]
    },
    {
     "name": "stderr",
     "output_type": "stream",
     "text": [
      "WARNING: [youtube] 2nL9nQUfVTs: nsig extraction failed: You may experience throttling for some formats\n",
      "         Install PhantomJS to workaround the issue. Please download it from https://phantomjs.org/download.html\n",
      "         n = aZ9L7NKTdcPKFT ; player = https://www.youtube.com/s/player/97ea7458/player_ias.vflset/en_US/base.js\n"
     ]
    },
    {
     "name": "stdout",
     "output_type": "stream",
     "text": [
      "get random frame\n",
      "*470-471\n",
      "2nL9nQUfVTs\n",
      "yt-dlp -S res:720,ext:mp4,fps:24 -c --recode mp4 --download-sections *470-471 https://www.youtube.com/watch?v=2nL9nQUfVTs --output spamham_samples/2nL9nQUfVTs.mp4 --retries infinite --fragment-retries infinite && ffmpeg -i spamham_samples/2nL9nQUfVTs.mp4 -r 1 -vframes 1 -f image2 -q:v 1 spamham_samples/frames/2nL9nQUfVTs.%03d.jpeg -y && del spamham_samples\\2nL9nQUfVTs.mp4\n",
      "running donwload, extract, delete cmd...0\n",
      "add file to sources\n",
      "label frame\n",
      "|b92A3hbfxDs|\n",
      "get vid info\n",
      "[youtube] Extracting URL: https://www.youtube.com/watch?v=b92A3hbfxDs\n",
      "[youtube] b92A3hbfxDs: Downloading webpage\n",
      "[youtube] b92A3hbfxDs: Downloading android player API JSON\n"
     ]
    },
    {
     "name": "stderr",
     "output_type": "stream",
     "text": [
      "WARNING: [youtube] b92A3hbfxDs: nsig extraction failed: You may experience throttling for some formats\n",
      "         Install PhantomJS to workaround the issue. Please download it from https://phantomjs.org/download.html\n",
      "         n = ySFSaipvEJQihR ; player = https://www.youtube.com/s/player/97ea7458/player_ias.vflset/en_US/base.js\n"
     ]
    },
    {
     "name": "stdout",
     "output_type": "stream",
     "text": [
      "get random frame\n",
      "*617-618\n",
      "b92A3hbfxDs\n",
      "yt-dlp -S res:720,ext:mp4,fps:24 -c --recode mp4 --download-sections *617-618 https://www.youtube.com/watch?v=b92A3hbfxDs --output spamham_samples/b92A3hbfxDs.mp4 --retries infinite --fragment-retries infinite && ffmpeg -i spamham_samples/b92A3hbfxDs.mp4 -r 1 -vframes 1 -f image2 -q:v 1 spamham_samples/frames/b92A3hbfxDs.%03d.jpeg -y && del spamham_samples\\b92A3hbfxDs.mp4\n",
      "running donwload, extract, delete cmd...0\n",
      "add file to sources\n",
      "label frame\n",
      "|x_S1XXcgA2Q|\n",
      "get vid info\n",
      "[youtube] Extracting URL: https://www.youtube.com/watch?v=x_S1XXcgA2Q\n",
      "[youtube] x_S1XXcgA2Q: Downloading webpage\n",
      "[youtube] x_S1XXcgA2Q: Downloading android player API JSON\n"
     ]
    },
    {
     "name": "stderr",
     "output_type": "stream",
     "text": [
      "WARNING: [youtube] x_S1XXcgA2Q: nsig extraction failed: You may experience throttling for some formats\n",
      "         Install PhantomJS to workaround the issue. Please download it from https://phantomjs.org/download.html\n",
      "         n = pOw5vRxFseZpUk ; player = https://www.youtube.com/s/player/97ea7458/player_ias.vflset/en_US/base.js\n"
     ]
    },
    {
     "name": "stdout",
     "output_type": "stream",
     "text": [
      "get random frame\n",
      "*574-575\n",
      "x_S1XXcgA2Q\n",
      "yt-dlp -S res:720,ext:mp4,fps:24 -c --recode mp4 --download-sections *574-575 https://www.youtube.com/watch?v=x_S1XXcgA2Q --output spamham_samples/x_S1XXcgA2Q.mp4 --retries infinite --fragment-retries infinite && ffmpeg -i spamham_samples/x_S1XXcgA2Q.mp4 -r 1 -vframes 1 -f image2 -q:v 1 spamham_samples/frames/x_S1XXcgA2Q.%03d.jpeg -y && del spamham_samples\\x_S1XXcgA2Q.mp4\n",
      "running donwload, extract, delete cmd...0\n",
      "add file to sources\n",
      "label frame\n",
      "|zypJVTx7Gcs|\n",
      "get vid info\n",
      "[youtube] Extracting URL: https://www.youtube.com/watch?v=zypJVTx7Gcs\n",
      "[youtube] zypJVTx7Gcs: Downloading webpage\n",
      "[youtube] zypJVTx7Gcs: Downloading android player API JSON\n"
     ]
    },
    {
     "name": "stderr",
     "output_type": "stream",
     "text": [
      "WARNING: [youtube] zypJVTx7Gcs: nsig extraction failed: You may experience throttling for some formats\n",
      "         Install PhantomJS to workaround the issue. Please download it from https://phantomjs.org/download.html\n",
      "         n = a0SvxNSidfJ6PC ; player = https://www.youtube.com/s/player/97ea7458/player_ias.vflset/en_US/base.js\n"
     ]
    },
    {
     "name": "stdout",
     "output_type": "stream",
     "text": [
      "get random frame\n",
      "*1202-1203\n",
      "zypJVTx7Gcs\n",
      "yt-dlp -S res:720,ext:mp4,fps:24 -c --recode mp4 --download-sections *1202-1203 https://www.youtube.com/watch?v=zypJVTx7Gcs --output spamham_samples/zypJVTx7Gcs.mp4 --retries infinite --fragment-retries infinite && ffmpeg -i spamham_samples/zypJVTx7Gcs.mp4 -r 1 -vframes 1 -f image2 -q:v 1 spamham_samples/frames/zypJVTx7Gcs.%03d.jpeg -y && del spamham_samples\\zypJVTx7Gcs.mp4\n",
      "running donwload, extract, delete cmd...0\n",
      "add file to sources\n",
      "label frame\n",
      "|jylzLX-eSt8|\n",
      "get vid info\n",
      "[youtube] Extracting URL: https://www.youtube.com/watch?v=jylzLX-eSt8\n",
      "[youtube] jylzLX-eSt8: Downloading webpage\n",
      "[youtube] jylzLX-eSt8: Downloading android player API JSON\n"
     ]
    },
    {
     "name": "stderr",
     "output_type": "stream",
     "text": [
      "WARNING: [youtube] jylzLX-eSt8: nsig extraction failed: You may experience throttling for some formats\n",
      "         Install PhantomJS to workaround the issue. Please download it from https://phantomjs.org/download.html\n",
      "         n = mSuODcniTJl21c ; player = https://www.youtube.com/s/player/97ea7458/player_ias.vflset/en_US/base.js\n"
     ]
    },
    {
     "name": "stdout",
     "output_type": "stream",
     "text": [
      "get random frame\n",
      "*341-342\n",
      "jylzLX-eSt8\n",
      "yt-dlp -S res:720,ext:mp4,fps:24 -c --recode mp4 --download-sections *341-342 https://www.youtube.com/watch?v=jylzLX-eSt8 --output spamham_samples/jylzLX-eSt8.mp4 --retries infinite --fragment-retries infinite && ffmpeg -i spamham_samples/jylzLX-eSt8.mp4 -r 1 -vframes 1 -f image2 -q:v 1 spamham_samples/frames/jylzLX-eSt8.%03d.jpeg -y && del spamham_samples\\jylzLX-eSt8.mp4\n",
      "running donwload, extract, delete cmd...0\n",
      "add file to sources\n",
      "label frame\n",
      "|yb5NvcK9Wg0|\n",
      "get vid info\n",
      "[youtube] Extracting URL: https://www.youtube.com/watch?v=yb5NvcK9Wg0\n",
      "[youtube] yb5NvcK9Wg0: Downloading webpage\n",
      "[youtube] yb5NvcK9Wg0: Downloading android player API JSON\n"
     ]
    },
    {
     "name": "stderr",
     "output_type": "stream",
     "text": [
      "WARNING: [youtube] yb5NvcK9Wg0: nsig extraction failed: You may experience throttling for some formats\n",
      "         Install PhantomJS to workaround the issue. Please download it from https://phantomjs.org/download.html\n",
      "         n = 1ql8w-bAKlOFjY ; player = https://www.youtube.com/s/player/97ea7458/player_ias.vflset/en_US/base.js\n"
     ]
    },
    {
     "name": "stdout",
     "output_type": "stream",
     "text": [
      "get random frame\n",
      "*1760-1761\n",
      "yb5NvcK9Wg0\n",
      "yt-dlp -S res:720,ext:mp4,fps:24 -c --recode mp4 --download-sections *1760-1761 https://www.youtube.com/watch?v=yb5NvcK9Wg0 --output spamham_samples/yb5NvcK9Wg0.mp4 --retries infinite --fragment-retries infinite && ffmpeg -i spamham_samples/yb5NvcK9Wg0.mp4 -r 1 -vframes 1 -f image2 -q:v 1 spamham_samples/frames/yb5NvcK9Wg0.%03d.jpeg -y && del spamham_samples\\yb5NvcK9Wg0.mp4\n",
      "running donwload, extract, delete cmd...0\n",
      "add file to sources\n",
      "label frame\n",
      "|KMNQogu0Y1g|\n",
      "get vid info\n",
      "[youtube] Extracting URL: https://www.youtube.com/watch?v=KMNQogu0Y1g\n",
      "[youtube] KMNQogu0Y1g: Downloading webpage\n",
      "[youtube] KMNQogu0Y1g: Downloading android player API JSON\n"
     ]
    },
    {
     "name": "stderr",
     "output_type": "stream",
     "text": [
      "WARNING: [youtube] KMNQogu0Y1g: nsig extraction failed: You may experience throttling for some formats\n",
      "         Install PhantomJS to workaround the issue. Please download it from https://phantomjs.org/download.html\n",
      "         n = XeZYF89Kdhenno ; player = https://www.youtube.com/s/player/97ea7458/player_ias.vflset/en_US/base.js\n"
     ]
    },
    {
     "name": "stdout",
     "output_type": "stream",
     "text": [
      "get random frame\n",
      "*1084-1085\n",
      "KMNQogu0Y1g\n",
      "yt-dlp -S res:720,ext:mp4,fps:24 -c --recode mp4 --download-sections *1084-1085 https://www.youtube.com/watch?v=KMNQogu0Y1g --output spamham_samples/KMNQogu0Y1g.mp4 --retries infinite --fragment-retries infinite && ffmpeg -i spamham_samples/KMNQogu0Y1g.mp4 -r 1 -vframes 1 -f image2 -q:v 1 spamham_samples/frames/KMNQogu0Y1g.%03d.jpeg -y && del spamham_samples\\KMNQogu0Y1g.mp4\n",
      "running donwload, extract, delete cmd...0\n",
      "add file to sources\n",
      "label frame\n",
      "|lwYhSQ8B54M|\n",
      "get vid info\n",
      "[youtube] Extracting URL: https://www.youtube.com/watch?v=lwYhSQ8B54M\n",
      "[youtube] lwYhSQ8B54M: Downloading webpage\n",
      "[youtube] lwYhSQ8B54M: Downloading android player API JSON\n"
     ]
    },
    {
     "name": "stderr",
     "output_type": "stream",
     "text": [
      "WARNING: [youtube] lwYhSQ8B54M: nsig extraction failed: You may experience throttling for some formats\n",
      "         Install PhantomJS to workaround the issue. Please download it from https://phantomjs.org/download.html\n",
      "         n = yBvK8o3qV2pCvb ; player = https://www.youtube.com/s/player/97ea7458/player_ias.vflset/en_US/base.js\n"
     ]
    },
    {
     "name": "stdout",
     "output_type": "stream",
     "text": [
      "get random frame\n",
      "*100-101\n",
      "lwYhSQ8B54M\n",
      "yt-dlp -S res:720,ext:mp4,fps:24 -c --recode mp4 --download-sections *100-101 https://www.youtube.com/watch?v=lwYhSQ8B54M --output spamham_samples/lwYhSQ8B54M.mp4 --retries infinite --fragment-retries infinite && ffmpeg -i spamham_samples/lwYhSQ8B54M.mp4 -r 1 -vframes 1 -f image2 -q:v 1 spamham_samples/frames/lwYhSQ8B54M.%03d.jpeg -y && del spamham_samples\\lwYhSQ8B54M.mp4\n",
      "running donwload, extract, delete cmd...0\n",
      "add file to sources\n",
      "label frame\n",
      "|kd3CQ7K9NZU|\n",
      "get vid info\n",
      "[youtube] Extracting URL: https://www.youtube.com/watch?v=kd3CQ7K9NZU\n",
      "[youtube] kd3CQ7K9NZU: Downloading webpage\n",
      "[youtube] kd3CQ7K9NZU: Downloading android player API JSON\n"
     ]
    },
    {
     "name": "stderr",
     "output_type": "stream",
     "text": [
      "WARNING: [youtube] kd3CQ7K9NZU: nsig extraction failed: You may experience throttling for some formats\n",
      "         Install PhantomJS to workaround the issue. Please download it from https://phantomjs.org/download.html\n",
      "         n = 0qOrE7TNZ9wkk0 ; player = https://www.youtube.com/s/player/97ea7458/player_ias.vflset/en_US/base.js\n"
     ]
    },
    {
     "name": "stdout",
     "output_type": "stream",
     "text": [
      "get random frame\n",
      "*825-826\n",
      "kd3CQ7K9NZU\n",
      "yt-dlp -S res:720,ext:mp4,fps:24 -c --recode mp4 --download-sections *825-826 https://www.youtube.com/watch?v=kd3CQ7K9NZU --output spamham_samples/kd3CQ7K9NZU.mp4 --retries infinite --fragment-retries infinite && ffmpeg -i spamham_samples/kd3CQ7K9NZU.mp4 -r 1 -vframes 1 -f image2 -q:v 1 spamham_samples/frames/kd3CQ7K9NZU.%03d.jpeg -y && del spamham_samples\\kd3CQ7K9NZU.mp4\n",
      "running donwload, extract, delete cmd...0\n",
      "add file to sources\n",
      "label frame\n",
      "|DhxEf5cIpnw|\n",
      "get vid info\n",
      "[youtube] Extracting URL: https://www.youtube.com/watch?v=DhxEf5cIpnw\n",
      "[youtube] DhxEf5cIpnw: Downloading webpage\n",
      "[youtube] DhxEf5cIpnw: Downloading android player API JSON\n"
     ]
    },
    {
     "name": "stderr",
     "output_type": "stream",
     "text": [
      "WARNING: [youtube] DhxEf5cIpnw: nsig extraction failed: You may experience throttling for some formats\n",
      "         Install PhantomJS to workaround the issue. Please download it from https://phantomjs.org/download.html\n",
      "         n = CgId9K74G1OCfQ ; player = https://www.youtube.com/s/player/97ea7458/player_ias.vflset/en_US/base.js\n"
     ]
    },
    {
     "name": "stdout",
     "output_type": "stream",
     "text": [
      "get random frame\n",
      "*826-827\n",
      "DhxEf5cIpnw\n",
      "yt-dlp -S res:720,ext:mp4,fps:24 -c --recode mp4 --download-sections *826-827 https://www.youtube.com/watch?v=DhxEf5cIpnw --output spamham_samples/DhxEf5cIpnw.mp4 --retries infinite --fragment-retries infinite && ffmpeg -i spamham_samples/DhxEf5cIpnw.mp4 -r 1 -vframes 1 -f image2 -q:v 1 spamham_samples/frames/DhxEf5cIpnw.%03d.jpeg -y && del spamham_samples\\DhxEf5cIpnw.mp4\n",
      "running donwload, extract, delete cmd...0\n",
      "add file to sources\n",
      "label frame\n",
      "|EgRJ3VMaFVY|\n",
      "get vid info\n",
      "[youtube] Extracting URL: https://www.youtube.com/watch?v=EgRJ3VMaFVY\n",
      "[youtube] EgRJ3VMaFVY: Downloading webpage\n",
      "[youtube] EgRJ3VMaFVY: Downloading android player API JSON\n"
     ]
    },
    {
     "name": "stderr",
     "output_type": "stream",
     "text": [
      "WARNING: [youtube] EgRJ3VMaFVY: nsig extraction failed: You may experience throttling for some formats\n",
      "         Install PhantomJS to workaround the issue. Please download it from https://phantomjs.org/download.html\n",
      "         n = 2ewAoH5DNcpGQQ ; player = https://www.youtube.com/s/player/97ea7458/player_ias.vflset/en_US/base.js\n"
     ]
    },
    {
     "name": "stdout",
     "output_type": "stream",
     "text": [
      "get random frame\n",
      "*317-318\n",
      "EgRJ3VMaFVY\n",
      "yt-dlp -S res:720,ext:mp4,fps:24 -c --recode mp4 --download-sections *317-318 https://www.youtube.com/watch?v=EgRJ3VMaFVY --output spamham_samples/EgRJ3VMaFVY.mp4 --retries infinite --fragment-retries infinite && ffmpeg -i spamham_samples/EgRJ3VMaFVY.mp4 -r 1 -vframes 1 -f image2 -q:v 1 spamham_samples/frames/EgRJ3VMaFVY.%03d.jpeg -y && del spamham_samples\\EgRJ3VMaFVY.mp4\n",
      "running donwload, extract, delete cmd...0\n",
      "add file to sources\n",
      "label frame\n",
      "|KbdSkks6jH0|\n",
      "get vid info\n",
      "[youtube] Extracting URL: https://www.youtube.com/watch?v=KbdSkks6jH0\n",
      "[youtube] KbdSkks6jH0: Downloading webpage\n",
      "[youtube] KbdSkks6jH0: Downloading android player API JSON\n"
     ]
    },
    {
     "name": "stderr",
     "output_type": "stream",
     "text": [
      "WARNING: [youtube] KbdSkks6jH0: nsig extraction failed: You may experience throttling for some formats\n",
      "         Install PhantomJS to workaround the issue. Please download it from https://phantomjs.org/download.html\n",
      "         n = LU7BfabnktybNV ; player = https://www.youtube.com/s/player/97ea7458/player_ias.vflset/en_US/base.js\n"
     ]
    },
    {
     "name": "stdout",
     "output_type": "stream",
     "text": [
      "get random frame\n",
      "*119-120\n",
      "KbdSkks6jH0\n",
      "yt-dlp -S res:720,ext:mp4,fps:24 -c --recode mp4 --download-sections *119-120 https://www.youtube.com/watch?v=KbdSkks6jH0 --output spamham_samples/KbdSkks6jH0.mp4 --retries infinite --fragment-retries infinite && ffmpeg -i spamham_samples/KbdSkks6jH0.mp4 -r 1 -vframes 1 -f image2 -q:v 1 spamham_samples/frames/KbdSkks6jH0.%03d.jpeg -y && del spamham_samples\\KbdSkks6jH0.mp4\n",
      "running donwload, extract, delete cmd...0\n",
      "add file to sources\n",
      "label frame\n",
      "|sMFAogicSoo|\n",
      "get vid info\n",
      "[youtube] Extracting URL: https://www.youtube.com/watch?v=sMFAogicSoo\n",
      "[youtube] sMFAogicSoo: Downloading webpage\n",
      "[youtube] sMFAogicSoo: Downloading android player API JSON\n"
     ]
    },
    {
     "name": "stderr",
     "output_type": "stream",
     "text": [
      "WARNING: [youtube] sMFAogicSoo: nsig extraction failed: You may experience throttling for some formats\n",
      "         Install PhantomJS to workaround the issue. Please download it from https://phantomjs.org/download.html\n",
      "         n = vXgiMKvF_bqPVV ; player = https://www.youtube.com/s/player/97ea7458/player_ias.vflset/en_US/base.js\n"
     ]
    },
    {
     "name": "stdout",
     "output_type": "stream",
     "text": [
      "get random frame\n",
      "*586-587\n",
      "sMFAogicSoo\n",
      "yt-dlp -S res:720,ext:mp4,fps:24 -c --recode mp4 --download-sections *586-587 https://www.youtube.com/watch?v=sMFAogicSoo --output spamham_samples/sMFAogicSoo.mp4 --retries infinite --fragment-retries infinite && ffmpeg -i spamham_samples/sMFAogicSoo.mp4 -r 1 -vframes 1 -f image2 -q:v 1 spamham_samples/frames/sMFAogicSoo.%03d.jpeg -y && del spamham_samples\\sMFAogicSoo.mp4\n",
      "running donwload, extract, delete cmd...0\n",
      "add file to sources\n",
      "label frame\n",
      "|sAKjyRs-n34|\n",
      "get vid info\n",
      "[youtube] Extracting URL: https://www.youtube.com/watch?v=sAKjyRs-n34\n",
      "[youtube] sAKjyRs-n34: Downloading webpage\n",
      "[youtube] sAKjyRs-n34: Downloading android player API JSON\n"
     ]
    },
    {
     "name": "stderr",
     "output_type": "stream",
     "text": [
      "WARNING: [youtube] sAKjyRs-n34: nsig extraction failed: You may experience throttling for some formats\n",
      "         Install PhantomJS to workaround the issue. Please download it from https://phantomjs.org/download.html\n",
      "         n = OrTLI5lej9euR3 ; player = https://www.youtube.com/s/player/97ea7458/player_ias.vflset/en_US/base.js\n"
     ]
    },
    {
     "name": "stdout",
     "output_type": "stream",
     "text": [
      "get random frame\n",
      "*1530-1531\n",
      "sAKjyRs-n34\n",
      "yt-dlp -S res:720,ext:mp4,fps:24 -c --recode mp4 --download-sections *1530-1531 https://www.youtube.com/watch?v=sAKjyRs-n34 --output spamham_samples/sAKjyRs-n34.mp4 --retries infinite --fragment-retries infinite && ffmpeg -i spamham_samples/sAKjyRs-n34.mp4 -r 1 -vframes 1 -f image2 -q:v 1 spamham_samples/frames/sAKjyRs-n34.%03d.jpeg -y && del spamham_samples\\sAKjyRs-n34.mp4\n",
      "running donwload, extract, delete cmd...0\n",
      "add file to sources\n",
      "label frame\n",
      "|6xbmFdObeWI|\n",
      "get vid info\n",
      "[youtube] Extracting URL: https://www.youtube.com/watch?v=6xbmFdObeWI\n",
      "[youtube] 6xbmFdObeWI: Downloading webpage\n",
      "[youtube] 6xbmFdObeWI: Downloading android player API JSON\n"
     ]
    },
    {
     "name": "stderr",
     "output_type": "stream",
     "text": [
      "WARNING: [youtube] 6xbmFdObeWI: nsig extraction failed: You may experience throttling for some formats\n",
      "         Install PhantomJS to workaround the issue. Please download it from https://phantomjs.org/download.html\n",
      "         n = TytMgbHCH3xj1w ; player = https://www.youtube.com/s/player/97ea7458/player_ias.vflset/en_US/base.js\n"
     ]
    },
    {
     "name": "stdout",
     "output_type": "stream",
     "text": [
      "get random frame\n",
      "*1731-1732\n",
      "6xbmFdObeWI\n",
      "yt-dlp -S res:720,ext:mp4,fps:24 -c --recode mp4 --download-sections *1731-1732 https://www.youtube.com/watch?v=6xbmFdObeWI --output spamham_samples/6xbmFdObeWI.mp4 --retries infinite --fragment-retries infinite && ffmpeg -i spamham_samples/6xbmFdObeWI.mp4 -r 1 -vframes 1 -f image2 -q:v 1 spamham_samples/frames/6xbmFdObeWI.%03d.jpeg -y && del spamham_samples\\6xbmFdObeWI.mp4\n",
      "running donwload, extract, delete cmd...0\n",
      "add file to sources\n",
      "label frame\n",
      "|Vwl6jXslhkQ|\n",
      "get vid info\n",
      "[youtube] Extracting URL: https://www.youtube.com/watch?v=Vwl6jXslhkQ\n",
      "[youtube] Vwl6jXslhkQ: Downloading webpage\n",
      "[youtube] Vwl6jXslhkQ: Downloading android player API JSON\n"
     ]
    },
    {
     "name": "stderr",
     "output_type": "stream",
     "text": [
      "WARNING: [youtube] Vwl6jXslhkQ: nsig extraction failed: You may experience throttling for some formats\n",
      "         Install PhantomJS to workaround the issue. Please download it from https://phantomjs.org/download.html\n",
      "         n = 4ipkKZ6gNetI1A ; player = https://www.youtube.com/s/player/97ea7458/player_ias.vflset/en_US/base.js\n"
     ]
    },
    {
     "name": "stdout",
     "output_type": "stream",
     "text": [
      "get random frame\n",
      "*872-873\n",
      "Vwl6jXslhkQ\n",
      "yt-dlp -S res:720,ext:mp4,fps:24 -c --recode mp4 --download-sections *872-873 https://www.youtube.com/watch?v=Vwl6jXslhkQ --output spamham_samples/Vwl6jXslhkQ.mp4 --retries infinite --fragment-retries infinite && ffmpeg -i spamham_samples/Vwl6jXslhkQ.mp4 -r 1 -vframes 1 -f image2 -q:v 1 spamham_samples/frames/Vwl6jXslhkQ.%03d.jpeg -y && del spamham_samples\\Vwl6jXslhkQ.mp4\n",
      "running donwload, extract, delete cmd...0\n",
      "add file to sources\n",
      "label frame\n",
      "|NSqu4LBiQJ8|\n",
      "get vid info\n",
      "[youtube] Extracting URL: https://www.youtube.com/watch?v=NSqu4LBiQJ8\n",
      "[youtube] NSqu4LBiQJ8: Downloading webpage\n",
      "[youtube] NSqu4LBiQJ8: Downloading android player API JSON\n"
     ]
    },
    {
     "name": "stderr",
     "output_type": "stream",
     "text": [
      "WARNING: [youtube] NSqu4LBiQJ8: nsig extraction failed: You may experience throttling for some formats\n",
      "         Install PhantomJS to workaround the issue. Please download it from https://phantomjs.org/download.html\n",
      "         n = XhhORnG2xCZXAV ; player = https://www.youtube.com/s/player/97ea7458/player_ias.vflset/en_US/base.js\n"
     ]
    },
    {
     "name": "stdout",
     "output_type": "stream",
     "text": [
      "get random frame\n",
      "*948-949\n",
      "NSqu4LBiQJ8\n",
      "yt-dlp -S res:720,ext:mp4,fps:24 -c --recode mp4 --download-sections *948-949 https://www.youtube.com/watch?v=NSqu4LBiQJ8 --output spamham_samples/NSqu4LBiQJ8.mp4 --retries infinite --fragment-retries infinite && ffmpeg -i spamham_samples/NSqu4LBiQJ8.mp4 -r 1 -vframes 1 -f image2 -q:v 1 spamham_samples/frames/NSqu4LBiQJ8.%03d.jpeg -y && del spamham_samples\\NSqu4LBiQJ8.mp4\n",
      "running donwload, extract, delete cmd...0\n",
      "add file to sources\n",
      "label frame\n",
      "|uwnUmLO3RaQ|\n",
      "get vid info\n",
      "[youtube] Extracting URL: https://www.youtube.com/watch?v=uwnUmLO3RaQ\n",
      "[youtube] uwnUmLO3RaQ: Downloading webpage\n",
      "[youtube] uwnUmLO3RaQ: Downloading android player API JSON\n"
     ]
    },
    {
     "name": "stderr",
     "output_type": "stream",
     "text": [
      "WARNING: [youtube] uwnUmLO3RaQ: nsig extraction failed: You may experience throttling for some formats\n",
      "         Install PhantomJS to workaround the issue. Please download it from https://phantomjs.org/download.html\n",
      "         n = ND-3EJVNdmltSm ; player = https://www.youtube.com/s/player/97ea7458/player_ias.vflset/en_US/base.js\n"
     ]
    },
    {
     "name": "stdout",
     "output_type": "stream",
     "text": [
      "get random frame\n",
      "*177-178\n",
      "uwnUmLO3RaQ\n",
      "yt-dlp -S res:720,ext:mp4,fps:24 -c --recode mp4 --download-sections *177-178 https://www.youtube.com/watch?v=uwnUmLO3RaQ --output spamham_samples/uwnUmLO3RaQ.mp4 --retries infinite --fragment-retries infinite && ffmpeg -i spamham_samples/uwnUmLO3RaQ.mp4 -r 1 -vframes 1 -f image2 -q:v 1 spamham_samples/frames/uwnUmLO3RaQ.%03d.jpeg -y && del spamham_samples\\uwnUmLO3RaQ.mp4\n",
      "running donwload, extract, delete cmd...0\n",
      "add file to sources\n",
      "label frame\n",
      "|w8utSEJWMog|\n",
      "get vid info\n",
      "[youtube] Extracting URL: https://www.youtube.com/watch?v=w8utSEJWMog\n",
      "[youtube] w8utSEJWMog: Downloading webpage\n",
      "[youtube] w8utSEJWMog: Downloading android player API JSON\n"
     ]
    },
    {
     "name": "stderr",
     "output_type": "stream",
     "text": [
      "WARNING: [youtube] w8utSEJWMog: nsig extraction failed: You may experience throttling for some formats\n",
      "         Install PhantomJS to workaround the issue. Please download it from https://phantomjs.org/download.html\n",
      "         n = qtRmtiKrgKp6Yx ; player = https://www.youtube.com/s/player/97ea7458/player_ias.vflset/en_US/base.js\n"
     ]
    },
    {
     "name": "stdout",
     "output_type": "stream",
     "text": [
      "get random frame\n",
      "*598-599\n",
      "w8utSEJWMog\n",
      "yt-dlp -S res:720,ext:mp4,fps:24 -c --recode mp4 --download-sections *598-599 https://www.youtube.com/watch?v=w8utSEJWMog --output spamham_samples/w8utSEJWMog.mp4 --retries infinite --fragment-retries infinite && ffmpeg -i spamham_samples/w8utSEJWMog.mp4 -r 1 -vframes 1 -f image2 -q:v 1 spamham_samples/frames/w8utSEJWMog.%03d.jpeg -y && del spamham_samples\\w8utSEJWMog.mp4\n",
      "running donwload, extract, delete cmd...0\n",
      "add file to sources\n",
      "label frame\n",
      "|DLf0v24pA1w|\n",
      "get vid info\n",
      "[youtube] Extracting URL: https://www.youtube.com/watch?v=DLf0v24pA1w\n",
      "[youtube] DLf0v24pA1w: Downloading webpage\n",
      "[youtube] DLf0v24pA1w: Downloading android player API JSON\n"
     ]
    },
    {
     "name": "stderr",
     "output_type": "stream",
     "text": [
      "WARNING: [youtube] DLf0v24pA1w: nsig extraction failed: You may experience throttling for some formats\n",
      "         Install PhantomJS to workaround the issue. Please download it from https://phantomjs.org/download.html\n",
      "         n = 4w6u17ad31uI9Y ; player = https://www.youtube.com/s/player/97ea7458/player_ias.vflset/en_US/base.js\n"
     ]
    },
    {
     "name": "stdout",
     "output_type": "stream",
     "text": [
      "get random frame\n",
      "*925-926\n",
      "DLf0v24pA1w\n",
      "yt-dlp -S res:720,ext:mp4,fps:24 -c --recode mp4 --download-sections *925-926 https://www.youtube.com/watch?v=DLf0v24pA1w --output spamham_samples/DLf0v24pA1w.mp4 --retries infinite --fragment-retries infinite && ffmpeg -i spamham_samples/DLf0v24pA1w.mp4 -r 1 -vframes 1 -f image2 -q:v 1 spamham_samples/frames/DLf0v24pA1w.%03d.jpeg -y && del spamham_samples\\DLf0v24pA1w.mp4\n",
      "running donwload, extract, delete cmd...0\n",
      "add file to sources\n",
      "label frame\n",
      "|BGLfvRAFABk|\n",
      "get vid info\n",
      "[youtube] Extracting URL: https://www.youtube.com/watch?v=BGLfvRAFABk\n",
      "[youtube] BGLfvRAFABk: Downloading webpage\n",
      "[youtube] BGLfvRAFABk: Downloading android player API JSON\n"
     ]
    },
    {
     "name": "stderr",
     "output_type": "stream",
     "text": [
      "WARNING: [youtube] BGLfvRAFABk: nsig extraction failed: You may experience throttling for some formats\n",
      "         Install PhantomJS to workaround the issue. Please download it from https://phantomjs.org/download.html\n",
      "         n = 1npA5Ehxwsrlaj ; player = https://www.youtube.com/s/player/97ea7458/player_ias.vflset/en_US/base.js\n"
     ]
    },
    {
     "name": "stdout",
     "output_type": "stream",
     "text": [
      "get random frame\n",
      "*436-437\n",
      "BGLfvRAFABk\n",
      "yt-dlp -S res:720,ext:mp4,fps:24 -c --recode mp4 --download-sections *436-437 https://www.youtube.com/watch?v=BGLfvRAFABk --output spamham_samples/BGLfvRAFABk.mp4 --retries infinite --fragment-retries infinite && ffmpeg -i spamham_samples/BGLfvRAFABk.mp4 -r 1 -vframes 1 -f image2 -q:v 1 spamham_samples/frames/BGLfvRAFABk.%03d.jpeg -y && del spamham_samples\\BGLfvRAFABk.mp4\n",
      "running donwload, extract, delete cmd...0\n",
      "add file to sources\n",
      "label frame\n",
      "|eOArxuAXIhY|\n",
      "get vid info\n",
      "[youtube] Extracting URL: https://www.youtube.com/watch?v=eOArxuAXIhY\n",
      "[youtube] eOArxuAXIhY: Downloading webpage\n",
      "[youtube] eOArxuAXIhY: Downloading android player API JSON\n"
     ]
    },
    {
     "name": "stderr",
     "output_type": "stream",
     "text": [
      "WARNING: [youtube] eOArxuAXIhY: nsig extraction failed: You may experience throttling for some formats\n",
      "         Install PhantomJS to workaround the issue. Please download it from https://phantomjs.org/download.html\n",
      "         n = sknJw2COHiXMHu ; player = https://www.youtube.com/s/player/97ea7458/player_ias.vflset/en_US/base.js\n"
     ]
    },
    {
     "name": "stdout",
     "output_type": "stream",
     "text": [
      "get random frame\n",
      "*526-527\n",
      "eOArxuAXIhY\n",
      "yt-dlp -S res:720,ext:mp4,fps:24 -c --recode mp4 --download-sections *526-527 https://www.youtube.com/watch?v=eOArxuAXIhY --output spamham_samples/eOArxuAXIhY.mp4 --retries infinite --fragment-retries infinite && ffmpeg -i spamham_samples/eOArxuAXIhY.mp4 -r 1 -vframes 1 -f image2 -q:v 1 spamham_samples/frames/eOArxuAXIhY.%03d.jpeg -y && del spamham_samples\\eOArxuAXIhY.mp4\n",
      "running donwload, extract, delete cmd...0\n",
      "add file to sources\n",
      "label frame\n",
      "|7BItXxBkfcI|\n",
      "get vid info\n",
      "[youtube] Extracting URL: https://www.youtube.com/watch?v=7BItXxBkfcI\n",
      "[youtube] 7BItXxBkfcI: Downloading webpage\n",
      "[youtube] 7BItXxBkfcI: Downloading android player API JSON\n"
     ]
    },
    {
     "name": "stderr",
     "output_type": "stream",
     "text": [
      "WARNING: [youtube] 7BItXxBkfcI: nsig extraction failed: You may experience throttling for some formats\n",
      "         Install PhantomJS to workaround the issue. Please download it from https://phantomjs.org/download.html\n",
      "         n = tDMvq4rd4Nld0z ; player = https://www.youtube.com/s/player/97ea7458/player_ias.vflset/en_US/base.js\n"
     ]
    },
    {
     "name": "stdout",
     "output_type": "stream",
     "text": [
      "get random frame\n",
      "*1147-1148\n",
      "7BItXxBkfcI\n",
      "yt-dlp -S res:720,ext:mp4,fps:24 -c --recode mp4 --download-sections *1147-1148 https://www.youtube.com/watch?v=7BItXxBkfcI --output spamham_samples/7BItXxBkfcI.mp4 --retries infinite --fragment-retries infinite && ffmpeg -i spamham_samples/7BItXxBkfcI.mp4 -r 1 -vframes 1 -f image2 -q:v 1 spamham_samples/frames/7BItXxBkfcI.%03d.jpeg -y && del spamham_samples\\7BItXxBkfcI.mp4\n",
      "running donwload, extract, delete cmd...0\n",
      "add file to sources\n",
      "label frame\n",
      "|GTtn48Z_P8k|\n",
      "get vid info\n",
      "[youtube] Extracting URL: https://www.youtube.com/watch?v=GTtn48Z_P8k\n",
      "[youtube] GTtn48Z_P8k: Downloading webpage\n",
      "[youtube] GTtn48Z_P8k: Downloading android player API JSON\n"
     ]
    },
    {
     "name": "stderr",
     "output_type": "stream",
     "text": [
      "WARNING: [youtube] GTtn48Z_P8k: nsig extraction failed: You may experience throttling for some formats\n",
      "         Install PhantomJS to workaround the issue. Please download it from https://phantomjs.org/download.html\n",
      "         n = Sklt5bXDIkgCog ; player = https://www.youtube.com/s/player/97ea7458/player_ias.vflset/en_US/base.js\n"
     ]
    },
    {
     "name": "stdout",
     "output_type": "stream",
     "text": [
      "get random frame\n",
      "*575-576\n",
      "GTtn48Z_P8k\n",
      "yt-dlp -S res:720,ext:mp4,fps:24 -c --recode mp4 --download-sections *575-576 https://www.youtube.com/watch?v=GTtn48Z_P8k --output spamham_samples/GTtn48Z_P8k.mp4 --retries infinite --fragment-retries infinite && ffmpeg -i spamham_samples/GTtn48Z_P8k.mp4 -r 1 -vframes 1 -f image2 -q:v 1 spamham_samples/frames/GTtn48Z_P8k.%03d.jpeg -y && del spamham_samples\\GTtn48Z_P8k.mp4\n",
      "running donwload, extract, delete cmd...0\n",
      "add file to sources\n",
      "label frame\n",
      "|Ur0UZXLJaJY|\n",
      "get vid info\n",
      "[youtube] Extracting URL: https://www.youtube.com/watch?v=Ur0UZXLJaJY\n",
      "[youtube] Ur0UZXLJaJY: Downloading webpage\n",
      "[youtube] Ur0UZXLJaJY: Downloading android player API JSON\n"
     ]
    },
    {
     "name": "stderr",
     "output_type": "stream",
     "text": [
      "WARNING: [youtube] Ur0UZXLJaJY: nsig extraction failed: You may experience throttling for some formats\n",
      "         Install PhantomJS to workaround the issue. Please download it from https://phantomjs.org/download.html\n",
      "         n = uX-bc-Y6ddzuQL ; player = https://www.youtube.com/s/player/97ea7458/player_ias.vflset/en_US/base.js\n"
     ]
    },
    {
     "name": "stdout",
     "output_type": "stream",
     "text": [
      "get random frame\n",
      "*349-350\n",
      "Ur0UZXLJaJY\n",
      "yt-dlp -S res:720,ext:mp4,fps:24 -c --recode mp4 --download-sections *349-350 https://www.youtube.com/watch?v=Ur0UZXLJaJY --output spamham_samples/Ur0UZXLJaJY.mp4 --retries infinite --fragment-retries infinite && ffmpeg -i spamham_samples/Ur0UZXLJaJY.mp4 -r 1 -vframes 1 -f image2 -q:v 1 spamham_samples/frames/Ur0UZXLJaJY.%03d.jpeg -y && del spamham_samples\\Ur0UZXLJaJY.mp4\n",
      "running donwload, extract, delete cmd...0\n",
      "add file to sources\n",
      "label frame\n",
      "|8qn9EsLl0V0|\n",
      "get vid info\n",
      "[youtube] Extracting URL: https://www.youtube.com/watch?v=8qn9EsLl0V0\n",
      "[youtube] 8qn9EsLl0V0: Downloading webpage\n",
      "[youtube] 8qn9EsLl0V0: Downloading android player API JSON\n"
     ]
    },
    {
     "name": "stderr",
     "output_type": "stream",
     "text": [
      "WARNING: [youtube] 8qn9EsLl0V0: nsig extraction failed: You may experience throttling for some formats\n",
      "         Install PhantomJS to workaround the issue. Please download it from https://phantomjs.org/download.html\n",
      "         n = HQpBcHHc-g33pZ ; player = https://www.youtube.com/s/player/97ea7458/player_ias.vflset/en_US/base.js\n"
     ]
    },
    {
     "name": "stdout",
     "output_type": "stream",
     "text": [
      "get random frame\n",
      "*14-15\n",
      "8qn9EsLl0V0\n",
      "yt-dlp -S res:720,ext:mp4,fps:24 -c --recode mp4 --download-sections *14-15 https://www.youtube.com/watch?v=8qn9EsLl0V0 --output spamham_samples/8qn9EsLl0V0.mp4 --retries infinite --fragment-retries infinite && ffmpeg -i spamham_samples/8qn9EsLl0V0.mp4 -r 1 -vframes 1 -f image2 -q:v 1 spamham_samples/frames/8qn9EsLl0V0.%03d.jpeg -y && del spamham_samples\\8qn9EsLl0V0.mp4\n",
      "running donwload, extract, delete cmd...0\n",
      "add file to sources\n",
      "label frame\n",
      "|DIB-YEo9YLY|\n",
      "get vid info\n",
      "[youtube] Extracting URL: https://www.youtube.com/watch?v=DIB-YEo9YLY\n",
      "[youtube] DIB-YEo9YLY: Downloading webpage\n",
      "[youtube] DIB-YEo9YLY: Downloading android player API JSON\n"
     ]
    },
    {
     "name": "stderr",
     "output_type": "stream",
     "text": [
      "WARNING: [youtube] DIB-YEo9YLY: nsig extraction failed: You may experience throttling for some formats\n",
      "         Install PhantomJS to workaround the issue. Please download it from https://phantomjs.org/download.html\n",
      "         n = IyJMpN1phHFInc ; player = https://www.youtube.com/s/player/97ea7458/player_ias.vflset/en_US/base.js\n"
     ]
    },
    {
     "name": "stdout",
     "output_type": "stream",
     "text": [
      "get random frame\n",
      "*1069-1070\n",
      "DIB-YEo9YLY\n",
      "yt-dlp -S res:720,ext:mp4,fps:24 -c --recode mp4 --download-sections *1069-1070 https://www.youtube.com/watch?v=DIB-YEo9YLY --output spamham_samples/DIB-YEo9YLY.mp4 --retries infinite --fragment-retries infinite && ffmpeg -i spamham_samples/DIB-YEo9YLY.mp4 -r 1 -vframes 1 -f image2 -q:v 1 spamham_samples/frames/DIB-YEo9YLY.%03d.jpeg -y && del spamham_samples\\DIB-YEo9YLY.mp4\n",
      "running donwload, extract, delete cmd...0\n",
      "add file to sources\n",
      "label frame\n",
      "|nksdDkLnZJY|\n",
      "get vid info\n",
      "[youtube] Extracting URL: https://www.youtube.com/watch?v=nksdDkLnZJY\n",
      "[youtube] nksdDkLnZJY: Downloading webpage\n",
      "[youtube] nksdDkLnZJY: Downloading android player API JSON\n"
     ]
    },
    {
     "name": "stderr",
     "output_type": "stream",
     "text": [
      "WARNING: [youtube] nksdDkLnZJY: nsig extraction failed: You may experience throttling for some formats\n",
      "         Install PhantomJS to workaround the issue. Please download it from https://phantomjs.org/download.html\n",
      "         n = WTnKkx-RCZZ2au ; player = https://www.youtube.com/s/player/97ea7458/player_ias.vflset/en_US/base.js\n"
     ]
    },
    {
     "name": "stdout",
     "output_type": "stream",
     "text": [
      "get random frame\n",
      "*1768-1769\n",
      "nksdDkLnZJY\n",
      "yt-dlp -S res:720,ext:mp4,fps:24 -c --recode mp4 --download-sections *1768-1769 https://www.youtube.com/watch?v=nksdDkLnZJY --output spamham_samples/nksdDkLnZJY.mp4 --retries infinite --fragment-retries infinite && ffmpeg -i spamham_samples/nksdDkLnZJY.mp4 -r 1 -vframes 1 -f image2 -q:v 1 spamham_samples/frames/nksdDkLnZJY.%03d.jpeg -y && del spamham_samples\\nksdDkLnZJY.mp4\n",
      "running donwload, extract, delete cmd...0\n",
      "add file to sources\n",
      "label frame\n",
      "|vv3lPr_H4Go|\n",
      "get vid info\n",
      "[youtube] Extracting URL: https://www.youtube.com/watch?v=vv3lPr_H4Go\n",
      "[youtube] vv3lPr_H4Go: Downloading webpage\n",
      "[youtube] vv3lPr_H4Go: Downloading android player API JSON\n"
     ]
    },
    {
     "name": "stderr",
     "output_type": "stream",
     "text": [
      "WARNING: [youtube] vv3lPr_H4Go: nsig extraction failed: You may experience throttling for some formats\n",
      "         Install PhantomJS to workaround the issue. Please download it from https://phantomjs.org/download.html\n",
      "         n = ROfOeU17TuFBm6 ; player = https://www.youtube.com/s/player/97ea7458/player_ias.vflset/en_US/base.js\n"
     ]
    },
    {
     "name": "stdout",
     "output_type": "stream",
     "text": [
      "get random frame\n",
      "*1790-1791\n",
      "vv3lPr_H4Go\n",
      "yt-dlp -S res:720,ext:mp4,fps:24 -c --recode mp4 --download-sections *1790-1791 https://www.youtube.com/watch?v=vv3lPr_H4Go --output spamham_samples/vv3lPr_H4Go.mp4 --retries infinite --fragment-retries infinite && ffmpeg -i spamham_samples/vv3lPr_H4Go.mp4 -r 1 -vframes 1 -f image2 -q:v 1 spamham_samples/frames/vv3lPr_H4Go.%03d.jpeg -y && del spamham_samples\\vv3lPr_H4Go.mp4\n",
      "running donwload, extract, delete cmd...0\n",
      "add file to sources\n",
      "label frame\n",
      "|CwCK0E8veJg|\n",
      "get vid info\n",
      "[youtube] Extracting URL: https://www.youtube.com/watch?v=CwCK0E8veJg\n",
      "[youtube] CwCK0E8veJg: Downloading webpage\n",
      "[youtube] CwCK0E8veJg: Downloading android player API JSON\n"
     ]
    },
    {
     "name": "stderr",
     "output_type": "stream",
     "text": [
      "WARNING: [youtube] CwCK0E8veJg: nsig extraction failed: You may experience throttling for some formats\n",
      "         Install PhantomJS to workaround the issue. Please download it from https://phantomjs.org/download.html\n",
      "         n = 5kMdMkQILeKpxQ ; player = https://www.youtube.com/s/player/97ea7458/player_ias.vflset/en_US/base.js\n"
     ]
    },
    {
     "name": "stdout",
     "output_type": "stream",
     "text": [
      "get random frame\n",
      "*1482-1483\n",
      "CwCK0E8veJg\n",
      "yt-dlp -S res:720,ext:mp4,fps:24 -c --recode mp4 --download-sections *1482-1483 https://www.youtube.com/watch?v=CwCK0E8veJg --output spamham_samples/CwCK0E8veJg.mp4 --retries infinite --fragment-retries infinite && ffmpeg -i spamham_samples/CwCK0E8veJg.mp4 -r 1 -vframes 1 -f image2 -q:v 1 spamham_samples/frames/CwCK0E8veJg.%03d.jpeg -y && del spamham_samples\\CwCK0E8veJg.mp4\n",
      "running donwload, extract, delete cmd...0\n",
      "add file to sources\n",
      "label frame\n",
      "|I9NiwWe9iBM|\n",
      "get vid info\n",
      "[youtube] Extracting URL: https://www.youtube.com/watch?v=I9NiwWe9iBM\n",
      "[youtube] I9NiwWe9iBM: Downloading webpage\n",
      "[youtube] I9NiwWe9iBM: Downloading android player API JSON\n"
     ]
    },
    {
     "name": "stderr",
     "output_type": "stream",
     "text": [
      "WARNING: [youtube] I9NiwWe9iBM: nsig extraction failed: You may experience throttling for some formats\n",
      "         Install PhantomJS to workaround the issue. Please download it from https://phantomjs.org/download.html\n",
      "         n = bLXoEsWt1eCLo6 ; player = https://www.youtube.com/s/player/97ea7458/player_ias.vflset/en_US/base.js\n"
     ]
    },
    {
     "name": "stdout",
     "output_type": "stream",
     "text": [
      "get random frame\n",
      "*294-295\n",
      "I9NiwWe9iBM\n",
      "yt-dlp -S res:720,ext:mp4,fps:24 -c --recode mp4 --download-sections *294-295 https://www.youtube.com/watch?v=I9NiwWe9iBM --output spamham_samples/I9NiwWe9iBM.mp4 --retries infinite --fragment-retries infinite && ffmpeg -i spamham_samples/I9NiwWe9iBM.mp4 -r 1 -vframes 1 -f image2 -q:v 1 spamham_samples/frames/I9NiwWe9iBM.%03d.jpeg -y && del spamham_samples\\I9NiwWe9iBM.mp4\n",
      "running donwload, extract, delete cmd...0\n",
      "add file to sources\n",
      "label frame\n",
      "|XOR0crCV8d0|\n",
      "get vid info\n",
      "[youtube] Extracting URL: https://www.youtube.com/watch?v=XOR0crCV8d0\n",
      "[youtube] XOR0crCV8d0: Downloading webpage\n",
      "[youtube] XOR0crCV8d0: Downloading android player API JSON\n"
     ]
    },
    {
     "name": "stderr",
     "output_type": "stream",
     "text": [
      "WARNING: [youtube] XOR0crCV8d0: nsig extraction failed: You may experience throttling for some formats\n",
      "         Install PhantomJS to workaround the issue. Please download it from https://phantomjs.org/download.html\n",
      "         n = pqVyJeH-_-WpLT ; player = https://www.youtube.com/s/player/97ea7458/player_ias.vflset/en_US/base.js\n"
     ]
    },
    {
     "name": "stdout",
     "output_type": "stream",
     "text": [
      "get random frame\n",
      "*443-444\n",
      "XOR0crCV8d0\n",
      "yt-dlp -S res:720,ext:mp4,fps:24 -c --recode mp4 --download-sections *443-444 https://www.youtube.com/watch?v=XOR0crCV8d0 --output spamham_samples/XOR0crCV8d0.mp4 --retries infinite --fragment-retries infinite && ffmpeg -i spamham_samples/XOR0crCV8d0.mp4 -r 1 -vframes 1 -f image2 -q:v 1 spamham_samples/frames/XOR0crCV8d0.%03d.jpeg -y && del spamham_samples\\XOR0crCV8d0.mp4\n",
      "running donwload, extract, delete cmd...0\n",
      "add file to sources\n",
      "label frame\n",
      "|L_qWetQXOYc|\n",
      "get vid info\n",
      "[youtube] Extracting URL: https://www.youtube.com/watch?v=L_qWetQXOYc\n",
      "[youtube] L_qWetQXOYc: Downloading webpage\n",
      "[youtube] L_qWetQXOYc: Downloading android player API JSON\n"
     ]
    },
    {
     "name": "stderr",
     "output_type": "stream",
     "text": [
      "WARNING: [youtube] L_qWetQXOYc: nsig extraction failed: You may experience throttling for some formats\n",
      "         Install PhantomJS to workaround the issue. Please download it from https://phantomjs.org/download.html\n",
      "         n = MVbIIwMAE4K86h ; player = https://www.youtube.com/s/player/97ea7458/player_ias.vflset/en_US/base.js\n"
     ]
    },
    {
     "name": "stdout",
     "output_type": "stream",
     "text": [
      "get random frame\n",
      "*145-146\n",
      "L_qWetQXOYc\n",
      "yt-dlp -S res:720,ext:mp4,fps:24 -c --recode mp4 --download-sections *145-146 https://www.youtube.com/watch?v=L_qWetQXOYc --output spamham_samples/L_qWetQXOYc.mp4 --retries infinite --fragment-retries infinite && ffmpeg -i spamham_samples/L_qWetQXOYc.mp4 -r 1 -vframes 1 -f image2 -q:v 1 spamham_samples/frames/L_qWetQXOYc.%03d.jpeg -y && del spamham_samples\\L_qWetQXOYc.mp4\n",
      "running donwload, extract, delete cmd...0\n",
      "add file to sources\n",
      "label frame\n",
      "|2he65uw8hp0|\n",
      "get vid info\n",
      "[youtube] Extracting URL: https://www.youtube.com/watch?v=2he65uw8hp0\n",
      "[youtube] 2he65uw8hp0: Downloading webpage\n",
      "[youtube] 2he65uw8hp0: Downloading android player API JSON\n"
     ]
    },
    {
     "name": "stderr",
     "output_type": "stream",
     "text": [
      "WARNING: [youtube] 2he65uw8hp0: nsig extraction failed: You may experience throttling for some formats\n",
      "         Install PhantomJS to workaround the issue. Please download it from https://phantomjs.org/download.html\n",
      "         n = vvJ6zHPNt6AvCk ; player = https://www.youtube.com/s/player/97ea7458/player_ias.vflset/en_US/base.js\n"
     ]
    },
    {
     "name": "stdout",
     "output_type": "stream",
     "text": [
      "get random frame\n",
      "*77-78\n",
      "2he65uw8hp0\n",
      "yt-dlp -S res:720,ext:mp4,fps:24 -c --recode mp4 --download-sections *77-78 https://www.youtube.com/watch?v=2he65uw8hp0 --output spamham_samples/2he65uw8hp0.mp4 --retries infinite --fragment-retries infinite && ffmpeg -i spamham_samples/2he65uw8hp0.mp4 -r 1 -vframes 1 -f image2 -q:v 1 spamham_samples/frames/2he65uw8hp0.%03d.jpeg -y && del spamham_samples\\2he65uw8hp0.mp4\n",
      "running donwload, extract, delete cmd...0\n",
      "add file to sources\n",
      "label frame\n",
      "|_t6whFtlIbo|\n",
      "get vid info\n",
      "[youtube] Extracting URL: https://www.youtube.com/watch?v=_t6whFtlIbo\n",
      "[youtube] _t6whFtlIbo: Downloading webpage\n",
      "[youtube] _t6whFtlIbo: Downloading android player API JSON\n"
     ]
    },
    {
     "name": "stderr",
     "output_type": "stream",
     "text": [
      "WARNING: [youtube] _t6whFtlIbo: nsig extraction failed: You may experience throttling for some formats\n",
      "         Install PhantomJS to workaround the issue. Please download it from https://phantomjs.org/download.html\n",
      "         n = uiu4iQcvYVvO67 ; player = https://www.youtube.com/s/player/97ea7458/player_ias.vflset/en_US/base.js\n"
     ]
    },
    {
     "name": "stdout",
     "output_type": "stream",
     "text": [
      "get random frame\n",
      "*194-195\n",
      "_t6whFtlIbo\n",
      "yt-dlp -S res:720,ext:mp4,fps:24 -c --recode mp4 --download-sections *194-195 https://www.youtube.com/watch?v=_t6whFtlIbo --output spamham_samples/_t6whFtlIbo.mp4 --retries infinite --fragment-retries infinite && ffmpeg -i spamham_samples/_t6whFtlIbo.mp4 -r 1 -vframes 1 -f image2 -q:v 1 spamham_samples/frames/_t6whFtlIbo.%03d.jpeg -y && del spamham_samples\\_t6whFtlIbo.mp4\n",
      "running donwload, extract, delete cmd...0\n",
      "add file to sources\n",
      "label frame\n",
      "|Ezp-f2d3qHo|\n",
      "get vid info\n",
      "[youtube] Extracting URL: https://www.youtube.com/watch?v=Ezp-f2d3qHo\n",
      "[youtube] Ezp-f2d3qHo: Downloading webpage\n",
      "[youtube] Ezp-f2d3qHo: Downloading android player API JSON\n"
     ]
    },
    {
     "name": "stderr",
     "output_type": "stream",
     "text": [
      "WARNING: [youtube] Ezp-f2d3qHo: nsig extraction failed: You may experience throttling for some formats\n",
      "         Install PhantomJS to workaround the issue. Please download it from https://phantomjs.org/download.html\n",
      "         n = 3yg0jZHV17SX_h ; player = https://www.youtube.com/s/player/97ea7458/player_ias.vflset/en_US/base.js\n"
     ]
    },
    {
     "name": "stdout",
     "output_type": "stream",
     "text": [
      "get random frame\n",
      "*984-985\n",
      "Ezp-f2d3qHo\n",
      "yt-dlp -S res:720,ext:mp4,fps:24 -c --recode mp4 --download-sections *984-985 https://www.youtube.com/watch?v=Ezp-f2d3qHo --output spamham_samples/Ezp-f2d3qHo.mp4 --retries infinite --fragment-retries infinite && ffmpeg -i spamham_samples/Ezp-f2d3qHo.mp4 -r 1 -vframes 1 -f image2 -q:v 1 spamham_samples/frames/Ezp-f2d3qHo.%03d.jpeg -y && del spamham_samples\\Ezp-f2d3qHo.mp4\n",
      "running donwload, extract, delete cmd...0\n",
      "add file to sources\n",
      "label frame\n",
      "|iFnKph3yPEE|\n",
      "get vid info\n",
      "[youtube] Extracting URL: https://www.youtube.com/watch?v=iFnKph3yPEE\n",
      "[youtube] iFnKph3yPEE: Downloading webpage\n",
      "[youtube] iFnKph3yPEE: Downloading android player API JSON\n"
     ]
    },
    {
     "name": "stderr",
     "output_type": "stream",
     "text": [
      "WARNING: [youtube] iFnKph3yPEE: nsig extraction failed: You may experience throttling for some formats\n",
      "         Install PhantomJS to workaround the issue. Please download it from https://phantomjs.org/download.html\n",
      "         n = GSw8xtBSnTCWrA ; player = https://www.youtube.com/s/player/97ea7458/player_ias.vflset/en_US/base.js\n"
     ]
    },
    {
     "name": "stdout",
     "output_type": "stream",
     "text": [
      "get random frame\n",
      "*262-263\n",
      "iFnKph3yPEE\n",
      "yt-dlp -S res:720,ext:mp4,fps:24 -c --recode mp4 --download-sections *262-263 https://www.youtube.com/watch?v=iFnKph3yPEE --output spamham_samples/iFnKph3yPEE.mp4 --retries infinite --fragment-retries infinite && ffmpeg -i spamham_samples/iFnKph3yPEE.mp4 -r 1 -vframes 1 -f image2 -q:v 1 spamham_samples/frames/iFnKph3yPEE.%03d.jpeg -y && del spamham_samples\\iFnKph3yPEE.mp4\n",
      "running donwload, extract, delete cmd...0\n",
      "add file to sources\n",
      "label frame\n",
      "|gPUvI_S8vxo|\n",
      "get vid info\n",
      "[youtube] Extracting URL: https://www.youtube.com/watch?v=gPUvI_S8vxo\n",
      "[youtube] gPUvI_S8vxo: Downloading webpage\n",
      "[youtube] gPUvI_S8vxo: Downloading android player API JSON\n"
     ]
    },
    {
     "name": "stderr",
     "output_type": "stream",
     "text": [
      "WARNING: [youtube] gPUvI_S8vxo: nsig extraction failed: You may experience throttling for some formats\n",
      "         Install PhantomJS to workaround the issue. Please download it from https://phantomjs.org/download.html\n",
      "         n = skOvKHkaYf7sA7 ; player = https://www.youtube.com/s/player/97ea7458/player_ias.vflset/en_US/base.js\n"
     ]
    },
    {
     "name": "stdout",
     "output_type": "stream",
     "text": [
      "get random frame\n",
      "*1061-1062\n",
      "gPUvI_S8vxo\n",
      "yt-dlp -S res:720,ext:mp4,fps:24 -c --recode mp4 --download-sections *1061-1062 https://www.youtube.com/watch?v=gPUvI_S8vxo --output spamham_samples/gPUvI_S8vxo.mp4 --retries infinite --fragment-retries infinite && ffmpeg -i spamham_samples/gPUvI_S8vxo.mp4 -r 1 -vframes 1 -f image2 -q:v 1 spamham_samples/frames/gPUvI_S8vxo.%03d.jpeg -y && del spamham_samples\\gPUvI_S8vxo.mp4\n",
      "running donwload, extract, delete cmd...0\n",
      "add file to sources\n",
      "label frame\n",
      "|-CoCUSRzPFk|\n",
      "get vid info\n",
      "[youtube] Extracting URL: https://www.youtube.com/watch?v=-CoCUSRzPFk\n",
      "[youtube] -CoCUSRzPFk: Downloading webpage\n",
      "[youtube] -CoCUSRzPFk: Downloading android player API JSON\n"
     ]
    },
    {
     "name": "stderr",
     "output_type": "stream",
     "text": [
      "WARNING: [youtube] -CoCUSRzPFk: nsig extraction failed: You may experience throttling for some formats\n",
      "         Install PhantomJS to workaround the issue. Please download it from https://phantomjs.org/download.html\n",
      "         n = xrbsoR_qph1xV1 ; player = https://www.youtube.com/s/player/97ea7458/player_ias.vflset/en_US/base.js\n"
     ]
    },
    {
     "name": "stdout",
     "output_type": "stream",
     "text": [
      "get random frame\n",
      "*557-558\n",
      "-CoCUSRzPFk\n",
      "yt-dlp -S res:720,ext:mp4,fps:24 -c --recode mp4 --download-sections *557-558 https://www.youtube.com/watch?v=-CoCUSRzPFk --output spamham_samples/-CoCUSRzPFk.mp4 --retries infinite --fragment-retries infinite && ffmpeg -i spamham_samples/-CoCUSRzPFk.mp4 -r 1 -vframes 1 -f image2 -q:v 1 spamham_samples/frames/-CoCUSRzPFk.%03d.jpeg -y && del spamham_samples\\-CoCUSRzPFk.mp4\n",
      "running donwload, extract, delete cmd...0\n",
      "add file to sources\n",
      "label frame\n",
      "|03Yj7x2enqc|\n",
      "get vid info\n",
      "[youtube] Extracting URL: https://www.youtube.com/watch?v=03Yj7x2enqc\n",
      "[youtube] 03Yj7x2enqc: Downloading webpage\n",
      "[youtube] 03Yj7x2enqc: Downloading android player API JSON\n"
     ]
    },
    {
     "name": "stderr",
     "output_type": "stream",
     "text": [
      "WARNING: [youtube] 03Yj7x2enqc: nsig extraction failed: You may experience throttling for some formats\n",
      "         Install PhantomJS to workaround the issue. Please download it from https://phantomjs.org/download.html\n",
      "         n = JqGdPOkwZC7JAG ; player = https://www.youtube.com/s/player/97ea7458/player_ias.vflset/en_US/base.js\n"
     ]
    },
    {
     "name": "stdout",
     "output_type": "stream",
     "text": [
      "get random frame\n",
      "*810-811\n",
      "03Yj7x2enqc\n",
      "yt-dlp -S res:720,ext:mp4,fps:24 -c --recode mp4 --download-sections *810-811 https://www.youtube.com/watch?v=03Yj7x2enqc --output spamham_samples/03Yj7x2enqc.mp4 --retries infinite --fragment-retries infinite && ffmpeg -i spamham_samples/03Yj7x2enqc.mp4 -r 1 -vframes 1 -f image2 -q:v 1 spamham_samples/frames/03Yj7x2enqc.%03d.jpeg -y && del spamham_samples\\03Yj7x2enqc.mp4\n",
      "running donwload, extract, delete cmd...0\n",
      "add file to sources\n",
      "label frame\n",
      "|k4y9ybX-dCY|\n",
      "get vid info\n",
      "[youtube] Extracting URL: https://www.youtube.com/watch?v=k4y9ybX-dCY\n",
      "[youtube] k4y9ybX-dCY: Downloading webpage\n",
      "[youtube] k4y9ybX-dCY: Downloading android player API JSON\n"
     ]
    },
    {
     "name": "stderr",
     "output_type": "stream",
     "text": [
      "WARNING: [youtube] k4y9ybX-dCY: nsig extraction failed: You may experience throttling for some formats\n",
      "         Install PhantomJS to workaround the issue. Please download it from https://phantomjs.org/download.html\n",
      "         n = _zbhHEBG3kwfRv ; player = https://www.youtube.com/s/player/97ea7458/player_ias.vflset/en_US/base.js\n"
     ]
    },
    {
     "name": "stdout",
     "output_type": "stream",
     "text": [
      "get random frame\n",
      "*139-140\n",
      "k4y9ybX-dCY\n",
      "yt-dlp -S res:720,ext:mp4,fps:24 -c --recode mp4 --download-sections *139-140 https://www.youtube.com/watch?v=k4y9ybX-dCY --output spamham_samples/k4y9ybX-dCY.mp4 --retries infinite --fragment-retries infinite && ffmpeg -i spamham_samples/k4y9ybX-dCY.mp4 -r 1 -vframes 1 -f image2 -q:v 1 spamham_samples/frames/k4y9ybX-dCY.%03d.jpeg -y && del spamham_samples\\k4y9ybX-dCY.mp4\n",
      "running donwload, extract, delete cmd...0\n",
      "add file to sources\n",
      "label frame\n",
      "|ElL-18lEbd0|\n",
      "get vid info\n",
      "[youtube] Extracting URL: https://www.youtube.com/watch?v=ElL-18lEbd0\n",
      "[youtube] ElL-18lEbd0: Downloading webpage\n",
      "[youtube] ElL-18lEbd0: Downloading android player API JSON\n"
     ]
    },
    {
     "name": "stderr",
     "output_type": "stream",
     "text": [
      "WARNING: [youtube] ElL-18lEbd0: nsig extraction failed: You may experience throttling for some formats\n",
      "         Install PhantomJS to workaround the issue. Please download it from https://phantomjs.org/download.html\n",
      "         n = oJUFopcYZ1oo-4 ; player = https://www.youtube.com/s/player/97ea7458/player_ias.vflset/en_US/base.js\n"
     ]
    },
    {
     "name": "stdout",
     "output_type": "stream",
     "text": [
      "get random frame\n",
      "*1248-1249\n",
      "ElL-18lEbd0\n",
      "yt-dlp -S res:720,ext:mp4,fps:24 -c --recode mp4 --download-sections *1248-1249 https://www.youtube.com/watch?v=ElL-18lEbd0 --output spamham_samples/ElL-18lEbd0.mp4 --retries infinite --fragment-retries infinite && ffmpeg -i spamham_samples/ElL-18lEbd0.mp4 -r 1 -vframes 1 -f image2 -q:v 1 spamham_samples/frames/ElL-18lEbd0.%03d.jpeg -y && del spamham_samples\\ElL-18lEbd0.mp4\n",
      "running donwload, extract, delete cmd...0\n",
      "add file to sources\n",
      "label frame\n",
      "|jhPsyjIowDU|\n",
      "get vid info\n",
      "[youtube] Extracting URL: https://www.youtube.com/watch?v=jhPsyjIowDU\n",
      "[youtube] jhPsyjIowDU: Downloading webpage\n",
      "[youtube] jhPsyjIowDU: Downloading android player API JSON\n"
     ]
    },
    {
     "name": "stderr",
     "output_type": "stream",
     "text": [
      "WARNING: [youtube] jhPsyjIowDU: nsig extraction failed: You may experience throttling for some formats\n",
      "         Install PhantomJS to workaround the issue. Please download it from https://phantomjs.org/download.html\n",
      "         n = 50kEo6Rg1Fl5bZ ; player = https://www.youtube.com/s/player/97ea7458/player_ias.vflset/en_US/base.js\n"
     ]
    },
    {
     "name": "stdout",
     "output_type": "stream",
     "text": [
      "get random frame\n",
      "*677-678\n",
      "jhPsyjIowDU\n",
      "yt-dlp -S res:720,ext:mp4,fps:24 -c --recode mp4 --download-sections *677-678 https://www.youtube.com/watch?v=jhPsyjIowDU --output spamham_samples/jhPsyjIowDU.mp4 --retries infinite --fragment-retries infinite && ffmpeg -i spamham_samples/jhPsyjIowDU.mp4 -r 1 -vframes 1 -f image2 -q:v 1 spamham_samples/frames/jhPsyjIowDU.%03d.jpeg -y && del spamham_samples\\jhPsyjIowDU.mp4\n",
      "running donwload, extract, delete cmd...0\n",
      "add file to sources\n",
      "label frame\n",
      "|g1eIHWXvmpk|\n",
      "get vid info\n",
      "[youtube] Extracting URL: https://www.youtube.com/watch?v=g1eIHWXvmpk\n",
      "[youtube] g1eIHWXvmpk: Downloading webpage\n",
      "[youtube] g1eIHWXvmpk: Downloading android player API JSON\n"
     ]
    },
    {
     "name": "stderr",
     "output_type": "stream",
     "text": [
      "WARNING: [youtube] g1eIHWXvmpk: nsig extraction failed: You may experience throttling for some formats\n",
      "         Install PhantomJS to workaround the issue. Please download it from https://phantomjs.org/download.html\n",
      "         n = N7wrDxd0Us1Nyv ; player = https://www.youtube.com/s/player/97ea7458/player_ias.vflset/en_US/base.js\n"
     ]
    },
    {
     "name": "stdout",
     "output_type": "stream",
     "text": [
      "get random frame\n",
      "*497-498\n",
      "g1eIHWXvmpk\n",
      "yt-dlp -S res:720,ext:mp4,fps:24 -c --recode mp4 --download-sections *497-498 https://www.youtube.com/watch?v=g1eIHWXvmpk --output spamham_samples/g1eIHWXvmpk.mp4 --retries infinite --fragment-retries infinite && ffmpeg -i spamham_samples/g1eIHWXvmpk.mp4 -r 1 -vframes 1 -f image2 -q:v 1 spamham_samples/frames/g1eIHWXvmpk.%03d.jpeg -y && del spamham_samples\\g1eIHWXvmpk.mp4\n",
      "running donwload, extract, delete cmd...0\n",
      "add file to sources\n",
      "label frame\n",
      "|SDJ6vZc2Xbg|\n",
      "get vid info\n",
      "[youtube] Extracting URL: https://www.youtube.com/watch?v=SDJ6vZc2Xbg\n",
      "[youtube] SDJ6vZc2Xbg: Downloading webpage\n",
      "[youtube] SDJ6vZc2Xbg: Downloading android player API JSON\n"
     ]
    },
    {
     "name": "stderr",
     "output_type": "stream",
     "text": [
      "WARNING: [youtube] SDJ6vZc2Xbg: nsig extraction failed: You may experience throttling for some formats\n",
      "         Install PhantomJS to workaround the issue. Please download it from https://phantomjs.org/download.html\n",
      "         n = 2hTVdaEloxgWes ; player = https://www.youtube.com/s/player/97ea7458/player_ias.vflset/en_US/base.js\n"
     ]
    },
    {
     "name": "stdout",
     "output_type": "stream",
     "text": [
      "get random frame\n",
      "*931-932\n",
      "SDJ6vZc2Xbg\n",
      "yt-dlp -S res:720,ext:mp4,fps:24 -c --recode mp4 --download-sections *931-932 https://www.youtube.com/watch?v=SDJ6vZc2Xbg --output spamham_samples/SDJ6vZc2Xbg.mp4 --retries infinite --fragment-retries infinite && ffmpeg -i spamham_samples/SDJ6vZc2Xbg.mp4 -r 1 -vframes 1 -f image2 -q:v 1 spamham_samples/frames/SDJ6vZc2Xbg.%03d.jpeg -y && del spamham_samples\\SDJ6vZc2Xbg.mp4\n",
      "running donwload, extract, delete cmd...0\n",
      "add file to sources\n",
      "label frame\n",
      "|q7cbO99Yr5c|\n",
      "get vid info\n",
      "[youtube] Extracting URL: https://www.youtube.com/watch?v=q7cbO99Yr5c\n",
      "[youtube] q7cbO99Yr5c: Downloading webpage\n",
      "[youtube] q7cbO99Yr5c: Downloading android player API JSON\n"
     ]
    },
    {
     "name": "stderr",
     "output_type": "stream",
     "text": [
      "WARNING: [youtube] q7cbO99Yr5c: nsig extraction failed: You may experience throttling for some formats\n",
      "         Install PhantomJS to workaround the issue. Please download it from https://phantomjs.org/download.html\n",
      "         n = 2sGpkasZqgbW9Z ; player = https://www.youtube.com/s/player/97ea7458/player_ias.vflset/en_US/base.js\n"
     ]
    },
    {
     "name": "stdout",
     "output_type": "stream",
     "text": [
      "get random frame\n",
      "*532-533\n",
      "q7cbO99Yr5c\n",
      "yt-dlp -S res:720,ext:mp4,fps:24 -c --recode mp4 --download-sections *532-533 https://www.youtube.com/watch?v=q7cbO99Yr5c --output spamham_samples/q7cbO99Yr5c.mp4 --retries infinite --fragment-retries infinite && ffmpeg -i spamham_samples/q7cbO99Yr5c.mp4 -r 1 -vframes 1 -f image2 -q:v 1 spamham_samples/frames/q7cbO99Yr5c.%03d.jpeg -y && del spamham_samples\\q7cbO99Yr5c.mp4\n",
      "running donwload, extract, delete cmd...0\n",
      "add file to sources\n",
      "label frame\n",
      "|dhtoLzE2YXk|\n",
      "get vid info\n",
      "[youtube] Extracting URL: https://www.youtube.com/watch?v=dhtoLzE2YXk\n",
      "[youtube] dhtoLzE2YXk: Downloading webpage\n",
      "[youtube] dhtoLzE2YXk: Downloading android player API JSON\n"
     ]
    },
    {
     "name": "stderr",
     "output_type": "stream",
     "text": [
      "WARNING: [youtube] dhtoLzE2YXk: nsig extraction failed: You may experience throttling for some formats\n",
      "         Install PhantomJS to workaround the issue. Please download it from https://phantomjs.org/download.html\n",
      "         n = hgVp-uuf9DVR8- ; player = https://www.youtube.com/s/player/97ea7458/player_ias.vflset/en_US/base.js\n"
     ]
    },
    {
     "name": "stdout",
     "output_type": "stream",
     "text": [
      "get random frame\n",
      "*913-914\n",
      "dhtoLzE2YXk\n",
      "yt-dlp -S res:720,ext:mp4,fps:24 -c --recode mp4 --download-sections *913-914 https://www.youtube.com/watch?v=dhtoLzE2YXk --output spamham_samples/dhtoLzE2YXk.mp4 --retries infinite --fragment-retries infinite && ffmpeg -i spamham_samples/dhtoLzE2YXk.mp4 -r 1 -vframes 1 -f image2 -q:v 1 spamham_samples/frames/dhtoLzE2YXk.%03d.jpeg -y && del spamham_samples\\dhtoLzE2YXk.mp4\n",
      "running donwload, extract, delete cmd...0\n",
      "add file to sources\n",
      "label frame\n",
      "|OnJ_hFuyRh4|\n",
      "get vid info\n",
      "[youtube] Extracting URL: https://www.youtube.com/watch?v=OnJ_hFuyRh4\n",
      "[youtube] OnJ_hFuyRh4: Downloading webpage\n",
      "[youtube] OnJ_hFuyRh4: Downloading android player API JSON\n"
     ]
    },
    {
     "name": "stderr",
     "output_type": "stream",
     "text": [
      "WARNING: [youtube] OnJ_hFuyRh4: nsig extraction failed: You may experience throttling for some formats\n",
      "         Install PhantomJS to workaround the issue. Please download it from https://phantomjs.org/download.html\n",
      "         n = dZQ5CCjVHRk9fi ; player = https://www.youtube.com/s/player/97ea7458/player_ias.vflset/en_US/base.js\n"
     ]
    },
    {
     "name": "stdout",
     "output_type": "stream",
     "text": [
      "get random frame\n",
      "*1245-1246\n",
      "OnJ_hFuyRh4\n",
      "yt-dlp -S res:720,ext:mp4,fps:24 -c --recode mp4 --download-sections *1245-1246 https://www.youtube.com/watch?v=OnJ_hFuyRh4 --output spamham_samples/OnJ_hFuyRh4.mp4 --retries infinite --fragment-retries infinite && ffmpeg -i spamham_samples/OnJ_hFuyRh4.mp4 -r 1 -vframes 1 -f image2 -q:v 1 spamham_samples/frames/OnJ_hFuyRh4.%03d.jpeg -y && del spamham_samples\\OnJ_hFuyRh4.mp4\n",
      "running donwload, extract, delete cmd...0\n",
      "add file to sources\n",
      "label frame\n",
      "|tcWWyv5wkEw|\n",
      "get vid info\n",
      "[youtube] Extracting URL: https://www.youtube.com/watch?v=tcWWyv5wkEw\n",
      "[youtube] tcWWyv5wkEw: Downloading webpage\n",
      "[youtube] tcWWyv5wkEw: Downloading android player API JSON\n"
     ]
    },
    {
     "name": "stderr",
     "output_type": "stream",
     "text": [
      "WARNING: [youtube] tcWWyv5wkEw: nsig extraction failed: You may experience throttling for some formats\n",
      "         Install PhantomJS to workaround the issue. Please download it from https://phantomjs.org/download.html\n",
      "         n = -5c4RvZn_YwO8Y ; player = https://www.youtube.com/s/player/97ea7458/player_ias.vflset/en_US/base.js\n"
     ]
    },
    {
     "name": "stdout",
     "output_type": "stream",
     "text": [
      "get random frame\n",
      "*1091-1092\n",
      "tcWWyv5wkEw\n",
      "yt-dlp -S res:720,ext:mp4,fps:24 -c --recode mp4 --download-sections *1091-1092 https://www.youtube.com/watch?v=tcWWyv5wkEw --output spamham_samples/tcWWyv5wkEw.mp4 --retries infinite --fragment-retries infinite && ffmpeg -i spamham_samples/tcWWyv5wkEw.mp4 -r 1 -vframes 1 -f image2 -q:v 1 spamham_samples/frames/tcWWyv5wkEw.%03d.jpeg -y && del spamham_samples\\tcWWyv5wkEw.mp4\n",
      "running donwload, extract, delete cmd...0\n",
      "add file to sources\n",
      "label frame\n",
      "|LPjiFNarmkY|\n",
      "get vid info\n",
      "[youtube] Extracting URL: https://www.youtube.com/watch?v=LPjiFNarmkY\n",
      "[youtube] LPjiFNarmkY: Downloading webpage\n",
      "[youtube] LPjiFNarmkY: Downloading android player API JSON\n"
     ]
    },
    {
     "name": "stderr",
     "output_type": "stream",
     "text": [
      "WARNING: [youtube] LPjiFNarmkY: nsig extraction failed: You may experience throttling for some formats\n",
      "         Install PhantomJS to workaround the issue. Please download it from https://phantomjs.org/download.html\n",
      "         n = GVZTgFraO1OWnn ; player = https://www.youtube.com/s/player/97ea7458/player_ias.vflset/en_US/base.js\n"
     ]
    },
    {
     "name": "stdout",
     "output_type": "stream",
     "text": [
      "get random frame\n",
      "*12-13\n",
      "LPjiFNarmkY\n",
      "yt-dlp -S res:720,ext:mp4,fps:24 -c --recode mp4 --download-sections *12-13 https://www.youtube.com/watch?v=LPjiFNarmkY --output spamham_samples/LPjiFNarmkY.mp4 --retries infinite --fragment-retries infinite && ffmpeg -i spamham_samples/LPjiFNarmkY.mp4 -r 1 -vframes 1 -f image2 -q:v 1 spamham_samples/frames/LPjiFNarmkY.%03d.jpeg -y && del spamham_samples\\LPjiFNarmkY.mp4\n",
      "running donwload, extract, delete cmd...0\n",
      "add file to sources\n",
      "label frame\n",
      "|l2C_FowrxLY|\n",
      "get vid info\n",
      "[youtube] Extracting URL: https://www.youtube.com/watch?v=l2C_FowrxLY\n",
      "[youtube] l2C_FowrxLY: Downloading webpage\n",
      "[youtube] l2C_FowrxLY: Downloading android player API JSON\n"
     ]
    },
    {
     "name": "stderr",
     "output_type": "stream",
     "text": [
      "WARNING: [youtube] l2C_FowrxLY: nsig extraction failed: You may experience throttling for some formats\n",
      "         Install PhantomJS to workaround the issue. Please download it from https://phantomjs.org/download.html\n",
      "         n = 4Z6wYu9Q3aPISV ; player = https://www.youtube.com/s/player/97ea7458/player_ias.vflset/en_US/base.js\n"
     ]
    },
    {
     "name": "stdout",
     "output_type": "stream",
     "text": [
      "get random frame\n",
      "*1198-1199\n",
      "l2C_FowrxLY\n",
      "yt-dlp -S res:720,ext:mp4,fps:24 -c --recode mp4 --download-sections *1198-1199 https://www.youtube.com/watch?v=l2C_FowrxLY --output spamham_samples/l2C_FowrxLY.mp4 --retries infinite --fragment-retries infinite && ffmpeg -i spamham_samples/l2C_FowrxLY.mp4 -r 1 -vframes 1 -f image2 -q:v 1 spamham_samples/frames/l2C_FowrxLY.%03d.jpeg -y && del spamham_samples\\l2C_FowrxLY.mp4\n",
      "running donwload, extract, delete cmd...0\n",
      "add file to sources\n",
      "label frame\n",
      "|_yNMNHkNFBY|\n",
      "get vid info\n",
      "[youtube] Extracting URL: https://www.youtube.com/watch?v=_yNMNHkNFBY\n",
      "[youtube] _yNMNHkNFBY: Downloading webpage\n",
      "[youtube] _yNMNHkNFBY: Downloading android player API JSON\n"
     ]
    },
    {
     "name": "stderr",
     "output_type": "stream",
     "text": [
      "WARNING: [youtube] _yNMNHkNFBY: nsig extraction failed: You may experience throttling for some formats\n",
      "         Install PhantomJS to workaround the issue. Please download it from https://phantomjs.org/download.html\n",
      "         n = 4v8ix7Y3apoIss ; player = https://www.youtube.com/s/player/97ea7458/player_ias.vflset/en_US/base.js\n"
     ]
    },
    {
     "name": "stdout",
     "output_type": "stream",
     "text": [
      "get random frame\n",
      "*191-192\n",
      "_yNMNHkNFBY\n",
      "yt-dlp -S res:720,ext:mp4,fps:24 -c --recode mp4 --download-sections *191-192 https://www.youtube.com/watch?v=_yNMNHkNFBY --output spamham_samples/_yNMNHkNFBY.mp4 --retries infinite --fragment-retries infinite && ffmpeg -i spamham_samples/_yNMNHkNFBY.mp4 -r 1 -vframes 1 -f image2 -q:v 1 spamham_samples/frames/_yNMNHkNFBY.%03d.jpeg -y && del spamham_samples\\_yNMNHkNFBY.mp4\n",
      "running donwload, extract, delete cmd...0\n",
      "add file to sources\n",
      "label frame\n",
      "|97KKnchpWXE|\n",
      "get vid info\n",
      "[youtube] Extracting URL: https://www.youtube.com/watch?v=97KKnchpWXE\n",
      "[youtube] 97KKnchpWXE: Downloading webpage\n",
      "[youtube] 97KKnchpWXE: Downloading android player API JSON\n"
     ]
    },
    {
     "name": "stderr",
     "output_type": "stream",
     "text": [
      "WARNING: [youtube] 97KKnchpWXE: nsig extraction failed: You may experience throttling for some formats\n",
      "         Install PhantomJS to workaround the issue. Please download it from https://phantomjs.org/download.html\n",
      "         n = 2OWGxcUqMMAmuU ; player = https://www.youtube.com/s/player/97ea7458/player_ias.vflset/en_US/base.js\n"
     ]
    },
    {
     "name": "stdout",
     "output_type": "stream",
     "text": [
      "get random frame\n",
      "*1102-1103\n",
      "97KKnchpWXE\n",
      "yt-dlp -S res:720,ext:mp4,fps:24 -c --recode mp4 --download-sections *1102-1103 https://www.youtube.com/watch?v=97KKnchpWXE --output spamham_samples/97KKnchpWXE.mp4 --retries infinite --fragment-retries infinite && ffmpeg -i spamham_samples/97KKnchpWXE.mp4 -r 1 -vframes 1 -f image2 -q:v 1 spamham_samples/frames/97KKnchpWXE.%03d.jpeg -y && del spamham_samples\\97KKnchpWXE.mp4\n",
      "running donwload, extract, delete cmd...0\n",
      "add file to sources\n",
      "label frame\n",
      "|577DqPQlcgY|\n",
      "get vid info\n",
      "[youtube] Extracting URL: https://www.youtube.com/watch?v=577DqPQlcgY\n",
      "[youtube] 577DqPQlcgY: Downloading webpage\n",
      "[youtube] 577DqPQlcgY: Downloading android player API JSON\n"
     ]
    },
    {
     "name": "stderr",
     "output_type": "stream",
     "text": [
      "WARNING: [youtube] 577DqPQlcgY: nsig extraction failed: You may experience throttling for some formats\n",
      "         Install PhantomJS to workaround the issue. Please download it from https://phantomjs.org/download.html\n",
      "         n = ClhcqOb_OXFyi9 ; player = https://www.youtube.com/s/player/97ea7458/player_ias.vflset/en_US/base.js\n"
     ]
    },
    {
     "name": "stdout",
     "output_type": "stream",
     "text": [
      "get random frame\n",
      "*547-548\n",
      "577DqPQlcgY\n",
      "yt-dlp -S res:720,ext:mp4,fps:24 -c --recode mp4 --download-sections *547-548 https://www.youtube.com/watch?v=577DqPQlcgY --output spamham_samples/577DqPQlcgY.mp4 --retries infinite --fragment-retries infinite && ffmpeg -i spamham_samples/577DqPQlcgY.mp4 -r 1 -vframes 1 -f image2 -q:v 1 spamham_samples/frames/577DqPQlcgY.%03d.jpeg -y && del spamham_samples\\577DqPQlcgY.mp4\n",
      "running donwload, extract, delete cmd...0\n",
      "add file to sources\n",
      "label frame\n",
      "|IAG8E9UhqdY|\n",
      "get vid info\n",
      "[youtube] Extracting URL: https://www.youtube.com/watch?v=IAG8E9UhqdY\n",
      "[youtube] IAG8E9UhqdY: Downloading webpage\n",
      "[youtube] IAG8E9UhqdY: Downloading android player API JSON\n"
     ]
    },
    {
     "name": "stderr",
     "output_type": "stream",
     "text": [
      "WARNING: [youtube] IAG8E9UhqdY: nsig extraction failed: You may experience throttling for some formats\n",
      "         Install PhantomJS to workaround the issue. Please download it from https://phantomjs.org/download.html\n",
      "         n = ySmz_YyPAQ5yiV ; player = https://www.youtube.com/s/player/97ea7458/player_ias.vflset/en_US/base.js\n"
     ]
    },
    {
     "name": "stdout",
     "output_type": "stream",
     "text": [
      "get random frame\n",
      "*1303-1304\n",
      "IAG8E9UhqdY\n",
      "yt-dlp -S res:720,ext:mp4,fps:24 -c --recode mp4 --download-sections *1303-1304 https://www.youtube.com/watch?v=IAG8E9UhqdY --output spamham_samples/IAG8E9UhqdY.mp4 --retries infinite --fragment-retries infinite && ffmpeg -i spamham_samples/IAG8E9UhqdY.mp4 -r 1 -vframes 1 -f image2 -q:v 1 spamham_samples/frames/IAG8E9UhqdY.%03d.jpeg -y && del spamham_samples\\IAG8E9UhqdY.mp4\n",
      "running donwload, extract, delete cmd...0\n",
      "add file to sources\n",
      "label frame\n",
      "|O5YWa1Hycrw|\n",
      "get vid info\n",
      "[youtube] Extracting URL: https://www.youtube.com/watch?v=O5YWa1Hycrw\n",
      "[youtube] O5YWa1Hycrw: Downloading webpage\n",
      "[youtube] O5YWa1Hycrw: Downloading android player API JSON\n"
     ]
    },
    {
     "name": "stderr",
     "output_type": "stream",
     "text": [
      "WARNING: [youtube] O5YWa1Hycrw: nsig extraction failed: You may experience throttling for some formats\n",
      "         Install PhantomJS to workaround the issue. Please download it from https://phantomjs.org/download.html\n",
      "         n = izd-iK3Wid8CTE ; player = https://www.youtube.com/s/player/97ea7458/player_ias.vflset/en_US/base.js\n"
     ]
    },
    {
     "name": "stdout",
     "output_type": "stream",
     "text": [
      "get random frame\n",
      "*248-249\n",
      "O5YWa1Hycrw\n",
      "yt-dlp -S res:720,ext:mp4,fps:24 -c --recode mp4 --download-sections *248-249 https://www.youtube.com/watch?v=O5YWa1Hycrw --output spamham_samples/O5YWa1Hycrw.mp4 --retries infinite --fragment-retries infinite && ffmpeg -i spamham_samples/O5YWa1Hycrw.mp4 -r 1 -vframes 1 -f image2 -q:v 1 spamham_samples/frames/O5YWa1Hycrw.%03d.jpeg -y && del spamham_samples\\O5YWa1Hycrw.mp4\n",
      "running donwload, extract, delete cmd...0\n",
      "add file to sources\n",
      "label frame\n",
      "|mxvmSnCkY_Y|\n",
      "get vid info\n",
      "[youtube] Extracting URL: https://www.youtube.com/watch?v=mxvmSnCkY_Y\n",
      "[youtube] mxvmSnCkY_Y: Downloading webpage\n",
      "[youtube] mxvmSnCkY_Y: Downloading android player API JSON\n"
     ]
    },
    {
     "name": "stderr",
     "output_type": "stream",
     "text": [
      "WARNING: [youtube] mxvmSnCkY_Y: nsig extraction failed: You may experience throttling for some formats\n",
      "         Install PhantomJS to workaround the issue. Please download it from https://phantomjs.org/download.html\n",
      "         n = am-wu78ljhMam0 ; player = https://www.youtube.com/s/player/97ea7458/player_ias.vflset/en_US/base.js\n"
     ]
    },
    {
     "name": "stdout",
     "output_type": "stream",
     "text": [
      "get random frame\n",
      "*617-618\n",
      "mxvmSnCkY_Y\n",
      "yt-dlp -S res:720,ext:mp4,fps:24 -c --recode mp4 --download-sections *617-618 https://www.youtube.com/watch?v=mxvmSnCkY_Y --output spamham_samples/mxvmSnCkY_Y.mp4 --retries infinite --fragment-retries infinite && ffmpeg -i spamham_samples/mxvmSnCkY_Y.mp4 -r 1 -vframes 1 -f image2 -q:v 1 spamham_samples/frames/mxvmSnCkY_Y.%03d.jpeg -y && del spamham_samples\\mxvmSnCkY_Y.mp4\n",
      "running donwload, extract, delete cmd...0\n",
      "add file to sources\n",
      "label frame\n",
      "|F2zZEYqXcEQ|\n",
      "get vid info\n",
      "[youtube] Extracting URL: https://www.youtube.com/watch?v=F2zZEYqXcEQ\n",
      "[youtube] F2zZEYqXcEQ: Downloading webpage\n",
      "[youtube] F2zZEYqXcEQ: Downloading android player API JSON\n"
     ]
    },
    {
     "name": "stderr",
     "output_type": "stream",
     "text": [
      "WARNING: [youtube] F2zZEYqXcEQ: nsig extraction failed: You may experience throttling for some formats\n",
      "         Install PhantomJS to workaround the issue. Please download it from https://phantomjs.org/download.html\n",
      "         n = huaCBuYGG4WxFI ; player = https://www.youtube.com/s/player/97ea7458/player_ias.vflset/en_US/base.js\n"
     ]
    },
    {
     "name": "stdout",
     "output_type": "stream",
     "text": [
      "get random frame\n",
      "*990-991\n",
      "F2zZEYqXcEQ\n",
      "yt-dlp -S res:720,ext:mp4,fps:24 -c --recode mp4 --download-sections *990-991 https://www.youtube.com/watch?v=F2zZEYqXcEQ --output spamham_samples/F2zZEYqXcEQ.mp4 --retries infinite --fragment-retries infinite && ffmpeg -i spamham_samples/F2zZEYqXcEQ.mp4 -r 1 -vframes 1 -f image2 -q:v 1 spamham_samples/frames/F2zZEYqXcEQ.%03d.jpeg -y && del spamham_samples\\F2zZEYqXcEQ.mp4\n",
      "running donwload, extract, delete cmd...0\n",
      "add file to sources\n",
      "label frame\n",
      "|bCFo0rlsFKA|\n",
      "get vid info\n",
      "[youtube] Extracting URL: https://www.youtube.com/watch?v=bCFo0rlsFKA\n",
      "[youtube] bCFo0rlsFKA: Downloading webpage\n",
      "[youtube] bCFo0rlsFKA: Downloading android player API JSON\n"
     ]
    },
    {
     "name": "stderr",
     "output_type": "stream",
     "text": [
      "WARNING: [youtube] bCFo0rlsFKA: nsig extraction failed: You may experience throttling for some formats\n",
      "         Install PhantomJS to workaround the issue. Please download it from https://phantomjs.org/download.html\n",
      "         n = f1895chAJrj_Hk ; player = https://www.youtube.com/s/player/97ea7458/player_ias.vflset/en_US/base.js\n"
     ]
    },
    {
     "name": "stdout",
     "output_type": "stream",
     "text": [
      "get random frame\n",
      "*294-295\n",
      "bCFo0rlsFKA\n",
      "yt-dlp -S res:720,ext:mp4,fps:24 -c --recode mp4 --download-sections *294-295 https://www.youtube.com/watch?v=bCFo0rlsFKA --output spamham_samples/bCFo0rlsFKA.mp4 --retries infinite --fragment-retries infinite && ffmpeg -i spamham_samples/bCFo0rlsFKA.mp4 -r 1 -vframes 1 -f image2 -q:v 1 spamham_samples/frames/bCFo0rlsFKA.%03d.jpeg -y && del spamham_samples\\bCFo0rlsFKA.mp4\n",
      "running donwload, extract, delete cmd...0\n",
      "add file to sources\n",
      "label frame\n",
      "|PR7A5rbu0jQ|\n",
      "get vid info\n",
      "[youtube] Extracting URL: https://www.youtube.com/watch?v=PR7A5rbu0jQ\n",
      "[youtube] PR7A5rbu0jQ: Downloading webpage\n",
      "[youtube] PR7A5rbu0jQ: Downloading android player API JSON\n"
     ]
    },
    {
     "name": "stderr",
     "output_type": "stream",
     "text": [
      "WARNING: [youtube] PR7A5rbu0jQ: nsig extraction failed: You may experience throttling for some formats\n",
      "         Install PhantomJS to workaround the issue. Please download it from https://phantomjs.org/download.html\n",
      "         n = B8wSt0j_a_0B9R ; player = https://www.youtube.com/s/player/97ea7458/player_ias.vflset/en_US/base.js\n"
     ]
    },
    {
     "name": "stdout",
     "output_type": "stream",
     "text": [
      "get random frame\n",
      "*203-204\n",
      "PR7A5rbu0jQ\n",
      "yt-dlp -S res:720,ext:mp4,fps:24 -c --recode mp4 --download-sections *203-204 https://www.youtube.com/watch?v=PR7A5rbu0jQ --output spamham_samples/PR7A5rbu0jQ.mp4 --retries infinite --fragment-retries infinite && ffmpeg -i spamham_samples/PR7A5rbu0jQ.mp4 -r 1 -vframes 1 -f image2 -q:v 1 spamham_samples/frames/PR7A5rbu0jQ.%03d.jpeg -y && del spamham_samples\\PR7A5rbu0jQ.mp4\n",
      "running donwload, extract, delete cmd...0\n",
      "add file to sources\n",
      "label frame\n",
      "|sxcn9B5PV6U|\n",
      "get vid info\n",
      "[youtube] Extracting URL: https://www.youtube.com/watch?v=sxcn9B5PV6U\n",
      "[youtube] sxcn9B5PV6U: Downloading webpage\n",
      "[youtube] sxcn9B5PV6U: Downloading android player API JSON\n"
     ]
    },
    {
     "name": "stderr",
     "output_type": "stream",
     "text": [
      "WARNING: [youtube] sxcn9B5PV6U: nsig extraction failed: You may experience throttling for some formats\n",
      "         Install PhantomJS to workaround the issue. Please download it from https://phantomjs.org/download.html\n",
      "         n = su5PhAwGu1ycLA ; player = https://www.youtube.com/s/player/97ea7458/player_ias.vflset/en_US/base.js\n"
     ]
    },
    {
     "name": "stdout",
     "output_type": "stream",
     "text": [
      "get random frame\n",
      "*920-921\n",
      "sxcn9B5PV6U\n",
      "yt-dlp -S res:720,ext:mp4,fps:24 -c --recode mp4 --download-sections *920-921 https://www.youtube.com/watch?v=sxcn9B5PV6U --output spamham_samples/sxcn9B5PV6U.mp4 --retries infinite --fragment-retries infinite && ffmpeg -i spamham_samples/sxcn9B5PV6U.mp4 -r 1 -vframes 1 -f image2 -q:v 1 spamham_samples/frames/sxcn9B5PV6U.%03d.jpeg -y && del spamham_samples\\sxcn9B5PV6U.mp4\n",
      "running donwload, extract, delete cmd...0\n",
      "add file to sources\n",
      "label frame\n",
      "|50K_I3g72mE|\n",
      "get vid info\n",
      "[youtube] Extracting URL: https://www.youtube.com/watch?v=50K_I3g72mE\n",
      "[youtube] 50K_I3g72mE: Downloading webpage\n",
      "[youtube] 50K_I3g72mE: Downloading android player API JSON\n"
     ]
    },
    {
     "name": "stderr",
     "output_type": "stream",
     "text": [
      "WARNING: [youtube] 50K_I3g72mE: nsig extraction failed: You may experience throttling for some formats\n",
      "         Install PhantomJS to workaround the issue. Please download it from https://phantomjs.org/download.html\n",
      "         n = D3VVZtq6HDSjzS ; player = https://www.youtube.com/s/player/97ea7458/player_ias.vflset/en_US/base.js\n"
     ]
    },
    {
     "name": "stdout",
     "output_type": "stream",
     "text": [
      "get random frame\n",
      "*1892-1893\n",
      "50K_I3g72mE\n",
      "yt-dlp -S res:720,ext:mp4,fps:24 -c --recode mp4 --download-sections *1892-1893 https://www.youtube.com/watch?v=50K_I3g72mE --output spamham_samples/50K_I3g72mE.mp4 --retries infinite --fragment-retries infinite && ffmpeg -i spamham_samples/50K_I3g72mE.mp4 -r 1 -vframes 1 -f image2 -q:v 1 spamham_samples/frames/50K_I3g72mE.%03d.jpeg -y && del spamham_samples\\50K_I3g72mE.mp4\n",
      "running donwload, extract, delete cmd...0\n",
      "add file to sources\n",
      "label frame\n",
      "|C6SZtcoeCu0|\n",
      "get vid info\n",
      "[youtube] Extracting URL: https://www.youtube.com/watch?v=C6SZtcoeCu0\n",
      "[youtube] C6SZtcoeCu0: Downloading webpage\n",
      "[youtube] C6SZtcoeCu0: Downloading android player API JSON\n"
     ]
    },
    {
     "name": "stderr",
     "output_type": "stream",
     "text": [
      "WARNING: [youtube] C6SZtcoeCu0: nsig extraction failed: You may experience throttling for some formats\n",
      "         Install PhantomJS to workaround the issue. Please download it from https://phantomjs.org/download.html\n",
      "         n = WWSiRRc4XHdWKT ; player = https://www.youtube.com/s/player/97ea7458/player_ias.vflset/en_US/base.js\n"
     ]
    },
    {
     "name": "stdout",
     "output_type": "stream",
     "text": [
      "get random frame\n",
      "*1195-1196\n",
      "C6SZtcoeCu0\n",
      "yt-dlp -S res:720,ext:mp4,fps:24 -c --recode mp4 --download-sections *1195-1196 https://www.youtube.com/watch?v=C6SZtcoeCu0 --output spamham_samples/C6SZtcoeCu0.mp4 --retries infinite --fragment-retries infinite && ffmpeg -i spamham_samples/C6SZtcoeCu0.mp4 -r 1 -vframes 1 -f image2 -q:v 1 spamham_samples/frames/C6SZtcoeCu0.%03d.jpeg -y && del spamham_samples\\C6SZtcoeCu0.mp4\n",
      "running donwload, extract, delete cmd...0\n",
      "add file to sources\n",
      "label frame\n",
      "|ZBeXh_4Qgi4|\n",
      "get vid info\n",
      "[youtube] Extracting URL: https://www.youtube.com/watch?v=ZBeXh_4Qgi4\n",
      "[youtube] ZBeXh_4Qgi4: Downloading webpage\n",
      "[youtube] ZBeXh_4Qgi4: Downloading android player API JSON\n"
     ]
    },
    {
     "name": "stderr",
     "output_type": "stream",
     "text": [
      "WARNING: [youtube] ZBeXh_4Qgi4: nsig extraction failed: You may experience throttling for some formats\n",
      "         Install PhantomJS to workaround the issue. Please download it from https://phantomjs.org/download.html\n",
      "         n = z3_swWqPT9HzzR ; player = https://www.youtube.com/s/player/97ea7458/player_ias.vflset/en_US/base.js\n"
     ]
    },
    {
     "name": "stdout",
     "output_type": "stream",
     "text": [
      "get random frame\n",
      "*821-822\n",
      "ZBeXh_4Qgi4\n",
      "yt-dlp -S res:720,ext:mp4,fps:24 -c --recode mp4 --download-sections *821-822 https://www.youtube.com/watch?v=ZBeXh_4Qgi4 --output spamham_samples/ZBeXh_4Qgi4.mp4 --retries infinite --fragment-retries infinite && ffmpeg -i spamham_samples/ZBeXh_4Qgi4.mp4 -r 1 -vframes 1 -f image2 -q:v 1 spamham_samples/frames/ZBeXh_4Qgi4.%03d.jpeg -y && del spamham_samples\\ZBeXh_4Qgi4.mp4\n",
      "running donwload, extract, delete cmd...0\n",
      "add file to sources\n",
      "label frame\n",
      "|USsjnyOnd9k|\n",
      "get vid info\n",
      "[youtube] Extracting URL: https://www.youtube.com/watch?v=USsjnyOnd9k\n",
      "[youtube] USsjnyOnd9k: Downloading webpage\n",
      "[youtube] USsjnyOnd9k: Downloading android player API JSON\n"
     ]
    },
    {
     "name": "stderr",
     "output_type": "stream",
     "text": [
      "WARNING: [youtube] USsjnyOnd9k: nsig extraction failed: You may experience throttling for some formats\n",
      "         Install PhantomJS to workaround the issue. Please download it from https://phantomjs.org/download.html\n",
      "         n = SfxDRFPpUzhCzR ; player = https://www.youtube.com/s/player/97ea7458/player_ias.vflset/en_US/base.js\n"
     ]
    },
    {
     "name": "stdout",
     "output_type": "stream",
     "text": [
      "get random frame\n",
      "*1367-1368\n",
      "USsjnyOnd9k\n",
      "yt-dlp -S res:720,ext:mp4,fps:24 -c --recode mp4 --download-sections *1367-1368 https://www.youtube.com/watch?v=USsjnyOnd9k --output spamham_samples/USsjnyOnd9k.mp4 --retries infinite --fragment-retries infinite && ffmpeg -i spamham_samples/USsjnyOnd9k.mp4 -r 1 -vframes 1 -f image2 -q:v 1 spamham_samples/frames/USsjnyOnd9k.%03d.jpeg -y && del spamham_samples\\USsjnyOnd9k.mp4\n",
      "running donwload, extract, delete cmd...0\n",
      "add file to sources\n",
      "label frame\n",
      "|Rv2Fu-XqgH0|\n",
      "get vid info\n",
      "[youtube] Extracting URL: https://www.youtube.com/watch?v=Rv2Fu-XqgH0\n",
      "[youtube] Rv2Fu-XqgH0: Downloading webpage\n",
      "[youtube] Rv2Fu-XqgH0: Downloading android player API JSON\n"
     ]
    },
    {
     "name": "stderr",
     "output_type": "stream",
     "text": [
      "WARNING: [youtube] Rv2Fu-XqgH0: nsig extraction failed: You may experience throttling for some formats\n",
      "         Install PhantomJS to workaround the issue. Please download it from https://phantomjs.org/download.html\n",
      "         n = 7lcdSh8dm1mLYq ; player = https://www.youtube.com/s/player/97ea7458/player_ias.vflset/en_US/base.js\n"
     ]
    },
    {
     "name": "stdout",
     "output_type": "stream",
     "text": [
      "get random frame\n",
      "*1345-1346\n",
      "Rv2Fu-XqgH0\n",
      "yt-dlp -S res:720,ext:mp4,fps:24 -c --recode mp4 --download-sections *1345-1346 https://www.youtube.com/watch?v=Rv2Fu-XqgH0 --output spamham_samples/Rv2Fu-XqgH0.mp4 --retries infinite --fragment-retries infinite && ffmpeg -i spamham_samples/Rv2Fu-XqgH0.mp4 -r 1 -vframes 1 -f image2 -q:v 1 spamham_samples/frames/Rv2Fu-XqgH0.%03d.jpeg -y && del spamham_samples\\Rv2Fu-XqgH0.mp4\n",
      "running donwload, extract, delete cmd...0\n",
      "add file to sources\n",
      "label frame\n",
      "|6yGqigLobBs|\n",
      "get vid info\n",
      "[youtube] Extracting URL: https://www.youtube.com/watch?v=6yGqigLobBs\n",
      "[youtube] 6yGqigLobBs: Downloading webpage\n",
      "[youtube] 6yGqigLobBs: Downloading android player API JSON\n"
     ]
    },
    {
     "name": "stderr",
     "output_type": "stream",
     "text": [
      "WARNING: [youtube] 6yGqigLobBs: nsig extraction failed: You may experience throttling for some formats\n",
      "         Install PhantomJS to workaround the issue. Please download it from https://phantomjs.org/download.html\n",
      "         n = BUeu969Va2iR6R ; player = https://www.youtube.com/s/player/97ea7458/player_ias.vflset/en_US/base.js\n"
     ]
    },
    {
     "name": "stdout",
     "output_type": "stream",
     "text": [
      "get random frame\n",
      "*890-891\n",
      "6yGqigLobBs\n",
      "yt-dlp -S res:720,ext:mp4,fps:24 -c --recode mp4 --download-sections *890-891 https://www.youtube.com/watch?v=6yGqigLobBs --output spamham_samples/6yGqigLobBs.mp4 --retries infinite --fragment-retries infinite && ffmpeg -i spamham_samples/6yGqigLobBs.mp4 -r 1 -vframes 1 -f image2 -q:v 1 spamham_samples/frames/6yGqigLobBs.%03d.jpeg -y && del spamham_samples\\6yGqigLobBs.mp4\n",
      "running donwload, extract, delete cmd...0\n",
      "add file to sources\n",
      "label frame\n",
      "|zD9MNhcXXXk|\n",
      "get vid info\n",
      "[youtube] Extracting URL: https://www.youtube.com/watch?v=zD9MNhcXXXk\n",
      "[youtube] zD9MNhcXXXk: Downloading webpage\n",
      "[youtube] zD9MNhcXXXk: Downloading android player API JSON\n"
     ]
    },
    {
     "name": "stderr",
     "output_type": "stream",
     "text": [
      "WARNING: [youtube] zD9MNhcXXXk: nsig extraction failed: You may experience throttling for some formats\n",
      "         Install PhantomJS to workaround the issue. Please download it from https://phantomjs.org/download.html\n",
      "         n = xPTRZbdeeQUROM ; player = https://www.youtube.com/s/player/97ea7458/player_ias.vflset/en_US/base.js\n"
     ]
    },
    {
     "name": "stdout",
     "output_type": "stream",
     "text": [
      "get random frame\n",
      "*719-720\n",
      "zD9MNhcXXXk\n",
      "yt-dlp -S res:720,ext:mp4,fps:24 -c --recode mp4 --download-sections *719-720 https://www.youtube.com/watch?v=zD9MNhcXXXk --output spamham_samples/zD9MNhcXXXk.mp4 --retries infinite --fragment-retries infinite && ffmpeg -i spamham_samples/zD9MNhcXXXk.mp4 -r 1 -vframes 1 -f image2 -q:v 1 spamham_samples/frames/zD9MNhcXXXk.%03d.jpeg -y && del spamham_samples\\zD9MNhcXXXk.mp4\n",
      "running donwload, extract, delete cmd...0\n",
      "add file to sources\n",
      "label frame\n",
      "|17AuhFgJtOs|\n",
      "get vid info\n",
      "[youtube] Extracting URL: https://www.youtube.com/watch?v=17AuhFgJtOs\n",
      "[youtube] 17AuhFgJtOs: Downloading webpage\n",
      "[youtube] 17AuhFgJtOs: Downloading android player API JSON\n"
     ]
    },
    {
     "name": "stderr",
     "output_type": "stream",
     "text": [
      "WARNING: [youtube] 17AuhFgJtOs: nsig extraction failed: You may experience throttling for some formats\n",
      "         Install PhantomJS to workaround the issue. Please download it from https://phantomjs.org/download.html\n",
      "         n = k_TPFbb21TeEpd ; player = https://www.youtube.com/s/player/97ea7458/player_ias.vflset/en_US/base.js\n"
     ]
    },
    {
     "name": "stdout",
     "output_type": "stream",
     "text": [
      "get random frame\n",
      "*736-737\n",
      "17AuhFgJtOs\n",
      "yt-dlp -S res:720,ext:mp4,fps:24 -c --recode mp4 --download-sections *736-737 https://www.youtube.com/watch?v=17AuhFgJtOs --output spamham_samples/17AuhFgJtOs.mp4 --retries infinite --fragment-retries infinite && ffmpeg -i spamham_samples/17AuhFgJtOs.mp4 -r 1 -vframes 1 -f image2 -q:v 1 spamham_samples/frames/17AuhFgJtOs.%03d.jpeg -y && del spamham_samples\\17AuhFgJtOs.mp4\n",
      "running donwload, extract, delete cmd...0\n",
      "add file to sources\n",
      "label frame\n",
      "|LUwSMeYcb7g|\n",
      "get vid info\n",
      "[youtube] Extracting URL: https://www.youtube.com/watch?v=LUwSMeYcb7g\n",
      "[youtube] LUwSMeYcb7g: Downloading webpage\n",
      "[youtube] LUwSMeYcb7g: Downloading android player API JSON\n"
     ]
    },
    {
     "name": "stderr",
     "output_type": "stream",
     "text": [
      "WARNING: [youtube] LUwSMeYcb7g: nsig extraction failed: You may experience throttling for some formats\n",
      "         Install PhantomJS to workaround the issue. Please download it from https://phantomjs.org/download.html\n",
      "         n = _nf8jIk0qQuv9u ; player = https://www.youtube.com/s/player/97ea7458/player_ias.vflset/en_US/base.js\n"
     ]
    },
    {
     "name": "stdout",
     "output_type": "stream",
     "text": [
      "get random frame\n",
      "*574-575\n",
      "LUwSMeYcb7g\n",
      "yt-dlp -S res:720,ext:mp4,fps:24 -c --recode mp4 --download-sections *574-575 https://www.youtube.com/watch?v=LUwSMeYcb7g --output spamham_samples/LUwSMeYcb7g.mp4 --retries infinite --fragment-retries infinite && ffmpeg -i spamham_samples/LUwSMeYcb7g.mp4 -r 1 -vframes 1 -f image2 -q:v 1 spamham_samples/frames/LUwSMeYcb7g.%03d.jpeg -y && del spamham_samples\\LUwSMeYcb7g.mp4\n",
      "running donwload, extract, delete cmd...0\n",
      "add file to sources\n",
      "label frame\n",
      "|9nLvIxnAh6M|\n",
      "get vid info\n",
      "[youtube] Extracting URL: https://www.youtube.com/watch?v=9nLvIxnAh6M\n",
      "[youtube] 9nLvIxnAh6M: Downloading webpage\n",
      "[youtube] 9nLvIxnAh6M: Downloading android player API JSON\n"
     ]
    },
    {
     "name": "stderr",
     "output_type": "stream",
     "text": [
      "WARNING: [youtube] 9nLvIxnAh6M: nsig extraction failed: You may experience throttling for some formats\n",
      "         Install PhantomJS to workaround the issue. Please download it from https://phantomjs.org/download.html\n",
      "         n = 15dYE1M1heJVsA ; player = https://www.youtube.com/s/player/97ea7458/player_ias.vflset/en_US/base.js\n"
     ]
    },
    {
     "name": "stdout",
     "output_type": "stream",
     "text": [
      "get random frame\n",
      "*1060-1061\n",
      "9nLvIxnAh6M\n",
      "yt-dlp -S res:720,ext:mp4,fps:24 -c --recode mp4 --download-sections *1060-1061 https://www.youtube.com/watch?v=9nLvIxnAh6M --output spamham_samples/9nLvIxnAh6M.mp4 --retries infinite --fragment-retries infinite && ffmpeg -i spamham_samples/9nLvIxnAh6M.mp4 -r 1 -vframes 1 -f image2 -q:v 1 spamham_samples/frames/9nLvIxnAh6M.%03d.jpeg -y && del spamham_samples\\9nLvIxnAh6M.mp4\n",
      "running donwload, extract, delete cmd...0\n",
      "add file to sources\n",
      "label frame\n",
      "|gaVfVASKpwc|\n",
      "get vid info\n",
      "[youtube] Extracting URL: https://www.youtube.com/watch?v=gaVfVASKpwc\n",
      "[youtube] gaVfVASKpwc: Downloading webpage\n",
      "[youtube] gaVfVASKpwc: Downloading android player API JSON\n"
     ]
    },
    {
     "name": "stderr",
     "output_type": "stream",
     "text": [
      "WARNING: [youtube] gaVfVASKpwc: nsig extraction failed: You may experience throttling for some formats\n",
      "         Install PhantomJS to workaround the issue. Please download it from https://phantomjs.org/download.html\n",
      "         n = bxtg4MBLmzj7Qw ; player = https://www.youtube.com/s/player/97ea7458/player_ias.vflset/en_US/base.js\n"
     ]
    },
    {
     "name": "stdout",
     "output_type": "stream",
     "text": [
      "get random frame\n",
      "*181-182\n",
      "gaVfVASKpwc\n",
      "yt-dlp -S res:720,ext:mp4,fps:24 -c --recode mp4 --download-sections *181-182 https://www.youtube.com/watch?v=gaVfVASKpwc --output spamham_samples/gaVfVASKpwc.mp4 --retries infinite --fragment-retries infinite && ffmpeg -i spamham_samples/gaVfVASKpwc.mp4 -r 1 -vframes 1 -f image2 -q:v 1 spamham_samples/frames/gaVfVASKpwc.%03d.jpeg -y && del spamham_samples\\gaVfVASKpwc.mp4\n",
      "running donwload, extract, delete cmd...0\n",
      "add file to sources\n",
      "label frame\n",
      "|L5o-gfmD2-8|\n",
      "get vid info\n",
      "[youtube] Extracting URL: https://www.youtube.com/watch?v=L5o-gfmD2-8\n",
      "[youtube] L5o-gfmD2-8: Downloading webpage\n",
      "[youtube] L5o-gfmD2-8: Downloading android player API JSON\n"
     ]
    },
    {
     "name": "stderr",
     "output_type": "stream",
     "text": [
      "WARNING: [youtube] L5o-gfmD2-8: nsig extraction failed: You may experience throttling for some formats\n",
      "         Install PhantomJS to workaround the issue. Please download it from https://phantomjs.org/download.html\n",
      "         n = wmHcSxgYmbhAJ7 ; player = https://www.youtube.com/s/player/97ea7458/player_ias.vflset/en_US/base.js\n"
     ]
    },
    {
     "name": "stdout",
     "output_type": "stream",
     "text": [
      "get random frame\n",
      "*1832-1833\n",
      "L5o-gfmD2-8\n",
      "yt-dlp -S res:720,ext:mp4,fps:24 -c --recode mp4 --download-sections *1832-1833 https://www.youtube.com/watch?v=L5o-gfmD2-8 --output spamham_samples/L5o-gfmD2-8.mp4 --retries infinite --fragment-retries infinite && ffmpeg -i spamham_samples/L5o-gfmD2-8.mp4 -r 1 -vframes 1 -f image2 -q:v 1 spamham_samples/frames/L5o-gfmD2-8.%03d.jpeg -y && del spamham_samples\\L5o-gfmD2-8.mp4\n",
      "running donwload, extract, delete cmd...0\n",
      "add file to sources\n",
      "label frame\n",
      "|AdwAYVVHU8w|\n",
      "get vid info\n",
      "[youtube] Extracting URL: https://www.youtube.com/watch?v=AdwAYVVHU8w\n",
      "[youtube] AdwAYVVHU8w: Downloading webpage\n",
      "[youtube] AdwAYVVHU8w: Downloading android player API JSON\n"
     ]
    },
    {
     "name": "stderr",
     "output_type": "stream",
     "text": [
      "WARNING: [youtube] AdwAYVVHU8w: nsig extraction failed: You may experience throttling for some formats\n",
      "         Install PhantomJS to workaround the issue. Please download it from https://phantomjs.org/download.html\n",
      "         n = YmkxYdNlEphYcq ; player = https://www.youtube.com/s/player/97ea7458/player_ias.vflset/en_US/base.js\n"
     ]
    },
    {
     "name": "stdout",
     "output_type": "stream",
     "text": [
      "get random frame\n",
      "*1157-1158\n",
      "AdwAYVVHU8w\n",
      "yt-dlp -S res:720,ext:mp4,fps:24 -c --recode mp4 --download-sections *1157-1158 https://www.youtube.com/watch?v=AdwAYVVHU8w --output spamham_samples/AdwAYVVHU8w.mp4 --retries infinite --fragment-retries infinite && ffmpeg -i spamham_samples/AdwAYVVHU8w.mp4 -r 1 -vframes 1 -f image2 -q:v 1 spamham_samples/frames/AdwAYVVHU8w.%03d.jpeg -y && del spamham_samples\\AdwAYVVHU8w.mp4\n",
      "running donwload, extract, delete cmd...0\n",
      "add file to sources\n",
      "label frame\n",
      "|lj8HvgNPbSE|\n",
      "get vid info\n",
      "[youtube] Extracting URL: https://www.youtube.com/watch?v=lj8HvgNPbSE\n",
      "[youtube] lj8HvgNPbSE: Downloading webpage\n",
      "[youtube] lj8HvgNPbSE: Downloading android player API JSON\n"
     ]
    },
    {
     "name": "stderr",
     "output_type": "stream",
     "text": [
      "WARNING: [youtube] lj8HvgNPbSE: nsig extraction failed: You may experience throttling for some formats\n",
      "         Install PhantomJS to workaround the issue. Please download it from https://phantomjs.org/download.html\n",
      "         n = kx0aBGTPrZzkNv ; player = https://www.youtube.com/s/player/97ea7458/player_ias.vflset/en_US/base.js\n"
     ]
    },
    {
     "name": "stdout",
     "output_type": "stream",
     "text": [
      "get random frame\n",
      "*265-266\n",
      "lj8HvgNPbSE\n",
      "yt-dlp -S res:720,ext:mp4,fps:24 -c --recode mp4 --download-sections *265-266 https://www.youtube.com/watch?v=lj8HvgNPbSE --output spamham_samples/lj8HvgNPbSE.mp4 --retries infinite --fragment-retries infinite && ffmpeg -i spamham_samples/lj8HvgNPbSE.mp4 -r 1 -vframes 1 -f image2 -q:v 1 spamham_samples/frames/lj8HvgNPbSE.%03d.jpeg -y && del spamham_samples\\lj8HvgNPbSE.mp4\n",
      "running donwload, extract, delete cmd...0\n",
      "add file to sources\n",
      "label frame\n",
      "|1cGvTPxWmAk|\n",
      "get vid info\n",
      "[youtube] Extracting URL: https://www.youtube.com/watch?v=1cGvTPxWmAk\n",
      "[youtube] 1cGvTPxWmAk: Downloading webpage\n",
      "[youtube] 1cGvTPxWmAk: Downloading android player API JSON\n"
     ]
    },
    {
     "name": "stderr",
     "output_type": "stream",
     "text": [
      "WARNING: [youtube] 1cGvTPxWmAk: nsig extraction failed: You may experience throttling for some formats\n",
      "         Install PhantomJS to workaround the issue. Please download it from https://phantomjs.org/download.html\n",
      "         n = GsFKnmCBRxKW1q ; player = https://www.youtube.com/s/player/97ea7458/player_ias.vflset/en_US/base.js\n"
     ]
    },
    {
     "name": "stdout",
     "output_type": "stream",
     "text": [
      "get random frame\n",
      "*867-868\n",
      "1cGvTPxWmAk\n",
      "yt-dlp -S res:720,ext:mp4,fps:24 -c --recode mp4 --download-sections *867-868 https://www.youtube.com/watch?v=1cGvTPxWmAk --output spamham_samples/1cGvTPxWmAk.mp4 --retries infinite --fragment-retries infinite && ffmpeg -i spamham_samples/1cGvTPxWmAk.mp4 -r 1 -vframes 1 -f image2 -q:v 1 spamham_samples/frames/1cGvTPxWmAk.%03d.jpeg -y && del spamham_samples\\1cGvTPxWmAk.mp4\n",
      "running donwload, extract, delete cmd...0\n",
      "add file to sources\n",
      "label frame\n",
      "|-kKRksDDZkY|\n",
      "get vid info\n",
      "[youtube] Extracting URL: https://www.youtube.com/watch?v=-kKRksDDZkY\n",
      "[youtube] -kKRksDDZkY: Downloading webpage\n",
      "[youtube] -kKRksDDZkY: Downloading android player API JSON\n"
     ]
    },
    {
     "name": "stderr",
     "output_type": "stream",
     "text": [
      "WARNING: [youtube] -kKRksDDZkY: nsig extraction failed: You may experience throttling for some formats\n",
      "         Install PhantomJS to workaround the issue. Please download it from https://phantomjs.org/download.html\n",
      "         n = AkD5PxVEPsWQxr ; player = https://www.youtube.com/s/player/97ea7458/player_ias.vflset/en_US/base.js\n"
     ]
    },
    {
     "name": "stdout",
     "output_type": "stream",
     "text": [
      "get random frame\n",
      "*391-392\n",
      "-kKRksDDZkY\n",
      "yt-dlp -S res:720,ext:mp4,fps:24 -c --recode mp4 --download-sections *391-392 https://www.youtube.com/watch?v=-kKRksDDZkY --output spamham_samples/-kKRksDDZkY.mp4 --retries infinite --fragment-retries infinite && ffmpeg -i spamham_samples/-kKRksDDZkY.mp4 -r 1 -vframes 1 -f image2 -q:v 1 spamham_samples/frames/-kKRksDDZkY.%03d.jpeg -y && del spamham_samples\\-kKRksDDZkY.mp4\n",
      "running donwload, extract, delete cmd...0\n",
      "add file to sources\n",
      "label frame\n",
      "|MTgFOPCzYB4|\n",
      "get vid info\n",
      "[youtube] Extracting URL: https://www.youtube.com/watch?v=MTgFOPCzYB4\n",
      "[youtube] MTgFOPCzYB4: Downloading webpage\n",
      "[youtube] MTgFOPCzYB4: Downloading android player API JSON\n"
     ]
    },
    {
     "name": "stderr",
     "output_type": "stream",
     "text": [
      "WARNING: [youtube] MTgFOPCzYB4: nsig extraction failed: You may experience throttling for some formats\n",
      "         Install PhantomJS to workaround the issue. Please download it from https://phantomjs.org/download.html\n",
      "         n = oLeBst1IIAB4Jj ; player = https://www.youtube.com/s/player/97ea7458/player_ias.vflset/en_US/base.js\n"
     ]
    },
    {
     "name": "stdout",
     "output_type": "stream",
     "text": [
      "get random frame\n",
      "*1485-1486\n",
      "MTgFOPCzYB4\n",
      "yt-dlp -S res:720,ext:mp4,fps:24 -c --recode mp4 --download-sections *1485-1486 https://www.youtube.com/watch?v=MTgFOPCzYB4 --output spamham_samples/MTgFOPCzYB4.mp4 --retries infinite --fragment-retries infinite && ffmpeg -i spamham_samples/MTgFOPCzYB4.mp4 -r 1 -vframes 1 -f image2 -q:v 1 spamham_samples/frames/MTgFOPCzYB4.%03d.jpeg -y && del spamham_samples\\MTgFOPCzYB4.mp4\n",
      "running donwload, extract, delete cmd...0\n",
      "add file to sources\n",
      "label frame\n",
      "|CkjasKQN1Wc|\n",
      "get vid info\n",
      "[youtube] Extracting URL: https://www.youtube.com/watch?v=CkjasKQN1Wc\n",
      "[youtube] CkjasKQN1Wc: Downloading webpage\n",
      "[youtube] CkjasKQN1Wc: Downloading android player API JSON\n"
     ]
    },
    {
     "name": "stderr",
     "output_type": "stream",
     "text": [
      "WARNING: [youtube] CkjasKQN1Wc: nsig extraction failed: You may experience throttling for some formats\n",
      "         Install PhantomJS to workaround the issue. Please download it from https://phantomjs.org/download.html\n",
      "         n = HknyIl8FWypHxO ; player = https://www.youtube.com/s/player/97ea7458/player_ias.vflset/en_US/base.js\n"
     ]
    },
    {
     "name": "stdout",
     "output_type": "stream",
     "text": [
      "get random frame\n",
      "*1202-1203\n",
      "CkjasKQN1Wc\n",
      "yt-dlp -S res:720,ext:mp4,fps:24 -c --recode mp4 --download-sections *1202-1203 https://www.youtube.com/watch?v=CkjasKQN1Wc --output spamham_samples/CkjasKQN1Wc.mp4 --retries infinite --fragment-retries infinite && ffmpeg -i spamham_samples/CkjasKQN1Wc.mp4 -r 1 -vframes 1 -f image2 -q:v 1 spamham_samples/frames/CkjasKQN1Wc.%03d.jpeg -y && del spamham_samples\\CkjasKQN1Wc.mp4\n",
      "running donwload, extract, delete cmd...0\n",
      "add file to sources\n",
      "label frame\n",
      "|-afmdsvCN2A|\n",
      "get vid info\n",
      "[youtube] Extracting URL: https://www.youtube.com/watch?v=-afmdsvCN2A\n",
      "[youtube] -afmdsvCN2A: Downloading webpage\n",
      "[youtube] -afmdsvCN2A: Downloading android player API JSON\n"
     ]
    },
    {
     "name": "stderr",
     "output_type": "stream",
     "text": [
      "WARNING: [youtube] -afmdsvCN2A: nsig extraction failed: You may experience throttling for some formats\n",
      "         Install PhantomJS to workaround the issue. Please download it from https://phantomjs.org/download.html\n",
      "         n = ZOWjqYl71SJpLB ; player = https://www.youtube.com/s/player/97ea7458/player_ias.vflset/en_US/base.js\n"
     ]
    },
    {
     "name": "stdout",
     "output_type": "stream",
     "text": [
      "get random frame\n",
      "*201-202\n",
      "-afmdsvCN2A\n",
      "yt-dlp -S res:720,ext:mp4,fps:24 -c --recode mp4 --download-sections *201-202 https://www.youtube.com/watch?v=-afmdsvCN2A --output spamham_samples/-afmdsvCN2A.mp4 --retries infinite --fragment-retries infinite && ffmpeg -i spamham_samples/-afmdsvCN2A.mp4 -r 1 -vframes 1 -f image2 -q:v 1 spamham_samples/frames/-afmdsvCN2A.%03d.jpeg -y && del spamham_samples\\-afmdsvCN2A.mp4\n",
      "running donwload, extract, delete cmd...0\n",
      "add file to sources\n",
      "label frame\n",
      "|APm14XlxN_c|\n",
      "get vid info\n",
      "[youtube] Extracting URL: https://www.youtube.com/watch?v=APm14XlxN_c\n",
      "[youtube] APm14XlxN_c: Downloading webpage\n",
      "[youtube] APm14XlxN_c: Downloading android player API JSON\n",
      "[youtube] APm14XlxN_c: Downloading MPD manifest\n",
      "get random frame\n",
      "*3785-3786\n",
      "APm14XlxN_c\n",
      "yt-dlp -S res:720,ext:mp4,fps:24 -c --recode mp4 --download-sections *3785-3786 https://www.youtube.com/watch?v=APm14XlxN_c --output spamham_samples/APm14XlxN_c.mp4 --retries infinite --fragment-retries infinite && ffmpeg -i spamham_samples/APm14XlxN_c.mp4 -r 1 -vframes 1 -f image2 -q:v 1 spamham_samples/frames/APm14XlxN_c.%03d.jpeg -y && del spamham_samples\\APm14XlxN_c.mp4\n",
      "running donwload, extract, delete cmd...1\n",
      "add file to sources\n",
      "label frame\n",
      "|jbu9uzaaycU|\n",
      "get vid info\n",
      "[youtube] Extracting URL: https://www.youtube.com/watch?v=jbu9uzaaycU\n",
      "[youtube] jbu9uzaaycU: Downloading webpage\n",
      "[youtube] jbu9uzaaycU: Downloading android player API JSON\n",
      "[youtube] jbu9uzaaycU: Downloading MPD manifest\n",
      "get random frame\n",
      "*4408-4409\n",
      "jbu9uzaaycU\n",
      "yt-dlp -S res:720,ext:mp4,fps:24 -c --recode mp4 --download-sections *4408-4409 https://www.youtube.com/watch?v=jbu9uzaaycU --output spamham_samples/jbu9uzaaycU.mp4 --retries infinite --fragment-retries infinite && ffmpeg -i spamham_samples/jbu9uzaaycU.mp4 -r 1 -vframes 1 -f image2 -q:v 1 spamham_samples/frames/jbu9uzaaycU.%03d.jpeg -y && del spamham_samples\\jbu9uzaaycU.mp4\n",
      "running donwload, extract, delete cmd...1\n",
      "add file to sources\n",
      "label frame\n",
      "|wVfYxc4eavs|\n",
      "get vid info\n",
      "[youtube] Extracting URL: https://www.youtube.com/watch?v=wVfYxc4eavs\n",
      "[youtube] wVfYxc4eavs: Downloading webpage\n",
      "[youtube] wVfYxc4eavs: Downloading android player API JSON\n",
      "[youtube] wVfYxc4eavs: Downloading MPD manifest\n",
      "get random frame\n",
      "*3687-3688\n",
      "wVfYxc4eavs\n",
      "yt-dlp -S res:720,ext:mp4,fps:24 -c --recode mp4 --download-sections *3687-3688 https://www.youtube.com/watch?v=wVfYxc4eavs --output spamham_samples/wVfYxc4eavs.mp4 --retries infinite --fragment-retries infinite && ffmpeg -i spamham_samples/wVfYxc4eavs.mp4 -r 1 -vframes 1 -f image2 -q:v 1 spamham_samples/frames/wVfYxc4eavs.%03d.jpeg -y && del spamham_samples\\wVfYxc4eavs.mp4\n",
      "running donwload, extract, delete cmd...0\n",
      "add file to sources\n",
      "label frame\n"
     ]
    }
   ],
   "source": [
    "# import\n",
    "import yt_dlp\n",
    "import matplotlib\n",
    "from yt_dlp import YoutubeDL\n",
    "import random\n",
    "import os\n",
    "\n",
    "\n",
    "\n",
    "#yt-dlp --flat-playlist -i --print-to-file url file.txt https://www.youtube.com/playlist?list=PLvgL9fMpgUKpgGsI4EBRAB-1xM-v0rCJ6 command to take aplaylist of videos and get all video IDs. useful to find a palylist of good minecraft videos (often made by a channel owner for organising a series) and gettign all individual videos in there to be used as examples of clean videos\n",
    "\n",
    "\n",
    "\n",
    "\n",
    "# load clean ids file\n",
    "clean_ids = open('spamham_samples/manual_clean_ids.txt', 'r')\n",
    "clean_ids = clean_ids.readlines()\n",
    "\n",
    "# read already used files\n",
    "used_links = os.listdir('spamham_samples/frames')\n",
    "used_links = [filename.split('.')[0] for filename in used_links]\n",
    "\n",
    "# for file in clean_ids.txt:\n",
    "for id in clean_ids:\n",
    "    id = id.split('\\n')[0]\n",
    "    \n",
    "    if (id in used_links):\n",
    "       continue\n",
    "\n",
    "    print('|'+id+'|')\n",
    "    \n",
    "    full_link = str(\"https://www.youtube.com/watch?v=%s\"%id)\n",
    "    \n",
    "    print('get vid info')\n",
    "    #YT-DLP get video info\n",
    "    YDL_OPTIONS = {'noplaylist':True, 'Download':False}\n",
    "    with yt_dlp.YoutubeDL(YDL_OPTIONS) as ydl:\n",
    "        video = ydl.extract_info(full_link, download=False)\n",
    "        video_channel = video['channel']\n",
    "        duration = video['duration']\n",
    "\n",
    "    # ONLY GET 1 FRAME PER VIDEO - multiple per video will just overfit - we are already overfitting to the same MC youtuber, multiple frames per vidfeo will hurt generalisation too much\n",
    "    print('get random frame')\n",
    "    #@@@ download random second for each hour of gameplay | ffmpeg 1st frame | delete mp4\n",
    "    #@@@random_second = random.randint((h*60*30)+180, ((h+1)*30*60)-180)\n",
    "    random_second = random.randint(0, duration-2)\n",
    "    random_sec_formatted = '*'+str(random_second)+'-'+str(random_second+1)\n",
    "    print(random_sec_formatted)\n",
    "    filename = id\n",
    "    print(filename)\n",
    "\n",
    "    # save frame under filename: id + .#N.jpeg\n",
    "    full_link = str(\"https://www.youtube.com/watch?v=%s\"%id)\n",
    "\n",
    "    ### LINUX\n",
    "    #command_download_frames = str(\"yt-dlp -S res:720,ext:mp4,fps:24 -c --recode mp4 --download-sections %s %s --output spamham_samples/%s.mp4\" %(random_sec_formatted, full_link, filename))\n",
    "    #command_get_1_frame = str('ffmpeg -i spamham_samples/%s -r 1 -vframes 1 -f image2 -q:v 1 spamham_samples/frames/%s.jpeg -y' %(filename+'.mp4', filename) )\n",
    "    #command_del_video = str('rm spamham_samples/%s.mp4' %filename)\n",
    "    #command_all_in_1 = command_download_frames +' && ' + command_get_1_frame +' && ' + command_del_video\n",
    "    #print(command_all_in_1)\n",
    "    #print('running donwload, extract, delete cmd...',end='')\n",
    "    #print(os.system(command_all_in_1))\n",
    "\n",
    "    ### WINDOWS\n",
    "    command_download_frames = str(\"yt-dlp -S res:720,ext:mp4,fps:24 -c --recode mp4 --download-sections %s %s --output spamham_samples/%s.mp4 --retries infinite --fragment-retries infinite\" %(random_sec_formatted, full_link, filename))\n",
    "    command_get_1_frame = str('ffmpeg -i spamham_samples/'+filename+'.mp4'+' -r 1 -vframes 1 -f image2 -q:v 1 spamham_samples/frames/'+filename+'.%03d.jpeg -y')\n",
    "    command_del_video = str('del spamham_samples\\\\%s.mp4' %filename)\n",
    "    command_all_in_1 = command_download_frames +' && ' + command_get_1_frame +' && ' + command_del_video\n",
    "    print(command_all_in_1)\n",
    "    #1/0\n",
    "    print('running donwload, extract, delete cmd...',end='')\n",
    "    print(os.system(command_all_in_1))\n",
    "\n",
    "    \n",
    "\n",
    "\n",
    "    print('add file to sources')\n",
    "    # add video id to sources\n",
    "    line = str(filename+\"\\n\")\n",
    "    header_file = open(\"spamham_samples/header.txt\",\"a\")\n",
    "    sources_file = open(\"spamham_samples/sources.txt\",\"a\")\n",
    "    header_file.write(line)\n",
    "    sources_file.write(video_channel+\",\"+full_link+\"\\n\")\n",
    "    header_file.close()\n",
    "    sources_file.close()\n",
    "    \n",
    "    print('label frame')\n",
    "    # append (filename,1) to labels file# load labelled file in append mode\n",
    "    with open('spamham_samples/manual_frames_labels.txt', 'a') as labels_file:\n",
    "        line = str(filename+\",1\\n\")\n",
    "        labels_file.write(line)   "
   ]
  }
 ],
 "metadata": {
  "kernelspec": {
   "display_name": "Python 3.9.12 ('base')",
   "language": "python",
   "name": "python3"
  },
  "language_info": {
   "codemirror_mode": {
    "name": "ipython",
    "version": 3
   },
   "file_extension": ".py",
   "mimetype": "text/x-python",
   "name": "python",
   "nbconvert_exporter": "python",
   "pygments_lexer": "ipython3",
   "version": "3.9.12"
  },
  "vscode": {
   "interpreter": {
    "hash": "ad2bdc8ecc057115af97d19610ffacc2b4e99fae6737bb82f5d7fb13d2f2c186"
   }
  }
 },
 "nbformat": 4,
 "nbformat_minor": 5
}
