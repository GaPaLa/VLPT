{
 "cells": [
  {
   "cell_type": "code",
   "execution_count": null,
   "id": "8284c1c4",
   "metadata": {},
   "outputs": [],
   "source": [
    "# from https://stackoverflow.com/questions/56842391/how-to-get-word-level-timestamps-using-azure-speech-to-text-and-the-python-sdk\n",
    "# from https://learn.microsoft.com/en-us/azure/cognitive-services/speech-service/how-to-recognize-speech?pivots=programming-language-python\n",
    "# both accessed 7/11/2022\n",
    "import azure.cognitiveservices.speech as speechsdk\n",
    "import json\n",
    "\n",
    "def from_file():\n",
    "    speech_config = speechsdk.SpeechConfig(subscription=\"YourSpeechKey\", region=\"YourSpeechRegion\")\n",
    "    speech_config.request_word_level_timestamps()\n",
    "    audio_input = speechsdk.AudioConfig(filename=\"your_file_name.wav\")\n",
    "    speech_recognizer = speechsdk.SpeechRecognizer(speech_config=speech_config, audio_config=audio_input)\n",
    "\n",
    "    result = speech_recognizer.recognize_once_async().get()\n",
    "    print(result.text)\n",
    "\n",
    "def load_file(filename):\n",
    "    stt = json.loads(filename)\n",
    "    confidences_in_nbest = [item['Confidence'] for item in stt['NBest']]\n",
    "    best_index = confidences_in_nbest.index(max(confidences_in_nbest))\n",
    "    words = stt['NBest'][best_index]['Words']\n",
    "    print(words)\n",
    "\n",
    "    print(f\"Word\\tOffset\\tDuration\")\n",
    "    for word in words:\n",
    "        print(f\"{word['Word']}\\t{word['Offset']}\\t{word['Duration']}\")"
   ]
  }
 ],
 "metadata": {
  "kernelspec": {
   "display_name": "Python 3 (ipykernel)",
   "language": "python",
   "name": "python3"
  },
  "language_info": {
   "codemirror_mode": {
    "name": "ipython",
    "version": 3
   },
   "file_extension": ".py",
   "mimetype": "text/x-python",
   "name": "python",
   "nbconvert_exporter": "python",
   "pygments_lexer": "ipython3",
   "version": "3.8.13"
  }
 },
 "nbformat": 4,
 "nbformat_minor": 5
}
