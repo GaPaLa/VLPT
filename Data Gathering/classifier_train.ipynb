{
 "cells": [
  {
   "cell_type": "code",
   "execution_count": null,
   "metadata": {},
   "outputs": [],
   "source": [
    "### LOAD CLIP\n",
    "import clip\n",
    "from PIL import Image\n",
    "import torch as th\n",
    "device = \"cuda\" if th.cuda.is_available() else \"cpu\"\n",
    "model, preprocess = clip.load(\"RN50x64\", device=device)\n",
    "image = preprocess(Image.open(\"CLIP.png\")).unsqueeze(0).to(device)\n",
    "with th.no_grad():\n",
    "    image_features = model.encode_image(image)"
   ]
  },
  {
   "cell_type": "code",
   "execution_count": null,
   "metadata": {},
   "outputs": [],
   "source": [
    "### LOAD SVM\n",
    "\n",
    "from sklearn import svm\n",
    "frame_classifier = svm.SVC(kernel='rbf', gamma='scale', C=20)\n",
    " \n",
    "\n",
    "# create GUI window to show an image\n",
    "\n",
    "import matplotlib\n",
    "matplotlib.use(\"Qt5agg\")\n",
    "\n",
    "def get_response(img):\n",
    "    fig = plt.figure()\n",
    "    fig.imshow(img)\n",
    "    \n",
    "    label = input('is this ham? enter for yes, anything else for no')\n",
    "    if label == '':\n",
    "        label = True\n",
    "    else:\n",
    "        label= False\n",
    "\n",
    "    return label"
   ]
  }
 ],
 "metadata": {
  "kernelspec": {
   "display_name": "minerl",
   "language": "python",
   "name": "python3"
  },
  "language_info": {
   "name": "python",
   "version": "3.8.15 (default, Nov 24 2022, 15:19:38) \n[GCC 11.2.0]"
  },
  "orig_nbformat": 4,
  "vscode": {
   "interpreter": {
    "hash": "44f58b348a4d2991bb9cc32651780e86abd4fe788463c217caf1a9850410ed63"
   }
  }
 },
 "nbformat": 4,
 "nbformat_minor": 2
}
