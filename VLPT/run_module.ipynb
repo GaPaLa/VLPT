{
 "cells": [
  {
   "cell_type": "code",
   "execution_count": 7,
   "metadata": {},
   "outputs": [
    {
     "name": "stdout",
     "output_type": "stream",
     "text": [
      "Requirement already satisfied: gym3 in /home/idmi/miniconda3/envs/minerl/lib/python3.8/site-packages (0.3.3)\n",
      "Requirement already satisfied: imageio-ffmpeg<0.4.0,>=0.3.0 in /home/idmi/miniconda3/envs/minerl/lib/python3.8/site-packages (from gym3) (0.3.0)\n",
      "Requirement already satisfied: imageio<3.0.0,>=2.6.0 in /home/idmi/miniconda3/envs/minerl/lib/python3.8/site-packages (from gym3) (2.22.4)\n",
      "Requirement already satisfied: moderngl<6.0.0,>=5.5.4 in /home/idmi/miniconda3/envs/minerl/lib/python3.8/site-packages (from gym3) (5.7.3)\n",
      "Requirement already satisfied: glfw<2.0.0,>=1.8.6 in /home/idmi/miniconda3/envs/minerl/lib/python3.8/site-packages (from gym3) (1.12.0)\n",
      "Requirement already satisfied: numpy<2.0.0,>=1.11.0 in /home/idmi/miniconda3/envs/minerl/lib/python3.8/site-packages (from gym3) (1.21.3)\n",
      "Requirement already satisfied: cffi<2.0.0,>=1.13.0 in /home/idmi/miniconda3/envs/minerl/lib/python3.8/site-packages (from gym3) (1.15.1)\n",
      "Requirement already satisfied: pycparser in /home/idmi/miniconda3/envs/minerl/lib/python3.8/site-packages (from cffi<2.0.0,>=1.13.0->gym3) (2.21)\n",
      "Requirement already satisfied: pillow>=8.3.2 in /home/idmi/miniconda3/envs/minerl/lib/python3.8/site-packages (from imageio<3.0.0,>=2.6.0->gym3) (9.3.0)\n",
      "Requirement already satisfied: glcontext<3,>=2.3.6 in /home/idmi/miniconda3/envs/minerl/lib/python3.8/site-packages (from moderngl<6.0.0,>=5.5.4->gym3) (2.3.7)\n"
     ]
    }
   ],
   "source": [
    "!pip install gym3\n",
    "import lib.util"
   ]
  },
  {
   "cell_type": "code",
   "execution_count": 8,
   "metadata": {},
   "outputs": [],
   "source": [
    "# make module\n",
    "\n",
    "from lib.masked_attention import MaskedAttention\n",
    "#REQUIRES:\n",
    "import functools\n",
    "import torch as th\n",
    "from torch import nn\n",
    "import lib.xf as xf\n",
    "from lib.minecraft_util import store_args\n",
    "from lib.tree_util import tree_map\n",
    "\n",
    "mask_attention_module = MaskedAttention(\n",
    "        input_size=128,\n",
    "        memory_size=256,\n",
    "        heads=2,\n",
    "        timesteps=128,\n",
    "        mask = \"clipped_causal\",\n",
    "        init_scale=1,\n",
    "        norm=\"none\",\n",
    "        log_scope=\"sa\",\n",
    "        use_muP_factor=False)\n",
    "\n"
   ]
  },
  {
   "cell_type": "code",
   "execution_count": 9,
   "metadata": {},
   "outputs": [
    {
     "name": "stdout",
     "output_type": "stream",
     "text": [
      "tensor(-0.0003)\n",
      "torch.Size([1000, 1, 1, 16, 16])\n",
      "tensor(0.0007)\n"
     ]
    }
   ],
   "source": [
    "# put matrix through module\n",
    "\n",
    "import torch as th\n",
    "\n",
    "array = th.normal(0,1,(1000,128,16,16))\n",
    "print(array.mean())\n",
    "array2 = array[:,0,None,None]\n",
    "print(array2.shape)\n",
    "print(array2.mean())\n"
   ]
  },
  {
   "cell_type": "code",
   "execution_count": 10,
   "metadata": {},
   "outputs": [
    {
     "name": "stdout",
     "output_type": "stream",
     "text": [
      "{'input_ids': [[2, 250, 395, 1559, 284, 2625, 34, 56, 127, 1508, 8401, 853, 4506, 81, 23, 173, 4, 2064, 27024, 30, 5, 804, 177, 30689, 459, 36, 5488, 16, 4206, 741, 17137, 43, 50118, 50118, 1106, 5, 1086, 9, 5, 987, 21, 702, 155, 111, 195, 2397, 9, 5, 22845, 7, 65, 2214, 6, 99, 2214, 74, 28, 12461, 28286, 5, 144, 116, 50118, 50118, 100, 3811, 11, 5976, 9, 5, 20, 15227, 4177, 293, 17, 27, 5835, 1273, 31457, 11, 9631, 179, 17, 27, 32190, 6, 13, 162, 6, 24, 17, 27, 29, 95, 4940, 26865, 4]], 'attention_mask': [[1, 1, 1, 1, 1, 1, 1, 1, 1, 1, 1, 1, 1, 1, 1, 1, 1, 1, 1, 1, 1, 1, 1, 1, 1, 1, 1, 1, 1, 1, 1, 1, 1, 1, 1, 1, 1, 1, 1, 1, 1, 1, 1, 1, 1, 1, 1, 1, 1, 1, 1, 1, 1, 1, 1, 1, 1, 1, 1, 1, 1, 1, 1, 1, 1, 1, 1, 1, 1, 1, 1, 1, 1, 1, 1, 1, 1, 1, 1, 1, 1, 1, 1, 1, 1, 1, 1, 1, 1, 1, 1, 1, 1, 1, 1, 1, 1]]}\n"
     ]
    }
   ],
   "source": [
    "from transformers import GPT2Tokenizer\n",
    "tokenizer = GPT2Tokenizer.from_pretrained('facebook/opt-350m')\n",
    "\n",
    "input_string = [\"\"\"A Sunday evening family debate has had my mind whirring over at work. Spurred by the online game Heardle (which is excellent btw)\n",
    "\n",
    "If the whole of the UK was played 3 - 5 seconds of the intro to one song, what song would be correctly guessed the most?\n",
    "\n",
    "I argued in favour of the The Bee Gees’ stunning opening riff in Stayin’ Alive, for me, it’s just totally unforgettable.\"\"\"]\n",
    "\n",
    "input_ids = tokenizer(input_string)\n",
    "\n",
    "print(input_ids)"
   ]
  },
  {
   "cell_type": "code",
   "execution_count": 85,
   "metadata": {},
   "outputs": [
    {
     "name": "stdout",
     "output_type": "stream",
     "text": [
      "{'input_ids': [2, 43, 50118, 50118, 1106], 'attention_mask': [1, 1, 1, 1, 1]}\n",
      "{'input_ids': [2, 100, 236, 7, 1437, 3529, 127, 14678], 'attention_mask': [1, 1, 1, 1, 1, 1, 1, 1]}\n"
     ]
    }
   ],
   "source": [
    "input_ids = tokenizer(\"\"\")\n",
    "\n",
    "If\"\"\")\n",
    "print(input_ids)\n",
    "\n",
    "input_ids = tokenizer(\"I want to  eat my bicycle\")\n",
    "print(input_ids)"
   ]
  }
 ],
 "metadata": {
  "kernelspec": {
   "display_name": "minerl",
   "language": "python",
   "name": "python3"
  },
  "language_info": {
   "codemirror_mode": {
    "name": "ipython",
    "version": 3
   },
   "file_extension": ".py",
   "mimetype": "text/x-python",
   "name": "python",
   "nbconvert_exporter": "python",
   "pygments_lexer": "ipython3",
   "version": "3.8.15"
  },
  "orig_nbformat": 4,
  "vscode": {
   "interpreter": {
    "hash": "5771c508f711f7da473bf0954744d30385b19c5daa239986e839c4dfdaff2669"
   }
  }
 },
 "nbformat": 4,
 "nbformat_minor": 2
}
