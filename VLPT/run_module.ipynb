{
 "cells": [
  {
   "cell_type": "code",
   "execution_count": 1,
   "metadata": {},
   "outputs": [
    {
     "name": "stdout",
     "output_type": "stream",
     "text": [
      "Requirement already satisfied: gym3 in /home/idmi/miniconda3/envs/minerl/lib/python3.8/site-packages (0.3.3)\n",
      "Requirement already satisfied: moderngl<6.0.0,>=5.5.4 in /home/idmi/miniconda3/envs/minerl/lib/python3.8/site-packages (from gym3) (5.7.3)\n",
      "Requirement already satisfied: numpy<2.0.0,>=1.11.0 in /home/idmi/miniconda3/envs/minerl/lib/python3.8/site-packages (from gym3) (1.23.5)\n",
      "Requirement already satisfied: glfw<2.0.0,>=1.8.6 in /home/idmi/miniconda3/envs/minerl/lib/python3.8/site-packages (from gym3) (1.12.0)\n",
      "Requirement already satisfied: imageio-ffmpeg<0.4.0,>=0.3.0 in /home/idmi/miniconda3/envs/minerl/lib/python3.8/site-packages (from gym3) (0.3.0)\n",
      "Requirement already satisfied: cffi<2.0.0,>=1.13.0 in /home/idmi/miniconda3/envs/minerl/lib/python3.8/site-packages (from gym3) (1.15.1)\n",
      "Requirement already satisfied: imageio<3.0.0,>=2.6.0 in /home/idmi/miniconda3/envs/minerl/lib/python3.8/site-packages (from gym3) (2.22.4)\n",
      "Requirement already satisfied: pycparser in /home/idmi/miniconda3/envs/minerl/lib/python3.8/site-packages (from cffi<2.0.0,>=1.13.0->gym3) (2.21)\n",
      "Requirement already satisfied: pillow>=8.3.2 in /home/idmi/miniconda3/envs/minerl/lib/python3.8/site-packages (from imageio<3.0.0,>=2.6.0->gym3) (9.3.0)\n",
      "Requirement already satisfied: glcontext<3,>=2.3.6 in /home/idmi/miniconda3/envs/minerl/lib/python3.8/site-packages (from moderngl<6.0.0,>=5.5.4->gym3) (2.3.7)\n"
     ]
    }
   ],
   "source": [
    "!pip install gym3\n",
    "import lib.util"
   ]
  },
  {
   "cell_type": "code",
   "execution_count": 4,
   "metadata": {},
   "outputs": [],
   "source": [
    "# make module\n",
    "\n",
    "from lib.masked_attention import MaskedAttention\n",
    "#REQUIRES:\n",
    "import functools\n",
    "import torch as th\n",
    "from torch import nn\n",
    "import lib.xf as xf\n",
    "from lib.minecraft_util import store_args\n",
    "from lib.tree_util import tree_map\n",
    "\n",
    "mask_attention_module = MaskedAttention(\n",
    "        input_size=128,\n",
    "        memory_size=256,\n",
    "        heads=2,\n",
    "        timesteps=128,\n",
    "        mask = \"clipped_causal\",\n",
    "        init_scale=1,\n",
    "        norm=\"none\",\n",
    "        log_scope=\"sa\",\n",
    "        use_muP_factor=False)\n",
    "\n"
   ]
  },
  {
   "cell_type": "code",
   "execution_count": null,
   "metadata": {},
   "outputs": [
    {
     "name": "stdout",
     "output_type": "stream",
     "text": [
      "tensor(-8.4675e-05)\n",
      "torch.Size([1000, 1, 1, 16, 16])\n",
      "tensor(0.0011)\n"
     ]
    }
   ],
   "source": [
    "# put matrix through module\n",
    "\n",
    "import torch as th\n",
    "\n",
    "array = th.normal(0,1,(1000,128,16,16))\n",
    "print(array.mean())\n",
    "array2 = array[:,0,None,None]\n",
    "print(array2.shape)\n",
    "print(array2.mean())\n"
   ]
  }
 ],
 "metadata": {
  "kernelspec": {
   "display_name": "minerl",
   "language": "python",
   "name": "python3"
  },
  "language_info": {
   "codemirror_mode": {
    "name": "ipython",
    "version": 3
   },
   "file_extension": ".py",
   "mimetype": "text/x-python",
   "name": "python",
   "nbconvert_exporter": "python",
   "pygments_lexer": "ipython3",
   "version": "3.8.15 (default, Nov 24 2022, 15:19:38) \n[GCC 11.2.0]"
  },
  "orig_nbformat": 4,
  "vscode": {
   "interpreter": {
    "hash": "5771c508f711f7da473bf0954744d30385b19c5daa239986e839c4dfdaff2669"
   }
  }
 },
 "nbformat": 4,
 "nbformat_minor": 2
}
