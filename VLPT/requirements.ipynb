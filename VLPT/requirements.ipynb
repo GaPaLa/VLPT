{
 "cells": [
  {
   "cell_type": "code",
   "execution_count": 1,
   "metadata": {},
   "outputs": [],
   "source": [
    "import os, sys\n",
    "install_dependencies=False\n",
    "if install_dependencies:\n",
    "    #!conda install python=3.8\n",
    "    os.system(\"sudo apt install git\")\n",
    "    os.system(\"sudo add-apt-repository ppa:openjdk-r/ppa && sudo apt-get update && sudo apt-get install openjdk-8-jdk\")\n",
    "    !pip install git+https://github.com/minerllabs/minerl@v1.0.0\n",
    "    !pip install -r \"requirements.txt\"\n",
    "    #language prerequisites \n",
    "    !conda install cudatoolkit=11.3\n",
    "    !pip install transformers\n",
    "    !pip install 'git+https://github.com/katsura-jp/pytorch-cosine-annealing-with-warmup'\n",
    "\n",
    "    !pip install git+https://github.com/jianfch/stable-ts.git\n",
    "    !pip install -U openai-whisper\n",
    "    !sudo apt update && sudo apt install ffmpeg"
   ]
  },
  {
   "cell_type": "code",
   "execution_count": 2,
   "metadata": {},
   "outputs": [
    {
     "data": {
      "application/vnd.jupyter.widget-view+json": {
       "model_id": "7955400704784fdaaf4ad9628c63b90a",
       "version_major": 2,
       "version_minor": 0
      },
      "text/plain": [
       "Downloading (…)lve/main/config.json:   0%|          | 0.00/856 [00:00<?, ?B/s]"
      ]
     },
     "metadata": {},
     "output_type": "display_data"
    },
    {
     "name": "stderr",
     "output_type": "stream",
     "text": [
      "C:\\Users\\gppl20\\AppData\\Roaming\\Python\\Python39\\site-packages\\huggingface_hub\\file_download.py:129: UserWarning: `huggingface_hub` cache-system uses symlinks by default to efficiently store duplicated files but your machine does not support them in C:\\Users\\gppl20\\.cache\\huggingface\\hub. Caching files will still work but in a degraded version that might require more space on your disk. This warning can be disabled by setting the `HF_HUB_DISABLE_SYMLINKS_WARNING` environment variable. For more details, see https://huggingface.co/docs/huggingface_hub/how-to-cache#limitations.\n",
      "To support symlinks on Windows, you either need to activate Developer Mode or to run Python as an administrator. In order to see activate developer mode, see this article: https://docs.microsoft.com/en-us/windows/apps/get-started/enable-your-device-for-development\n",
      "  warnings.warn(message)\n"
     ]
    },
    {
     "data": {
      "application/vnd.jupyter.widget-view+json": {
       "model_id": "ec891013f2314d3b8952644ccab77496",
       "version_major": 2,
       "version_minor": 0
      },
      "text/plain": [
       "Downloading (…)\"pytorch_model.bin\";:   0%|          | 0.00/1.14G [00:00<?, ?B/s]"
      ]
     },
     "metadata": {},
     "output_type": "display_data"
    },
    {
     "data": {
      "application/vnd.jupyter.widget-view+json": {
       "model_id": "20128b9fddff4d79869ec1113fca3b5e",
       "version_major": 2,
       "version_minor": 0
      },
      "text/plain": [
       "Downloading (…)neration_config.json:   0%|          | 0.00/95.0 [00:00<?, ?B/s]"
      ]
     },
     "metadata": {},
     "output_type": "display_data"
    }
   ],
   "source": [
    "############## WINDOWS\n",
    "import os, sys\n",
    "install_dependencies=False\n",
    "if install_dependencies:\n",
    "    #!conda install python=3.8\n",
    "    #os.system(\"sudo apt install git\")\n",
    "    #os.system(\"sudo add-apt-repository ppa:openjdk-r/ppa && sudo apt-get update && sudo apt-get install openjdk-8-jdk\")\n",
    "    #!pip install git+https://github.com/minerllabs/minerl@v1.0.0\n",
    "    #!pip install -r \"requirements.txt\"\n",
    "    #language prerequisites \n",
    "    #!conda install cudatoolkit=11.3\n",
    "    !pip install transformers\n",
    "    !pip install git+https://github.com/katsura-jp/pytorch-cosine-annealing-with-warmup\n",
    "\n",
    "    #!pip install git+https://github.com/jianfch/stable-ts.git\n",
    "    #!pip install -U openai-whisper\n",
    "    #!sudo apt update && sudo apt install ffmpeg\n",
    "\n",
    "    !pip install gym==0.19\n",
    "    !pip install gym3\n",
    "    !pip install attrs\n",
    "    !pip install opencv-python\n",
    "\n",
    "    !pip install --no-deps git+https://github.com/minerllabs/minerl@v0.3.7\n",
    "    !pip install coloredlogs\n",
    "    !pip install \"numpy<1.24.0\"\n",
    "from transformers import TransfoXLLMHeadModel\n",
    "LM = TransfoXLLMHeadModel.from_pretrained(\"transfo-xl-wt103\") #, @later, load from stored weights\n"
   ]
  },
  {
   "cell_type": "code",
   "execution_count": 1,
   "metadata": {},
   "outputs": [
    {
     "name": "stdout",
     "output_type": "stream",
     "text": [
      "Defaulting to user installation because normal site-packages is not writeable\n",
      "Collecting git+https://github.com/minerllabs/minerl@v1.0.0\n",
      "  Cloning https://github.com/minerllabs/minerl (to revision v1.0.0) to c:\\users\\gppl20\\appdata\\local\\temp\\pip-req-build-hcou__r0\n",
      "  Resolved https://github.com/minerllabs/minerl to commit c0e07f204ae45982536dba85701c094695641e0b\n"
     ]
    },
    {
     "name": "stderr",
     "output_type": "stream",
     "text": [
      "  Running command git clone -q https://github.com/minerllabs/minerl 'C:\\Users\\gppl20\\AppData\\Local\\Temp\\pip-req-build-hcou__r0'\n",
      "  Running command git checkout -b v1.0.0 --track origin/v1.0.0\n",
      "  branch 'v1.0.0' set up to track 'origin/v1.0.0'.\n",
      "  Switched to a new branch 'v1.0.0'\n",
      "    ERROR: Command errored out with exit status 1:\n",
      "     command: 'C:\\ProgramData\\Anaconda3\\python.exe' -c 'import io, os, sys, setuptools, tokenize; sys.argv[0] = '\"'\"'C:\\\\Users\\\\gppl20\\\\AppData\\\\Local\\\\Temp\\\\pip-req-build-hcou__r0\\\\setup.py'\"'\"'; __file__='\"'\"'C:\\\\Users\\\\gppl20\\\\AppData\\\\Local\\\\Temp\\\\pip-req-build-hcou__r0\\\\setup.py'\"'\"';f = getattr(tokenize, '\"'\"'open'\"'\"', open)(__file__) if os.path.exists(__file__) else io.StringIO('\"'\"'from setuptools import setup; setup()'\"'\"');code = f.read().replace('\"'\"'\\r\\n'\"'\"', '\"'\"'\\n'\"'\"');f.close();exec(compile(code, __file__, '\"'\"'exec'\"'\"'))' egg_info --egg-base 'C:\\Users\\gppl20\\AppData\\Local\\Temp\\pip-pip-egg-info-yr7jgi7y'\n",
      "         cwd: C:\\Users\\gppl20\\AppData\\Local\\Temp\\pip-req-build-hcou__r0\\\n",
      "    Complete output (15 lines):\n",
      "    Traceback (most recent call last):\n",
      "      File \"<string>\", line 1, in <module>\n",
      "      File \"C:\\Users\\gppl20\\AppData\\Local\\Temp\\pip-req-build-hcou__r0\\setup.py\", line 215, in <module>\n",
      "        prep_mcp()\n",
      "      File \"C:\\Users\\gppl20\\AppData\\Local\\Temp\\pip-req-build-hcou__r0\\setup.py\", line 136, in prep_mcp\n",
      "        setup_output = subprocess.check_output(['bash.exe', 'setup_mcp.sh']).decode()\n",
      "      File \"C:\\ProgramData\\Anaconda3\\lib\\subprocess.py\", line 424, in check_output\n",
      "        return run(*popenargs, stdout=PIPE, timeout=timeout, check=True,\n",
      "      File \"C:\\ProgramData\\Anaconda3\\lib\\subprocess.py\", line 505, in run\n",
      "        with Popen(*popenargs, **kwargs) as process:\n",
      "      File \"C:\\ProgramData\\Anaconda3\\lib\\subprocess.py\", line 951, in __init__\n",
      "        self._execute_child(args, executable, preexec_fn, close_fds,\n",
      "      File \"C:\\ProgramData\\Anaconda3\\lib\\subprocess.py\", line 1420, in _execute_child\n",
      "        hp, ht, pid, tid = _winapi.CreateProcess(executable, args,\n",
      "    FileNotFoundError: [WinError 2] The system cannot find the file specified\n",
      "    ----------------------------------------\n",
      "WARNING: Discarding git+https://github.com/minerllabs/minerl@v1.0.0. Command errored out with exit status 1: python setup.py egg_info Check the logs for full command output.\n",
      "ERROR: Command errored out with exit status 1: python setup.py egg_info Check the logs for full command output.\n"
     ]
    }
   ],
   "source": [
    "!pip install --no-deps git+https://github.com/minerllabs/minerl@v1.0.0\n"
   ]
  },
  {
   "cell_type": "code",
   "execution_count": 2,
   "metadata": {},
   "outputs": [],
   "source": [
    "############################################### LINUX\n",
    "import sys, os\n",
    "modify_transfo_xl_files = True\n",
    "if modify_transfo_xl_files:\n",
    "\n",
    "    transfo_xl_dir = sys.exec_prefix + \"/lib/python3.8/site-packages/transformers/models/transfo_xl/\"\n",
    "\n",
    "    modelling_name = 'modeling_transfo_xl.py'\n",
    "    os.rename(transfo_xl_dir+modelling_name , transfo_xl_dir+modelling_name+'.bak')\n",
    "    os.system( 'cp '+modelling_name +' '+ transfo_xl_dir+modelling_name)\n",
    "\n",
    "    utilities_name = 'modeling_transfo_xl_utilities.py'\n",
    "    os.rename(transfo_xl_dir+utilities_name , transfo_xl_dir+utilities_name+'.bak')\n",
    "    os.system( 'cp '+utilities_name +' '+ transfo_xl_dir+utilities_name)"
   ]
  },
  {
   "cell_type": "code",
   "execution_count": 9,
   "metadata": {},
   "outputs": [],
   "source": [
    "##########################################     WINDOWS\n",
    "\n",
    "modify_transfo_xl_files = True\n",
    "if modify_transfo_xl_files:\n",
    "\n",
    "    transfo_xl_dir = \"C:\\\\Users\\\\gppl20\\\\AppData\\\\Roaming\\\\Python\\\\Python39\\\\site-packages\\\\transformers\\\\models\\\\transfo_xl\\\\\"\n",
    "\n",
    "    modelling_name = 'modeling_transfo_xl.py'\n",
    "    #os.rename(transfo_xl_dir+modelling_name , transfo_xl_dir+modelling_name+'.bak')\n",
    "    os.system( 'cp '+modelling_name +' '+ transfo_xl_dir+modelling_name)\n",
    "\n",
    "    utilities_name = 'modeling_transfo_xl_utilities.py'\n",
    "    #os.rename(transfo_xl_dir+utilities_name , transfo_xl_dir+utilities_name+'.bak')\n",
    "    os.system( 'cp '+utilities_name +' '+ transfo_xl_dir+utilities_name)"
   ]
  },
  {
   "cell_type": "code",
   "execution_count": 10,
   "metadata": {},
   "outputs": [
    {
     "ename": "ModuleNotFoundError",
     "evalue": "No module named 'minerl'",
     "output_type": "error",
     "traceback": [
      "\u001b[1;31m---------------------------------------------------------------------------\u001b[0m",
      "\u001b[1;31mModuleNotFoundError\u001b[0m                       Traceback (most recent call last)",
      "\u001b[1;32md:\\VLPT\\VLPT\\requirements.ipynb Cell 6'\u001b[0m in \u001b[0;36m<cell line: 1>\u001b[1;34m()\u001b[0m\n\u001b[1;32m----> <a href='vscode-notebook-cell:/d%3A/VLPT/VLPT/requirements.ipynb#ch0000008?line=0'>1</a>\u001b[0m \u001b[39mimport\u001b[39;00m \u001b[39mminerl\u001b[39;00m\n",
      "\u001b[1;31mModuleNotFoundError\u001b[0m: No module named 'minerl'"
     ]
    }
   ],
   "source": [
    "import minerl"
   ]
  },
  {
   "cell_type": "code",
   "execution_count": 8,
   "metadata": {},
   "outputs": [
    {
     "data": {
      "text/plain": [
       "'d:\\\\VLPT\\\\VLPT'"
      ]
     },
     "execution_count": 8,
     "metadata": {},
     "output_type": "execute_result"
    }
   ],
   "source": [
    "os.getcwd()"
   ]
  },
  {
   "cell_type": "code",
   "execution_count": 1,
   "metadata": {},
   "outputs": [
    {
     "name": "stdout",
     "output_type": "stream",
     "text": [
      "Defaulting to user installation because normal site-packages is not writeable\n",
      "Looking in indexes: https://pypi.org/simple, https://download.pytorch.org/whl/cu117\n",
      "Collecting torch\n",
      "  Downloading https://download.pytorch.org/whl/cu117/torch-1.13.1%2Bcu117-cp39-cp39-win_amd64.whl (2255.6 MB)\n",
      "Collecting torchvision\n",
      "  Downloading https://download.pytorch.org/whl/cu117/torchvision-0.14.1%2Bcu117-cp39-cp39-win_amd64.whl (4.8 MB)\n",
      "Collecting torchaudio\n",
      "  Downloading https://download.pytorch.org/whl/cu117/torchaudio-0.13.1%2Bcu117-cp39-cp39-win_amd64.whl (2.3 MB)\n",
      "Collecting typing-extensions\n",
      "  Downloading typing_extensions-4.5.0-py3-none-any.whl (27 kB)\n",
      "Collecting pillow!=8.3.*,>=5.3.0\n",
      "  Downloading Pillow-9.4.0-cp39-cp39-win_amd64.whl (2.5 MB)\n",
      "Collecting requests\n",
      "  Downloading requests-2.28.2-py3-none-any.whl (62 kB)\n",
      "Collecting numpy\n",
      "  Downloading numpy-1.24.2-cp39-cp39-win_amd64.whl (14.9 MB)\n",
      "Collecting certifi>=2017.4.17\n",
      "  Downloading certifi-2022.12.7-py3-none-any.whl (155 kB)\n",
      "Collecting charset-normalizer<4,>=2\n",
      "  Downloading charset_normalizer-3.0.1-cp39-cp39-win_amd64.whl (96 kB)\n",
      "Collecting idna<4,>=2.5\n",
      "  Downloading idna-3.4-py3-none-any.whl (61 kB)\n",
      "Collecting urllib3<1.27,>=1.21.1\n",
      "  Downloading urllib3-1.26.14-py2.py3-none-any.whl (140 kB)\n",
      "Installing collected packages: urllib3, typing-extensions, idna, charset-normalizer, certifi, torch, requests, pillow, numpy, torchvision, torchaudio\n",
      "  Attempting uninstall: torchvision\n",
      "    Found existing installation: torchvision 0.14.1\n",
      "    Uninstalling torchvision-0.14.1:\n",
      "      Successfully uninstalled torchvision-0.14.1\n"
     ]
    },
    {
     "name": "stderr",
     "output_type": "stream",
     "text": [
      "  WARNING: The script normalizer.exe is installed in 'C:\\Users\\gppl20\\AppData\\Roaming\\Python\\Python39\\Scripts' which is not on PATH.\n",
      "  Consider adding this directory to PATH or, if you prefer to suppress this warning, use --no-warn-script-location.\n",
      "  WARNING: The scripts convert-caffe2-to-onnx.exe, convert-onnx-to-caffe2.exe and torchrun.exe are installed in 'C:\\Users\\gppl20\\AppData\\Roaming\\Python\\Python39\\Scripts' which is not on PATH.\n",
      "  Consider adding this directory to PATH or, if you prefer to suppress this warning, use --no-warn-script-location.\n",
      "  WARNING: The script f2py.exe is installed in 'C:\\Users\\gppl20\\AppData\\Roaming\\Python\\Python39\\Scripts' which is not on PATH.\n",
      "  Consider adding this directory to PATH or, if you prefer to suppress this warning, use --no-warn-script-location.\n",
      "ERROR: Could not install packages due to an OSError: [WinError 5] Access is denied: 'C:\\\\Users\\\\gppl20\\\\AppData\\\\Roaming\\\\Python\\\\Python39\\\\site-packages\\\\~orchvision\\\\image.pyd'\n",
      "Check the permissions.\n",
      "\n"
     ]
    }
   ],
   "source": [
    "!pip install --force-reinstall torch torchvision torchaudio --extra-index-url https://download.pytorch.org/whl/cu117"
   ]
  },
  {
   "cell_type": "code",
   "execution_count": 4,
   "metadata": {},
   "outputs": [
    {
     "data": {
      "text/plain": [
       "'c:\\\\ProgramData\\\\Anaconda3'"
      ]
     },
     "execution_count": 4,
     "metadata": {},
     "output_type": "execute_result"
    }
   ],
   "source": [
    "sys.exec_prefix"
   ]
  }
 ],
 "metadata": {
  "kernelspec": {
   "display_name": "Python 3.9.12 ('base')",
   "language": "python",
   "name": "python3"
  },
  "language_info": {
   "codemirror_mode": {
    "name": "ipython",
    "version": 3
   },
   "file_extension": ".py",
   "mimetype": "text/x-python",
   "name": "python",
   "nbconvert_exporter": "python",
   "pygments_lexer": "ipython3",
   "version": "3.9.12"
  },
  "vscode": {
   "interpreter": {
    "hash": "ad2bdc8ecc057115af97d19610ffacc2b4e99fae6737bb82f5d7fb13d2f2c186"
   }
  }
 },
 "nbformat": 4,
 "nbformat_minor": 2
}
