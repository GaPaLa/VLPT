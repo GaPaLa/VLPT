{
 "cells": [
  {
   "cell_type": "code",
   "execution_count": 1,
   "metadata": {},
   "outputs": [],
   "source": [
    "import os, sys\n",
    "install_dependencies=False\n",
    "if install_dependencies:\n",
    "    !conda install python=3.8\n",
    "    os.system(\"sudo apt install git\")\n",
    "    os.system(\"sudo add-apt-repository ppa:openjdk-r/ppa && sudo apt-get update && sudo apt-get install openjdk-8-jdk\")\n",
    "    !pip install git+https://github.com/minerllabs/minerl@v1.0.0\n",
    "    !pip install -r \"requirements.txt\"\n",
    "    #language prerequisites \n",
    "    !conda install cudatoolkit=11.3\n",
    "    !pip install transformers\n",
    "\n",
    "\n"
   ]
  },
  {
   "cell_type": "code",
   "execution_count": 14,
   "metadata": {},
   "outputs": [],
   "source": [
    "modify_python = True\n",
    "if modify_python:\n",
    "\n",
    "    transfo_xl_dir = sys.exec_prefix + \"/lib/python3.8/site-packages/transformers/models/transfo_xl/\"\n",
    "\n",
    "    modelling_name = 'modeling_transfo_xl.py'\n",
    "    os.rename(transfo_xl_dir+modelling_name , transfo_xl_dir+modelling_name+'.bak')\n",
    "    os.system( 'cp '+modelling_name +' '+ transfo_xl_dir+modelling_name)\n",
    "\n",
    "    utilities_name = 'modeling_transfo_xl_utilities.py'\n",
    "    os.rename(transfo_xl_dir+utilities_name , transfo_xl_dir+utilities_name+'.bak')\n",
    "    os.system( 'cp '+utilities_name +' '+ transfo_xl_dir+utilities_name)\n"
   ]
  }
 ],
 "metadata": {
  "kernelspec": {
   "display_name": "minerl",
   "language": "python",
   "name": "python3"
  },
  "language_info": {
   "codemirror_mode": {
    "name": "ipython",
    "version": 3
   },
   "file_extension": ".py",
   "mimetype": "text/x-python",
   "name": "python",
   "nbconvert_exporter": "python",
   "pygments_lexer": "ipython3",
   "version": "3.8.15"
  },
  "orig_nbformat": 4,
  "vscode": {
   "interpreter": {
    "hash": "5771c508f711f7da473bf0954744d30385b19c5daa239986e839c4dfdaff2669"
   }
  }
 },
 "nbformat": 4,
 "nbformat_minor": 2
}
